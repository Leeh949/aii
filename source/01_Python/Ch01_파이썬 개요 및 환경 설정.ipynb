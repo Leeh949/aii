{
 "cells": [
  {
   "cell_type": "code",
   "execution_count": 4,
   "id": "2256f89f",
   "metadata": {},
   "outputs": [
    {
     "data": {
      "text/html": [
       "\n",
       "<style>\n",
       "div.container{width:90% !important;}\n",
       "div.cell.code_cell.rendered{width:100%;}\n",
       "div.input_prompt{padding:0px;}\n",
       "div.CodeMirror {font-family:Consolas; font-size:12pt;}\n",
       "div.text_cell_render.rendered_html{font-size:12pt;}\n",
       "div.output {font-size:12pt; font-weight:bold;}\n",
       "div.input {font-family:Consolas; font-size:12pt;}\n",
       "div.prompt {min-width:70px;}\n",
       "div#toc-wrapper{padding-top:120px;}\n",
       "div.text_cell_render ul li{font-size:12pt;padding:5px;}\n",
       "table.dataframe{font-size:12px;}\n",
       "</style>\n"
      ],
      "text/plain": [
       "<IPython.core.display.HTML object>"
      ]
     },
     "metadata": {},
     "output_type": "display_data"
    }
   ],
   "source": [
    "from IPython.display import display, HTML\n",
    "display(HTML(\"\"\"\n",
    "<style>\n",
    "div.container{width:90% !important;}\n",
    "div.cell.code_cell.rendered{width:100%;}\n",
    "div.input_prompt{padding:0px;}\n",
    "div.CodeMirror {font-family:Consolas; font-size:12pt;}\n",
    "div.text_cell_render.rendered_html{font-size:12pt;}\n",
    "div.output {font-size:12pt; font-weight:bold;}\n",
    "div.input {font-family:Consolas; font-size:12pt;}\n",
    "div.prompt {min-width:70px;}\n",
    "div#toc-wrapper{padding-top:120px;}\n",
    "div.text_cell_render ul li{font-size:12pt;padding:5px;}\n",
    "table.dataframe{font-size:12px;}\n",
    "</style>\n",
    "\"\"\"))\n"
   ]
  },
  {
   "cell_type": "markdown",
   "id": "842fda46",
   "metadata": {},
   "source": [
    "<b><font size= \"6\" color=\"red\">ch01. 파이썬 개요 및 환경 설정</font></b> \n",
    "# 1. 마크다운이란?\n",
    "- 코드와 함께 문서화를 할 수 있음\n",
    "- 다양한 문서화 문법 ex. README.md\n",
    "- (ESC + M)\n",
    "\n",
    "# 2. 주피터 노트북 사용법(큰제목)\n",
    "- shift + enter : 포커스된 셀이 실행되고, 커서가 다음셀로 이동\n",
    "- alt + Enter: 포커스 된 셀이 실행되고, 다음셀이 생성된 후, 다음셀로 이동\n",
    "- ctrl + Enter: 포커스 된 셀이 실행되고, 포커스 이동이 없음\n",
    "- Enter : 다시 편집 상태로 돌아간다.\n",
    "- D = 셀 지움, \\n = 줄 바꿈, # = 주석 \n",
    "- 파이썬은 강제변환을 변수이름에 괄호를 씌운다."
   ]
  },
  {
   "cell_type": "code",
   "execution_count": null,
   "id": "3a18037b",
   "metadata": {},
   "outputs": [],
   "source": [
    "#셀 하나하나 파이썬 소스 입력-> 실행"
   ]
  },
  {
   "cell_type": "code",
   "execution_count": 6,
   "id": "07212dec",
   "metadata": {},
   "outputs": [
    {
     "name": "stdout",
     "output_type": "stream",
     "text": [
      "Hello, Python\n",
      "홍길동\n"
     ]
    }
   ],
   "source": [
    "# print()함수를 이용해서 출력 (블럭잡고 ctrl+/ : 블럭주석 토글)\n",
    "# print(\"Hello, Python\")\n",
    "# print('홍길동')\n",
    "print(\"Hello, Python\\n홍길동\")"
   ]
  },
  {
   "cell_type": "code",
   "execution_count": 14,
   "id": "c9a34e57",
   "metadata": {},
   "outputs": [
    {
     "name": "stdout",
     "output_type": "stream",
     "text": [
      "27\n",
      "252\n"
     ]
    }
   ],
   "source": [
    "age = 25 #숫자\n",
    "duration = \"2\" #문자\n",
    "print(age + int(duration))\n",
    "print(str(age) + duration)\n",
    "#view 메뉴 -> toggle line Number 선택\n"
   ]
  },
  {
   "cell_type": "code",
   "execution_count": 2,
   "id": "0755b598",
   "metadata": {},
   "outputs": [],
   "source": [
    "# for i int range(10):\n",
    "#    print(i)\n",
    "# stop 기능\n",
    "# kernel메뉴의 restart "
   ]
  },
  {
   "cell_type": "markdown",
   "id": "9cb0c615",
   "metadata": {},
   "source": [
    "# 3. ESC키 누르고\n",
    "- dd: 셀 삭제\n",
    "- a: 윗셀 추가\n",
    "- b:아랫셀 추가\n",
    "- m: 마크다운\n",
    "- y: 코드셀로 변경\n",
    "- h: 핫키(단축키)안내\n",
    "- o: 해당셀의 실행결과 접기/펴기"
   ]
  },
  {
   "cell_type": "code",
   "execution_count": 11,
   "id": "21272541",
   "metadata": {},
   "outputs": [
    {
     "name": "stdout",
     "output_type": "stream",
     "text": [
      " C 드라이브의 볼륨에는 이름이 없습니다.\n",
      " 볼륨 일련 번호: A014-DCD6\n",
      "\n",
      " C:\\aii\\source\\01_Python 디렉터리\n",
      "\n",
      "2025-09-12  오전 10:50    <DIR>          .\n",
      "2025-09-12  오전 10:50    <DIR>          ..\n",
      "2025-09-11  오후 05:28    <DIR>          .ipynb_checkpoints\n",
      "2025-09-12  오전 10:50             5,250 Ch01_파이썬 개요 및 환경 설정.ipynb\n",
      "               1개 파일               5,250 바이트\n",
      "               3개 디렉터리  167,746,052,096 바이트 남음\n"
     ]
    }
   ],
   "source": [
    "# 주피터에서 !누르면  cmd 명령어 수행\n",
    "!dir "
   ]
  },
  {
   "cell_type": "code",
   "execution_count": 13,
   "id": "316f30e4",
   "metadata": {},
   "outputs": [
    {
     "name": "stdout",
     "output_type": "stream",
     "text": [
      " C 드라이브의 볼륨에는 이름이 없습니다.\n",
      " 볼륨 일련 번호: A014-DCD6\n",
      "\n",
      " C:\\aii\\source\\01_Python 디렉터리\n",
      "\n",
      "2025-09-12  오전 10:52    <DIR>          .\n",
      "2025-09-12  오전 10:52    <DIR>          ..\n",
      "2025-09-11  오후 05:28    <DIR>          .ipynb_checkpoints\n",
      "2025-09-12  오전 10:52             6,219 Ch01_파이썬 개요 및 환경 설정.ipynb\n",
      "               1개 파일               6,219 바이트\n",
      "               3개 디렉터리  167,745,609,728 바이트 남음\n"
     ]
    }
   ],
   "source": [
    "# 매직 명령어 (주피터 자체 명령어)\n",
    "%ls"
   ]
  },
  {
   "cell_type": "code",
   "execution_count": null,
   "id": "91eb0dec",
   "metadata": {},
   "outputs": [],
   "source": []
  }
 ],
 "metadata": {
  "kernelspec": {
   "display_name": "Python 3 (ipykernel)",
   "language": "python",
   "name": "python3"
  },
  "language_info": {
   "codemirror_mode": {
    "name": "ipython",
    "version": 3
   },
   "file_extension": ".py",
   "mimetype": "text/x-python",
   "name": "python",
   "nbconvert_exporter": "python",
   "pygments_lexer": "ipython3",
   "version": "3.10.9"
  },
  "toc": {
   "base_numbering": 1,
   "nav_menu": {},
   "number_sections": false,
   "sideBar": true,
   "skip_h1_title": false,
   "title_cell": "Table of Contents",
   "title_sidebar": "Contents",
   "toc_cell": false,
   "toc_position": {
    "height": "calc(100% - 180px)",
    "left": "10px",
    "top": "150px",
    "width": "179.261px"
   },
   "toc_section_display": true,
   "toc_window_display": true
  }
 },
 "nbformat": 4,
 "nbformat_minor": 5
}
