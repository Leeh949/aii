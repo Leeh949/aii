{
 "cells": [
  {
   "cell_type": "code",
   "execution_count": 1,
   "id": "66a91b5b",
   "metadata": {},
   "outputs": [
    {
     "data": {
      "text/html": [
       "\n",
       "<style>\n",
       "div.container{width:90% !important;}\n",
       "div.cell.code_cell.rendered{width:100%;}\n",
       "div.input_prompt{padding:0px;}\n",
       "div.CodeMirror {font-family:Consolas; font-size:12pt;}\n",
       "div.text_cell_render.rendered_html{font-size:12pt;}\n",
       "div.output {font-size:12pt; font-weight:bold;}\n",
       "div.input {font-family:Consolas; font-size:12pt;}\n",
       "div.prompt {min-width:70px;}\n",
       "div#toc-wrapper{padding-top:120px;}\n",
       "div.text_cell_render ul li{font-size:12pt;padding:5px;}\n",
       "table.dataframe{font-size:12px;}\n",
       "</style>\n"
      ],
      "text/plain": [
       "<IPython.core.display.HTML object>"
      ]
     },
     "metadata": {},
     "output_type": "display_data"
    }
   ],
   "source": [
    "from IPython.display import display, HTML\n",
    "display(HTML(\"\"\"\n",
    "<style>\n",
    "div.container{width:90% !important;}\n",
    "div.cell.code_cell.rendered{width:100%;}\n",
    "div.input_prompt{padding:0px;}\n",
    "div.CodeMirror {font-family:Consolas; font-size:12pt;}\n",
    "div.text_cell_render.rendered_html{font-size:12pt;}\n",
    "div.output {font-size:12pt; font-weight:bold;}\n",
    "div.input {font-family:Consolas; font-size:12pt;}\n",
    "div.prompt {min-width:70px;}\n",
    "div#toc-wrapper{padding-top:120px;}\n",
    "div.text_cell_render ul li{font-size:12pt;padding:5px;}\n",
    "table.dataframe{font-size:12px;}\n",
    "</style>\n",
    "\"\"\"))\n"
   ]
  },
  {
   "cell_type": "markdown",
   "id": "e4f3dadf",
   "metadata": {},
   "source": [
    "<b><font size= \"6\" color=\"red\">ch02. 자료형과 연산자</font></b>\n",
    "# 1절. 변수\n",
    "- 변수: 프로그램 작업 처리를 위해, 값을 저장할 수 있는 메모리 공간\n",
    "- 파이썬은 변수 선언을 위한 타입이 없고, 별도의 선언 과정도 없음\n",
    "\n",
    "## 1.1 변수 할당\n",
    "- 할당 연산자(=)을 이용해서 값을 할당하면 자료형(타입) 이 셋팅\n",
    "- **파이썬에서의 모든 변수는 객체로 저장**\n",
    "\n"
   ]
  },
  {
   "cell_type": "code",
   "execution_count": 13,
   "id": "40f42642",
   "metadata": {},
   "outputs": [
    {
     "name": "stdout",
     "output_type": "stream",
     "text": [
      "넓이 : 78.5\n"
     ]
    }
   ],
   "source": [
    "r = 5\n",
    "area = 3.14 * r * r\n",
    "print('넓이 :', area)"
   ]
  },
  {
   "cell_type": "code",
   "execution_count": 3,
   "id": "5f037cac",
   "metadata": {},
   "outputs": [
    {
     "ename": "NameError",
     "evalue": "name 'r' is not defined",
     "output_type": "error",
     "traceback": [
      "\u001b[1;31m---------------------------------------------------------------------------\u001b[0m",
      "\u001b[1;31mNameError\u001b[0m                                 Traceback (most recent call last)",
      "Cell \u001b[1;32mIn[3], line 2\u001b[0m\n\u001b[0;32m      1\u001b[0m \u001b[38;5;28;01mimport\u001b[39;00m \u001b[38;5;21;01mnumpy\u001b[39;00m \u001b[38;5;28;01mas\u001b[39;00m \u001b[38;5;21;01mnp\u001b[39;00m \u001b[38;5;66;03m# numpy패키지를 np라는 이름으로 사용\u001b[39;00m\n\u001b[1;32m----> 2\u001b[0m area \u001b[38;5;241m=\u001b[39m np\u001b[38;5;241m.\u001b[39mpi \u001b[38;5;241m*\u001b[39m \u001b[43mr\u001b[49m \u001b[38;5;241m*\u001b[39m r\n\u001b[0;32m      3\u001b[0m \u001b[38;5;28mprint\u001b[39m (\u001b[38;5;124m'\u001b[39m\u001b[38;5;124m넓이: \u001b[39m\u001b[38;5;124m'\u001b[39m, area)\n",
      "\u001b[1;31mNameError\u001b[0m: name 'r' is not defined"
     ]
    }
   ],
   "source": [
    "import numpy as np # numpy패키지를 np라는 이름으로 사용\n",
    "area = np.pi * r * r\n",
    "print ('넓이: ', area)\n"
   ]
  },
  {
   "cell_type": "code",
   "execution_count": 39,
   "id": "5150ce65",
   "metadata": {},
   "outputs": [
    {
     "name": "stdout",
     "output_type": "stream",
     "text": [
      "area의 주소:  1558042687312\n",
      "area의 타입:  <class 'float'>\n"
     ]
    }
   ],
   "source": [
    "area = np.pi\n",
    "print ('area의 주소: ',id(area))\n",
    "print('area의 타입: ', type(area))"
   ]
  },
  {
   "cell_type": "code",
   "execution_count": 38,
   "id": "f8aefa02",
   "metadata": {},
   "outputs": [
    {
     "name": "stdout",
     "output_type": "stream",
     "text": [
      "area의 주소:  1557931491856\n",
      "area의 타입:  <class 'int'>\n"
     ]
    }
   ],
   "source": [
    "area = 10\n",
    "print ('area의 주소: ',id(area))\n",
    "print('area의 타입: ', type(area))"
   ]
  },
  {
   "cell_type": "code",
   "execution_count": 37,
   "id": "da4889e4",
   "metadata": {},
   "outputs": [
    {
     "ename": "AttributeError",
     "evalue": "'str' object has no attribute 'is_integer'",
     "output_type": "error",
     "traceback": [
      "\u001b[1;31m---------------------------------------------------------------------------\u001b[0m",
      "\u001b[1;31mAttributeError\u001b[0m                            Traceback (most recent call last)",
      "Cell \u001b[1;32mIn[37], line 1\u001b[0m\n\u001b[1;32m----> 1\u001b[0m \u001b[43marea\u001b[49m\u001b[38;5;241;43m.\u001b[39;49m\u001b[43mis_integer\u001b[49m()\n",
      "\u001b[1;31mAttributeError\u001b[0m: 'str' object has no attribute 'is_integer'"
     ]
    }
   ],
   "source": [
    "area.is_integer()"
   ]
  },
  {
   "cell_type": "code",
   "execution_count": 36,
   "id": "5bdc6370",
   "metadata": {},
   "outputs": [
    {
     "name": "stdout",
     "output_type": "stream",
     "text": [
      "area의 주소:  1558047958448\n",
      "area의 타입:  <class 'str'>\n"
     ]
    }
   ],
   "source": [
    "area = \"파이썬\"\n",
    "print ('area의 주소: ',id(area))\n",
    "print('area의 타입: ', type(area))"
   ]
  },
  {
   "cell_type": "markdown",
   "id": "115490a1",
   "metadata": {},
   "source": [
    "## 1.2 변수(함수) 이름 규칙\n",
    "- 문자로 시작\n",
    "- 문자(특수문자는 _외에는 불가능), 숫자, _로 변수명 작성\n",
    "- 함수명은 변수명으로 사용가능하나 피한다. 꼭 써야하면 str_식으로 사용한다\n",
    "- 한글 변수는 꼭 필요시에만 사용"
   ]
  },
  {
   "cell_type": "code",
   "execution_count": 42,
   "id": "93d9d2b4",
   "metadata": {},
   "outputs": [
    {
     "name": "stdout",
     "output_type": "stream",
     "text": [
      "홍길동\n"
     ]
    }
   ],
   "source": [
    "이름 = \"홍길동\" # 비추\n",
    "print(이름)"
   ]
  },
  {
   "cell_type": "code",
   "execution_count": null,
   "id": "c839c45a",
   "metadata": {},
   "outputs": [],
   "source": [
    "# member.name = \"홍길동\"\n",
    "member_name =\"홍길동\"\n",
    "memberName = \"홍길동\"\n",
    "print(member_name, memberName)"
   ]
  },
  {
   "cell_type": "code",
   "execution_count": 47,
   "id": "36569c34",
   "metadata": {},
   "outputs": [
    {
     "name": "stdout",
     "output_type": "stream",
     "text": [
      "<class 'complex'>\n"
     ]
    }
   ],
   "source": [
    "# 숫자 : 정수, 실수, 복소수\n",
    "i = 1 + 3j # 복소수\n",
    "print(type(i))"
   ]
  },
  {
   "cell_type": "code",
   "execution_count": 50,
   "id": "30fd2235",
   "metadata": {},
   "outputs": [
    {
     "data": {
      "text/plain": [
       "True"
      ]
     },
     "execution_count": 50,
     "metadata": {},
     "output_type": "execute_result"
    }
   ],
   "source": [
    "isinstance (i, complex) # i 라는 변수가 컴플렉스 타입인지 확인"
   ]
  },
  {
   "cell_type": "code",
   "execution_count": 51,
   "id": "a255f20b",
   "metadata": {},
   "outputs": [
    {
     "data": {
      "text/plain": [
       "False"
      ]
     },
     "execution_count": 51,
     "metadata": {},
     "output_type": "execute_result"
    }
   ],
   "source": [
    "isinstance (i, int) #i라는 변수가 int타입의 객체인지?"
   ]
  },
  {
   "cell_type": "markdown",
   "id": "9a0f09fe",
   "metadata": {},
   "source": [
    "## 1.3다중 변수 선언"
   ]
  },
  {
   "cell_type": "code",
   "execution_count": 79,
   "id": "1079c760",
   "metadata": {},
   "outputs": [],
   "source": [
    "a = 10\n",
    "b = 20"
   ]
  },
  {
   "cell_type": "code",
   "execution_count": 82,
   "id": "64633f82",
   "metadata": {},
   "outputs": [],
   "source": [
    "a, b= 10, 20\n",
    "\n"
   ]
  },
  {
   "cell_type": "code",
   "execution_count": 83,
   "id": "a7ecfc18",
   "metadata": {},
   "outputs": [
    {
     "name": "stdout",
     "output_type": "stream",
     "text": [
      "10 20\n"
     ]
    }
   ],
   "source": [
    "print(a, b)"
   ]
  },
  {
   "cell_type": "code",
   "execution_count": 80,
   "id": "b070d2b3",
   "metadata": {},
   "outputs": [],
   "source": [
    "a , b = b , a + b # 다중 변수 할당 # a = 10, b = 20\n"
   ]
  },
  {
   "cell_type": "code",
   "execution_count": 81,
   "id": "6dbbb764",
   "metadata": {},
   "outputs": [
    {
     "name": "stdout",
     "output_type": "stream",
     "text": [
      "20 30\n"
     ]
    }
   ],
   "source": [
    "print(a,b)"
   ]
  },
  {
   "cell_type": "markdown",
   "id": "26ddae87",
   "metadata": {},
   "source": [
    "## 1.4 도움말"
   ]
  },
  {
   "cell_type": "code",
   "execution_count": 86,
   "id": "01aff6c5",
   "metadata": {},
   "outputs": [
    {
     "name": "stdout",
     "output_type": "stream",
     "text": [
      "Help on built-in function print in module builtins:\n",
      "\n",
      "print(...)\n",
      "    print(value, ..., sep=' ', end='\\n', file=sys.stdout, flush=False)\n",
      "    \n",
      "    Prints the values to a stream, or to sys.stdout by default.\n",
      "    Optional keyword arguments:\n",
      "    file:  a file-like object (stream); defaults to the current sys.stdout.\n",
      "    sep:   string inserted between values, default a space.\n",
      "    end:   string appended after the last value, default a newline.\n",
      "    flush: whether to forcibly flush the stream.\n",
      "\n"
     ]
    }
   ],
   "source": [
    "help(print)"
   ]
  },
  {
   "cell_type": "code",
   "execution_count": 85,
   "id": "4a8eaab7",
   "metadata": {
    "scrolled": true
   },
   "outputs": [
    {
     "name": "stdout",
     "output_type": "stream",
     "text": [
      "\n",
      "Welcome to Python 3.10's help utility!\n",
      "\n",
      "If this is your first time using Python, you should definitely check out\n",
      "the tutorial on the internet at https://docs.python.org/3.10/tutorial/.\n",
      "\n",
      "Enter the name of any module, keyword, or topic to get help on writing\n",
      "Python programs and using Python modules.  To quit this help utility and\n",
      "return to the interpreter, just type \"quit\".\n",
      "\n",
      "To get a list of available modules, keywords, symbols, or topics, type\n",
      "\"modules\", \"keywords\", \"symbols\", or \"topics\".  Each module also comes\n",
      "with a one-line summary of what it does; to list the modules whose name\n",
      "or summary contain a given string such as \"spam\", type \"modules spam\".\n",
      "\n",
      "help> q\n",
      "\n",
      "You are now leaving help and returning to the Python interpreter.\n",
      "If you want to ask for help on a particular object directly from the\n",
      "interpreter, you can type \"help(object)\".  Executing \"help('string')\"\n",
      "has the same effect as typing a particular string at the help> prompt.\n"
     ]
    }
   ],
   "source": [
    "help() #help빠져나오기 : q "
   ]
  },
  {
   "cell_type": "code",
   "execution_count": 87,
   "id": "a6fbf822",
   "metadata": {},
   "outputs": [
    {
     "name": "stdout",
     "output_type": "stream",
     "text": [
      "\n"
     ]
    }
   ],
   "source": [
    "#도움말 기능: shift + tap 키\n",
    "print()"
   ]
  },
  {
   "cell_type": "code",
   "execution_count": 105,
   "id": "4e15f90b",
   "metadata": {},
   "outputs": [],
   "source": [
    "def add(x, y=0):\n",
    "    '''\n",
    "    매개변수(x,y) 2개를 받아 두자리 숫자로 만드는 함수\n",
    "    x = 10의 자리수가 되고\n",
    "    y = 1의 자리수가 됨(default값 0)\n",
    "    '''\n",
    "    return x*10 + y"
   ]
  },
  {
   "cell_type": "code",
   "execution_count": 106,
   "id": "2be4493a",
   "metadata": {},
   "outputs": [
    {
     "data": {
      "text/plain": [
       "34"
      ]
     },
     "execution_count": 106,
     "metadata": {},
     "output_type": "execute_result"
    }
   ],
   "source": [
    "add(3, 4)"
   ]
  },
  {
   "cell_type": "markdown",
   "id": "193a8414",
   "metadata": {},
   "source": [
    "# 2절. 화면 I/O"
   ]
  },
  {
   "cell_type": "code",
   "execution_count": 109,
   "id": "6cd0e2e5",
   "metadata": {},
   "outputs": [
    {
     "name": "stdout",
     "output_type": "stream",
     "text": [
      "\n",
      "\n"
     ]
    }
   ],
   "source": [
    "# input() : 사용자로부터 값을 입력받기 위한 함수, 입력값은 문자(str)로 받음\n",
    "first = input()\n",
    "print(first)"
   ]
  },
  {
   "cell_type": "code",
   "execution_count": 123,
   "id": "341fc2ec",
   "metadata": {},
   "outputs": [
    {
     "name": "stdout",
     "output_type": "stream",
     "text": [
      "첫번째 숫자는? 8\n",
      "두번째 숫자는? 2\n"
     ]
    }
   ],
   "source": [
    "first = input('첫번째 숫자는? ')\n",
    "\n",
    "second = input('두번째 숫자는? ')\n"
   ]
  },
  {
   "cell_type": "code",
   "execution_count": 120,
   "id": "edd2ecdc",
   "metadata": {},
   "outputs": [
    {
     "name": "stdout",
     "output_type": "stream",
     "text": [
      "두 수의 합은?  82\n"
     ]
    }
   ],
   "source": [
    "print('두 수의 합은? ',first + second)"
   ]
  },
  {
   "cell_type": "code",
   "execution_count": 129,
   "id": "956620fa",
   "metadata": {},
   "outputs": [
    {
     "name": "stdout",
     "output_type": "stream",
     "text": [
      "첫 번째 숫자는? 10\n",
      "두 번째 숫자는? 10\n"
     ]
    }
   ],
   "source": [
    "first = int(input('첫 번째 숫자는? '))\n",
    "\n",
    "second = int(input('두 번째 숫자는? '))"
   ]
  },
  {
   "cell_type": "code",
   "execution_count": 126,
   "id": "ea807278",
   "metadata": {},
   "outputs": [
    {
     "name": "stdout",
     "output_type": "stream",
     "text": [
      "두수의 합: 10\n"
     ]
    }
   ],
   "source": [
    "print('두수의 합:' ,first + second)"
   ]
  },
  {
   "cell_type": "code",
   "execution_count": 145,
   "id": "46a66a54",
   "metadata": {},
   "outputs": [
    {
     "name": "stdout",
     "output_type": "stream",
     "text": [
      "first\t10\tsecond\t10\n",
      "Hello Python\n"
     ]
    }
   ],
   "source": [
    "print('first', first, 'second', second, sep='\\t', end='\\n')\n",
    "print('Hello','Python', sep =' ')"
   ]
  },
  {
   "cell_type": "markdown",
   "id": "7219b616",
   "metadata": {},
   "source": [
    "# 3절. 기본자료형\n",
    "- 자료형: 변수가 가져야 할 값의 형식. 자료형에 따라 값의 크가와 저장 방식 달라짐\n",
    "- 자료형에 따라 수행할 수 있는 명령어들이 달라짐\n",
    "   \n",
    "    - `숫자` : int, float(소수점 4.0), complex(허수부 j)\n",
    "    - `문자` : str(\"\", '')\n",
    "    - `논리` : bool(True/false)\n",
    "    \n",
    "## 3.1 숫자형"
   ]
  },
  {
   "cell_type": "code",
   "execution_count": 147,
   "id": "5057311a",
   "metadata": {},
   "outputs": [
    {
     "name": "stdout",
     "output_type": "stream",
     "text": [
      "9223372036854775807\n"
     ]
    }
   ],
   "source": [
    "import sys\n",
    "print(sys.maxsize) #정수의 최대값 : 2 ** 63 -1"
   ]
  },
  {
   "cell_type": "code",
   "execution_count": 149,
   "id": "d6a9d814",
   "metadata": {},
   "outputs": [],
   "source": [
    "i = sys.maxsize + 100"
   ]
  },
  {
   "cell_type": "code",
   "execution_count": 151,
   "id": "832a3bae",
   "metadata": {},
   "outputs": [
    {
     "name": "stdout",
     "output_type": "stream",
     "text": [
      "9223372036854775907\n",
      "<class 'int'>\n"
     ]
    }
   ],
   "source": [
    "print(i)\n",
    "print(type (i))\n"
   ]
  },
  {
   "cell_type": "code",
   "execution_count": 155,
   "id": "0cb0b3ed",
   "metadata": {},
   "outputs": [
    {
     "name": "stdout",
     "output_type": "stream",
     "text": [
      "1.2e-20\n",
      "1.2e+20\n"
     ]
    }
   ],
   "source": [
    "# f = 0.00000000000000012\n",
    "f = 1.2e-20 # 지수형 1.2*10의 -20승\n",
    "print(f)\n",
    "b = 1.2e20 # 지수형 1.2.* 10의 20승\n",
    "print(b)"
   ]
  },
  {
   "cell_type": "code",
   "execution_count": 157,
   "id": "bfde11a0",
   "metadata": {},
   "outputs": [
    {
     "name": "stdout",
     "output_type": "stream",
     "text": [
      "f= 1.5\n"
     ]
    }
   ],
   "source": [
    "# 파이썬에서는 /의 결과는 무조건 실수\n",
    "f = 3/2\n",
    "print('f=',f)"
   ]
  },
  {
   "cell_type": "code",
   "execution_count": 161,
   "id": "a8300883",
   "metadata": {},
   "outputs": [
    {
     "name": "stdout",
     "output_type": "stream",
     "text": [
      "f= 1\n",
      "f= 1\n"
     ]
    }
   ],
   "source": [
    "# 자바나 c, c++처럼 정수 /정수 결과를 정수로 \n",
    "f= int(3/2) #int() : int로 형 변환(내림)\n",
    "print('f=',f)\n",
    "f= 3//2 # 몫 연산자\n",
    "print(\"f=\",f)"
   ]
  },
  {
   "cell_type": "markdown",
   "id": "bb608d3f",
   "metadata": {},
   "source": [
    "## 3.2 문자형\n",
    "- 겹따옴표(\"~\")나 홀따옴표('~') 이용"
   ]
  },
  {
   "cell_type": "code",
   "execution_count": 169,
   "id": "a151f982",
   "metadata": {},
   "outputs": [],
   "source": [
    "#name = '홍길동\\'짱\\'' # 홍길동 '짱'\n",
    "name = \"홍길동'짱'\"\n",
    "address = '서울시 관악구\"신림\"동'#서울시 관악구 \"신림\"동"
   ]
  },
  {
   "cell_type": "code",
   "execution_count": 170,
   "id": "8513fd44",
   "metadata": {},
   "outputs": [
    {
     "name": "stdout",
     "output_type": "stream",
     "text": [
      "홍길동'짱'\n",
      "서울시 관악구\"신림\"동\n"
     ]
    }
   ],
   "source": [
    "print(name)\n",
    "print(address)"
   ]
  },
  {
   "cell_type": "code",
   "execution_count": 171,
   "id": "0ef29a1d",
   "metadata": {},
   "outputs": [],
   "source": [
    "# escape 문자(탈출문자) : \\n \\t\n",
    "text = '여러줄\\t 짜리 내용을 저장 \\n줄바꿈 문자를 쓰면 여러줄 \\n줄바꿈'"
   ]
  },
  {
   "cell_type": "code",
   "execution_count": 173,
   "id": "e18c670f",
   "metadata": {},
   "outputs": [
    {
     "name": "stdout",
     "output_type": "stream",
     "text": [
      "여러줄\t 짜리 내용을 저장 \n",
      "줄바꿈 문자를 쓰면 여러줄 \n",
      "줄바꿈\n"
     ]
    }
   ],
   "source": [
    "print(text)"
   ]
  },
  {
   "cell_type": "code",
   "execution_count": 177,
   "id": "22e9d8e8",
   "metadata": {},
   "outputs": [],
   "source": [
    "text = '''여러줄\\t짜리 내용을 저장\n",
    "줄바꿈 문자를 쓰면 됨\n",
    "줄바꿈'''\n",
    "print(text)"
   ]
  },
  {
   "cell_type": "markdown",
   "id": "41d21f85",
   "metadata": {},
   "source": [
    "### ※ 문자열 연산(+,*)\n"
   ]
  },
  {
   "cell_type": "code",
   "execution_count": 183,
   "id": "43a25a66",
   "metadata": {},
   "outputs": [
    {
     "name": "stdout",
     "output_type": "stream",
     "text": [
      "홍길동동해번쩍\n",
      "홍길동 동해번쩍\n"
     ]
    }
   ],
   "source": [
    "'''\n",
    "    여러 줄 주석 용도\n",
    "    2025.09.12. 문자열 연산 by 아무개\n",
    "'''\n",
    "name1 = \"홍길동\"\n",
    "name2 = \"동해번쩍\"\n",
    "print(name1 + name2)\n",
    "print(name1, name2)"
   ]
  },
  {
   "cell_type": "code",
   "execution_count": 184,
   "id": "13060292",
   "metadata": {},
   "outputs": [
    {
     "name": "stdout",
     "output_type": "stream",
     "text": [
      "홍길동홍길동홍길동\n"
     ]
    }
   ],
   "source": [
    "print(name1  *3)"
   ]
  },
  {
   "cell_type": "markdown",
   "id": "b277c147",
   "metadata": {},
   "source": [
    "### ※ raw 데이터 \n",
    "- 용도 : 정규표현식 이용, 디렉토리 경로를 표현시 이용\n"
   ]
  },
  {
   "cell_type": "code",
   "execution_count": 188,
   "id": "412a5ebe",
   "metadata": {},
   "outputs": [
    {
     "name": "stdout",
     "output_type": "stream",
     "text": [
      "Hello \\nworld\n"
     ]
    }
   ],
   "source": [
    "# raw데이터란 : 데이터 처리시 이스케이프 문자 (\\n, \\t, \\', \\\")를 그대로 저장\n",
    "\n",
    "print(r'Hello \\nworld')"
   ]
  },
  {
   "cell_type": "markdown",
   "id": "2b5c8e0c",
   "metadata": {},
   "source": [
    "정규표현식(regex)\n",
    "\n",
    "    1. 참조: http://ggo.gl/HLntbd 위키백과\n",
    "    2. 간략문법\n",
    "        /d(숫자와 매치. [0-9]와 동일)\n",
    "        \\D (숫자가 아닌 것)\n",
    "        \\w (영문자나 숫자 [A-Za-z-9]와 동일\n",
    "        \\W (영문자나 숫자가 아닌 문자)\n",
    "        . (문자)\n",
    "        \\. (문자)\n",
    "        \\. (-)\n",
    "        {2,} (2번 이상 반복)\n",
    "        {2,4} (2~4회 반복)\n",
    "        \\d{2,3}[\\- ]{0,1},?\n",
    "        ?       (0번이나 1번 의미)\n",
    "        \\d{3,4}\n",
    "        +          (1번 이상 반복)\n",
    "        *          (0번 이상 반복)\n",
    "        \n",
    "    3. 정규표현식 연습장 : https://regexr.com/\n",
    "    ex1. 전화번호 :02 888 7777 / 028887777 / 010-9999-9999/ 010.9999.9999\n",
    "                  02)999-9999\n",
    "                  => 0\\d{1,3}[ \\-\\.)]?\\d{3,4}[ \\-\\.]?\\d{4}\n",
    "    \n",
    "    ex2. 이메일 : abc12@naver.com/ abc12@sns.co.kr\n",
    "                =>\\w+@\\w+(\\.\\w+){1,2}\n",
    "    \n",
    "    ex3. 주민번호: 981212-1042525\n",
    "                =>(\\d{2}0[1-9][0-3]\\d\\-[0-4]\\d{6})|(\\d{2}1[0-2][0-3]\\d\\-[0-4]\\d{6})\n",
    "                \n",
    "    4. 소스구현\n",
    "|"
   ]
  },
  {
   "cell_type": "code",
   "execution_count": 189,
   "id": "878a7068",
   "metadata": {},
   "outputs": [
    {
     "name": "stdout",
     "output_type": "stream",
     "text": [
      "이름: 홍길동, 주소:서울, 전화:02-888-8888, 핸드폰:010-9999-9999, 특징:동해번쩍 서해번쩍혈핵형:Bㅋㅋ ㅋㅋzz\n"
     ]
    }
   ],
   "source": [
    "import re\n",
    "data = \"이름: 홍길동, 주소:서울, 전화:02-888-8888, \\\n",
    "핸드폰:010-9999-9999, 특징:동해번쩍 서해번쩍\\\n",
    "혈핵형:Bㅋㅋ ㅋㅋzz\"\n",
    "print(data)"
   ]
  },
  {
   "cell_type": "code",
   "execution_count": 194,
   "id": "7e99c509",
   "metadata": {},
   "outputs": [
    {
     "data": {
      "text/plain": [
       "['02-888-8888', '010-9999-9999']"
      ]
     },
     "execution_count": 194,
     "metadata": {},
     "output_type": "execute_result"
    }
   ],
   "source": [
    "# 정규표현식 처리에서는 raw데이터 처리를 하지 않아도 실행은 되나\n",
    "# 실수를 줄이고, 가독성을 높이는 용도를 raw데이터 처리를 사용\n",
    "tel_pattern =r\"0\\d{1,3}[ \\-\\.)]?\\d{3,4}[ \\-\\.]?\\d{4}\"\n",
    "tels = re.findall(tel_pattern, data) # 해당 패턴을 다 찾아줌\n",
    "tels"
   ]
  },
  {
   "cell_type": "code",
   "execution_count": 195,
   "id": "91c3c518",
   "metadata": {},
   "outputs": [
    {
     "data": {
      "text/plain": [
       "[]"
      ]
     },
     "execution_count": 195,
     "metadata": {},
     "output_type": "execute_result"
    }
   ],
   "source": [
    "email_pattern = r\">\\w+@\\w+(\\.\\w+){1,2}\"\n",
    "emails = re.findall(email_pattern, data)\n",
    "emails"
   ]
  },
  {
   "cell_type": "code",
   "execution_count": 197,
   "id": "645502d7",
   "metadata": {},
   "outputs": [
    {
     "data": {
      "text/plain": [
       "<re.Match object; span=(19, 30), match='02-888-8888'>"
      ]
     },
     "execution_count": 197,
     "metadata": {},
     "output_type": "execute_result"
    }
   ],
   "source": [
    "# 정규표현식 패턴과 처음 match되는 것을 찾아줘\n",
    "firstTel = re.search(tel_pattern,data)\n",
    "firstTel"
   ]
  },
  {
   "cell_type": "code",
   "execution_count": 201,
   "id": "1a3fc353",
   "metadata": {},
   "outputs": [
    {
     "name": "stdout",
     "output_type": "stream",
     "text": [
      "02-888-8888\n",
      "02-888-8888\n"
     ]
    }
   ],
   "source": [
    "print(data[19:30]) # 문자열 슬라이싱\n",
    "print(firstTel.group(0))"
   ]
  },
  {
   "cell_type": "code",
   "execution_count": 210,
   "id": "7f34816f",
   "metadata": {},
   "outputs": [
    {
     "data": {
      "text/plain": [
       "<re.Match object; span=(19, 30), match='02-888-8888'>"
      ]
     },
     "execution_count": 210,
     "metadata": {},
     "output_type": "execute_result"
    }
   ],
   "source": [
    "tel_pattern = r\"(\\d{2,3})-(\\d{3,4})-(\\d{4})\"\n",
    "\n",
    "firstPhone = re.search(tel_pattern,data)\n",
    "firstPhone"
   ]
  },
  {
   "cell_type": "code",
   "execution_count": 211,
   "id": "97f8b839",
   "metadata": {},
   "outputs": [
    {
     "name": "stdout",
     "output_type": "stream",
     "text": [
      "전체 전화번호 :  02-888-8888\n",
      "국번:  02\n",
      "중간번호:  888\n",
      "끝번호:  8888\n"
     ]
    }
   ],
   "source": [
    "print('전체 전화번호 : ',firstPhone.group(0))\n",
    "print('국번: ' ,firstPhone.group(1))\n",
    "print('중간번호: ', firstPhone.group(2))\n",
    "print('끝번호: ',firstPhone.group(3))"
   ]
  },
  {
   "cell_type": "code",
   "execution_count": 212,
   "id": "32e167ac",
   "metadata": {},
   "outputs": [
    {
     "data": {
      "text/plain": [
       "'이름  홍길동  주소 서울  전화 02 888 8888  핸드폰 010 9999 9999  특징 동해번쩍 서해번쩍혈핵형 B       '"
      ]
     },
     "execution_count": 212,
     "metadata": {},
     "output_type": "execute_result"
    }
   ],
   "source": [
    "# 특정한 데이터 없애기\n",
    "re.sub(\"[^가-힣0-9A-Z\\s]\", ' ',data)"
   ]
  },
  {
   "cell_type": "code",
   "execution_count": 10,
   "id": "3fdb3872",
   "metadata": {},
   "outputs": [
    {
     "data": {
      "text/plain": [
       "'이름: 홍길동, 주소:서울, 전화: , 핸드폰: , 특징:동해번쩍 서해번쩍혈핵형:Bㅋㅋ ㅋㅋzz'"
      ]
     },
     "execution_count": 10,
     "metadata": {},
     "output_type": "execute_result"
    }
   ],
   "source": [
    "# data에서 전화번호 없애기\n",
    "import re\n",
    "data = \"이름: 홍길동, 주소:서울, 전화:02-888-8888, \\\n",
    "핸드폰: 010-9999-9999, 특징:동해번쩍 서해번쩍\\\n",
    "혈핵형: Bㅋㅋ ㅋㅋzz\"\n",
    "tel_pattern = r\"0\\d{1,3}[ \\-\\.)]?\\d{3,4}[ \\-\\.]?\\d{4}\"\n",
    "re.sub(tel_pattern,' ', data)"
   ]
  },
  {
   "cell_type": "code",
   "execution_count": 11,
   "id": "2375e1bc",
   "metadata": {},
   "outputs": [],
   "source": [
    "#파일 경로\n",
    "file_path = r\"C:\\aii\\source\\01_Python\\data\\CH02.txt\""
   ]
  },
  {
   "cell_type": "code",
   "execution_count": 17,
   "id": "8284e6bf",
   "metadata": {},
   "outputs": [
    {
     "name": "stdout",
     "output_type": "stream",
     "text": [
      "Hello, Python\n",
      "Hello, world\n"
     ]
    }
   ],
   "source": [
    "file_stream = open(file_path,\"w\")\n",
    "\n",
    "print(\"Hello, Python\", \"Hello, world\", sep = \"\\n\")#화면 출력\n",
    "print(\"Hello, Python\", \"Hello, world\", sep = \"\\n\",file=file_stream)#파일 출력\n",
    "\n",
    "file_stream.close()# close하지 않으면 저장 안 됨"
   ]
  },
  {
   "cell_type": "markdown",
   "id": "98ad76d7",
   "metadata": {},
   "source": [
    "### ※ 문자열 인덱싱"
   ]
  },
  {
   "cell_type": "code",
   "execution_count": 18,
   "id": "249cf28b",
   "metadata": {},
   "outputs": [
    {
     "data": {
      "text/plain": [
       "'0123456789'"
      ]
     },
     "execution_count": 18,
     "metadata": {},
     "output_type": "execute_result"
    }
   ],
   "source": [
    "str_ = '0123456789'\n",
    "str_ "
   ]
  },
  {
   "cell_type": "code",
   "execution_count": 22,
   "id": "bfad416f",
   "metadata": {},
   "outputs": [
    {
     "data": {
      "text/plain": [
       "('0', '2', '9', '7')"
      ]
     },
     "execution_count": 22,
     "metadata": {},
     "output_type": "execute_result"
    }
   ],
   "source": [
    "str_[0], str_[2], str_[-1], str_[-3] #음수 인덱싱은 맨 마지막이 -1"
   ]
  },
  {
   "cell_type": "code",
   "execution_count": 46,
   "id": "9f4866bb",
   "metadata": {},
   "outputs": [
    {
     "data": {
      "text/plain": [
       "'8'"
      ]
     },
     "execution_count": 46,
     "metadata": {},
     "output_type": "execute_result"
    }
   ],
   "source": [
    "str_[8]# 없은 인덱싱은 에러"
   ]
  },
  {
   "cell_type": "markdown",
   "id": "b6566394",
   "metadata": {},
   "source": [
    "### ※문자열 슬라이싱"
   ]
  },
  {
   "cell_type": "code",
   "execution_count": 28,
   "id": "575965f4",
   "metadata": {},
   "outputs": [
    {
     "data": {
      "text/plain": [
       "('012', '012')"
      ]
     },
     "execution_count": 28,
     "metadata": {},
     "output_type": "execute_result"
    }
   ],
   "source": [
    "'''\n",
    "문자열변수[from:to] : from부터 to 앞까지 추출\n",
    "문자열변수[from:to:step] : from부터 to 앞까지 step씩 전진하면서 추출\n",
    "    from 생략시 처음부터\n",
    "    to 생략시 끝까지\n",
    "    step 생략시 1\n",
    "    \n",
    "'''\n",
    "str_[0:3], str_[:3] #from 생략시 처음부터"
   ]
  },
  {
   "cell_type": "code",
   "execution_count": 32,
   "id": "b2fc308b",
   "metadata": {},
   "outputs": [
    {
     "data": {
      "text/plain": [
       "('56789', '56789')"
      ]
     },
     "execution_count": 32,
     "metadata": {},
     "output_type": "execute_result"
    }
   ],
   "source": [
    "str_[5:10], str_[5:] #to 생략시 끝까지"
   ]
  },
  {
   "cell_type": "code",
   "execution_count": 33,
   "id": "3e6acce7",
   "metadata": {},
   "outputs": [
    {
     "data": {
      "text/plain": [
       "'5678'"
      ]
     },
     "execution_count": 33,
     "metadata": {},
     "output_type": "execute_result"
    }
   ],
   "source": [
    "str_[-5:-1] # -5번째부터 -1번째 앞까지 "
   ]
  },
  {
   "cell_type": "code",
   "execution_count": 25,
   "id": "efed2c6a",
   "metadata": {},
   "outputs": [
    {
     "data": {
      "text/plain": [
       "'2345'"
      ]
     },
     "execution_count": 25,
     "metadata": {},
     "output_type": "execute_result"
    }
   ],
   "source": [
    "str_[2:6]"
   ]
  },
  {
   "cell_type": "code",
   "execution_count": 26,
   "id": "4e06d4da",
   "metadata": {},
   "outputs": [
    {
     "data": {
      "text/plain": [
       "'02468'"
      ]
     },
     "execution_count": 26,
     "metadata": {},
     "output_type": "execute_result"
    }
   ],
   "source": [
    "str_[0:10:2]"
   ]
  },
  {
   "cell_type": "code",
   "execution_count": 34,
   "id": "c2fde098",
   "metadata": {},
   "outputs": [
    {
     "data": {
      "text/plain": [
       "'987654321'"
      ]
     },
     "execution_count": 34,
     "metadata": {},
     "output_type": "execute_result"
    }
   ],
   "source": [
    "str_[9:0:-1] # 9번째부터 0번째전까지 -1씩 전진 추출"
   ]
  },
  {
   "cell_type": "code",
   "execution_count": 38,
   "id": "4685b3e0",
   "metadata": {},
   "outputs": [
    {
     "name": "stdout",
     "output_type": "stream",
     "text": [
      "9876543210\n",
      "9876543210\n",
      "9876543210\n"
     ]
    }
   ],
   "source": [
    "#quiz: 마지막글씨부터 처음글씨까지 꺼꾸로 출력\n",
    "print(str_[::-1])\n",
    "print(str_[9::-1])\n",
    "print(str_[-1::-1])"
   ]
  },
  {
   "cell_type": "markdown",
   "id": "354aa730",
   "metadata": {},
   "source": [
    "### 3.3 논리형(True / False)"
   ]
  },
  {
   "cell_type": "code",
   "execution_count": 41,
   "id": "eed9a3c4",
   "metadata": {},
   "outputs": [
    {
     "name": "stdout",
     "output_type": "stream",
     "text": [
      "True\n",
      "<class 'bool'>\n"
     ]
    }
   ],
   "source": [
    "a = 10 > 5 \n",
    "print(a)\n",
    "print(type(a))\n",
    "print \n"
   ]
  },
  {
   "cell_type": "code",
   "execution_count": 42,
   "id": "e8bdb4a0",
   "metadata": {},
   "outputs": [
    {
     "data": {
      "text/plain": [
       "(1, 0)"
      ]
     },
     "execution_count": 42,
     "metadata": {},
     "output_type": "execute_result"
    }
   ],
   "source": [
    "int(True), int(False)"
   ]
  },
  {
   "cell_type": "code",
   "execution_count": 47,
   "id": "4ca4159f",
   "metadata": {},
   "outputs": [
    {
     "data": {
      "text/plain": [
       "(True, False, True)"
      ]
     },
     "execution_count": 47,
     "metadata": {},
     "output_type": "execute_result"
    }
   ],
   "source": [
    "bool(-1000.9),bool(0), bool(\" \")"
   ]
  },
  {
   "cell_type": "code",
   "execution_count": 44,
   "id": "9c68253d",
   "metadata": {},
   "outputs": [],
   "source": [
    "# False로 간주되는 것: 0, \"\"- (빈스트링), []-(빈리스트), ()-빈튜플, {}-빈딕셔너리, None\n",
    "# False로 반별되는 경우를 제외 하고는 모두 True\n"
   ]
  },
  {
   "cell_type": "code",
   "execution_count": 48,
   "id": "0ab9cc1c",
   "metadata": {},
   "outputs": [
    {
     "name": "stdout",
     "output_type": "stream",
     "text": [
      "False\n"
     ]
    }
   ],
   "source": [
    "if []:\n",
    "    print(\"True\")\n",
    "else:\n",
    "    print(\"False\")"
   ]
  },
  {
   "cell_type": "code",
   "execution_count": 52,
   "id": "d689a66a",
   "metadata": {},
   "outputs": [
    {
     "name": "stdout",
     "output_type": "stream",
     "text": [
      "이름은?이희성\n",
      "당신 이름은 이희성\n"
     ]
    }
   ],
   "source": [
    "name = input(\"이름은? \")\n",
    "if name: #name이 빈스트링이 아니면\n",
    "    print('당신 이름은', name)\n",
    "else:\n",
    "    print(\"이름을 입력 안 하셨군요.\")"
   ]
  },
  {
   "cell_type": "markdown",
   "id": "7ad92c4d",
   "metadata": {},
   "source": [
    "## 3.4 자료형 확인 및 형변환 함수\n",
    "- type(변수)\n",
    "- isinstance(변수, 타입) : 변수가 해당 타입이지 여부\n",
    "- float() : 실수형으로 변환\n",
    "- int() : 정수형으로 변환\n",
    "- str() : 문자형으로 변환\n",
    "- bool() : 논리형으로 변환"
   ]
  },
  {
   "cell_type": "code",
   "execution_count": 55,
   "id": "dfb06c6f",
   "metadata": {},
   "outputs": [
    {
     "data": {
      "text/plain": [
       "(4.0, 4.1, 4, 4, '4', '4.9')"
      ]
     },
     "execution_count": 55,
     "metadata": {},
     "output_type": "execute_result"
    }
   ],
   "source": [
    "float (4), float(\"4.1\"), int(4.9), int(\"4\"), str(4), str(4.9)"
   ]
  },
  {
   "cell_type": "code",
   "execution_count": 62,
   "id": "60fb6299",
   "metadata": {},
   "outputs": [],
   "source": [
    "# 에러나는 경우들\n",
    "#int (\" \"), int(\"\"), int(None), int (\"123.9\"), int(\"5,000\")\n",
    "#float(\"\"),float(\" \"), float(None)"
   ]
  },
  {
   "cell_type": "markdown",
   "id": "32bc199c",
   "metadata": {},
   "source": [
    "# 4절. 포맷팅\n",
    "- 포맷팅이란 출력할 문자, 숫자, 날짜 데이터의 형식을 지정하는 것\n",
    "## 4.1 문자열에 형식 지정 "
   ]
  },
  {
   "cell_type": "code",
   "execution_count": 70,
   "id": "18948254",
   "metadata": {},
   "outputs": [
    {
     "name": "stdout",
     "output_type": "stream",
     "text": [
      "홍길동님의 나이는30살입니다\n"
     ]
    }
   ],
   "source": [
    "name = \"홍길동\"\n",
    "age = 30\n",
    "print(name ,\"님의 나이는\", age, \"살입니다\",sep = '')"
   ]
  },
  {
   "cell_type": "code",
   "execution_count": 81,
   "id": "f22cb666",
   "metadata": {},
   "outputs": [
    {
     "name": "stdout",
     "output_type": "stream",
     "text": [
      "홍길동님의 나이는 30살입니다\n",
      "  홍길동님의 나이는30살입니다\n"
     ]
    }
   ],
   "source": [
    "# %s: 문자, %d:10진수, %f:실수\n",
    "print(\"%s님의 나이는 %d살입니다\"%(name, age))\n",
    "print(f\"{name:>5s}님의 나이는{age}살입니다\")\n"
   ]
  },
  {
   "cell_type": "code",
   "execution_count": 79,
   "id": "2288a44d",
   "metadata": {},
   "outputs": [
    {
     "name": "stdout",
     "output_type": "stream",
     "text": [
      "홍길동님의 나이는 30살입니다\n",
      "홍길동님의 나이는 30살입니다\n",
      "  홍길동님의 나이는 30_살입니다\n"
     ]
    }
   ],
   "source": [
    "print(\"{}님의 나이는 {}살입니다\".format(name,age))\n",
    "print(\"{0}님의 나이는 {1}살입니다\".format(name,age))\n",
    "print(\"{1:>5s}님의 나이는 {0:_<3d}살입니다\".format(age, name))"
   ]
  },
  {
   "cell_type": "code",
   "execution_count": 84,
   "id": "bad0f065",
   "metadata": {},
   "outputs": [
    {
     "name": "stdout",
     "output_type": "stream",
     "text": [
      "    홍길동님의 나이는   30_살입니다\n"
     ]
    }
   ],
   "source": [
    "print(f\"    {name}님의 나이는   {age}_살입니다\")"
   ]
  },
  {
   "cell_type": "markdown",
   "id": "ce559cb2",
   "metadata": {},
   "source": [
    "## 4.2 format() 문법\n",
    "- \"{[인덱스]:[공백대체문자][정렬방식][자릿수][타입]}\".format(변수명)\n",
    "    * 인덱스 : format 함수안의 매개변수 순서\n",
    "    * 정렬방식: <(왼쪽정렬), >(오른쪽정렬), ^(가운데 정렬)\n",
    "    * 정수자릿수: 출력할 자릿수\n",
    "    * 실수자릿수: 전체출력 될 자리수. 변수중에 출력할 자리수 ex10.2\n",
    "    * 타입: d(10진수), o(8진수), X(16진수), b(2진수), f(실수), S(문자)\n",
    "    * 공백대체문자는 정렬방식을 명시하여야 함"
   ]
  },
  {
   "cell_type": "code",
   "execution_count": 88,
   "id": "ec28aa1f",
   "metadata": {},
   "outputs": [
    {
     "name": "stdout",
     "output_type": "stream",
     "text": [
      "[12345][     12345][12345]\n",
      "[Hello][Hello     ][Hello]\n"
     ]
    }
   ],
   "source": [
    "# 숫자의 경우 오른쪽 정렬(기본)\n",
    "# 문자의 경우 왼쪽 정렬(기본)\n",
    "# 변수보다 작은 자리수를 지정하면 자릿수 무시되고 다 출력(정수자릿수)\n",
    "a = 12345\n",
    "s = \"Hello\"\n",
    "print(\"[{0}][{0:10}][{0:3}]\".format(a))\n",
    "print(\"[{0}][{0:10}][{0:1}]\".format(s))"
   ]
  },
  {
   "cell_type": "code",
   "execution_count": 92,
   "id": "ddfa84e9",
   "metadata": {},
   "outputs": [
    {
     "name": "stdout",
     "output_type": "stream",
     "text": [
      "[10  ] [ 20 ] [   3]\n"
     ]
    }
   ],
   "source": [
    "# 정렬 방식 : <, ^, >\n",
    "a, b, c = 10, 20, 3\n",
    "print(\"[{:<4}] [{:^4}] [{:>4}]\".format(a,b,c))"
   ]
  },
  {
   "cell_type": "code",
   "execution_count": 110,
   "id": "2e98138e",
   "metadata": {},
   "outputs": [
    {
     "name": "stdout",
     "output_type": "stream",
     "text": [
      "[$10.00][     12.57][____He]\n"
     ]
    }
   ],
   "source": [
    "# 실수 자릿수 ex10.2f\" 전체10자리 소수점2자리 / 6.2 : 전체 6자리중 2자리 출력\n",
    "a = 10\n",
    "f = 12.569\n",
    "s = \"Hello\"\n",
    "print(\"[{:$>6.2f}][{:10.2f}][{:_>6.2}]\".format(a,f,s))\n",
    "# 공백대체문자를 쓸 경우 반드시 정렬방식을 표현"
   ]
  },
  {
   "cell_type": "code",
   "execution_count": 113,
   "id": "cc2c351f",
   "metadata": {},
   "outputs": [
    {
     "name": "stdout",
     "output_type": "stream",
     "text": [
      "[      +123],[      -123],[       123]\n",
      "[       123],[-      123],[       123]\n",
      "[+      123],[-      123],[       123]\n"
     ]
    }
   ],
   "source": [
    "# 자리수 앞에 +를 붙이면 양수의 경우도 부호출력\n",
    "# 부호나 소수점도 자리수에 포함 \n",
    "a, b = 123, -123\n",
    "print(\"[{:+10}],[{:+10}],[{:10}]\".format(a,b,a))\n",
    "print(\"[{:=10}],[{:=10}],[{:10}]\".format(a,b,a))\n",
    "print(\"[{:=+10}],[{:=+10}],[{:10}]\".format(a,b,a))"
   ]
  },
  {
   "cell_type": "code",
   "execution_count": 116,
   "id": "7f006564",
   "metadata": {},
   "outputs": [
    {
     "name": "stdout",
     "output_type": "stream",
     "text": [
      "10진수[  15]\n",
      "8진수[  17]\n",
      "16진수[   f]\n",
      "2진수[1111]\n"
     ]
    }
   ],
   "source": [
    "# 10진수, 8진수, 16진수, 2진수 출력\n",
    "a = 15\n",
    "print(\"10진수[{:4d}]\".format(a))\n",
    "print(\"8진수[{:4o}]\".format(a))\n",
    "print(\"16진수[{:4x}]\".format(a))\n",
    "print(\"2진수[{:4b}]\".format(a))\n",
    "\n"
   ]
  },
  {
   "cell_type": "code",
   "execution_count": 132,
   "id": "8dc28d7a",
   "metadata": {},
   "outputs": [
    {
     "name": "stdout",
     "output_type": "stream",
     "text": [
      "[    +2.786]\n",
      "[    +2.786]\n"
     ]
    }
   ],
   "source": [
    "a = 2.785794698659865\n",
    "sign = \"+\"\n",
    "width = 10\n",
    "percision = 4\n",
    "print(\"[{:{}{}.{}}]\".format(a,sign,width,percision))\n",
    "print(\"[{:{sign}{width}.{percision}}]\".format(a,\n",
    "                                             sign = sign, width=width, percision = percision))"
   ]
  },
  {
   "cell_type": "code",
   "execution_count": 123,
   "id": "f27b4c84",
   "metadata": {},
   "outputs": [
    {
     "data": {
      "text/plain": [
       "2.786"
      ]
     },
     "execution_count": 123,
     "metadata": {},
     "output_type": "execute_result"
    }
   ],
   "source": [
    "round(a,3)"
   ]
  },
  {
   "cell_type": "markdown",
   "id": "a1de2424",
   "metadata": {},
   "source": [
    "## 4.3 날짜출력"
   ]
  },
  {
   "cell_type": "code",
   "execution_count": 136,
   "id": "4f185657",
   "metadata": {},
   "outputs": [
    {
     "data": {
      "text/plain": [
       "datetime.datetime(2025, 9, 11, 0, 0)"
      ]
     },
     "execution_count": 136,
     "metadata": {},
     "output_type": "execute_result"
    }
   ],
   "source": [
    "import datetime #datetime 모듈(파이썬프로그램 파일 datetime.py) 전체를 메모리 load\n",
    "from datetime import datetime # datetime모듈안의 datetime 만 메모리 load\n",
    "thatday1 = datetime(2025,9,11) # 2025년 09월 11일 0시0분0초\n",
    "thatday2 = datetime(2025,9,11, 14, 30, 0)\n",
    "thatday1"
   ]
  },
  {
   "cell_type": "code",
   "execution_count": 147,
   "id": "9796d93d",
   "metadata": {},
   "outputs": [
    {
     "name": "stdout",
     "output_type": "stream",
     "text": [
      "25년 09월 11일 00시 00분 00초\n",
      "25년 09월 11일 PM 02시 30분 00초\n"
     ]
    }
   ],
   "source": [
    "# Y(년도4자리), ㅛ(년도2자리), m(월), d(일), p(오전/오후), I(12시간), H(24시간), M(분), S(초)\n",
    "print(\"{:%y년 %m월 %d일 %H시 %M분 %S초}\".format(thatday1))\n",
    "print(\"{:%y년 %m월 %d일 %p %I시 %M분 %S초}\".format(thatday2))"
   ]
  },
  {
   "cell_type": "code",
   "execution_count": 145,
   "id": "c0b231dd",
   "metadata": {},
   "outputs": [
    {
     "data": {
      "text/plain": [
       "'25년 09월 11일 00시 00분 00초'"
      ]
     },
     "execution_count": 145,
     "metadata": {},
     "output_type": "execute_result"
    }
   ],
   "source": [
    "thatday1.strftime(\"%y년 %m월 %d일 %H시 %M분 %S초\")"
   ]
  },
  {
   "cell_type": "code",
   "execution_count": 149,
   "id": "3ea35f3b",
   "metadata": {},
   "outputs": [
    {
     "data": {
      "text/plain": [
       "':25년 09월 11일 PM 02시 30분 00초'"
      ]
     },
     "execution_count": 149,
     "metadata": {},
     "output_type": "execute_result"
    }
   ],
   "source": [
    "thatday2.strftime(\":%y년 %m월 %d일 %p %I시 %M분 %S초\")"
   ]
  },
  {
   "cell_type": "code",
   "execution_count": 152,
   "id": "9489a2a2",
   "metadata": {},
   "outputs": [
    {
     "data": {
      "text/plain": [
       "datetime.timedelta(days=4, seconds=53712, microseconds=799537)"
      ]
     },
     "execution_count": 152,
     "metadata": {},
     "output_type": "execute_result"
    }
   ],
   "source": [
    "# 현재의 날짜와 시간\n",
    "#datetime.now()\n",
    "#datetime(2025,9,11,15,30): 특정한 날짜와 시간\n",
    "now= datetime.now()\n",
    "now - thatday1"
   ]
  },
  {
   "cell_type": "code",
   "execution_count": 153,
   "id": "297d898a",
   "metadata": {},
   "outputs": [
    {
     "name": "stdout",
     "output_type": "stream",
     "text": [
      "25-09-15 PM 02: 55\n",
      "2025-09-15 PM0255\n"
     ]
    }
   ],
   "source": [
    "# 지금 (날짜와 시간) 원하는 스타일로 출력\n",
    "print(\"{:%y-%m-%d %p %I: %M}\".format(now))\n",
    "print(now.strftime(\"%Y-%m-%d %p%I%M\"))"
   ]
  },
  {
   "cell_type": "code",
   "execution_count": null,
   "id": "63b7cc9f",
   "metadata": {},
   "outputs": [],
   "source": [
    "from time import strftime\n"
   ]
  }
 ],
 "metadata": {
  "kernelspec": {
   "display_name": "Python 3 (ipykernel)",
   "language": "python",
   "name": "python3"
  },
  "language_info": {
   "codemirror_mode": {
    "name": "ipython",
    "version": 3
   },
   "file_extension": ".py",
   "mimetype": "text/x-python",
   "name": "python",
   "nbconvert_exporter": "python",
   "pygments_lexer": "ipython3",
   "version": "3.10.9"
  },
  "toc": {
   "base_numbering": 1,
   "nav_menu": {},
   "number_sections": false,
   "sideBar": true,
   "skip_h1_title": false,
   "title_cell": "Table of Contents",
   "title_sidebar": "Contents",
   "toc_cell": false,
   "toc_position": {
    "height": "calc(100% - 180px)",
    "left": "10px",
    "top": "150px",
    "width": "165px"
   },
   "toc_section_display": true,
   "toc_window_display": true
  }
 },
 "nbformat": 4,
 "nbformat_minor": 5
}
