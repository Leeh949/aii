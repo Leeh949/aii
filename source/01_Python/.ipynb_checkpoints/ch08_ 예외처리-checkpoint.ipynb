{
 "cells": [
  {
   "cell_type": "code",
   "execution_count": 1,
   "id": "7c209aec",
   "metadata": {},
   "outputs": [
    {
     "data": {
      "text/html": [
       "\n",
       "<style>\n",
       "div.container{width:90% !important;}\n",
       "div.cell.code_cell.rendered{width:100%;}\n",
       "div.input_prompt{padding:0px;}\n",
       "div.CodeMirror {font-family:Consolas; font-size:12pt;}\n",
       "div.text_cell_render.rendered_html{font-size:12pt;}\n",
       "div.output {font-size:12pt; font-weight:bold;}\n",
       "div.input {font-family:Consolas; font-size:12pt;}\n",
       "div.prompt {min-width:70px;}\n",
       "div#toc-wrapper{padding-top:120px;}\n",
       "div.text_cell_render ul li{font-size:12pt;padding:5px;}\n",
       "table.dataframe{font-size:12px;}\n",
       "</style>\n"
      ],
      "text/plain": [
       "<IPython.core.display.HTML object>"
      ]
     },
     "metadata": {},
     "output_type": "display_data"
    }
   ],
   "source": [
    "from IPython.display import display, HTML\n",
    "display(HTML(\"\"\"\n",
    "<style>\n",
    "div.container{width:90% !important;}\n",
    "div.cell.code_cell.rendered{width:100%;}\n",
    "div.input_prompt{padding:0px;}\n",
    "div.CodeMirror {font-family:Consolas; font-size:12pt;}\n",
    "div.text_cell_render.rendered_html{font-size:12pt;}\n",
    "div.output {font-size:12pt; font-weight:bold;}\n",
    "div.input {font-family:Consolas; font-size:12pt;}\n",
    "div.prompt {min-width:70px;}\n",
    "div#toc-wrapper{padding-top:120px;}\n",
    "div.text_cell_render ul li{font-size:12pt;padding:5px;}\n",
    "table.dataframe{font-size:12px;}\n",
    "</style>\n",
    "\"\"\"))\n"
   ]
  },
  {
   "cell_type": "markdown",
   "id": "71694f48",
   "metadata": {},
   "source": [
    "<b><font size = \"6\" color=\"red\"> ch08_ 예외처리 </font></b>\n",
    "```\n",
    "- 에러 \n",
    "    (1) 문법에러: 문법적으로 나타나는 에러(프로그램을 수정)\n",
    "    (2) 실행에러(실행시 에러)\n",
    "        *시스템 에러: 프로그래머의 의지와 상관없이 나타나는 에러\n",
    "        *예외: 정상적으로 동작하는 프로그램에서 나타나는 에러(MILD한 에러)\n",
    "```        \n",
    "# 1.절 예외처리 필요성\n",
    "- 예외가 날 가능성이 있는 부분에 대해서 미리 예상하고, 그에 대한 처리를 프로그래밍하는 것\n",
    "    (필요한 이유: 좀 더 안정적인 시스템)\n",
    "    \n",
    "```\n",
    "   ex. 파일을 다룰 때, 파일이 없거나, 쓰기금지, 파일 인코딩 방법에 인한 오류\n",
    "   ex. 데이터 베이스 프로그래밍 시 제약조건 등에 의한 CRUD 명령 수행 오류, DBMS 서버 오류\n",
    "   ex. 네트워크 프로그래밍 시 네트워크 연결 오류\n",
    "   ex. 리스트나 튜플의 인덱스를 벗어난 참조에 의한 오류\n",
    "```"
   ]
  },
  {
   "cell_type": "code",
   "execution_count": 3,
   "id": "9e5fb5d0",
   "metadata": {},
   "outputs": [
    {
     "name": "stdout",
     "output_type": "stream",
     "text": [
      "파일명: ch08.txt\n"
     ]
    },
    {
     "data": {
      "text/plain": [
       "'Hello\\nPython\\n'"
      ]
     },
     "execution_count": 3,
     "metadata": {},
     "output_type": "execute_result"
    }
   ],
   "source": [
    "# 파일명은 (ch08.txt, ch02.txt)0사용자에게 입력받아 해당 파일 내용을 출력\n",
    "filename = input(\"파일명: \")\n",
    "f = open('data/'+ filename, 'r') # 파일을 연다(스트림 객체 생성)\n",
    "f.read()"
   ]
  },
  {
   "cell_type": "code",
   "execution_count": 4,
   "id": "6e80179d",
   "metadata": {},
   "outputs": [],
   "source": [
    "f.close()"
   ]
  },
  {
   "cell_type": "code",
   "execution_count": 5,
   "id": "1a1c67df",
   "metadata": {},
   "outputs": [
    {
     "name": "stdout",
     "output_type": "stream",
     "text": [
      "파일명: a.txt\n"
     ]
    },
    {
     "ename": "FileNotFoundError",
     "evalue": "[Errno 2] No such file or directory: 'data/a.txt'",
     "output_type": "error",
     "traceback": [
      "\u001b[1;31m---------------------------------------------------------------------------\u001b[0m",
      "\u001b[1;31mFileNotFoundError\u001b[0m                         Traceback (most recent call last)",
      "Cell \u001b[1;32mIn[5], line 4\u001b[0m\n\u001b[0;32m      1\u001b[0m \u001b[38;5;66;03m#예외발생: 파일이 잘못 되었을 경우\u001b[39;00m\n\u001b[0;32m      3\u001b[0m filename \u001b[38;5;241m=\u001b[39m \u001b[38;5;28minput\u001b[39m(\u001b[38;5;124m\"\u001b[39m\u001b[38;5;124m파일명: \u001b[39m\u001b[38;5;124m\"\u001b[39m)\n\u001b[1;32m----> 4\u001b[0m f \u001b[38;5;241m=\u001b[39m \u001b[38;5;28;43mopen\u001b[39;49m\u001b[43m(\u001b[49m\u001b[38;5;124;43m'\u001b[39;49m\u001b[38;5;124;43mdata/\u001b[39;49m\u001b[38;5;124;43m'\u001b[39;49m\u001b[38;5;241;43m+\u001b[39;49m\u001b[43m \u001b[49m\u001b[43mfilename\u001b[49m\u001b[43m,\u001b[49m\u001b[43m \u001b[49m\u001b[38;5;124;43m'\u001b[39;49m\u001b[38;5;124;43mr\u001b[39;49m\u001b[38;5;124;43m'\u001b[39;49m\u001b[43m)\u001b[49m \u001b[38;5;66;03m# 파일을 연다(스트림 객체 생성)\u001b[39;00m\n\u001b[0;32m      5\u001b[0m \u001b[38;5;28mprint\u001b[39m(f\u001b[38;5;241m.\u001b[39mread())\n\u001b[0;32m      6\u001b[0m f\u001b[38;5;241m.\u001b[39mclose()\n",
      "File \u001b[1;32m~\\anaconda3\\lib\\site-packages\\IPython\\core\\interactiveshell.py:282\u001b[0m, in \u001b[0;36m_modified_open\u001b[1;34m(file, *args, **kwargs)\u001b[0m\n\u001b[0;32m    275\u001b[0m \u001b[38;5;28;01mif\u001b[39;00m file \u001b[38;5;129;01min\u001b[39;00m {\u001b[38;5;241m0\u001b[39m, \u001b[38;5;241m1\u001b[39m, \u001b[38;5;241m2\u001b[39m}:\n\u001b[0;32m    276\u001b[0m     \u001b[38;5;28;01mraise\u001b[39;00m \u001b[38;5;167;01mValueError\u001b[39;00m(\n\u001b[0;32m    277\u001b[0m         \u001b[38;5;124mf\u001b[39m\u001b[38;5;124m\"\u001b[39m\u001b[38;5;124mIPython won\u001b[39m\u001b[38;5;124m'\u001b[39m\u001b[38;5;124mt let you open fd=\u001b[39m\u001b[38;5;132;01m{\u001b[39;00mfile\u001b[38;5;132;01m}\u001b[39;00m\u001b[38;5;124m by default \u001b[39m\u001b[38;5;124m\"\u001b[39m\n\u001b[0;32m    278\u001b[0m         \u001b[38;5;124m\"\u001b[39m\u001b[38;5;124mas it is likely to crash IPython. If you know what you are doing, \u001b[39m\u001b[38;5;124m\"\u001b[39m\n\u001b[0;32m    279\u001b[0m         \u001b[38;5;124m\"\u001b[39m\u001b[38;5;124myou can use builtins\u001b[39m\u001b[38;5;124m'\u001b[39m\u001b[38;5;124m open.\u001b[39m\u001b[38;5;124m\"\u001b[39m\n\u001b[0;32m    280\u001b[0m     )\n\u001b[1;32m--> 282\u001b[0m \u001b[38;5;28;01mreturn\u001b[39;00m io_open(file, \u001b[38;5;241m*\u001b[39margs, \u001b[38;5;241m*\u001b[39m\u001b[38;5;241m*\u001b[39mkwargs)\n",
      "\u001b[1;31mFileNotFoundError\u001b[0m: [Errno 2] No such file or directory: 'data/a.txt'"
     ]
    }
   ],
   "source": [
    "#예외발생: 파일이 잘못 되었을 경우\n",
    "\n",
    "filename = input(\"파일명: \")\n",
    "f = open('data/'+ filename, 'r') # 파일을 연다(스트림 객체 생성)\n",
    "print(f.read())\n",
    "f.close()"
   ]
  },
  {
   "cell_type": "code",
   "execution_count": 10,
   "id": "5482024e",
   "metadata": {},
   "outputs": [
    {
     "name": "stdout",
     "output_type": "stream",
     "text": [
      "파일명: ch08.txt\n",
      "Hello\n",
      "Python\n",
      "주피터노트북의 txt파일 저장은 기본이 utf-8로 저장\n",
      "김설믜\n"
     ]
    }
   ],
   "source": [
    "# 예외발생: 인코딩방식 에러\n",
    "# 한글코드: 인코딩방식:\n",
    "# 한글완성형(enu-kr < cp949): 1만1천172자 중 2850자만 코드표현법\n",
    "# 한글조합형(utf-8): ch08.txt \n",
    "filename = input(\"파일명: \")\n",
    "f = open('data/'+ filename, 'r', encoding='utf-8') # 파일을 연다(cp949코드가 기본 encoding 방식)\n",
    "print(f.read())\n",
    "f.close()"
   ]
  },
  {
   "cell_type": "markdown",
   "id": "13f98273",
   "metadata": {},
   "source": []
  },
  {
   "cell_type": "markdown",
   "id": "03e384b8",
   "metadata": {},
   "source": [
    "# 2절 try~except로 예외처리\n",
    "## 2.1 try~except\n",
    "\n",
    "```\n",
    "try:\n",
    "    예외가 발생할 가능성이 있는 명령어들\n",
    "except:\n",
    "    예외가 발생했을 경우 실행할 명령어들\n",
    "\n",
    "```"
   ]
  },
  {
   "cell_type": "code",
   "execution_count": 26,
   "id": "79f901d9",
   "metadata": {},
   "outputs": [
    {
     "name": "stdout",
     "output_type": "stream",
     "text": [
      "100을 나눌 정수를 입력하세요: 0\n"
     ]
    },
    {
     "ename": "ZeroDivisionError",
     "evalue": "division by zero",
     "output_type": "error",
     "traceback": [
      "\u001b[1;31m---------------------------------------------------------------------------\u001b[0m",
      "\u001b[1;31mZeroDivisionError\u001b[0m                         Traceback (most recent call last)",
      "Cell \u001b[1;32mIn[26], line 4\u001b[0m\n\u001b[0;32m      1\u001b[0m \u001b[38;5;66;03m# 100을 입력받은 정수갑스로 나눠 출력\u001b[39;00m\n\u001b[0;32m      2\u001b[0m \u001b[38;5;66;03m#ValueError: invalid literal for int() with base 10: '삼' (정수를 입력하지 않은 경우)\u001b[39;00m\n\u001b[0;32m      3\u001b[0m x \u001b[38;5;241m=\u001b[39m \u001b[38;5;28mint\u001b[39m(\u001b[38;5;28minput\u001b[39m(\u001b[38;5;124m'\u001b[39m\u001b[38;5;124m100을 나눌 정수를 입력하세요: \u001b[39m\u001b[38;5;124m'\u001b[39m))\n\u001b[1;32m----> 4\u001b[0m \u001b[38;5;28mprint\u001b[39m(\u001b[38;5;124mf\u001b[39m\u001b[38;5;124m\"\u001b[39m\u001b[38;5;124m100을 입력한 정수로 나누면 \u001b[39m\u001b[38;5;132;01m{\u001b[39;00m\u001b[38;5;241m100\u001b[39m\u001b[38;5;241m/\u001b[39mx\u001b[38;5;132;01m:\u001b[39;00m\u001b[38;5;124m.3f\u001b[39m\u001b[38;5;132;01m}\u001b[39;00m\u001b[38;5;124m\"\u001b[39m)\n",
      "\u001b[1;31mZeroDivisionError\u001b[0m: division by zero"
     ]
    }
   ],
   "source": [
    "# 100을 입력받은 정수갑스로 나눠 출력\n",
    "# ValueError: invalid literal for int() with base 10: '삼' (정수를 입력하지 않은 경우)\n",
    "# ZeroDivisionError: division by zero (0을 입력하였을 경우 예외 객체의 타입과 메세지)\n",
    "x = int(input('100을 나눌 정수를 입력하세요: '))\n",
    "print(f\"100을 입력한 정수로 나누면 {100/x:.3f}\")"
   ]
  },
  {
   "cell_type": "code",
   "execution_count": 31,
   "id": "a597b379",
   "metadata": {},
   "outputs": [
    {
     "name": "stdout",
     "output_type": "stream",
     "text": [
      "100을 나눌 정수를 입력하세요: 0\n",
      "유효한 정수가 아닙니다.\n"
     ]
    }
   ],
   "source": [
    "# 100을 입력받은 정수갑스로 나눠 출력\n",
    "# ValueError: invalid literal for int() with base 10: '삼' (정수를 입력하지 않은 경우)\n",
    "# ZeroDivisionError: division by zero (0을 입력하였을 경우 예외 객체의 타입과 메세지)\n",
    "# try절에 예외가 발생되지 않으면 except절은 수행되지 않음\n",
    "# try절에 예외가 발생되면, try절 수행을 멈추고 except절을 수행 \n",
    "try:\n",
    "    x =int(input('100을 나눌 정수를 입력하세요: '))\n",
    "    print(f\"100을 입력한 정수로 나누면 {100/x:.3f}\")\n",
    "        \n",
    "except:\n",
    "    print(\"유효한 정수가 아닙니다.\")"
   ]
  },
  {
   "cell_type": "code",
   "execution_count": 33,
   "id": "a28b5c20",
   "metadata": {},
   "outputs": [
    {
     "name": "stdout",
     "output_type": "stream",
     "text": [
      "100을 나눌 정수를 입력하세요: a\n",
      "유효한 정수가 아닙니다.\n",
      "100을 나눌 정수를 입력하세요: w\n",
      "유효한 정수가 아닙니다.\n",
      "100을 나눌 정수를 입력하세요: ㅁ\n",
      "유효한 정수가 아닙니다.\n",
      "100을 나눌 정수를 입력하세요:  \n",
      "유효한 정수가 아닙니다.\n",
      "100을 나눌 정수를 입력하세요: 2\n",
      "100을 입력한 정수로 나누면 50.000\n"
     ]
    }
   ],
   "source": [
    "# 100을 나눌 유효한 정수를 입력할 때까지 입력받아 100을 나눈 결과를 출력\n",
    "while True:\n",
    "    try:\n",
    "        x =int(input('100을 나눌 정수를 입력하세요: '))\n",
    "        print(f\"100을 입력한 정수로 나누면 {100/x:.3f}\")\n",
    "        break\n",
    "    except:\n",
    "        print(\"유효한 정수가 아닙니다.\")"
   ]
  },
  {
   "cell_type": "markdown",
   "id": "d00db80d",
   "metadata": {},
   "source": [
    "## 2.2 지정된 예외 처리\n",
    "\n",
    "```\n",
    "try:\n",
    "    예외가 발생할 수 있는 명령어\n",
    "except (예외타입1, 예외타입3):\n",
    "    해당 예외가 발생할 경우 실행할 명령어\n",
    "except 예외타입2:\n",
    "    해당 예외가 발생할 경우 실행할 명령어\n",
    "```"
   ]
  },
  {
   "cell_type": "code",
   "execution_count": 3,
   "id": "5713db63",
   "metadata": {},
   "outputs": [
    {
     "name": "stdout",
     "output_type": "stream",
     "text": [
      "100을 나눌 정수를 입력하세요: 0\n",
      "0으로는 나눌 수 없습니다.\n"
     ]
    }
   ],
   "source": [
    "# 수를 입력받아 100을 나눈 결과를 출력\n",
    "# ValueError: invalid literal for int() with base 10: '삼' (정수를 입력하지 않은 경우)\n",
    "# ZeroDivisionError: division by zero (0을 입력하였을 경우 예외 객체의 타입과 메세지)\n",
    "\n",
    "try:\n",
    "    x =int(input('100을 나눌 정수를 입력하세요: '))\n",
    "    print(f\"100을 입력한 정수로 나누면 {100/x:.3f}\")\n",
    "    \n",
    "except (ZeroDivisionError, ValueError):\n",
    "    print(\"나눌 수 있는 유효한 수가 아닙니다\")\n",
    "\n",
    "except Exception:\n",
    "    print(\"기타 다른 예외입니다.\")"
   ]
  },
  {
   "cell_type": "markdown",
   "id": "633c501f",
   "metadata": {},
   "source": [
    "## 2.3 예외 인수(e)\n",
    "```\n",
    "try:\n",
    "    예외가 발생할 수 있는 명령어\n",
    "except 예외타입 as e:\n",
    "    print(e)\n",
    "    print(e.args[0]) # 예외메세지 출력\n",
    "```"
   ]
  },
  {
   "cell_type": "code",
   "execution_count": 11,
   "id": "bbe18dcf",
   "metadata": {},
   "outputs": [
    {
     "name": "stdout",
     "output_type": "stream",
     "text": [
      "100을 나눌 정수를 입력하세요: 0\n",
      "예외 유형:  <class 'ZeroDivisionError'>\n",
      "예외 메세지:  division by zero\n",
      "예외 메세지:  division by zero\n",
      "예외 메세지:  ('division by zero',)\n"
     ]
    }
   ],
   "source": [
    "try:\n",
    "    x =int(input('100을 나눌 정수를 입력하세요: '))\n",
    "    print(f\"100을 입력한 정수로 나누면 {100/x:.3f}\")\n",
    "    \n",
    "except (ZeroDivisionError, ValueError) as e:\n",
    "    print(\"예외 유형: \",type(e))\n",
    "    print(\"예외 메세지: \",e)\n",
    "    print(\"예외 메세지: \",e.__str__())\n",
    "    print(\"예외 메세지: \", e.args)\n",
    "\n",
    "except Exception:\n",
    "    print(\"기타 다른 예외입니다.\")"
   ]
  },
  {
   "cell_type": "markdown",
   "id": "7f93f92a",
   "metadata": {},
   "source": [
    "```\n",
    "try:\n",
    "    예외 발생 가능 명령어\n",
    "except [예외 타입[as e]]:\n",
    "    예외타입 발생시 명령어\n",
    "[else:\n",
    "    try절 수행하다 예외가 발생 안 되면 else절 수행 \n",
    "    try절 수행하다 예외가 발생하면 except절 수행 (else절은 수행 안함)\n",
    "]\n",
    "[finally:\n",
    "    try 절에서 예외가 발생하든 안 하든 마지막에 수행]\n",
    "```"
   ]
  },
  {
   "cell_type": "code",
   "execution_count": 13,
   "id": "8065036c",
   "metadata": {},
   "outputs": [
    {
     "name": "stdout",
     "output_type": "stream",
     "text": [
      "Hello\n",
      "Python\n",
      "\n"
     ]
    }
   ],
   "source": [
    "try:\n",
    "    file = open('data/ch08.txt','r' , encoding=\"utf-8\")\n",
    "    print(file.read())\n",
    "except FileNotFoundError as e:\n",
    "    print('해당 폴더나 파일이 없습니다.')\n",
    "    print(e)\n",
    "finally:\n",
    "    file.close()"
   ]
  },
  {
   "cell_type": "markdown",
   "id": "68d55331",
   "metadata": {},
   "source": [
    "# 3절 raise\n",
    "- 강제 예외 발생"
   ]
  },
  {
   "cell_type": "code",
   "execution_count": 15,
   "id": "d97243f7",
   "metadata": {},
   "outputs": [
    {
     "ename": "ZeroDivisionError",
     "evalue": "0으로 나누려고 했네",
     "output_type": "error",
     "traceback": [
      "\u001b[1;31m---------------------------------------------------------------------------\u001b[0m",
      "\u001b[1;31mZeroDivisionError\u001b[0m                         Traceback (most recent call last)",
      "Cell \u001b[1;32mIn[15], line 1\u001b[0m\n\u001b[1;32m----> 1\u001b[0m \u001b[38;5;28;01mraise\u001b[39;00m \u001b[38;5;167;01mZeroDivisionError\u001b[39;00m(\u001b[38;5;124m\"\u001b[39m\u001b[38;5;124m0으로 나누려고 했네\u001b[39m\u001b[38;5;124m\"\u001b[39m)\n",
      "\u001b[1;31mZeroDivisionError\u001b[0m: 0으로 나누려고 했네"
     ]
    }
   ],
   "source": [
    "raise ZeroDivisionError(\"0으로 나누려고 했네\")"
   ]
  },
  {
   "cell_type": "code",
   "execution_count": 16,
   "id": "fa1880db",
   "metadata": {},
   "outputs": [],
   "source": [
    "# 사용자 정의 예외: Exception클래스로부터 상속받아 구현\n",
    "class LengthZeoroError(Exception):\n",
    "    '길이가 0일 때 발생하는 예외'\n",
    "    def __init__(self, message):\n",
    "        super().__init__(message)"
   ]
  },
  {
   "cell_type": "code",
   "execution_count": 17,
   "id": "80048858",
   "metadata": {},
   "outputs": [],
   "source": [
    "def insert(*data): # 튜플 매개변수\n",
    "    if len(data) == 0:\n",
    "        raise LengthZeoroError(\"매개변수의 갯수가 0이면 얘외예요(사용자 정의 예외)\")\n",
    "    for item in data:\n",
    "        print(item , end=' ')\n",
    "    print(\"등을 입력하였습니다\")"
   ]
  },
  {
   "cell_type": "code",
   "execution_count": 18,
   "id": "27f594ec",
   "metadata": {},
   "outputs": [
    {
     "name": "stdout",
     "output_type": "stream",
     "text": [
      "1 2 3 등을 입력하였습니다\n"
     ]
    }
   ],
   "source": [
    "insert(1,2,'3')"
   ]
  },
  {
   "cell_type": "code",
   "execution_count": 22,
   "id": "b66e029a",
   "metadata": {},
   "outputs": [
    {
     "name": "stdout",
     "output_type": "stream",
     "text": [
      "매개변수의 갯수가 0이면 얘외예요(사용자 정의 예외)\n",
      "예외가 발샐하든 안하든 무조건 실행\n"
     ]
    }
   ],
   "source": [
    "data = ()\n",
    "try:\n",
    "    insert(*data)\n",
    "except Exception as e:\n",
    "    print(e)\n",
    "else:\n",
    "    print('예외가 발생 안 할 때만 실행')\n",
    "finally:\n",
    "    print('예외가 발샐하든 안하든 무조건 실행')"
   ]
  },
  {
   "cell_type": "markdown",
   "id": "a04d72ec",
   "metadata": {},
   "source": [
    "# 4절 추상클래스\n",
    "- 추상클래스: 추상메소드가 1개 이상 포홤된 클래스가 추상 클래스\n",
    "- 추사메소드: 호출할 수 없는 메소드. 상속받은 클래스에서 재정의를 강요할 때\n",
    "- python에서 추상메소드@abstractmethod나 raise를 이용"
   ]
  },
  {
   "cell_type": "code",
   "execution_count": 37,
   "id": "d7e8e03c",
   "metadata": {},
   "outputs": [],
   "source": [
    "class Shape:\n",
    "    def __inif__(self):\n",
    "        raise NotImplementedError(\"추상클래스 역할\")\n",
    "    def calc_area(self):\n",
    "        raise NotImplementedError(\"추상메소드 역할\")"
   ]
  },
  {
   "cell_type": "code",
   "execution_count": 41,
   "id": "b7360861",
   "metadata": {},
   "outputs": [],
   "source": [
    "from abc import ABC, abstractmethod\n",
    "class Shape(ABC):\n",
    "    def __inif__(self):\n",
    "        pass\n",
    "    def calc_area(self):\n",
    "        pass"
   ]
  },
  {
   "cell_type": "code",
   "execution_count": 42,
   "id": "d82b6e7e",
   "metadata": {},
   "outputs": [],
   "source": [
    "class Circle(Shape):\n",
    "    def __init__(self, radius=3):\n",
    "        self.radius = radius\n",
    "    def calc_area(self):\n",
    "        '원의 넓이를 return'\n",
    "        return 3.14 * (self.radius**2)"
   ]
  },
  {
   "cell_type": "code",
   "execution_count": 43,
   "id": "376330a0",
   "metadata": {},
   "outputs": [
    {
     "data": {
      "text/plain": [
       "78.5"
      ]
     },
     "execution_count": 43,
     "metadata": {},
     "output_type": "execute_result"
    }
   ],
   "source": [
    "myCircle = Circle(5)\n",
    "myCircle.calc_area()"
   ]
  },
  {
   "cell_type": "markdown",
   "id": "9ca23c9a",
   "metadata": {},
   "source": [
    "# 5절 파일 정리 작업(with절 이용)"
   ]
  },
  {
   "cell_type": "code",
   "execution_count": 40,
   "id": "186f6d03",
   "metadata": {},
   "outputs": [
    {
     "name": "stdout",
     "output_type": "stream",
     "text": [
      "['Hello\\n', 'Python\\n']\n"
     ]
    }
   ],
   "source": [
    "try:\n",
    "    f = open('data/ch08.txt','r', encoding = 'utf-8')\n",
    "    lines = f.readlines() # 한줄한줄 모든 줄을 ㅎㄴ꺼번에 list로 읽어오기\n",
    "    print(lines)\n",
    "except Exception as e:\n",
    "    print(e)\n",
    "finally:\n",
    "    f.close()"
   ]
  },
  {
   "cell_type": "code",
   "execution_count": 45,
   "id": "8fd884e5",
   "metadata": {},
   "outputs": [
    {
     "name": "stdout",
     "output_type": "stream",
     "text": [
      "['Hello\\n', 'Python\\n']\n"
     ]
    }
   ],
   "source": [
    "\n",
    "f = open('data/ch08.txt','r', encoding = 'utf-8')\n",
    "lines = f.readlines() # 한줄한줄 모든 줄을 ㅎㄴ꺼번에 list로 읽어오기\n",
    "print(lines)\n",
    "f.close()"
   ]
  },
  {
   "cell_type": "code",
   "execution_count": null,
   "id": "278fc95e",
   "metadata": {},
   "outputs": [],
   "source": [
    "# with 절 이후에는 자동적으로 close()실행\n",
    "with open('data/ch08.txt','r', encoding='utf-8') as f:\n",
    "    lines = f.readlines()\n",
    "print(lines)"
   ]
  },
  {
   "cell_type": "code",
   "execution_count": 47,
   "id": "0e5f1dec",
   "metadata": {},
   "outputs": [
    {
     "name": "stdout",
     "output_type": "stream",
     "text": [
      "['Hello\\n', 'Python\\n', '주피터 노트북의 txt파일 저장은 기본이 utf-8로 저장\\n', '김설믜\\n']\n"
     ]
    }
   ],
   "source": [
    "try:\n",
    "    with open('data/ch08.txt','r',encoding= 'utf-8') as f:\n",
    "        lines = f.readlines()\n",
    "    print(lines)\n",
    "except (FileNotFoundError, UnicodeDecodeError) as e:\n",
    "    print(e)"
   ]
  },
  {
   "cell_type": "markdown",
   "id": "c6117548",
   "metadata": {},
   "source": [
    "# 6절 연습문제\n",
    "## 실습형"
   ]
  },
  {
   "cell_type": "code",
   "execution_count": 2,
   "id": "05183965",
   "metadata": {},
   "outputs": [
    {
     "name": "stdout",
     "output_type": "stream",
     "text": [
      "첫번째 숫자를 입력하세요: hello\n",
      "유효한 정수가 아닙니다.\n",
      "첫번째 숫자를 입력하세요: 10\n",
      "두 번째 숫자를 입력하세요:0\n",
      "유효한 정수가 아닙니다.\n",
      "첫번째 숫자를 입력하세요: 3.5\n",
      "두 번째 숫자를 입력하세요:hello\n",
      "유효한 정수가 아닙니다.\n",
      "첫번째 숫자를 입력하세요: 3.5\n",
      "두 번째 숫자를 입력하세요:2\n",
      "3.5을2.0로 나누면 1.75\n"
     ]
    }
   ],
   "source": [
    "#1)\n",
    "# 100을 나눌 유효한 정수를 입력할 때까지 입력받아 100을 나눈 결과를 출력\n",
    "while True:\n",
    "    try:\n",
    "        x = float(input('첫번째 숫자를 입력하세요: '))\n",
    "        y = float(input(\"두 번째 숫자를 입력하세요:\"))\n",
    "        print(f\"입력한 수는 {x}와{y}입니다.\")\n",
    "        print(f\"{x}을{y}로 나누면 {x/y:.2f}\")\n",
    "        break\n",
    "    except:\n",
    "        print(\"유효한 정수가 아닙니다.\")"
   ]
  },
  {
   "cell_type": "code",
   "execution_count": 1,
   "id": "a33158fd",
   "metadata": {},
   "outputs": [
    {
     "name": "stdout",
     "output_type": "stream",
     "text": [
      "첫번째 숫자를 입력하세요: abc\n",
      "유효한 숫자가 아닙니다. 다시 시도하세요.\n",
      "첫번째 숫자를 입력하세요: 10\n",
      "두 번째 숫자를 입력하세요:0\n",
      "입력한 수는 10.0와0.0입니다.\n",
      "0으로 나눌 수 없습니다. 다시 시도하세요.\n",
      "첫번째 숫자를 입력하세요: 5\n",
      "두 번째 숫자를 입력하세요:3\n",
      "입력한 수는 5.0와3.0입니다.\n",
      "5.0을3.0로 나누면 1.67\n"
     ]
    }
   ],
   "source": [
    "while True:\n",
    "    try:\n",
    "        x = float(input('첫번째 숫자를 입력하세요: '))\n",
    "        y = float(input(\"두 번째 숫자를 입력하세요:\"))\n",
    "        print(f\"입력한 수는 {x}와{y}입니다.\")\n",
    "        print(f\"{x}을{y}로 나누면 {x/y:.2f}\")\n",
    "        break\n",
    "    except ValueError:\n",
    "        print(\"유효한 숫자가 아닙니다. 다시 시도하세요.\")\n",
    "    except ZeroDivisionError:\n",
    "        print(\"0으로 나눌 수 없습니다. 다시 시도하세요.\")\n",
    "   "
   ]
  },
  {
   "cell_type": "markdown",
   "id": "56c3c852",
   "metadata": {},
   "source": [
    "## 문제풀이형"
   ]
  },
  {
   "cell_type": "code",
   "execution_count": 2,
   "id": "18f6d84a",
   "metadata": {},
   "outputs": [],
   "source": [
    "# 1)\n",
    "# Exception 이 먼저 나올경우가 아니면 순서는상관없다"
   ]
  },
  {
   "cell_type": "code",
   "execution_count": 3,
   "id": "2d6b810c",
   "metadata": {},
   "outputs": [],
   "source": [
    "# 2)\n",
    "# Python에서는 실행되지않는다"
   ]
  },
  {
   "cell_type": "code",
   "execution_count": 4,
   "id": "6401fb0f",
   "metadata": {},
   "outputs": [],
   "source": [
    "# 3) e로 사용하려면 as를 써야한다"
   ]
  },
  {
   "cell_type": "code",
   "execution_count": null,
   "id": "55b900ba",
   "metadata": {},
   "outputs": [],
   "source": [
    "# 4) 3번 자동으로 실행하는 구문"
   ]
  }
 ],
 "metadata": {
  "kernelspec": {
   "display_name": "Python 3 (ipykernel)",
   "language": "python",
   "name": "python3"
  },
  "language_info": {
   "codemirror_mode": {
    "name": "ipython",
    "version": 3
   },
   "file_extension": ".py",
   "mimetype": "text/x-python",
   "name": "python",
   "nbconvert_exporter": "python",
   "pygments_lexer": "ipython3",
   "version": "3.10.9"
  },
  "toc": {
   "base_numbering": 1,
   "nav_menu": {},
   "number_sections": false,
   "sideBar": true,
   "skip_h1_title": false,
   "title_cell": "Table of Contents",
   "title_sidebar": "Contents",
   "toc_cell": false,
   "toc_position": {
    "height": "calc(100% - 180px)",
    "left": "10px",
    "top": "150px",
    "width": "235.434px"
   },
   "toc_section_display": true,
   "toc_window_display": true
  }
 },
 "nbformat": 4,
 "nbformat_minor": 5
}
