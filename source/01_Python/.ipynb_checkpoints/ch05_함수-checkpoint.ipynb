{
 "cells": [
  {
   "cell_type": "code",
   "execution_count": 18,
   "id": "3f08fd11",
   "metadata": {},
   "outputs": [
    {
     "data": {
      "text/html": [
       "\n",
       "<style>\n",
       "div.container{width:90% !important;}\n",
       "div.cell.code_cell.rendered{width:100%;}\n",
       "div.input_prompt{padding:0px;}\n",
       "div.CodeMirror {font-family:Consolas; font-size:12pt;}\n",
       "div.text_cell_render.rendered_html{font-size:12pt;}\n",
       "div.output {font-size:12pt; font-weight:bold;}\n",
       "div.input {font-family:Consolas; font-size:12pt;}\n",
       "div.prompt {min-width:70px;}\n",
       "div#toc-wrapper{padding-top:120px;}\n",
       "div.text_cell_render ul li{font-size:12pt;padding:5px;}\n",
       "table.dataframe{font-size:12px;}\n",
       "</style>\n"
      ],
      "text/plain": [
       "<IPython.core.display.HTML object>"
      ]
     },
     "metadata": {},
     "output_type": "display_data"
    }
   ],
   "source": [
    "from IPython.display import display, HTML\n",
    "display(HTML(\"\"\"\n",
    "<style>\n",
    "div.container{width:90% !important;}\n",
    "div.cell.code_cell.rendered{width:100%;}\n",
    "div.input_prompt{padding:0px;}\n",
    "div.CodeMirror {font-family:Consolas; font-size:12pt;}\n",
    "div.text_cell_render.rendered_html{font-size:12pt;}\n",
    "div.output {font-size:12pt; font-weight:bold;}\n",
    "div.input {font-family:Consolas; font-size:12pt;}\n",
    "div.prompt {min-width:70px;}\n",
    "div#toc-wrapper{padding-top:120px;}\n",
    "div.text_cell_render ul li{font-size:12pt;padding:5px;}\n",
    "table.dataframe{font-size:12px;}\n",
    "</style>\n",
    "\"\"\"))\n"
   ]
  },
  {
   "cell_type": "markdown",
   "id": "e7755d16",
   "metadata": {},
   "source": [
    "<b><font size=\"6\" color=\"red\">ch05_함수</font></b>\n",
    "- 반복해서 사용할 코드를 묶어 놓고 그것에 이름을 붙인 것\n",
    "- 오버로딩 불가(같은 이름의 함수는 덮어씀)\n",
    "- 함수 정의\n",
    "```\n",
    "def 함수명([매개변수1,매개변수2, ..])\n",
    "    명령어1\n",
    "    명령어2.....\n",
    "```\n",
    "# 1절 함수의 정의 및 사용\n",
    "\n",
    "## 1.1 함수 정의"
   ]
  },
  {
   "cell_type": "code",
   "execution_count": 19,
   "id": "ac2a9610",
   "metadata": {},
   "outputs": [],
   "source": [
    "def my_message(x, msg): # msg를 x번 출력하는 함수\n",
    "    for i in range(x):\n",
    "        print(i,msg)"
   ]
  },
  {
   "cell_type": "code",
   "execution_count": 20,
   "id": "5f0c3200",
   "metadata": {},
   "outputs": [
    {
     "name": "stdout",
     "output_type": "stream",
     "text": [
      "0 Hello\n",
      "1 Hello\n",
      "2 Hello\n"
     ]
    }
   ],
   "source": [
    "# 함수 사용 == 함수 호출\n",
    "my_message(3, 'Hello')"
   ]
  },
  {
   "cell_type": "code",
   "execution_count": 21,
   "id": "56b9dfb9",
   "metadata": {},
   "outputs": [
    {
     "name": "stdout",
     "output_type": "stream",
     "text": [
      "0 hi\n",
      "1 hi\n",
      "0 bye\n",
      "1 bye\n",
      "2 bye\n"
     ]
    }
   ],
   "source": [
    "# 함수 이름 변경\n",
    "my_msg = my_message\n",
    "my_message(2, 'hi')\n",
    "my_msg(3,'bye')"
   ]
  },
  {
   "cell_type": "code",
   "execution_count": 22,
   "id": "f3f38db5",
   "metadata": {},
   "outputs": [
    {
     "data": {
      "text/plain": [
       "function"
      ]
     },
     "execution_count": 22,
     "metadata": {},
     "output_type": "execute_result"
    }
   ],
   "source": [
    "type (my_msg)"
   ]
  },
  {
   "cell_type": "code",
   "execution_count": 23,
   "id": "fb587178",
   "metadata": {},
   "outputs": [
    {
     "name": "stdout",
     "output_type": "stream",
     "text": [
      "Hello\n",
      "hello\n"
     ]
    }
   ],
   "source": [
    "print(\"Hello\") # 파이썬 내장 함수(import 하지 않고 사용할 수 있는 함수)\n",
    "print = 5\n",
    "#print('hello')\n",
    "del print\n",
    "print(\"hello\")"
   ]
  },
  {
   "cell_type": "code",
   "execution_count": 24,
   "id": "53c4050c",
   "metadata": {},
   "outputs": [
    {
     "name": "stdout",
     "output_type": "stream",
     "text": [
      "0 Hello\n",
      "1 Hello\n"
     ]
    }
   ],
   "source": [
    "my_message (2, \"Hello\")"
   ]
  },
  {
   "cell_type": "code",
   "execution_count": 25,
   "id": "54ab3598",
   "metadata": {},
   "outputs": [],
   "source": [
    "my_message = 5"
   ]
  },
  {
   "cell_type": "code",
   "execution_count": 26,
   "id": "640cc6a2",
   "metadata": {},
   "outputs": [
    {
     "ename": "NameError",
     "evalue": "name 'my_message' is not defined",
     "output_type": "error",
     "traceback": [
      "\u001b[1;31m---------------------------------------------------------------------------\u001b[0m",
      "\u001b[1;31mNameError\u001b[0m                                 Traceback (most recent call last)",
      "Cell \u001b[1;32mIn[26], line 2\u001b[0m\n\u001b[0;32m      1\u001b[0m \u001b[38;5;28;01mdel\u001b[39;00m my_message \u001b[38;5;66;03m# 변수 및 함수 제거하여도\u001b[39;00m\n\u001b[1;32m----> 2\u001b[0m \u001b[43mmy_message\u001b[49m(\u001b[38;5;241m2\u001b[39m, \u001b[38;5;124m'\u001b[39m\u001b[38;5;124mHello\u001b[39m\u001b[38;5;124m'\u001b[39m)\n",
      "\u001b[1;31mNameError\u001b[0m: name 'my_message' is not defined"
     ]
    }
   ],
   "source": [
    "del my_message # 변수 및 함수 제거하여도\n",
    "my_message(2, 'Hello') # 사용자 정의함수, 라이브러리 함수는 사용불가"
   ]
  },
  {
   "cell_type": "code",
   "execution_count": 27,
   "id": "8ef02767",
   "metadata": {},
   "outputs": [],
   "source": [
    "# 함수 중복 정의 불가 (오버로딩 불가)\n",
    "def my_hello():\n",
    "    print('Hello Python')\n",
    "    print('Hellp world')\n",
    "def my_hello(cnt):# cnt번 출\n",
    "    for i in range(cnt):\n",
    "        print(\"Hello,Python\",end = \"\\t\")\n",
    "        print(\"Hellp, world\")"
   ]
  },
  {
   "cell_type": "code",
   "execution_count": 28,
   "id": "95e74392",
   "metadata": {},
   "outputs": [
    {
     "name": "stdout",
     "output_type": "stream",
     "text": [
      "Hello,Python\tHellp, world\n",
      "Hello,Python\tHellp, world\n"
     ]
    }
   ],
   "source": [
    "my_hello(2)"
   ]
  },
  {
   "cell_type": "code",
   "execution_count": 29,
   "id": "ec79aa36",
   "metadata": {},
   "outputs": [
    {
     "data": {
      "text/plain": [
       "<function __main__.my_hello(cnt)>"
      ]
     },
     "execution_count": 29,
     "metadata": {},
     "output_type": "execute_result"
    }
   ],
   "source": [
    "my_hello"
   ]
  },
  {
   "cell_type": "code",
   "execution_count": 30,
   "id": "a713f484",
   "metadata": {},
   "outputs": [
    {
     "data": {
      "text/plain": [
       "'__main__'"
      ]
     },
     "execution_count": 30,
     "metadata": {},
     "output_type": "execute_result"
    }
   ],
   "source": [
    "__name__"
   ]
  },
  {
   "cell_type": "code",
   "execution_count": 31,
   "id": "15f8140d",
   "metadata": {},
   "outputs": [
    {
     "name": "stdout",
     "output_type": "stream",
     "text": [
      "Hello,Python\tHellp, world\n",
      "Hello,Python\tHellp, world\n"
     ]
    }
   ],
   "source": [
    "if __name__ == '__main__':\n",
    "    my_hello(2)"
   ]
  },
  {
   "cell_type": "code",
   "execution_count": 48,
   "id": "c69ceb81",
   "metadata": {},
   "outputs": [],
   "source": [
    "import ch05"
   ]
  },
  {
   "cell_type": "code",
   "execution_count": 49,
   "id": "0e9c4b4e",
   "metadata": {},
   "outputs": [
    {
     "name": "stdout",
     "output_type": "stream",
     "text": [
      "hello, python\thello, World\n",
      "hello, python\thello, World\n",
      "hello, python\thello, World\n"
     ]
    }
   ],
   "source": [
    "ch05.my_hello(3)"
   ]
  },
  {
   "cell_type": "code",
   "execution_count": 50,
   "id": "c73dcada",
   "metadata": {},
   "outputs": [],
   "source": [
    "from ch05 import my_hello # ch05모듈안의 my_hello만 메모리 로드 "
   ]
  },
  {
   "cell_type": "code",
   "execution_count": 52,
   "id": "f19a8dcd",
   "metadata": {},
   "outputs": [
    {
     "name": "stdout",
     "output_type": "stream",
     "text": [
      "hello, python\thello, World\n",
      "hello, python\thello, World\n",
      "hello, python\thello, World\n"
     ]
    }
   ],
   "source": [
    "my_hello(3)"
   ]
  },
  {
   "cell_type": "markdown",
   "id": "b8f9646e",
   "metadata": {},
   "source": [
    "## 1.2 docstring"
   ]
  },
  {
   "cell_type": "code",
   "execution_count": 53,
   "id": "c2ae446d",
   "metadata": {},
   "outputs": [],
   "source": [
    "def my_function():\n",
    "    \"\"\"\n",
    "    함수의 첫 라인에 독스트링을 포함할 수 있습니다.\n",
    "    독스트링은 함수의 설명서를 달아주는 역할\n",
    "    주석보다 많은 기능(함수 호출시 shift + tab으로 독스트링을 볼 수 있음)\n",
    "    \"\"\"\n",
    "    pass"
   ]
  },
  {
   "cell_type": "code",
   "execution_count": 54,
   "id": "8edf74bc",
   "metadata": {},
   "outputs": [
    {
     "name": "stdout",
     "output_type": "stream",
     "text": [
      "\n",
      "    함수의 첫 라인에 독스트링을 포함할 수 있습니다.\n",
      "    독스트링은 함수의 설명서를 달아주는 역할\n",
      "    주석보다 많은 기능(함수 호출시 shift + tab으로 독스트링을 볼 수 있음)\n",
      "    \n"
     ]
    }
   ],
   "source": [
    "print(my_function.__doc__)"
   ]
  },
  {
   "cell_type": "code",
   "execution_count": 59,
   "id": "e1791dfa",
   "metadata": {},
   "outputs": [],
   "source": [
    "def  fibonacci(n):\n",
    "    '''\n",
    "    매개변수로 들어온 n값 미만의 피보나치 수열을 출력하는 함수\n",
    "    ex. n=10: 0, 1, 1, 2, 3, 5, 8\n",
    "        n= 100 0 1 1 2 3 5 8 13 21 34 55 89\n",
    "    '''\n",
    "    a, b = 0, 1 #함수 내에 선언한 변수: 지역변수(반: 전역변수)\n",
    "    while a < n:\n",
    "        print(a, end=\" \")\n",
    "        a, b = b , a+b\n",
    "    print() # 개행"
   ]
  },
  {
   "cell_type": "code",
   "execution_count": 64,
   "id": "b51f1dd3",
   "metadata": {},
   "outputs": [
    {
     "name": "stdout",
     "output_type": "stream",
     "text": [
      "0 1 1 2 3 5 8 \n"
     ]
    }
   ],
   "source": [
    "fibonacci(10)"
   ]
  },
  {
   "cell_type": "code",
   "execution_count": 65,
   "id": "a3142d9c",
   "metadata": {},
   "outputs": [
    {
     "ename": "NameError",
     "evalue": "name 'a' is not defined",
     "output_type": "error",
     "traceback": [
      "\u001b[1;31m---------------------------------------------------------------------------\u001b[0m",
      "\u001b[1;31mNameError\u001b[0m                                 Traceback (most recent call last)",
      "Cell \u001b[1;32mIn[65], line 1\u001b[0m\n\u001b[1;32m----> 1\u001b[0m \u001b[43ma\u001b[49m, b\n",
      "\u001b[1;31mNameError\u001b[0m: name 'a' is not defined"
     ]
    }
   ],
   "source": [
    "a, b # 지역변수는 함수내에서만 사용가능"
   ]
  },
  {
   "cell_type": "markdown",
   "id": "c78b2746",
   "metadata": {},
   "source": [
    "## 1.3 지역변수(local var)와 전역변수(global var)"
   ]
  },
  {
   "cell_type": "code",
   "execution_count": 66,
   "id": "a9fa3a72",
   "metadata": {},
   "outputs": [
    {
     "name": "stdout",
     "output_type": "stream",
     "text": [
      "함수안:  100\n",
      "함수밖:  100\n"
     ]
    }
   ],
   "source": [
    "global_var = 100\n",
    "def func1():\n",
    "    print(\"함수안: \", global_var)\n",
    "func1()\n",
    "print('함수밖: ',global_var)"
   ]
  },
  {
   "cell_type": "code",
   "execution_count": 68,
   "id": "3fa387a9",
   "metadata": {},
   "outputs": [
    {
     "name": "stdout",
     "output_type": "stream",
     "text": [
      "함수안: 200\n"
     ]
    }
   ],
   "source": [
    "def func2():\n",
    "    local_var = 200 # 지역변수(함수내에서 할당)\n",
    "    print(\"함수안:\", local_var)\n",
    "func2()\n"
   ]
  },
  {
   "cell_type": "code",
   "execution_count": 69,
   "id": "a7f40d02",
   "metadata": {},
   "outputs": [],
   "source": [
    "#print ('함수밖에서 지역변수: ', local_var) # 에러"
   ]
  },
  {
   "cell_type": "code",
   "execution_count": 73,
   "id": "91d0f2ba",
   "metadata": {},
   "outputs": [
    {
     "name": "stdout",
     "output_type": "stream",
     "text": [
      "전역변수 g_var: 100\n",
      "전역변수 g_var: 200\n"
     ]
    }
   ],
   "source": [
    "# 렉시컬 특성: 변수가 어디서 선언되었는지에 따라\n",
    "# 변수의 범위가 정해짐(지역vs전역)\n",
    "g_var = 100 # 전역변수\n",
    "def func3():\n",
    "    global g_var # 함수 내에서의 g_var는 전역변수를 쓰겠다\n",
    "    print('전역변수 g_var:', g_var)\n",
    "    g_var = 200\n",
    "func3()\n",
    "print('전역변수 g_var:', g_var)"
   ]
  },
  {
   "cell_type": "markdown",
   "id": "a2eb7cef",
   "metadata": {},
   "source": [
    "## 1.4 값에 의한 호출\n",
    "- 함수에 인수로 전달되는 변수가 스칼라변수(문자, 숫자, 논리형)일 때"
   ]
  },
  {
   "cell_type": "code",
   "execution_count": 74,
   "id": "640d2c64",
   "metadata": {},
   "outputs": [
    {
     "data": {
      "text/plain": [
       "2050497537840"
      ]
     },
     "execution_count": 74,
     "metadata": {},
     "output_type": "execute_result"
    }
   ],
   "source": [
    "foo = 'a' # 전역변수\n",
    "id (foo)"
   ]
  },
  {
   "cell_type": "code",
   "execution_count": 76,
   "id": "42411945",
   "metadata": {},
   "outputs": [
    {
     "name": "stdout",
     "output_type": "stream",
     "text": [
      "Before:  a 의 주소는  2050497537840\n",
      "after:  aaa 의 주소는 2050609704240\n"
     ]
    }
   ],
   "source": [
    "def func1(f):\n",
    "    print('Before: ',f, '의 주소는 ', id(f))\n",
    "    f = f*3\n",
    "    print('after: ',f, '의 주소는', id(f))\n",
    "func1(foo)"
   ]
  },
  {
   "cell_type": "code",
   "execution_count": 77,
   "id": "d2eb09b7",
   "metadata": {},
   "outputs": [
    {
     "name": "stdout",
     "output_type": "stream",
     "text": [
      "foo=  a 의 주소는  2050497537840\n"
     ]
    }
   ],
   "source": [
    "print(\"foo= \",foo,\"의 주소는 \",id(foo))"
   ]
  },
  {
   "cell_type": "markdown",
   "id": "5db5438e",
   "metadata": {},
   "source": [
    "## 1.5 참조에 의한 호출\n",
    "- 함수에 인수로 전달되는 변수가 리스트, 튜플, 셋, 덱셔너리, 기타 객체일 경우"
   ]
  },
  {
   "cell_type": "code",
   "execution_count": 78,
   "id": "43c6f563",
   "metadata": {},
   "outputs": [
    {
     "data": {
      "text/plain": [
       "2050609814400"
      ]
     },
     "execution_count": 78,
     "metadata": {},
     "output_type": "execute_result"
    }
   ],
   "source": [
    "L = [1,2,3,4,5]\n",
    "id(L)"
   ]
  },
  {
   "cell_type": "code",
   "execution_count": 80,
   "id": "62c7acb4",
   "metadata": {},
   "outputs": [
    {
     "name": "stdout",
     "output_type": "stream",
     "text": [
      "Before:  [1, 2, 3, 4, 5] 의 주소는  2050609814400\n",
      "after:  [1, 2, 3, 4, 5, 6] 의 주소는 2050609814400\n"
     ]
    }
   ],
   "source": [
    "def func2(f): #매개변수는 지역변수\n",
    "    \n",
    "    print('Before: ',f, '의 주소는 ', id(f))\n",
    "    f.append(6)\n",
    "    print('after: ',f, '의 주소는', id(f))\n",
    "func2(L)"
   ]
  },
  {
   "cell_type": "code",
   "execution_count": 81,
   "id": "7a212faf",
   "metadata": {},
   "outputs": [
    {
     "name": "stdout",
     "output_type": "stream",
     "text": [
      "L= [1, 2, 3, 4, 5, 6] 의 주소는 2050609814400\n"
     ]
    }
   ],
   "source": [
    "print('L=',L, '의 주소는',id(L))"
   ]
  },
  {
   "cell_type": "markdown",
   "id": "01909a8b",
   "metadata": {},
   "source": [
    "# 2절 함수의 실행결과를 반환하는 return"
   ]
  },
  {
   "cell_type": "code",
   "execution_count": 84,
   "id": "9a1f3526",
   "metadata": {},
   "outputs": [],
   "source": [
    "# def  fibonacci_print(n):\n",
    "#     '''\n",
    "#     매개변수로 들어온 n값 미만의 피보나치 수열을 출력하는 함수\n",
    "#     ex. n=10: 0, 1, 1, 2, 3, 5, 8\n",
    "#         n= 100 0 1 1 2 3 5 8 13 21 34 55 89\n",
    "#     '''\n",
    "#     a, b = 0, 1 #함수 내에 선언한 변수: 지역변수(반: 전역변수)\n",
    "#     while a < n:\n",
    "#         print(a, end=\" \")\n",
    "#         a, b = b , a+b\n",
    "#     print() # 개행\n",
    "def fibonacci(n):\n",
    "    \"n미만의 피보나치수열을 리스트로 return\"\n",
    "    result = [] #피보나치수열을 append할 리스트\n",
    "    a,b = 0,1 \n",
    "    while a< n:\n",
    "        result.append(a) # 리스트에 append\n",
    "        a,b = b, a+b\n",
    "    return result"
   ]
  },
  {
   "cell_type": "code",
   "execution_count": 85,
   "id": "c1ffe2a2",
   "metadata": {},
   "outputs": [
    {
     "name": "stdout",
     "output_type": "stream",
     "text": [
      "[0, 1, 1, 2, 3, 5, 8]\n"
     ]
    }
   ],
   "source": [
    "x = fibonacci(10)\n",
    "print(x)\n"
   ]
  },
  {
   "cell_type": "code",
   "execution_count": 86,
   "id": "c5beea25",
   "metadata": {},
   "outputs": [
    {
     "name": "stdout",
     "output_type": "stream",
     "text": [
      "0 1 1 2 3 5 8 \n",
      "x= None\n",
      "<class 'NoneType'>\n"
     ]
    }
   ],
   "source": [
    "x = fibonacci_print(10)\n",
    "print('x=',x)\n",
    "print(type(x))"
   ]
  },
  {
   "cell_type": "markdown",
   "id": "b3e24eee",
   "metadata": {},
   "source": [
    "### 여러개 값 return\n",
    "- 여러개 값을 갖는 튜플로 return"
   ]
  },
  {
   "cell_type": "code",
   "execution_count": 90,
   "id": "8d525474",
   "metadata": {},
   "outputs": [],
   "source": [
    "def swap(a,b):\n",
    "    '매개변수의 순서를 바꿔서 return'\n",
    "    return b,a # return (b,a)"
   ]
  },
  {
   "cell_type": "code",
   "execution_count": 91,
   "id": "a5f3e7aa",
   "metadata": {},
   "outputs": [
    {
     "name": "stdout",
     "output_type": "stream",
     "text": [
      "함수 실행 전 x,y = 5 10\n",
      "함수 실행 후 x,y= 10 5\n"
     ]
    }
   ],
   "source": [
    "x,y = 5,10\n",
    "print('함수 실행 전 x,y =',x,y)\n",
    "x,y = swap(x,y)\n",
    "print('함수 실행 후 x,y=',x,y)"
   ]
  },
  {
   "cell_type": "markdown",
   "id": "8e3e416b",
   "metadata": {},
   "source": [
    "# 3절 함수의 매개변수★\n",
    "## 3.1 기본값을 갖는 매개변수"
   ]
  },
  {
   "cell_type": "code",
   "execution_count": 92,
   "id": "0ce326b3",
   "metadata": {},
   "outputs": [],
   "source": [
    "def make_url(ip, port=80): # 순서인수 > 기본값을 갖는 매개변수 순으로 배치 rlqhs\n",
    "    return \"http://{}:{}\".format(ip,port)"
   ]
  },
  {
   "cell_type": "code",
   "execution_count": 94,
   "id": "4d6bfba9",
   "metadata": {},
   "outputs": [
    {
     "name": "stdout",
     "output_type": "stream",
     "text": [
      "http:\\localhost:8090\n",
      "http:\\www.naver.com:80\n",
      "http:\\localhost:9090\n"
     ]
    }
   ],
   "source": [
    "print(make_url(\"localhost\",8090))\n",
    "print(make_url(\"www.naver.com\",80))\n",
    "print(make_url(port=9090, ip=\"localhost\"))"
   ]
  },
  {
   "cell_type": "markdown",
   "id": "ed8f0284",
   "metadata": {},
   "source": [
    "## 3.2 기본변수를 기본값으로 갖는 매개변수\n",
    "- 기본변수가 스칼라변수(문자, 숫자, 논리형)일 때\n",
    "- 기본변수가 리스트, 셋, 딕셔너리, 기타 객체일 때"
   ]
  },
  {
   "cell_type": "code",
   "execution_count": 95,
   "id": "5cde8631",
   "metadata": {},
   "outputs": [],
   "source": [
    "i = 80\n",
    "# 기본변수가 스칼라변수일 때: 함수가 정의되는 시점으로 기본값 셋팅\n",
    "def make_url(ip, port=i):\n",
    "    return \"http://{}:{}\".format(ip, port)"
   ]
  },
  {
   "cell_type": "code",
   "execution_count": 96,
   "id": "68c02461",
   "metadata": {},
   "outputs": [
    {
     "data": {
      "text/plain": [
       "'http://localhost:80'"
      ]
     },
     "execution_count": 96,
     "metadata": {},
     "output_type": "execute_result"
    }
   ],
   "source": [
    "i =90\n",
    "make_url(\"localhost\")"
   ]
  },
  {
   "cell_type": "code",
   "execution_count": 130,
   "id": "1be29d88",
   "metadata": {},
   "outputs": [
    {
     "name": "stdout",
     "output_type": "stream",
     "text": [
      "[10]\n"
     ]
    }
   ],
   "source": [
    "list_ = []\n",
    "#기본변수가 리스트, 셋, 딕셔너리, 객체일 때: 함수가 실행되는시점으로 기본값 셋팅\n",
    "def func3(a,L=list_):\n",
    "    L.append(a)\n",
    "    return L\n",
    "print(func3(10))"
   ]
  },
  {
   "cell_type": "code",
   "execution_count": 131,
   "id": "5b0254b5",
   "metadata": {},
   "outputs": [
    {
     "name": "stdout",
     "output_type": "stream",
     "text": [
      "[10, 10]\n"
     ]
    }
   ],
   "source": [
    "print(func3(10))"
   ]
  },
  {
   "cell_type": "code",
   "execution_count": 133,
   "id": "6dc18ca9",
   "metadata": {},
   "outputs": [
    {
     "name": "stdout",
     "output_type": "stream",
     "text": [
      "list_= [10, 10]\n"
     ]
    }
   ],
   "source": [
    "print(\"list_=\",list_)"
   ]
  },
  {
   "cell_type": "code",
   "execution_count": 134,
   "id": "86231b09",
   "metadata": {},
   "outputs": [],
   "source": [
    "# 실행할 때마다 L을 공유하는게 싫으면\n",
    "def func3(a, L=None):\n",
    "    if L is None:\n",
    "        L= []\n",
    "    L.append(a)\n",
    "    return L"
   ]
  },
  {
   "cell_type": "markdown",
   "id": "9a412980",
   "metadata": {},
   "source": [
    "## 3.3 순서 인수, 키워드 인수\n",
    "- 순서 인수: 함수에 정의된 순서대로 전달 방식\n",
    "- 키워드 인수: 인수의 이름을 명시하는 방식\n",
    "- 함수 정의시 순서인수와 키워드인수가 같이 올 때 순서인수 > 키워드 인수 순으로\n"
   ]
  },
  {
   "cell_type": "code",
   "execution_count": 135,
   "id": "edc9b709",
   "metadata": {},
   "outputs": [],
   "source": [
    "def func3(a, L=None):\n",
    "    if L is None:\n",
    "        L= []\n",
    "    L.append(a)\n",
    "    return L"
   ]
  },
  {
   "cell_type": "code",
   "execution_count": 136,
   "id": "840121cd",
   "metadata": {},
   "outputs": [
    {
     "name": "stdout",
     "output_type": "stream",
     "text": [
      "[10]\n",
      "[10, 20]\n"
     ]
    }
   ],
   "source": [
    "lst = []\n",
    "print(func3(10, lst)) # 순서인수: 함수 정의된 순서대로 전달하는 방식\n",
    "print(func3(L= lst, a = 20)) # 키워드 인수: 인수의 이름을 명시하여 전달하는 방식"
   ]
  },
  {
   "cell_type": "markdown",
   "id": "b7afb6b0",
   "metadata": {},
   "source": [
    "## 3.4 튜플매개변수를 이용한 가변인수 설정\n",
    "- 가변인수: 매개변수의 갯수가 가변"
   ]
  },
  {
   "cell_type": "code",
   "execution_count": 137,
   "id": "18c40e90",
   "metadata": {},
   "outputs": [],
   "source": [
    "# 파이썬은 함수의 중복정의(오버로딩)을 지원하지 않음\n",
    "def add(a,b):\n",
    "    return a+b\n",
    "def add(a,b,c):\n",
    "    return a+ b+ c"
   ]
  },
  {
   "cell_type": "code",
   "execution_count": 148,
   "id": "ab70a4d6",
   "metadata": {},
   "outputs": [],
   "source": [
    "# args앞에 * : args가 튜플 로 전달받는다\n",
    "def add(*args): #앞에 *을 넣음으로 써 더 많은 매개변수를 받을 수 있다\n",
    "#     print('args=' ,args)\n",
    "    '전달받은 매개변수들의 합을 return. 매개변수가 없으면 0을 return'\n",
    "    sum = 0 #누적변수\n",
    "    for num in args:\n",
    "        sum += num # sum = sum+num\n",
    "    return sum \n",
    "    "
   ]
  },
  {
   "cell_type": "code",
   "execution_count": 150,
   "id": "935477de",
   "metadata": {},
   "outputs": [
    {
     "name": "stdout",
     "output_type": "stream",
     "text": [
      "0\n",
      "1\n",
      "5\n"
     ]
    },
    {
     "data": {
      "text/plain": [
       "55"
      ]
     },
     "execution_count": 150,
     "metadata": {},
     "output_type": "execute_result"
    }
   ],
   "source": [
    "print (add())\n",
    "print(add(1))\n",
    "print(add(2,3))\n",
    "add(1,2,3,4,5,6,7,8,9,10)"
   ]
  },
  {
   "cell_type": "code",
   "execution_count": 152,
   "id": "cfbfe39b",
   "metadata": {},
   "outputs": [
    {
     "data": {
      "text/plain": [
       "'Python-HTML/CSS-JavaScript-Oracle/MySQL'"
      ]
     },
     "execution_count": 152,
     "metadata": {},
     "output_type": "execute_result"
    }
   ],
   "source": [
    "subject = (\"Python\", \"HTML/CSS\",\"JavaScript\",\"Oracle/MySQL\")\n",
    "'-'. join(subject)"
   ]
  },
  {
   "cell_type": "code",
   "execution_count": 153,
   "id": "f0095918",
   "metadata": {},
   "outputs": [],
   "source": [
    "#튜플 매개변수와 일반 매개변수가 같이 있을 때\n",
    "def concat(*subject, sep):\n",
    "    return sep.join(subject)"
   ]
  },
  {
   "cell_type": "code",
   "execution_count": 154,
   "id": "88fd90ac",
   "metadata": {},
   "outputs": [
    {
     "ename": "TypeError",
     "evalue": "concat() missing 1 required keyword-only argument: 'sep'",
     "output_type": "error",
     "traceback": [
      "\u001b[1;31m---------------------------------------------------------------------------\u001b[0m",
      "\u001b[1;31mTypeError\u001b[0m                                 Traceback (most recent call last)",
      "Cell \u001b[1;32mIn[154], line 1\u001b[0m\n\u001b[1;32m----> 1\u001b[0m \u001b[43mconcat\u001b[49m\u001b[43m(\u001b[49m\u001b[38;5;124;43m\"\u001b[39;49m\u001b[38;5;124;43mPython\u001b[39;49m\u001b[38;5;124;43m\"\u001b[39;49m\u001b[43m,\u001b[49m\u001b[43m \u001b[49m\u001b[38;5;124;43m\"\u001b[39;49m\u001b[38;5;124;43mHTML/CSS\u001b[39;49m\u001b[38;5;124;43m\"\u001b[39;49m\u001b[43m,\u001b[49m\u001b[38;5;124;43m\"\u001b[39;49m\u001b[38;5;124;43mJavaScript\u001b[39;49m\u001b[38;5;124;43m\"\u001b[39;49m\u001b[43m,\u001b[49m\u001b[38;5;124;43m\"\u001b[39;49m\u001b[38;5;124;43mOracle/MySQL\u001b[39;49m\u001b[38;5;124;43m\"\u001b[39;49m\u001b[43m,\u001b[49m\u001b[38;5;124;43m'\u001b[39;49m\u001b[38;5;124;43m-\u001b[39;49m\u001b[38;5;124;43m'\u001b[39;49m\u001b[43m)\u001b[49m\n",
      "\u001b[1;31mTypeError\u001b[0m: concat() missing 1 required keyword-only argument: 'sep'"
     ]
    }
   ],
   "source": [
    "concat(\"Python\", \"HTML/CSS\",\"JavaScript\",\"Oracle/MySQL\",'-')"
   ]
  },
  {
   "cell_type": "code",
   "execution_count": 157,
   "id": "95a90ffe",
   "metadata": {},
   "outputs": [
    {
     "data": {
      "text/plain": [
       "'Python-HTML/CSS-JavaScript-Oracle/MySQL'"
      ]
     },
     "execution_count": 157,
     "metadata": {},
     "output_type": "execute_result"
    }
   ],
   "source": [
    " # 해결책1 매개변수 이름을 지정해서 호출\n",
    "concat(\"Python\", \"HTML/CSS\",\"JavaScript\",\"Oracle/MySQL\",sep='-')"
   ]
  },
  {
   "cell_type": "code",
   "execution_count": 163,
   "id": "a96b7fa6",
   "metadata": {},
   "outputs": [
    {
     "data": {
      "text/plain": [
       "'Python ~ HTML/CSS ~ JavaScript ~ Oracle/MySQL'"
      ]
     },
     "execution_count": 163,
     "metadata": {},
     "output_type": "execute_result"
    }
   ],
   "source": [
    "# 해결책2: 기본값을 갖는 키워드 인수 사용\n",
    "def concat(*subject , sep=' ~ '):\n",
    "    return sep.join(subject)    # 튜플매개변수 > 키워드 인수\n",
    "concat(\"Python\", \"HTML/CSS\",\"JavaScript\",\"Oracle/MySQL\",)"
   ]
  },
  {
   "cell_type": "code",
   "execution_count": 164,
   "id": "83574e75",
   "metadata": {},
   "outputs": [],
   "source": [
    "# 해결책3(추천): sep을 순서인수로 앞으로\n",
    "def concat(sep, *subject):\n",
    "    return sep.join(subject)"
   ]
  },
  {
   "cell_type": "code",
   "execution_count": 165,
   "id": "b76d60ad",
   "metadata": {},
   "outputs": [
    {
     "data": {
      "text/plain": [
       "'Python~Web~DB~MLDL'"
      ]
     },
     "execution_count": 165,
     "metadata": {},
     "output_type": "execute_result"
    }
   ],
   "source": [
    "concat('~','Python','Web','DB',\"MLDL\")"
   ]
  },
  {
   "cell_type": "markdown",
   "id": "3df85f62",
   "metadata": {},
   "source": [
    "## 3.5 딕셔너리 매개변수\n",
    "- 딕셔너리 인수: 여러개의 키워드 인수를 딕셔너리 형태로 받아서 가변인수로 처리"
   ]
  },
  {
   "cell_type": "code",
   "execution_count": 166,
   "id": "74064e19",
   "metadata": {},
   "outputs": [
    {
     "data": {
      "text/plain": [
       "'http://localhost:8080'"
      ]
     },
     "execution_count": 166,
     "metadata": {},
     "output_type": "execute_result"
    }
   ],
   "source": [
    "make_url(ip=\"localhost\",port=8080)"
   ]
  },
  {
   "cell_type": "code",
   "execution_count": 185,
   "id": "6a201d1e",
   "metadata": {},
   "outputs": [],
   "source": [
    "def func5(**args): # args : 딕셔너리로 전달받음\n",
    "    print(\"이름: \",args.get('name','홍길동'))\n",
    "    print(\"나이: \",args.get('age','30'))\n",
    "    print(\"전화: \",args.get('tel','010-9999-9999'))\n",
    "    print(\"주소: \",args.get('address','서울 관악'))"
   ]
  },
  {
   "cell_type": "code",
   "execution_count": 195,
   "id": "6dc37a61",
   "metadata": {},
   "outputs": [],
   "source": [
    "def func5(**args):\n",
    "    print(args)\n",
    "    print(type(args))\n",
    "    if 'address' not in args: # args에 address 키가 없으면 if 문 True\n",
    "        # args['address'] =' 서울시 관악구'\n",
    "        args.update(address=\"서울시 관악구\")\n",
    "    for key, value in args.items():\n",
    "        print(f\"{key}:{value}\")"
   ]
  },
  {
   "cell_type": "code",
   "execution_count": 196,
   "id": "4c45db55",
   "metadata": {},
   "outputs": [
    {
     "name": "stdout",
     "output_type": "stream",
     "text": [
      "{'name': '홍길동', 'age': 30, 'tel': '010-9999-9999'}\n",
      "<class 'dict'>\n",
      "name:홍길동\n",
      "age:30\n",
      "tel:010-9999-9999\n",
      "address:서울시 관악구\n"
     ]
    }
   ],
   "source": [
    "func5(name='홍길동',age=30, tel='010-9999-9999')"
   ]
  },
  {
   "cell_type": "code",
   "execution_count": 188,
   "id": "9c72e8a9",
   "metadata": {},
   "outputs": [],
   "source": [
    "def func(a,b,c):\n",
    "    return a+b+c\n",
    "# func()"
   ]
  },
  {
   "cell_type": "markdown",
   "id": "992af0a7",
   "metadata": {},
   "source": [
    "## 3.6 함수 정의시 매개변수의 순서\n",
    "- 순서인수 > 튜플인수(*) > 키워드인수(기본값) > 딕셔너리인수(**)"
   ]
  },
  {
   "cell_type": "code",
   "execution_count": 203,
   "id": "77927edc",
   "metadata": {},
   "outputs": [],
   "source": [
    "# 순서인수 > 튜플인수 > 딕셔너리인수\n",
    "def func6(a,b,*c,**d):\n",
    "    print(\"순서인수 a=\",a)\n",
    "    print(\"순서인수 b=\",b)\n",
    "    print(\"튜플인수 c=\",c)\n",
    "    print(\"순서인수 d=\",d)"
   ]
  },
  {
   "cell_type": "code",
   "execution_count": 204,
   "id": "91e83526",
   "metadata": {},
   "outputs": [
    {
     "name": "stdout",
     "output_type": "stream",
     "text": [
      "순서인수 a= 10\n",
      "순서인수 b= 20\n",
      "튜플인수 c= (1, 2, 3, 4, 5, 6, 7, 8, 9)\n",
      "순서인수 d= {'name': '홍', 'age': 30, 'address': '신림'}\n"
     ]
    }
   ],
   "source": [
    "func6(10,20, 1,2,3,4,5,6,7,8,9, name='홍', age=30, address='신림')"
   ]
  },
  {
   "cell_type": "code",
   "execution_count": 215,
   "id": "41269846",
   "metadata": {},
   "outputs": [],
   "source": [
    "# 순서인수 > 튜플인수(*) > 키워드인수(기본값) > 딕셔너리인수(**)\n",
    "def func7(a,b,c,*d,e=10,**f):\n",
    "    print(\"순서인수 a=\",a)\n",
    "    print(\"순서인수 a=\",b)\n",
    "    print(\"순서인수 a=\",c)\n",
    "    print(\"튜플인수 a=\",d)\n",
    "    print(\"키워드인수(기본값10) e=\",e)\n",
    "    print(\"딕셔너리인수 a=\",f)\n"
   ]
  },
  {
   "cell_type": "code",
   "execution_count": 216,
   "id": "75f6f62c",
   "metadata": {},
   "outputs": [
    {
     "name": "stdout",
     "output_type": "stream",
     "text": [
      "순서인수 a= 10\n",
      "순서인수 a= 20\n",
      "순서인수 a= 30\n",
      "튜플인수 a= ()\n",
      "키워드인수(기본값10) e= 100\n",
      "딕셔너리인수 a= {}\n"
     ]
    }
   ],
   "source": [
    "func7(10,20,30,e=100)"
   ]
  },
  {
   "cell_type": "code",
   "execution_count": 217,
   "id": "f0bd59e1",
   "metadata": {},
   "outputs": [
    {
     "name": "stdout",
     "output_type": "stream",
     "text": [
      "순서인수 a= 10\n",
      "순서인수 a= 20\n",
      "순서인수 a= 30\n",
      "튜플인수 a= (1, 2, 3, 4, 5)\n",
      "키워드인수(기본값10) e= 100\n",
      "딕셔너리인수 a= {'shape': 'rect', 'weith': 20, 'height': 30}\n"
     ]
    }
   ],
   "source": [
    "func7(10, 20, 30, 1, 2, 3, 4, 5, e=100, shape='rect',weith=20,height=30)"
   ]
  },
  {
   "cell_type": "markdown",
   "id": "e01d30c3",
   "metadata": {},
   "source": [
    "## 3.7인수의 언패킹\n",
    "### 튜플인수 언패킹\n",
    "- 언패킹: 함수 호출시 매개변수 앞에 * 붙임\n",
    "- 패킹: 함수 정의식 매개변수앞에 *붙임 (튜플매개변수)"
   ]
  },
  {
   "cell_type": "code",
   "execution_count": 222,
   "id": "7ff4d8a5",
   "metadata": {},
   "outputs": [],
   "source": [
    "def add(*args):\n",
    "    sum = 0\n",
    "    for num in args:\n",
    "        sum+= num\n",
    "    return sum"
   ]
  },
  {
   "cell_type": "code",
   "execution_count": 223,
   "id": "9441a568",
   "metadata": {},
   "outputs": [
    {
     "data": {
      "text/plain": [
       "6"
      ]
     },
     "execution_count": 223,
     "metadata": {},
     "output_type": "execute_result"
    }
   ],
   "source": [
    "add(1,2,3)"
   ]
  },
  {
   "cell_type": "code",
   "execution_count": 221,
   "id": "2d559051",
   "metadata": {},
   "outputs": [
    {
     "data": {
      "text/plain": [
       "6"
      ]
     },
     "execution_count": 221,
     "metadata": {},
     "output_type": "execute_result"
    }
   ],
   "source": [
    "numbers = (1,2,3)\n",
    "add(*numbers)"
   ]
  },
  {
   "cell_type": "markdown",
   "id": "c75f364e",
   "metadata": {},
   "source": [
    "### 딕셔너리 인수 언패킹"
   ]
  },
  {
   "cell_type": "code",
   "execution_count": 224,
   "id": "00e68c4d",
   "metadata": {},
   "outputs": [],
   "source": [
    "def func8(**data):\n",
    "    print(data)\n",
    "    for item in data.items():\n",
    "        print(item)\n"
   ]
  },
  {
   "cell_type": "code",
   "execution_count": 225,
   "id": "ff6681e0",
   "metadata": {},
   "outputs": [
    {
     "name": "stdout",
     "output_type": "stream",
     "text": [
      "{'shape': 'rect', 'width': 50, 'height': 30}\n",
      "('shape', 'rect')\n",
      "('width', 50)\n",
      "('height', 30)\n"
     ]
    }
   ],
   "source": [
    "func8(shape=\"rect\", width=50,height=30)"
   ]
  },
  {
   "cell_type": "code",
   "execution_count": 229,
   "id": "9bc653b4",
   "metadata": {},
   "outputs": [
    {
     "name": "stdout",
     "output_type": "stream",
     "text": [
      "{'shape': 'rect', 'width': 50, 'height': 30}\n",
      "('shape', 'rect')\n",
      "('width', 50)\n",
      "('height', 30)\n"
     ]
    }
   ],
   "source": [
    "info = {'shape':'rect', 'width':50, 'height':30}\n",
    "func8(**info)"
   ]
  },
  {
   "cell_type": "code",
   "execution_count": null,
   "id": "3bd1d836",
   "metadata": {},
   "outputs": [],
   "source": []
  }
 ],
 "metadata": {
  "kernelspec": {
   "display_name": "Python 3 (ipykernel)",
   "language": "python",
   "name": "python3"
  },
  "language_info": {
   "codemirror_mode": {
    "name": "ipython",
    "version": 3
   },
   "file_extension": ".py",
   "mimetype": "text/x-python",
   "name": "python",
   "nbconvert_exporter": "python",
   "pygments_lexer": "ipython3",
   "version": "3.10.9"
  },
  "toc": {
   "base_numbering": 1,
   "nav_menu": {},
   "number_sections": false,
   "sideBar": true,
   "skip_h1_title": false,
   "title_cell": "Table of Contents",
   "title_sidebar": "Contents",
   "toc_cell": false,
   "toc_position": {
    "height": "calc(100% - 180px)",
    "left": "10px",
    "top": "150px",
    "width": "195.764px"
   },
   "toc_section_display": true,
   "toc_window_display": true
  }
 },
 "nbformat": 4,
 "nbformat_minor": 5
}
