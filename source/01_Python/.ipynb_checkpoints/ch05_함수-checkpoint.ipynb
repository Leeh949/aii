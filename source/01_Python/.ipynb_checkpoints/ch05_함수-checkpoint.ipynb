{
 "cells": [
  {
   "cell_type": "code",
   "execution_count": 1,
   "id": "3f08fd11",
   "metadata": {},
   "outputs": [
    {
     "data": {
      "text/html": [
       "\n",
       "<style>\n",
       "div.container{width:90% !important;}\n",
       "div.cell.code_cell.rendered{width:100%;}\n",
       "div.input_prompt{padding:0px;}\n",
       "div.CodeMirror {font-family:Consolas; font-size:12pt;}\n",
       "div.text_cell_render.rendered_html{font-size:12pt;}\n",
       "div.output {font-size:12pt; font-weight:bold;}\n",
       "div.input {font-family:Consolas; font-size:12pt;}\n",
       "div.prompt {min-width:70px;}\n",
       "div#toc-wrapper{padding-top:120px;}\n",
       "div.text_cell_render ul li{font-size:12pt;padding:5px;}\n",
       "table.dataframe{font-size:12px;}\n",
       "</style>\n"
      ],
      "text/plain": [
       "<IPython.core.display.HTML object>"
      ]
     },
     "metadata": {},
     "output_type": "display_data"
    }
   ],
   "source": [
    "from IPython.display import display, HTML\n",
    "display(HTML(\"\"\"\n",
    "<style>\n",
    "div.container{width:90% !important;}\n",
    "div.cell.code_cell.rendered{width:100%;}\n",
    "div.input_prompt{padding:0px;}\n",
    "div.CodeMirror {font-family:Consolas; font-size:12pt;}\n",
    "div.text_cell_render.rendered_html{font-size:12pt;}\n",
    "div.output {font-size:12pt; font-weight:bold;}\n",
    "div.input {font-family:Consolas; font-size:12pt;}\n",
    "div.prompt {min-width:70px;}\n",
    "div#toc-wrapper{padding-top:120px;}\n",
    "div.text_cell_render ul li{font-size:12pt;padding:5px;}\n",
    "table.dataframe{font-size:12px;}\n",
    "</style>\n",
    "\"\"\"))\n"
   ]
  },
  {
   "cell_type": "markdown",
   "id": "e7755d16",
   "metadata": {},
   "source": [
    "<b><font size=\"6\" color=\"red\">ch05_함수</font></b>\n",
    "- 반복해서 사용할 코드를 묶어 놓고 그것에 이름을 붙인 것\n",
    "- 오버로딩 불가(같은 이름의 함수는 덮어씀)\n",
    "- 함수 정의\n",
    "```\n",
    "def 함수명([매개변수1,매개변수2, ..])\n",
    "    명령어1\n",
    "    명령어2.....\n",
    "```\n",
    "# 1절 함수의 정의 및 사용\n",
    "\n",
    "## 1.1 함수 정의"
   ]
  },
  {
   "cell_type": "code",
   "execution_count": 2,
   "id": "ac2a9610",
   "metadata": {},
   "outputs": [],
   "source": [
    "def my_message(x, msg): # msg를 x번 출력하는 함수\n",
    "    for i in range(x):\n",
    "        print(i,msg)"
   ]
  },
  {
   "cell_type": "code",
   "execution_count": 3,
   "id": "5f0c3200",
   "metadata": {},
   "outputs": [
    {
     "name": "stdout",
     "output_type": "stream",
     "text": [
      "0 Hello\n",
      "1 Hello\n",
      "2 Hello\n"
     ]
    }
   ],
   "source": [
    "# 함수 사용 == 함수 호출\n",
    "my_message(3, 'Hello')"
   ]
  },
  {
   "cell_type": "code",
   "execution_count": 4,
   "id": "56b9dfb9",
   "metadata": {},
   "outputs": [
    {
     "name": "stdout",
     "output_type": "stream",
     "text": [
      "0 hi\n",
      "1 hi\n",
      "0 bye\n",
      "1 bye\n",
      "2 bye\n"
     ]
    }
   ],
   "source": [
    "# 함수 이름 변경\n",
    "my_msg = my_message\n",
    "my_message(2, 'hi')\n",
    "my_msg(3,'bye')"
   ]
  },
  {
   "cell_type": "code",
   "execution_count": 5,
   "id": "f3f38db5",
   "metadata": {},
   "outputs": [
    {
     "data": {
      "text/plain": [
       "function"
      ]
     },
     "execution_count": 5,
     "metadata": {},
     "output_type": "execute_result"
    }
   ],
   "source": [
    "type (my_msg)"
   ]
  },
  {
   "cell_type": "code",
   "execution_count": 6,
   "id": "fb587178",
   "metadata": {},
   "outputs": [
    {
     "name": "stdout",
     "output_type": "stream",
     "text": [
      "Hello\n",
      "hello\n"
     ]
    }
   ],
   "source": [
    "print(\"Hello\") # 파이썬 내장 함수(import 하지 않고 사용할 수 있는 함수)\n",
    "print = 5\n",
    "#print('hello')\n",
    "del print\n",
    "print(\"hello\")"
   ]
  },
  {
   "cell_type": "code",
   "execution_count": 7,
   "id": "53c4050c",
   "metadata": {},
   "outputs": [
    {
     "name": "stdout",
     "output_type": "stream",
     "text": [
      "0 Hello\n",
      "1 Hello\n"
     ]
    }
   ],
   "source": [
    "my_message (2, \"Hello\")"
   ]
  },
  {
   "cell_type": "code",
   "execution_count": 8,
   "id": "54ab3598",
   "metadata": {},
   "outputs": [],
   "source": [
    "my_message = 5"
   ]
  },
  {
   "cell_type": "code",
   "execution_count": 9,
   "id": "640cc6a2",
   "metadata": {},
   "outputs": [
    {
     "ename": "NameError",
     "evalue": "name 'my_message' is not defined",
     "output_type": "error",
     "traceback": [
      "\u001b[1;31m---------------------------------------------------------------------------\u001b[0m",
      "\u001b[1;31mNameError\u001b[0m                                 Traceback (most recent call last)",
      "Cell \u001b[1;32mIn[9], line 2\u001b[0m\n\u001b[0;32m      1\u001b[0m \u001b[38;5;28;01mdel\u001b[39;00m my_message \u001b[38;5;66;03m# 변수 및 함수 제거하여도\u001b[39;00m\n\u001b[1;32m----> 2\u001b[0m \u001b[43mmy_message\u001b[49m(\u001b[38;5;241m2\u001b[39m, \u001b[38;5;124m'\u001b[39m\u001b[38;5;124mHello\u001b[39m\u001b[38;5;124m'\u001b[39m)\n",
      "\u001b[1;31mNameError\u001b[0m: name 'my_message' is not defined"
     ]
    }
   ],
   "source": [
    "del my_message # 변수 및 함수 제거하여도\n",
    "my_message(2, 'Hello') # 사용자 정의함수, 라이브러리 함수는 사용불가"
   ]
  },
  {
   "cell_type": "code",
   "execution_count": null,
   "id": "8ef02767",
   "metadata": {},
   "outputs": [],
   "source": [
    "# 함수 중복 정의 불가 (오버로딩 불가)\n",
    "def my_hello():\n",
    "    print('Hello Python')\n",
    "    print('Hellp world')\n",
    "def my_hello(cnt):# cnt번 출\n",
    "    for i in range(cnt):\n",
    "        print(\"Hello,Python\",end = \"\\t\")\n",
    "        print(\"Hellp, world\")"
   ]
  },
  {
   "cell_type": "code",
   "execution_count": null,
   "id": "95e74392",
   "metadata": {},
   "outputs": [],
   "source": [
    "my_hello(2)"
   ]
  },
  {
   "cell_type": "code",
   "execution_count": null,
   "id": "ec79aa36",
   "metadata": {},
   "outputs": [],
   "source": [
    "my_hello"
   ]
  },
  {
   "cell_type": "code",
   "execution_count": null,
   "id": "a713f484",
   "metadata": {},
   "outputs": [],
   "source": [
    "__name__"
   ]
  },
  {
   "cell_type": "code",
   "execution_count": null,
   "id": "15f8140d",
   "metadata": {},
   "outputs": [],
   "source": [
    "if __name__ == '__main__':\n",
    "    my_hello(2)"
   ]
  },
  {
   "cell_type": "code",
   "execution_count": null,
   "id": "c69ceb81",
   "metadata": {},
   "outputs": [],
   "source": [
    "import ch05"
   ]
  },
  {
   "cell_type": "code",
   "execution_count": null,
   "id": "0e9c4b4e",
   "metadata": {},
   "outputs": [],
   "source": [
    "ch05.my_hello(3)"
   ]
  },
  {
   "cell_type": "code",
   "execution_count": null,
   "id": "c73dcada",
   "metadata": {},
   "outputs": [],
   "source": [
    "from ch05 import my_hello # ch05모듈안의 my_hello만 메모리 로드 "
   ]
  },
  {
   "cell_type": "code",
   "execution_count": null,
   "id": "f19a8dcd",
   "metadata": {},
   "outputs": [],
   "source": [
    "my_hello(3)"
   ]
  },
  {
   "cell_type": "markdown",
   "id": "b8f9646e",
   "metadata": {},
   "source": [
    "## 1.2 docstring"
   ]
  },
  {
   "cell_type": "code",
   "execution_count": null,
   "id": "c2ae446d",
   "metadata": {},
   "outputs": [],
   "source": [
    "def my_function():\n",
    "    \"\"\"\n",
    "    함수의 첫 라인에 독스트링을 포함할 수 있습니다.\n",
    "    독스트링은 함수의 설명서를 달아주는 역할\n",
    "    주석보다 많은 기능(함수 호출시 shift + tab으로 독스트링을 볼 수 있음)\n",
    "    \"\"\"\n",
    "    pass"
   ]
  },
  {
   "cell_type": "code",
   "execution_count": null,
   "id": "8edf74bc",
   "metadata": {},
   "outputs": [],
   "source": [
    "print(my_function.__doc__)"
   ]
  },
  {
   "cell_type": "code",
   "execution_count": null,
   "id": "e1791dfa",
   "metadata": {},
   "outputs": [],
   "source": [
    "def  fibonacci(n):\n",
    "    '''\n",
    "    매개변수로 들어온 n값 미만의 피보나치 수열을 출력하는 함수\n",
    "    ex. n=10: 0, 1, 1, 2, 3, 5, 8\n",
    "        n= 100 0 1 1 2 3 5 8 13 21 34 55 89\n",
    "    '''\n",
    "    a, b = 0, 1 #함수 내에 선언한 변수: 지역변수(반: 전역변수)\n",
    "    while a < n:\n",
    "        print(a, end=\" \")\n",
    "        a, b = b , a+b\n",
    "    print() # 개행"
   ]
  },
  {
   "cell_type": "code",
   "execution_count": null,
   "id": "b51f1dd3",
   "metadata": {},
   "outputs": [],
   "source": [
    "fibonacci(10)"
   ]
  },
  {
   "cell_type": "code",
   "execution_count": null,
   "id": "a3142d9c",
   "metadata": {},
   "outputs": [],
   "source": [
    "a, b # 지역변수는 함수내에서만 사용가능"
   ]
  },
  {
   "cell_type": "markdown",
   "id": "c78b2746",
   "metadata": {},
   "source": [
    "## 1.3 지역변수(local var)와 전역변수(global var)"
   ]
  },
  {
   "cell_type": "code",
   "execution_count": null,
   "id": "a9fa3a72",
   "metadata": {},
   "outputs": [],
   "source": [
    "global_var = 100\n",
    "def func1():\n",
    "    print(\"함수안: \", global_var)\n",
    "func1()\n",
    "print('함수밖: ',global_var)"
   ]
  },
  {
   "cell_type": "code",
   "execution_count": null,
   "id": "3fa387a9",
   "metadata": {},
   "outputs": [],
   "source": [
    "def func2():\n",
    "    local_var = 200 # 지역변수(함수내에서 할당)\n",
    "    print(\"함수안:\", local_var)\n",
    "func2()\n"
   ]
  },
  {
   "cell_type": "code",
   "execution_count": null,
   "id": "a7f40d02",
   "metadata": {},
   "outputs": [],
   "source": [
    "#print ('함수밖에서 지역변수: ', local_var) # 에러"
   ]
  },
  {
   "cell_type": "code",
   "execution_count": null,
   "id": "91d0f2ba",
   "metadata": {},
   "outputs": [],
   "source": [
    "# 렉시컬 특성: 변수가 어디서 선언되었는지에 따라\n",
    "# 변수의 범위가 정해짐(지역vs전역)\n",
    "g_var = 100 # 전역변수\n",
    "def func3():\n",
    "    global g_var # 함수 내에서의 g_var는 전역변수를 쓰겠다\n",
    "    print('전역변수 g_var:', g_var)\n",
    "    g_var = 200\n",
    "func3()\n",
    "print('전역변수 g_var:', g_var)"
   ]
  },
  {
   "cell_type": "markdown",
   "id": "a2eb7cef",
   "metadata": {},
   "source": [
    "## 1.4 값에 의한 호출\n",
    "- 함수에 인수로 전달되는 변수가 스칼라변수(문자, 숫자, 논리형)일 때"
   ]
  },
  {
   "cell_type": "code",
   "execution_count": null,
   "id": "640d2c64",
   "metadata": {},
   "outputs": [],
   "source": [
    "foo = 'a' # 전역변수\n",
    "id (foo)"
   ]
  },
  {
   "cell_type": "code",
   "execution_count": null,
   "id": "42411945",
   "metadata": {},
   "outputs": [],
   "source": [
    "def func1(f):\n",
    "    print('Before: ',f, '의 주소는 ', id(f))\n",
    "    f = f*3\n",
    "    print('after: ',f, '의 주소는', id(f))\n",
    "func1(foo)"
   ]
  },
  {
   "cell_type": "code",
   "execution_count": null,
   "id": "d2eb09b7",
   "metadata": {},
   "outputs": [],
   "source": [
    "print(\"foo= \",foo,\"의 주소는 \",id(foo))"
   ]
  },
  {
   "cell_type": "markdown",
   "id": "5db5438e",
   "metadata": {},
   "source": [
    "## 1.5 참조에 의한 호출\n",
    "- 함수에 인수로 전달되는 변수가 리스트, 튜플, 셋, 덱셔너리, 기타 객체일 경우"
   ]
  },
  {
   "cell_type": "code",
   "execution_count": null,
   "id": "43c6f563",
   "metadata": {},
   "outputs": [],
   "source": [
    "L = [1,2,3,4,5]\n",
    "id(L)"
   ]
  },
  {
   "cell_type": "code",
   "execution_count": null,
   "id": "62c7acb4",
   "metadata": {},
   "outputs": [],
   "source": [
    "def func2(f): #매개변수는 지역변수\n",
    "    \n",
    "    print('Before: ',f, '의 주소는 ', id(f))\n",
    "    f.append(6)\n",
    "    print('after: ',f, '의 주소는', id(f))\n",
    "func2(L)"
   ]
  },
  {
   "cell_type": "code",
   "execution_count": null,
   "id": "7a212faf",
   "metadata": {},
   "outputs": [],
   "source": [
    "print('L=',L, '의 주소는',id(L))"
   ]
  },
  {
   "cell_type": "markdown",
   "id": "01909a8b",
   "metadata": {},
   "source": [
    "# 2절 함수의 실행결과를 반환하는 return"
   ]
  },
  {
   "cell_type": "code",
   "execution_count": null,
   "id": "9a1f3526",
   "metadata": {},
   "outputs": [],
   "source": [
    "# def  fibonacci_print(n):\n",
    "#     '''\n",
    "#     매개변수로 들어온 n값 미만의 피보나치 수열을 출력하는 함수\n",
    "#     ex. n=10: 0, 1, 1, 2, 3, 5, 8\n",
    "#         n= 100 0 1 1 2 3 5 8 13 21 34 55 89\n",
    "#     '''\n",
    "#     a, b = 0, 1 #함수 내에 선언한 변수: 지역변수(반: 전역변수)\n",
    "#     while a < n:\n",
    "#         print(a, end=\" \")\n",
    "#         a, b = b , a+b\n",
    "#     print() # 개행\n",
    "def fibonacci(n):\n",
    "    \"n미만의 피보나치수열을 리스트로 return\"\n",
    "    result = [] #피보나치수열을 append할 리스트\n",
    "    a,b = 0,1 \n",
    "    while a< n:\n",
    "        result.append(a) # 리스트에 append\n",
    "        a,b = b, a+b\n",
    "    return result"
   ]
  },
  {
   "cell_type": "code",
   "execution_count": null,
   "id": "c1ffe2a2",
   "metadata": {},
   "outputs": [],
   "source": [
    "x = fibonacci(10)\n",
    "print(x)\n"
   ]
  },
  {
   "cell_type": "code",
   "execution_count": null,
   "id": "c5beea25",
   "metadata": {},
   "outputs": [],
   "source": [
    "x = fibonacci_print(10)\n",
    "print('x=',x)\n",
    "print(type(x))"
   ]
  },
  {
   "cell_type": "markdown",
   "id": "b3e24eee",
   "metadata": {},
   "source": [
    "### 여러개 값 return\n",
    "- 여러개 값을 갖는 튜플로 return"
   ]
  },
  {
   "cell_type": "code",
   "execution_count": null,
   "id": "8d525474",
   "metadata": {},
   "outputs": [],
   "source": [
    "def swap(a,b):\n",
    "    '매개변수의 순서를 바꿔서 return'\n",
    "    return b,a # return (b,a)"
   ]
  },
  {
   "cell_type": "code",
   "execution_count": null,
   "id": "a5f3e7aa",
   "metadata": {},
   "outputs": [],
   "source": [
    "x,y = 5,10\n",
    "print('함수 실행 전 x,y =',x,y)\n",
    "x,y = swap(x,y)\n",
    "print('함수 실행 후 x,y=',x,y)"
   ]
  },
  {
   "cell_type": "markdown",
   "id": "8e3e416b",
   "metadata": {},
   "source": [
    "# 3절 함수의 매개변수★\n",
    "## 3.1 기본값을 갖는 매개변수"
   ]
  },
  {
   "cell_type": "code",
   "execution_count": null,
   "id": "0ce326b3",
   "metadata": {},
   "outputs": [],
   "source": [
    "def make_url(ip, port=80): # 순서인수 > 기본값을 갖는 매개변수 순으로 배치 rlqhs\n",
    "    return \"http://{}:{}\".format(ip,port)"
   ]
  },
  {
   "cell_type": "code",
   "execution_count": null,
   "id": "4d6bfba9",
   "metadata": {},
   "outputs": [],
   "source": [
    "print(make_url(\"localhost\",8090))\n",
    "print(make_url(\"www.naver.com\",80))\n",
    "print(make_url(port=9090, ip=\"localhost\"))"
   ]
  },
  {
   "cell_type": "markdown",
   "id": "ed8f0284",
   "metadata": {},
   "source": [
    "## 3.2 기본변수를 기본값으로 갖는 매개변수\n",
    "- 기본변수가 스칼라변수(문자, 숫자, 논리형)일 때\n",
    "- 기본변수가 리스트, 셋, 딕셔너리, 기타 객체일 때"
   ]
  },
  {
   "cell_type": "code",
   "execution_count": null,
   "id": "5cde8631",
   "metadata": {},
   "outputs": [],
   "source": [
    "i = 80\n",
    "# 기본변수가 스칼라변수일 때: 함수가 정의되는 시점으로 기본값 셋팅\n",
    "def make_url(ip, port=i):\n",
    "    return \"http://{}:{}\".format(ip, port)"
   ]
  },
  {
   "cell_type": "code",
   "execution_count": null,
   "id": "68c02461",
   "metadata": {},
   "outputs": [],
   "source": [
    "i =90\n",
    "make_url(\"localhost\")"
   ]
  },
  {
   "cell_type": "code",
   "execution_count": null,
   "id": "1be29d88",
   "metadata": {},
   "outputs": [],
   "source": [
    "list_ = []\n",
    "#기본변수가 리스트, 셋, 딕셔너리, 객체일 때: 함수가 실행되는시점으로 기본값 셋팅\n",
    "def func3(a,L=list_):\n",
    "    L.append(a)\n",
    "    return L\n",
    "print(func3(10))"
   ]
  },
  {
   "cell_type": "code",
   "execution_count": null,
   "id": "5b0254b5",
   "metadata": {},
   "outputs": [],
   "source": [
    "print(func3(10))"
   ]
  },
  {
   "cell_type": "code",
   "execution_count": null,
   "id": "6dc18ca9",
   "metadata": {},
   "outputs": [],
   "source": [
    "print(\"list_=\",list_)"
   ]
  },
  {
   "cell_type": "code",
   "execution_count": null,
   "id": "86231b09",
   "metadata": {},
   "outputs": [],
   "source": [
    "# 실행할 때마다 L을 공유하는게 싫으면\n",
    "def func3(a, L=None):\n",
    "    if L is None:\n",
    "        L= []\n",
    "    L.append(a)\n",
    "    return L"
   ]
  },
  {
   "cell_type": "markdown",
   "id": "9a412980",
   "metadata": {},
   "source": [
    "## 3.3 순서 인수, 키워드 인수\n",
    "- 순서 인수: 함수에 정의된 순서대로 전달 방식\n",
    "- 키워드 인수: 인수의 이름을 명시하는 방식\n",
    "- 함수 정의시 순서인수와 키워드인수가 같이 올 때 순서인수 > 키워드 인수 순으로\n"
   ]
  },
  {
   "cell_type": "code",
   "execution_count": null,
   "id": "edc9b709",
   "metadata": {},
   "outputs": [],
   "source": [
    "def func3(a, L=None):\n",
    "    if L is None:\n",
    "        L= []\n",
    "    L.append(a)\n",
    "    return L"
   ]
  },
  {
   "cell_type": "code",
   "execution_count": null,
   "id": "840121cd",
   "metadata": {},
   "outputs": [],
   "source": [
    "lst = []\n",
    "print(func3(10, lst)) # 순서인수: 함수 정의된 순서대로 전달하는 방식\n",
    "print(func3(L= lst, a = 20)) # 키워드 인수: 인수의 이름을 명시하여 전달하는 방식"
   ]
  },
  {
   "cell_type": "markdown",
   "id": "b7afb6b0",
   "metadata": {},
   "source": [
    "## 3.4 튜플매개변수를 이용한 가변인수 설정\n",
    "- 가변인수: 매개변수의 갯수가 가변"
   ]
  },
  {
   "cell_type": "code",
   "execution_count": null,
   "id": "18c40e90",
   "metadata": {},
   "outputs": [],
   "source": [
    "# 파이썬은 함수의 중복정의(오버로딩)을 지원하지 않음\n",
    "def add(a,b):\n",
    "    return a+b\n",
    "def add(a,b,c):\n",
    "    return a+ b+ c"
   ]
  },
  {
   "cell_type": "code",
   "execution_count": null,
   "id": "ab70a4d6",
   "metadata": {},
   "outputs": [],
   "source": [
    "# args앞에 * : args가 튜플 로 전달받는다\n",
    "def add(*args): #앞에 *을 넣음으로 써 더 많은 매개변수를 받을 수 있다\n",
    "#     print('args=' ,args)\n",
    "    '전달받은 매개변수들의 합을 return. 매개변수가 없으면 0을 return'\n",
    "    sum = 0 #누적변수\n",
    "    for num in args:\n",
    "        sum += num # sum = sum+num\n",
    "    return sum \n",
    "    "
   ]
  },
  {
   "cell_type": "code",
   "execution_count": null,
   "id": "935477de",
   "metadata": {},
   "outputs": [],
   "source": [
    "print (add())\n",
    "print(add(1))\n",
    "print(add(2,3))\n",
    "add(1,2,3,4,5,6,7,8,9,10)"
   ]
  },
  {
   "cell_type": "code",
   "execution_count": null,
   "id": "cfbfe39b",
   "metadata": {},
   "outputs": [],
   "source": [
    "subject = (\"Python\", \"HTML/CSS\",\"JavaScript\",\"Oracle/MySQL\")\n",
    "'-'. join(subject)"
   ]
  },
  {
   "cell_type": "code",
   "execution_count": null,
   "id": "f0095918",
   "metadata": {},
   "outputs": [],
   "source": [
    "#튜플 매개변수와 일반 매개변수가 같이 있을 때\n",
    "def concat(*subject, sep):\n",
    "    return sep.join(subject)"
   ]
  },
  {
   "cell_type": "code",
   "execution_count": null,
   "id": "88fd90ac",
   "metadata": {},
   "outputs": [],
   "source": [
    "concat(\"Python\", \"HTML/CSS\",\"JavaScript\",\"Oracle/MySQL\",'-')"
   ]
  },
  {
   "cell_type": "code",
   "execution_count": null,
   "id": "95a90ffe",
   "metadata": {},
   "outputs": [],
   "source": [
    " # 해결책1 매개변수 이름을 지정해서 호출\n",
    "concat(\"Python\", \"HTML/CSS\",\"JavaScript\",\"Oracle/MySQL\",sep='-')"
   ]
  },
  {
   "cell_type": "code",
   "execution_count": null,
   "id": "a96b7fa6",
   "metadata": {},
   "outputs": [],
   "source": [
    "# 해결책2: 기본값을 갖는 키워드 인수 사용\n",
    "def concat(*subject , sep=' ~ '):\n",
    "    return sep.join(subject)    # 튜플매개변수 > 키워드 인수\n",
    "concat(\"Python\", \"HTML/CSS\",\"JavaScript\",\"Oracle/MySQL\",)"
   ]
  },
  {
   "cell_type": "code",
   "execution_count": null,
   "id": "83574e75",
   "metadata": {},
   "outputs": [],
   "source": [
    "# 해결책3(추천): sep을 순서인수로 앞으로\n",
    "def concat(sep, *subject):\n",
    "    return sep.join(subject)"
   ]
  },
  {
   "cell_type": "code",
   "execution_count": null,
   "id": "b76d60ad",
   "metadata": {},
   "outputs": [],
   "source": [
    "concat('~','Python','Web','DB',\"MLDL\")"
   ]
  },
  {
   "cell_type": "markdown",
   "id": "3df85f62",
   "metadata": {},
   "source": [
    "## 3.5 딕셔너리 매개변수\n",
    "- 딕셔너리 인수: 여러개의 키워드 인수를 딕셔너리 형태로 받아서 가변인수로 처리"
   ]
  },
  {
   "cell_type": "code",
   "execution_count": null,
   "id": "74064e19",
   "metadata": {},
   "outputs": [],
   "source": [
    "make_url(ip=\"localhost\",port=8080)"
   ]
  },
  {
   "cell_type": "code",
   "execution_count": null,
   "id": "6a201d1e",
   "metadata": {},
   "outputs": [],
   "source": [
    "def func5(**args): # args : 딕셔너리로 전달받음\n",
    "    print(\"이름: \",args.get('name','홍길동'))\n",
    "    print(\"나이: \",args.get('age','30'))\n",
    "    print(\"전화: \",args.get('tel','010-9999-9999'))\n",
    "    print(\"주소: \",args.get('address','서울 관악'))"
   ]
  },
  {
   "cell_type": "code",
   "execution_count": null,
   "id": "6dc37a61",
   "metadata": {},
   "outputs": [],
   "source": [
    "def func5(**args):\n",
    "    print(args)\n",
    "    print(type(args))\n",
    "    if 'address' not in args: # args에 address 키가 없으면 if 문 True\n",
    "        # args['address'] =' 서울시 관악구'\n",
    "        args.update(address=\"서울시 관악구\")\n",
    "    for key, value in args.items():\n",
    "        print(f\"{key}:{value}\")"
   ]
  },
  {
   "cell_type": "code",
   "execution_count": null,
   "id": "4c45db55",
   "metadata": {},
   "outputs": [],
   "source": [
    "func5(name='홍길동',age=30, tel='010-9999-9999')"
   ]
  },
  {
   "cell_type": "code",
   "execution_count": null,
   "id": "9c72e8a9",
   "metadata": {},
   "outputs": [],
   "source": [
    "def func(a,b,c):\n",
    "    return a+b+c\n",
    "# func()"
   ]
  },
  {
   "cell_type": "markdown",
   "id": "992af0a7",
   "metadata": {},
   "source": [
    "## 3.6 함수 정의시 매개변수의 순서\n",
    "- 순서인수 > 튜플인수(*) > 키워드인수(기본값) > 딕셔너리인수(**)"
   ]
  },
  {
   "cell_type": "code",
   "execution_count": null,
   "id": "77927edc",
   "metadata": {},
   "outputs": [],
   "source": [
    "# 순서인수 > 튜플인수 > 딕셔너리인수\n",
    "def func6(a,b,*c,**d):\n",
    "    print(\"순서인수 a=\",a)\n",
    "    print(\"순서인수 b=\",b)\n",
    "    print(\"튜플인수 c=\",c)\n",
    "    print(\"순서인수 d=\",d)"
   ]
  },
  {
   "cell_type": "code",
   "execution_count": null,
   "id": "91e83526",
   "metadata": {},
   "outputs": [],
   "source": [
    "func6(10,20, 1,2,3,4,5,6,7,8,9, name='홍', age=30, address='신림')"
   ]
  },
  {
   "cell_type": "code",
   "execution_count": null,
   "id": "41269846",
   "metadata": {},
   "outputs": [],
   "source": [
    "# 순서인수 > 튜플인수(*) > 키워드인수(기본값) > 딕셔너리인수(**)\n",
    "def func7(a,b,c,*d,e=10,**f):\n",
    "    print(\"순서인수 a=\",a)\n",
    "    print(\"순서인수 a=\",b)\n",
    "    print(\"순서인수 a=\",c)\n",
    "    print(\"튜플인수 a=\",d)\n",
    "    print(\"키워드인수(기본값10) e=\",e)\n",
    "    print(\"딕셔너리인수 a=\",f)\n"
   ]
  },
  {
   "cell_type": "code",
   "execution_count": null,
   "id": "75f6f62c",
   "metadata": {},
   "outputs": [],
   "source": [
    "func7(10,20,30,e=100)"
   ]
  },
  {
   "cell_type": "code",
   "execution_count": null,
   "id": "f0bd59e1",
   "metadata": {},
   "outputs": [],
   "source": [
    "func7(10, 20, 30, 1, 2, 3, 4, 5, e=100, shape='rect',weith=20,height=30)"
   ]
  },
  {
   "cell_type": "markdown",
   "id": "e01d30c3",
   "metadata": {},
   "source": [
    "## 3.7인수의 언패킹\n",
    "### 튜플인수 언패킹\n",
    "- 언패킹: 함수 호출시 매개변수 앞에 * 붙임\n",
    "- 패킹: 함수 정의식 매개변수앞에 *붙임 (튜플매개변수)"
   ]
  },
  {
   "cell_type": "code",
   "execution_count": null,
   "id": "7ff4d8a5",
   "metadata": {},
   "outputs": [],
   "source": [
    "def add(*args):\n",
    "    sum = 0\n",
    "    for num in args:\n",
    "        sum+= num\n",
    "    return sum"
   ]
  },
  {
   "cell_type": "code",
   "execution_count": null,
   "id": "9441a568",
   "metadata": {},
   "outputs": [],
   "source": [
    "add(1,2,3)"
   ]
  },
  {
   "cell_type": "code",
   "execution_count": null,
   "id": "2d559051",
   "metadata": {},
   "outputs": [],
   "source": [
    "numbers = (1,2,3)\n",
    "add(*numbers)"
   ]
  },
  {
   "cell_type": "markdown",
   "id": "c75f364e",
   "metadata": {},
   "source": [
    "### 딕셔너리 인수 언패킹"
   ]
  },
  {
   "cell_type": "code",
   "execution_count": null,
   "id": "00e68c4d",
   "metadata": {},
   "outputs": [],
   "source": [
    "def func8(**data):\n",
    "    print(data)\n",
    "    for item in data.items():\n",
    "        print(item)\n"
   ]
  },
  {
   "cell_type": "code",
   "execution_count": null,
   "id": "ff6681e0",
   "metadata": {},
   "outputs": [],
   "source": [
    "func8(shape=\"rect\", width=50,height=30)"
   ]
  },
  {
   "cell_type": "code",
   "execution_count": null,
   "id": "9bc653b4",
   "metadata": {},
   "outputs": [],
   "source": [
    "info = {'shape':'rect', 'width':50, 'height':30}\n",
    "func8(**info)"
   ]
  },
  {
   "cell_type": "markdown",
   "id": "3a28fdf0",
   "metadata": {},
   "source": [
    "# 4절 람다식\n",
    "- return 한 줄짜리 작은 익명함수"
   ]
  },
  {
   "cell_type": "code",
   "execution_count": null,
   "id": "2e11c0fa",
   "metadata": {},
   "outputs": [],
   "source": [
    "def add(a,b):\n",
    "    return a+ b\n",
    "add(3,5)"
   ]
  },
  {
   "cell_type": "code",
   "execution_count": null,
   "id": "b8173954",
   "metadata": {},
   "outputs": [],
   "source": [
    "add2 = lambda a, b : a + b #(함수의 매개변수,매개변수 : 리턴 받을 값)"
   ]
  },
  {
   "cell_type": "code",
   "execution_count": null,
   "id": "c31b7bc2",
   "metadata": {},
   "outputs": [],
   "source": [
    "# ex1. 매개변수로 들어온 값이 짝수인지 홀수인지 return하는 함수를 람다식으로 만든다\n",
    "def even_odd_chk(num):\n",
    "#     if num % 2:\n",
    "#         result = \"홀수\"\n",
    "#     else:\n",
    "#         result = \"짝수\"\n",
    "\n",
    "#     return \" 홀수 \" if num % 2 else \"짝수\"\n",
    "\n",
    "even_odd_chk = lambda num : \" 홀수 \" if num % 2 else \"짝수\" # \n",
    "\n",
    "even_odd_chk(5), even_odd_chk(4)"
   ]
  },
  {
   "cell_type": "code",
   "execution_count": null,
   "id": "d42b5b32",
   "metadata": {},
   "outputs": [],
   "source": [
    "# ex2. 두 매개변수의 차이를 return하는 함수를 람다식을 만들어 보세요\n",
    "diff = lambda a ,b :a - b if a> b else b-a  \n",
    "diff(5,1)"
   ]
  },
  {
   "cell_type": "code",
   "execution_count": null,
   "id": "ee22ac59",
   "metadata": {},
   "outputs": [],
   "source": [
    "# ex3. 매개변수로 잔액을 받아, 잔액이 양수면 잔액을 return, 음수면 'negative'를 리턴\n",
    "ex3 = lambda balance : balance if balance >= 0  else  \"negative\"\n",
    "ex3(-100)"
   ]
  },
  {
   "cell_type": "code",
   "execution_count": null,
   "id": "c6b0f0f1",
   "metadata": {},
   "outputs": [],
   "source": [
    "# # ex4. 점수를 입력받아 80점이상은 'A팀', 60점 이상은 'B팀', 60점 미만은 '재시험' 100점 초과 or 0점 미만 '유효하지않음'을 return\n",
    "score_ = lambda score : \"A팀\" if 80 <= score <= 100 else \"B팀\" if 60 <= score  < 80 else \"재시험\" if 0 <= socre < 60 else \"유효하지않음\"\n",
    "score_(74) #풀이 score_ 안에 람다식으로 \"A팀에대한 조건\" if, else 'space' \"B팀에대한 조건 \" if, else  \n"
   ]
  },
  {
   "cell_type": "code",
   "execution_count": null,
   "id": "1ea91825",
   "metadata": {},
   "outputs": [],
   "source": [
    "# ex5. 점수를 입력받아 학점을 return\n",
    "score = int(input(\"점수를 입력하시오: \"))\n",
    "scoreGrade = lambda s : \"A학점\" if 90<= score <=100 else \\\n",
    "                            \"B학점\" if 80<=score <90 else \\\n",
    "                            \"C학점\" if 70<=score <80 else \\\n",
    "                            \"D학점\" if 60<=score <70 else \\\n",
    "                            \"F학점\" if 0<=score <60 else \\\n",
    "                            \"유효하지않음\"\n",
    "print(scoreGrade(score))"
   ]
  },
  {
   "cell_type": "code",
   "execution_count": null,
   "id": "7a356c04",
   "metadata": {},
   "outputs": [],
   "source": [
    "# ex6. safe_index함수를 람다식으로\n",
    "\n",
    "def safe_index(lst,item,start=0):\n",
    "    return lst.index(item, start) if item in lst[start:] else -1\n",
    "\n",
    "ex5 = lambda lst, item, start =0 :lst.index(item, start)\\\n",
    "       if item in lst[start:] else -1\n",
    "\n",
    "i =3\n",
    "lst = [i,2,3]\n",
    "safe_index(lst,4), ex5(lst,3,1)"
   ]
  },
  {
   "cell_type": "code",
   "execution_count": null,
   "id": "2e02ecbe",
   "metadata": {},
   "outputs": [],
   "source": [
    "# 람다식을 list에 들어갈 수 있음\n",
    "add = lambda a, b : a + b\n",
    "sub = lambda a, b : a - b\n",
    "mul = lambda a, b : a * b\n",
    "div = lambda a, b : a / b if  b else '두 번째 인자가 0이면 못 나눠요'\n",
    "operations = [add, sub, mul, div] # 사칙연산 함수들\n",
    "def act_operations (a, b, operation= operations): # a,b의 연산결과 return\n",
    "    result = []\n",
    "    \n",
    "    for op in operation:\n",
    "        result.append(op(a ,b))\n",
    "    return result\n",
    "            \n",
    "act_operations (20,5)"
   ]
  },
  {
   "cell_type": "code",
   "execution_count": null,
   "id": "fd871795",
   "metadata": {},
   "outputs": [],
   "source": [
    "act_operations(8,2,[lambda x, y: x**y, lambda x,y :10*x+y])"
   ]
  },
  {
   "cell_type": "code",
   "execution_count": null,
   "id": "ea9c155f",
   "metadata": {},
   "outputs": [],
   "source": [
    "operations.append(lambda x, y : x ** y)"
   ]
  },
  {
   "cell_type": "code",
   "execution_count": null,
   "id": "ccb70653",
   "metadata": {},
   "outputs": [],
   "source": [
    "act_operations(8,2) # 기본값을 갖는 변수(기본 변수)가 리스트면 기본값은 호출할 시점"
   ]
  },
  {
   "cell_type": "markdown",
   "id": "fc3a9f09",
   "metadata": {},
   "source": [
    "## 4.2 함수의 매개변수(인수)에 람다식 사용\n",
    "- 람다식을 사용하는 곳: 함수의 매개변수 > return 문\n",
    "### (1) map"
   ]
  },
  {
   "cell_type": "code",
   "execution_count": null,
   "id": "1c325537",
   "metadata": {},
   "outputs": [],
   "source": [
    "def map_template(func, L=[]):\n",
    "    result= []\n",
    "    for item in L:\n",
    "        result.append(func(item))\n",
    "    return result\n"
   ]
  },
  {
   "cell_type": "code",
   "execution_count": null,
   "id": "e6cc20c9",
   "metadata": {},
   "outputs": [],
   "source": [
    "list_data =[1,2,3,4,5,6,7]\n",
    "map_template(lambda a: a*2 ,list_data)"
   ]
  },
  {
   "cell_type": "code",
   "execution_count": null,
   "id": "a2f7f2fb",
   "metadata": {},
   "outputs": [],
   "source": [
    "# 리스트 컴프리헨션\n",
    "[item * 2 for item in list_data]"
   ]
  },
  {
   "cell_type": "code",
   "execution_count": null,
   "id": "44aafcf6",
   "metadata": {},
   "outputs": [],
   "source": [
    "list(map(lambda x: x * 2 ,list_data))"
   ]
  },
  {
   "cell_type": "code",
   "execution_count": null,
   "id": "2128a531",
   "metadata": {},
   "outputs": [],
   "source": [
    "for data in map(lambda x:x*2,list_data):\n",
    "    print(data, end=\" \")"
   ]
  },
  {
   "cell_type": "code",
   "execution_count": null,
   "id": "c3e1b34c",
   "metadata": {},
   "outputs": [],
   "source": [
    "# 예제prices = ['5,000', '5000', '6,000', '1000','5,000', '5000', '6,000', '1000’]를 [5000,5000,6000,1000]식으로 바꾸시오\n",
    "prices = ['5,000', '5000', '6,000', '1000','5,000', '5000', '6,000','1000']\n",
    "\n",
    "def toint(value):\n",
    "    return int(value.replace(',',''))\n",
    "\n",
    "prices_int =map(lambda value: int(value.replace(',','')),prices)\n",
    "\n",
    "for price in prices_int:\n",
    "    print(price,end=' ')"
   ]
  },
  {
   "cell_type": "code",
   "execution_count": null,
   "id": "da2cdd6c",
   "metadata": {},
   "outputs": [],
   "source": [
    "#예제2\n",
    "members1 = [{'name':'홍길동', 'birth':'2000-01-01'},{'name':'신길동', 'birth':'1995-12-18'},]\n",
    "members2 = [{'name':'홍길동', 'year':2000, 'month':1,'day':1},{'name':'신길동', 'year':1995, 'month':12, 'day':18},]"
   ]
  },
  {
   "cell_type": "code",
   "execution_count": null,
   "id": "09c07298",
   "metadata": {},
   "outputs": [],
   "source": [
    "# '2000-01-01' => {'year':2000, 'month':1' 'day':1}\n",
    "date_str = '2000-02-02'\n",
    "keys = ['year','month','day']\n",
    "# map(iambda(kv: ))\n",
    "result = dict(map(lambda kv: (kv[0], int(kv[1])), zip(keys, date_str.split(\"-\"))))\n",
    "print(result)"
   ]
  },
  {
   "cell_type": "code",
   "execution_count": null,
   "id": "3107213c",
   "metadata": {},
   "outputs": [],
   "source": [
    "def split_date(date):\n",
    "    split_date = date.split('-')\n",
    "    return {\n",
    "        'year' : int(split_date[0]),\n",
    "        'month' : int(split_date[1]),\n",
    "        'day' : int(split_date[2])\n",
    "    }\n",
    "split_date('2025-01-01'), split_date('1995-12-12')"
   ]
  },
  {
   "cell_type": "code",
   "execution_count": null,
   "id": "99cd3f54",
   "metadata": {},
   "outputs": [],
   "source": [
    "def member_preprocessing(member):\n",
    "    return {\n",
    "        'name': member.get('name','이름없음'),\n",
    "        'year': int(member.get('birth').split('-')[0]),\n",
    "        'month': int(member.get('birth').split('-')[1]),\n",
    "        'day': int(member.get('birth').split('-')[2])\n",
    "    }\n",
    "member_preprocessing({'name':'홍길동','birth':'2002-01-01'})"
   ]
  },
  {
   "cell_type": "code",
   "execution_count": null,
   "id": "7fb547e1",
   "metadata": {},
   "outputs": [],
   "source": [
    "members2 = list(map(lambda member:{\n",
    "        'name': member.get('name','이름없음'),\n",
    "        'year': int(member.get('birth').split('-')[0]),\n",
    "        'month': int(member.get('birth').split('-')[1]),\n",
    "        'day': int(member.get('birth').split('-')[2])}, members1))\n",
    "\n",
    "members2 \n",
    "# member2 에 리스트로 묶고 map함수와 람다함수 매개변수 member는 딕셔너리 name에는 member에서 'name'  없으면 '이름 없음' 호출, year키에서 birth(2002-01-01)인트로 정수형으로 바꾸고 split에서 spc'-' 을 제거 [0]가져오기\n",
    "# 그렇게 데이까지 똑같이 하고 member value "
   ]
  },
  {
   "cell_type": "code",
   "execution_count": null,
   "id": "1c56ac15",
   "metadata": {},
   "outputs": [],
   "source": [
    "members2 = [{'name':'홍길동', 'year':2000, 'month':1,'day':1},{'name':'신길동', 'year':1995, 'month':12, 'day':18},]"
   ]
  },
  {
   "cell_type": "code",
   "execution_count": null,
   "id": "fd51e03d",
   "metadata": {},
   "outputs": [],
   "source": [
    "# {'year':2000 'month':1 'day':1} => {'birth':'2025-01-01'}\n",
    "def join_date(data):\n",
    "    return {\"birth\": \"{year:02}-{month:02}-{day:02}\".format(**data)}\n",
    "join_date({'year':2000,'month':9,'day':9})"
   ]
  },
  {
   "cell_type": "code",
   "execution_count": null,
   "id": "bc6d91e4",
   "metadata": {},
   "outputs": [],
   "source": [
    "# {'name':'hong' year':2000 'month':1 'day':1} => {'name':'hong', birth':'2025-01-01'}\n",
    "\n",
    "\n",
    "def join_date(data):\n",
    "    return {\"name\": 'hong',\"birth\": \"{year:02}-{month:02}-{day:02}\".format(**data)}\n",
    "join_date({'name':'hong', 'year':2000,'month':9,'day':9})"
   ]
  },
  {
   "cell_type": "code",
   "execution_count": null,
   "id": "77939cc1",
   "metadata": {},
   "outputs": [],
   "source": [
    "list(map(lambda member:{\"name\": member.get('name'),\n",
    "                        \"birth\": \"{year:02}-{month:02}-{day:02}\".format(**member)},  members2))"
   ]
  },
  {
   "cell_type": "markdown",
   "id": "0c1426ac",
   "metadata": {},
   "source": [
    "## (2) filter"
   ]
  },
  {
   "cell_type": "code",
   "execution_count": null,
   "id": "1c7cab3d",
   "metadata": {},
   "outputs": [],
   "source": [
    "def filter_template(func,L=[]):\n",
    "    result = []\n",
    "    for item in L:\n",
    "        if func(item):\n",
    "            result.append(item)\n",
    "    return result"
   ]
  },
  {
   "cell_type": "code",
   "execution_count": null,
   "id": "aa69f594",
   "metadata": {},
   "outputs": [],
   "source": [
    "list_data = [1,2,3,4,5,6,7,8,9]\n",
    "def odd_chk(value):\n",
    "    return value %2 !=0\n",
    "#     if value%2:\n",
    "#         return True\n",
    "#     else:\n",
    "#         return False\n",
    "filter_template(lambda value: value%2 !=0,list_data)"
   ]
  },
  {
   "cell_type": "code",
   "execution_count": null,
   "id": "f42fa2f0",
   "metadata": {},
   "outputs": [],
   "source": [
    "[value for value in list_data if value%2 !=0]"
   ]
  },
  {
   "cell_type": "code",
   "execution_count": null,
   "id": "50e7785c",
   "metadata": {},
   "outputs": [],
   "source": [
    "# 예제: 다음 리스트에서 소수점 이하가 0인 수만 추출하시오.\n",
    "L=[1, 1.2, 1.5, 3.0, 10.5, 100, -2.0, -12.2]\n",
    "\n",
    "[value for value in L if value % 1== 0]"
   ]
  },
  {
   "cell_type": "code",
   "execution_count": null,
   "id": "b091a97a",
   "metadata": {},
   "outputs": [],
   "source": [
    "list(filter_template(lambda value: value%1==0,L))"
   ]
  },
  {
   "cell_type": "markdown",
   "id": "15573bef",
   "metadata": {},
   "source": [
    "## (3) sort"
   ]
  },
  {
   "cell_type": "code",
   "execution_count": null,
   "id": "1e74c29a",
   "metadata": {},
   "outputs": [],
   "source": [
    "p = [10,3,6,1]\n",
    "p.sort(reverse=True)\n",
    "p"
   ]
  },
  {
   "cell_type": "code",
   "execution_count": null,
   "id": "e96b8301",
   "metadata": {},
   "outputs": [],
   "source": [
    "# 무조건 0번째 item을 기준으로 오름차순 정렬\n",
    "pairs = [(2,'two'),(1,'one'),(3,'three'),(4,'four')]\n",
    "pairs.sort()\n",
    "pairs"
   ]
  },
  {
   "cell_type": "code",
   "execution_count": null,
   "id": "4c29093a",
   "metadata": {},
   "outputs": [],
   "source": [
    "# 1번째 기준으로 item기준으로 내림차순 정렬\n",
    "pairs.sort(key=lambda data:data[1],reverse=True)\n",
    "pairs"
   ]
  },
  {
   "cell_type": "code",
   "execution_count": null,
   "id": "4b3bec82",
   "metadata": {},
   "outputs": [],
   "source": [
    "# 합이 큰 순서로 정렬\n",
    "number_2d =[[9,9],[1,100],[10,200]]\n",
    "print(number_2d)\n",
    "number_2d.sort(key=lambda items : sum(items),reverse= True)\n",
    "print(number_2d)\n",
    "\n",
    "    \n",
    "    \n"
   ]
  },
  {
   "cell_type": "code",
   "execution_count": null,
   "id": "3dcb40d6",
   "metadata": {},
   "outputs": [],
   "source": [
    "students = [{'name':'홍','score':99},\n",
    "           {'name':'김','score':50},\n",
    "           {'name':'박','score':77},\n",
    "           {'score':100},]\n",
    "students.sort(key=lambda data:data[1],reverse=True)"
   ]
  },
  {
   "cell_type": "code",
   "execution_count": null,
   "id": "d31de308",
   "metadata": {},
   "outputs": [],
   "source": [
    "name_select = lambda data: data.get('name')\n",
    "name_select ({'name':'홍','score':99})"
   ]
  },
  {
   "cell_type": "code",
   "execution_count": null,
   "id": "8a6623e4",
   "metadata": {},
   "outputs": [],
   "source": [
    "#students를 name순으로 정렬(ㄱㄴㄷ순)\n",
    "students.sort(key=lambda data : data.get('name','힣'))\n",
    "students"
   ]
  },
  {
   "cell_type": "code",
   "execution_count": null,
   "id": "63952530",
   "metadata": {},
   "outputs": [],
   "source": [
    "#student를 score 큰 순 정렬\n",
    "students.sort(key=lambda data : data.get('score',0, ),reverse=True)\n",
    "students"
   ]
  },
  {
   "cell_type": "code",
   "execution_count": null,
   "id": "77360007",
   "metadata": {},
   "outputs": [],
   "source": [
    "# 예제 : books 정렬(no,title,price)\n",
    "books = \\\n",
    "[{'no':2, 'title':'더트릭컬', 'writer':'폴빠','price':'19,80'},\n",
    "    {'no':1, 'title':'흔한남매', 'writer':'백난도', 'price':'15,120'},\n",
    "    {'no':3, 'title':'단 한 번의 삶', 'writer':'김영하', 'price':'15,120'},\n",
    "    {'no':4, 'title':'가격잘못', 'writer':'홍길동', 'price':'ㅁ'},\n",
    "    {'no':5, 'title':'가격이숫자', 'writer':'백난도', 'price':30200},\n",
    "    {'no':6, 'title':'가격이없음', 'writer':'이길동'},] "
   ]
  },
  {
   "cell_type": "code",
   "execution_count": null,
   "id": "e88d42a5",
   "metadata": {},
   "outputs": [],
   "source": [
    "# no기준\n",
    "books.sort(key=lambda book: book['no'])\n",
    "books"
   ]
  },
  {
   "cell_type": "code",
   "execution_count": null,
   "id": "2b90bf5e",
   "metadata": {},
   "outputs": [],
   "source": [
    "# title\n",
    "books.sort(key=lambda book: book['title'])\n",
    "books"
   ]
  },
  {
   "cell_type": "code",
   "execution_count": null,
   "id": "625230ca",
   "metadata": {},
   "outputs": [],
   "source": [
    "# price\n",
    "books.sort(key=lambda book: book.get('price',0))\n",
    "if\n",
    "books"
   ]
  },
  {
   "cell_type": "code",
   "execution_count": null,
   "id": "16c2dd25",
   "metadata": {},
   "outputs": [],
   "source": [
    "# 30200, '12,000', '5000', 'ㅁ', None => 30200, 12000, 5000, 0, 0\n",
    "def parse_int(price):\n",
    "    if isinstance(price, str) and price.replace(',','').isdigit():\n",
    "        return int(price.replace(',',''))\n",
    "    elif isinstance(price,int):\n",
    "        return price\n",
    "    else:\n",
    "        return 0\n",
    "    \n",
    "def parse_int(price):\n",
    "    if str(price).replace(',','').isdigit():\n",
    "        return int(price.replace(',',''))\n",
    "    \n",
    "    else:\n",
    "        return 0\n",
    "    \n",
    "parse_int = lambda price :int(price.replace(',','')) if isinstance(price, str) and price.replace(',','').isdigit() else \\\n",
    "price if isinstance(price, int)else 0\n",
    "\n",
    "print(parse_int('5000'), parse_int(30200),parse_int('ㅁ'),parse_int(None))"
   ]
  },
  {
   "cell_type": "code",
   "execution_count": null,
   "id": "1b7bc9d1",
   "metadata": {},
   "outputs": [],
   "source": [
    "parse_int = lambda book: (\n",
    "    int(book.get('price').replace(',', ''))\n",
    "    if isinstance(book.get('price'), str) and book.get('price').replace(',', '').isdigit()\n",
    "    else book.get('price') if isinstance(book.get('price'), int)\n",
    "    else 0\n",
    ")\n",
    "print(\n",
    "    parse_int({'price': '5000'}),\n",
    "    parse_int({'price': 30200}),\n",
    "    parse_int({'price': 'ㅁ'}),\n",
    "    parse_int({'price': None})\n",
    ")"
   ]
  },
  {
   "cell_type": "code",
   "execution_count": null,
   "id": "ae8ffd25",
   "metadata": {},
   "outputs": [],
   "source": [
    "copyBooks = books.copy() # 복제\n",
    "copyBooks.sort(key=lambda book: \n",
    "    int(book.get('price').replace(',', ''))\n",
    "    if isinstance(book.get('price'), str) and book.get('price').replace(',', '').isdigit()\n",
    "    else book.get('price') if isinstance(book.get('price'), int)\n",
    "    else 0, reverse =True\n",
    ")\n",
    "copyBooks"
   ]
  },
  {
   "cell_type": "markdown",
   "id": "3bfebc96",
   "metadata": {},
   "source": [
    "# 5절 파이썬 내장함수\n",
    "- import 하지 않고 바로 상용 가능한 함수\n",
    "- 키워드(if, while, ..) 처럼 간주되므로, 식별자 (변수명, 함수명, 클래스명)로 사용하는 것을 피한다"
   ]
  },
  {
   "cell_type": "code",
   "execution_count": null,
   "id": "b89636eb",
   "metadata": {},
   "outputs": [],
   "source": [
    "a = 10"
   ]
  },
  {
   "cell_type": "code",
   "execution_count": null,
   "id": "66e1ff42",
   "metadata": {},
   "outputs": [],
   "source": [
    "globals() #전역변수 리스트 "
   ]
  },
  {
   "cell_type": "code",
   "execution_count": null,
   "id": "02788b12",
   "metadata": {},
   "outputs": [],
   "source": [
    "all([True, True, True, False]) #모든 요소가 다 True인지 여부"
   ]
  },
  {
   "cell_type": "markdown",
   "id": "074887e6",
   "metadata": {},
   "source": [
    "# 6절 연습문제"
   ]
  },
  {
   "cell_type": "markdown",
   "id": "1d7fd4b9",
   "metadata": {},
   "source": [
    "## 실습형"
   ]
  },
  {
   "cell_type": "code",
   "execution_count": null,
   "id": "ef24cc57",
   "metadata": {},
   "outputs": [],
   "source": [
    "# ex1)\n",
    "data_list =[10,3,4,5]\n",
    "def get_max_min(data_list):\n",
    "    return max(data_list), min(data_list)\n",
    "get_max_min(data_list)"
   ]
  },
  {
   "cell_type": "code",
   "execution_count": null,
   "id": "eb88382d",
   "metadata": {},
   "outputs": [],
   "source": [
    "# ex1-2)\n",
    "get_max_min = lambda data_list :( max(data_list),min(data_list)) b\n",
    "get_max_min(data_list)"
   ]
  },
  {
   "cell_type": "code",
   "execution_count": 24,
   "id": "813c8e49",
   "metadata": {},
   "outputs": [
    {
     "name": "stdout",
     "output_type": "stream",
     "text": [
      "정상\n"
     ]
    }
   ],
   "source": [
    "# ex2)\n",
    "def bmi (weight, height):\n",
    "    return weight / (height **2)\n",
    "    \n",
    "get_bmi = lambda w, h: \"저체중\" if bmi(w, h) < 18.5 else \"정상\" if bmi(w, h) < 25 else \"과체중\" if bmi(w, h) < 30 else \"비만\"\n",
    "\n",
    "print(get_bmi(72,1.75))"
   ]
  },
  {
   "cell_type": "code",
   "execution_count": null,
   "id": "7bfed875",
   "metadata": {},
   "outputs": [],
   "source": [
    "# 실습형 3: 직각삼각형 w, h로 area, perimeter(넓이, 둘레)\n",
    "import math\n",
    "\n",
    "def get_trianle(w,h):\n",
    "    area = w *h *0.5\n",
    "    # math.sqrt() : 제곱근\n",
    "    perimeter = w  + h + math.sqrt(w*w + h*h)\n",
    "#     return area , perimeter\n",
    "    return {'넓이':area, '둘레':perimeter}\n",
    "get_trianle(3,4)"
   ]
  },
  {
   "cell_type": "code",
   "execution_count": 40,
   "id": "f1e863bb",
   "metadata": {},
   "outputs": [
    {
     "name": "stdout",
     "output_type": "stream",
     "text": [
      "276\n"
     ]
    }
   ],
   "source": [
    "#실습 4)\n",
    "def mysum(fRom, end):\n",
    "    sum = 0\n",
    "    for i in range(fRom,end+1):\n",
    "        sum += i\n",
    "    return sum\n",
    "print(mysum(1,23))"
   ]
  },
  {
   "cell_type": "code",
   "execution_count": 62,
   "id": "bb771ef6",
   "metadata": {},
   "outputs": [
    {
     "name": "stdout",
     "output_type": "stream",
     "text": [
      "['Seo', 'Dae', 'Kwa', 'Jej']\n"
     ]
    }
   ],
   "source": [
    "# 실습5)\n",
    "def get_abbrs(lst):\n",
    "    result= []\n",
    "    for city in lst:\n",
    "        result.append(city[:3])\n",
    "    return result\n",
    "print(get_abbrs(['Seoul', 'Daegu', 'Kwangju', 'Jeju']))\n"
   ]
  },
  {
   "cell_type": "code",
   "execution_count": 66,
   "id": "e61e17d5",
   "metadata": {},
   "outputs": [
    {
     "name": "stdout",
     "output_type": "stream",
     "text": [
      "['Seo', 'Dae', 'Kwa', 'Jej']\n"
     ]
    }
   ],
   "source": [
    "# 실습 5-1)\n",
    "get_abbrs = lambda lst: list(map(lambda city: city[:3],lst))\n",
    "print(get_abbrs(['Seoul', 'Daegu', 'Kwangju', 'Jeju']))"
   ]
  },
  {
   "cell_type": "code",
   "execution_count": 71,
   "id": "4f19acd5",
   "metadata": {},
   "outputs": [
    {
     "name": "stdout",
     "output_type": "stream",
     "text": [
      "9\n"
     ]
    }
   ],
   "source": [
    "# 실습6)\n",
    "f = lambda x,y: x**y\n",
    "print(f(3,2))"
   ]
  },
  {
   "cell_type": "code",
   "execution_count": 73,
   "id": "22a78a4b",
   "metadata": {},
   "outputs": [
    {
     "data": {
      "text/plain": [
       "[1, 4, 9, 16, 25]"
      ]
     },
     "execution_count": 73,
     "metadata": {},
     "output_type": "execute_result"
    }
   ],
   "source": [
    "# 실습7)\n",
    "list_data = [1,2,3,4,5]\n",
    "list(map(lambda x: x ** 2 ,list_data))"
   ]
  },
  {
   "cell_type": "code",
   "execution_count": 74,
   "id": "025dcd54",
   "metadata": {},
   "outputs": [
    {
     "data": {
      "text/plain": [
       "[1, 4, 9, 16, 25]"
      ]
     },
     "execution_count": 74,
     "metadata": {},
     "output_type": "execute_result"
    }
   ],
   "source": [
    "[i **2 for i in list_data ]"
   ]
  },
  {
   "cell_type": "code",
   "execution_count": 80,
   "id": "3ad25264",
   "metadata": {},
   "outputs": [
    {
     "name": "stdout",
     "output_type": "stream",
     "text": [
      "1 2 3\n",
      "[1, 2, 3]\n"
     ]
    }
   ],
   "source": [
    "#실습8)\n",
    "a=[1,2,3]\n",
    "print(*a) # 튜플인수 언패킹\n",
    "print(a) # 그냥 출력\n"
   ]
  },
  {
   "cell_type": "code",
   "execution_count": null,
   "id": "dbf58615",
   "metadata": {},
   "outputs": [],
   "source": [
    "# ex9)\n",
    "# 2024-09-06"
   ]
  },
  {
   "cell_type": "code",
   "execution_count": 11,
   "id": "6c7d3421",
   "metadata": {},
   "outputs": [
    {
     "name": "stdout",
     "output_type": "stream",
     "text": [
      "([1, 2], {10, 20}, {'name': '홍', 'age': 30}, (1, 3), {1, 55}, {33, 44})\n"
     ]
    }
   ],
   "source": [
    "# ex10)\n",
    "#입력받은 n개의 벡터(리스트, 튜플, 셋, 딕셔너리)의 크기를 return 하는 함수\n",
    "def vector_size_check(*vector_var):\n",
    "    print(vector_var)\n",
    "vector_size_check([1,2],{10,20},{'name':'홍','age':30},(1,3),{1,55},{33,44})"
   ]
  },
  {
   "cell_type": "code",
   "execution_count": 84,
   "id": "4bfac0b5",
   "metadata": {},
   "outputs": [
    {
     "name": "stdout",
     "output_type": "stream",
     "text": [
      "[5, 10, 15, 20]\n"
     ]
    }
   ],
   "source": [
    "# ex11)\n",
    "def scalar_vector_product(scalra, vector):\n",
    "    result = [scalra * i for i in vector]\n",
    "    return type(vector)(result)\n",
    "print(scalar_vector_product(5,[1,2,3,4]))\n"
   ]
  },
  {
   "cell_type": "markdown",
   "id": "dc40d8ec",
   "metadata": {},
   "source": [
    "## 서술형"
   ]
  },
  {
   "cell_type": "code",
   "execution_count": null,
   "id": "948064d6",
   "metadata": {},
   "outputs": [],
   "source": [
    "# ex1)\n",
    "# 2번"
   ]
  },
  {
   "cell_type": "code",
   "execution_count": 89,
   "id": "a860c223",
   "metadata": {},
   "outputs": [
    {
     "name": "stdout",
     "output_type": "stream",
     "text": [
      "6767"
     ]
    }
   ],
   "source": [
    "# ex2)\n",
    "a= 10\n",
    "def sub():\n",
    "    global a        # a가 여러 함수에 들어가서 지역변수가아닌 전역변수 global로 바꿔야한다 \n",
    "    a += 1\n",
    "    print(a, end='')      \n",
    "    \n",
    "def func():\n",
    "    \n",
    "    global a\n",
    "    \n",
    "    for i in range(2):\n",
    "        a=5\n",
    "        a += 1\n",
    "        print(a, end='')\n",
    "        sub()\n",
    "a += 1\n",
    "func()"
   ]
  },
  {
   "cell_type": "code",
   "execution_count": null,
   "id": "24f2bc1d",
   "metadata": {},
   "outputs": [],
   "source": [
    "# ex3)\n",
    "# func(var) = 200\n",
    "# print(var) = 100"
   ]
  },
  {
   "cell_type": "code",
   "execution_count": null,
   "id": "7d628d33",
   "metadata": {},
   "outputs": [],
   "source": [
    "# ex4)\n",
    "# 5번"
   ]
  },
  {
   "cell_type": "code",
   "execution_count": 85,
   "id": "c4a46169",
   "metadata": {},
   "outputs": [],
   "source": [
    "# ex5)\n",
    "# 9번"
   ]
  },
  {
   "cell_type": "code",
   "execution_count": 86,
   "id": "100aed11",
   "metadata": {},
   "outputs": [],
   "source": [
    "# ex6) # \n",
    "# 3번"
   ]
  },
  {
   "cell_type": "code",
   "execution_count": null,
   "id": "f17cbc82",
   "metadata": {},
   "outputs": [],
   "source": [
    "# ex7)\n",
    "# 4번"
   ]
  }
 ],
 "metadata": {
  "kernelspec": {
   "display_name": "Python 3 (ipykernel)",
   "language": "python",
   "name": "python3"
  },
  "language_info": {
   "codemirror_mode": {
    "name": "ipython",
    "version": 3
   },
   "file_extension": ".py",
   "mimetype": "text/x-python",
   "name": "python",
   "nbconvert_exporter": "python",
   "pygments_lexer": "ipython3",
   "version": "3.10.9"
  },
  "toc": {
   "base_numbering": 1,
   "nav_menu": {},
   "number_sections": false,
   "sideBar": true,
   "skip_h1_title": false,
   "title_cell": "Table of Contents",
   "title_sidebar": "Contents",
   "toc_cell": false,
   "toc_position": {
    "height": "calc(100% - 180px)",
    "left": "10px",
    "top": "150px",
    "width": "195.764px"
   },
   "toc_section_display": true,
   "toc_window_display": true
  }
 },
 "nbformat": 4,
 "nbformat_minor": 5
}
