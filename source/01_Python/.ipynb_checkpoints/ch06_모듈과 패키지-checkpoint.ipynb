{
 "cells": [
  {
   "cell_type": "code",
   "execution_count": 1,
   "id": "f61ae67f",
   "metadata": {},
   "outputs": [
    {
     "data": {
      "text/html": [
       "\n",
       "<style>\n",
       "div.container{width:90% !important;}\n",
       "div.cell.code_cell.rendered{width:100%;}\n",
       "div.input_prompt{padding:0px;}\n",
       "div.CodeMirror {font-family:Consolas; font-size:12pt;}\n",
       "div.text_cell_render.rendered_html{font-size:12pt;}\n",
       "div.output {font-size:12pt; font-weight:bold;}\n",
       "div.input {font-family:Consolas; font-size:12pt;}\n",
       "div.prompt {min-width:70px;}\n",
       "div#toc-wrapper{padding-top:120px;}\n",
       "div.text_cell_render ul li{font-size:12pt;padding:5px;}\n",
       "table.dataframe{font-size:12px;}\n",
       "</style>\n"
      ],
      "text/plain": [
       "<IPython.core.display.HTML object>"
      ]
     },
     "metadata": {},
     "output_type": "display_data"
    }
   ],
   "source": [
    "from IPython.display import display, HTML\n",
    "display(HTML(\"\"\"\n",
    "<style>\n",
    "div.container{width:90% !important;}\n",
    "div.cell.code_cell.rendered{width:100%;}\n",
    "div.input_prompt{padding:0px;}\n",
    "div.CodeMirror {font-family:Consolas; font-size:12pt;}\n",
    "div.text_cell_render.rendered_html{font-size:12pt;}\n",
    "div.output {font-size:12pt; font-weight:bold;}\n",
    "div.input {font-family:Consolas; font-size:12pt;}\n",
    "div.prompt {min-width:70px;}\n",
    "div#toc-wrapper{padding-top:120px;}\n",
    "div.text_cell_render ul li{font-size:12pt;padding:5px;}\n",
    "table.dataframe{font-size:12px;}\n",
    "</style>\n",
    "\"\"\"))\n"
   ]
  },
  {
   "cell_type": "markdown",
   "id": "65e8dcf1",
   "metadata": {},
   "source": [
    "<b><font size=\"6\" color=\"red\">ch06.모듈과 패키지</font></b>\n",
    "# 1절 파이썬 표준 모듈 사용\n",
    "- 모듈: 함수, 변수, 클래스 등을 담고 있는 파이썬 코드 파일 (*.py)\n",
    "- python.org: 파이썬 표준 모듈 200여개는 파이썬 인터프리터와 함께 install됨\n",
    "- miniconda는 python.org버전보다 조금 더 많은 모듈을 install\n",
    "- anaconda는 1500개 이상의 패키지 install(정확한 갯수는 버전마다 상이)"
   ]
  },
  {
   "cell_type": "code",
   "execution_count": 5,
   "id": "551acf5d",
   "metadata": {},
   "outputs": [
    {
     "data": {
      "text/plain": [
       "'Thu Sep 25 14:26:50 2025'"
      ]
     },
     "execution_count": 5,
     "metadata": {},
     "output_type": "execute_result"
    }
   ],
   "source": [
    "# 1. import 모듈명: 모듈안의 함수, 클래스, 벼ㄴ수를 모듈명.함수명().. 사용\n",
    "import time\n",
    "time.ctime()"
   ]
  },
  {
   "cell_type": "code",
   "execution_count": 6,
   "id": "4618b9f2",
   "metadata": {},
   "outputs": [],
   "source": [
    "starttime = time.time() # 1970.1.1 부터의 초수"
   ]
  },
  {
   "cell_type": "code",
   "execution_count": 7,
   "id": "f1e8c24b",
   "metadata": {},
   "outputs": [],
   "source": [
    "del time # time 모듈을 메모리에서 unload"
   ]
  },
  {
   "cell_type": "code",
   "execution_count": 8,
   "id": "641e54b8",
   "metadata": {},
   "outputs": [
    {
     "data": {
      "text/plain": [
       "'Thu Sep 25 14:50:13 2025'"
      ]
     },
     "execution_count": 8,
     "metadata": {},
     "output_type": "execute_result"
    }
   ],
   "source": [
    "# 2. from모듈 (A) import 함수|클래스|변수 {B} : A모듈안의 B만 로드\n",
    "# from 패키지(A) import 모듈(B): A패키지안에 B모듈을 로드\n",
    "# from 패키지(A).모듈명(B) import(C): A(패키지)안의. B모듈안의 C함수만 로드\n",
    "from time import ctime, time\n",
    "ctime()"
   ]
  },
  {
   "cell_type": "code",
   "execution_count": 9,
   "id": "f958b977",
   "metadata": {},
   "outputs": [
    {
     "data": {
      "text/plain": [
       "1758779424.1888855"
      ]
     },
     "execution_count": 9,
     "metadata": {},
     "output_type": "execute_result"
    }
   ],
   "source": [
    "time()"
   ]
  },
  {
   "cell_type": "code",
   "execution_count": 10,
   "id": "b7ebef02",
   "metadata": {},
   "outputs": [],
   "source": [
    "del ctime, time"
   ]
  },
  {
   "cell_type": "code",
   "execution_count": 11,
   "id": "8cdf821f",
   "metadata": {},
   "outputs": [
    {
     "name": "stdout",
     "output_type": "stream",
     "text": [
      "CPU times: total: 0 ns\n",
      "Wall time: 0 ns\n"
     ]
    }
   ],
   "source": [
    "time"
   ]
  },
  {
   "cell_type": "code",
   "execution_count": 12,
   "id": "53cf346f",
   "metadata": {},
   "outputs": [
    {
     "data": {
      "text/plain": [
       "'Thu Sep 25 14:53:32 2025'"
      ]
     },
     "execution_count": 12,
     "metadata": {},
     "output_type": "execute_result"
    }
   ],
   "source": [
    "#3. (3) import A as B   - A모듈을 B이름으로 메모리 로드\n",
    "import time as t\n",
    "t.ctime()"
   ]
  },
  {
   "cell_type": "code",
   "execution_count": 13,
   "id": "3713f0cf",
   "metadata": {},
   "outputs": [
    {
     "data": {
      "text/plain": [
       "1758779617.841435"
      ]
     },
     "execution_count": 13,
     "metadata": {},
     "output_type": "execute_result"
    }
   ],
   "source": [
    "t.time()"
   ]
  },
  {
   "cell_type": "code",
   "execution_count": 14,
   "id": "2b6d58ee",
   "metadata": {},
   "outputs": [],
   "source": [
    "del t"
   ]
  },
  {
   "cell_type": "code",
   "execution_count": 20,
   "id": "45bcce78",
   "metadata": {},
   "outputs": [
    {
     "data": {
      "text/plain": [
       "'Thu Sep 25 15:00:21 2025'"
      ]
     },
     "execution_count": 20,
     "metadata": {},
     "output_type": "execute_result"
    }
   ],
   "source": [
    "# 4. from 모듈 import 함수명 as 별칭\n",
    "#   from 패키지명 import 모듈명 as 별칭\n",
    "# from 패키지명. 모듈명 import 함수명 as 별칭\n",
    "\n",
    "from time import ctime as ct, time as ti\n",
    "ct()"
   ]
  },
  {
   "cell_type": "code",
   "execution_count": 21,
   "id": "e4499145",
   "metadata": {},
   "outputs": [],
   "source": [
    "import time"
   ]
  },
  {
   "cell_type": "code",
   "execution_count": 22,
   "id": "d59425c5",
   "metadata": {},
   "outputs": [
    {
     "name": "stdout",
     "output_type": "stream",
     "text": [
      "['_STRUCT_TM_ITEMS', '__doc__', '__loader__', '__name__', '__package__', '__spec__', 'altzone', 'asctime', 'ctime', 'daylight', 'get_clock_info', 'gmtime', 'localtime', 'mktime', 'monotonic', 'monotonic_ns', 'perf_counter', 'perf_counter_ns', 'process_time', 'process_time_ns', 'sleep', 'strftime', 'strptime', 'struct_time', 'thread_time', 'thread_time_ns', 'time', 'time_ns', 'timezone', 'tzname']\n"
     ]
    }
   ],
   "source": [
    "print(dir(time)) # time 내의 함수, 변수, 클래스 ㅡ등이 list로 출력"
   ]
  },
  {
   "cell_type": "markdown",
   "id": "7fddbf8e",
   "metadata": {},
   "source": [
    "# 2절 사용자 정의 모듈 \n",
    "- 함수 나 클래스 등을 파이썬 파일에 저장해서 모듈을 만들고 재사용할 수 있음\n",
    "- 모듈을 가져오는 순서 (1) 표준모듈 (2) sys.path 변수에 저장된 경로"
   ]
  },
  {
   "cell_type": "code",
   "execution_count": 33,
   "id": "5069eb3c",
   "metadata": {},
   "outputs": [
    {
     "name": "stdout",
     "output_type": "stream",
     "text": [
      "['C:\\\\aii\\\\source\\\\01_Python', 'C:\\\\Users\\\\Admin\\\\anaconda3\\\\python310.zip', 'C:\\\\Users\\\\Admin\\\\anaconda3\\\\DLLs', 'C:\\\\Users\\\\Admin\\\\anaconda3\\\\lib', 'C:\\\\Users\\\\Admin\\\\anaconda3', '', 'C:\\\\Users\\\\Admin\\\\anaconda3\\\\lib\\\\site-packages', 'C:\\\\Users\\\\Admin\\\\anaconda3\\\\lib\\\\site-packages\\\\win32', 'C:\\\\Users\\\\Admin\\\\anaconda3\\\\lib\\\\site-packages\\\\win32\\\\lib', 'C:\\\\Users\\\\Admin\\\\anaconda3\\\\lib\\\\site-packages\\\\Pythonwin', 'C:\\x07ii\\\\source\\\\pylib', 'C:\\x07ii\\\\source\\\\pylib', 'C:\\\\aii\\\\source\\\\pylib']\n"
     ]
    }
   ],
   "source": [
    "import sys\n",
    "# sys.path.pop('C:\\aii\\source\\pylib') # 맨 끝 index 데이터 제거\n",
    "# sys.path.append(r'C:\\aii\\source\\pylib')\n",
    "print(sys.path)"
   ]
  },
  {
   "cell_type": "code",
   "execution_count": 34,
   "id": "027a01ec",
   "metadata": {},
   "outputs": [],
   "source": [
    "#1. 방법 import 모듈명\n",
    "import fibonacci "
   ]
  },
  {
   "cell_type": "code",
   "execution_count": 35,
   "id": "e7f2e3cf",
   "metadata": {},
   "outputs": [
    {
     "data": {
      "text/plain": [
       "[0, 1, 1, 2, 3, 5, 8]"
      ]
     },
     "execution_count": 35,
     "metadata": {},
     "output_type": "execute_result"
    }
   ],
   "source": [
    "fibonacci.fibonacci(10)"
   ]
  },
  {
   "cell_type": "code",
   "execution_count": 36,
   "id": "b0618ed9",
   "metadata": {},
   "outputs": [
    {
     "name": "stdout",
     "output_type": "stream",
     "text": [
      "0 1 1 2 3 5 8 \n"
     ]
    }
   ],
   "source": [
    "fibonacci.fibonacci_print(11)"
   ]
  },
  {
   "cell_type": "code",
   "execution_count": 37,
   "id": "258c8140",
   "metadata": {},
   "outputs": [],
   "source": [
    "# 2. from 모듈명 import 함수명\n",
    "from fibonacci import fibonacci_print, fibonacci"
   ]
  },
  {
   "cell_type": "code",
   "execution_count": 38,
   "id": "b07fd7e8",
   "metadata": {},
   "outputs": [
    {
     "name": "stdout",
     "output_type": "stream",
     "text": [
      "0 1 1 2 3 5 8 \n"
     ]
    }
   ],
   "source": [
    "fibonacci_print(10)"
   ]
  },
  {
   "cell_type": "code",
   "execution_count": 39,
   "id": "569c4f26",
   "metadata": {},
   "outputs": [
    {
     "data": {
      "text/plain": [
       "[0, 1, 1, 2, 3, 5, 8, 13, 21, 34, 55, 89]"
      ]
     },
     "execution_count": 39,
     "metadata": {},
     "output_type": "execute_result"
    }
   ],
   "source": [
    "fibonacci(100)"
   ]
  },
  {
   "cell_type": "code",
   "execution_count": 41,
   "id": "1d9f9075",
   "metadata": {},
   "outputs": [
    {
     "name": "stdout",
     "output_type": "stream",
     "text": [
      "0 1 1 2 3 5 8 \n"
     ]
    }
   ],
   "source": [
    "# 3. import 모듈명 as 별칭\n",
    "import fibonacci as fi\n",
    "fi.fibonacci_print(10)"
   ]
  },
  {
   "cell_type": "code",
   "execution_count": 45,
   "id": "8de6c28e",
   "metadata": {},
   "outputs": [
    {
     "data": {
      "text/plain": [
       "[0, 1, 1, 2, 3, 5, 8]"
      ]
     },
     "execution_count": 45,
     "metadata": {},
     "output_type": "execute_result"
    }
   ],
   "source": [
    "#4. from 모듈명 import 함수명 as 별칭\n",
    "from fibonacci import fibonacci as fibo, fibonacci_print as fibo_p\n",
    "fibo(10)"
   ]
  },
  {
   "cell_type": "code",
   "execution_count": 46,
   "id": "af6b8785",
   "metadata": {},
   "outputs": [
    {
     "name": "stdout",
     "output_type": "stream",
     "text": [
      "0 1 1 2 3 5 8 13 21 34 55 89 144 233 377 610 987 \n"
     ]
    }
   ],
   "source": [
    "fibo_p(1000)"
   ]
  },
  {
   "cell_type": "markdown",
   "id": "92ef2046",
   "metadata": {},
   "source": [
    "# 3절 패키지\n",
    "- 모듈이 들어있는 폴더 (`__init__.py`)"
   ]
  },
  {
   "cell_type": "code",
   "execution_count": 13,
   "id": "e0cef566",
   "metadata": {},
   "outputs": [],
   "source": [
    "# \n",
    "import sys\n",
    "sys.path.append(r\"C:\\aii\\source\\pylib\")"
   ]
  },
  {
   "cell_type": "code",
   "execution_count": 14,
   "id": "534a4fdd",
   "metadata": {},
   "outputs": [],
   "source": [
    "# 상위 패키지 import한다고 하위패키지가 import되지 않습니다. \n",
    "import sample_pac"
   ]
  },
  {
   "cell_type": "code",
   "execution_count": 15,
   "id": "b23fe19f",
   "metadata": {},
   "outputs": [
    {
     "ename": "AttributeError",
     "evalue": "module 'sample_pac' has no attribute 'test'",
     "output_type": "error",
     "traceback": [
      "\u001b[1;31m---------------------------------------------------------------------------\u001b[0m",
      "\u001b[1;31mAttributeError\u001b[0m                            Traceback (most recent call last)",
      "Cell \u001b[1;32mIn[15], line 1\u001b[0m\n\u001b[1;32m----> 1\u001b[0m \u001b[43msample_pac\u001b[49m\u001b[38;5;241;43m.\u001b[39;49m\u001b[43mtest\u001b[49m()\n",
      "\u001b[1;31mAttributeError\u001b[0m: module 'sample_pac' has no attribute 'test'"
     ]
    }
   ],
   "source": [
    "sample_pac.test()"
   ]
  },
  {
   "cell_type": "code",
   "execution_count": 16,
   "id": "572ba4f8",
   "metadata": {},
   "outputs": [
    {
     "name": "stdout",
     "output_type": "stream",
     "text": [
      "sample_pac.ab 패키지로드 \n"
     ]
    }
   ],
   "source": [
    "import sample_pac.ab # ab/__init__/.py"
   ]
  },
  {
   "cell_type": "code",
   "execution_count": 17,
   "id": "d6fe53b3",
   "metadata": {},
   "outputs": [
    {
     "name": "stdout",
     "output_type": "stream",
     "text": [
      "sample_pac.ab.a모듈의 hello\n"
     ]
    }
   ],
   "source": [
    "from sample_pac.ab import * #__init__.py의 __all__ 속성만 로드\n",
    "a.hello()"
   ]
  },
  {
   "cell_type": "code",
   "execution_count": 21,
   "id": "2376f3a2",
   "metadata": {},
   "outputs": [
    {
     "name": "stdout",
     "output_type": "stream",
     "text": [
      "sample_pac/cd안에 c모듈안에 nice\n",
      "sample_pac.ab.a모듈의 hello\n"
     ]
    }
   ],
   "source": [
    "from sample_pac.cd import c\n",
    "c.nice()"
   ]
  },
  {
   "cell_type": "code",
   "execution_count": 22,
   "id": "8a5cca38",
   "metadata": {},
   "outputs": [
    {
     "name": "stdout",
     "output_type": "stream",
     "text": [
      "sample_pac.ab.a모듈의 hello\n"
     ]
    }
   ],
   "source": [
    "c.a.hello()"
   ]
  },
  {
   "cell_type": "code",
   "execution_count": null,
   "id": "d956b98f",
   "metadata": {},
   "outputs": [],
   "source": []
  }
 ],
 "metadata": {
  "kernelspec": {
   "display_name": "Python 3 (ipykernel)",
   "language": "python",
   "name": "python3"
  },
  "language_info": {
   "codemirror_mode": {
    "name": "ipython",
    "version": 3
   },
   "file_extension": ".py",
   "mimetype": "text/x-python",
   "name": "python",
   "nbconvert_exporter": "python",
   "pygments_lexer": "ipython3",
   "version": "3.10.9"
  },
  "toc": {
   "base_numbering": 1,
   "nav_menu": {},
   "number_sections": false,
   "sideBar": true,
   "skip_h1_title": false,
   "title_cell": "Table of Contents",
   "title_sidebar": "Contents",
   "toc_cell": false,
   "toc_position": {
    "height": "calc(100% - 180px)",
    "left": "10px",
    "top": "150px",
    "width": "197.431px"
   },
   "toc_section_display": true,
   "toc_window_display": true
  }
 },
 "nbformat": 4,
 "nbformat_minor": 5
}
