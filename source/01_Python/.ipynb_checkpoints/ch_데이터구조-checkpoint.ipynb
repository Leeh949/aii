{
 "cells": [
  {
   "cell_type": "code",
   "execution_count": 120,
   "id": "07cf147e",
   "metadata": {},
   "outputs": [
    {
     "data": {
      "text/html": [
       "\n",
       "<style>\n",
       "div.container{width:90% !important;}\n",
       "div.cell.code_cell.rendered{width:100%;}\n",
       "div.input_prompt{padding:0px;}\n",
       "div.CodeMirror {font-family:Consolas; font-size:12pt;}\n",
       "div.text_cell_render.rendered_html{font-size:12pt;}\n",
       "div.output {font-size:12pt; font-weight:bold;}\n",
       "div.input {font-family:Consolas; font-size:12pt;}\n",
       "div.prompt {min-width:70px;}\n",
       "div#toc-wrapper{padding-top:120px;}\n",
       "div.text_cell_render ul li{font-size:12pt;padding:5px;}\n",
       "table.dataframe{font-size:12px;}\n",
       "</style>\n"
      ],
      "text/plain": [
       "<IPython.core.display.HTML object>"
      ]
     },
     "metadata": {},
     "output_type": "display_data"
    }
   ],
   "source": [
    "from IPython.display import display, HTML\n",
    "display(HTML(\"\"\"\n",
    "<style>\n",
    "div.container{width:90% !important;}\n",
    "div.cell.code_cell.rendered{width:100%;}\n",
    "div.input_prompt{padding:0px;}\n",
    "div.CodeMirror {font-family:Consolas; font-size:12pt;}\n",
    "div.text_cell_render.rendered_html{font-size:12pt;}\n",
    "div.output {font-size:12pt; font-weight:bold;}\n",
    "div.input {font-family:Consolas; font-size:12pt;}\n",
    "div.prompt {min-width:70px;}\n",
    "div#toc-wrapper{padding-top:120px;}\n",
    "div.text_cell_render ul li{font-size:12pt;padding:5px;}\n",
    "table.dataframe{font-size:12px;}\n",
    "</style>\n",
    "\"\"\"))\n"
   ]
  },
  {
   "cell_type": "markdown",
   "id": "939b4ffa",
   "metadata": {},
   "source": [
    "<b><font size= \"6\" color=\"red\">ch03.데이터구조</font></b>\n",
    "\n",
    "- 리스트[80,90], 튜플(90,20), 딕셔너리{\"name\",\"홍\",\"score\":99}, 셋{10,20} \n",
    "# 1절 리스트\n",
    "## 1.1 리스트 만들기\n",
    "- []를 이용해서 만들며, 여러개 값(여러 타입)을 하나의 변수에 저장/ 관리할 수 있음\n",
    "- list()함수 이용도 가능 \n",
    "- 인덱스: 각 요소의 위치. 인덱스는 0부터 시작. 맨마지막 인덱스는 -1\n",
    "- 슬라이싱([from:to:step]) : 부분 데이터셋 추출\n",
    "- 인덱스와 슬라이싱을 이용해서 쓰기와 읽기 지원\n"
   ]
  },
  {
   "cell_type": "code",
   "execution_count": 14,
   "id": "57e05bde",
   "metadata": {},
   "outputs": [
    {
     "data": {
      "text/plain": [
       "list"
      ]
     },
     "execution_count": 14,
     "metadata": {},
     "output_type": "execute_result"
    }
   ],
   "source": [
    "fruit = 'banana'\n",
    "fruits = ['banana', 'apple','orange','grape']\n",
    " \n",
    "type(fruits)"
   ]
  },
  {
   "cell_type": "code",
   "execution_count": 15,
   "id": "7679f22b",
   "metadata": {},
   "outputs": [
    {
     "name": "stdout",
     "output_type": "stream",
     "text": [
      "['banana', 'apple', 'orange', 'grape']\n",
      "apple\n"
     ]
    },
    {
     "ename": "IndexError",
     "evalue": "list index out of range",
     "output_type": "error",
     "traceback": [
      "\u001b[1;31m---------------------------------------------------------------------------\u001b[0m",
      "\u001b[1;31mIndexError\u001b[0m                                Traceback (most recent call last)",
      "Cell \u001b[1;32mIn[15], line 3\u001b[0m\n\u001b[0;32m      1\u001b[0m \u001b[38;5;28mprint\u001b[39m(fruits)\n\u001b[0;32m      2\u001b[0m \u001b[38;5;28mprint\u001b[39m (fruits[\u001b[38;5;241m1\u001b[39m]) \u001b[38;5;66;03m#인덱싱을 이용한 읽기 \u001b[39;00m\n\u001b[1;32m----> 3\u001b[0m \u001b[38;5;28mprint\u001b[39m(\u001b[43mfruits\u001b[49m\u001b[43m[\u001b[49m\u001b[38;5;241;43m4\u001b[39;49m\u001b[43m]\u001b[49m)\n",
      "\u001b[1;31mIndexError\u001b[0m: list index out of range"
     ]
    }
   ],
   "source": [
    "print(fruits)\n",
    "print (fruits[1]) #인덱싱을 이용한 읽기 \n",
    "print(fruits[4]) # 없는 인덱싱시 에러"
   ]
  },
  {
   "cell_type": "code",
   "execution_count": 16,
   "id": "8fc03246",
   "metadata": {},
   "outputs": [
    {
     "name": "stdout",
     "output_type": "stream",
     "text": [
      "['mango', 'apple', 'orange', 'grape']\n"
     ]
    }
   ],
   "source": [
    "fruits[0] = 'mango' # 인덱싱을 이용한 쓰기\n",
    "print(fruits)\n"
   ]
  },
  {
   "cell_type": "code",
   "execution_count": 10,
   "id": "ce07e790",
   "metadata": {},
   "outputs": [
    {
     "name": "stdout",
     "output_type": "stream",
     "text": [
      "x= mango\n",
      "y= apple\n",
      "z= orange\n"
     ]
    }
   ],
   "source": [
    "fruits = [\"mango\",\"apple\",\"orange\"]\n",
    "x,y,z = [\"mango\",\"apple\",\"orange\"]\n",
    "\n",
    "print(f\"x= {x}\")\n",
    "print(f\"y= {y}\")\n",
    "print(f\"z= {z}\")"
   ]
  },
  {
   "cell_type": "code",
   "execution_count": 11,
   "id": "d065cf89",
   "metadata": {},
   "outputs": [
    {
     "data": {
      "text/plain": [
       "range(0, 10)"
      ]
     },
     "execution_count": 11,
     "metadata": {},
     "output_type": "execute_result"
    }
   ],
   "source": [
    "# range(from, to, by): from부터 to앞까지 by씩 증가하는 나열 가능한 자료\n",
    "    # 숫자를 순차적으로 사용할 수 있게\n",
    "    # from 생략시 0, by생략시 1\n",
    "range(0,10) # [0,1,2,3,4,5,6,7,8,9]"
   ]
  },
  {
   "cell_type": "code",
   "execution_count": 12,
   "id": "6541d37e",
   "metadata": {},
   "outputs": [
    {
     "data": {
      "text/plain": [
       "[0, 1, 2, 3, 4, 5, 6, 7, 8, 9]"
      ]
     },
     "execution_count": 12,
     "metadata": {},
     "output_type": "execute_result"
    }
   ],
   "source": [
    "list(range(10))"
   ]
  },
  {
   "cell_type": "code",
   "execution_count": 15,
   "id": "a60a0e4b",
   "metadata": {},
   "outputs": [
    {
     "data": {
      "text/plain": [
       "[10, 9, 8, 7, 6, 5, 4, 3, 2, 1, 0]"
      ]
     },
     "execution_count": 15,
     "metadata": {},
     "output_type": "execute_result"
    }
   ],
   "source": [
    "list(range(10,-1,-1))"
   ]
  },
  {
   "cell_type": "code",
   "execution_count": 28,
   "id": "94d0fd50",
   "metadata": {},
   "outputs": [
    {
     "name": "stdout",
     "output_type": "stream",
     "text": [
      "1\n",
      "1\n",
      "1\n",
      "1\n"
     ]
    }
   ],
   "source": [
    "for i in range(4):\n",
    "    print(\"1\")"
   ]
  },
  {
   "cell_type": "code",
   "execution_count": 4,
   "id": "6728b55b",
   "metadata": {},
   "outputs": [
    {
     "name": "stdout",
     "output_type": "stream",
     "text": [
      "0번째 과일은mango\n",
      "1번째 과일은apple\n",
      "2번째 과일은orange\n"
     ]
    }
   ],
   "source": [
    "fruits = [\"mango\",\"apple\",\"orange\"]\n",
    "#print(\"{}번째 과일은 {}\".format(0,fruits[0]))\n",
    "#print(\"{}번째 과일은 {}\".format(1,fruits[1]))\n",
    "#print(\"{}번째 과일은 {}\".format(2,fruits[2]))\n",
    "\n",
    "for idx in range(len(fruits)):\n",
    "    print(\"{}번째 과일은{}\".format(idx, fruits[idx]))\n"
   ]
  },
  {
   "cell_type": "code",
   "execution_count": 17,
   "id": "3036fd4e",
   "metadata": {},
   "outputs": [
    {
     "data": {
      "text/plain": [
       "[(0, 'mango'), (1, 'apple'), (2, 'orange'), (3, 'grape')]"
      ]
     },
     "execution_count": 17,
     "metadata": {},
     "output_type": "execute_result"
    }
   ],
   "source": [
    "list (enumerate(fruits))"
   ]
  },
  {
   "cell_type": "code",
   "execution_count": 18,
   "id": "136e2ee3",
   "metadata": {},
   "outputs": [
    {
     "name": "stdout",
     "output_type": "stream",
     "text": [
      "0번째 과일은 mango\n",
      "1번째 과일은 apple\n",
      "2번째 과일은 orange\n",
      "3번째 과일은 grape\n"
     ]
    }
   ],
   "source": [
    "for i, fruit in enumerate(fruits): #[(0, 'mango'), (1, 'apple'), (2, 'orange')]:\n",
    "    print(f\"{i}번째 과일은 {fruit}\")"
   ]
  },
  {
   "cell_type": "code",
   "execution_count": 20,
   "id": "d0e494c8",
   "metadata": {},
   "outputs": [
    {
     "name": "stdout",
     "output_type": "stream",
     "text": [
      "mango입니다\n",
      "apple입니다\n",
      "orange입니다\n",
      "grape입니다\n"
     ]
    }
   ],
   "source": [
    "for fruit in fruits:\n",
    "    print(f\"{fruit}입니다\")"
   ]
  },
  {
   "cell_type": "code",
   "execution_count": 26,
   "id": "71865bb0",
   "metadata": {},
   "outputs": [
    {
     "data": {
      "text/plain": [
       "('2', 5)"
      ]
     },
     "execution_count": 26,
     "metadata": {},
     "output_type": "execute_result"
    }
   ],
   "source": [
    "#리스트는 여러타입의 데이터를 담을 수 있음\n",
    "numbers = [0, True, \"2\",[2,3],[4,5,6]] #세세한 정보를 출력하려면 4번째에서 출력하려는 것을 []로 추출한다\n",
    "numbers[2], numbers[4][1]"
   ]
  },
  {
   "cell_type": "code",
   "execution_count": 32,
   "id": "d7cd9492",
   "metadata": {},
   "outputs": [
    {
     "name": "stdout",
     "output_type": "stream",
     "text": [
      "[[1, 2, 3, 4, 5], [10, 20, 30, 40, 50], [1, 3, 5, 7, 9], [2, 4, 6, 8, 10]]\n"
     ]
    }
   ],
   "source": [
    "#2차원 리스트 \n",
    "numbers = [1,2,3,4,5]\n",
    "numbers_2d = [[1,2,3,4,5],[10,20,30,40,50],[1,3,5,7,9],[2,4,6,8,10]]\n",
    "print(numbers_2d)"
   ]
  },
  {
   "cell_type": "code",
   "execution_count": 33,
   "id": "84cf906b",
   "metadata": {},
   "outputs": [
    {
     "data": {
      "text/plain": [
       "50"
      ]
     },
     "execution_count": 33,
     "metadata": {},
     "output_type": "execute_result"
    }
   ],
   "source": [
    "# 특정행, 특정열 데이터 인덱싱\n",
    "numbers_2d[1][4]"
   ]
  },
  {
   "cell_type": "code",
   "execution_count": 34,
   "id": "fd3ea03f",
   "metadata": {},
   "outputs": [
    {
     "name": "stdout",
     "output_type": "stream",
     "text": [
      "4 5\n"
     ]
    }
   ],
   "source": [
    "print(len(numbers_2d),len(numbers_2d[0]))"
   ]
  },
  {
   "cell_type": "code",
   "execution_count": 43,
   "id": "ac713444",
   "metadata": {},
   "outputs": [
    {
     "name": "stdout",
     "output_type": "stream",
     "text": [
      "1\t2\t3\t4\t5\t\n",
      "10\t20\t30\t40\t50\t\n",
      "1\t3\t5\t7\t9\t\n",
      "2\t4\t6\t8\t10\t\n"
     ]
    }
   ],
   "source": [
    "for row in numbers_2d:\n",
    "    for item in row:\n",
    "        print(item, end='\\t')\n",
    "    print()"
   ]
  },
  {
   "cell_type": "code",
   "execution_count": 49,
   "id": "a54a1915",
   "metadata": {},
   "outputs": [
    {
     "name": "stdout",
     "output_type": "stream",
     "text": [
      "0행0열:1\t0행1열:2\t0행2열:3\t0행3열:4\t0행4열:5\t\n",
      "1행0열:10\t1행1열:20\t1행2열:30\t1행3열:40\t1행4열:50\t\n",
      "2행0열:1\t2행1열:3\t2행2열:5\t2행3열:7\t2행4열:9\t\n",
      "3행0열:2\t3행1열:4\t3행2열:6\t3행3열:8\t3행4열:10\t\n"
     ]
    }
   ],
   "source": [
    "for i in range(len(numbers_2d)): #i : 행 #\n",
    "    for j in range(len(numbers_2d[i])): # j:열\n",
    "        print(f\"{i}행{j}열:{numbers_2d[i][j]}\",end=\"\\t\")\n",
    "    print()\n",
    "    \n",
    "#"
   ]
  },
  {
   "cell_type": "code",
   "execution_count": 50,
   "id": "ea740e77",
   "metadata": {},
   "outputs": [
    {
     "data": {
      "text/plain": [
       "(4, 5, 5, 5)"
      ]
     },
     "execution_count": 50,
     "metadata": {},
     "output_type": "execute_result"
    }
   ],
   "source": [
    "len(numbers_2d),len(numbers_2d[0]),len(numbers_2d[1]),len(numbers_2d[2])"
   ]
  },
  {
   "cell_type": "code",
   "execution_count": 55,
   "id": "94f09adf",
   "metadata": {},
   "outputs": [
    {
     "data": {
      "text/plain": [
       "([(0, [1, 2, 3, 4, 5]),\n",
       "  (1, [10, 20, 30, 40, 50]),\n",
       "  (2, [1, 3, 5, 7, 9]),\n",
       "  (3, [2, 4, 6, 8, 10])],\n",
       " [(0, 1), (1, 2), (2, 3), (3, 4), (4, 5)])"
      ]
     },
     "execution_count": 55,
     "metadata": {},
     "output_type": "execute_result"
    }
   ],
   "source": [
    "list (enumerate(numbers_2d)), list (enumerate(numbers_2d[0]))"
   ]
  },
  {
   "cell_type": "code",
   "execution_count": 59,
   "id": "4fcdfbfd",
   "metadata": {},
   "outputs": [
    {
     "name": "stdout",
     "output_type": "stream",
     "text": [
      "0행,0열:1\t0행,1열:2\t0행,2열:3\t0행,3열:4\t0행,4열:5\t\n",
      "1행,0열:10\t1행,1열:20\t1행,2열:30\t1행,3열:40\t1행,4열:50\t\n",
      "2행,0열:1\t2행,1열:3\t2행,2열:5\t2행,3열:7\t2행,4열:9\t\n",
      "3행,0열:2\t3행,1열:4\t3행,2열:6\t3행,3열:8\t3행,4열:10\t\n"
     ]
    }
   ],
   "source": [
    "for i, row in enumerate(numbers_2d):\n",
    "    for j, item in enumerate(numbers_2d[i]):\n",
    "        print(f\"{i}행,{j}열:{numbers_2d[i][j]}\", end=\"\\t\")\n",
    "    print()"
   ]
  },
  {
   "cell_type": "markdown",
   "id": "a7148496",
   "metadata": {},
   "source": [
    "## 1.2 기본 정보 조회\n"
   ]
  },
  {
   "cell_type": "code",
   "execution_count": 67,
   "id": "bbf0466c",
   "metadata": {},
   "outputs": [],
   "source": [
    "numbers = [1,12,3,4,5]\n",
    "numbers_2d = [[100,0,1],\n",
    "             [9,100,100],\n",
    "             [59,100,130]]"
   ]
  },
  {
   "cell_type": "code",
   "execution_count": 64,
   "id": "94c72d18",
   "metadata": {},
   "outputs": [
    {
     "data": {
      "text/plain": [
       "(5, 3)"
      ]
     },
     "execution_count": 64,
     "metadata": {},
     "output_type": "execute_result"
    }
   ],
   "source": [
    "# item 수\n",
    "len(numbers), len(numbers_2d)"
   ]
  },
  {
   "cell_type": "code",
   "execution_count": 69,
   "id": "cdb515dd",
   "metadata": {},
   "outputs": [
    {
     "data": {
      "text/plain": [
       "(1, [9, 100, 100], 12, [100, 0, 1])"
      ]
     },
     "execution_count": 69,
     "metadata": {},
     "output_type": "execute_result"
    }
   ],
   "source": [
    "# 최소값, 최대값\n",
    "# 2차원 list의 최소/최대값 : 부분리스트 중 첫요사가 가장 작은값/ 큰값\n",
    "min(numbers), min(numbers_2d), max(numbers),max(numbers_2d)\n"
   ]
  },
  {
   "cell_type": "code",
   "execution_count": 70,
   "id": "62c9d0b5",
   "metadata": {},
   "outputs": [
    {
     "data": {
      "text/plain": [
       "('apple', 'orange')"
      ]
     },
     "execution_count": 70,
     "metadata": {},
     "output_type": "execute_result"
    }
   ],
   "source": [
    "# list의 데이터가 문자일 경우 ascII 코드값으로 min과 max적용\n",
    "fruit = [\"mango\",\"apple\",\"orange\"]\n",
    "min(fruits),max(fruits)"
   ]
  },
  {
   "cell_type": "code",
   "execution_count": 78,
   "id": "744f70e2",
   "metadata": {},
   "outputs": [
    {
     "name": "stdout",
     "output_type": "stream",
     "text": [
      "오름차순 정렬: [1, 3, 4, 5, 12]\n",
      "내림차순 정렬: [12, 5, 4, 3, 1]\n",
      "평균:  5.0\n",
      "합:  25\n",
      "sorted 함수 사용시 리스트의 내용이 바뀌지 않음:  [1, 12, 3, 4, 5]\n"
     ]
    }
   ],
   "source": [
    "# 정렬하기\n",
    "numbers = [1,12,3,4,5]\n",
    "print(\"오름차순 정렬:\", sorted(numbers))\n",
    "print(\"내림차순 정렬:\",sorted(numbers,reverse=True))\n",
    "print(\"평균: \",sum(numbers)/len(numbers) )\n",
    "print(\"합: \",sum(numbers))\n",
    "\n",
    "print(\"sorted 함수 사용시 리스트의 내용이 바뀌지 않음: \",numbers)"
   ]
  },
  {
   "cell_type": "markdown",
   "id": "390b11ba",
   "metadata": {},
   "source": [
    "## 1.3 요소 추가\n",
    "```\n",
    "- +: 두 리스트 연결\n",
    "- *: 리스를 곱한 수만큼 반복\n",
    "```\n",
    "- append() : 요소 맨 뒤에 추가\n",
    "- extend(list): 리스트를 요소별로 맨 뒤에 추가 \n",
    "- insert(idx, 값) : idx번째 인덱스 위치의 값 추가"
   ]
  },
  {
   "cell_type": "code",
   "execution_count": 80,
   "id": "9c982a6a",
   "metadata": {},
   "outputs": [
    {
     "data": {
      "text/plain": [
       "[1, 2, 3, 1, 2, 3]"
      ]
     },
     "execution_count": 80,
     "metadata": {},
     "output_type": "execute_result"
    }
   ],
   "source": [
    "numbers = [1, 2, 3]\n",
    "numbers = numbers + numbers\n",
    "numbers"
   ]
  },
  {
   "cell_type": "code",
   "execution_count": 81,
   "id": "ec66fb40",
   "metadata": {},
   "outputs": [
    {
     "name": "stdout",
     "output_type": "stream",
     "text": [
      "[1, 2, 3, 1, 2, 3, 1, 2, 3]\n",
      "[1, 2, 3, 1, 2, 3, 1, 2, 3]\n"
     ]
    }
   ],
   "source": [
    "numbers = [1, 2, 3]\n",
    "print(numbers*3) # 곱한 수만큼 반복\n",
    "print(3 * numbers)"
   ]
  },
  {
   "cell_type": "code",
   "execution_count": 83,
   "id": "25ce90da",
   "metadata": {},
   "outputs": [
    {
     "data": {
      "text/plain": [
       "[1, 2, 3, 4, 4]"
      ]
     },
     "execution_count": 83,
     "metadata": {},
     "output_type": "execute_result"
    }
   ],
   "source": [
    "numbers.append(4) # 맨 뒤 인덱스에 4를 추가\n",
    "numbers\n"
   ]
  },
  {
   "cell_type": "code",
   "execution_count": 84,
   "id": "cdc5833c",
   "metadata": {},
   "outputs": [
    {
     "data": {
      "text/plain": [
       "[1, 2, 3, 4, 4, [5, 6, 7]]"
      ]
     },
     "execution_count": 84,
     "metadata": {},
     "output_type": "execute_result"
    }
   ],
   "source": [
    "numbers.append([5,6,7])  # 맨 뒤 요소에 [5,6,7] 추가\n",
    "numbers"
   ]
  },
  {
   "cell_type": "code",
   "execution_count": 86,
   "id": "5a88c186",
   "metadata": {},
   "outputs": [
    {
     "data": {
      "text/plain": [
       "[1, 2, 3, 4, 5, 6]"
      ]
     },
     "execution_count": 86,
     "metadata": {},
     "output_type": "execute_result"
    }
   ],
   "source": [
    "numbers = [1,2,3]\n",
    "numbers.extend([4,5,6]) # 맨 뒤에 요소별로 4,5,6 각각 추가\n",
    "numbers"
   ]
  },
  {
   "cell_type": "code",
   "execution_count": 87,
   "id": "fe19ce93",
   "metadata": {},
   "outputs": [
    {
     "data": {
      "text/plain": [
       "['a', 'b', 'c', 'd']"
      ]
     },
     "execution_count": 87,
     "metadata": {},
     "output_type": "execute_result"
    }
   ],
   "source": [
    "lst = [ 'a','b','c']\n",
    "lst.append('d')\n",
    "lst"
   ]
  },
  {
   "cell_type": "code",
   "execution_count": 89,
   "id": "e17e7981",
   "metadata": {},
   "outputs": [
    {
     "data": {
      "text/plain": [
       "['a', 'b', 'c', 'd', 'h', 'e', 'l', 'l', 'o']"
      ]
     },
     "execution_count": 89,
     "metadata": {},
     "output_type": "execute_result"
    }
   ],
   "source": [
    "lst.extend('hello')\n",
    "lst"
   ]
  },
  {
   "cell_type": "code",
   "execution_count": 95,
   "id": "851cc3f4",
   "metadata": {},
   "outputs": [
    {
     "data": {
      "text/plain": [
       "[1, ['xx'], 2, 3, 4, 5]"
      ]
     },
     "execution_count": 95,
     "metadata": {},
     "output_type": "execute_result"
    }
   ],
   "source": [
    "numbers = [1,2,3,4,5]\n",
    "numbers.insert(1,[\"xx\"]) #1번째 인덱스에 'xx' 추가\n",
    "numbers\n"
   ]
  },
  {
   "cell_type": "markdown",
   "id": "2c7ce77e",
   "metadata": {},
   "source": [
    "## 1.4 인덱싱과 요소 갯수\n",
    "- 변수[index] : 인덱스를 이용한 접근\n",
    "- index(찾을데이터): 해당 찾을데이터가 있는 요소의 index를 반환\n",
    "- 찾을데이터 in 변수: 찾을데이터가 list변수의 요소인지 여부\n",
    "- count(찾을데이터): 리스트에서 해당 찾을 데이터의 갯수 반환\n",
    "\n"
   ]
  },
  {
   "cell_type": "code",
   "execution_count": 1,
   "id": "380a21a7",
   "metadata": {},
   "outputs": [
    {
     "data": {
      "text/plain": [
       "(2, 1)"
      ]
     },
     "execution_count": 1,
     "metadata": {},
     "output_type": "execute_result"
    }
   ],
   "source": [
    "numbers = [ 1,2,3,[1,2,3,],1,2,3]\n",
    "numbers.count(2), numbers.count([1,2,3])"
   ]
  },
  {
   "cell_type": "code",
   "execution_count": 101,
   "id": "8d3207dc",
   "metadata": {},
   "outputs": [
    {
     "data": {
      "text/plain": [
       "0"
      ]
     },
     "execution_count": 101,
     "metadata": {},
     "output_type": "execute_result"
    }
   ],
   "source": [
    "numbers.count(5)"
   ]
  },
  {
   "cell_type": "code",
   "execution_count": 104,
   "id": "7c8c0c59",
   "metadata": {},
   "outputs": [
    {
     "name": "stdout",
     "output_type": "stream",
     "text": [
      "True\n",
      "False\n"
     ]
    }
   ],
   "source": [
    "print(2 in numbers) # 2가 numbers의 요소인지 여부\n",
    "print(5 in numbers)"
   ]
  },
  {
   "cell_type": "code",
   "execution_count": null,
   "id": "feac29ad",
   "metadata": {},
   "outputs": [],
   "source": [
    "numbers.index(5)"
   ]
  },
  {
   "cell_type": "code",
   "execution_count": 106,
   "id": "3550386d",
   "metadata": {},
   "outputs": [
    {
     "name": "stdout",
     "output_type": "stream",
     "text": [
      "5가 요소에 포함되지 않습니다.\n"
     ]
    }
   ],
   "source": [
    "if 5 in numbers:\n",
    "    print(numbers.index(5))\n",
    "else:\n",
    "    print(\"5가 요소에 포함되지 않습니다.\")"
   ]
  },
  {
   "cell_type": "code",
   "execution_count": 107,
   "id": "f61e53eb",
   "metadata": {},
   "outputs": [
    {
     "name": "stdout",
     "output_type": "stream",
     "text": [
      "5가 요소에 포함되지 않습니다.\n"
     ]
    }
   ],
   "source": [
    "if numbers.count(5):\n",
    "    print(numbers.index(5))\n",
    "else:\n",
    "    print(\"5가 요소에 포함되지 않습니다.\")"
   ]
  },
  {
   "cell_type": "code",
   "execution_count": 3,
   "id": "a8c38d80",
   "metadata": {},
   "outputs": [],
   "source": [
    "def safe_index(lst,item):\n",
    "    \n",
    "    \"\"\"첫번째 매개변수 lst에서 item요소가 있는 index를 반환. item요소가 없으면 -1 반환\"\"\"\n",
    "    if item in lst:\n",
    "        return lst.index(item)\n",
    "    return -1\n",
    "    "
   ]
  },
  {
   "cell_type": "code",
   "execution_count": 1,
   "id": "acef35c8",
   "metadata": {},
   "outputs": [
    {
     "ename": "NameError",
     "evalue": "name 'safe_index' is not defined",
     "output_type": "error",
     "traceback": [
      "\u001b[1;31m---------------------------------------------------------------------------\u001b[0m",
      "\u001b[1;31mNameError\u001b[0m                                 Traceback (most recent call last)",
      "Cell \u001b[1;32mIn[1], line 1\u001b[0m\n\u001b[1;32m----> 1\u001b[0m \u001b[43msafe_index\u001b[49m(numbers, \u001b[38;5;241m5\u001b[39m)\n",
      "\u001b[1;31mNameError\u001b[0m: name 'safe_index' is not defined"
     ]
    }
   ],
   "source": [
    "safe_index(numbers, 5)"
   ]
  },
  {
   "cell_type": "code",
   "execution_count": 6,
   "id": "ea57c7a4",
   "metadata": {},
   "outputs": [
    {
     "data": {
      "text/plain": [
       "(1, -1)"
      ]
     },
     "execution_count": 6,
     "metadata": {},
     "output_type": "execute_result"
    }
   ],
   "source": [
    "from lst import safe_index #lst.py(모듈)안의 safe_index를 메모리에 load\n",
    "numbers = [1,2,3]\n",
    "safe_index(numbers,2), safe_index(numbers,5)"
   ]
  },
  {
   "cell_type": "code",
   "execution_count": 7,
   "id": "5eeae37d",
   "metadata": {},
   "outputs": [
    {
     "ename": "IndexError",
     "evalue": "list index out of range",
     "output_type": "error",
     "traceback": [
      "\u001b[1;31m---------------------------------------------------------------------------\u001b[0m",
      "\u001b[1;31mIndexError\u001b[0m                                Traceback (most recent call last)",
      "Cell \u001b[1;32mIn[7], line 1\u001b[0m\n\u001b[1;32m----> 1\u001b[0m \u001b[43mnumbers\u001b[49m\u001b[43m[\u001b[49m\u001b[38;5;241;43m5\u001b[39;49m\u001b[43m]\u001b[49m\n",
      "\u001b[1;31mIndexError\u001b[0m: list index out of range"
     ]
    }
   ],
   "source": [
    "numbers[5] # 벗어난 인덱싱 시 에러"
   ]
  },
  {
   "cell_type": "code",
   "execution_count": 8,
   "id": "c8ccb53c",
   "metadata": {},
   "outputs": [
    {
     "data": {
      "text/plain": [
       "[3]"
      ]
     },
     "execution_count": 8,
     "metadata": {},
     "output_type": "execute_result"
    }
   ],
   "source": [
    "numbers[2:5] # 벗어난 인덱스로 슬라이싱 시 에러가 안 남"
   ]
  },
  {
   "cell_type": "markdown",
   "id": "22c23d93",
   "metadata": {},
   "source": [
    "# 1.5 원하는 요소 추출\n",
    "\n",
    "1. 리스트 슬라이싱: \n",
    "\n",
    "    - [from:to:step] from부터 to 앞까지 step씩 증가하는 index값을 추출\n",
    "        * from생략시 처음, to 생략시 끝, step생략시 1\n",
    "    - 인덱스의 범위를 벗어난 값도 에러나지 않음\n",
    "    - index는 음수도 가능\n",
    "\n",
    "2. **리스트컴프리헨션 : 원하는 조건의 데이터 추출"
   ]
  },
  {
   "cell_type": "code",
   "execution_count": 12,
   "id": "6101a2e8",
   "metadata": {},
   "outputs": [
    {
     "name": "stdout",
     "output_type": "stream",
     "text": [
      "[20, 19, 18, 13, 12, 10, 9, 5, 3, 1]\n",
      "[1, 5, 10, 13, 19]\n",
      "[5, 9, 10, 12, 13, 18, 19, 20]\n"
     ]
    }
   ],
   "source": [
    "numbers = [1,3,5,9,10,12,13,18,19,20]\n",
    "print(numbers[::-1]) #거꾸로 출력\n",
    "print(numbers[0:-1:2]) #짝수 index 값 출력\n",
    "print(numbers[2:100]) #인덱스를 벗어난 슬라이싱 가능"
   ]
  },
  {
   "cell_type": "code",
   "execution_count": 17,
   "id": "db1af640",
   "metadata": {},
   "outputs": [
    {
     "data": {
      "text/plain": [
       "[1, 3, 5, 9, 10, 12, 13, 18, 19, 20]"
      ]
     },
     "execution_count": 17,
     "metadata": {},
     "output_type": "execute_result"
    }
   ],
   "source": [
    "# 모든 데이터 추출\n",
    "numbers = [1,3,5,9,10,12,13,18,19,20]\n",
    "#for data in numbers:\n",
    "#   print(data, end=\"\\t\")\n",
    "[data for data in numbers]\n"
   ]
  },
  {
   "cell_type": "code",
   "execution_count": 22,
   "id": "384c6a2f",
   "metadata": {},
   "outputs": [
    {
     "data": {
      "text/plain": [
       "[10, 12, 18, 20]"
      ]
     },
     "execution_count": 22,
     "metadata": {},
     "output_type": "execute_result"
    }
   ],
   "source": [
    "# 짝수 데이터 추출\n",
    "# for data in numbers:\n",
    "#     if data % 2 == 0:\n",
    "#         print(data, end= \" \")\n",
    "[data for data in numbers if data %2 == 0]"
   ]
  },
  {
   "cell_type": "code",
   "execution_count": 27,
   "id": "03e12115",
   "metadata": {},
   "outputs": [
    {
     "data": {
      "text/plain": [
       "[10, 12, 13, 18, 19, 20]"
      ]
     },
     "execution_count": 27,
     "metadata": {},
     "output_type": "execute_result"
    }
   ],
   "source": [
    "# ex1. numbers에서 10이상인 요소만 추출\n",
    "[data for data in numbers if data >=10]"
   ]
  },
  {
   "cell_type": "code",
   "execution_count": 30,
   "id": "640cb8f5",
   "metadata": {},
   "outputs": [
    {
     "data": {
      "text/plain": [
       "['orange', 'apple', 'mango']"
      ]
     },
     "execution_count": 30,
     "metadata": {},
     "output_type": "execute_result"
    }
   ],
   "source": [
    "# ex2. fruits에서 과일의 글자가 5글자 이상인 과일만 추출\n",
    "fruits = [\"orange\",\"apple\",\"mango\",\"kiwi\"]\n",
    "[fruit for fruit in fruits if len(fruit)>=5]\n"
   ]
  },
  {
   "cell_type": "code",
   "execution_count": 31,
   "id": "dd205c17",
   "metadata": {},
   "outputs": [
    {
     "data": {
      "text/plain": [
       "[6, 5, 5, 4]"
      ]
     },
     "execution_count": 31,
     "metadata": {},
     "output_type": "execute_result"
    }
   ],
   "source": [
    "# ex2-1) fruits 리스트의 과일 글자 수\n",
    "[len(fruit) for fruit in fruits]"
   ]
  },
  {
   "cell_type": "code",
   "execution_count": 32,
   "id": "e3ccb57f",
   "metadata": {},
   "outputs": [
    {
     "data": {
      "text/plain": [
       "[9, 16, 25]"
      ]
     },
     "execution_count": 32,
     "metadata": {},
     "output_type": "execute_result"
    }
   ],
   "source": [
    "# ex3. 3이상인 요소들의 제곱을 추출\n",
    "L = [1,2,3,4,5]\n",
    "[l**2 for l in L if l>=3 ]"
   ]
  },
  {
   "cell_type": "code",
   "execution_count": 33,
   "id": "fb005e11",
   "metadata": {},
   "outputs": [
    {
     "data": {
      "text/plain": [
       "[2, 4, 6, 8, 10]"
      ]
     },
     "execution_count": 33,
     "metadata": {},
     "output_type": "execute_result"
    }
   ],
   "source": [
    "# ex4. 리스트 요소의 값의 2배를 추출 : 2,4,6,8,10\n",
    "[l * 2for l in L]"
   ]
  },
  {
   "cell_type": "markdown",
   "id": "89e6dcaf",
   "metadata": {},
   "source": [
    "## 1.6 요소 수정하기\n",
    "\n",
    "- 인덱스, 슬라이싱을 이용해서 수정"
   ]
  },
  {
   "cell_type": "code",
   "execution_count": 35,
   "id": "634623e8",
   "metadata": {},
   "outputs": [
    {
     "data": {
      "text/plain": [
       "[0, 1, 222, 3, 4, 5, 6, 7, 8, 9]"
      ]
     },
     "execution_count": 35,
     "metadata": {},
     "output_type": "execute_result"
    }
   ],
   "source": [
    "numbers = [0,1,2,3,4,5,6,7,8,9]\n",
    "numbers[2] = 222\n",
    "numbers"
   ]
  },
  {
   "cell_type": "code",
   "execution_count": 38,
   "id": "c54eee68",
   "metadata": {},
   "outputs": [
    {
     "data": {
      "text/plain": [
       "['xx', 'xx', 'xx', 'xx', 'xx', 'xx', 'xx', 3, 4, 5, 6, 7, 8, 9]"
      ]
     },
     "execution_count": 38,
     "metadata": {},
     "output_type": "execute_result"
    }
   ],
   "source": [
    "# 슬라이싱(step부분 미포함)을 이용하여 부분 리스트를 통째로 수정\n",
    "numbers [0:2] =[\"xx\",\"xx\",\"xx\",\"xx\",\"xx\",\"xx\",\"xx\"]\n",
    "numbers"
   ]
  },
  {
   "cell_type": "code",
   "execution_count": 40,
   "id": "d529fae9",
   "metadata": {},
   "outputs": [
    {
     "name": "stdout",
     "output_type": "stream",
     "text": [
      "수정전:  [0, 0, 0, 0, 0, 0, 0, 0, 0, 0]\n",
      "수정후:  [9, 0, 9, 0, 9, 0, 9, 0, 9, 0]\n"
     ]
    }
   ],
   "source": [
    "# 슬라이싱(step부분 포함)\n",
    "numbers = [0] * 10\n",
    "print('수정전: ',numbers)\n",
    "numbers[0::2] = [9,9,9,9,9]\n",
    "print('수정후: ',numbers)"
   ]
  },
  {
   "cell_type": "code",
   "execution_count": 41,
   "id": "2bdbe64c",
   "metadata": {},
   "outputs": [
    {
     "ename": "ValueError",
     "evalue": "attempt to assign sequence of size 2 to extended slice of size 5",
     "output_type": "error",
     "traceback": [
      "\u001b[1;31m---------------------------------------------------------------------------\u001b[0m",
      "\u001b[1;31mValueError\u001b[0m                                Traceback (most recent call last)",
      "Cell \u001b[1;32mIn[41], line 1\u001b[0m\n\u001b[1;32m----> 1\u001b[0m numbers[::\u001b[38;5;241m2\u001b[39m] \u001b[38;5;241m=\u001b[39m [\u001b[38;5;241m1\u001b[39m,\u001b[38;5;241m1\u001b[39m]\n",
      "\u001b[1;31mValueError\u001b[0m: attempt to assign sequence of size 2 to extended slice of size 5"
     ]
    }
   ],
   "source": [
    "numbers[::2] = [1,1]"
   ]
  },
  {
   "cell_type": "markdown",
   "id": "045d916d",
   "metadata": {},
   "source": [
    "## 1.7 요소삭제\n",
    "- pop(): 가장 마지막 인덱스의 요소가 반환되고 삭제\n",
    "- pop(idx): idx번째 요소가 반환되고 삭제(특정한 매개변수 삭제)\n",
    "- remove(data): list안의 data가 삭제\n",
    "- del 리스트변수[idx]: idx번째 요소가 삭제"
   ]
  },
  {
   "cell_type": "code",
   "execution_count": 51,
   "id": "40351e37",
   "metadata": {},
   "outputs": [
    {
     "name": "stdout",
     "output_type": "stream",
     "text": [
      "삭제한 데이터:  5\n",
      "삭제 후 numbers:  [1, 2, 3, 4]\n",
      "1번째 삭제한 데이터:  2\n",
      "1번째 삭제 후 numbers:  [1, 3, 4]\n",
      "데이터 1삭제\n",
      "데이터 1 삭제 후 number:  [3, 4]\n",
      "del numbers[1]\n",
      "[3]\n"
     ]
    }
   ],
   "source": [
    "numbers = [1,2,3,4,5]\n",
    "print(\"삭제한 데이터: \",numbers.pop())\n",
    "print(\"삭제 후 numbers: \", numbers)\n",
    "print(\"1번째 삭제한 데이터: \",numbers.pop(1))\n",
    "print(\"1번째 삭제 후 numbers: \",numbers)\n",
    "print(\"데이터 1삭제\")\n",
    "numbers.remove(1)\n",
    "print(\"데이터 1 삭제 후 number: \",numbers)\n",
    "print(\"del numbers[1]\")\n",
    "del numbers[1]\n",
    "print(numbers)"
   ]
  },
  {
   "cell_type": "code",
   "execution_count": 52,
   "id": "a9685780",
   "metadata": {},
   "outputs": [
    {
     "name": "stdout",
     "output_type": "stream",
     "text": [
      "해당 데이터는 없는 item입니다\n"
     ]
    }
   ],
   "source": [
    "# numbers.remove(9)\n",
    "if 9 in numbers:\n",
    "    numbers.remove(9)\n",
    "else:\n",
    "    print(\"해당 데이터는 없는 item입니다\")"
   ]
  },
  {
   "cell_type": "code",
   "execution_count": 54,
   "id": "25042538",
   "metadata": {},
   "outputs": [
    {
     "data": {
      "text/plain": [
       "[]"
      ]
     },
     "execution_count": 54,
     "metadata": {},
     "output_type": "execute_result"
    }
   ],
   "source": [
    "numbers.clear() #모든 요소를 삭제\n",
    "numbers"
   ]
  },
  {
   "cell_type": "markdown",
   "id": "89aa3a92",
   "metadata": {},
   "source": [
    "## 1.8 정렬하기"
   ]
  },
  {
   "cell_type": "code",
   "execution_count": 56,
   "id": "a2bdbae9",
   "metadata": {},
   "outputs": [
    {
     "name": "stdout",
     "output_type": "stream",
     "text": [
      "numbers는 변경하지 않고, 정렬결과:  [0, 5, 6, 8, 9]\n",
      "numbers:  [9, 5, 0, 8, 6]\n"
     ]
    }
   ],
   "source": [
    "numbers = [9,5,0,8,6]\n",
    "print(\"numbers는 변경하지 않고, 정렬결과: \",sorted(numbers))\n",
    "print(\"numbers: \", numbers)"
   ]
  },
  {
   "cell_type": "code",
   "execution_count": 60,
   "id": "b7f63c86",
   "metadata": {},
   "outputs": [
    {
     "data": {
      "text/plain": [
       "[9, 8, 6, 5, 0]"
      ]
     },
     "execution_count": 60,
     "metadata": {},
     "output_type": "execute_result"
    }
   ],
   "source": [
    "numbers.sort(reverse = True)# numbers 자체가 오름차순 정렬한 결과로 바꿈\n",
    "numbers"
   ]
  },
  {
   "cell_type": "code",
   "execution_count": 59,
   "id": "c59753ab",
   "metadata": {},
   "outputs": [
    {
     "data": {
      "text/plain": [
       "[0, 5, 6, 8, 9]"
      ]
     },
     "execution_count": 59,
     "metadata": {},
     "output_type": "execute_result"
    }
   ],
   "source": [
    "numbers.reverse() # 리스트를 역순으로 변경\n",
    "#numbers = numbers[::-1]\n",
    "numbers"
   ]
  },
  {
   "cell_type": "markdown",
   "id": "7d517935",
   "metadata": {},
   "source": [
    "## 1.9 리스트 복제\n"
   ]
  },
  {
   "cell_type": "code",
   "execution_count": 63,
   "id": "623089d2",
   "metadata": {},
   "outputs": [
    {
     "name": "stdout",
     "output_type": "stream",
     "text": [
      "원본i= 10, 복사본cp_i=10 /원본주소 = 1948395045392, 복사본 주소1948395045392\n",
      "원본i= 10, 복사본cp_i=99 /원본주소 = 1948395045392, 복사본 주소1948395048240\n"
     ]
    }
   ],
   "source": [
    "# 스칼라 데이터의 복제\n",
    "i = 10\n",
    "cp_i = i\n",
    "print(f\"원본i= {i}, 복사본cp_i={cp_i} /원본주소 = {id(i)}, 복사본 주소{id(cp_i)}\")\n",
    "cp_i = 99\n",
    "print(f\"원본i= {i}, 복사본cp_i={cp_i} /원본주소 = {id(i)}, 복사본 주소{id(cp_i)}\")"
   ]
  },
  {
   "cell_type": "code",
   "execution_count": 67,
   "id": "162e9d55",
   "metadata": {},
   "outputs": [
    {
     "name": "stdout",
     "output_type": "stream",
     "text": [
      "원본 주소:  1948514533312\n",
      "복제본 주소:  1948514533312\n",
      "원본 주소:  [99, 6, 1, 9]\n",
      "복제본 주소:  [99, 6, 1, 9]\n",
      "원본 주소:  1948514533312\n",
      "복제본 주소:  1948514533312\n"
     ]
    }
   ],
   "source": [
    "# 데이터 구조의 복제\n",
    "numbers = [5,6,1,9]\n",
    "new_numbers = numbers\n",
    "print(\"원본 주소: \",id(numbers))\n",
    "print(\"복제본 주소: \",id(new_numbers))\n",
    "new_numbers[0] = 99\n",
    "print(\"원본 주소: \",numbers)\n",
    "print(\"복제본 주소: \",new_numbers)\n",
    "print(\"원본 주소: \",id(numbers))\n",
    "print(\"복제본 주소: \",id(new_numbers))"
   ]
  },
  {
   "cell_type": "code",
   "execution_count": 68,
   "id": "37a1cc6d",
   "metadata": {},
   "outputs": [
    {
     "name": "stdout",
     "output_type": "stream",
     "text": [
      "원본:  [1, 5, 6, 9]\n",
      "복제본:  [1, 5, 6, 9]\n",
      "원본 주소:  1948507311552\n",
      "복제본 주소:  1948507311552\n"
     ]
    }
   ],
   "source": [
    "# 할당\n",
    "numbers = [5,6,1,9]\n",
    "new_numbers = numbers\n",
    "new_numbers.sort()\n",
    "print(\"원본: \",numbers)\n",
    "print(\"복제본: \",new_numbers)\n",
    "print(\"원본 주소: \",id(numbers))\n",
    "print(\"복제본 주소: \",id(new_numbers))"
   ]
  },
  {
   "cell_type": "code",
   "execution_count": 69,
   "id": "9cf1beda",
   "metadata": {},
   "outputs": [
    {
     "name": "stdout",
     "output_type": "stream",
     "text": [
      "원본:  [5, 6, 1, 9]\n",
      "복제본:  [9, 6, 5, 1]\n",
      "원본 주소:  1948506357632\n",
      "복제본 주소:  1948506357632\n"
     ]
    }
   ],
   "source": [
    "# 리스트 복제(깊은 복사)\n",
    "numbers = [5,6,1,9]\n",
    "\n",
    "new_numbers = numbers.copy() # numbers를 복제(깊은 복사)\n",
    "new_numbers.sort(reverse=True) #내림차순 정렬\n",
    "print(\"원본: \",numbers)\n",
    "print(\"복제본: \",new_numbers)\n",
    "print(\"원본 주소: \",id(numbers))\n",
    "print(\"복제본 주소: \",id(numbers))"
   ]
  },
  {
   "cell_type": "code",
   "execution_count": 71,
   "id": "497be705",
   "metadata": {},
   "outputs": [
    {
     "name": "stdout",
     "output_type": "stream",
     "text": [
      "정렬전:  ['서울', '대전', '대구', '부산', '하남', '수원', '제주']\n",
      "정렬후:  ['대구', '대전', '부산', '서울', '수원', '제주', '하남']\n"
     ]
    }
   ],
   "source": [
    "city = [\"서울\",\"대전\",\"대구\",\"부산\",\"하남\",\"수원\",\"제주\"]\n",
    "temp = city.copy()\n",
    "temp.sort()\n",
    "print(\"정렬전: \",city)\n",
    "print(\"정렬후: \",temp)"
   ]
  },
  {
   "cell_type": "code",
   "execution_count": 72,
   "id": "4a8b22cc",
   "metadata": {},
   "outputs": [
    {
     "name": "stdout",
     "output_type": "stream",
     "text": [
      "정렬전:  ['서울', '대전', '대구', '부산', '하남', '수원', '제주']\n",
      "정렬후:  []\n"
     ]
    }
   ],
   "source": [
    "temp.clear()\n",
    "print(\"정렬전: \",city)\n",
    "print(\"정렬후: \",temp)"
   ]
  },
  {
   "cell_type": "markdown",
   "id": "2d5a5cc9",
   "metadata": {},
   "source": [
    "# 2절 튜플\n",
    "- 리스트 ([])와 유사하지만 읽기전용. 수정이 필요없는 데이터애서 사용\n",
    "- 수정이 불가하므로, 튜플에서 데이터 수정, 추가, 삭제 불가\n",
    "- 제공되는 함수도 많지 않음\n",
    "- ()이용해서 생성, tuple() 함수 이용"
   ]
  },
  {
   "cell_type": "code",
   "execution_count": 74,
   "id": "ccb070ae",
   "metadata": {},
   "outputs": [
    {
     "name": "stdout",
     "output_type": "stream",
     "text": [
      "<class 'tuple'>\n"
     ]
    }
   ],
   "source": [
    "city = ('서울', '대전', '대구', '부산', '하남')\n",
    "# 파이썬은 여러개의 값이 전달될 때 튜플 타입으로 전달\n",
    "city = '서울', '대전', '대구', '부산', '하남'\n",
    "print(type(city))\n",
    "print(city)"
   ]
  },
  {
   "cell_type": "code",
   "execution_count": 75,
   "id": "d9baf5e9",
   "metadata": {},
   "outputs": [
    {
     "data": {
      "text/plain": [
       "'서울,대전,대구,부산,하남'"
      ]
     },
     "execution_count": 75,
     "metadata": {},
     "output_type": "execute_result"
    }
   ],
   "source": [
    "# 매개변수로 list가 오는 함수는 tuple 매개변수로 함수 사용\n",
    "\",\".join(city)"
   ]
  },
  {
   "cell_type": "code",
   "execution_count": 79,
   "id": "ac207323",
   "metadata": {},
   "outputs": [
    {
     "data": {
      "text/plain": [
       "1"
      ]
     },
     "execution_count": 79,
     "metadata": {},
     "output_type": "execute_result"
    }
   ],
   "source": [
    "from lst import safe_index\n",
    "safe_index(city, '대전')"
   ]
  },
  {
   "cell_type": "code",
   "execution_count": 82,
   "id": "01e0313c",
   "metadata": {},
   "outputs": [
    {
     "name": "stdout",
     "output_type": "stream",
     "text": [
      "<class 'list'>\n",
      "['서울']\n",
      "1\n"
     ]
    }
   ],
   "source": [
    "l =['서울']\n",
    "print(type(l))\n",
    "print(l)\n",
    "print(len(l))"
   ]
  },
  {
   "cell_type": "code",
   "execution_count": 85,
   "id": "4a417041",
   "metadata": {},
   "outputs": [
    {
     "name": "stdout",
     "output_type": "stream",
     "text": [
      "<class 'str'>\n",
      "서울\n",
      "2\n"
     ]
    }
   ],
   "source": [
    "city = ('서울') # 요소가 하나 있는 튜플(X) -> str\n",
    "print(type(city))\n",
    "print(city)\n",
    "print(len(city))"
   ]
  },
  {
   "cell_type": "code",
   "execution_count": 86,
   "id": "8c93ae66",
   "metadata": {},
   "outputs": [
    {
     "name": "stdout",
     "output_type": "stream",
     "text": [
      "<class 'tuple'>\n",
      "('서울',)\n",
      "1\n"
     ]
    }
   ],
   "source": [
    "city = ('서울',) # 요소가 하나 있는 튜플(0) #데이터 하나가 튜플이 되려면 comma를 찍어야함  \n",
    "print(type(city))\n",
    "print(city)\n",
    "print(len(city))"
   ]
  },
  {
   "cell_type": "code",
   "execution_count": 3,
   "id": "6ae1bbe0",
   "metadata": {},
   "outputs": [],
   "source": [
    "numbers = (1,2,3)\n",
    "# numbers.append(4) 수정하기 위한 함수는 제공되지 않음"
   ]
  },
  {
   "cell_type": "code",
   "execution_count": 91,
   "id": "2d97f544",
   "metadata": {},
   "outputs": [
    {
     "data": {
      "text/plain": [
       "(1, 3, 6)"
      ]
     },
     "execution_count": 91,
     "metadata": {},
     "output_type": "execute_result"
    }
   ],
   "source": [
    "min(numbers), max(numbers), sum(numbers)"
   ]
  },
  {
   "cell_type": "code",
   "execution_count": 92,
   "id": "d204d656",
   "metadata": {},
   "outputs": [
    {
     "data": {
      "text/plain": [
       "1"
      ]
     },
     "execution_count": 92,
     "metadata": {},
     "output_type": "execute_result"
    }
   ],
   "source": [
    "numbers.count(2)"
   ]
  },
  {
   "cell_type": "code",
   "execution_count": 5,
   "id": "1f4d4def",
   "metadata": {},
   "outputs": [
    {
     "data": {
      "text/plain": [
       "2"
      ]
     },
     "execution_count": 5,
     "metadata": {},
     "output_type": "execute_result"
    }
   ],
   "source": [
    "numbers.index(3)"
   ]
  },
  {
   "cell_type": "code",
   "execution_count": 94,
   "id": "cee59ece",
   "metadata": {},
   "outputs": [
    {
     "name": "stdout",
     "output_type": "stream",
     "text": [
      "해당 데이터 없음\n"
     ]
    }
   ],
   "source": [
    "#numbers.index(4)\n",
    "if 4 in numbers:\n",
    "    numbers.index(4)\n",
    "else:\n",
    "    print(\"해당 데이터 없음\")"
   ]
  },
  {
   "cell_type": "code",
   "execution_count": 4,
   "id": "60781277",
   "metadata": {},
   "outputs": [
    {
     "data": {
      "text/plain": [
       "-1"
      ]
     },
     "execution_count": 4,
     "metadata": {},
     "output_type": "execute_result"
    }
   ],
   "source": [
    "from lst import safe_index\n",
    "safe_index(numbers,4)"
   ]
  },
  {
   "cell_type": "code",
   "execution_count": 15,
   "id": "ceb8443a",
   "metadata": {},
   "outputs": [
    {
     "ename": "IndentationError",
     "evalue": "expected an indented block after 'if' statement on line 2 (2417954269.py, line 3)",
     "output_type": "error",
     "traceback": [
      "\u001b[1;36m  Cell \u001b[1;32mIn[15], line 3\u001b[1;36m\u001b[0m\n\u001b[1;33m    numbers.index(2, 2) # index(찾을 데이터, 찾기 시작할 index=0)\u001b[0m\n\u001b[1;37m    ^\u001b[0m\n\u001b[1;31mIndentationError\u001b[0m\u001b[1;31m:\u001b[0m expected an indented block after 'if' statement on line 2\n"
     ]
    }
   ],
   "source": [
    "numbers = (1,4,3,2)\n",
    "if 4 in numbers[:]:\n",
    "numbers.index(2, 2) # index(찾을 데이터, 찾기 시작할 index=0)\n",
    "else:\n",
    "    print(\"데이터가 없습니다.\")"
   ]
  },
  {
   "cell_type": "code",
   "execution_count": 28,
   "id": "e04a6363",
   "metadata": {},
   "outputs": [],
   "source": [
    "def safe_index(lst, item, start=0):\n",
    "    \"\"\"\n",
    "    첫번째 매개변수 lst: 리스트, 튜플\n",
    "    두번째 매개변수 item: 리스트나 튜플에서 찾을 데이터\n",
    "    세번째 매개변수 start: 몇 번째 index부터 찾을지 (기본값: 0)\n",
    "    \"\"\"\n",
    "    #if item in lst[start:]:\n",
    "        return lst.index(item, start) if item in lst[start:] else -1  # start번째부터 item이 있는 index를 반환\n",
    "   # else:\n",
    "      #  return -1\n"
   ]
  },
  {
   "cell_type": "code",
   "execution_count": 30,
   "id": "34b9bd2c",
   "metadata": {},
   "outputs": [
    {
     "data": {
      "text/plain": [
       "4"
      ]
     },
     "execution_count": 30,
     "metadata": {},
     "output_type": "execute_result"
    }
   ],
   "source": [
    "safe_index(numbers,4)"
   ]
  },
  {
   "cell_type": "code",
   "execution_count": 26,
   "id": "bcf665c0",
   "metadata": {},
   "outputs": [
    {
     "data": {
      "text/plain": [
       "10"
      ]
     },
     "execution_count": 26,
     "metadata": {},
     "output_type": "execute_result"
    }
   ],
   "source": [
    "# 위의 if문을 조건식을 이용하여 한줄 코드\n",
    "\n",
    "def diff(x, y):\n",
    "    return x-y if x>y else y-x # if문이 참일 때 취할 값 if 조건 else if문이 거짓일 때 값\n",
    "#     if x>y:\n",
    "#         return x-y\n",
    "#     else:\n",
    "#         return y-x\n",
    "diff(10,20)"
   ]
  },
  {
   "cell_type": "code",
   "execution_count": 33,
   "id": "41a0b589",
   "metadata": {},
   "outputs": [
    {
     "name": "stdout",
     "output_type": "stream",
     "text": [
      "(1, 2, 3, 1, 2, 3)\n",
      "(1, 2, 3, 1, 2, 3, 1, 2, 3)\n",
      "(1, 2, 3, 1, 2, 3, 1, 2, 3)\n"
     ]
    }
   ],
   "source": [
    "numbers = (1,2,3)\n",
    "print(numbers + numbers)# 연결 (튜플도 연결 가능 리스트도 가능)\n",
    "print(3 * numbers)\n",
    "print(numbers * 3)"
   ]
  },
  {
   "cell_type": "code",
   "execution_count": 36,
   "id": "787fb427",
   "metadata": {},
   "outputs": [
    {
     "data": {
      "text/plain": [
       "(4, 16, 36)"
      ]
     },
     "execution_count": 36,
     "metadata": {},
     "output_type": "execute_result"
    }
   ],
   "source": [
    "#ex. 짝수 요소들을 추출하여 제곱한 데이터를 튜플로 출력하시오\n",
    "numbers = (11,2,3,4,5,6)\n",
    "tuple(num **2 for num in numbers if num % 2 == 0)\n"
   ]
  },
  {
   "cell_type": "markdown",
   "id": "3b47d5cd",
   "metadata": {},
   "source": [
    "# 3절 딕셔너리\n",
    "- {}를 이용해서 키(key)-값(value)의 쌍으로 구성된 자료구조\n",
    "- 키는 유일한 값(중복 허용 안함.) 키에 list는 사용불가. 키에 tuple은 사용 가능\n",
    "- 값은 중복 가능. 모든 데이터 타입 가능 \n",
    "- 인덱스를 이용한 참조는 지원 안 함\n"
   ]
  },
  {
   "cell_type": "code",
   "execution_count": 37,
   "id": "c6e4d9fd",
   "metadata": {},
   "outputs": [
    {
     "name": "stdout",
     "output_type": "stream",
     "text": [
      "<class 'dict'>\n"
     ]
    }
   ],
   "source": [
    "dic = {'name':'홍길동',1:22,(1,2):[1,2]}\n",
    "print(type(dic))"
   ]
  },
  {
   "cell_type": "code",
   "execution_count": 38,
   "id": "7d77d332",
   "metadata": {},
   "outputs": [
    {
     "name": "stdout",
     "output_type": "stream",
     "text": [
      "{'name': '홍길동', 1: 22, (1, 2): [1, 2]}\n"
     ]
    }
   ],
   "source": [
    "print(dic)"
   ]
  },
  {
   "cell_type": "code",
   "execution_count": 39,
   "id": "2f8a8658",
   "metadata": {},
   "outputs": [
    {
     "data": {
      "text/plain": [
       "3"
      ]
     },
     "execution_count": 39,
     "metadata": {},
     "output_type": "execute_result"
    }
   ],
   "source": [
    "len(dic) #데이터 요소의 갯수"
   ]
  },
  {
   "cell_type": "code",
   "execution_count": 41,
   "id": "8e8d7e8d",
   "metadata": {},
   "outputs": [
    {
     "data": {
      "text/plain": [
       "{'fruit': 'apple', 'number': 12, 'sport': 'yoga'}"
      ]
     },
     "execution_count": 41,
     "metadata": {},
     "output_type": "execute_result"
    }
   ],
   "source": [
    "my_favorite = {'fruit':'apple','number':12, 'sport':'yoga'}\n",
    "my_favorite"
   ]
  },
  {
   "cell_type": "code",
   "execution_count": 51,
   "id": "c6554bb0",
   "metadata": {},
   "outputs": [
    {
     "name": "stdout",
     "output_type": "stream",
     "text": [
      "None\n",
      "12\n"
     ]
    }
   ],
   "source": [
    "# print(my_favorite['number']) # 키목록에 없는 데이터를 참조시 에러\n",
    "print(my_favorite.get('people')) # 없는 키를 get함수로 참조시 None\n",
    "print(my_favorite.get('number','-')) #없는 키를 get함수로 참조시 '-'"
   ]
  },
  {
   "cell_type": "code",
   "execution_count": 52,
   "id": "91a74965",
   "metadata": {},
   "outputs": [
    {
     "name": "stdout",
     "output_type": "stream",
     "text": [
      "데이터가 없음\n"
     ]
    }
   ],
   "source": [
    "if my_favorite.get('people'):\n",
    "    pass\n",
    "else:\n",
    "    print(\"데이터가 없음\")"
   ]
  },
  {
   "cell_type": "markdown",
   "id": "5de7c7b4",
   "metadata": {},
   "source": [
    "## 딕셔너리 item 수정, 추가, 삭제"
   ]
  },
  {
   "cell_type": "code",
   "execution_count": 58,
   "id": "6a18b74a",
   "metadata": {},
   "outputs": [
    {
     "name": "stdout",
     "output_type": "stream",
     "text": [
      "people 추가후:  {'fruit': 'apple', 'number': 12, 'sport': 'yoga', 'people': '홍길동', 'subject': 'AI'}\n",
      "{'fruit': 'apple', 'number': 12, 'sport': 'yoga', 'people': '홍길동', 'subject': '수학', 'major': 'AI'}\n"
     ]
    }
   ],
   "source": [
    "my_favorite = {'fruit':'apple','number':12, 'sport':'yoga'}\n",
    "# 추가\n",
    "my_favorite['people'] = '홍길동'\n",
    "my_favorite['subject'] = 'AI'\n",
    "print('people 추가후: ',my_favorite)\n",
    "# 여러 item을 한꺼번에 추가\n",
    "my_favorite.update({'subject': '수학', 'major':'AI'})\n",
    "#한 꺼번에 추가후\n",
    "print(my_favorite)\n",
    "\n",
    "\n",
    "\n"
   ]
  },
  {
   "cell_type": "code",
   "execution_count": 60,
   "id": "6f5b73ae",
   "metadata": {},
   "outputs": [
    {
     "name": "stdout",
     "output_type": "stream",
     "text": [
      "하나씩 수정 후:  {'fruit': 'mango', 'number': -9, 'sport': 'yoga', 'people': '홍길동', 'subject': '수학', 'major': 'AI'}\n",
      "한 거번에 수정 후:  {'fruit': 'kiwi', 'number': -99, 'sport': 'yoga', 'people': '홍길동', 'subject': '수학', 'major': 'AI'}\n"
     ]
    }
   ],
   "source": [
    "# 한 item씩 수정\n",
    "my_favorite['fruit'] = 'mango'\n",
    "my_favorite['number'] = -9\n",
    "print('하나씩 수정 후: ', my_favorite)\n",
    "\n",
    "#여러 item을 한 번에 수정\n",
    "# my_favorite.update({\"fruit\":\"kiwi\", 'number':-99})\n",
    "my_favorite.update(fruit='kiwi', number=-99)\n",
    "print(\"한 거번에 수정 후: \",my_favorite)\n"
   ]
  },
  {
   "cell_type": "code",
   "execution_count": 67,
   "id": "10a5d9b2",
   "metadata": {},
   "outputs": [
    {
     "name": "stdout",
     "output_type": "stream",
     "text": [
      "subject키가 존재 하지 않습니다.\n",
      "del 제거 후(1) {'fruit': 'kiwi', 'number': -99, 'sport': 'yoga', 'people': '홍길동'}\n",
      "major 키가 존재하지 않습니다\n",
      "{'fruit': 'kiwi', 'number': -99, 'sport': 'yoga', 'people': '홍길동'}\n"
     ]
    }
   ],
   "source": [
    "# item 제거\n",
    "if 'subject' in my_favorite:\n",
    "    del my_favorite['subject'] # subject item 제거\n",
    "else:\n",
    "    print(\"subject키가 존재 하지 않습니다.\")\n",
    "print(\"del 제거 후(1)\", my_favorite)\n",
    "#item 제거(2)\n",
    "if 'major' in my_favorite:\n",
    "    print('제거한 데이터',my_favorite.pop('major')) # major키 값을 반환하고 제거\n",
    "else:\n",
    "    print(\"major 키가 존재하지 않습니다\")\n",
    "print(my_favorite)"
   ]
  },
  {
   "cell_type": "code",
   "execution_count": 69,
   "id": "63269336",
   "metadata": {},
   "outputs": [],
   "source": [
    "# for문을 이용한 튜플 출력\n",
    "my_tuple = ('홍길동', 30, '010-9999-9999')"
   ]
  },
  {
   "cell_type": "code",
   "execution_count": 76,
   "id": "73cefcd7",
   "metadata": {},
   "outputs": [
    {
     "name": "stdout",
     "output_type": "stream",
     "text": [
      "홍길동\t30\t010-9999-9999\t\n",
      "0번째: 홍길동\t1번째: 30\t2번째: 010-9999-9999\t\n",
      "0번째 : 홍길동\t1번째 : 30\t2번째 : 010-9999-9999\t"
     ]
    }
   ],
   "source": [
    "for data in my_tuple:\n",
    "    print(data, end='\\t')\n",
    "print()\n",
    "for idx in range(len(my_tuple)):\n",
    "    print(f\"{idx}번째: {my_tuple[idx]}\",end=\"\\t\")\n",
    "print() #개행\n",
    "for idx, data in enumerate(my_tuple):\n",
    "    print(f\"{idx}번째 : {data}\", end=\"\\t\")"
   ]
  },
  {
   "cell_type": "code",
   "execution_count": 78,
   "id": "fd5642cc",
   "metadata": {},
   "outputs": [],
   "source": [
    "my_dic = {'name':'홍길동', 'age':30, 'tel':'010-9999-9999'}"
   ]
  },
  {
   "cell_type": "code",
   "execution_count": 86,
   "id": "d320065b",
   "metadata": {},
   "outputs": [
    {
     "name": "stdout",
     "output_type": "stream",
     "text": [
      "name: 홍길동\n",
      "age: 30\n",
      "tel: 010-9999-9999\n"
     ]
    }
   ],
   "source": [
    "for key in my_dic:    # 비추\n",
    "    print(f\"{key}: {my_dic[key]}\")"
   ]
  },
  {
   "cell_type": "code",
   "execution_count": 87,
   "id": "2efb3997",
   "metadata": {},
   "outputs": [
    {
     "data": {
      "text/plain": [
       "dict_keys(['name', 'age', 'tel'])"
      ]
     },
     "execution_count": 87,
     "metadata": {},
     "output_type": "execute_result"
    }
   ],
   "source": [
    "my_dic.keys()# 키의 목록"
   ]
  },
  {
   "cell_type": "code",
   "execution_count": 89,
   "id": "e612cadc",
   "metadata": {},
   "outputs": [
    {
     "data": {
      "text/plain": [
       "dict_values(['홍길동', 30, '010-9999-9999'])"
      ]
     },
     "execution_count": 89,
     "metadata": {},
     "output_type": "execute_result"
    }
   ],
   "source": [
    "my_dic.values() #값의 목록"
   ]
  },
  {
   "cell_type": "code",
   "execution_count": 90,
   "id": "af74180e",
   "metadata": {},
   "outputs": [
    {
     "data": {
      "text/plain": [
       "dict_items([('name', '홍길동'), ('age', 30), ('tel', '010-9999-9999')])"
      ]
     },
     "execution_count": 90,
     "metadata": {},
     "output_type": "execute_result"
    }
   ],
   "source": [
    "my_dic.items() # 키-값 쌍 목록"
   ]
  },
  {
   "cell_type": "code",
   "execution_count": 96,
   "id": "d5034a75",
   "metadata": {},
   "outputs": [
    {
     "name": "stdout",
     "output_type": "stream",
     "text": [
      "name:홍길동 \tage:30 \ttel:010-9999-9999 \t"
     ]
    }
   ],
   "source": [
    "for key, value in my_dic.items():\n",
    "    print(f\"{key}:{value} \", end=\"\\t\")"
   ]
  },
  {
   "cell_type": "code",
   "execution_count": 97,
   "id": "1f192c98",
   "metadata": {},
   "outputs": [
    {
     "name": "stdout",
     "output_type": "stream",
     "text": [
      "홍길동\t30\t010-9999-9999\t"
     ]
    }
   ],
   "source": [
    "for value in my_dic.values():\n",
    "    print(value, end=\"\\t\")"
   ]
  },
  {
   "cell_type": "code",
   "execution_count": 105,
   "id": "41daa932",
   "metadata": {},
   "outputs": [
    {
     "name": "stdout",
     "output_type": "stream",
     "text": [
      "1.name:홍길동\n",
      "2.age:30\n",
      "3.tel:010-9999-9999\n"
     ]
    }
   ],
   "source": [
    "# for i , j in enumerate(my_dic):\n",
    "#     print(f\"{i}.{j}:{my_dic[j]}\") #순서도 씌우는 법\n",
    "for no, (key,value) in enumerate(my_dic.items()):\n",
    "    print(f\"{no+1}.{key}:{value}\")"
   ]
  },
  {
   "cell_type": "markdown",
   "id": "f8c348d9",
   "metadata": {},
   "source": [
    "# in 연산자"
   ]
  },
  {
   "cell_type": "code",
   "execution_count": 106,
   "id": "57274dee",
   "metadata": {},
   "outputs": [
    {
     "data": {
      "text/plain": [
       "True"
      ]
     },
     "execution_count": 106,
     "metadata": {},
     "output_type": "execute_result"
    }
   ],
   "source": [
    "# tuple, list\n",
    "t = (10, 20, 30)\n",
    "30 in t # list, tuple, set에서의 in 연산자: 요소 (데이터, item)가 있는 여부 반환"
   ]
  },
  {
   "cell_type": "code",
   "execution_count": 111,
   "id": "6d14be73",
   "metadata": {},
   "outputs": [
    {
     "data": {
      "text/plain": [
       "False"
      ]
     },
     "execution_count": 111,
     "metadata": {},
     "output_type": "execute_result"
    }
   ],
   "source": [
    "# dictionary(딕셔너리)\n",
    "dic = {\"name\":\"홍길동\", \"age\":30}\n",
    "\"홍길동\" in dic #dictionary에서의 in연산자 :key가 있는지 여부 반환"
   ]
  },
  {
   "cell_type": "code",
   "execution_count": 109,
   "id": "6f64d064",
   "metadata": {},
   "outputs": [
    {
     "data": {
      "text/plain": [
       "True"
      ]
     },
     "execution_count": 109,
     "metadata": {},
     "output_type": "execute_result"
    }
   ],
   "source": [
    "\"홍길동\" in dic.values()"
   ]
  },
  {
   "cell_type": "markdown",
   "id": "6346c50f",
   "metadata": {},
   "source": [
    "# 복제하기"
   ]
  },
  {
   "cell_type": "code",
   "execution_count": 112,
   "id": "e1300120",
   "metadata": {},
   "outputs": [
    {
     "name": "stdout",
     "output_type": "stream",
     "text": [
      "my_favorite 주소:  2877478053568\n",
      "new_favorite 주소:  2877478053568\n"
     ]
    }
   ],
   "source": [
    "# 할당\n",
    "my_favorite = {'fruit':'apple', 'number':12}\n",
    "new_favorite = my_favorite\n",
    "print(\"my_favorite 주소: \", id(my_favorite))\n",
    "print(\"new_favorite 주소: \", id(my_favorite))"
   ]
  },
  {
   "cell_type": "code",
   "execution_count": 114,
   "id": "123ac55b",
   "metadata": {},
   "outputs": [
    {
     "name": "stdout",
     "output_type": "stream",
     "text": [
      "원본:  {'fruit': '과일은 다 좋아', 'number': 12, 'people': '홍길동'}\n",
      "수정본:  {'fruit': '과일은 다 좋아', 'number': 12, 'people': '홍길동'}\n"
     ]
    }
   ],
   "source": [
    "new_favorite['fruit'] = \"과일은 다 좋아\"\n",
    "new_favorite['people'] = \"홍길동\"\n",
    "print('원본: ', my_favorite)\n",
    "print('수정본: ', new_favorite)"
   ]
  },
  {
   "cell_type": "code",
   "execution_count": 149,
   "id": "e20b7cc7",
   "metadata": {},
   "outputs": [
    {
     "name": "stdout",
     "output_type": "stream",
     "text": [
      "my_favorite 주소:  2877479629184\n",
      "new_favorite 주소:  2877479973568\n",
      "원본:  {'fruit': 'apple', 'number': 12}\n",
      "수정본:  {'fruit': '과일은 다 좋아', 'number': 12, 'people': '홍길동'}\n"
     ]
    }
   ],
   "source": [
    "# 복제(깊은 복사)\n",
    "my_favorite = {'fruit':'apple', 'number':12}\n",
    "new_favorite = my_favorite.copy()\n",
    "print(\"my_favorite 주소: \", id(my_favorite))\n",
    "print(\"new_favorite 주소: \", id(new_favorite))\n",
    "new_favorite['fruit'] = \"과일은 다 좋아\"\n",
    "new_favorite['people'] = \"홍길동\"\n",
    "print('원본: ', my_favorite)\n",
    "print('수정본: ', new_favorite)"
   ]
  },
  {
   "cell_type": "markdown",
   "id": "1994b1b9",
   "metadata": {},
   "source": [
    "# 4절 셋\n",
    "- 중복을 허용하지 않는 집합(순서x)\n",
    "- {}나 set()함수를 이용해서 셋 생성 ex. set([1,2,1]), set({'name'}:'홍길동'})\n",
    "- 추가 : add(), update()\n",
    "- 삭제: remove()\n",
    "- 집합연산자: &교집합, |합집합, -차집합"
   ]
  },
  {
   "cell_type": "code",
   "execution_count": 150,
   "id": "948cbd2a",
   "metadata": {},
   "outputs": [],
   "source": [
    "st = {'name':'홍길동','age':30}\n",
    "se = {\"홍길동\",30}"
   ]
  },
  {
   "cell_type": "code",
   "execution_count": 151,
   "id": "2b639bfb",
   "metadata": {},
   "outputs": [
    {
     "data": {
      "text/plain": [
       "{'apple', 'banana', 'orange'}"
      ]
     },
     "execution_count": 151,
     "metadata": {},
     "output_type": "execute_result"
    }
   ],
   "source": [
    "fruits = {'banana','orange', 'apple'}\n",
    "fruits"
   ]
  },
  {
   "cell_type": "code",
   "execution_count": 153,
   "id": "1a824384",
   "metadata": {},
   "outputs": [
    {
     "data": {
      "text/plain": [
       "{1, 2, 3}"
      ]
     },
     "execution_count": 153,
     "metadata": {},
     "output_type": "execute_result"
    }
   ],
   "source": [
    "s1 = set([1,2,3,1,1,1,1,1,1,1])\n",
    "s1"
   ]
  },
  {
   "cell_type": "code",
   "execution_count": 156,
   "id": "14af05d3",
   "metadata": {},
   "outputs": [
    {
     "data": {
      "text/plain": [
       "{1, 2, 3}"
      ]
     },
     "execution_count": 156,
     "metadata": {},
     "output_type": "execute_result"
    }
   ],
   "source": [
    "s1 = set((1,2,3,1,1,1,1,1,1,1))\n",
    "s1"
   ]
  },
  {
   "cell_type": "code",
   "execution_count": 158,
   "id": "389b284d",
   "metadata": {},
   "outputs": [
    {
     "data": {
      "text/plain": [
       "{'address', 'age', 'name'}"
      ]
     },
     "execution_count": 158,
     "metadata": {},
     "output_type": "execute_result"
    }
   ],
   "source": [
    "# set함수를 이용해서 딕셔너리를 셋으로 전환할 때는 key만 적용\n",
    "s2 = set({'name':'홍길동','age':30, 'address':'서울'})\n",
    "s2"
   ]
  },
  {
   "cell_type": "markdown",
   "id": "997ed530",
   "metadata": {},
   "source": [
    "## 추가하기\n",
    "- add(): 기본자료형, 튜플 데이터 하나 추가. list, dic, set유형은 add()함수 사용불가 \n",
    "- update(): 리스트, 튜플, 딕셔너리, 셋 요소를 하나씩 따로 추가.\n"
   ]
  },
  {
   "cell_type": "code",
   "execution_count": 173,
   "id": "daf06f94",
   "metadata": {},
   "outputs": [
    {
     "name": "stdout",
     "output_type": "stream",
     "text": [
      "True add후:  {1, 2, 3}\n"
     ]
    }
   ],
   "source": [
    "# 1이 set에 있는 상태에서 True추가\n",
    "s = {1,2,3,1,1}\n",
    "s.add(True)\n",
    "print (\"True add후: \",s)"
   ]
  },
  {
   "cell_type": "code",
   "execution_count": 175,
   "id": "fdf6408e",
   "metadata": {},
   "outputs": [
    {
     "name": "stdout",
     "output_type": "stream",
     "text": [
      "1 add 후:  {False, 1, 2}\n"
     ]
    }
   ],
   "source": [
    "# 0이 set에 있는 상태에서 false추가\n",
    "s = {False,1,2}\n",
    "s.add(1)\n",
    "print(\"1 add 후: \",s)"
   ]
  },
  {
   "cell_type": "code",
   "execution_count": 164,
   "id": "c1596cc7",
   "metadata": {},
   "outputs": [
    {
     "name": "stdout",
     "output_type": "stream",
     "text": [
      "add()후:  {1, 2, 3, 4, '오', (6, 7)}\n"
     ]
    }
   ],
   "source": [
    "s = {1,2,3}\n",
    "s.add(4)\n",
    "s.add('오')\n",
    "s.add((6,7))\n",
    "print(\"add()후: \",s)"
   ]
  },
  {
   "cell_type": "code",
   "execution_count": 169,
   "id": "45fb0227",
   "metadata": {},
   "outputs": [
    {
     "name": "stdout",
     "output_type": "stream",
     "text": [
      "update()후:  {1, 2, 3, 4, 5, 6, 'age', 'name'}\n"
     ]
    }
   ],
   "source": [
    "s = {1,2,3}\n",
    "# s.update([4,5,6])\n",
    "# s.update( (4,5,6)\n",
    "s.update({4,5,6})\n",
    "s.update({'name':'홍', 'age':20})\n",
    "print(\"update()후: \",s)"
   ]
  },
  {
   "cell_type": "markdown",
   "id": "8e83a349",
   "metadata": {},
   "source": [
    "## 삭제하기 \n",
    "    remove() "
   ]
  },
  {
   "cell_type": "code",
   "execution_count": 178,
   "id": "ee54fd15",
   "metadata": {},
   "outputs": [
    {
     "data": {
      "text/plain": [
       "{1, 2}"
      ]
     },
     "execution_count": 178,
     "metadata": {},
     "output_type": "execute_result"
    }
   ],
   "source": [
    "s = {1,2,3,1,1}\n",
    "s.remove(3)\n",
    "s"
   ]
  },
  {
   "cell_type": "code",
   "execution_count": 179,
   "id": "45bc5593",
   "metadata": {},
   "outputs": [
    {
     "name": "stdout",
     "output_type": "stream",
     "text": [
      "찾을 데이터는 없습니다\n"
     ]
    }
   ],
   "source": [
    "# s.remove(5) # 없는요소를 삭제할 경우 에러\n",
    "if 5 in s:\n",
    "    s.remove(5)\n",
    "else:\n",
    "    print(\"찾을 데이터는 없습니다\")"
   ]
  },
  {
   "cell_type": "markdown",
   "id": "6534b823",
   "metadata": {},
   "source": [
    "# 집합연산자\n",
    "    &(교집합), |(합집합)=,-(차집합)."
   ]
  },
  {
   "cell_type": "code",
   "execution_count": 182,
   "id": "56350403",
   "metadata": {},
   "outputs": [
    {
     "name": "stdout",
     "output_type": "stream",
     "text": [
      "s1:  {1, 2, 3, 4, 5}\n",
      "s2:  {3, 4, 5, 6, 7}\n",
      "s1&s2= {3, 4, 5}\n",
      "s1|s2 {1, 2, 3, 4, 5, 6, 7}\n",
      "s1-s2 {1, 2}\n",
      "s2-s1 {6, 7}\n"
     ]
    }
   ],
   "source": [
    "s1 = {1,2,3,4,5}\n",
    "s2 = {3,4,5,6,7}\n",
    "print(\"s1: \",s1)\n",
    "print(\"s2: \",s2)\n",
    "print(\"s1&s2=\",s1 &s2)\n",
    "print(\"s1|s2\",  s1|s2)\n",
    "print(\"s1-s2\",  s1-s2)\n",
    "print(\"s2-s1\", s2-s1)"
   ]
  },
  {
   "cell_type": "code",
   "execution_count": 184,
   "id": "48487184",
   "metadata": {},
   "outputs": [
    {
     "name": "stdout",
     "output_type": "stream",
     "text": [
      "길자\n",
      "길동\n",
      "길숙\n"
     ]
    }
   ],
   "source": [
    "names= {'길동',\"길숙\",\"길자\"}\n",
    "for name in names:\n",
    "    print(name)"
   ]
  },
  {
   "cell_type": "markdown",
   "id": "c36bf4d2",
   "metadata": {},
   "source": [
    "# 5절 enumerate\n",
    "- 반복자. 반복문을 처리할 때 사용할 순서객체를 생성하는 함수\n",
    "- 리스트, 튜플, 딕셔너리, 셋을 for문에 사용시 다 사용 가능"
   ]
  },
  {
   "cell_type": "code",
   "execution_count": 186,
   "id": "75d6d0ab",
   "metadata": {},
   "outputs": [
    {
     "data": {
      "text/plain": [
       "[(0, '길자'), (1, '길동'), (2, '길숙')]"
      ]
     },
     "execution_count": 186,
     "metadata": {},
     "output_type": "execute_result"
    }
   ],
   "source": [
    "list(enumerate(names))"
   ]
  },
  {
   "cell_type": "code",
   "execution_count": 198,
   "id": "57db7b38",
   "metadata": {},
   "outputs": [
    {
     "name": "stdout",
     "output_type": "stream",
     "text": [
      "1.길자\n",
      "2.길동\n",
      "3.길숙\n"
     ]
    }
   ],
   "source": [
    "for no, names in enumerate(names):\n",
    "    print(\"{}.{}\".format(no+1,names))"
   ]
  },
  {
   "cell_type": "code",
   "execution_count": 26,
   "id": "94b90ef8",
   "metadata": {},
   "outputs": [],
   "source": [
    "names= ['길동',\"길숙\",\"길자\"]\n",
    "tels = ['02-999-9999', '02-888-8888', '02-777-7777']\n",
    "adds = ['서울','판교','하남']\n",
    "ranks = ['1','2','3']"
   ]
  },
  {
   "cell_type": "code",
   "execution_count": 13,
   "id": "adf998cd",
   "metadata": {},
   "outputs": [],
   "source": [
    "idx =['길숙', '02-999-9999', '서울',\n",
    " '길동', '02-888-8888', '판교',\n",
    " '길자', '02-777-7777', '하남']"
   ]
  },
  {
   "cell_type": "code",
   "execution_count": 20,
   "id": "d1ce2f3a",
   "metadata": {},
   "outputs": [
    {
     "name": "stdout",
     "output_type": "stream",
     "text": [
      "1.길동님의 연락처는 02-999-9999이고, 서울살아요\n",
      "2.길숙님의 연락처는 02-888-8888이고, 판교살아요\n",
      "3.길자님의 연락처는 02-777-7777이고, 하남살아요\n"
     ]
    }
   ],
   "source": [
    "for idx in range(len(names)):\n",
    "    print(f\"{idx+1}.{names[idx]}님의 연락처는 {tels[idx]}이고, {adds[idx]}살아요\")"
   ]
  },
  {
   "cell_type": "code",
   "execution_count": 27,
   "id": "6aeb9ca4",
   "metadata": {},
   "outputs": [
    {
     "data": {
      "text/plain": [
       "[('1', '길동', '02-999-9999', '서울'),\n",
       " ('2', '길숙', '02-888-8888', '판교'),\n",
       " ('3', '길자', '02-777-7777', '하남')]"
      ]
     },
     "execution_count": 27,
     "metadata": {},
     "output_type": "execute_result"
    }
   ],
   "source": [
    "list(zip(ranks,names,tels,adds))"
   ]
  },
  {
   "cell_type": "code",
   "execution_count": 9,
   "id": "2bdec6c0",
   "metadata": {},
   "outputs": [
    {
     "name": "stdout",
     "output_type": "stream",
     "text": [
      "길숙님의 연락처는 02-999-9999이고, 서울살아요\n",
      "길동님의 연락처는 02-888-8888이고, 판교살아요\n",
      "길자님의 연락처는 02-777-7777이고, 하남살아요\n"
     ]
    }
   ],
   "source": [
    "for name, tel, add in zip(names,tels,adds):\n",
    "    print(f\"{name}님의 연락처는 {tel}이고, {add}살아요\")"
   ]
  },
  {
   "cell_type": "code",
   "execution_count": 15,
   "id": "72706092",
   "metadata": {},
   "outputs": [
    {
     "data": {
      "text/plain": [
       "[(0, ('길숙', '02-999-9999', '서울')),\n",
       " (1, ('길동', '02-888-8888', '판교')),\n",
       " (2, ('길자', '02-777-7777', '하남'))]"
      ]
     },
     "execution_count": 15,
     "metadata": {},
     "output_type": "execute_result"
    }
   ],
   "source": [
    " list(enumerate(zip(names,tels,adds)))"
   ]
  },
  {
   "cell_type": "code",
   "execution_count": 18,
   "id": "34f3bb11",
   "metadata": {},
   "outputs": [
    {
     "name": "stdout",
     "output_type": "stream",
     "text": [
      "0.길숙님의 연락처는02-999-9999이고,서울에 살아요\n",
      "1.길동님의 연락처는02-888-8888이고,판교에 살아요\n",
      "2.길자님의 연락처는02-777-7777이고,하남에 살아요\n"
     ]
    }
   ],
   "source": [
    "for idx, (name,tel,add) in enumerate(zip(names,tels,adds)):\n",
    "    print(f\"{idx}.{name}님의 연락처는{tel}이고,{add}에 살아요\")\n",
    "    "
   ]
  },
  {
   "cell_type": "code",
   "execution_count": 28,
   "id": "d0e8d24a",
   "metadata": {},
   "outputs": [
    {
     "data": {
      "text/plain": [
       "[{'rank': '1', 'name': '길동', 'tel': '02-999-9999', 'add': '서울'},\n",
       " {'rank': '2', 'name': '길숙', 'tel': '02-888-8888', 'add': '판교'},\n",
       " {'rank': '3', 'name': '길자', 'tel': '02-777-7777', 'add': '하남'}]"
      ]
     },
     "execution_count": 28,
     "metadata": {},
     "output_type": "execute_result"
    }
   ],
   "source": [
    "members = [] # 딕셔너리 리스트\n",
    "for rank, name, tel, add in zip(ranks,names,tels,adds):\n",
    "    member = {'rank':rank,'name':name, 'tel':tel, 'add':add}\n",
    "    members.append(member)\n",
    "members"
   ]
  },
  {
   "cell_type": "code",
   "execution_count": 23,
   "id": "5a71799a",
   "metadata": {},
   "outputs": [
    {
     "data": {
      "text/plain": [
       "[{'name': '길동', 'tel': '02-999-9999', 'add': '서울'},\n",
       " {'name': '길숙', 'tel': '02-888-8888', 'add': '판교'},\n",
       " {'name': '길자', 'tel': '02-777-7777', 'add': '하남'}]"
      ]
     },
     "execution_count": 23,
     "metadata": {},
     "output_type": "execute_result"
    }
   ],
   "source": [
    "[{'name': '길동', 'tel': '02-999-9999', 'add': '서울'},\n",
    "{'name': '길숙', 'tel': '02-888-8888', 'add': '판교'},\n",
    "{'name': '길자', 'tel': '02-777-7777', 'add': '하남'}]"
   ]
  },
  {
   "cell_type": "markdown",
   "id": "476d5742",
   "metadata": {},
   "source": [
    "# 문제풀이"
   ]
  },
  {
   "cell_type": "code",
   "execution_count": 74,
   "id": "2b5f90ef",
   "metadata": {},
   "outputs": [],
   "source": [
    "numbers = [1,2,3,4,5,6,7,8,9,10]"
   ]
  },
  {
   "cell_type": "code",
   "execution_count": 35,
   "id": "3619c858",
   "metadata": {},
   "outputs": [
    {
     "name": "stdout",
     "output_type": "stream",
     "text": [
      "[1, 2, 3, 4, 5, 6, 7, 8, 9, 10, 100]\n"
     ]
    }
   ],
   "source": [
    "#1.\n",
    "numbers.append(100)\n",
    "print(numbers)"
   ]
  },
  {
   "cell_type": "code",
   "execution_count": 39,
   "id": "c77ff078",
   "metadata": {},
   "outputs": [
    {
     "name": "stdout",
     "output_type": "stream",
     "text": [
      "[1, 2, 3, 4, 5, 6, 7, 8, 9, 10, [200, 300, 400, 500]]\n"
     ]
    }
   ],
   "source": [
    "#2.\n",
    "data = [200,300,400,500]\n",
    "numbers.extend([data])\n",
    "print(numbers)"
   ]
  },
  {
   "cell_type": "code",
   "execution_count": 47,
   "id": "7c174c53",
   "metadata": {},
   "outputs": [
    {
     "name": "stdout",
     "output_type": "stream",
     "text": [
      "[1, 2, 3, 4, 5]\n"
     ]
    }
   ],
   "source": [
    "#3.\n",
    "print(numbers[0:5:])"
   ]
  },
  {
   "cell_type": "code",
   "execution_count": 63,
   "id": "a6e65a9a",
   "metadata": {},
   "outputs": [
    {
     "name": "stdout",
     "output_type": "stream",
     "text": [
      "2 4 6 8 10 "
     ]
    }
   ],
   "source": [
    "#4.\n",
    "for data in numbers:\n",
    "     if data % 2 == 0:\n",
    "        print(data, end= \" \")"
   ]
  },
  {
   "cell_type": "code",
   "execution_count": 72,
   "id": "d3ce9a9b",
   "metadata": {},
   "outputs": [
    {
     "name": "stdout",
     "output_type": "stream",
     "text": [
      "[1, 0, 3, 0, 5, 0, 7, 0, 9, 0]\n"
     ]
    }
   ],
   "source": [
    "#5.**\n",
    "for i in range(len(numbers)):\n",
    "    if numbers[i] % 2 == 0:   # 짝수라면\n",
    "        numbers[i] = 0\n",
    "[numbers[idx] if idx%2!=]\n",
    "print(numbers)"
   ]
  },
  {
   "cell_type": "code",
   "execution_count": 119,
   "id": "e6eccfa2",
   "metadata": {},
   "outputs": [
    {
     "name": "stdout",
     "output_type": "stream",
     "text": [
      "[10, 9, 8, 7, 6, 5, 4, 3, 2, 1]\n"
     ]
    }
   ],
   "source": [
    "#6.\n",
    "numbers[::-1]\n",
    "#numbers.reverse()\n",
    "print(numbers)"
   ]
  },
  {
   "cell_type": "code",
   "execution_count": 87,
   "id": "d335efa0",
   "metadata": {},
   "outputs": [],
   "source": [
    "member_info ={\"name\":\"홍길동 \", \"age\":20, \"address\":\"서울시 마포구\",\"score\":90}\n"
   ]
  },
  {
   "cell_type": "code",
   "execution_count": 88,
   "id": "b663172f",
   "metadata": {},
   "outputs": [
    {
     "name": "stdout",
     "output_type": "stream",
     "text": [
      "서울시 마포구\n"
     ]
    }
   ],
   "source": [
    "#7.\n",
    "print(member_info.get(\"address\"))"
   ]
  },
  {
   "cell_type": "code",
   "execution_count": 100,
   "id": "c3eb4a80",
   "metadata": {},
   "outputs": [
    {
     "name": "stdout",
     "output_type": "stream",
     "text": [
      "데이터가 없음\n"
     ]
    }
   ],
   "source": [
    "#8.\n",
    "# print(member_info.pop(\"score\"))\n",
    "if member_info.get('people'):\n",
    "    pass\n",
    "else:\n",
    "    print(\"데이터가 없음\")"
   ]
  },
  {
   "cell_type": "code",
   "execution_count": 93,
   "id": "43c99d0d",
   "metadata": {},
   "outputs": [
    {
     "name": "stdout",
     "output_type": "stream",
     "text": [
      "서울시 서대문구\n"
     ]
    }
   ],
   "source": [
    "member_info[\"address\"]= \"서울시 서대문구\"\n",
    "print(member_info.get(\"address\"))"
   ]
  },
  {
   "cell_type": "code",
   "execution_count": 108,
   "id": "cb6583ff",
   "metadata": {},
   "outputs": [
    {
     "data": {
      "text/plain": [
       "['홍길동 ', 20, '서울시 서대문구']"
      ]
     },
     "execution_count": 108,
     "metadata": {},
     "output_type": "execute_result"
    }
   ],
   "source": [
    "member_list = list(member_info.values())\n",
    "member_list"
   ]
  },
  {
   "cell_type": "code",
   "execution_count": 109,
   "id": "c9efcc22",
   "metadata": {},
   "outputs": [
    {
     "ename": "SyntaxError",
     "evalue": "invalid character '“' (U+201C) (1805218148.py, line 1)",
     "output_type": "error",
     "traceback": [
      "\u001b[1;36m  Cell \u001b[1;32mIn[109], line 1\u001b[1;36m\u001b[0m\n\u001b[1;33m    L1 = (“\u001b[0m\n\u001b[1;37m          ^\u001b[0m\n\u001b[1;31mSyntaxError\u001b[0m\u001b[1;31m:\u001b[0m invalid character '“' (U+201C)\n"
     ]
    }
   ],
   "source": [
    "# 서술형 1.\n",
    "# orange, apple, banana"
   ]
  },
  {
   "cell_type": "code",
   "execution_count": 110,
   "id": "44e42483",
   "metadata": {},
   "outputs": [],
   "source": [
    "#2.\n",
    "# 3번\n"
   ]
  },
  {
   "cell_type": "code",
   "execution_count": 111,
   "id": "ace4d18f",
   "metadata": {},
   "outputs": [],
   "source": [
    "#3.\n",
    "#[1,3,5]"
   ]
  },
  {
   "cell_type": "code",
   "execution_count": 112,
   "id": "11cc50b4",
   "metadata": {},
   "outputs": [],
   "source": [
    "#4.\n",
    "# expend"
   ]
  },
  {
   "cell_type": "code",
   "execution_count": 113,
   "id": "d69fc3f3",
   "metadata": {},
   "outputs": [],
   "source": [
    "#5.\n",
    "# 0 1 0 3 0 5 0 7 0 9"
   ]
  },
  {
   "cell_type": "code",
   "execution_count": 114,
   "id": "2ae28412",
   "metadata": {},
   "outputs": [],
   "source": [
    "#6.\n",
    "# 5 7 9"
   ]
  },
  {
   "cell_type": "code",
   "execution_count": 115,
   "id": "0e363841",
   "metadata": {},
   "outputs": [],
   "source": [
    "#7.\n",
    "# 0113253749"
   ]
  },
  {
   "cell_type": "code",
   "execution_count": 116,
   "id": "03b4e114",
   "metadata": {},
   "outputs": [],
   "source": [
    "#8.\n",
    "# 1번 "
   ]
  },
  {
   "cell_type": "code",
   "execution_count": 117,
   "id": "3c87fc19",
   "metadata": {},
   "outputs": [],
   "source": [
    "# 9\n",
    "# x= apple\n",
    "# y= banana\n",
    "# z = orange"
   ]
  },
  {
   "cell_type": "code",
   "execution_count": 118,
   "id": "b73bb034",
   "metadata": {},
   "outputs": [],
   "source": [
    "#10\n",
    "#3번"
   ]
  },
  {
   "cell_type": "code",
   "execution_count": 121,
   "id": "58f1536f",
   "metadata": {},
   "outputs": [],
   "source": [
    "#11\n",
    "# def "
   ]
  },
  {
   "cell_type": "markdown",
   "id": "0ec07e9d",
   "metadata": {},
   "source": [
    "<!-- ![변수타이틀](https://pynative.com/wp-content/uploads/2021/02/python-data-types.jpg) -->\n"
   ]
  },
  {
   "cell_type": "markdown",
   "id": "642c2617",
   "metadata": {},
   "source": [
    "<img src=\"https://pynative.com/wp-content/uploads/2021/02/python-data-types.jpg\"\n",
    "    style=\"float:left\"\n",
    "     width=\"500\">\n",
    "         "
   ]
  },
  {
   "cell_type": "code",
   "execution_count": null,
   "id": "414c49c2",
   "metadata": {},
   "outputs": [],
   "source": []
  }
 ],
 "metadata": {
  "kernelspec": {
   "display_name": "Python 3 (ipykernel)",
   "language": "python",
   "name": "python3"
  },
  "language_info": {
   "codemirror_mode": {
    "name": "ipython",
    "version": 3
   },
   "file_extension": ".py",
   "mimetype": "text/x-python",
   "name": "python",
   "nbconvert_exporter": "python",
   "pygments_lexer": "ipython3",
   "version": "3.10.9"
  },
  "toc": {
   "base_numbering": 1,
   "nav_menu": {},
   "number_sections": false,
   "sideBar": true,
   "skip_h1_title": false,
   "title_cell": "Table of Contents",
   "title_sidebar": "Contents",
   "toc_cell": false,
   "toc_position": {
    "height": "calc(100% - 180px)",
    "left": "10px",
    "top": "150px",
    "width": "198.25px"
   },
   "toc_section_display": true,
   "toc_window_display": true
  }
 },
 "nbformat": 4,
 "nbformat_minor": 5
}
