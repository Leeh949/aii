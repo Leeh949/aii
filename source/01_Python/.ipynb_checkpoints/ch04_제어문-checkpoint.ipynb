{
 "cells": [
  {
   "cell_type": "code",
   "execution_count": 1,
   "id": "4a78d8f9",
   "metadata": {},
   "outputs": [
    {
     "data": {
      "text/html": [
       "\n",
       "<style>\n",
       "div.container{width:90% !important;}\n",
       "div.cell.code_cell.rendered{width:100%;}\n",
       "div.input_prompt{padding:0px;}\n",
       "div.CodeMirror {font-family:Consolas; font-size:12pt;}\n",
       "div.text_cell_render.rendered_html{font-size:12pt;}\n",
       "div.output {font-size:12pt; font-weight:bold;}\n",
       "div.input {font-family:Consolas; font-size:12pt;}\n",
       "div.prompt {min-width:70px;}\n",
       "div#toc-wrapper{padding-top:120px;}\n",
       "div.text_cell_render ul li{font-size:12pt;padding:5px;}\n",
       "table.dataframe{font-size:12px;}\n",
       "</style>\n"
      ],
      "text/plain": [
       "<IPython.core.display.HTML object>"
      ]
     },
     "metadata": {},
     "output_type": "display_data"
    }
   ],
   "source": [
    "from IPython.display import display, HTML\n",
    "display(HTML(\"\"\"\n",
    "<style>\n",
    "div.container{width:90% !important;}\n",
    "div.cell.code_cell.rendered{width:100%;}\n",
    "div.input_prompt{padding:0px;}\n",
    "div.CodeMirror {font-family:Consolas; font-size:12pt;}\n",
    "div.text_cell_render.rendered_html{font-size:12pt;}\n",
    "div.output {font-size:12pt; font-weight:bold;}\n",
    "div.input {font-family:Consolas; font-size:12pt;}\n",
    "div.prompt {min-width:70px;}\n",
    "div#toc-wrapper{padding-top:120px;}\n",
    "div.text_cell_render ul li{font-size:12pt;padding:5px;}\n",
    "table.dataframe{font-size:12px;}\n",
    "</style>\n",
    "\"\"\"))\n"
   ]
  },
  {
   "cell_type": "markdown",
   "id": "2271e2aa",
   "metadata": {},
   "source": [
    "<b><font size=\"6\" color=\"red\">ch04_제어문</font></b>\n",
    "- 조건문: if문 \n",
    "- 반복문: for문(반복횟수), while문(조건에 따라 계속 반복)\n",
    "**모두 중첩가능**\n",
    "\n",
    "# 1절 조건문(if)\n",
    "```\n",
    "if 조건1:\n",
    "    조건1이 True일 경우 수행할 명령어들(들여쓰기 중요)\n",
    "    \n",
    "elif 조건2:\n",
    "    조건1이 False이고, 조건2가 True일 경우 수행할 명령어들\n",
    "    \n",
    "else:\n",
    "    모든 조건 False일 경우 수행할 명령어들\n",
    "```"
   ]
  },
  {
   "cell_type": "code",
   "execution_count": 2,
   "id": "b4dc27e1",
   "metadata": {},
   "outputs": [
    {
     "name": "stdout",
     "output_type": "stream",
     "text": [
      "Enter your score >30\n",
      "재시험 응시하셔야 합니다\n",
      "화이팅!\n"
     ]
    }
   ],
   "source": [
    "score = int(input(\"Enter your score >\"))\n",
    "if score >= 80:\n",
    "    print(\"참 잘했어요\")\n",
    "    print(\"다음에도 기대할게여\")\n",
    "elif score>= 60:\n",
    "    print(\"분발하셔요\")\n",
    "    print(\"뭐 그래도 고생하셨어요\")\n",
    "else:\n",
    "    print(\"재시험 응시하셔야 합니다\")\n",
    "    print(\"화이팅!\")"
   ]
  },
  {
   "cell_type": "code",
   "execution_count": 3,
   "id": "dba326b8",
   "metadata": {},
   "outputs": [
    {
     "name": "stdout",
     "output_type": "stream",
     "text": [
      "점수를 입력하시오: 10\n",
      "입력하신 점수10은 F학점입니다\n"
     ]
    }
   ],
   "source": [
    "# ex. 점수를 입력받아  학점출력(A,B,C,D,F, 유효하지 않는 점수)\n",
    "\n",
    "score = int(input(\"점수를 입력하시오: \"))\n",
    "if 90 <= score <= 100: \n",
    "    print(f\"입력하신 점수 {score}은 A학점입니다\")\n",
    "elif score >=80:\n",
    "    print(f\"입력하신 점수{score}은 B학점입니다\")\n",
    "elif score >=70:\n",
    "    print(f\"입력하신 점수{score}은 C학점입니다\")\n",
    "elif score >=60:\n",
    "    print(f\"입력하신 점수{score}은 D학점입니다\")\n",
    "elif 0 <= score <60 :\n",
    "    print(f\"입력하신 점수{score}은 F학점입니다\")\n",
    "else:\n",
    "    print(\"유효하지않은 점수\")"
   ]
  },
  {
   "cell_type": "markdown",
   "id": "3bbdea68",
   "metadata": {},
   "source": [
    "# 2절 반복문\n",
    "## 2.1 for = in 문\n",
    "```\n",
    "for 임시변수 in 나열가능한 자료:\n",
    "    반복할 문장1\n",
    "    반복할 문장2\n",
    "else:\n",
    "    나열 가능한 자료를 다 소요하여 for 블록을 다 수행한 후, 최종 한 번 실행할 문장들\n",
    "    for문 안에 break를 수행할 경우, else블록을 수행하지 않음(else는 선택) \n",
    "\n",
    "```"
   ]
  },
  {
   "cell_type": "code",
   "execution_count": 4,
   "id": "5c78db0b",
   "metadata": {},
   "outputs": [
    {
     "name": "stdout",
     "output_type": "stream",
     "text": [
      "1\t3\t5\t7\t9\tDONE\n",
      "END\n"
     ]
    }
   ],
   "source": [
    "for i in range(1, 10, 2):\n",
    "    print(i, end=\"\\t\")\n",
    "else:\n",
    "    print(\"DONE\")\n",
    "print(\"END\")"
   ]
  },
  {
   "cell_type": "code",
   "execution_count": 5,
   "id": "91eb5dd9",
   "metadata": {},
   "outputs": [
    {
     "name": "stdout",
     "output_type": "stream",
     "text": [
      "0\t1\t2\t3\t4\tEND\n"
     ]
    }
   ],
   "source": [
    "for i in range (10):\n",
    "    if i==5:\n",
    "        break #현재 반목문을 빠져나가\n",
    "    print(i, end=\"\\t\")\n",
    "else:\n",
    "    print(\"\\n DONE\")\n",
    "print(\"END\")"
   ]
  },
  {
   "cell_type": "code",
   "execution_count": 6,
   "id": "170d5afd",
   "metadata": {},
   "outputs": [
    {
     "name": "stdout",
     "output_type": "stream",
     "text": [
      "1~100까지의 합은 2550\n"
     ]
    }
   ],
   "source": [
    "# 1~ 100 =꺼자 합을 계산하고 출력하시오:\n",
    "sum = 0\n",
    "i = 1\n",
    "for i in range(1,101):\n",
    "    if i % 2 ==0:\n",
    "        sum += i\n",
    "else: \n",
    "    print(\"1~100까지의 합은\",sum)"
   ]
  },
  {
   "cell_type": "markdown",
   "id": "9e72c0a1",
   "metadata": {},
   "source": [
    "## 2.2 while문\n",
    "``` \n",
    "while 문:\n",
    "    조건이 True일 경우 반복할 문장들\n",
    "    else\n",
    "    조건이 False일 경우 한 번 실행할 문장들(else구문 선택사항)\n",
    "    while문 내의 break수행할 경우 else구문은 실행되지않음\n",
    "```"
   ]
  },
  {
   "cell_type": "code",
   "execution_count": 7,
   "id": "a5b1916c",
   "metadata": {},
   "outputs": [
    {
     "name": "stdout",
     "output_type": "stream",
     "text": [
      "1~100까지 짝수의 합은:  2550\n"
     ]
    }
   ],
   "source": [
    "# 1~100까지 짝수들의 합을 계산하고 출력하시오(while문)\n",
    "sum = 0 # 누적변수\n",
    "i = 1 # i값 초기화\n",
    "while i <= 100:\n",
    "    if i %2==0:\n",
    "        sum += i # sum = sum + i\n",
    "    i += 1\n",
    "else:\n",
    "    print(\"1~100까지 짝수의 합은: \",sum)"
   ]
  },
  {
   "cell_type": "markdown",
   "id": "8c789150",
   "metadata": {},
   "source": [
    "## ex1. 사용자에게 두 정수를 입력받아, 작은수부터 큰수까지 홀수의 합을 누적해서 출력\n",
    "# 두 정수를 입력\n",
    "first= int(input(\"첫번째 정수를 입력하시오\"))\n",
    "second = int(input(\"두번째 정수를 입력하시오\"))\n",
    "#first에 작은 값, second 큰 값\n",
    "# 바꿔준다\n",
    "if first > second:\n",
    "    first, second = second, first\n",
    "    \n",
    "#누적\n",
    "total = 0\n",
    "ㄱㄷ\n",
    "for i in range(first, second+1): # +1한 이유는 만약 second에 10을 넣으면 10이 안나오고 9까지 밖에 출력이 안되기 때문에 +1을 써 넣어 10을 출력한다\n",
    "    if (i % 2 == 1)| (i%2==-1):\n",
    "        total += i\n",
    "print(f\"{first}부터{second}까지의 홀수의 합은{total}입니다\")"
   ]
  },
  {
   "cell_type": "code",
   "execution_count": 9,
   "id": "62006c7c",
   "metadata": {},
   "outputs": [],
   "source": [
    "# import random\n",
    "# random.seed(3)\n",
    "# random.random() # 0이상 1미만의 실수 난수\n",
    "# random.randint(1,45) # 1~45의 정수 난수\n",
    "# result = random.choice([\"남자\",\"여자\"]\n",
    "# random.choices([\"사기꾼\",\"비사기꾼\"], weights= [0.1, 0.9])# 남자나 여자를 선택"
   ]
  },
  {
   "cell_type": "code",
   "execution_count": 10,
   "id": "0362ba4a",
   "metadata": {},
   "outputs": [
    {
     "ename": "NameError",
     "evalue": "name 'random' is not defined",
     "output_type": "error",
     "traceback": [
      "\u001b[1;31m---------------------------------------------------------------------------\u001b[0m",
      "\u001b[1;31mNameError\u001b[0m                                 Traceback (most recent call last)",
      "Cell \u001b[1;32mIn[10], line 3\u001b[0m\n\u001b[0;32m      1\u001b[0m result \u001b[38;5;241m=\u001b[39m \u001b[38;5;28mset\u001b[39m()\n\u001b[0;32m      2\u001b[0m \u001b[38;5;28;01mwhile\u001b[39;00m \u001b[38;5;28mlen\u001b[39m(result) \u001b[38;5;241m<\u001b[39m\u001b[38;5;241m6\u001b[39m:\n\u001b[1;32m----> 3\u001b[0m     result\u001b[38;5;241m.\u001b[39madd(\u001b[43mrandom\u001b[49m\u001b[38;5;241m.\u001b[39mrandint(\u001b[38;5;241m1\u001b[39m,\u001b[38;5;241m46\u001b[39m))\n\u001b[0;32m      4\u001b[0m sorted_result \u001b[38;5;241m=\u001b[39m \u001b[38;5;28msorted\u001b[39m(result)\n\u001b[0;32m      5\u001b[0m \u001b[38;5;28mprint\u001b[39m(sorted_result)\n",
      "\u001b[1;31mNameError\u001b[0m: name 'random' is not defined"
     ]
    }
   ],
   "source": [
    "result = set()\n",
    "while len(result) <6:\n",
    "    result.add(random.randint(1,46))\n",
    "sorted_result = sorted(result)\n",
    "print(sorted_result)                \n",
    "\n",
    "#result라는 변수에 set()함수를 써서 중복된 숫자가 없게 만들고 \n",
    "#while문에서 len함수로 result가 6번 반복도록한다\n",
    "#result.add로 집합을 추가한다  거기서 랜덤한 숫자 1~46까지 출력한다\n",
    "# 그다음 출력"
   ]
  },
  {
   "cell_type": "code",
   "execution_count": 11,
   "id": "68b91627",
   "metadata": {},
   "outputs": [
    {
     "ename": "SyntaxError",
     "evalue": "expected ':' (1094151069.py, line 10)",
     "output_type": "error",
     "traceback": [
      "\u001b[1;36m  Cell \u001b[1;32mIn[11], line 10\u001b[1;36m\u001b[0m\n\u001b[1;33m    for i in range(len(lotto_lst)-1)\u001b[0m\n\u001b[1;37m                                    ^\u001b[0m\n\u001b[1;31mSyntaxError\u001b[0m\u001b[1;31m:\u001b[0m expected ':'\n"
     ]
    }
   ],
   "source": [
    "lotto_lst = []\n",
    "cnt = 0\n",
    "while len (lotto_lst) < 6:\n",
    "    cnt += 1\n",
    "    temp = random.randint(1,45)\n",
    "    if not temp in lotto_lst:\n",
    "        lotto_lst.append(temp)\n",
    "print(cnt, sorted(lotto_lst))\n",
    "# 정렬 알고리즘\n",
    "for i in range(len(lotto_lst)-1)\n",
    "    for j in range(i+1, len(lotto_lst)):\n",
    "        if lotto_lst[i] > lotto_lst[j]:\n",
    "            lotto_lst[i],lotto_lst[j] =lotto_lst[j],lotto_lst[i]\n",
    "print(\"정렬후\",lotto_lst)"
   ]
  },
  {
   "cell_type": "code",
   "execution_count": 12,
   "id": "612f7f29",
   "metadata": {},
   "outputs": [
    {
     "ename": "NameError",
     "evalue": "name 'random' is not defined",
     "output_type": "error",
     "traceback": [
      "\u001b[1;31m---------------------------------------------------------------------------\u001b[0m",
      "\u001b[1;31mNameError\u001b[0m                                 Traceback (most recent call last)",
      "Cell \u001b[1;32mIn[12], line 2\u001b[0m\n\u001b[0;32m      1\u001b[0m \u001b[38;5;66;03m# 1~45중 6개뽑아 정렬\u001b[39;00m\n\u001b[1;32m----> 2\u001b[0m \u001b[38;5;28msorted\u001b[39m(\u001b[43mrandom\u001b[49m\u001b[38;5;241m.\u001b[39msample(\u001b[38;5;28mrange\u001b[39m(\u001b[38;5;241m1\u001b[39m,\u001b[38;5;241m46\u001b[39m),\u001b[38;5;241m6\u001b[39m))\n",
      "\u001b[1;31mNameError\u001b[0m: name 'random' is not defined"
     ]
    }
   ],
   "source": [
    "# 1~45중 6개뽑아 정렬\n",
    "sorted(random.sample(range(1,46),6))"
   ]
  },
  {
   "cell_type": "markdown",
   "id": "8362de3a",
   "metadata": {},
   "source": [
    "## 2.3 break, continue\n",
    "- break: 현재 반복문 탈출\n",
    "- continue: 수행중인 반복문을 멈추고 조건절로 "
   ]
  },
  {
   "cell_type": "code",
   "execution_count": 13,
   "id": "1507fdea",
   "metadata": {},
   "outputs": [
    {
     "name": "stdout",
     "output_type": "stream",
     "text": [
      "1 2 3 4 6 7 8 9 10 END\n"
     ]
    }
   ],
   "source": [
    "num = 0\n",
    "while num < 10:\n",
    "    num += 1\n",
    "    if num == 5:\n",
    "        # break\n",
    "        continue \n",
    "    print(num,end=' ')\n",
    "print('END')"
   ]
  },
  {
   "cell_type": "code",
   "execution_count": 29,
   "id": "4c1c5d2f",
   "metadata": {},
   "outputs": [
    {
     "name": "stdout",
     "output_type": "stream",
     "text": [
      "컴퓨터가 발생한 random수:  96\n",
      "1~100 사이의 수를 맞춰보세요: 10\n",
      "UP ↑\n",
      "1~100 사이의 수를 맞춰보세요: 20\n",
      "UP ↑\n",
      "1~100 사이의 수를 맞춰보세요: 30\n",
      "UP ↑\n",
      "1~100 사이의 수를 맞춰보세요: 40\n",
      "UP ↑\n",
      "1~100 사이의 수를 맞춰보세요: 90\n",
      "UP ↑\n",
      "1~100 사이의 수를 맞춰보세요: 96\n",
      "축하 축하 맞추셨습니다!\n",
      "BYE\n"
     ]
    }
   ],
   "source": [
    "# 숫자 찾기 게임 \n",
    "'''\n",
    "1~100 사이의 정수 맞추기 프로그램\n",
    "(프로그램 안에서 random수가 만들어지고, 그 random 수 맞추기)\n",
    "1단계: 숫자를 못 맞추면 UP/DOWN을 출력하고, 맞추면 축하메세지 출력하고, 종료\n",
    "2단계: 숫자를 못 맞추면 min(0), max(100)를 조정하고, 맞추면 축하메세지 출력하고 종료\n",
    "3단계: 2단계의 기회를 5회로 제한합니다. 5회의 기회가 지나면 실패 메세지 출력하고 종료.\n",
    "       5회 이내에 맞추면 축하메세지 출력하고 종료\n",
    "    (2단계와 3단계는 연습문제)\n",
    "'''\n",
    "import random\n",
    "\n",
    "randomNum = random.randint(1,100)\n",
    "print(\"컴퓨터가 발생한 random수: \",randomNum)\n",
    "\n",
    "inputNum = - 1\n",
    "\n",
    "while True:\n",
    "    inputNum = int(input(\"1~100 사이의 수를 맞춰보세요: \"))\n",
    "    if(inputNum<1) | (inputNum >100):\n",
    "        print(\"수의 범위를 벗어났습니다.\")\n",
    "    elif randomNum < inputNum:\n",
    "        print(\"DOWN ↓\")\n",
    "    elif randomNum > inputNum:\n",
    "        print(\"UP ↑\")\n",
    "    else:\n",
    "        print(\"축하 축하 맞추셨습니다!\")\n",
    "        break\n",
    "print(\"BYE\")"
   ]
  },
  {
   "cell_type": "markdown",
   "id": "97f8738e",
   "metadata": {},
   "source": [
    "# 3절 중첩루프\n",
    "(반복문 안의 반복문)"
   ]
  },
  {
   "cell_type": "code",
   "execution_count": 15,
   "id": "fd1989a9",
   "metadata": {},
   "outputs": [
    {
     "name": "stdout",
     "output_type": "stream",
     "text": [
      "     1단     \t     2단     \t     3단     \t     4단     \t     5단     \t     6단     \t     7단     \t     8단     \t     9단     \t\n",
      "   1x1=1    \t   2x1=2    \t   3x1=3    \t   4x1=4    \t   5x1=5    \t   6x1=6    \t   7x1=7    \t   8x1=8    \t   9x1=9    \t\n",
      "   1x2=2    \t   2x2=4    \t   3x2=6    \t   4x2=8    \t   5x2=10   \t   6x2=12   \t   7x2=14   \t   8x2=16   \t   9x2=18   \t\n",
      "   1x3=3    \t   2x3=6    \t   3x3=9    \t   4x3=12   \t   5x3=15   \t   6x3=18   \t   7x3=21   \t   8x3=24   \t   9x3=27   \t\n",
      "   1x4=4    \t   2x4=8    \t   3x4=12   \t   4x4=16   \t   5x4=20   \t   6x4=24   \t   7x4=28   \t   8x4=32   \t   9x4=36   \t\n",
      "   1x5=5    \t   2x5=10   \t   3x5=15   \t   4x5=20   \t   5x5=25   \t   6x5=30   \t   7x5=35   \t   8x5=40   \t   9x5=45   \t\n",
      "   1x6=6    \t   2x6=12   \t   3x6=18   \t   4x6=24   \t   5x6=30   \t   6x6=36   \t   7x6=42   \t   8x6=48   \t   9x6=54   \t\n",
      "   1x7=7    \t   2x7=14   \t   3x7=21   \t   4x7=28   \t   5x7=35   \t   6x7=42   \t   7x7=49   \t   8x7=56   \t   9x7=63   \t\n",
      "   1x8=8    \t   2x8=16   \t   3x8=24   \t   4x8=32   \t   5x8=40   \t   6x8=48   \t   7x8=56   \t   8x8=64   \t   9x8=72   \t\n",
      "   1x9=9    \t   2x9=18   \t   3x9=27   \t   4x9=36   \t   5x9=45   \t   6x9=54   \t   7x9=63   \t   8x9=72   \t   9x9=81   \t\n"
     ]
    }
   ],
   "source": [
    "# 2~9단 구구단 출력\n",
    "for i in range(1, 10):\n",
    "    print(\"{:^12}\".format(str(i) + '단'), end=\"\\t\")  # 폭을 넉넉히 잡아야 가운데 정렬이 티남\n",
    "print()\n",
    "\n",
    "for i in range(1, 10):\n",
    "    for j in range(1, 10):\n",
    "        print(\"{:^12}\".format(f\"{j}x{i}={i*j}\"), end=\"\\t\")  # 구구단 전체를 가운데 정렬\n",
    "    print()\n"
   ]
  },
  {
   "cell_type": "code",
   "execution_count": 16,
   "id": "88d52a71",
   "metadata": {},
   "outputs": [
    {
     "name": "stdout",
     "output_type": "stream",
     "text": [
      "0행0열 : 1\t0행1열 : 2\t0행2열 : 3\t0행3열 : 4\t1행0열 : 5\t1행1열 : 6\t1행2열 : 7\t1행3열 : 8\t\n"
     ]
    }
   ],
   "source": [
    "lst_2d = [[1,2,3,4],[5,6,7,8]]\n",
    "\n",
    "for i in range(len(lst_2d)):\n",
    "    for j in range(len(lst_2d[i])):\n",
    "        print(\"{}행{}열 : {}\".format(i, j, lst_2d[i][j]), end=\"\\t\")\n",
    "print()"
   ]
  },
  {
   "cell_type": "markdown",
   "id": "e9900040",
   "metadata": {},
   "source": [
    "# 4절 중첩루프 탈출"
   ]
  },
  {
   "cell_type": "code",
   "execution_count": 17,
   "id": "c1ccb544",
   "metadata": {},
   "outputs": [
    {
     "ename": "NameError",
     "evalue": "name 'flag' is not defined",
     "output_type": "error",
     "traceback": [
      "\u001b[1;31m---------------------------------------------------------------------------\u001b[0m",
      "\u001b[1;31mNameError\u001b[0m                                 Traceback (most recent call last)",
      "Cell \u001b[1;32mIn[17], line 3\u001b[0m\n\u001b[0;32m      1\u001b[0m \u001b[38;5;66;03m# 중첩 루프 탈출 방법1. flag변수 이용\u001b[39;00m\n\u001b[1;32m----> 3\u001b[0m \u001b[43mflag\u001b[49m \u001b[38;5;241m-\u001b[39m \u001b[38;5;28;01mFalse\u001b[39;00m \u001b[38;5;66;03m# break를 만나면 True\u001b[39;00m\n\u001b[0;32m      5\u001b[0m \u001b[38;5;28;01mfor\u001b[39;00m a \u001b[38;5;129;01min\u001b[39;00m \u001b[38;5;28mrange\u001b[39m(\u001b[38;5;241m0\u001b[39m,\u001b[38;5;241m3\u001b[39m): \u001b[38;5;66;03m# a=0일때 1일때, 2일때\u001b[39;00m\n\u001b[0;32m      6\u001b[0m     \u001b[38;5;28;01mfor\u001b[39;00m b \u001b[38;5;129;01min\u001b[39;00m \u001b[38;5;28mrange\u001b[39m (\u001b[38;5;241m1\u001b[39m,\u001b[38;5;241m3\u001b[39m): \u001b[38;5;66;03m# b=1일때, 2일때\u001b[39;00m\n",
      "\u001b[1;31mNameError\u001b[0m: name 'flag' is not defined"
     ]
    }
   ],
   "source": [
    "# 중첩 루프 탈출 방법1. flag변수 이용\n",
    "\n",
    "flag - False # break를 만나면 True\n",
    "\n",
    "for a in range(0,3): # a=0일때 1일때, 2일때\n",
    "    for b in range (1,3): # b=1일때, 2일때\n",
    "        if a==b:\n",
    "            flag = True\n",
    "            break\n",
    "        print(a,b)\n",
    "    # break를 만나면 오는 곳\n",
    "\n",
    "    if flag:\n",
    "        break\n",
    "print('DONE')"
   ]
  },
  {
   "cell_type": "code",
   "execution_count": null,
   "id": "038bf2b7",
   "metadata": {},
   "outputs": [],
   "source": [
    "# 중첩 루프 탈출 방법2. 예외(Exception) 처리 이용 -9/29일쯤 "
   ]
  },
  {
   "cell_type": "markdown",
   "id": "8c1bcae7",
   "metadata": {},
   "source": [
    "# 5절 연습문제"
   ]
  },
  {
   "cell_type": "code",
   "execution_count": 38,
   "id": "6d5230ff",
   "metadata": {
    "scrolled": true
   },
   "outputs": [
    {
     "name": "stdout",
     "output_type": "stream",
     "text": [
      "양의 정수를 입력하세요:2\n",
      "inputStr이 정수인지 여부:  True\n",
      "입력하신 양의 정수는 2이고 짝수입니다.\n"
     ]
    }
   ],
   "source": [
    "#1번\n",
    "inputStr = input('양의 정수를 입력하세요:')\n",
    "print('inputStr이 정수인지 여부: ',inputStr.isdigit())\n",
    "while (inputStr.isdigit()==False)|(inputStr=='0'):\n",
    "    inputStr = input('양의 정수를 입력하세요: ')\n",
    "inputNum = int(inputStr)\n",
    "even_odd = '홀수' if inputNum % 2 else '짝수'\n",
    "if inputNum%2:\n",
    "    even_odd = '홀수'\n",
    "else:\n",
    "    even_odd = '짝수'\n",
    "print(f\"입력하신 양의 정수는 {inputNum}이고 {even_odd}입니다.\")\n",
    "    \n",
    "        \n",
    "    \n",
    "    "
   ]
  },
  {
   "cell_type": "code",
   "execution_count": 19,
   "id": "cc05a5ee",
   "metadata": {},
   "outputs": [
    {
     "name": "stdout",
     "output_type": "stream",
     "text": [
      " *****\n",
      " *****\n",
      " *****\n",
      " *****\n",
      " *****\n"
     ]
    }
   ],
   "source": [
    "#2-1번\n",
    "# star스트링 기본값: *\n",
    "# 반복문 0번~4번까지 반복\n",
    "# 기본값 * X 5 를하여 *****이 출력 되고 5번해서 출력됨\n",
    "\n",
    "star ='*'\n",
    "\n",
    "for i in range(5):\n",
    "    print(\"\",star*5)"
   ]
  },
  {
   "cell_type": "code",
   "execution_count": 20,
   "id": "26fe603b",
   "metadata": {},
   "outputs": [
    {
     "name": "stdout",
     "output_type": "stream",
     "text": [
      "*\n",
      "**\n",
      "***\n",
      "****\n",
      "*****\n"
     ]
    }
   ],
   "source": [
    "#2-2번\n",
    "#해설 star스트링타입 기본값 *로 지정\n",
    "#반복문으로 0번에서 5번 놀림\n",
    "#한 번 반복되고 *을 추가하는식\n",
    "\n",
    "star =\"*\"\n",
    "\n",
    "for j in range(5):\n",
    "    print(star)\n",
    "    star += \"*\"\n",
    "        "
   ]
  },
  {
   "cell_type": "code",
   "execution_count": 21,
   "id": "96008dba",
   "metadata": {},
   "outputs": [
    {
     "name": "stdout",
     "output_type": "stream",
     "text": [
      "165\n"
     ]
    }
   ],
   "source": [
    "#3번\n",
    "# #정수 받기\n",
    "# first = (int(input(\"1부터30까지의 첫번째 정수:\")))\n",
    "# second = (int(input(\"1부터30까지의 두번째 정수:\")))\n",
    "# #빈 그릇\n",
    "sum = 0\n",
    "#반복문 \n",
    "for i in range (1,31): #1부터 31까지의 숫자\n",
    "    if i % 3 == 0: #3의 배수 찾기\n",
    "        sum = sum+i\n",
    "    else:\n",
    "        pass\n",
    "print(sum)"
   ]
  },
  {
   "cell_type": "code",
   "execution_count": 22,
   "id": "be3075cf",
   "metadata": {},
   "outputs": [
    {
     "name": "stdout",
     "output_type": "stream",
     "text": [
      "1 3 5 7 9 "
     ]
    }
   ],
   "source": [
    "#4번\n",
    "\n",
    "#해설: num기본값 1지정 num= 10미만까지 반복\n",
    "#num에서 나머지가 1(홀수)이면 출력\n",
    "# 그래서 1,3,5,7,9가 출력된다\n",
    "num = 1\n",
    "while num < 10:\n",
    "    \n",
    "    if num % 2 == 1:\n",
    "        print(num, end=' ')\n",
    "        num += 2\n",
    "    else:\n",
    "        pass"
   ]
  },
  {
   "cell_type": "code",
   "execution_count": 23,
   "id": "c129d240",
   "metadata": {},
   "outputs": [
    {
     "name": "stdout",
     "output_type": "stream",
     "text": [
      "1\t2\t3\t\n",
      "4\t5\t6\t7\t\n",
      "8\t9\t\n"
     ]
    }
   ],
   "source": [
    "#5번\n",
    "\n",
    "#list_2d 변수에 [[1,2,3],[4,5,6,7],[8,9]] 값을 넣는다\n",
    "#반복문 i 값 안에 list_2d값을 넣고 \n",
    "# 반복을 돌려 i를 data에 또 넣는다\n",
    "#그래서 밑에 결과와 같이 출력 된다\n",
    "list_2d = [[1,2,3],[4,5,6,7],[8,9]]\n",
    "for i in list_2d:\n",
    "    for data in i:\n",
    "        print(data,end='\\t')\n",
    "    print()"
   ]
  },
  {
   "cell_type": "code",
   "execution_count": 24,
   "id": "aa991576",
   "metadata": {},
   "outputs": [
    {
     "name": "stdout",
     "output_type": "stream",
     "text": [
      "0 apple \n",
      "1 banana\n"
     ]
    }
   ],
   "source": [
    "#6번\n",
    "# 다음 빈칸에 들어갈 함수 이름은\n",
    "\n",
    "#해설: 딕셔너리에 red:apple는 red는 키 값 apple는 item, values \n",
    "\n",
    "colors = {\"red\":'apple ', \"yellow\":'banana'}\n",
    "\n",
    "for i,v in enumerate(colors.values()):\n",
    "    print(i,v)"
   ]
  },
  {
   "cell_type": "code",
   "execution_count": 25,
   "id": "1ab04ffa",
   "metadata": {},
   "outputs": [
    {
     "name": "stdout",
     "output_type": "stream",
     "text": [
      "1 1\n"
     ]
    }
   ],
   "source": [
    "# 7번\n",
    "# 1 1\n",
    "for i in range(0, 2):\n",
    "    \n",
    "    for j in range(0,2):\n",
    "        if i == j:\n",
    "            break\n",
    "print( i ,j)"
   ]
  },
  {
   "cell_type": "code",
   "execution_count": 26,
   "id": "d90b5c1d",
   "metadata": {},
   "outputs": [],
   "source": [
    "#8번\n",
    "# 2번"
   ]
  },
  {
   "cell_type": "code",
   "execution_count": 27,
   "id": "795fc9e1",
   "metadata": {},
   "outputs": [
    {
     "name": "stdout",
     "output_type": "stream",
     "text": [
      "3 5 7 9 "
     ]
    }
   ],
   "source": [
    "#9번\n",
    "# 다음 코드의 실행결과는 3, 5, 7, 9\n",
    "L = [3, 4, 5, 6, 7, 8, 9, 10]\n",
    "for i , data in enumerate(L):\n",
    "\n",
    "    if i%2 == 0:\n",
    "        print(data, end=' ')\n",
    "# L리스트에서 입력된 값에서 부터 짝수로 나눠 시작점 3=0, 5=2, 7=4, 9=6 라서 3, 5, 7, 9가 출력 되는 거 같다"
   ]
  },
  {
   "cell_type": "code",
   "execution_count": 30,
   "id": "f3e9630a",
   "metadata": {},
   "outputs": [
    {
     "name": "stdout",
     "output_type": "stream",
     "text": [
      "컴퓨터가 발생한 random수:  65\n",
      "1~100 사이의 수를 맞춰보세요: 65\n",
      "축하 축하 맞추셨습니다!\n",
      "BYE\n"
     ]
    }
   ],
   "source": [
    "# 10번\n",
    "import random\n",
    "\n",
    "randomNum = random.randint(1,100)\n",
    "print(\"컴퓨터가 발생한 random수: \",randomNum)\n",
    "\n",
    "inputNum = - 1\n",
    "\n",
    "while True:\n",
    "    inputNum = int(input(\"1~100 사이의 수를 맞춰보세요: \"))\n",
    "    if(inputNum<1) | (inputNum >100):\n",
    "        print(\"수의 범위를 벗어났습니다.\")\n",
    "    elif randomNum < inputNum:\n",
    "        print(\"DOWN ↓\")\n",
    "    elif randomNum > inputNum:\n",
    "        print(\"UP ↑\")\n",
    "    else:\n",
    "        print(\"축하 축하 맞추셨습니다!\")\n",
    "        break\n",
    "print(\"BYE\")"
   ]
  },
  {
   "cell_type": "code",
   "execution_count": 36,
   "id": "e75dde77",
   "metadata": {},
   "outputs": [
    {
     "name": "stdout",
     "output_type": "stream",
     "text": [
      "컴퓨터가 발생한 random수:  74\n",
      "1~100 사이의 수를 맞춰보세요: 30\n",
      "수의 범위를 벗어났습니다. 수의 범위는1~100이고, 30을 입력\n",
      "UP ↑\n",
      "1~100 사이의 수를 맞춰보세요: 20\n",
      "수의 범위를 벗어났습니다. 수의 범위는1~100이고, 20을 입력\n",
      "UP ↑\n",
      "1~100 사이의 수를 맞춰보세요: 20\n",
      "수의 범위를 벗어났습니다. 수의 범위는1~100이고, 20을 입력\n",
      "UP ↑\n",
      "1~100 사이의 수를 맞춰보세요: 74\n",
      "축하 축하 맞추셨습니다!\n",
      "BYE\n"
     ]
    }
   ],
   "source": [
    "#10-1번\n",
    "import random\n",
    "\n",
    "\n",
    "randomNum = random.randint(min,max)\n",
    "print(\"컴퓨터가 발생한 random수: \",randomNum)\n",
    "min_ = 1\n",
    "max_ = 100\n",
    "inputNum = - 1\n",
    "\n",
    "while True:\n",
    "    inputNum = int(input(\"1~100 사이의 수를 맞춰보세요: \"))\n",
    "    if(inputNum<1) | (inputNum >100):\n",
    "        print(\"수의 범위를 벗어났습니다.\")\n",
    "    elif randomNum < inputNum:\n",
    "        print(f\"수의 범위를 벗어났습니다. 수의 범위는{min}~{max}이고, {inputNum}을 입력\")\n",
    "        print(\"DOWN ↓\")\n",
    "    elif randomNum > inputNum:\n",
    "        print(f\"수의 범위를 벗어났습니다. 수의 범위는{min}~{max}이고, {inputNum}을 입력\")\n",
    "        print(\"UP ↑\")\n",
    "    else:\n",
    "        print(\"축하 축하 맞추셨습니다!\")\n",
    "        break\n",
    "print(\"BYE\")"
   ]
  },
  {
   "cell_type": "code",
   "execution_count": null,
   "id": "e15b2446",
   "metadata": {},
   "outputs": [],
   "source": []
  }
 ],
 "metadata": {
  "kernelspec": {
   "display_name": "Python 3 (ipykernel)",
   "language": "python",
   "name": "python3"
  },
  "language_info": {
   "codemirror_mode": {
    "name": "ipython",
    "version": 3
   },
   "file_extension": ".py",
   "mimetype": "text/x-python",
   "name": "python",
   "nbconvert_exporter": "python",
   "pygments_lexer": "ipython3",
   "version": "3.10.9"
  },
  "toc": {
   "base_numbering": 1,
   "nav_menu": {},
   "number_sections": false,
   "sideBar": true,
   "skip_h1_title": false,
   "title_cell": "Table of Contents",
   "title_sidebar": "Contents",
   "toc_cell": false,
   "toc_position": {
    "height": "calc(100% - 180px)",
    "left": "10px",
    "top": "150px",
    "width": "275px"
   },
   "toc_section_display": true,
   "toc_window_display": true
  }
 },
 "nbformat": 4,
 "nbformat_minor": 5
}
