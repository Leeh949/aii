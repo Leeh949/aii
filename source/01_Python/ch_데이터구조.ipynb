{
 "cells": [
  {
   "cell_type": "code",
   "execution_count": 1,
   "id": "07cf147e",
   "metadata": {},
   "outputs": [
    {
     "data": {
      "text/html": [
       "\n",
       "<style>\n",
       "div.container{width:90% !important;}\n",
       "div.cell.code_cell.rendered{width:100%;}\n",
       "div.input_prompt{padding:0px;}\n",
       "div.CodeMirror {font-family:Consolas; font-size:12pt;}\n",
       "div.text_cell_render.rendered_html{font-size:12pt;}\n",
       "div.output {font-size:12pt; font-weight:bold;}\n",
       "div.input {font-family:Consolas; font-size:12pt;}\n",
       "div.prompt {min-width:70px;}\n",
       "div#toc-wrapper{padding-top:120px;}\n",
       "div.text_cell_render ul li{font-size:12pt;padding:5px;}\n",
       "table.dataframe{font-size:12px;}\n",
       "</style>\n"
      ],
      "text/plain": [
       "<IPython.core.display.HTML object>"
      ]
     },
     "metadata": {},
     "output_type": "display_data"
    }
   ],
   "source": [
    "from IPython.display import display, HTML\n",
    "display(HTML(\"\"\"\n",
    "<style>\n",
    "div.container{width:90% !important;}\n",
    "div.cell.code_cell.rendered{width:100%;}\n",
    "div.input_prompt{padding:0px;}\n",
    "div.CodeMirror {font-family:Consolas; font-size:12pt;}\n",
    "div.text_cell_render.rendered_html{font-size:12pt;}\n",
    "div.output {font-size:12pt; font-weight:bold;}\n",
    "div.input {font-family:Consolas; font-size:12pt;}\n",
    "div.prompt {min-width:70px;}\n",
    "div#toc-wrapper{padding-top:120px;}\n",
    "div.text_cell_render ul li{font-size:12pt;padding:5px;}\n",
    "table.dataframe{font-size:12px;}\n",
    "</style>\n",
    "\"\"\"))\n"
   ]
  },
  {
   "cell_type": "markdown",
   "id": "939b4ffa",
   "metadata": {},
   "source": [
    "<b><font size= \"6\" color=\"red\">ch03.데이터구조</font></b>\n",
    "\n",
    "- 리스트[80,90], 튜플(90,20), 딕셔너리{\"name\",\"홍\",\"score\":99}, 셋{10,20} \n",
    "# 1절 리스트\n",
    "## 1.1 리스트 만들기\n",
    "- []를 이용해서 만들며, 여러개 값(여러 타입)을 하나의 변수에 저장/ 관리할 수 있음\n",
    "- list()함수 이용도 가능 \n",
    "- 인덱스: 각 요소의 위치. 인덱스는 0부터 시작. 맨마지막 인덱스는 -1\n",
    "- 슬라이싱([from:to:step]) : 부분 데이터셋 추출\n",
    "- 인덱스와 슬라이싱을 이용해서 쓰기와 읽기 지원\n"
   ]
  },
  {
   "cell_type": "code",
   "execution_count": 14,
   "id": "57e05bde",
   "metadata": {},
   "outputs": [
    {
     "data": {
      "text/plain": [
       "list"
      ]
     },
     "execution_count": 14,
     "metadata": {},
     "output_type": "execute_result"
    }
   ],
   "source": [
    "fruit = 'banana'\n",
    "fruits = ['banana', 'apple','orange','grape']\n",
    " \n",
    "type(fruits)"
   ]
  },
  {
   "cell_type": "code",
   "execution_count": 15,
   "id": "7679f22b",
   "metadata": {},
   "outputs": [
    {
     "name": "stdout",
     "output_type": "stream",
     "text": [
      "['banana', 'apple', 'orange', 'grape']\n",
      "apple\n"
     ]
    },
    {
     "ename": "IndexError",
     "evalue": "list index out of range",
     "output_type": "error",
     "traceback": [
      "\u001b[1;31m---------------------------------------------------------------------------\u001b[0m",
      "\u001b[1;31mIndexError\u001b[0m                                Traceback (most recent call last)",
      "Cell \u001b[1;32mIn[15], line 3\u001b[0m\n\u001b[0;32m      1\u001b[0m \u001b[38;5;28mprint\u001b[39m(fruits)\n\u001b[0;32m      2\u001b[0m \u001b[38;5;28mprint\u001b[39m (fruits[\u001b[38;5;241m1\u001b[39m]) \u001b[38;5;66;03m#인덱싱을 이용한 읽기 \u001b[39;00m\n\u001b[1;32m----> 3\u001b[0m \u001b[38;5;28mprint\u001b[39m(\u001b[43mfruits\u001b[49m\u001b[43m[\u001b[49m\u001b[38;5;241;43m4\u001b[39;49m\u001b[43m]\u001b[49m)\n",
      "\u001b[1;31mIndexError\u001b[0m: list index out of range"
     ]
    }
   ],
   "source": [
    "print(fruits)\n",
    "print (fruits[1]) #인덱싱을 이용한 읽기 \n",
    "print(fruits[4]) # 없는 인덱싱시 에러"
   ]
  },
  {
   "cell_type": "code",
   "execution_count": 16,
   "id": "8fc03246",
   "metadata": {},
   "outputs": [
    {
     "name": "stdout",
     "output_type": "stream",
     "text": [
      "['mango', 'apple', 'orange', 'grape']\n"
     ]
    }
   ],
   "source": [
    "fruits[0] = 'mango' # 인덱싱을 이용한 쓰기\n",
    "print(fruits)\n"
   ]
  },
  {
   "cell_type": "code",
   "execution_count": 10,
   "id": "ce07e790",
   "metadata": {},
   "outputs": [
    {
     "name": "stdout",
     "output_type": "stream",
     "text": [
      "x= mango\n",
      "y= apple\n",
      "z= orange\n"
     ]
    }
   ],
   "source": [
    "fruits = [\"mango\",\"apple\",\"orange\"]\n",
    "x,y,z = [\"mango\",\"apple\",\"orange\"]\n",
    "\n",
    "print(f\"x= {x}\")\n",
    "print(f\"y= {y}\")\n",
    "print(f\"z= {z}\")"
   ]
  },
  {
   "cell_type": "code",
   "execution_count": 11,
   "id": "d065cf89",
   "metadata": {},
   "outputs": [
    {
     "data": {
      "text/plain": [
       "range(0, 10)"
      ]
     },
     "execution_count": 11,
     "metadata": {},
     "output_type": "execute_result"
    }
   ],
   "source": [
    "# range(from, to, by): from부터 to앞까지 by씩 증가하는 나열 가능한 자료\n",
    "    # 숫자를 순차적으로 사용할 수 있게\n",
    "    # from 생략시 0, by생략시 1\n",
    "range(0,10) # [0,1,2,3,4,5,6,7,8,9]"
   ]
  },
  {
   "cell_type": "code",
   "execution_count": 12,
   "id": "6541d37e",
   "metadata": {},
   "outputs": [
    {
     "data": {
      "text/plain": [
       "[0, 1, 2, 3, 4, 5, 6, 7, 8, 9]"
      ]
     },
     "execution_count": 12,
     "metadata": {},
     "output_type": "execute_result"
    }
   ],
   "source": [
    "list(range(10))"
   ]
  },
  {
   "cell_type": "code",
   "execution_count": 15,
   "id": "a60a0e4b",
   "metadata": {},
   "outputs": [
    {
     "data": {
      "text/plain": [
       "[10, 9, 8, 7, 6, 5, 4, 3, 2, 1, 0]"
      ]
     },
     "execution_count": 15,
     "metadata": {},
     "output_type": "execute_result"
    }
   ],
   "source": [
    "list(range(10,-1,-1))"
   ]
  },
  {
   "cell_type": "code",
   "execution_count": 28,
   "id": "94d0fd50",
   "metadata": {},
   "outputs": [
    {
     "name": "stdout",
     "output_type": "stream",
     "text": [
      "1\n",
      "1\n",
      "1\n",
      "1\n"
     ]
    }
   ],
   "source": [
    "for i in range(4):\n",
    "    print(\"1\")"
   ]
  },
  {
   "cell_type": "code",
   "execution_count": 4,
   "id": "6728b55b",
   "metadata": {},
   "outputs": [
    {
     "name": "stdout",
     "output_type": "stream",
     "text": [
      "0번째 과일은mango\n",
      "1번째 과일은apple\n",
      "2번째 과일은orange\n"
     ]
    }
   ],
   "source": [
    "fruits = [\"mango\",\"apple\",\"orange\"]\n",
    "#print(\"{}번째 과일은 {}\".format(0,fruits[0]))\n",
    "#print(\"{}번째 과일은 {}\".format(1,fruits[1]))\n",
    "#print(\"{}번째 과일은 {}\".format(2,fruits[2]))\n",
    "\n",
    "for idx in range(len(fruits)):\n",
    "    print(\"{}번째 과일은{}\".format(idx, fruits[idx]))\n"
   ]
  },
  {
   "cell_type": "code",
   "execution_count": 17,
   "id": "3036fd4e",
   "metadata": {},
   "outputs": [
    {
     "data": {
      "text/plain": [
       "[(0, 'mango'), (1, 'apple'), (2, 'orange'), (3, 'grape')]"
      ]
     },
     "execution_count": 17,
     "metadata": {},
     "output_type": "execute_result"
    }
   ],
   "source": [
    "list (enumerate(fruits))"
   ]
  },
  {
   "cell_type": "code",
   "execution_count": 18,
   "id": "136e2ee3",
   "metadata": {},
   "outputs": [
    {
     "name": "stdout",
     "output_type": "stream",
     "text": [
      "0번째 과일은 mango\n",
      "1번째 과일은 apple\n",
      "2번째 과일은 orange\n",
      "3번째 과일은 grape\n"
     ]
    }
   ],
   "source": [
    "for i, fruit in enumerate(fruits): #[(0, 'mango'), (1, 'apple'), (2, 'orange')]:\n",
    "    print(f\"{i}번째 과일은 {fruit}\")"
   ]
  },
  {
   "cell_type": "code",
   "execution_count": 20,
   "id": "d0e494c8",
   "metadata": {},
   "outputs": [
    {
     "name": "stdout",
     "output_type": "stream",
     "text": [
      "mango입니다\n",
      "apple입니다\n",
      "orange입니다\n",
      "grape입니다\n"
     ]
    }
   ],
   "source": [
    "for fruit in fruits:\n",
    "    print(f\"{fruit}입니다\")"
   ]
  },
  {
   "cell_type": "code",
   "execution_count": 26,
   "id": "71865bb0",
   "metadata": {},
   "outputs": [
    {
     "data": {
      "text/plain": [
       "('2', 5)"
      ]
     },
     "execution_count": 26,
     "metadata": {},
     "output_type": "execute_result"
    }
   ],
   "source": [
    "#리스트는 여러타입의 데이터를 담을 수 있음\n",
    "numbers = [0, True, \"2\",[2,3],[4,5,6]] #세세한 정보를 출력하려면 4번째에서 출력하려는 것을 []로 추출한다\n",
    "numbers[2], numbers[4][1]"
   ]
  },
  {
   "cell_type": "code",
   "execution_count": 32,
   "id": "d7cd9492",
   "metadata": {},
   "outputs": [
    {
     "name": "stdout",
     "output_type": "stream",
     "text": [
      "[[1, 2, 3, 4, 5], [10, 20, 30, 40, 50], [1, 3, 5, 7, 9], [2, 4, 6, 8, 10]]\n"
     ]
    }
   ],
   "source": [
    "#2차원 리스트 \n",
    "numbers = [1,2,3,4,5]\n",
    "numbers_2d = [[1,2,3,4,5],[10,20,30,40,50],[1,3,5,7,9],[2,4,6,8,10]]\n",
    "print(numbers_2d)"
   ]
  },
  {
   "cell_type": "code",
   "execution_count": 33,
   "id": "84cf906b",
   "metadata": {},
   "outputs": [
    {
     "data": {
      "text/plain": [
       "50"
      ]
     },
     "execution_count": 33,
     "metadata": {},
     "output_type": "execute_result"
    }
   ],
   "source": [
    "# 특정행, 특정열 데이터 인덱싱\n",
    "numbers_2d[1][4]"
   ]
  },
  {
   "cell_type": "code",
   "execution_count": 34,
   "id": "fd3ea03f",
   "metadata": {},
   "outputs": [
    {
     "name": "stdout",
     "output_type": "stream",
     "text": [
      "4 5\n"
     ]
    }
   ],
   "source": [
    "print(len(numbers_2d),len(numbers_2d[0]))"
   ]
  },
  {
   "cell_type": "code",
   "execution_count": 43,
   "id": "ac713444",
   "metadata": {},
   "outputs": [
    {
     "name": "stdout",
     "output_type": "stream",
     "text": [
      "1\t2\t3\t4\t5\t\n",
      "10\t20\t30\t40\t50\t\n",
      "1\t3\t5\t7\t9\t\n",
      "2\t4\t6\t8\t10\t\n"
     ]
    }
   ],
   "source": [
    "for row in numbers_2d:\n",
    "    for item in row:\n",
    "        print(item, end='\\t')\n",
    "    print()"
   ]
  },
  {
   "cell_type": "code",
   "execution_count": 49,
   "id": "a54a1915",
   "metadata": {},
   "outputs": [
    {
     "name": "stdout",
     "output_type": "stream",
     "text": [
      "0행0열:1\t0행1열:2\t0행2열:3\t0행3열:4\t0행4열:5\t\n",
      "1행0열:10\t1행1열:20\t1행2열:30\t1행3열:40\t1행4열:50\t\n",
      "2행0열:1\t2행1열:3\t2행2열:5\t2행3열:7\t2행4열:9\t\n",
      "3행0열:2\t3행1열:4\t3행2열:6\t3행3열:8\t3행4열:10\t\n"
     ]
    }
   ],
   "source": [
    "for i in range(len(numbers_2d)): #i : 행 #\n",
    "    for j in range(len(numbers_2d[i])): # j:열\n",
    "        print(f\"{i}행{j}열:{numbers_2d[i][j]}\",end=\"\\t\")\n",
    "    print()\n",
    "    \n",
    "#"
   ]
  },
  {
   "cell_type": "code",
   "execution_count": 50,
   "id": "ea740e77",
   "metadata": {},
   "outputs": [
    {
     "data": {
      "text/plain": [
       "(4, 5, 5, 5)"
      ]
     },
     "execution_count": 50,
     "metadata": {},
     "output_type": "execute_result"
    }
   ],
   "source": [
    "len(numbers_2d),len(numbers_2d[0]),len(numbers_2d[1]),len(numbers_2d[2])"
   ]
  },
  {
   "cell_type": "code",
   "execution_count": 55,
   "id": "94f09adf",
   "metadata": {},
   "outputs": [
    {
     "data": {
      "text/plain": [
       "([(0, [1, 2, 3, 4, 5]),\n",
       "  (1, [10, 20, 30, 40, 50]),\n",
       "  (2, [1, 3, 5, 7, 9]),\n",
       "  (3, [2, 4, 6, 8, 10])],\n",
       " [(0, 1), (1, 2), (2, 3), (3, 4), (4, 5)])"
      ]
     },
     "execution_count": 55,
     "metadata": {},
     "output_type": "execute_result"
    }
   ],
   "source": [
    "list (enumerate(numbers_2d)), list (enumerate(numbers_2d[0]))"
   ]
  },
  {
   "cell_type": "code",
   "execution_count": 59,
   "id": "4fcdfbfd",
   "metadata": {},
   "outputs": [
    {
     "name": "stdout",
     "output_type": "stream",
     "text": [
      "0행,0열:1\t0행,1열:2\t0행,2열:3\t0행,3열:4\t0행,4열:5\t\n",
      "1행,0열:10\t1행,1열:20\t1행,2열:30\t1행,3열:40\t1행,4열:50\t\n",
      "2행,0열:1\t2행,1열:3\t2행,2열:5\t2행,3열:7\t2행,4열:9\t\n",
      "3행,0열:2\t3행,1열:4\t3행,2열:6\t3행,3열:8\t3행,4열:10\t\n"
     ]
    }
   ],
   "source": [
    "for i, row in enumerate(numbers_2d):\n",
    "    for j, item in enumerate(numbers_2d[i]):\n",
    "        print(f\"{i}행,{j}열:{numbers_2d[i][j]}\", end=\"\\t\")\n",
    "    print()"
   ]
  },
  {
   "cell_type": "markdown",
   "id": "a7148496",
   "metadata": {},
   "source": [
    "## 1.2 기본 정보 조회\n"
   ]
  },
  {
   "cell_type": "code",
   "execution_count": 67,
   "id": "bbf0466c",
   "metadata": {},
   "outputs": [],
   "source": [
    "numbers = [1,12,3,4,5]\n",
    "numbers_2d = [[100,0,1],\n",
    "             [9,100,100],\n",
    "             [59,100,130]]"
   ]
  },
  {
   "cell_type": "code",
   "execution_count": 64,
   "id": "94c72d18",
   "metadata": {},
   "outputs": [
    {
     "data": {
      "text/plain": [
       "(5, 3)"
      ]
     },
     "execution_count": 64,
     "metadata": {},
     "output_type": "execute_result"
    }
   ],
   "source": [
    "# item 수\n",
    "len(numbers), len(numbers_2d)"
   ]
  },
  {
   "cell_type": "code",
   "execution_count": 69,
   "id": "cdb515dd",
   "metadata": {},
   "outputs": [
    {
     "data": {
      "text/plain": [
       "(1, [9, 100, 100], 12, [100, 0, 1])"
      ]
     },
     "execution_count": 69,
     "metadata": {},
     "output_type": "execute_result"
    }
   ],
   "source": [
    "# 최소값, 최대값\n",
    "# 2차원 list의 최소/최대값 : 부분리스트 중 첫요사가 가장 작은값/ 큰값\n",
    "min(numbers), min(numbers_2d), max(numbers),max(numbers_2d)\n"
   ]
  },
  {
   "cell_type": "code",
   "execution_count": 70,
   "id": "62c9d0b5",
   "metadata": {},
   "outputs": [
    {
     "data": {
      "text/plain": [
       "('apple', 'orange')"
      ]
     },
     "execution_count": 70,
     "metadata": {},
     "output_type": "execute_result"
    }
   ],
   "source": [
    "# list의 데이터가 문자일 경우 ascII 코드값으로 min과 max적용\n",
    "fruit = [\"mango\",\"apple\",\"orange\"]\n",
    "min(fruits),max(fruits)"
   ]
  },
  {
   "cell_type": "code",
   "execution_count": 78,
   "id": "744f70e2",
   "metadata": {},
   "outputs": [
    {
     "name": "stdout",
     "output_type": "stream",
     "text": [
      "오름차순 정렬: [1, 3, 4, 5, 12]\n",
      "내림차순 정렬: [12, 5, 4, 3, 1]\n",
      "평균:  5.0\n",
      "합:  25\n",
      "sorted 함수 사용시 리스트의 내용이 바뀌지 않음:  [1, 12, 3, 4, 5]\n"
     ]
    }
   ],
   "source": [
    "# 정렬하기\n",
    "numbers = [1,12,3,4,5]\n",
    "print(\"오름차순 정렬:\", sorted(numbers))\n",
    "print(\"내림차순 정렬:\",sorted(numbers,reverse=True))\n",
    "print(\"평균: \",sum(numbers)/len(numbers) )\n",
    "print(\"합: \",sum(numbers))\n",
    "\n",
    "print(\"sorted 함수 사용시 리스트의 내용이 바뀌지 않음: \",numbers)"
   ]
  },
  {
   "cell_type": "markdown",
   "id": "390b11ba",
   "metadata": {},
   "source": [
    "## 1.3 요소 추가\n",
    "```\n",
    "- +: 두 리스트 연결\n",
    "- *: 리스를 곱한 수만큼 반복\n",
    "```\n",
    "- append() : 요소 맨 뒤에 추가\n",
    "- extend(list): 리스트를 요소별로 맨 뒤에 추가 \n",
    "- insert(idx, 값) : idx번째 인덱스 위치의 값 추가"
   ]
  },
  {
   "cell_type": "code",
   "execution_count": 80,
   "id": "9c982a6a",
   "metadata": {},
   "outputs": [
    {
     "data": {
      "text/plain": [
       "[1, 2, 3, 1, 2, 3]"
      ]
     },
     "execution_count": 80,
     "metadata": {},
     "output_type": "execute_result"
    }
   ],
   "source": [
    "numbers = [1, 2, 3]\n",
    "numbers = numbers + numbers\n",
    "numbers"
   ]
  },
  {
   "cell_type": "code",
   "execution_count": 81,
   "id": "ec66fb40",
   "metadata": {},
   "outputs": [
    {
     "name": "stdout",
     "output_type": "stream",
     "text": [
      "[1, 2, 3, 1, 2, 3, 1, 2, 3]\n",
      "[1, 2, 3, 1, 2, 3, 1, 2, 3]\n"
     ]
    }
   ],
   "source": [
    "numbers = [1, 2, 3]\n",
    "print(numbers*3) # 곱한 수만큼 반복\n",
    "print(3 * numbers)"
   ]
  },
  {
   "cell_type": "code",
   "execution_count": 83,
   "id": "25ce90da",
   "metadata": {},
   "outputs": [
    {
     "data": {
      "text/plain": [
       "[1, 2, 3, 4, 4]"
      ]
     },
     "execution_count": 83,
     "metadata": {},
     "output_type": "execute_result"
    }
   ],
   "source": [
    "numbers.append(4) # 맨 뒤 인덱스에 4를 추가\n",
    "numbers\n"
   ]
  },
  {
   "cell_type": "code",
   "execution_count": 84,
   "id": "cdc5833c",
   "metadata": {},
   "outputs": [
    {
     "data": {
      "text/plain": [
       "[1, 2, 3, 4, 4, [5, 6, 7]]"
      ]
     },
     "execution_count": 84,
     "metadata": {},
     "output_type": "execute_result"
    }
   ],
   "source": [
    "numbers.append([5,6,7])  # 맨 뒤 요소에 [5,6,7] 추가\n",
    "numbers"
   ]
  },
  {
   "cell_type": "code",
   "execution_count": 86,
   "id": "5a88c186",
   "metadata": {},
   "outputs": [
    {
     "data": {
      "text/plain": [
       "[1, 2, 3, 4, 5, 6]"
      ]
     },
     "execution_count": 86,
     "metadata": {},
     "output_type": "execute_result"
    }
   ],
   "source": [
    "numbers = [1,2,3]\n",
    "numbers.extend([4,5,6]) # 맨 뒤에 요소별로 4,5,6 각각 추가\n",
    "numbers"
   ]
  },
  {
   "cell_type": "code",
   "execution_count": 87,
   "id": "fe19ce93",
   "metadata": {},
   "outputs": [
    {
     "data": {
      "text/plain": [
       "['a', 'b', 'c', 'd']"
      ]
     },
     "execution_count": 87,
     "metadata": {},
     "output_type": "execute_result"
    }
   ],
   "source": [
    "lst = [ 'a','b','c']\n",
    "lst.append('d')\n",
    "lst"
   ]
  },
  {
   "cell_type": "code",
   "execution_count": 89,
   "id": "e17e7981",
   "metadata": {},
   "outputs": [
    {
     "data": {
      "text/plain": [
       "['a', 'b', 'c', 'd', 'h', 'e', 'l', 'l', 'o']"
      ]
     },
     "execution_count": 89,
     "metadata": {},
     "output_type": "execute_result"
    }
   ],
   "source": [
    "lst.extend('hello')\n",
    "lst"
   ]
  },
  {
   "cell_type": "code",
   "execution_count": 95,
   "id": "851cc3f4",
   "metadata": {},
   "outputs": [
    {
     "data": {
      "text/plain": [
       "[1, ['xx'], 2, 3, 4, 5]"
      ]
     },
     "execution_count": 95,
     "metadata": {},
     "output_type": "execute_result"
    }
   ],
   "source": [
    "numbers = [1,2,3,4,5]\n",
    "numbers.insert(1,[\"xx\"]) #1번째 인덱스에 'xx' 추가\n",
    "numbers\n"
   ]
  },
  {
   "cell_type": "markdown",
   "id": "2c7ce77e",
   "metadata": {},
   "source": [
    "## 1.4 인덱싱과 요소 갯수\n",
    "- 변수[index] : 인덱스를 이용한 접근\n",
    "- index(찾을데이터): 해당 찾을데이터가 있는 요소의 index를 반환\n",
    "- 찾을데이터 in 변수: 찾을데이터가 list변수의 요소인지 여부\n",
    "- count(찾을데이터): 리스트에서 해당 찾을 데이터의 갯수 반환\n",
    "\n"
   ]
  },
  {
   "cell_type": "code",
   "execution_count": 1,
   "id": "380a21a7",
   "metadata": {},
   "outputs": [
    {
     "data": {
      "text/plain": [
       "(2, 1)"
      ]
     },
     "execution_count": 1,
     "metadata": {},
     "output_type": "execute_result"
    }
   ],
   "source": [
    "numbers = [ 1,2,3,[1,2,3,],1,2,3]\n",
    "numbers.count(2), numbers.count([1,2,3])"
   ]
  },
  {
   "cell_type": "code",
   "execution_count": 101,
   "id": "8d3207dc",
   "metadata": {},
   "outputs": [
    {
     "data": {
      "text/plain": [
       "0"
      ]
     },
     "execution_count": 101,
     "metadata": {},
     "output_type": "execute_result"
    }
   ],
   "source": [
    "numbers.count(5)"
   ]
  },
  {
   "cell_type": "code",
   "execution_count": 104,
   "id": "7c8c0c59",
   "metadata": {},
   "outputs": [
    {
     "name": "stdout",
     "output_type": "stream",
     "text": [
      "True\n",
      "False\n"
     ]
    }
   ],
   "source": [
    "print(2 in numbers) # 2가 numbers의 요소인지 여부\n",
    "print(5 in numbers)"
   ]
  },
  {
   "cell_type": "code",
   "execution_count": null,
   "id": "feac29ad",
   "metadata": {},
   "outputs": [],
   "source": [
    "numbers.index(5)"
   ]
  },
  {
   "cell_type": "code",
   "execution_count": 106,
   "id": "3550386d",
   "metadata": {},
   "outputs": [
    {
     "name": "stdout",
     "output_type": "stream",
     "text": [
      "5가 요소에 포함되지 않습니다.\n"
     ]
    }
   ],
   "source": [
    "if 5 in numbers:\n",
    "    print(numbers.index(5))\n",
    "else:\n",
    "    print(\"5가 요소에 포함되지 않습니다.\")"
   ]
  },
  {
   "cell_type": "code",
   "execution_count": 107,
   "id": "f61e53eb",
   "metadata": {},
   "outputs": [
    {
     "name": "stdout",
     "output_type": "stream",
     "text": [
      "5가 요소에 포함되지 않습니다.\n"
     ]
    }
   ],
   "source": [
    "if numbers.count(5):\n",
    "    print(numbers.index(5))\n",
    "else:\n",
    "    print(\"5가 요소에 포함되지 않습니다.\")"
   ]
  },
  {
   "cell_type": "code",
   "execution_count": 3,
   "id": "a8c38d80",
   "metadata": {},
   "outputs": [],
   "source": [
    "def safe_index(lst,item):\n",
    "    \n",
    "    \"\"\"첫번째 매개변수 lst에서 item요소가 있는 index를 반환. item요소가 없으면 -1 반환\"\"\"\n",
    "    if item in lst:\n",
    "        return lst.index(item)\n",
    "    return -1\n",
    "    "
   ]
  },
  {
   "cell_type": "code",
   "execution_count": 1,
   "id": "acef35c8",
   "metadata": {},
   "outputs": [
    {
     "ename": "NameError",
     "evalue": "name 'safe_index' is not defined",
     "output_type": "error",
     "traceback": [
      "\u001b[1;31m---------------------------------------------------------------------------\u001b[0m",
      "\u001b[1;31mNameError\u001b[0m                                 Traceback (most recent call last)",
      "Cell \u001b[1;32mIn[1], line 1\u001b[0m\n\u001b[1;32m----> 1\u001b[0m \u001b[43msafe_index\u001b[49m(numbers, \u001b[38;5;241m5\u001b[39m)\n",
      "\u001b[1;31mNameError\u001b[0m: name 'safe_index' is not defined"
     ]
    }
   ],
   "source": [
    "safe_index(numbers, 5)"
   ]
  },
  {
   "cell_type": "code",
   "execution_count": 6,
   "id": "ea57c7a4",
   "metadata": {},
   "outputs": [
    {
     "data": {
      "text/plain": [
       "(1, -1)"
      ]
     },
     "execution_count": 6,
     "metadata": {},
     "output_type": "execute_result"
    }
   ],
   "source": [
    "from lst import safe_index #lst.py(모듈)안의 safe_index를 메모리에 load\n",
    "numbers = [1,2,3]\n",
    "safe_index(numbers,2), safe_index(numbers,5)"
   ]
  },
  {
   "cell_type": "code",
   "execution_count": 7,
   "id": "5eeae37d",
   "metadata": {},
   "outputs": [
    {
     "ename": "IndexError",
     "evalue": "list index out of range",
     "output_type": "error",
     "traceback": [
      "\u001b[1;31m---------------------------------------------------------------------------\u001b[0m",
      "\u001b[1;31mIndexError\u001b[0m                                Traceback (most recent call last)",
      "Cell \u001b[1;32mIn[7], line 1\u001b[0m\n\u001b[1;32m----> 1\u001b[0m \u001b[43mnumbers\u001b[49m\u001b[43m[\u001b[49m\u001b[38;5;241;43m5\u001b[39;49m\u001b[43m]\u001b[49m\n",
      "\u001b[1;31mIndexError\u001b[0m: list index out of range"
     ]
    }
   ],
   "source": [
    "numbers[5] # 벗어난 인덱싱 시 에러"
   ]
  },
  {
   "cell_type": "code",
   "execution_count": 8,
   "id": "c8ccb53c",
   "metadata": {},
   "outputs": [
    {
     "data": {
      "text/plain": [
       "[3]"
      ]
     },
     "execution_count": 8,
     "metadata": {},
     "output_type": "execute_result"
    }
   ],
   "source": [
    "numbers[2:5] # 벗어난 인덱스로 슬라이싱 시 에러가 안 남"
   ]
  },
  {
   "cell_type": "markdown",
   "id": "22c23d93",
   "metadata": {},
   "source": [
    "# 1.5 원하는 요소 추출\n",
    "\n",
    "1. 리스트 슬라이싱: \n",
    "\n",
    "    - [from:to:step] from부터 to 앞까지 step씩 증가하는 index값을 추출\n",
    "        * from생략시 처음, to 생략시 끝, step생략시 1\n",
    "    - 인덱스의 범위를 벗어난 값도 에러나지 않음\n",
    "    - index는 음수도 가능\n",
    "\n",
    "2. **리스트컴프리헨션 : 원하는 조건의 데이터 추출"
   ]
  },
  {
   "cell_type": "code",
   "execution_count": 12,
   "id": "6101a2e8",
   "metadata": {},
   "outputs": [
    {
     "name": "stdout",
     "output_type": "stream",
     "text": [
      "[20, 19, 18, 13, 12, 10, 9, 5, 3, 1]\n",
      "[1, 5, 10, 13, 19]\n",
      "[5, 9, 10, 12, 13, 18, 19, 20]\n"
     ]
    }
   ],
   "source": [
    "numbers = [1,3,5,9,10,12,13,18,19,20]\n",
    "print(numbers[::-1]) #거꾸로 출력\n",
    "print(numbers[0:-1:2]) #짝수 index 값 출력\n",
    "print(numbers[2:100]) #인덱스를 벗어난 슬라이싱 가능"
   ]
  },
  {
   "cell_type": "code",
   "execution_count": 17,
   "id": "db1af640",
   "metadata": {},
   "outputs": [
    {
     "data": {
      "text/plain": [
       "[1, 3, 5, 9, 10, 12, 13, 18, 19, 20]"
      ]
     },
     "execution_count": 17,
     "metadata": {},
     "output_type": "execute_result"
    }
   ],
   "source": [
    "# 모든 데이터 추출\n",
    "numbers = [1,3,5,9,10,12,13,18,19,20]\n",
    "#for data in numbers:\n",
    "#   print(data, end=\"\\t\")\n",
    "[data for data in numbers]\n"
   ]
  },
  {
   "cell_type": "code",
   "execution_count": 22,
   "id": "384c6a2f",
   "metadata": {},
   "outputs": [
    {
     "data": {
      "text/plain": [
       "[10, 12, 18, 20]"
      ]
     },
     "execution_count": 22,
     "metadata": {},
     "output_type": "execute_result"
    }
   ],
   "source": [
    "# 짝수 데이터 추출\n",
    "# for data in numbers:\n",
    "#     if data % 2 == 0:\n",
    "#         print(data, end= \" \")\n",
    "[data for data in numbers if data %2 == 0]"
   ]
  },
  {
   "cell_type": "code",
   "execution_count": 27,
   "id": "03e12115",
   "metadata": {},
   "outputs": [
    {
     "data": {
      "text/plain": [
       "[10, 12, 13, 18, 19, 20]"
      ]
     },
     "execution_count": 27,
     "metadata": {},
     "output_type": "execute_result"
    }
   ],
   "source": [
    "# ex1. numbers에서 10이상인 요소만 추출\n",
    "[data for data in numbers if data >=10]"
   ]
  },
  {
   "cell_type": "code",
   "execution_count": 30,
   "id": "640cb8f5",
   "metadata": {},
   "outputs": [
    {
     "data": {
      "text/plain": [
       "['orange', 'apple', 'mango']"
      ]
     },
     "execution_count": 30,
     "metadata": {},
     "output_type": "execute_result"
    }
   ],
   "source": [
    "# ex2. fruits에서 과일의 글자가 5글자 이상인 과일만 추출\n",
    "fruits = [\"orange\",\"apple\",\"mango\",\"kiwi\"]\n",
    "[fruit for fruit in fruits if len(fruit)>=5]\n"
   ]
  },
  {
   "cell_type": "code",
   "execution_count": 31,
   "id": "dd205c17",
   "metadata": {},
   "outputs": [
    {
     "data": {
      "text/plain": [
       "[6, 5, 5, 4]"
      ]
     },
     "execution_count": 31,
     "metadata": {},
     "output_type": "execute_result"
    }
   ],
   "source": [
    "# ex2-1) fruits 리스트의 과일 글자 수\n",
    "[len(fruit) for fruit in fruits]"
   ]
  },
  {
   "cell_type": "code",
   "execution_count": 32,
   "id": "e3ccb57f",
   "metadata": {},
   "outputs": [
    {
     "data": {
      "text/plain": [
       "[9, 16, 25]"
      ]
     },
     "execution_count": 32,
     "metadata": {},
     "output_type": "execute_result"
    }
   ],
   "source": [
    "# ex3. 3이상인 요소들의 제곱을 추출\n",
    "L = [1,2,3,4,5]\n",
    "[l**2 for l in L if l>=3 ]"
   ]
  },
  {
   "cell_type": "code",
   "execution_count": 33,
   "id": "fb005e11",
   "metadata": {},
   "outputs": [
    {
     "data": {
      "text/plain": [
       "[2, 4, 6, 8, 10]"
      ]
     },
     "execution_count": 33,
     "metadata": {},
     "output_type": "execute_result"
    }
   ],
   "source": [
    "# ex4. 리스트 요소의 값의 2배를 추출 : 2,4,6,8,10\n",
    "[l * 2for l in L]"
   ]
  },
  {
   "cell_type": "markdown",
   "id": "89e6dcaf",
   "metadata": {},
   "source": [
    "## 1.6 요소 수정하기\n",
    "\n",
    "- 인덱스, 슬라이싱을 이용해서 수정"
   ]
  },
  {
   "cell_type": "code",
   "execution_count": 35,
   "id": "634623e8",
   "metadata": {},
   "outputs": [
    {
     "data": {
      "text/plain": [
       "[0, 1, 222, 3, 4, 5, 6, 7, 8, 9]"
      ]
     },
     "execution_count": 35,
     "metadata": {},
     "output_type": "execute_result"
    }
   ],
   "source": [
    "numbers = [0,1,2,3,4,5,6,7,8,9]\n",
    "numbers[2] = 222\n",
    "numbers"
   ]
  },
  {
   "cell_type": "code",
   "execution_count": 38,
   "id": "c54eee68",
   "metadata": {},
   "outputs": [
    {
     "data": {
      "text/plain": [
       "['xx', 'xx', 'xx', 'xx', 'xx', 'xx', 'xx', 3, 4, 5, 6, 7, 8, 9]"
      ]
     },
     "execution_count": 38,
     "metadata": {},
     "output_type": "execute_result"
    }
   ],
   "source": [
    "# 슬라이싱(step부분 미포함)을 이용하여 부분 리스트를 통째로 수정\n",
    "numbers [0:2] =[\"xx\",\"xx\",\"xx\",\"xx\",\"xx\",\"xx\",\"xx\"]\n",
    "numbers"
   ]
  },
  {
   "cell_type": "code",
   "execution_count": 40,
   "id": "d529fae9",
   "metadata": {},
   "outputs": [
    {
     "name": "stdout",
     "output_type": "stream",
     "text": [
      "수정전:  [0, 0, 0, 0, 0, 0, 0, 0, 0, 0]\n",
      "수정후:  [9, 0, 9, 0, 9, 0, 9, 0, 9, 0]\n"
     ]
    }
   ],
   "source": [
    "# 슬라이싱(step부분 포함)\n",
    "numbers = [0] * 10\n",
    "print('수정전: ',numbers)\n",
    "numbers[0::2] = [9,9,9,9,9]\n",
    "print('수정후: ',numbers)"
   ]
  },
  {
   "cell_type": "code",
   "execution_count": 41,
   "id": "2bdbe64c",
   "metadata": {},
   "outputs": [
    {
     "ename": "ValueError",
     "evalue": "attempt to assign sequence of size 2 to extended slice of size 5",
     "output_type": "error",
     "traceback": [
      "\u001b[1;31m---------------------------------------------------------------------------\u001b[0m",
      "\u001b[1;31mValueError\u001b[0m                                Traceback (most recent call last)",
      "Cell \u001b[1;32mIn[41], line 1\u001b[0m\n\u001b[1;32m----> 1\u001b[0m numbers[::\u001b[38;5;241m2\u001b[39m] \u001b[38;5;241m=\u001b[39m [\u001b[38;5;241m1\u001b[39m,\u001b[38;5;241m1\u001b[39m]\n",
      "\u001b[1;31mValueError\u001b[0m: attempt to assign sequence of size 2 to extended slice of size 5"
     ]
    }
   ],
   "source": [
    "numbers[::2] = [1,1]"
   ]
  },
  {
   "cell_type": "markdown",
   "id": "045d916d",
   "metadata": {},
   "source": [
    "## 1.7 요소삭제\n",
    "- pop(): 가장 마지막 인덱스의 요소가 반환되고 삭제\n",
    "- pop(idx): idx번째 요소가 반환되고 삭제(특정한 매개변수 삭제)\n",
    "- remove(data): list안의 data가 삭제\n",
    "- del 리스트변수[idx]: idx번째 요소가 삭제"
   ]
  },
  {
   "cell_type": "code",
   "execution_count": 51,
   "id": "40351e37",
   "metadata": {},
   "outputs": [
    {
     "name": "stdout",
     "output_type": "stream",
     "text": [
      "삭제한 데이터:  5\n",
      "삭제 후 numbers:  [1, 2, 3, 4]\n",
      "1번째 삭제한 데이터:  2\n",
      "1번째 삭제 후 numbers:  [1, 3, 4]\n",
      "데이터 1삭제\n",
      "데이터 1 삭제 후 number:  [3, 4]\n",
      "del numbers[1]\n",
      "[3]\n"
     ]
    }
   ],
   "source": [
    "numbers = [1,2,3,4,5]\n",
    "print(\"삭제한 데이터: \",numbers.pop())\n",
    "print(\"삭제 후 numbers: \", numbers)\n",
    "print(\"1번째 삭제한 데이터: \",numbers.pop(1))\n",
    "print(\"1번째 삭제 후 numbers: \",numbers)\n",
    "print(\"데이터 1삭제\")\n",
    "numbers.remove(1)\n",
    "print(\"데이터 1 삭제 후 number: \",numbers)\n",
    "print(\"del numbers[1]\")\n",
    "del numbers[1]\n",
    "print(numbers)"
   ]
  },
  {
   "cell_type": "code",
   "execution_count": 52,
   "id": "a9685780",
   "metadata": {},
   "outputs": [
    {
     "name": "stdout",
     "output_type": "stream",
     "text": [
      "해당 데이터는 없는 item입니다\n"
     ]
    }
   ],
   "source": [
    "# numbers.remove(9)\n",
    "if 9 in numbers:\n",
    "    numbers.remove(9)\n",
    "else:\n",
    "    print(\"해당 데이터는 없는 item입니다\")"
   ]
  },
  {
   "cell_type": "code",
   "execution_count": 54,
   "id": "25042538",
   "metadata": {},
   "outputs": [
    {
     "data": {
      "text/plain": [
       "[]"
      ]
     },
     "execution_count": 54,
     "metadata": {},
     "output_type": "execute_result"
    }
   ],
   "source": [
    "numbers.clear() #모든 요소를 삭제\n",
    "numbers"
   ]
  },
  {
   "cell_type": "markdown",
   "id": "89aa3a92",
   "metadata": {},
   "source": [
    "## 1.8 정렬하기"
   ]
  },
  {
   "cell_type": "code",
   "execution_count": 56,
   "id": "a2bdbae9",
   "metadata": {},
   "outputs": [
    {
     "name": "stdout",
     "output_type": "stream",
     "text": [
      "numbers는 변경하지 않고, 정렬결과:  [0, 5, 6, 8, 9]\n",
      "numbers:  [9, 5, 0, 8, 6]\n"
     ]
    }
   ],
   "source": [
    "numbers = [9,5,0,8,6]\n",
    "print(\"numbers는 변경하지 않고, 정렬결과: \",sorted(numbers))\n",
    "print(\"numbers: \", numbers)"
   ]
  },
  {
   "cell_type": "code",
   "execution_count": 60,
   "id": "b7f63c86",
   "metadata": {},
   "outputs": [
    {
     "data": {
      "text/plain": [
       "[9, 8, 6, 5, 0]"
      ]
     },
     "execution_count": 60,
     "metadata": {},
     "output_type": "execute_result"
    }
   ],
   "source": [
    "numbers.sort(reverse = True)# numbers 자체가 오름차순 정렬한 결과로 바꿈\n",
    "numbers"
   ]
  },
  {
   "cell_type": "code",
   "execution_count": 59,
   "id": "c59753ab",
   "metadata": {},
   "outputs": [
    {
     "data": {
      "text/plain": [
       "[0, 5, 6, 8, 9]"
      ]
     },
     "execution_count": 59,
     "metadata": {},
     "output_type": "execute_result"
    }
   ],
   "source": [
    "numbers.reverse() # 리스트를 역순으로 변경\n",
    "#numbers = numbers[::-1]\n",
    "numbers"
   ]
  },
  {
   "cell_type": "markdown",
   "id": "7d517935",
   "metadata": {},
   "source": [
    "## 1.9 리스트 복제\n"
   ]
  },
  {
   "cell_type": "code",
   "execution_count": 63,
   "id": "623089d2",
   "metadata": {},
   "outputs": [
    {
     "name": "stdout",
     "output_type": "stream",
     "text": [
      "원본i= 10, 복사본cp_i=10 /원본주소 = 1948395045392, 복사본 주소1948395045392\n",
      "원본i= 10, 복사본cp_i=99 /원본주소 = 1948395045392, 복사본 주소1948395048240\n"
     ]
    }
   ],
   "source": [
    "# 스칼라 데이터의 복제\n",
    "i = 10\n",
    "cp_i = i\n",
    "print(f\"원본i= {i}, 복사본cp_i={cp_i} /원본주소 = {id(i)}, 복사본 주소{id(cp_i)}\")\n",
    "cp_i = 99\n",
    "print(f\"원본i= {i}, 복사본cp_i={cp_i} /원본주소 = {id(i)}, 복사본 주소{id(cp_i)}\")"
   ]
  },
  {
   "cell_type": "code",
   "execution_count": 67,
   "id": "162e9d55",
   "metadata": {},
   "outputs": [
    {
     "name": "stdout",
     "output_type": "stream",
     "text": [
      "원본 주소:  1948514533312\n",
      "복제본 주소:  1948514533312\n",
      "원본 주소:  [99, 6, 1, 9]\n",
      "복제본 주소:  [99, 6, 1, 9]\n",
      "원본 주소:  1948514533312\n",
      "복제본 주소:  1948514533312\n"
     ]
    }
   ],
   "source": [
    "# 데이터 구조의 복제\n",
    "numbers = [5,6,1,9]\n",
    "new_numbers = numbers\n",
    "print(\"원본 주소: \",id(numbers))\n",
    "print(\"복제본 주소: \",id(new_numbers))\n",
    "new_numbers[0] = 99\n",
    "print(\"원본 주소: \",numbers)\n",
    "print(\"복제본 주소: \",new_numbers)\n",
    "print(\"원본 주소: \",id(numbers))\n",
    "print(\"복제본 주소: \",id(new_numbers))"
   ]
  },
  {
   "cell_type": "code",
   "execution_count": 68,
   "id": "37a1cc6d",
   "metadata": {},
   "outputs": [
    {
     "name": "stdout",
     "output_type": "stream",
     "text": [
      "원본:  [1, 5, 6, 9]\n",
      "복제본:  [1, 5, 6, 9]\n",
      "원본 주소:  1948507311552\n",
      "복제본 주소:  1948507311552\n"
     ]
    }
   ],
   "source": [
    "# 할당\n",
    "numbers = [5,6,1,9]\n",
    "new_numbers = numbers\n",
    "new_numbers.sort()\n",
    "print(\"원본: \",numbers)\n",
    "print(\"복제본: \",new_numbers)\n",
    "print(\"원본 주소: \",id(numbers))\n",
    "print(\"복제본 주소: \",id(new_numbers))"
   ]
  },
  {
   "cell_type": "code",
   "execution_count": 69,
   "id": "9cf1beda",
   "metadata": {},
   "outputs": [
    {
     "name": "stdout",
     "output_type": "stream",
     "text": [
      "원본:  [5, 6, 1, 9]\n",
      "복제본:  [9, 6, 5, 1]\n",
      "원본 주소:  1948506357632\n",
      "복제본 주소:  1948506357632\n"
     ]
    }
   ],
   "source": [
    "# 리스트 복제(깊은 복사)\n",
    "numbers = [5,6,1,9]\n",
    "\n",
    "new_numbers = numbers.copy() # numbers를 복제(깊은 복사)\n",
    "new_numbers.sort(reverse=True) #내림차순 정렬\n",
    "print(\"원본: \",numbers)\n",
    "print(\"복제본: \",new_numbers)\n",
    "print(\"원본 주소: \",id(numbers))\n",
    "print(\"복제본 주소: \",id(numbers))"
   ]
  },
  {
   "cell_type": "code",
   "execution_count": 71,
   "id": "497be705",
   "metadata": {},
   "outputs": [
    {
     "name": "stdout",
     "output_type": "stream",
     "text": [
      "정렬전:  ['서울', '대전', '대구', '부산', '하남', '수원', '제주']\n",
      "정렬후:  ['대구', '대전', '부산', '서울', '수원', '제주', '하남']\n"
     ]
    }
   ],
   "source": [
    "city = [\"서울\",\"대전\",\"대구\",\"부산\",\"하남\",\"수원\",\"제주\"]\n",
    "temp = city.copy()\n",
    "temp.sort()\n",
    "print(\"정렬전: \",city)\n",
    "print(\"정렬후: \",temp)"
   ]
  },
  {
   "cell_type": "code",
   "execution_count": 72,
   "id": "4a8b22cc",
   "metadata": {},
   "outputs": [
    {
     "name": "stdout",
     "output_type": "stream",
     "text": [
      "정렬전:  ['서울', '대전', '대구', '부산', '하남', '수원', '제주']\n",
      "정렬후:  []\n"
     ]
    }
   ],
   "source": [
    "temp.clear()\n",
    "print(\"정렬전: \",city)\n",
    "print(\"정렬후: \",temp)"
   ]
  },
  {
   "cell_type": "markdown",
   "id": "2d5a5cc9",
   "metadata": {},
   "source": [
    "# 2절 튜플\n",
    "- 리스트 ([])와 유사하지만 읽기전용. 수정이 필요없는 데이터애서 사용\n",
    "- 수정이 불가하므로, 튜플에서 데이터 수정, 추가, 삭제 불가\n",
    "- 제공되는 함수도 많지 않음\n",
    "- ()이용해서 생성"
   ]
  },
  {
   "cell_type": "code",
   "execution_count": 74,
   "id": "ccb070ae",
   "metadata": {},
   "outputs": [
    {
     "name": "stdout",
     "output_type": "stream",
     "text": [
      "<class 'tuple'>\n"
     ]
    }
   ],
   "source": [
    "city = ('서울', '대전', '대구', '부산', '하남')\n",
    "# 파이썬은 여러개의 값이 전달될 때 튜플 타입으로 전달\n",
    "city = '서울', '대전', '대구', '부산', '하남'\n",
    "print(type(city))\n",
    "print(city)"
   ]
  },
  {
   "cell_type": "code",
   "execution_count": 75,
   "id": "d9baf5e9",
   "metadata": {},
   "outputs": [
    {
     "data": {
      "text/plain": [
       "'서울,대전,대구,부산,하남'"
      ]
     },
     "execution_count": 75,
     "metadata": {},
     "output_type": "execute_result"
    }
   ],
   "source": [
    "# 매개변수로 list가 오는 함수는 tuple 매개변수로 함수 사용\n",
    "\",\".join(city)"
   ]
  },
  {
   "cell_type": "code",
   "execution_count": 79,
   "id": "ac207323",
   "metadata": {},
   "outputs": [
    {
     "data": {
      "text/plain": [
       "1"
      ]
     },
     "execution_count": 79,
     "metadata": {},
     "output_type": "execute_result"
    }
   ],
   "source": [
    "from lst import safe_index\n",
    "safe_index(city, '대전')"
   ]
  },
  {
   "cell_type": "code",
   "execution_count": 82,
   "id": "01e0313c",
   "metadata": {},
   "outputs": [
    {
     "name": "stdout",
     "output_type": "stream",
     "text": [
      "<class 'list'>\n",
      "['서울']\n",
      "1\n"
     ]
    }
   ],
   "source": [
    "l =['서울']\n",
    "print(type(l))\n",
    "print(l)\n",
    "print(len(l))"
   ]
  },
  {
   "cell_type": "code",
   "execution_count": 85,
   "id": "4a417041",
   "metadata": {},
   "outputs": [
    {
     "name": "stdout",
     "output_type": "stream",
     "text": [
      "<class 'str'>\n",
      "서울\n",
      "2\n"
     ]
    }
   ],
   "source": [
    "city = ('서울') # 요소가 하나 있는 튜플(X) -> str\n",
    "print(type(city))\n",
    "print(city)\n",
    "print(len(city))"
   ]
  },
  {
   "cell_type": "code",
   "execution_count": 86,
   "id": "8c93ae66",
   "metadata": {},
   "outputs": [
    {
     "name": "stdout",
     "output_type": "stream",
     "text": [
      "<class 'tuple'>\n",
      "('서울',)\n",
      "1\n"
     ]
    }
   ],
   "source": [
    "city = ('서울',) # 요소가 하나 있는 튜플(0) #데이터 하나가 튜플이 되려면 comma를 찍어야함  \n",
    "print(type(city))\n",
    "print(city)\n",
    "print(len(city))"
   ]
  },
  {
   "cell_type": "code",
   "execution_count": 90,
   "id": "6ae1bbe0",
   "metadata": {},
   "outputs": [],
   "source": [
    "numbers = (1,2,3)\n",
    "# numbers.append(4) 수정하기 위한 함수는 제공되지 않음"
   ]
  },
  {
   "cell_type": "code",
   "execution_count": 91,
   "id": "2d97f544",
   "metadata": {},
   "outputs": [
    {
     "data": {
      "text/plain": [
       "(1, 3, 6)"
      ]
     },
     "execution_count": 91,
     "metadata": {},
     "output_type": "execute_result"
    }
   ],
   "source": [
    "min(numbers), max(numbers), sum(numbers)"
   ]
  },
  {
   "cell_type": "code",
   "execution_count": 92,
   "id": "d204d656",
   "metadata": {},
   "outputs": [
    {
     "data": {
      "text/plain": [
       "1"
      ]
     },
     "execution_count": 92,
     "metadata": {},
     "output_type": "execute_result"
    }
   ],
   "source": [
    "numbers.count(2)"
   ]
  },
  {
   "cell_type": "code",
   "execution_count": 93,
   "id": "1f4d4def",
   "metadata": {},
   "outputs": [
    {
     "data": {
      "text/plain": [
       "2"
      ]
     },
     "execution_count": 93,
     "metadata": {},
     "output_type": "execute_result"
    }
   ],
   "source": [
    "numbers.index(3)"
   ]
  },
  {
   "cell_type": "code",
   "execution_count": 94,
   "id": "cee59ece",
   "metadata": {},
   "outputs": [
    {
     "name": "stdout",
     "output_type": "stream",
     "text": [
      "해당 데이터 없음\n"
     ]
    }
   ],
   "source": [
    "#numbers.index(4)\n",
    "if 4 in numbers:\n",
    "    numbers.index(4)\n",
    "else:\n",
    "    print(\"해당 데이터 없음\")"
   ]
  },
  {
   "cell_type": "code",
   "execution_count": 95,
   "id": "60781277",
   "metadata": {},
   "outputs": [
    {
     "data": {
      "text/plain": [
       "-1"
      ]
     },
     "execution_count": 95,
     "metadata": {},
     "output_type": "execute_result"
    }
   ],
   "source": [
    "safe_index(numbers,4)"
   ]
  },
  {
   "cell_type": "code",
   "execution_count": null,
   "id": "ceb8443a",
   "metadata": {},
   "outputs": [],
   "source": []
  }
 ],
 "metadata": {
  "kernelspec": {
   "display_name": "Python 3 (ipykernel)",
   "language": "python",
   "name": "python3"
  },
  "language_info": {
   "codemirror_mode": {
    "name": "ipython",
    "version": 3
   },
   "file_extension": ".py",
   "mimetype": "text/x-python",
   "name": "python",
   "nbconvert_exporter": "python",
   "pygments_lexer": "ipython3",
   "version": "3.10.9"
  },
  "toc": {
   "base_numbering": 1,
   "nav_menu": {},
   "number_sections": false,
   "sideBar": true,
   "skip_h1_title": false,
   "title_cell": "Table of Contents",
   "title_sidebar": "Contents",
   "toc_cell": false,
   "toc_position": {
    "height": "calc(100% - 180px)",
    "left": "10px",
    "top": "150px",
    "width": "198.253px"
   },
   "toc_section_display": true,
   "toc_window_display": true
  }
 },
 "nbformat": 4,
 "nbformat_minor": 5
}
