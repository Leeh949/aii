{
 "cells": [
  {
   "cell_type": "code",
   "execution_count": 1,
   "id": "3f08fd11",
   "metadata": {},
   "outputs": [
    {
     "data": {
      "text/html": [
       "\n",
       "<style>\n",
       "div.container{width:90% !important;}\n",
       "div.cell.code_cell.rendered{width:100%;}\n",
       "div.input_prompt{padding:0px;}\n",
       "div.CodeMirror {font-family:Consolas; font-size:12pt;}\n",
       "div.text_cell_render.rendered_html{font-size:12pt;}\n",
       "div.output {font-size:12pt; font-weight:bold;}\n",
       "div.input {font-family:Consolas; font-size:12pt;}\n",
       "div.prompt {min-width:70px;}\n",
       "div#toc-wrapper{padding-top:120px;}\n",
       "div.text_cell_render ul li{font-size:12pt;padding:5px;}\n",
       "table.dataframe{font-size:12px;}\n",
       "</style>\n"
      ],
      "text/plain": [
       "<IPython.core.display.HTML object>"
      ]
     },
     "metadata": {},
     "output_type": "display_data"
    }
   ],
   "source": [
    "from IPython.display import display, HTML\n",
    "display(HTML(\"\"\"\n",
    "<style>\n",
    "div.container{width:90% !important;}\n",
    "div.cell.code_cell.rendered{width:100%;}\n",
    "div.input_prompt{padding:0px;}\n",
    "div.CodeMirror {font-family:Consolas; font-size:12pt;}\n",
    "div.text_cell_render.rendered_html{font-size:12pt;}\n",
    "div.output {font-size:12pt; font-weight:bold;}\n",
    "div.input {font-family:Consolas; font-size:12pt;}\n",
    "div.prompt {min-width:70px;}\n",
    "div#toc-wrapper{padding-top:120px;}\n",
    "div.text_cell_render ul li{font-size:12pt;padding:5px;}\n",
    "table.dataframe{font-size:12px;}\n",
    "</style>\n",
    "\"\"\"))\n"
   ]
  },
  {
   "cell_type": "markdown",
   "id": "e7755d16",
   "metadata": {},
   "source": [
    "<b><font size=\"6\" color=\"red\">ch05_함수</font></b>\n",
    "- 반복해서 사용할 코드를 묶어 놓고 그것에 이름을 붙인 것\n",
    "- 오버로딩 불가(같은 이름의 함수는 덮어씀)\n",
    "- 함수 정의\n",
    "```\n",
    "def 함수명([매개변수1,매개변수2, ..])\n",
    "    명령어1\n",
    "    명령어2.....\n",
    "```\n",
    "# 1절 함수의 정의 및 사용\n",
    "\n",
    "## 1.1 함수 정의"
   ]
  },
  {
   "cell_type": "code",
   "execution_count": 19,
   "id": "ac2a9610",
   "metadata": {},
   "outputs": [],
   "source": [
    "def my_message(x, msg): # msg를 x번 출력하는 함수\n",
    "    for i in range(x):\n",
    "        print(i,msg)"
   ]
  },
  {
   "cell_type": "code",
   "execution_count": 20,
   "id": "5f0c3200",
   "metadata": {},
   "outputs": [
    {
     "name": "stdout",
     "output_type": "stream",
     "text": [
      "0 Hello\n",
      "1 Hello\n",
      "2 Hello\n"
     ]
    }
   ],
   "source": [
    "# 함수 사용 == 함수 호출\n",
    "my_message(3, 'Hello')"
   ]
  },
  {
   "cell_type": "code",
   "execution_count": 21,
   "id": "56b9dfb9",
   "metadata": {},
   "outputs": [
    {
     "name": "stdout",
     "output_type": "stream",
     "text": [
      "0 hi\n",
      "1 hi\n",
      "0 bye\n",
      "1 bye\n",
      "2 bye\n"
     ]
    }
   ],
   "source": [
    "# 함수 이름 변경\n",
    "my_msg = my_message\n",
    "my_message(2, 'hi')\n",
    "my_msg(3,'bye')"
   ]
  },
  {
   "cell_type": "code",
   "execution_count": 22,
   "id": "f3f38db5",
   "metadata": {},
   "outputs": [
    {
     "data": {
      "text/plain": [
       "function"
      ]
     },
     "execution_count": 22,
     "metadata": {},
     "output_type": "execute_result"
    }
   ],
   "source": [
    "type (my_msg)"
   ]
  },
  {
   "cell_type": "code",
   "execution_count": 23,
   "id": "fb587178",
   "metadata": {},
   "outputs": [
    {
     "name": "stdout",
     "output_type": "stream",
     "text": [
      "Hello\n",
      "hello\n"
     ]
    }
   ],
   "source": [
    "print(\"Hello\") # 파이썬 내장 함수(import 하지 않고 사용할 수 있는 함수)\n",
    "print = 5\n",
    "#print('hello')\n",
    "del print\n",
    "print(\"hello\")"
   ]
  },
  {
   "cell_type": "code",
   "execution_count": 24,
   "id": "53c4050c",
   "metadata": {},
   "outputs": [
    {
     "name": "stdout",
     "output_type": "stream",
     "text": [
      "0 Hello\n",
      "1 Hello\n"
     ]
    }
   ],
   "source": [
    "my_message (2, \"Hello\")"
   ]
  },
  {
   "cell_type": "code",
   "execution_count": 25,
   "id": "54ab3598",
   "metadata": {},
   "outputs": [],
   "source": [
    "my_message = 5"
   ]
  },
  {
   "cell_type": "code",
   "execution_count": 26,
   "id": "640cc6a2",
   "metadata": {},
   "outputs": [
    {
     "ename": "NameError",
     "evalue": "name 'my_message' is not defined",
     "output_type": "error",
     "traceback": [
      "\u001b[1;31m---------------------------------------------------------------------------\u001b[0m",
      "\u001b[1;31mNameError\u001b[0m                                 Traceback (most recent call last)",
      "Cell \u001b[1;32mIn[26], line 2\u001b[0m\n\u001b[0;32m      1\u001b[0m \u001b[38;5;28;01mdel\u001b[39;00m my_message \u001b[38;5;66;03m# 변수 및 함수 제거하여도\u001b[39;00m\n\u001b[1;32m----> 2\u001b[0m \u001b[43mmy_message\u001b[49m(\u001b[38;5;241m2\u001b[39m, \u001b[38;5;124m'\u001b[39m\u001b[38;5;124mHello\u001b[39m\u001b[38;5;124m'\u001b[39m)\n",
      "\u001b[1;31mNameError\u001b[0m: name 'my_message' is not defined"
     ]
    }
   ],
   "source": [
    "del my_message # 변수 및 함수 제거하여도\n",
    "my_message(2, 'Hello') # 사용자 정의함수, 라이브러리 함수는 사용불가"
   ]
  },
  {
   "cell_type": "code",
   "execution_count": 27,
   "id": "8ef02767",
   "metadata": {},
   "outputs": [],
   "source": [
    "# 함수 중복 정의 불가 (오버로딩 불가)\n",
    "def my_hello():\n",
    "    print('Hello Python')\n",
    "    print('Hellp world')\n",
    "def my_hello(cnt):# cnt번 출\n",
    "    for i in range(cnt):\n",
    "        print(\"Hello,Python\",end = \"\\t\")\n",
    "        print(\"Hellp, world\")"
   ]
  },
  {
   "cell_type": "code",
   "execution_count": 28,
   "id": "95e74392",
   "metadata": {},
   "outputs": [
    {
     "name": "stdout",
     "output_type": "stream",
     "text": [
      "Hello,Python\tHellp, world\n",
      "Hello,Python\tHellp, world\n"
     ]
    }
   ],
   "source": [
    "my_hello(2)"
   ]
  },
  {
   "cell_type": "code",
   "execution_count": 29,
   "id": "ec79aa36",
   "metadata": {},
   "outputs": [
    {
     "data": {
      "text/plain": [
       "<function __main__.my_hello(cnt)>"
      ]
     },
     "execution_count": 29,
     "metadata": {},
     "output_type": "execute_result"
    }
   ],
   "source": [
    "my_hello"
   ]
  },
  {
   "cell_type": "code",
   "execution_count": 30,
   "id": "a713f484",
   "metadata": {},
   "outputs": [
    {
     "data": {
      "text/plain": [
       "'__main__'"
      ]
     },
     "execution_count": 30,
     "metadata": {},
     "output_type": "execute_result"
    }
   ],
   "source": [
    "__name__"
   ]
  },
  {
   "cell_type": "code",
   "execution_count": 31,
   "id": "15f8140d",
   "metadata": {},
   "outputs": [
    {
     "name": "stdout",
     "output_type": "stream",
     "text": [
      "Hello,Python\tHellp, world\n",
      "Hello,Python\tHellp, world\n"
     ]
    }
   ],
   "source": [
    "if __name__ == '__main__':\n",
    "    my_hello(2)"
   ]
  },
  {
   "cell_type": "code",
   "execution_count": 48,
   "id": "c69ceb81",
   "metadata": {},
   "outputs": [],
   "source": [
    "import ch05"
   ]
  },
  {
   "cell_type": "code",
   "execution_count": 49,
   "id": "0e9c4b4e",
   "metadata": {},
   "outputs": [
    {
     "name": "stdout",
     "output_type": "stream",
     "text": [
      "hello, python\thello, World\n",
      "hello, python\thello, World\n",
      "hello, python\thello, World\n"
     ]
    }
   ],
   "source": [
    "ch05.my_hello(3)"
   ]
  },
  {
   "cell_type": "code",
   "execution_count": 50,
   "id": "c73dcada",
   "metadata": {},
   "outputs": [],
   "source": [
    "from ch05 import my_hello # ch05모듈안의 my_hello만 메모리 로드 "
   ]
  },
  {
   "cell_type": "code",
   "execution_count": 52,
   "id": "f19a8dcd",
   "metadata": {},
   "outputs": [
    {
     "name": "stdout",
     "output_type": "stream",
     "text": [
      "hello, python\thello, World\n",
      "hello, python\thello, World\n",
      "hello, python\thello, World\n"
     ]
    }
   ],
   "source": [
    "my_hello(3)"
   ]
  },
  {
   "cell_type": "markdown",
   "id": "b8f9646e",
   "metadata": {},
   "source": [
    "## 1.2 docstring"
   ]
  },
  {
   "cell_type": "code",
   "execution_count": 53,
   "id": "c2ae446d",
   "metadata": {},
   "outputs": [],
   "source": [
    "def my_function():\n",
    "    \"\"\"\n",
    "    함수의 첫 라인에 독스트링을 포함할 수 있습니다.\n",
    "    독스트링은 함수의 설명서를 달아주는 역할\n",
    "    주석보다 많은 기능(함수 호출시 shift + tab으로 독스트링을 볼 수 있음)\n",
    "    \"\"\"\n",
    "    pass"
   ]
  },
  {
   "cell_type": "code",
   "execution_count": 54,
   "id": "8edf74bc",
   "metadata": {},
   "outputs": [
    {
     "name": "stdout",
     "output_type": "stream",
     "text": [
      "\n",
      "    함수의 첫 라인에 독스트링을 포함할 수 있습니다.\n",
      "    독스트링은 함수의 설명서를 달아주는 역할\n",
      "    주석보다 많은 기능(함수 호출시 shift + tab으로 독스트링을 볼 수 있음)\n",
      "    \n"
     ]
    }
   ],
   "source": [
    "print(my_function.__doc__)"
   ]
  },
  {
   "cell_type": "code",
   "execution_count": 59,
   "id": "e1791dfa",
   "metadata": {},
   "outputs": [],
   "source": [
    "def  fibonacci(n):\n",
    "    '''\n",
    "    매개변수로 들어온 n값 미만의 피보나치 수열을 출력하는 함수\n",
    "    ex. n=10: 0, 1, 1, 2, 3, 5, 8\n",
    "        n= 100 0 1 1 2 3 5 8 13 21 34 55 89\n",
    "    '''\n",
    "    a, b = 0, 1 #함수 내에 선언한 변수: 지역변수(반: 전역변수)\n",
    "    while a < n:\n",
    "        print(a, end=\" \")\n",
    "        a, b = b , a+b\n",
    "    print() # 개행"
   ]
  },
  {
   "cell_type": "code",
   "execution_count": 64,
   "id": "b51f1dd3",
   "metadata": {},
   "outputs": [
    {
     "name": "stdout",
     "output_type": "stream",
     "text": [
      "0 1 1 2 3 5 8 \n"
     ]
    }
   ],
   "source": [
    "fibonacci(10)"
   ]
  },
  {
   "cell_type": "code",
   "execution_count": 65,
   "id": "a3142d9c",
   "metadata": {},
   "outputs": [
    {
     "ename": "NameError",
     "evalue": "name 'a' is not defined",
     "output_type": "error",
     "traceback": [
      "\u001b[1;31m---------------------------------------------------------------------------\u001b[0m",
      "\u001b[1;31mNameError\u001b[0m                                 Traceback (most recent call last)",
      "Cell \u001b[1;32mIn[65], line 1\u001b[0m\n\u001b[1;32m----> 1\u001b[0m \u001b[43ma\u001b[49m, b\n",
      "\u001b[1;31mNameError\u001b[0m: name 'a' is not defined"
     ]
    }
   ],
   "source": [
    "a, b # 지역변수는 함수내에서만 사용가능"
   ]
  },
  {
   "cell_type": "markdown",
   "id": "c78b2746",
   "metadata": {},
   "source": [
    "## 1.3 지역변수(local var)와 전역변수(global var)"
   ]
  },
  {
   "cell_type": "code",
   "execution_count": 66,
   "id": "a9fa3a72",
   "metadata": {},
   "outputs": [
    {
     "name": "stdout",
     "output_type": "stream",
     "text": [
      "함수안:  100\n",
      "함수밖:  100\n"
     ]
    }
   ],
   "source": [
    "global_var = 100\n",
    "def func1():\n",
    "    print(\"함수안: \", global_var)\n",
    "func1()\n",
    "print('함수밖: ',global_var)"
   ]
  },
  {
   "cell_type": "code",
   "execution_count": 68,
   "id": "3fa387a9",
   "metadata": {},
   "outputs": [
    {
     "name": "stdout",
     "output_type": "stream",
     "text": [
      "함수안: 200\n"
     ]
    }
   ],
   "source": [
    "def func2():\n",
    "    local_var = 200 # 지역변수(함수내에서 할당)\n",
    "    print(\"함수안:\", local_var)\n",
    "func2()\n"
   ]
  },
  {
   "cell_type": "code",
   "execution_count": 69,
   "id": "a7f40d02",
   "metadata": {},
   "outputs": [],
   "source": [
    "#print ('함수밖에서 지역변수: ', local_var) # 에러"
   ]
  },
  {
   "cell_type": "code",
   "execution_count": 73,
   "id": "91d0f2ba",
   "metadata": {},
   "outputs": [
    {
     "name": "stdout",
     "output_type": "stream",
     "text": [
      "전역변수 g_var: 100\n",
      "전역변수 g_var: 200\n"
     ]
    }
   ],
   "source": [
    "# 렉시컬 특성: 변수가 어디서 선언되었는지에 따라\n",
    "# 변수의 범위가 정해짐(지역vs전역)\n",
    "g_var = 100 # 전역변수\n",
    "def func3():\n",
    "    global g_var # 함수 내에서의 g_var는 전역변수를 쓰겠다\n",
    "    print('전역변수 g_var:', g_var)\n",
    "    g_var = 200\n",
    "func3()\n",
    "print('전역변수 g_var:', g_var)"
   ]
  },
  {
   "cell_type": "markdown",
   "id": "a2eb7cef",
   "metadata": {},
   "source": [
    "## 1.4 값에 의한 호출\n",
    "- 함수에 인수로 전달되는 변수가 스칼라변수(문자, 숫자, 논리형)일 때"
   ]
  },
  {
   "cell_type": "code",
   "execution_count": 74,
   "id": "640d2c64",
   "metadata": {},
   "outputs": [
    {
     "data": {
      "text/plain": [
       "2050497537840"
      ]
     },
     "execution_count": 74,
     "metadata": {},
     "output_type": "execute_result"
    }
   ],
   "source": [
    "foo = 'a' # 전역변수\n",
    "id (foo)"
   ]
  },
  {
   "cell_type": "code",
   "execution_count": 76,
   "id": "42411945",
   "metadata": {},
   "outputs": [
    {
     "name": "stdout",
     "output_type": "stream",
     "text": [
      "Before:  a 의 주소는  2050497537840\n",
      "after:  aaa 의 주소는 2050609704240\n"
     ]
    }
   ],
   "source": [
    "def func1(f):\n",
    "    print('Before: ',f, '의 주소는 ', id(f))\n",
    "    f = f*3\n",
    "    print('after: ',f, '의 주소는', id(f))\n",
    "func1(foo)"
   ]
  },
  {
   "cell_type": "code",
   "execution_count": 77,
   "id": "d2eb09b7",
   "metadata": {},
   "outputs": [
    {
     "name": "stdout",
     "output_type": "stream",
     "text": [
      "foo=  a 의 주소는  2050497537840\n"
     ]
    }
   ],
   "source": [
    "print(\"foo= \",foo,\"의 주소는 \",id(foo))"
   ]
  },
  {
   "cell_type": "markdown",
   "id": "5db5438e",
   "metadata": {},
   "source": [
    "## 1.5 참조에 의한 호출\n",
    "- 함수에 인수로 전달되는 변수가 리스트, 튜플, 셋, 덱셔너리, 기타 객체일 경우"
   ]
  },
  {
   "cell_type": "code",
   "execution_count": 78,
   "id": "43c6f563",
   "metadata": {},
   "outputs": [
    {
     "data": {
      "text/plain": [
       "2050609814400"
      ]
     },
     "execution_count": 78,
     "metadata": {},
     "output_type": "execute_result"
    }
   ],
   "source": [
    "L = [1,2,3,4,5]\n",
    "id(L)"
   ]
  },
  {
   "cell_type": "code",
   "execution_count": 80,
   "id": "62c7acb4",
   "metadata": {},
   "outputs": [
    {
     "name": "stdout",
     "output_type": "stream",
     "text": [
      "Before:  [1, 2, 3, 4, 5] 의 주소는  2050609814400\n",
      "after:  [1, 2, 3, 4, 5, 6] 의 주소는 2050609814400\n"
     ]
    }
   ],
   "source": [
    "def func2(f): #매개변수는 지역변수\n",
    "    \n",
    "    print('Before: ',f, '의 주소는 ', id(f))\n",
    "    f.append(6)\n",
    "    print('after: ',f, '의 주소는', id(f))\n",
    "func2(L)"
   ]
  },
  {
   "cell_type": "code",
   "execution_count": 81,
   "id": "7a212faf",
   "metadata": {},
   "outputs": [
    {
     "name": "stdout",
     "output_type": "stream",
     "text": [
      "L= [1, 2, 3, 4, 5, 6] 의 주소는 2050609814400\n"
     ]
    }
   ],
   "source": [
    "print('L=',L, '의 주소는',id(L))"
   ]
  },
  {
   "cell_type": "markdown",
   "id": "01909a8b",
   "metadata": {},
   "source": [
    "# 2절 함수의 실행결과를 반환하는 return"
   ]
  },
  {
   "cell_type": "code",
   "execution_count": 84,
   "id": "9a1f3526",
   "metadata": {},
   "outputs": [],
   "source": [
    "# def  fibonacci_print(n):\n",
    "#     '''\n",
    "#     매개변수로 들어온 n값 미만의 피보나치 수열을 출력하는 함수\n",
    "#     ex. n=10: 0, 1, 1, 2, 3, 5, 8\n",
    "#         n= 100 0 1 1 2 3 5 8 13 21 34 55 89\n",
    "#     '''\n",
    "#     a, b = 0, 1 #함수 내에 선언한 변수: 지역변수(반: 전역변수)\n",
    "#     while a < n:\n",
    "#         print(a, end=\" \")\n",
    "#         a, b = b , a+b\n",
    "#     print() # 개행\n",
    "def fibonacci(n):\n",
    "    \"n미만의 피보나치수열을 리스트로 return\"\n",
    "    result = [] #피보나치수열을 append할 리스트\n",
    "    a,b = 0,1 \n",
    "    while a< n:\n",
    "        result.append(a) # 리스트에 append\n",
    "        a,b = b, a+b\n",
    "    return result"
   ]
  },
  {
   "cell_type": "code",
   "execution_count": 85,
   "id": "c1ffe2a2",
   "metadata": {},
   "outputs": [
    {
     "name": "stdout",
     "output_type": "stream",
     "text": [
      "[0, 1, 1, 2, 3, 5, 8]\n"
     ]
    }
   ],
   "source": [
    "x = fibonacci(10)\n",
    "print(x)\n"
   ]
  },
  {
   "cell_type": "code",
   "execution_count": 86,
   "id": "c5beea25",
   "metadata": {},
   "outputs": [
    {
     "name": "stdout",
     "output_type": "stream",
     "text": [
      "0 1 1 2 3 5 8 \n",
      "x= None\n",
      "<class 'NoneType'>\n"
     ]
    }
   ],
   "source": [
    "x = fibonacci_print(10)\n",
    "print('x=',x)\n",
    "print(type(x))"
   ]
  },
  {
   "cell_type": "markdown",
   "id": "b3e24eee",
   "metadata": {},
   "source": [
    "### 여러개 값 return\n",
    "- 여러개 값을 갖는 튜플로 return"
   ]
  },
  {
   "cell_type": "code",
   "execution_count": 90,
   "id": "8d525474",
   "metadata": {},
   "outputs": [],
   "source": [
    "def swap(a,b):\n",
    "    '매개변수의 순서를 바꿔서 return'\n",
    "    return b,a # return (b,a)"
   ]
  },
  {
   "cell_type": "code",
   "execution_count": 91,
   "id": "a5f3e7aa",
   "metadata": {},
   "outputs": [
    {
     "name": "stdout",
     "output_type": "stream",
     "text": [
      "함수 실행 전 x,y = 5 10\n",
      "함수 실행 후 x,y= 10 5\n"
     ]
    }
   ],
   "source": [
    "x,y = 5,10\n",
    "print('함수 실행 전 x,y =',x,y)\n",
    "x,y = swap(x,y)\n",
    "print('함수 실행 후 x,y=',x,y)"
   ]
  },
  {
   "cell_type": "markdown",
   "id": "8e3e416b",
   "metadata": {},
   "source": [
    "# 3절 함수의 매개변수★\n",
    "## 3.1 기본값을 갖는 매개변수"
   ]
  },
  {
   "cell_type": "code",
   "execution_count": 92,
   "id": "0ce326b3",
   "metadata": {},
   "outputs": [],
   "source": [
    "def make_url(ip, port=80): # 순서인수 > 기본값을 갖는 매개변수 순으로 배치 rlqhs\n",
    "    return \"http://{}:{}\".format(ip,port)"
   ]
  },
  {
   "cell_type": "code",
   "execution_count": 94,
   "id": "4d6bfba9",
   "metadata": {},
   "outputs": [
    {
     "name": "stdout",
     "output_type": "stream",
     "text": [
      "http:\\localhost:8090\n",
      "http:\\www.naver.com:80\n",
      "http:\\localhost:9090\n"
     ]
    }
   ],
   "source": [
    "print(make_url(\"localhost\",8090))\n",
    "print(make_url(\"www.naver.com\",80))\n",
    "print(make_url(port=9090, ip=\"localhost\"))"
   ]
  },
  {
   "cell_type": "markdown",
   "id": "ed8f0284",
   "metadata": {},
   "source": [
    "## 3.2 기본변수를 기본값으로 갖는 매개변수\n",
    "- 기본변수가 스칼라변수(문자, 숫자, 논리형)일 때\n",
    "- 기본변수가 리스트, 셋, 딕셔너리, 기타 객체일 때"
   ]
  },
  {
   "cell_type": "code",
   "execution_count": 95,
   "id": "5cde8631",
   "metadata": {},
   "outputs": [],
   "source": [
    "i = 80\n",
    "# 기본변수가 스칼라변수일 때: 함수가 정의되는 시점으로 기본값 셋팅\n",
    "def make_url(ip, port=i):\n",
    "    return \"http://{}:{}\".format(ip, port)"
   ]
  },
  {
   "cell_type": "code",
   "execution_count": 96,
   "id": "68c02461",
   "metadata": {},
   "outputs": [
    {
     "data": {
      "text/plain": [
       "'http://localhost:80'"
      ]
     },
     "execution_count": 96,
     "metadata": {},
     "output_type": "execute_result"
    }
   ],
   "source": [
    "i =90\n",
    "make_url(\"localhost\")"
   ]
  },
  {
   "cell_type": "code",
   "execution_count": 130,
   "id": "1be29d88",
   "metadata": {},
   "outputs": [
    {
     "name": "stdout",
     "output_type": "stream",
     "text": [
      "[10]\n"
     ]
    }
   ],
   "source": [
    "list_ = []\n",
    "#기본변수가 리스트, 셋, 딕셔너리, 객체일 때: 함수가 실행되는시점으로 기본값 셋팅\n",
    "def func3(a,L=list_):\n",
    "    L.append(a)\n",
    "    return L\n",
    "print(func3(10))"
   ]
  },
  {
   "cell_type": "code",
   "execution_count": 131,
   "id": "5b0254b5",
   "metadata": {},
   "outputs": [
    {
     "name": "stdout",
     "output_type": "stream",
     "text": [
      "[10, 10]\n"
     ]
    }
   ],
   "source": [
    "print(func3(10))"
   ]
  },
  {
   "cell_type": "code",
   "execution_count": 133,
   "id": "6dc18ca9",
   "metadata": {},
   "outputs": [
    {
     "name": "stdout",
     "output_type": "stream",
     "text": [
      "list_= [10, 10]\n"
     ]
    }
   ],
   "source": [
    "print(\"list_=\",list_)"
   ]
  },
  {
   "cell_type": "code",
   "execution_count": 134,
   "id": "86231b09",
   "metadata": {},
   "outputs": [],
   "source": [
    "# 실행할 때마다 L을 공유하는게 싫으면\n",
    "def func3(a, L=None):\n",
    "    if L is None:\n",
    "        L= []\n",
    "    L.append(a)\n",
    "    return L"
   ]
  },
  {
   "cell_type": "markdown",
   "id": "9a412980",
   "metadata": {},
   "source": [
    "## 3.3 순서 인수, 키워드 인수\n",
    "- 순서 인수: 함수에 정의된 순서대로 전달 방식\n",
    "- 키워드 인수: 인수의 이름을 명시하는 방식\n",
    "- 함수 정의시 순서인수와 키워드인수가 같이 올 때 순서인수 > 키워드 인수 순으로\n"
   ]
  },
  {
   "cell_type": "code",
   "execution_count": 135,
   "id": "edc9b709",
   "metadata": {},
   "outputs": [],
   "source": [
    "def func3(a, L=None):\n",
    "    if L is None:\n",
    "        L= []\n",
    "    L.append(a)\n",
    "    return L"
   ]
  },
  {
   "cell_type": "code",
   "execution_count": 136,
   "id": "840121cd",
   "metadata": {},
   "outputs": [
    {
     "name": "stdout",
     "output_type": "stream",
     "text": [
      "[10]\n",
      "[10, 20]\n"
     ]
    }
   ],
   "source": [
    "lst = []\n",
    "print(func3(10, lst)) # 순서인수: 함수 정의된 순서대로 전달하는 방식\n",
    "print(func3(L= lst, a = 20)) # 키워드 인수: 인수의 이름을 명시하여 전달하는 방식"
   ]
  },
  {
   "cell_type": "markdown",
   "id": "b7afb6b0",
   "metadata": {},
   "source": [
    "## 3.4 튜플매개변수를 이용한 가변인수 설정\n",
    "- 가변인수: 매개변수의 갯수가 가변"
   ]
  },
  {
   "cell_type": "code",
   "execution_count": 137,
   "id": "18c40e90",
   "metadata": {},
   "outputs": [],
   "source": [
    "# 파이썬은 함수의 중복정의(오버로딩)을 지원하지 않음\n",
    "def add(a,b):\n",
    "    return a+b\n",
    "def add(a,b,c):\n",
    "    return a+ b+ c"
   ]
  },
  {
   "cell_type": "code",
   "execution_count": 148,
   "id": "ab70a4d6",
   "metadata": {},
   "outputs": [],
   "source": [
    "# args앞에 * : args가 튜플 로 전달받는다\n",
    "def add(*args): #앞에 *을 넣음으로 써 더 많은 매개변수를 받을 수 있다\n",
    "#     print('args=' ,args)\n",
    "    '전달받은 매개변수들의 합을 return. 매개변수가 없으면 0을 return'\n",
    "    sum = 0 #누적변수\n",
    "    for num in args:\n",
    "        sum += num # sum = sum+num\n",
    "    return sum \n",
    "    "
   ]
  },
  {
   "cell_type": "code",
   "execution_count": 150,
   "id": "935477de",
   "metadata": {},
   "outputs": [
    {
     "name": "stdout",
     "output_type": "stream",
     "text": [
      "0\n",
      "1\n",
      "5\n"
     ]
    },
    {
     "data": {
      "text/plain": [
       "55"
      ]
     },
     "execution_count": 150,
     "metadata": {},
     "output_type": "execute_result"
    }
   ],
   "source": [
    "print (add())\n",
    "print(add(1))\n",
    "print(add(2,3))\n",
    "add(1,2,3,4,5,6,7,8,9,10)"
   ]
  },
  {
   "cell_type": "code",
   "execution_count": 152,
   "id": "cfbfe39b",
   "metadata": {},
   "outputs": [
    {
     "data": {
      "text/plain": [
       "'Python-HTML/CSS-JavaScript-Oracle/MySQL'"
      ]
     },
     "execution_count": 152,
     "metadata": {},
     "output_type": "execute_result"
    }
   ],
   "source": [
    "subject = (\"Python\", \"HTML/CSS\",\"JavaScript\",\"Oracle/MySQL\")\n",
    "'-'. join(subject)"
   ]
  },
  {
   "cell_type": "code",
   "execution_count": 153,
   "id": "f0095918",
   "metadata": {},
   "outputs": [],
   "source": [
    "#튜플 매개변수와 일반 매개변수가 같이 있을 때\n",
    "def concat(*subject, sep):\n",
    "    return sep.join(subject)"
   ]
  },
  {
   "cell_type": "code",
   "execution_count": 154,
   "id": "88fd90ac",
   "metadata": {},
   "outputs": [
    {
     "ename": "TypeError",
     "evalue": "concat() missing 1 required keyword-only argument: 'sep'",
     "output_type": "error",
     "traceback": [
      "\u001b[1;31m---------------------------------------------------------------------------\u001b[0m",
      "\u001b[1;31mTypeError\u001b[0m                                 Traceback (most recent call last)",
      "Cell \u001b[1;32mIn[154], line 1\u001b[0m\n\u001b[1;32m----> 1\u001b[0m \u001b[43mconcat\u001b[49m\u001b[43m(\u001b[49m\u001b[38;5;124;43m\"\u001b[39;49m\u001b[38;5;124;43mPython\u001b[39;49m\u001b[38;5;124;43m\"\u001b[39;49m\u001b[43m,\u001b[49m\u001b[43m \u001b[49m\u001b[38;5;124;43m\"\u001b[39;49m\u001b[38;5;124;43mHTML/CSS\u001b[39;49m\u001b[38;5;124;43m\"\u001b[39;49m\u001b[43m,\u001b[49m\u001b[38;5;124;43m\"\u001b[39;49m\u001b[38;5;124;43mJavaScript\u001b[39;49m\u001b[38;5;124;43m\"\u001b[39;49m\u001b[43m,\u001b[49m\u001b[38;5;124;43m\"\u001b[39;49m\u001b[38;5;124;43mOracle/MySQL\u001b[39;49m\u001b[38;5;124;43m\"\u001b[39;49m\u001b[43m,\u001b[49m\u001b[38;5;124;43m'\u001b[39;49m\u001b[38;5;124;43m-\u001b[39;49m\u001b[38;5;124;43m'\u001b[39;49m\u001b[43m)\u001b[49m\n",
      "\u001b[1;31mTypeError\u001b[0m: concat() missing 1 required keyword-only argument: 'sep'"
     ]
    }
   ],
   "source": [
    "concat(\"Python\", \"HTML/CSS\",\"JavaScript\",\"Oracle/MySQL\",'-')"
   ]
  },
  {
   "cell_type": "code",
   "execution_count": 157,
   "id": "95a90ffe",
   "metadata": {},
   "outputs": [
    {
     "data": {
      "text/plain": [
       "'Python-HTML/CSS-JavaScript-Oracle/MySQL'"
      ]
     },
     "execution_count": 157,
     "metadata": {},
     "output_type": "execute_result"
    }
   ],
   "source": [
    " # 해결책1 매개변수 이름을 지정해서 호출\n",
    "concat(\"Python\", \"HTML/CSS\",\"JavaScript\",\"Oracle/MySQL\",sep='-')"
   ]
  },
  {
   "cell_type": "code",
   "execution_count": 163,
   "id": "a96b7fa6",
   "metadata": {},
   "outputs": [
    {
     "data": {
      "text/plain": [
       "'Python ~ HTML/CSS ~ JavaScript ~ Oracle/MySQL'"
      ]
     },
     "execution_count": 163,
     "metadata": {},
     "output_type": "execute_result"
    }
   ],
   "source": [
    "# 해결책2: 기본값을 갖는 키워드 인수 사용\n",
    "def concat(*subject , sep=' ~ '):\n",
    "    return sep.join(subject)    # 튜플매개변수 > 키워드 인수\n",
    "concat(\"Python\", \"HTML/CSS\",\"JavaScript\",\"Oracle/MySQL\",)"
   ]
  },
  {
   "cell_type": "code",
   "execution_count": 164,
   "id": "83574e75",
   "metadata": {},
   "outputs": [],
   "source": [
    "# 해결책3(추천): sep을 순서인수로 앞으로\n",
    "def concat(sep, *subject):\n",
    "    return sep.join(subject)"
   ]
  },
  {
   "cell_type": "code",
   "execution_count": 165,
   "id": "b76d60ad",
   "metadata": {},
   "outputs": [
    {
     "data": {
      "text/plain": [
       "'Python~Web~DB~MLDL'"
      ]
     },
     "execution_count": 165,
     "metadata": {},
     "output_type": "execute_result"
    }
   ],
   "source": [
    "concat('~','Python','Web','DB',\"MLDL\")"
   ]
  },
  {
   "cell_type": "markdown",
   "id": "3df85f62",
   "metadata": {},
   "source": [
    "## 3.5 딕셔너리 매개변수\n",
    "- 딕셔너리 인수: 여러개의 키워드 인수를 딕셔너리 형태로 받아서 가변인수로 처리"
   ]
  },
  {
   "cell_type": "code",
   "execution_count": 166,
   "id": "74064e19",
   "metadata": {},
   "outputs": [
    {
     "data": {
      "text/plain": [
       "'http://localhost:8080'"
      ]
     },
     "execution_count": 166,
     "metadata": {},
     "output_type": "execute_result"
    }
   ],
   "source": [
    "make_url(ip=\"localhost\",port=8080)"
   ]
  },
  {
   "cell_type": "code",
   "execution_count": 185,
   "id": "6a201d1e",
   "metadata": {},
   "outputs": [],
   "source": [
    "def func5(**args): # args : 딕셔너리로 전달받음\n",
    "    print(\"이름: \",args.get('name','홍길동'))\n",
    "    print(\"나이: \",args.get('age','30'))\n",
    "    print(\"전화: \",args.get('tel','010-9999-9999'))\n",
    "    print(\"주소: \",args.get('address','서울 관악'))"
   ]
  },
  {
   "cell_type": "code",
   "execution_count": 195,
   "id": "6dc37a61",
   "metadata": {},
   "outputs": [],
   "source": [
    "def func5(**args):\n",
    "    print(args)\n",
    "    print(type(args))\n",
    "    if 'address' not in args: # args에 address 키가 없으면 if 문 True\n",
    "        # args['address'] =' 서울시 관악구'\n",
    "        args.update(address=\"서울시 관악구\")\n",
    "    for key, value in args.items():\n",
    "        print(f\"{key}:{value}\")"
   ]
  },
  {
   "cell_type": "code",
   "execution_count": 196,
   "id": "4c45db55",
   "metadata": {},
   "outputs": [
    {
     "name": "stdout",
     "output_type": "stream",
     "text": [
      "{'name': '홍길동', 'age': 30, 'tel': '010-9999-9999'}\n",
      "<class 'dict'>\n",
      "name:홍길동\n",
      "age:30\n",
      "tel:010-9999-9999\n",
      "address:서울시 관악구\n"
     ]
    }
   ],
   "source": [
    "func5(name='홍길동',age=30, tel='010-9999-9999')"
   ]
  },
  {
   "cell_type": "code",
   "execution_count": 188,
   "id": "9c72e8a9",
   "metadata": {},
   "outputs": [],
   "source": [
    "def func(a,b,c):\n",
    "    return a+b+c\n",
    "# func()"
   ]
  },
  {
   "cell_type": "markdown",
   "id": "992af0a7",
   "metadata": {},
   "source": [
    "## 3.6 함수 정의시 매개변수의 순서\n",
    "- 순서인수 > 튜플인수(*) > 키워드인수(기본값) > 딕셔너리인수(**)"
   ]
  },
  {
   "cell_type": "code",
   "execution_count": 203,
   "id": "77927edc",
   "metadata": {},
   "outputs": [],
   "source": [
    "# 순서인수 > 튜플인수 > 딕셔너리인수\n",
    "def func6(a,b,*c,**d):\n",
    "    print(\"순서인수 a=\",a)\n",
    "    print(\"순서인수 b=\",b)\n",
    "    print(\"튜플인수 c=\",c)\n",
    "    print(\"순서인수 d=\",d)"
   ]
  },
  {
   "cell_type": "code",
   "execution_count": 204,
   "id": "91e83526",
   "metadata": {},
   "outputs": [
    {
     "name": "stdout",
     "output_type": "stream",
     "text": [
      "순서인수 a= 10\n",
      "순서인수 b= 20\n",
      "튜플인수 c= (1, 2, 3, 4, 5, 6, 7, 8, 9)\n",
      "순서인수 d= {'name': '홍', 'age': 30, 'address': '신림'}\n"
     ]
    }
   ],
   "source": [
    "func6(10,20, 1,2,3,4,5,6,7,8,9, name='홍', age=30, address='신림')"
   ]
  },
  {
   "cell_type": "code",
   "execution_count": 215,
   "id": "41269846",
   "metadata": {},
   "outputs": [],
   "source": [
    "# 순서인수 > 튜플인수(*) > 키워드인수(기본값) > 딕셔너리인수(**)\n",
    "def func7(a,b,c,*d,e=10,**f):\n",
    "    print(\"순서인수 a=\",a)\n",
    "    print(\"순서인수 a=\",b)\n",
    "    print(\"순서인수 a=\",c)\n",
    "    print(\"튜플인수 a=\",d)\n",
    "    print(\"키워드인수(기본값10) e=\",e)\n",
    "    print(\"딕셔너리인수 a=\",f)\n"
   ]
  },
  {
   "cell_type": "code",
   "execution_count": 216,
   "id": "75f6f62c",
   "metadata": {},
   "outputs": [
    {
     "name": "stdout",
     "output_type": "stream",
     "text": [
      "순서인수 a= 10\n",
      "순서인수 a= 20\n",
      "순서인수 a= 30\n",
      "튜플인수 a= ()\n",
      "키워드인수(기본값10) e= 100\n",
      "딕셔너리인수 a= {}\n"
     ]
    }
   ],
   "source": [
    "func7(10,20,30,e=100)"
   ]
  },
  {
   "cell_type": "code",
   "execution_count": 217,
   "id": "f0bd59e1",
   "metadata": {},
   "outputs": [
    {
     "name": "stdout",
     "output_type": "stream",
     "text": [
      "순서인수 a= 10\n",
      "순서인수 a= 20\n",
      "순서인수 a= 30\n",
      "튜플인수 a= (1, 2, 3, 4, 5)\n",
      "키워드인수(기본값10) e= 100\n",
      "딕셔너리인수 a= {'shape': 'rect', 'weith': 20, 'height': 30}\n"
     ]
    }
   ],
   "source": [
    "func7(10, 20, 30, 1, 2, 3, 4, 5, e=100, shape='rect',weith=20,height=30)"
   ]
  },
  {
   "cell_type": "markdown",
   "id": "e01d30c3",
   "metadata": {},
   "source": [
    "## 3.7인수의 언패킹\n",
    "### 튜플인수 언패킹\n",
    "- 언패킹: 함수 호출시 매개변수 앞에 * 붙임\n",
    "- 패킹: 함수 정의식 매개변수앞에 *붙임 (튜플매개변수)"
   ]
  },
  {
   "cell_type": "code",
   "execution_count": 222,
   "id": "7ff4d8a5",
   "metadata": {},
   "outputs": [],
   "source": [
    "def add(*args):\n",
    "    sum = 0\n",
    "    for num in args:\n",
    "        sum+= num\n",
    "    return sum"
   ]
  },
  {
   "cell_type": "code",
   "execution_count": 223,
   "id": "9441a568",
   "metadata": {},
   "outputs": [
    {
     "data": {
      "text/plain": [
       "6"
      ]
     },
     "execution_count": 223,
     "metadata": {},
     "output_type": "execute_result"
    }
   ],
   "source": [
    "add(1,2,3)"
   ]
  },
  {
   "cell_type": "code",
   "execution_count": 221,
   "id": "2d559051",
   "metadata": {},
   "outputs": [
    {
     "data": {
      "text/plain": [
       "6"
      ]
     },
     "execution_count": 221,
     "metadata": {},
     "output_type": "execute_result"
    }
   ],
   "source": [
    "numbers = (1,2,3)\n",
    "add(*numbers)"
   ]
  },
  {
   "cell_type": "markdown",
   "id": "c75f364e",
   "metadata": {},
   "source": [
    "### 딕셔너리 인수 언패킹"
   ]
  },
  {
   "cell_type": "code",
   "execution_count": 224,
   "id": "00e68c4d",
   "metadata": {},
   "outputs": [],
   "source": [
    "def func8(**data):\n",
    "    print(data)\n",
    "    for item in data.items():\n",
    "        print(item)\n"
   ]
  },
  {
   "cell_type": "code",
   "execution_count": 225,
   "id": "ff6681e0",
   "metadata": {},
   "outputs": [
    {
     "name": "stdout",
     "output_type": "stream",
     "text": [
      "{'shape': 'rect', 'width': 50, 'height': 30}\n",
      "('shape', 'rect')\n",
      "('width', 50)\n",
      "('height', 30)\n"
     ]
    }
   ],
   "source": [
    "func8(shape=\"rect\", width=50,height=30)"
   ]
  },
  {
   "cell_type": "code",
   "execution_count": 229,
   "id": "9bc653b4",
   "metadata": {},
   "outputs": [
    {
     "name": "stdout",
     "output_type": "stream",
     "text": [
      "{'shape': 'rect', 'width': 50, 'height': 30}\n",
      "('shape', 'rect')\n",
      "('width', 50)\n",
      "('height', 30)\n"
     ]
    }
   ],
   "source": [
    "info = {'shape':'rect', 'width':50, 'height':30}\n",
    "func8(**info)"
   ]
  },
  {
   "cell_type": "markdown",
   "id": "bc9c1fe9",
   "metadata": {},
   "source": [
    "# 4절 람다식\n",
    "- return 한 줄짜리 작은 익명함수"
   ]
  },
  {
   "cell_type": "code",
   "execution_count": 5,
   "id": "2ae64c01",
   "metadata": {},
   "outputs": [
    {
     "data": {
      "text/plain": [
       "8"
      ]
     },
     "execution_count": 5,
     "metadata": {},
     "output_type": "execute_result"
    }
   ],
   "source": [
    "def add(a,b):\n",
    "    return a+ b\n",
    "add(3,5)"
   ]
  },
  {
   "cell_type": "code",
   "execution_count": null,
   "id": "52b238bf",
   "metadata": {},
   "outputs": [],
   "source": [
    "add2 = lambda a, b : a + b #(함수의 매개변수,매개변수 : 리턴 받을 값)"
   ]
  },
  {
   "cell_type": "code",
   "execution_count": 10,
   "id": "dfcb32e6",
   "metadata": {},
   "outputs": [
    {
     "data": {
      "text/plain": [
       "(' 홀수 ', '짝수')"
      ]
     },
     "execution_count": 10,
     "metadata": {},
     "output_type": "execute_result"
    }
   ],
   "source": [
    "# ex1. 매개변수로 들어온 값이 짝수인지 홀수인지 return하는 함수를 람다식으로 만든다\n",
    "def even_odd_chk(num):\n",
    "#     if num % 2:\n",
    "#         result = \"홀수\"\n",
    "#     else:\n",
    "#         result = \"짝수\"\n",
    "\n",
    "#     return \" 홀수 \" if num % 2 else \"짝수\"\n",
    "\n",
    "even_odd_chk = lambda num : \" 홀수 \" if num % 2 else \"짝수\" # \n",
    "\n",
    "even_odd_chk(5), even_odd_chk(4)"
   ]
  },
  {
   "cell_type": "code",
   "execution_count": 16,
   "id": "43230714",
   "metadata": {},
   "outputs": [
    {
     "data": {
      "text/plain": [
       "4"
      ]
     },
     "execution_count": 16,
     "metadata": {},
     "output_type": "execute_result"
    }
   ],
   "source": [
    "# ex2. 두 매개변수의 차이를 return하는 함수를 람다식을 만들어 보세요\n",
    "diff = lambda a ,b :a - b if a> b else b-a  \n",
    "diff(5,1)"
   ]
  },
  {
   "cell_type": "code",
   "execution_count": 18,
   "id": "0789d3d5",
   "metadata": {},
   "outputs": [
    {
     "data": {
      "text/plain": [
       "'negative'"
      ]
     },
     "execution_count": 18,
     "metadata": {},
     "output_type": "execute_result"
    }
   ],
   "source": [
    "# ex3. 매개변수로 잔액을 받아, 잔액이 양수면 잔액을 return, 음수면 'negative'를 리턴\n",
    "ex3 = lambda balance : balance if balance >= 0  else  \"negative\"\n",
    "ex3(-100)"
   ]
  },
  {
   "cell_type": "code",
   "execution_count": 47,
   "id": "18516123",
   "metadata": {},
   "outputs": [
    {
     "data": {
      "text/plain": [
       "'B팀'"
      ]
     },
     "execution_count": 47,
     "metadata": {},
     "output_type": "execute_result"
    }
   ],
   "source": [
    "# # ex4. 점수를 입력받아 80점이상은 'A팀', 60점 이상은 'B팀', 60점 미만은 '재시험' 100점 초과 or 0점 미만 '유효하지않음'을 return\n",
    "score_ = lambda score : \"A팀\" if 80 <= score <= 100 else \"B팀\" if 60 <= score  < 80 else \"재시험\" if 0 <= socre < 60 else \"유효하지않음\"\n",
    "score_(74) #풀이 score_ 안에 람다식으로 \"A팀에대한 조건\" if, else 'space' \"B팀에대한 조건 \" if, else  \n"
   ]
  },
  {
   "cell_type": "code",
   "execution_count": 13,
   "id": "98fbfae1",
   "metadata": {},
   "outputs": [
    {
     "name": "stdout",
     "output_type": "stream",
     "text": [
      "점수를 입력하시오: 100\n",
      "A학점\n"
     ]
    }
   ],
   "source": [
    "# ex5. 점수를 입력받아 학점을 return\n",
    "score = int(input(\"점수를 입력하시오: \"))\n",
    "scoreGrade = lambda s : \"A학점\" if 90<= score <=100 else \\\n",
    "                            \"B학점\" if 80<=score <90 else \\\n",
    "                            \"C학점\" if 70<=score <80 else \\\n",
    "                            \"D학점\" if 60<=score <70 else \\\n",
    "                            \"F학점\" if 0<=score <60 else \\\n",
    "                            \"유효하지않음\"\n",
    "print(scoreGrade(score))"
   ]
  },
  {
   "cell_type": "code",
   "execution_count": 25,
   "id": "6c2346f2",
   "metadata": {},
   "outputs": [
    {
     "data": {
      "text/plain": [
       "(-1, 2)"
      ]
     },
     "execution_count": 25,
     "metadata": {},
     "output_type": "execute_result"
    }
   ],
   "source": [
    "# ex6. safe_index함수를 람다식으로\n",
    "\n",
    "def safe_index(lst,item,start=0):\n",
    "    return lst.index(item, start) if item in lst[start:] else -1\n",
    "\n",
    "ex5 = lambda lst, item, start =0 :lst.index(item, start)\\\n",
    "       if item in lst[start:] else -1\n",
    "\n",
    "i =3\n",
    "lst = [i,2,3]\n",
    "safe_index(lst,4), ex5(lst,3,1)"
   ]
  },
  {
   "cell_type": "code",
   "execution_count": 34,
   "id": "0a5b4688",
   "metadata": {},
   "outputs": [
    {
     "data": {
      "text/plain": [
       "[25, 15, 100, 4.0]"
      ]
     },
     "execution_count": 34,
     "metadata": {},
     "output_type": "execute_result"
    }
   ],
   "source": [
    "# 람다식을 list에 들어갈 수 있음\n",
    "add = lambda a, b : a + b\n",
    "sub = lambda a, b : a - b\n",
    "mul = lambda a, b : a * b\n",
    "div = lambda a, b : a / b if  b else '두 번째 인자가 0이면 못 나눠요'\n",
    "operations = [add, sub, mul, div] # 사칙연산 함수들\n",
    "def act_operations (a, b, operation= operations): # a,b의 연산결과 return\n",
    "    result = []\n",
    "    \n",
    "    for op in operation:\n",
    "        result.append(op(a ,b))\n",
    "    return result\n",
    "            \n",
    "act_operations (20,5)"
   ]
  },
  {
   "cell_type": "code",
   "execution_count": 38,
   "id": "87fe7bb6",
   "metadata": {},
   "outputs": [
    {
     "data": {
      "text/plain": [
       "[64, 82]"
      ]
     },
     "execution_count": 38,
     "metadata": {},
     "output_type": "execute_result"
    }
   ],
   "source": [
    "act_operations(8,2,[lambda x, y: x**y, lambda x,y :10*x+y])"
   ]
  },
  {
   "cell_type": "code",
   "execution_count": 39,
   "id": "7634db47",
   "metadata": {},
   "outputs": [],
   "source": [
    "operations.append(lambda x, y : x ** y)"
   ]
  },
  {
   "cell_type": "code",
   "execution_count": 40,
   "id": "b1875eb2",
   "metadata": {},
   "outputs": [
    {
     "data": {
      "text/plain": [
       "[10, 6, 16, 4.0, 64]"
      ]
     },
     "execution_count": 40,
     "metadata": {},
     "output_type": "execute_result"
    }
   ],
   "source": [
    "act_operations(8,2) # 기본값을 갖는 변수(기본 변수)가 리스트면 기본값은 호출할 시점"
   ]
  },
  {
   "cell_type": "markdown",
   "id": "d43c24c2",
   "metadata": {},
   "source": [
    "## 4.2 함수의 매개변수(인수)에 람다식 사용\n",
    "- 람다식을 사용하는 곳: 함수의 매개변수 > return 문\n",
    "### (1) map"
   ]
  },
  {
   "cell_type": "code",
   "execution_count": 69,
   "id": "98afef67",
   "metadata": {},
   "outputs": [],
   "source": [
    "def map_template(func, L=[]):\n",
    "    result= []\n",
    "    for item in L:\n",
    "        result.append(func(item))\n",
    "    return result\n"
   ]
  },
  {
   "cell_type": "code",
   "execution_count": 70,
   "id": "4a05926e",
   "metadata": {},
   "outputs": [
    {
     "data": {
      "text/plain": [
       "[2, 4, 6, 8, 10, 12, 14]"
      ]
     },
     "execution_count": 70,
     "metadata": {},
     "output_type": "execute_result"
    }
   ],
   "source": [
    "list_data =[1,2,3,4,5,6,7]\n",
    "map_template(lambda a: a*2 ,list_data)"
   ]
  },
  {
   "cell_type": "code",
   "execution_count": 71,
   "id": "72b67c55",
   "metadata": {},
   "outputs": [
    {
     "data": {
      "text/plain": [
       "[2, 4, 6, 8, 10, 12, 14]"
      ]
     },
     "execution_count": 71,
     "metadata": {},
     "output_type": "execute_result"
    }
   ],
   "source": [
    "# 리스트 컴프리헨션\n",
    "[item * 2 for item in list_data]"
   ]
  },
  {
   "cell_type": "code",
   "execution_count": 76,
   "id": "2fcedde4",
   "metadata": {},
   "outputs": [
    {
     "data": {
      "text/plain": [
       "[2, 4, 6, 8, 10, 12, 14]"
      ]
     },
     "execution_count": 76,
     "metadata": {},
     "output_type": "execute_result"
    }
   ],
   "source": [
    "list(map(lambda x: x * 2 ,list_data))"
   ]
  },
  {
   "cell_type": "code",
   "execution_count": 77,
   "id": "b8332e9f",
   "metadata": {},
   "outputs": [
    {
     "name": "stdout",
     "output_type": "stream",
     "text": [
      "2 4 6 8 10 12 14 "
     ]
    }
   ],
   "source": [
    "for data in map(lambda x:x*2,list_data):\n",
    "    print(data, end=\" \")"
   ]
  },
  {
   "cell_type": "code",
   "execution_count": 86,
   "id": "7841f873",
   "metadata": {},
   "outputs": [
    {
     "name": "stdout",
     "output_type": "stream",
     "text": [
      "5000 5000 6000 1000 5000 5000 6000 1000 "
     ]
    }
   ],
   "source": [
    "# 예제prices = ['5,000', '5000', '6,000', '1000','5,000', '5000', '6,000', '1000’]를 [5000,5000,6000,1000]식으로 바꾸시오\n",
    "prices = ['5,000', '5000', '6,000', '1000','5,000', '5000', '6,000','1000']\n",
    "\n",
    "def toint(value):\n",
    "    return int(value.replace(',',''))\n",
    "\n",
    "prices_int =map(lambda value: int(value.replace(',','')),prices)\n",
    "\n",
    "for price in prices_int:\n",
    "    print(price,end=' ')"
   ]
  },
  {
   "cell_type": "code",
   "execution_count": 151,
   "id": "0b3cfb87",
   "metadata": {},
   "outputs": [],
   "source": [
    "#예제2\n",
    "members1 = [{'name':'홍길동', 'birth':'2000-01-01'},{'name':'신길동', 'birth':'1995-12-18'},]\n",
    "members2 = [{'name':'홍길동', 'year':2000, 'month':1,'day':1},{'name':'신길동', 'year':1995, 'month':12, 'day':18},]"
   ]
  },
  {
   "cell_type": "code",
   "execution_count": 152,
   "id": "4b2b04e6",
   "metadata": {},
   "outputs": [
    {
     "name": "stdout",
     "output_type": "stream",
     "text": [
      "{'year': 2000, 'month': 2, 'day': 2}\n"
     ]
    }
   ],
   "source": [
    "# '2000-01-01' => {'year':2000, 'month':1' 'day':1}\n",
    "date_str = '2000-02-02'\n",
    "keys = ['year','month','day']\n",
    "# map(iambda(kv: ))\n",
    "result = dict(map(lambda kv: (kv[0], int(kv[1])), zip(keys, date_str.split(\"-\"))))\n",
    "print(result)"
   ]
  },
  {
   "cell_type": "code",
   "execution_count": 153,
   "id": "4ce9e7b4",
   "metadata": {},
   "outputs": [
    {
     "data": {
      "text/plain": [
       "({'year': 2025, 'month': 1, 'day': 1}, {'year': 1995, 'month': 12, 'day': 12})"
      ]
     },
     "execution_count": 153,
     "metadata": {},
     "output_type": "execute_result"
    }
   ],
   "source": [
    "def split_date(date):\n",
    "    split_date = date.split('-')\n",
    "    return {\n",
    "        'year' : int(split_date[0]),\n",
    "        'month' : int(split_date[1]),\n",
    "        'day' : int(split_date[2])\n",
    "    }\n",
    "split_date('2025-01-01'), split_date('1995-12-12')"
   ]
  },
  {
   "cell_type": "code",
   "execution_count": 121,
   "id": "edf57554",
   "metadata": {},
   "outputs": [
    {
     "data": {
      "text/plain": [
       "{'name': '홍길동', 'year': 2002, 'month': 1, 'day': 1}"
      ]
     },
     "execution_count": 121,
     "metadata": {},
     "output_type": "execute_result"
    }
   ],
   "source": [
    "def member_preprocessing(member):\n",
    "    return {\n",
    "        'name': member.get('name','이름없음'),\n",
    "        'year': int(member.get('birth').split('-')[0]),\n",
    "        'month': int(member.get('birth').split('-')[1]),\n",
    "        'day': int(member.get('birth').split('-')[2])\n",
    "    }\n",
    "member_preprocessing({'name':'홍길동','birth':'2002-01-01'})"
   ]
  },
  {
   "cell_type": "code",
   "execution_count": 155,
   "id": "f2dae886",
   "metadata": {},
   "outputs": [
    {
     "data": {
      "text/plain": [
       "[{'name': '홍길동', 'year': 2000, 'month': 1, 'day': 1},\n",
       " {'name': '신길동', 'year': 1995, 'month': 12, 'day': 18}]"
      ]
     },
     "execution_count": 155,
     "metadata": {},
     "output_type": "execute_result"
    }
   ],
   "source": [
    "members2 = list(map(lambda member:{\n",
    "        'name': member.get('name','이름없음'),\n",
    "        'year': int(member.get('birth').split('-')[0]),\n",
    "        'month': int(member.get('birth').split('-')[1]),\n",
    "        'day': int(member.get('birth').split('-')[2])}, members1))\n",
    "\n",
    "members2 \n",
    "# member2 에 리스트로 묶고 map함수와 람다함수 매개변수 member는 딕셔너리 name에는 member에서 'name'  없으면 '이름 없음' 호출, year키에서 birth(2002-01-01)인트로 정수형으로 바꾸고 split에서 spc'-' 을 제거 [0]가져오기\n",
    "# 그렇게 데이까지 똑같이 하고 member value "
   ]
  },
  {
   "cell_type": "code",
   "execution_count": 126,
   "id": "3463b895",
   "metadata": {},
   "outputs": [],
   "source": [
    "members2 = [{'name':'홍길동', 'year':2000, 'month':1,'day':1},{'name':'신길동', 'year':1995, 'month':12, 'day':18},]"
   ]
  },
  {
   "cell_type": "code",
   "execution_count": 159,
   "id": "32843554",
   "metadata": {},
   "outputs": [
    {
     "data": {
      "text/plain": [
       "{'birth': '2000-09-09'}"
      ]
     },
     "execution_count": 159,
     "metadata": {},
     "output_type": "execute_result"
    }
   ],
   "source": [
    "# {'year':2000 'month':1 'day':1} => {'birth':'2025-01-01'}\n",
    "def join_date(data):\n",
    "    return {\"birth\": \"{year:02}-{month:02}-{day:02}\".format(**data)}\n",
    "join_date({'year':2000,'month':9,'day':9})"
   ]
  },
  {
   "cell_type": "code",
   "execution_count": 162,
   "id": "108aaa35",
   "metadata": {},
   "outputs": [
    {
     "data": {
      "text/plain": [
       "{'name': 'hong', 'birth': '2000-09-09'}"
      ]
     },
     "execution_count": 162,
     "metadata": {},
     "output_type": "execute_result"
    }
   ],
   "source": [
    "# {'name':'hong' year':2000 'month':1 'day':1} => {'name':'hong', birth':'2025-01-01'}\n",
    "\n",
    "\n",
    "def join_date(data):\n",
    "    return {\"name\": 'hong',\"birth\": \"{year:02}-{month:02}-{day:02}\".format(**data)}\n",
    "join_date({'name':'hong', 'year':2000,'month':9,'day':9})"
   ]
  },
  {
   "cell_type": "code",
   "execution_count": 167,
   "id": "ff3dccf5",
   "metadata": {},
   "outputs": [
    {
     "data": {
      "text/plain": [
       "[{'name': '홍길동', 'birth': '2000-01-01'},\n",
       " {'name': '신길동', 'birth': '1995-12-18'}]"
      ]
     },
     "execution_count": 167,
     "metadata": {},
     "output_type": "execute_result"
    }
   ],
   "source": [
    "list(map(lambda member:{\"name\": member.get('name'),\n",
    "                        \"birth\": \"{year:02}-{month:02}-{day:02}\".format(**member)},  members2))"
   ]
  },
  {
   "cell_type": "markdown",
   "id": "1003038a",
   "metadata": {},
   "source": [
    "## (2) filter"
   ]
  },
  {
   "cell_type": "code",
   "execution_count": 169,
   "id": "6deb0c34",
   "metadata": {},
   "outputs": [],
   "source": [
    "def filter_template(func,L=[]):\n",
    "    result = []\n",
    "    for item in L:\n",
    "        if func(item):\n",
    "            result.append(item)\n",
    "    return result"
   ]
  },
  {
   "cell_type": "code",
   "execution_count": 170,
   "id": "aee68730",
   "metadata": {},
   "outputs": [
    {
     "data": {
      "text/plain": [
       "[1, 3, 5, 7, 9]"
      ]
     },
     "execution_count": 170,
     "metadata": {},
     "output_type": "execute_result"
    }
   ],
   "source": [
    "list_data = [1,2,3,4,5,6,7,8,9]\n",
    "def odd_chk(value):\n",
    "    return value %2 !=0\n",
    "#     if value%2:\n",
    "#         return True\n",
    "#     else:\n",
    "#         return False\n",
    "filter_template(lambda value: value%2 !=0,list_data)"
   ]
  },
  {
   "cell_type": "code",
   "execution_count": 182,
   "id": "71cc59e4",
   "metadata": {},
   "outputs": [
    {
     "data": {
      "text/plain": [
       "[1, 3, 5, 7, 9]"
      ]
     },
     "execution_count": 182,
     "metadata": {},
     "output_type": "execute_result"
    }
   ],
   "source": [
    "[value for value in list_data if value%2 !=0]"
   ]
  },
  {
   "cell_type": "code",
   "execution_count": 184,
   "id": "dbcf7169",
   "metadata": {},
   "outputs": [
    {
     "data": {
      "text/plain": [
       "[1, 3.0, 100, -2.0]"
      ]
     },
     "execution_count": 184,
     "metadata": {},
     "output_type": "execute_result"
    }
   ],
   "source": [
    "# 예제: 다음 리스트에서 소수점 이하가 0인 수만 추출하시오.\n",
    "L=[1, 1.2, 1.5, 3.0, 10.5, 100, -2.0, -12.2]\n",
    "\n",
    "[value for value in L if value % 1== 0]"
   ]
  },
  {
   "cell_type": "code",
   "execution_count": 185,
   "id": "c1ebc611",
   "metadata": {},
   "outputs": [
    {
     "data": {
      "text/plain": [
       "[1, 3.0, 100, -2.0]"
      ]
     },
     "execution_count": 185,
     "metadata": {},
     "output_type": "execute_result"
    }
   ],
   "source": [
    "list(filter_template(lambda value: value%1==0,L))"
   ]
  },
  {
   "cell_type": "markdown",
   "id": "40433645",
   "metadata": {},
   "source": [
    "## (3) sort"
   ]
  },
  {
   "cell_type": "code",
   "execution_count": 186,
   "id": "986a15ea",
   "metadata": {},
   "outputs": [
    {
     "data": {
      "text/plain": [
       "[10, 6, 3, 1]"
      ]
     },
     "execution_count": 186,
     "metadata": {},
     "output_type": "execute_result"
    }
   ],
   "source": [
    "p = [10,3,6,1]\n",
    "p.sort(reverse=True)\n",
    "p"
   ]
  },
  {
   "cell_type": "code",
   "execution_count": 188,
   "id": "e5cad5b9",
   "metadata": {},
   "outputs": [
    {
     "data": {
      "text/plain": [
       "[(1, 'one'), (2, 'two'), (3, 'three'), (4, 'four')]"
      ]
     },
     "execution_count": 188,
     "metadata": {},
     "output_type": "execute_result"
    }
   ],
   "source": [
    "# 무조건 0번째 item을 기준으로 오름차순 정렬\n",
    "pairs = [(2,'two'),(1,'one'),(3,'three'),(4,'four')]\n",
    "pairs.sort()\n",
    "pairs"
   ]
  },
  {
   "cell_type": "code",
   "execution_count": 193,
   "id": "2029918d",
   "metadata": {},
   "outputs": [
    {
     "data": {
      "text/plain": [
       "[(2, 'two'), (3, 'three'), (1, 'one'), (4, 'four')]"
      ]
     },
     "execution_count": 193,
     "metadata": {},
     "output_type": "execute_result"
    }
   ],
   "source": [
    "# 1번째 기준으로 item기준으로 내림차순 정렬\n",
    "pairs.sort(key=lambda data:data[1],reverse=True)\n",
    "pairs"
   ]
  },
  {
   "cell_type": "code",
   "execution_count": 198,
   "id": "955dcd00",
   "metadata": {},
   "outputs": [
    {
     "name": "stdout",
     "output_type": "stream",
     "text": [
      "[[9, 9], [1, 100], [10, 200]]\n",
      "[[10, 200], [1, 100], [9, 9]]\n"
     ]
    }
   ],
   "source": [
    "# 합이 큰 순서로 정렬\n",
    "number_2d =[[9,9],[1,100],[10,200]]\n",
    "print(number_2d)\n",
    "number_2d.sort(key=lambda items : sum(items),reverse= True)\n",
    "print(number_2d)\n",
    "\n",
    "    \n",
    "    \n"
   ]
  },
  {
   "cell_type": "code",
   "execution_count": 201,
   "id": "5c579026",
   "metadata": {},
   "outputs": [
    {
     "ename": "KeyError",
     "evalue": "1",
     "output_type": "error",
     "traceback": [
      "\u001b[1;31m---------------------------------------------------------------------------\u001b[0m",
      "\u001b[1;31mKeyError\u001b[0m                                  Traceback (most recent call last)",
      "Cell \u001b[1;32mIn[201], line 5\u001b[0m\n\u001b[0;32m      1\u001b[0m students \u001b[38;5;241m=\u001b[39m [{\u001b[38;5;124m'\u001b[39m\u001b[38;5;124mname\u001b[39m\u001b[38;5;124m'\u001b[39m:\u001b[38;5;124m'\u001b[39m\u001b[38;5;124m홍\u001b[39m\u001b[38;5;124m'\u001b[39m,\u001b[38;5;124m'\u001b[39m\u001b[38;5;124mscore\u001b[39m\u001b[38;5;124m'\u001b[39m:\u001b[38;5;241m99\u001b[39m},\n\u001b[0;32m      2\u001b[0m            {\u001b[38;5;124m'\u001b[39m\u001b[38;5;124mname\u001b[39m\u001b[38;5;124m'\u001b[39m:\u001b[38;5;124m'\u001b[39m\u001b[38;5;124m김\u001b[39m\u001b[38;5;124m'\u001b[39m,\u001b[38;5;124m'\u001b[39m\u001b[38;5;124mscore\u001b[39m\u001b[38;5;124m'\u001b[39m:\u001b[38;5;241m50\u001b[39m},\n\u001b[0;32m      3\u001b[0m            {\u001b[38;5;124m'\u001b[39m\u001b[38;5;124mname\u001b[39m\u001b[38;5;124m'\u001b[39m:\u001b[38;5;124m'\u001b[39m\u001b[38;5;124m박\u001b[39m\u001b[38;5;124m'\u001b[39m,\u001b[38;5;124m'\u001b[39m\u001b[38;5;124mscore\u001b[39m\u001b[38;5;124m'\u001b[39m:\u001b[38;5;241m77\u001b[39m},\n\u001b[0;32m      4\u001b[0m            {\u001b[38;5;124m'\u001b[39m\u001b[38;5;124mscore\u001b[39m\u001b[38;5;124m'\u001b[39m:\u001b[38;5;241m100\u001b[39m},]\n\u001b[1;32m----> 5\u001b[0m \u001b[43mstudents\u001b[49m\u001b[38;5;241;43m.\u001b[39;49m\u001b[43msort\u001b[49m\u001b[43m(\u001b[49m\u001b[43mkey\u001b[49m\u001b[38;5;241;43m=\u001b[39;49m\u001b[38;5;28;43;01mlambda\u001b[39;49;00m\u001b[43m \u001b[49m\u001b[43mdata\u001b[49m\u001b[43m:\u001b[49m\u001b[43mdata\u001b[49m\u001b[43m[\u001b[49m\u001b[38;5;241;43m1\u001b[39;49m\u001b[43m]\u001b[49m\u001b[43m,\u001b[49m\u001b[43mreverse\u001b[49m\u001b[38;5;241;43m=\u001b[39;49m\u001b[38;5;28;43;01mTrue\u001b[39;49;00m\u001b[43m)\u001b[49m\n",
      "Cell \u001b[1;32mIn[201], line 5\u001b[0m, in \u001b[0;36m<lambda>\u001b[1;34m(data)\u001b[0m\n\u001b[0;32m      1\u001b[0m students \u001b[38;5;241m=\u001b[39m [{\u001b[38;5;124m'\u001b[39m\u001b[38;5;124mname\u001b[39m\u001b[38;5;124m'\u001b[39m:\u001b[38;5;124m'\u001b[39m\u001b[38;5;124m홍\u001b[39m\u001b[38;5;124m'\u001b[39m,\u001b[38;5;124m'\u001b[39m\u001b[38;5;124mscore\u001b[39m\u001b[38;5;124m'\u001b[39m:\u001b[38;5;241m99\u001b[39m},\n\u001b[0;32m      2\u001b[0m            {\u001b[38;5;124m'\u001b[39m\u001b[38;5;124mname\u001b[39m\u001b[38;5;124m'\u001b[39m:\u001b[38;5;124m'\u001b[39m\u001b[38;5;124m김\u001b[39m\u001b[38;5;124m'\u001b[39m,\u001b[38;5;124m'\u001b[39m\u001b[38;5;124mscore\u001b[39m\u001b[38;5;124m'\u001b[39m:\u001b[38;5;241m50\u001b[39m},\n\u001b[0;32m      3\u001b[0m            {\u001b[38;5;124m'\u001b[39m\u001b[38;5;124mname\u001b[39m\u001b[38;5;124m'\u001b[39m:\u001b[38;5;124m'\u001b[39m\u001b[38;5;124m박\u001b[39m\u001b[38;5;124m'\u001b[39m,\u001b[38;5;124m'\u001b[39m\u001b[38;5;124mscore\u001b[39m\u001b[38;5;124m'\u001b[39m:\u001b[38;5;241m77\u001b[39m},\n\u001b[0;32m      4\u001b[0m            {\u001b[38;5;124m'\u001b[39m\u001b[38;5;124mscore\u001b[39m\u001b[38;5;124m'\u001b[39m:\u001b[38;5;241m100\u001b[39m},]\n\u001b[1;32m----> 5\u001b[0m students\u001b[38;5;241m.\u001b[39msort(key\u001b[38;5;241m=\u001b[39m\u001b[38;5;28;01mlambda\u001b[39;00m data:\u001b[43mdata\u001b[49m\u001b[43m[\u001b[49m\u001b[38;5;241;43m1\u001b[39;49m\u001b[43m]\u001b[49m,reverse\u001b[38;5;241m=\u001b[39m\u001b[38;5;28;01mTrue\u001b[39;00m)\n",
      "\u001b[1;31mKeyError\u001b[0m: 1"
     ]
    }
   ],
   "source": [
    "students = [{'name':'홍','score':99},\n",
    "           {'name':'김','score':50},\n",
    "           {'name':'박','score':77},\n",
    "           {'score':100},]\n",
    "students.sort(key=lambda data:data[1],reverse=True)"
   ]
  },
  {
   "cell_type": "code",
   "execution_count": 207,
   "id": "3350a08e",
   "metadata": {},
   "outputs": [
    {
     "data": {
      "text/plain": [
       "'홍'"
      ]
     },
     "execution_count": 207,
     "metadata": {},
     "output_type": "execute_result"
    }
   ],
   "source": [
    "name_select = lambda data: data.get('name')\n",
    "name_select ({'name':'홍','score':99})"
   ]
  },
  {
   "cell_type": "code",
   "execution_count": 211,
   "id": "d3c3c1e3",
   "metadata": {},
   "outputs": [
    {
     "data": {
      "text/plain": [
       "[{'name': '김', 'score': 50},\n",
       " {'name': '박', 'score': 77},\n",
       " {'name': '홍', 'score': 99},\n",
       " {'score': 100}]"
      ]
     },
     "execution_count": 211,
     "metadata": {},
     "output_type": "execute_result"
    }
   ],
   "source": [
    "#students를 name순으로 정렬(ㄱㄴㄷ순)\n",
    "students.sort(key=lambda data : data.get('name','힣'))\n",
    "students"
   ]
  },
  {
   "cell_type": "code",
   "execution_count": 217,
   "id": "65c44ec9",
   "metadata": {},
   "outputs": [
    {
     "data": {
      "text/plain": [
       "[{'score': 100},\n",
       " {'name': '홍', 'score': 99},\n",
       " {'name': '박', 'score': 77},\n",
       " {'name': '김', 'score': 50}]"
      ]
     },
     "execution_count": 217,
     "metadata": {},
     "output_type": "execute_result"
    }
   ],
   "source": [
    "#student를 score 큰 순 정렬\n",
    "students.sort(key=lambda data : data.get('score',0, ),reverse=True)\n",
    "students"
   ]
  },
  {
   "cell_type": "code",
   "execution_count": 223,
   "id": "43cf6af7",
   "metadata": {},
   "outputs": [],
   "source": [
    "# 예제 : books 정렬(no,title,price)\n",
    "books = \\\n",
    "[{'no':2, 'title':'더트릭컬', 'writer':'폴빠','price':'19,80'},\n",
    "    {'no':1, 'title':'흔한남매', 'writer':'백난도', 'price':'15,120'},\n",
    "    {'no':3, 'title':'단 한 번의 삶', 'writer':'김영하', 'price':'15,120'},\n",
    "    {'no':4, 'title':'가격잘못', 'writer':'홍길동', 'price':'ㅁ'},\n",
    "    {'no':5, 'title':'가격이숫자', 'writer':'백난도', 'price':30200},\n",
    "    {'no':6, 'title':'가격이없음', 'writer':'이길동'},] "
   ]
  },
  {
   "cell_type": "code",
   "execution_count": 227,
   "id": "55e47328",
   "metadata": {},
   "outputs": [
    {
     "data": {
      "text/plain": [
       "[{'no': 1, 'title': '흔한남매', 'writer': '백난도', 'price': '15,120'},\n",
       " {'no': 2, 'title': '더트릭컬', 'writer': '폴빠', 'price': '19,80'},\n",
       " {'no': 3, 'title': '단 한 번의 삶', 'writer': '김영하', 'price': '15,120'},\n",
       " {'no': 4, 'title': '가격잘못', 'writer': '홍길동', 'price': 'ㅁ'},\n",
       " {'no': 5, 'title': '가격이숫자', 'writer': '백난도', 'price': 30200},\n",
       " {'no': 6, 'title': '가격이없음', 'writer': '이길동'}]"
      ]
     },
     "execution_count": 227,
     "metadata": {},
     "output_type": "execute_result"
    }
   ],
   "source": [
    "# no기준\n",
    "books.sort(key=lambda book: book['no'])\n",
    "books"
   ]
  },
  {
   "cell_type": "code",
   "execution_count": 228,
   "id": "395492ed",
   "metadata": {},
   "outputs": [
    {
     "data": {
      "text/plain": [
       "[{'no': 5, 'title': '가격이숫자', 'writer': '백난도', 'price': 30200},\n",
       " {'no': 6, 'title': '가격이없음', 'writer': '이길동'},\n",
       " {'no': 4, 'title': '가격잘못', 'writer': '홍길동', 'price': 'ㅁ'},\n",
       " {'no': 3, 'title': '단 한 번의 삶', 'writer': '김영하', 'price': '15,120'},\n",
       " {'no': 2, 'title': '더트릭컬', 'writer': '폴빠', 'price': '19,80'},\n",
       " {'no': 1, 'title': '흔한남매', 'writer': '백난도', 'price': '15,120'}]"
      ]
     },
     "execution_count": 228,
     "metadata": {},
     "output_type": "execute_result"
    }
   ],
   "source": [
    "# title\n",
    "books.sort(key=lambda book: book['title'])\n",
    "books"
   ]
  },
  {
   "cell_type": "code",
   "execution_count": 229,
   "id": "bbcf97d8",
   "metadata": {},
   "outputs": [
    {
     "ename": "SyntaxError",
     "evalue": "invalid syntax (3095462244.py, line 3)",
     "output_type": "error",
     "traceback": [
      "\u001b[1;36m  Cell \u001b[1;32mIn[229], line 3\u001b[1;36m\u001b[0m\n\u001b[1;33m    if\u001b[0m\n\u001b[1;37m      ^\u001b[0m\n\u001b[1;31mSyntaxError\u001b[0m\u001b[1;31m:\u001b[0m invalid syntax\n"
     ]
    }
   ],
   "source": [
    "# price\n",
    "books.sort(key=lambda book: book.get('price',0))\n",
    "if\n",
    "books"
   ]
  },
  {
   "cell_type": "code",
   "execution_count": 245,
   "id": "7e587515",
   "metadata": {},
   "outputs": [
    {
     "name": "stdout",
     "output_type": "stream",
     "text": [
      "5000 30200 0 0\n"
     ]
    }
   ],
   "source": [
    "# 30200, '12,000', '5000', 'ㅁ', None => 30200, 12000, 5000, 0, 0\n",
    "def parse_int(price):\n",
    "    if isinstance(price, str) and price.replace(',','').isdigit():\n",
    "        return int(price.replace(',',''))\n",
    "    elif isinstance(price,int):\n",
    "        return price\n",
    "    else:\n",
    "        return 0\n",
    "    \n",
    "def parse_int(price):\n",
    "    if str(price).replace(',','').isdigit():\n",
    "        return int(price.replace(',',''))\n",
    "    \n",
    "    else:\n",
    "        return 0\n",
    "    \n",
    "parse_int = lambda price :int(price.replace(',','')) if isinstance(price, str) and price.replace(',','').isdigit() else \\\n",
    "price if isinstance(price, int)else 0\n",
    "\n",
    "print(parse_int('5000'), parse_int(30200),parse_int('ㅁ'),parse_int(None))"
   ]
  },
  {
   "cell_type": "code",
   "execution_count": 241,
   "id": "3dfb692b",
   "metadata": {},
   "outputs": [
    {
     "name": "stdout",
     "output_type": "stream",
     "text": [
      "5000 30200 0 0\n"
     ]
    }
   ],
   "source": [
    "parse_int = lambda book: (\n",
    "    int(book.get('price').replace(',', ''))\n",
    "    if isinstance(book.get('price'), str) and book.get('price').replace(',', '').isdigit()\n",
    "    else book.get('price') if isinstance(book.get('price'), int)\n",
    "    else 0\n",
    ")\n",
    "print(\n",
    "    parse_int({'price': '5000'}),\n",
    "    parse_int({'price': 30200}),\n",
    "    parse_int({'price': 'ㅁ'}),\n",
    "    parse_int({'price': None})\n",
    ")"
   ]
  },
  {
   "cell_type": "code",
   "execution_count": 251,
   "id": "67e767f5",
   "metadata": {},
   "outputs": [
    {
     "data": {
      "text/plain": [
       "[{'no': 5, 'title': '가격이숫자', 'writer': '백난도', 'price': 30200},\n",
       " {'no': 3, 'title': '단 한 번의 삶', 'writer': '김영하', 'price': '15,120'},\n",
       " {'no': 1, 'title': '흔한남매', 'writer': '백난도', 'price': '15,120'},\n",
       " {'no': 2, 'title': '더트릭컬', 'writer': '폴빠', 'price': '19,80'},\n",
       " {'no': 6, 'title': '가격이없음', 'writer': '이길동'},\n",
       " {'no': 4, 'title': '가격잘못', 'writer': '홍길동', 'price': 'ㅁ'}]"
      ]
     },
     "execution_count": 251,
     "metadata": {},
     "output_type": "execute_result"
    }
   ],
   "source": [
    "copyBooks = books.copy() # 복제\n",
    "copyBooks.sort(key=lambda book: \n",
    "    int(book.get('price').replace(',', ''))\n",
    "    if isinstance(book.get('price'), str) and book.get('price').replace(',', '').isdigit()\n",
    "    else book.get('price') if isinstance(book.get('price'), int)\n",
    "    else 0, reverse =True\n",
    ")\n",
    "copyBooks"
   ]
  },
  {
   "cell_type": "markdown",
   "id": "813cc5fe",
   "metadata": {},
   "source": [
    "# 5절 파이썬 내장함수\n",
    "- import 하지 않고 바로 상용 가능한 함수\n",
    "- 키워드(if, while, ..) 처럼 간주되므로, 식별자 (변수명, 함수명, 클래스명)로 사용하는 것을 피한다"
   ]
  },
  {
   "cell_type": "code",
   "execution_count": null,
   "id": "3639ed40",
   "metadata": {},
   "outputs": [],
   "source": [
    "a = 10"
   ]
  },
  {
   "cell_type": "code",
   "execution_count": 252,
   "id": "ac01a97a",
   "metadata": {},
   "outputs": [
    {
     "data": {
      "text/plain": [
       "{'__name__': '__main__',\n",
       " '__doc__': 'Automatically created module for IPython interactive environment',\n",
       " '__package__': None,\n",
       " '__loader__': None,\n",
       " '__spec__': None,\n",
       " '__builtin__': <module 'builtins' (built-in)>,\n",
       " '__builtins__': <module 'builtins' (built-in)>,\n",
       " '_ih': ['',\n",
       "  '# ex5. 점수를 입력받아 학점을 return\\nscoreGrade = int(input(\"점수를 입력하시오: \"))\\nscoreGrade = lambda score : \"A학점\" if 90<= score <=100 else \\\\ \\n                            \"B학점\" if 80<=score <90 else \\\\ \\n                            \"C학점\" if 70<=score <80 else \\\\\\n                            \"D학점\" if 60<=score <70 else \\\\\\n                            \"F학점\" if 0<=score <60 else \\\\\\n                            \"유효하지않음\"',\n",
       "  '# ex5. 점수를 입력받아 학점을 return\\nscoreGrade = int(input(\"점수를 입력하시오: \"))\\nscoreGrade = lambda score : \"A학점\" if 90<= score <=100 else \\\\\\n                            \"B학점\" if 80<=score <90 else \\\\ \\n                            \"C학점\" if 70<=score <80 else \\\\\\n                            \"D학점\" if 60<=score <70 else \\\\\\n                            \"F학점\" if 0<=score <60 else \\\\\\n                            \"유효하지않음\"',\n",
       "  '# ex5. 점수를 입력받아 학점을 return\\nscoreGrade = int(input(\"점수를 입력하시오: \"))\\nscoreGrade = lambda score : \"A학점\" if 90<= score <=100 else \\\\\\n                            \"B학점\" if 80<=score <90 else \\\\\\n                            \"C학점\" if 70<=score <80 else \\\\\\n                            \"D학점\" if 60<=score <70 else \\\\\\n                            \"F학점\" if 0<=score <60 else \\\\\\n                            \"유효하지않음\"',\n",
       "  '# ex5. 점수를 입력받아 학점을 return\\nscore = int(input(\"점수를 입력하시오: \"))\\nscoreGrade = lambda s : \"A학점\" if 90<= score <=100 else \\\\\\n                            \"B학점\" if 80<=score <90 else \\\\\\n                            \"C학점\" if 70<=score <80 else \\\\\\n                            \"D학점\" if 60<=score <70 else \\\\\\n                            \"F학점\" if 0<=score <60 else \\\\\\n                            \"유효하지않음\"',\n",
       "  '# ex5. 점수를 입력받아 학점을 return\\nscoreGrade = int(input(\"점수를 입력하시오: \"))\\nscoreGrade = lambda score : \"A학점\" if 90<= score <=100 else \\\\\\n                            \"B학점\" if 80<=score <90 else \\\\\\n                            \"C학점\" if 70<=score <80 else \\\\\\n                            \"D학점\" if 60<=score <70 else \\\\\\n                            \"F학점\" if 0<=score <60 else \\\\\\n                            \"유효하지않음\"\\nprint(scoreGrade)',\n",
       "  '# ex5. 점수를 입력받아 학점을 return\\nscoreGrade = int(input(\"점수를 입력하시오: \"))\\nscoreGrade = lambda score : \"A학점\" if 90<= score <=100 else \\\\\\n                            \"B학점\" if 80<=score <90 else \\\\\\n                            \"C학점\" if 70<=score <80 else \\\\\\n                            \"D학점\" if 60<=score <70 else \\\\\\n                            \"F학점\" if 0<=score <60 else \\\\\\n                            \"유효하지않음\"\\nprint(scoreGrade(score))',\n",
       "  '# ex5. 점수를 입력받아 학점을 return\\nscoreGrade = int(input(\"점수를 입력하시오: \"))\\nscoreGrade = lambda score : \"A학점\" if 90<= score <=100 else \\\\\\n                            \"B학점\" if 80<=score <90 else \\\\\\n                            \"C학점\" if 70<=score <80 else \\\\\\n                            \"D학점\" if 60<=score <70 else \\\\\\n                            \"F학점\" if 0<=score <60 else \\\\\\n                            \"유효하지않음\"\\nprint(scoreGrade(score))',\n",
       "  '# ex5. 점수를 입력받아 학점을 return\\nscoreGrade = int(input(\"점수를 입력하시오: \"))\\nscoreGrade = lambda score : \"A학점\" if 90<= score <=100 else \\\\\\n                            \"B학점\" if 80<=score <90 else \\\\\\n                            \"C학점\" if 70<=score <80 else \\\\\\n                            \"D학점\" if 60<=score <70 else \\\\\\n                            \"F학점\" if 0<=score <60 else \\\\\\n                            \"유효하지않음\"\\nprint(scoreGrade(score))',\n",
       "  '# ex5. 점수를 입력받아 학점을 return\\nscoreGrade = int(input(\"점수를 입력하시오: \"))\\nscoreGrade = lambda score : \"A학점\" if 90<= score <=100 else \\\\\\n                            \"B학점\" if 80<=score <90 else \\\\\\n                            \"C학점\" if 70<=score <80 else \\\\\\n                            \"D학점\" if 60<=score <70 else \\\\\\n                            \"F학점\" if 0<=score <60 else \\\\\\n                            \"유효하지않음\"\\nprint(scoreGrade(score))',\n",
       "  '# ex5. 점수를 입력받아 학점을 return\\nscoreGrade = int(input(\"점수를 입력하시오: \"))\\nscoreGrade = lambda s : \"A학점\" if 90<= score <=100 else \\\\\\n                            \"B학점\" if 80<=score <90 else \\\\\\n                            \"C학점\" if 70<=score <80 else \\\\\\n                            \"D학점\" if 60<=score <70 else \\\\\\n                            \"F학점\" if 0<=score <60 else \\\\\\n                            \"유효하지않음\"\\nprint(scoreGrade(score))',\n",
       "  '# ex5. 점수를 입력받아 학점을 return\\nscore = int(input(\"점수를 입력하시오: \"))\\nscoreGrade = lambda s : \"A학점\" if 90<= score <=100 else \\\\\\n                            \"B학점\" if 80<=score <90 else \\\\\\n                            \"C학점\" if 70<=score <80 else \\\\\\n                            \"D학점\" if 60<=score <70 else \\\\\\n                            \"F학점\" if 0<=score <60 else \\\\\\n                            \"유효하지않음\"\\nprint(scoreGrade(score))',\n",
       "  '# ex5. 점수를 입력받아 학점을 return\\nscore = int(input(\"점수를 입력하시오: \"))\\nscoreGrade = lambda s : \"A학점\" if 90<= score <=100 else \\\\\\n                            \"B학점\" if 80<=score <90 else \\\\\\n                            \"C학점\" if 70<=score <80 else \\\\\\n                            \"D학점\" if 60<=score <70 else \\\\\\n                            \"F학점\" if 0<=score <60 else \\\\\\n                            \"유효하지않음\"\\nprint(scoreGrade(score))',\n",
       "  '# ex5. 점수를 입력받아 학점을 return\\nscore = int(input(\"점수를 입력하시오: \"))\\nscoreGrade = lambda s : \"A학점\" if 90<= score <=100 else \\\\\\n                            \"B학점\" if 80<=score <90 else \\\\\\n                            \"C학점\" if 70<=score <80 else \\\\\\n                            \"D학점\" if 60<=score <70 else \\\\\\n                            \"F학점\" if 0<=score <60 else \\\\\\n                            \"유효하지않음\"\\nprint(scoreGrade(score))',\n",
       "  '# ex6. safe_index함수를 람다식으로\\n\\ndef safe_index(lst,item,start=0):\\n    return lst.index(item, start) if item in lst[start:] else -1\\n\\nex5 = lambda lst, ltem, start =0 :lst.index(item, start)/\\n                if item in lst[start:] else \\\\ -1\\n\\nlsr = [1,2,3]\\nsafe_index(lst,4), ex5(lst,3,1)',\n",
       "  '# ex6. safe_index함수를 람다식으로\\n\\ndef safe_index(lst,item,start=0):\\n    return lst.index(item, start) if item in lst[start:] else -1\\n\\nex5 = lambda lst, ltem, start =0 :lst.index(item, start)/\\n                if item in lst[start:] else \\\\-1\\n\\nlsr = [1,2,3]\\nsafe_index(lst,4), ex5(lst,3,1)',\n",
       "  '# ex6. safe_index함수를 람다식으로\\n\\ndef safe_index(lst,item,start=0):\\n    return lst.index(item, start) if item in lst[start:] else -1\\n\\nex5 = lambda lst, ltem, start =0 :lst.index(item, start)\\n                if item in lst[start:] else \\\\-1\\n\\nlsr = [1,2,3]\\nsafe_index(lst,4), ex5(lst,3,1)',\n",
       "  '# ex6. safe_index함수를 람다식으로\\n\\ndef safe_index(lst,item,start=0):\\n    return lst.index(item, start) if item in lst[start:] else -1\\n\\nex5 = lambda lst, ltem, start =0 :lst.index(item, start)\\n                if item in lst[start:] else \\\\-1\\n\\nlst = [1,2,3]\\nsafe_index(lst,4), ex5(lst,3,1)',\n",
       "  '# ex6. safe_index함수를 람다식으로\\n\\ndef safe_index(lst,item,start=0):\\n    return lst.index(item, start) if item in lst[start:] else -1\\n\\nex5 = lambda lst, item, start =0 :lst.index(item, start)\\n                if item in lst[start:] else \\\\-1\\n\\nlst = [1,2,3]\\nsafe_index(lst,4), ex5(lst,3,1)',\n",
       "  '# ex6. safe_index함수를 람다식으로\\n\\ndef safe_index(lst,item,start=0):\\n    return lst.index(item, start) if item in lst[start:] else -1\\n\\n# ex5 = lambda lst, item, start =0 :lst.index(item, start)\\n#                 if item in lst[start:] else \\\\-1\\nex5 = lambda lst, item, start=0: lst.index(item, start) \\\\\\n       if item in lst[start:] else -1\\n\\n\\nlst = [1,2,3]\\nsafe_index(lst,4), ex5(lst,3,1)',\n",
       "  '# ex6. safe_index함수를 람다식으로\\n\\ndef safe_index(lst,item,start=0):\\n    return lst.index(item, start) if item in lst[start:] else -1\\n\\nex5 = lambda lst, item, start =0 :lst.index(item, start) \\\\if item in lst[start:] else -1\\n# ex5 = lambda lst, item, start=0: lst.index(item, start) \\\\if item in lst[start:] else -1\\n\\n\\nlst = [1,2,3]\\nsafe_index(lst,4), ex5(lst,3,1)',\n",
       "  '# ex6. safe_index함수를 람다식으로\\n\\ndef safe_index(lst,item,start=0):\\n    return lst.index(item, start) if item in lst[start:] else -1\\n\\nex5 = lambda lst, item, start =0 : lst.index(item, start) \\\\if item in lst[start:] else \\\\-1\\n# ex5 = lambda lst, item, start=0: lst.index(item, start) \\\\if item in lst[start:] else -1\\n\\n\\nlst = [1,2,3]\\nsafe_index(lst,4), ex5(lst,3,1)',\n",
       "  '# ex6. safe_index함수를 람다식으로\\n\\ndef safe_index(lst,item,start=0):\\n    return lst.index(item, start) if item in lst[start:] else -1\\n\\n# ex5 = lambda lst, item, start =0 :lst.index(item, start)\\\\if item in lst[start:] else \\\\-1\\nex5 = lambda lst, item, start=0: lst.index(item, start) \\\\if item in lst[start:] else -1\\n\\n\\nlst = [1,2,3]\\nsafe_index(lst,4), ex5(lst,3,1)',\n",
       "  '# ex6. safe_index함수를 람다식으로\\n\\ndef safe_index(lst,item,start=0):\\n    return lst.index(item, start) if item in lst[start:] else -1\\n\\n# ex5 = lambda lst, item, start =0 :lst.index(item, start)\\n#     if item in lst[start:] else \\\\-1\\nex5 = lambda lst, item, start=0: lst.index(item, start) \\\\\\n       if item in lst[start:] else -1\\n\\n\\nlst = [1,2,3]\\nsafe_index(lst,4), ex5(lst,3,1)',\n",
       "  '# ex6. safe_index함수를 람다식으로\\n\\ndef safe_index(lst,item,start=0):\\n    return lst.index(item, start) if item in lst[start:] else -1\\n\\nex5 = lambda lst, item, start =0 :lst.index(item, start)\\\\\\n       if item in lst[start:] else -1\\n# ex5 = lambda lst, item, start=0: lst.index(item, start) \\\\\\n#        if item in lst[start:] else -1\\n\\n\\nlst = [1,2,3]\\nsafe_index(lst,4), ex5(lst,3,1)',\n",
       "  '# ex6. safe_index함수를 람다식으로\\n\\ndef safe_index(lst,item,start=0):\\n    return lst.index(item, start) if item in lst[start:] else -1\\n\\nex5 = lambda lst, item, start =0 :lst.index(item, start)\\\\\\n       if item in lst[start:] else -1\\n\\ni =3\\nlst = [i,2,3]\\nsafe_index(lst,4), ex5(lst,3,1)',\n",
       "  '# 람다식을 list에 들어갈 수 있음\\nadd, sub = 1, 2\\noperation = [add, sub]',\n",
       "  \"# 람다식을 list에 들어갈 수 있음\\nadd = lambda a, b : a + b\\nsub = lambda a, b : a - b\\nmul = lambda a, b : a * b\\ndiv = lambda a, b : a / b if  b else '두 번째 인자가 0이면 못 나눠요'\\noperation = [add, sub] # 사칙연산 함수\",\n",
       "  \"# 람다식을 list에 들어갈 수 있음\\nadd = lambda a, b : a + b\\nsub = lambda a, b : a - b\\nmul = lambda a, b : a * b\\ndiv = lambda a, b : a / b if  b else '두 번째 인자가 0이면 못 나눠요'\\noperation = [add, sub, mul, div] # 사칙연산 함수들\\noperation([1,2])\",\n",
       "  \"# 람다식을 list에 들어갈 수 있음\\nadd = lambda a, b : a + b\\nsub = lambda a, b : a - b\\nmul = lambda a, b : a * b\\ndiv = lambda a, b : a / b if  b else '두 번째 인자가 0이면 못 나눠요'\\noperations = [add, sub, mul, div] # 사칙연산 함수들\\ndef act_operation (a, b, operation= operations): # a,b의 연산결과 return\\n    result = []\\n    \\n    for op in operation:\\n        result.append(op(a,b))\\n        return result\\n            \\nprint(result)\\n    \",\n",
       "  \"# 람다식을 list에 들어갈 수 있음\\nadd = lambda a, b : a + b\\nsub = lambda a, b : a - b\\nmul = lambda a, b : a * b\\ndiv = lambda a, b : a / b if  b else '두 번째 인자가 0이면 못 나눠요'\\noperations = [add, sub, mul, div] # 사칙연산 함수들\\ndef act_operation (a, b, operation= operations): # a,b의 연산결과 return\\n    result = []\\n    \\n    for op in operation:\\n        result.append(op(a ,b))\\n        return result\\n            \\nprint(result(3,4))\\n    \",\n",
       "  \"# 람다식을 list에 들어갈 수 있음\\nadd = lambda a, b : a + b\\nsub = lambda a, b : a - b\\nmul = lambda a, b : a * b\\ndiv = lambda a, b : a / b if  b else '두 번째 인자가 0이면 못 나눠요'\\noperations = [add, sub, mul, div] # 사칙연산 함수들\\ndef act_operation (a, b, operation= operations): # a,b의 연산결과 return\\n    result = []\\n    \\n    for op in operation:\\n        result.append(op(a ,b))\\n        return result\\n            \\nresult(3,4)\\n    \",\n",
       "  \"# 람다식을 list에 들어갈 수 있음\\nadd = lambda a, b : a + b\\nsub = lambda a, b : a - b\\nmul = lambda a, b : a * b\\ndiv = lambda a, b : a / b if  b else '두 번째 인자가 0이면 못 나눠요'\\noperations = [add, sub, mul, div] # 사칙연산 함수들\\ndef act_operation (a, b, operation= operations): # a,b의 연산결과 return\\n    result = []\\n    \\n    for op in operation:\\n        result.append(op(a ,b))\\n        return result\\n            \\nop(3,4)\\n    \",\n",
       "  \"# 람다식을 list에 들어갈 수 있음\\nadd = lambda a, b : a + b\\nsub = lambda a, b : a - b\\nmul = lambda a, b : a * b\\ndiv = lambda a, b : a / b if  b else '두 번째 인자가 0이면 못 나눠요'\\noperations = [add, sub, mul, div] # 사칙연산 함수들\\ndef act_operations (a, b, operation= operations): # a,b의 연산결과 return\\n    result = []\\n    \\n    for op in operation:\\n        result.append(op(a ,b))\\n    return result\\n            \\nact_operation (20,5)\",\n",
       "  \"# 람다식을 list에 들어갈 수 있음\\nadd = lambda a, b : a + b\\nsub = lambda a, b : a - b\\nmul = lambda a, b : a * b\\ndiv = lambda a, b : a / b if  b else '두 번째 인자가 0이면 못 나눠요'\\noperations = [add, sub, mul, div] # 사칙연산 함수들\\ndef act_operations (a, b, operation= operations): # a,b의 연산결과 return\\n    result = []\\n    \\n    for op in operation:\\n        result.append(op(a ,b))\\n    return result\\n            \\nact_operations (20,5)\",\n",
       "  'act_operations(8,2)',\n",
       "  'act_operations(8,2,[lambda x, y: x**y, lambda x,y 10*+y])',\n",
       "  'act_operations(8,2,[lambda x, y: x**y, lambda x,y :10*+y])',\n",
       "  'act_operations(8,2,[lambda x, y: x**y, lambda x,y :10*x+y])',\n",
       "  'operations.append(lambda x, y : x ** y)',\n",
       "  'act_operations(8,2)',\n",
       "  'def map_template(func, L=[]):\\n    result= []\\n    for item in L:\\n        result.append(item)\\n    return result',\n",
       "  'map_template(lambda a:a,[1,2,3])',\n",
       "  'map_template(lambda a:a*2,[1,2,3])',\n",
       "  'map_template(lambda a:a*2,[1,2,3])',\n",
       "  'map_template(lambda a:a*2,[1,2,3])',\n",
       "  'map_template(lambda a:a*2,[1,2,3])',\n",
       "  'map_template(lambda a:a*2,[1,2,3])',\n",
       "  'map_template(lambda a:a*2,[1,2,3])',\n",
       "  'map_template(lambda a:a*2,[1,2,3])',\n",
       "  'map_template(lambda a:a*2,[1,2,3])',\n",
       "  'map_template(lambda a:a*2,[1,2,3])',\n",
       "  'map_template(lambda a:a*2,[1,2,3])',\n",
       "  'map_template(lambda a:a*2,[1,2,3])',\n",
       "  'map_template(lambda a:a*2,[1,2,3])',\n",
       "  'map_template(lambda a:a*2,[1,2,3])',\n",
       "  'map_template(lambda a:a*2,[1,2,3])',\n",
       "  'map_template(lambda a:a*2,[1,2,3])',\n",
       "  'map_template(lambda a:a*2,[1,2,3])',\n",
       "  'map_template(lambda a:a*2,[1,2,3])',\n",
       "  'list_data[1,2,3,4,5,6,7]\\nmap_template(lambda a:a*2,list_data)',\n",
       "  'list_data =[1,2,3,4,5,6,7]\\nmap_template(lambda a:a*2,list_data)',\n",
       "  'list_data =[1,2,3,4,5,6,7]\\nmap_template(lambda a:a*2,list_data)',\n",
       "  'list_data =[1,2,3,4,5,6,7]\\nmap_template(lambda a:a*2,list_data)',\n",
       "  'def map_template(func, L=[]):\\n    result= []\\n    for item in L:\\n        result.append(func(item))\\n    return result',\n",
       "  'list_data =[1,2,3,4,5,6,7]\\nmap_template(lambda a: a*2 ,list_data)',\n",
       "  'list_data =[1,2,3,4,5,6,7]\\nmap_template(lambda a: a*2 ,list_data)',\n",
       "  'list_data =[1,2,3,4,5,6,7]\\nmap_template(lambda a: a*2 ,list_data)',\n",
       "  'list_data =[1,2,3,4,5,6,7]\\nmap_template(lambda a: a*2 ,list_data)',\n",
       "  'def map_template(func, L=[]):\\n    result= []\\n    for item in L:\\n        result.append(func(item))\\n    return result',\n",
       "  'list_data =[1,2,3,4,5,6,7]\\nmap_template(lambda a: a*2 ,list_data)',\n",
       "  '# 리스트 컴프리헨션\\n[item * 2 for item in list_data]',\n",
       "  'map(lambda x: x * 2 ,list_data)',\n",
       "  'map(lambda x: x * 2 ,list_data)\\nprint(map)',\n",
       "  'map(lambda x: x * 2 ,list_data)\\nprint(x)',\n",
       "  'map(lambda x: x * 2 ,list_data)',\n",
       "  'list(map(lambda x: x * 2 ,list_data))',\n",
       "  'for data in map(lambda x:x*2,list_data):\\n    print(data, end=\" \")',\n",
       "  \"# 예제prices = ['5,000', '5000', '6,000', '1000','5,000', '5000', '6,000', '1000’]를 [5000,5000,6000,1000]식으로 바꾸시오\\nprices = ['5,000', '5000', '6,000', '1000','5,000', '5000', '6,000', '1000’]\\n# prices_int = [5000,5000,6000,1000]\\n          \",\n",
       "  \"# 예제prices = ['5,000', '5000', '6,000', '1000','5,000', '5000', '6,000', '1000’]를 [5000,5000,6000,1000]식으로 바꾸시오\\nprices = ['5,000', '5000', '6,000', '1000','5,000', '5000', '6,000','1000’]\\n# prices_int = [5000,5000,6000,1000]\\n          \",\n",
       "  \"# 예제prices = ['5,000', '5000', '6,000', '1000','5,000', '5000', '6,000', '1000’]를 [5000,5000,6000,1000]식으로 바꾸시오\\nprices = ['5,000', '5000', '6,000', '1000','5,000', '5000', '6,000','1000’]\\n# prices_int = [5000,5000,6000,1000]\\ndef toint(value):\\n    return int(value.replace(',',''))\\ntoint('5000')\",\n",
       "  \"# 예제prices = ['5,000', '5000', '6,000', '1000','5,000', '5000', '6,000', '1000’]를 [5000,5000,6000,1000]식으로 바꾸시오\\n# prices = ['5,000', '5000', '6,000', '1000','5,000', '5000', '6,000','1000’]\\n# prices_int = [5000,5000,6000,1000]\\ndef toint(value):\\n    return int(value.replace(',',''))\\ntoint('5000')\",\n",
       "  \"# 예제prices = ['5,000', '5000', '6,000', '1000','5,000', '5000', '6,000', '1000’]를 [5000,5000,6000,1000]식으로 바꾸시오\\n# prices = ['5,000', '5000', '6,000', '1000','5,000', '5000', '6,000','1000’]\\n# prices_int = [5000,5000,6000,1000]\\ndef toint(value):\\n    return int(value.replace(',',''))\\nmap(lambda value: int((value.replace(',','')),prices)\\n\\nfor price in prices_int:\\n    print(price,end=' ')\",\n",
       "  \"# 예제prices = ['5,000', '5000', '6,000', '1000','5,000', '5000', '6,000', '1000’]를 [5000,5000,6000,1000]식으로 바꾸시오\\n# prices = ['5,000', '5000', '6,000', '1000','5,000', '5000', '6,000','1000’]\\n# prices_int = [5000,5000,6000,1000]\\ndef toint(value):\\n    return int(value.replace(',',''))\\nmap(lambda value: int(value.replace(',','')),prices)\\n\\nfor price in prices_int:\\n    print(price,end=' ')\",\n",
       "  \"# 예제prices = ['5,000', '5000', '6,000', '1000','5,000', '5000', '6,000', '1000’]를 [5000,5000,6000,1000]식으로 바꾸시오\\nprices = ['5,000', '5000', '6,000', '1000','5,000', '5000', '6,000','1000']\\n# prices_int = [5000,5000,6000,1000]\\ndef toint(value):\\n    return int(value.replace(',',''))\\nmap(lambda value: int(value.replace(',','')),prices)\\n\\nfor price in prices_int:\\n    print(price,end=' ')\",\n",
       "  \"# 예제prices = ['5,000', '5000', '6,000', '1000','5,000', '5000', '6,000', '1000’]를 [5000,5000,6000,1000]식으로 바꾸시오\\nprices = ['5,000', '5000', '6,000', '1000','5,000', '5000', '6,000','1000']\\n\\ndef toint(value):\\n    return int(value.replace(',',''))\\nmap(lambda value: int(value.replace(',','')),prices)\\n\\nfor price in prices_int:\\n    print(price,end=' ')\",\n",
       "  \"# 예제prices = ['5,000', '5000', '6,000', '1000','5,000', '5000', '6,000', '1000’]를 [5000,5000,6000,1000]식으로 바꾸시오\\nprices = ['5,000', '5000', '6,000', '1000','5,000', '5000', '6,000','1000']\\n\\ndef toint(value):\\n    return int(value.replace(',',''))\\nprices_int =map(lambda value: int(value.replace(',','')),prices)\\n\\nfor price in prices_int:\\n    print(price,end=' ')\",\n",
       "  \"members1 = [{'name':'홍길동', 'birth':'2000-01-01'},{'name':'신길동', 'birth':'1995-12-18'},]\\nmembers2 = [{'name':'홍길동', 'year':2000, 'month':1,'day':1},{'name':'신길동', 'year':1995, 'month':12, 'day':18},]\",\n",
       "  \"#예제2\\nmembers1 = [{'name':'홍길동', 'birth':'2000-01-01'},{'name':'신길동', 'birth':'1995-12-18'},]\\nmembers2 = [{'name':'홍길동', 'year':2000, 'month':1,'day':1},{'name':'신길동', 'year':1995, 'month':12, 'day':18},]\",\n",
       "  'from IPython.display import display, HTML\\ndisplay(HTML(\"\"\"\\n<style>\\ndiv.container{width:90% !important;}\\ndiv.cell.code_cell.rendered{width:100%;}\\ndiv.input_prompt{padding:0px;}\\ndiv.CodeMirror {font-family:Consolas; font-size:12pt;}\\ndiv.text_cell_render.rendered_html{font-size:12pt;}\\ndiv.output {font-size:12pt; font-weight:bold;}\\ndiv.input {font-family:Consolas; font-size:12pt;}\\ndiv.prompt {min-width:70px;}\\ndiv#toc-wrapper{padding-top:120px;}\\ndiv.text_cell_render ul li{font-size:12pt;padding:5px;}\\ntable.dataframe{font-size:12px;}\\n</style>\\n\"\"\"))',\n",
       "  \"# '2000-01-01' => {'year':2000, 'month':1' 'day':1}\\nmap(lambda(key:'year','month','day'))\",\n",
       "  \"# '2000-01-01' => {'year':2000, 'month':1' 'day':1}\\ndate_str = '2000-01-01'\",\n",
       "  '# \\'2000-01-01\\' => {\\'year\\':2000, \\'month\\':1\\' \\'day\\':1}\\ndate_str = \\'2000-01-01\\'\\nkeys = [\\'year\\',\\'month\\',\\'day\\']\\n# map(iambda(kv: ))\\nresult = dict(map(lambda kv: (kv[0], int(kv[1])), zip(keys, date_str.split(\"-\"))))\\nprint(result)',\n",
       "  '# \\'2000-01-01\\' => {\\'year\\':2000, \\'month\\':1\\' \\'day\\':1}\\ndate_str = \\'2000-02-02\\'\\nkeys = [\\'year\\',\\'month\\',\\'day\\']\\n# map(iambda(kv: ))\\nresult = dict(map(lambda kv: (kv[0], int(kv[1])), zip(keys, date_str.split(\"-\"))))\\nprint(result)',\n",
       "  \"def split_data(data):\\n    split_data = date.split('-')\\n    return {\\n        'year' : int(split_date[0]),\\n        'month' : int(split_date[1]),\\n        'day' : int(split_date[2])\\n    }\",\n",
       "  \"def split_data(data):\\n    split_data = date.split('-')\\n    return {\\n        'year' : int(split_date[0]),\\n        'month' : int(split_date[1]),\\n        'day' : int(split_date[2])\\n    }\\nsplit_date('2025-01-01'), split_date('1995-12-12')\",\n",
       "  \"def split_date(data):\\n    split_data = date.split('-')\\n    return {\\n        'year' : int(split_date[0]),\\n        'month' : int(split_date[1]),\\n        'day' : int(split_date[2])\\n    }\\nsplit_date('2025-01-01'), split_date('1995-12-12')\",\n",
       "  \"def split_date(data):\\n    split_date = split_date('-')\\n    return {\\n        'year' : int(split_date[0]),\\n        'month' : int(split_date[1]),\\n        'day' : int(split_date[2])\\n    }\\nsplit_date('2025-01-01'), split_date('1995-12-12')\",\n",
       "  \"def split_date(date):\\n    split_date = split_date('-')\\n    return {\\n        'year' : int(split_date[0]),\\n        'month' : int(split_date[1]),\\n        'day' : int(split_date[2])\\n    }\\nsplit_date('2025-01-01'), split_date('1995-12-12')\",\n",
       "  \"def split_date(date):\\n    split_date = date.split('-')\\n    return {\\n        'year' : int(split_date[0]),\\n        'month' : int(split_date[1]),\\n        'day' : int(split_date[2])\\n    }\\nsplit_date('2025-01-01'), split_date('1995-12-12')\",\n",
       "  '# \\'2000-01-01\\' => {\\'year\\':2000, \\'month\\':1\\' \\'day\\':1}\\ndate_str = \\'2000-02-02\\'\\nkeys = [\\'year\\',\\'month\\',\\'day\\']\\n# map(iambda(kv: ))\\nresult = list(map(lambda kv: (kv[0], int(kv[1])), zip(keys, date_str.split(\"-\"))))\\nprint(result)',\n",
       "  '# \\'2000-01-01\\' => {\\'year\\':2000, \\'month\\':1\\' \\'day\\':1}\\ndate_str = \\'2000-02-02\\'\\nkeys = [\\'year\\',\\'month\\',\\'day\\']\\n# map(iambda(kv: ))\\nresult = dict(map(lambda kv: (kv[0], int(kv[1])), zip(keys, date_str.split(\"-\"))))\\nprint(result)',\n",
       "  '# \\'2000-01-01\\' => {\\'year\\':2000, \\'month\\':1\\' \\'day\\':1}\\ndate_str = \\'홍길동\\',\\'2000-02-02\\'\\nkeys = [\\'year\\',\\'month\\',\\'day\\']\\n# map(iambda(kv: ))\\nresult = dict(map(lambda kv: (kv[0], int(kv[1])), zip(keys, date_str.split(\"-\"))))\\nprint(result)',\n",
       "  '# \\'2000-01-01\\' => {\\'year\\':2000, \\'month\\':1\\' \\'day\\':1}\\ndate_str = 2000-02-02\\'\\nkeys = [\\'year\\',\\'month\\',\\'day\\']\\n# map(iambda(kv: ))\\nresult = dict(map(lambda kv: (kv[0], int(kv[1])), zip(keys, date_str.split(\"-\"))))\\nprint(result)',\n",
       "  '# \\'2000-01-01\\' => {\\'year\\':2000, \\'month\\':1\\' \\'day\\':1}\\ndate_str = \\'2000-02-02\\'\\nkeys = [\\'year\\',\\'month\\',\\'day\\']\\n# map(iambda(kv: ))\\nresult = dict(map(lambda kv: (kv[0], int(kv[1])), zip(keys, date_str.split(\"-\"))))\\nprint(result)',\n",
       "  \"def member_preprocessing(member):\\n    return {\\n        'name': member.get('name','이름없음'),\\n        'year': member.get('birth').split('-')\\n    }\",\n",
       "  \"#예제2\\nmembers = [{'name':'홍길동', 'birth':'2000-01-01'},{'name':'신길동', 'birth':'1995-12-18'},]\\nmembers2 = [{'name':'홍길동', 'year':2000, 'month':1,'day':1},{'name':'신길동', 'year':1995, 'month':12, 'day':18},]\",\n",
       "  \"def member_preprocessing(member):\\n    return {\\n        'name': member.get('name','이름없음'),\\n        'year': int(member.get('birth').split('-')[0]),\\n        'month': int(member.get('birth').split('-')[1]),\\n        'day': int(member.get('birth').split('-')[2])\\n    }\\nmember_preprocessing({'name':'홍길동','birth':'2002-01-01'})\",\n",
       "  \"members2 = list(map(lambda member:     '\\n        'name': member.get('name','이름없음'),\\n        'year': int(member.get('birth').split('-')[0]),\\n        'month': int(member.get('birth').split('-')[1]),\\n        'day': int(member.get('birth').split('-')[2])\\n    ))\",\n",
       "  \"members2 = list(map(lambda member:     \\n        'name': member.get('name','이름없음'),\\n        'year': int(member.get('birth').split('-')[0]),\\n        'month': int(member.get('birth').split('-')[1]),\\n        'day': int(member.get('birth').split('-')[2])\\n    ))\",\n",
       "  \"members2 = list(map(lambda member:{\\n        'name': member.get('name','이름없음'),\\n        'year': int(member.get('birth').split('-')[0]),\\n        'month': int(member.get('birth').split('-')[1]),\\n        'day': int(member.get('birth').split('-')[2])}\\n    ))\",\n",
       "  \"members2 = list(map(lambda member:{\\n        'name': member.get('name','이름없음'),\\n        'year': int(member.get('birth').split('-')[0]),\\n        'month': int(member.get('birth').split('-')[1]),\\n        'day': int(member.get('birth').split('-')[2])},\\n    ))\",\n",
       "  \"members2 = list(map(lambda member:{\\n        'name': member.get('name','이름없음'),\\n        'year': int(member.get('birth').split('-')[0]),\\n        'month': int(member.get('birth').split('-')[1]),\\n        'day': int(member.get('birth').split('-')[2])}, members))\",\n",
       "  \"members2 = list(map(lambda member:{\\n        'name': member.get('name','이름없음'),\\n        'year': int(member.get('birth').split('-')[0]),\\n        'month': int(member.get('birth').split('-')[1]),\\n        'day': int(member.get('birth').split('-')[2])}, members1))\\n\\nmembers2\",\n",
       "  \"def member_preprocessing(member):\\n    return {\\n        'name': member1.get('name','이름없음'),\\n        'year': int(member1.get('birth').split('-')[0]),\\n        'month': int(member1.get('birth').split('-')[1]),\\n        'day': int(member1.get('birth').split('-')[2])\\n    }\\nmember_preprocessing({'name':'홍길동','birth':'2002-01-01'})\",\n",
       "  \"def member_preprocessing(member):\\n    return {\\n        'name': member.get('name','이름없음'),\\n        'year': int(member.get('birth').split('-')[0]),\\n        'month': int(member.get('birth').split('-')[1]),\\n        'day': int(member.get('birth').split('-')[2])\\n    }\\nmember_preprocessing({'name':'홍길동','birth':'2002-01-01'})\",\n",
       "  \"members2 = list(map(lambda member:{\\n        'name': member.get('name','이름없음'),\\n        'year': int(member.get('birth').split('-')),\\n        'month': int(member.get('birth').split('-')),\\n        'day': int(member.get('birth').split('-'))}, members1))\\n\\nmembers2 \\n# member2 에 리스트로 묶고 map함수와 람다함수 매개변수 member는 딕셔너리 name에는 member에서 'name'  없으면 '이름 없음' 호출, year키에서 birth(2002-01-01)인트로 정수형으로 바꾸고 split에서 spc'-' 을 제거 [0]가져오기\\n# 그렇게 데이까지 똑같이 하고 member value 값을 가져온다\",\n",
       "  \"members2 = list(map(lambda member:{\\n        'name': member.get('name','이름없음'),\\n        'year': int(member.get('birth')),\\n        'month': int(member.get('birth')),\\n        'day': int(member.get('birth'))}, members1))\\n\\nmembers2 \\n# member2 에 리스트로 묶고 map함수와 람다함수 매개변수 member는 딕셔너리 name에는 member에서 'name'  없으면 '이름 없음' 호출, year키에서 birth(2002-01-01)인트로 정수형으로 바꾸고 split에서 spc'-' 을 제거 [0]가져오기\\n# 그렇게 데이까지 똑같이 하고 member value 값을 가져온다\",\n",
       "  \"members2 = list(map(lambda member:{\\n        'name': member.get('name','이름없음'),\\n        'year': int(member.get('birth')),\\n        'month': int(member.get('birth')),\\n        'day': int(member.get('birth'))}, members1))\\n\\nmembers2 \\n# member2 에 리스트로 묶고 map함수와 람다함수 매개변수 member는 딕셔너리 name에는 member에서 'name'  없으면 '이름 없음' 호출, year키에서 birth(2002-01-01)인트로 정수형으로 바꾸고 split에서 spc'-' 을 제거 [0]가져오기\\n# 그렇게 데이까지 똑같이 하고 member value 값을 가져온다\",\n",
       "  \"def member_preprocessing(member):\\n    return {\\n        'name': member.get('name','이름없음'),\\n        'year': int(member.get('birth').split('-')[0]),\\n        'month': int(member.get('birth').split('-')[1]),\\n        'day': int(member.get('birth').split('-')[2])\\n    }\\nmember_preprocessing({'name':'홍길동','birth':'2002-01-01'})\",\n",
       "  \"def member_preprocessing(member):\\n    return {\\n        'name': member.get('name','이름없음'),\\n        'year': int(member.get('birth').split('-')[0]),\\n        'month': int(member.get('birth').split('-')[1]),\\n        'day': int(member.get('birth').split('-')[2])\\n    }\\nmember_preprocessing({'name':'홍길동','birth':'2002-01-01'})\",\n",
       "  \"def member_preprocessing(member):\\n    return {\\n        'name': member.get('name','이름없음'),\\n        'year': int(member.get('birth').split('-')[0]),\\n        'month': int(member.get('birth').split('-')[1]),\\n        'day': int(member.get('birth').split('-')[2])\\n    }\\nmember_preprocessing({'name':'홍길동','birth':'2002-01-01'})\",\n",
       "  \"member1 = def member_preprocessing(member):\\n    return {\\n        'name': member.get('name','이름없음'),\\n        'year': str(member.get('birth').split('-')[0]),\\n        'month': str(member.get('birth').split('-')[1]),\\n        'day': str(member.get('birth').split('-')[2])\\n    }\\nmember_preprocessing({'name':'홍길동','birth':'2002-01-01'})\",\n",
       "  \"member1 = def member_preprocessing(member):\\n    return {\\n        'name': member.get('name','이름없음'),\\n        'year': str(member.get('birth').split('-')[0]),\\n        'month': str(member.get('birth').split('-')[1]),\\n        'day': str(member.get('birth').split('-')[2])\\n    }\\nmember_preprocessing({'name':'홍길동','birth':'2002-01-01'})\",\n",
       "  \"members2 = list(map(lambda member:{\\n        'name': member.get('name','이름없음'),\\n        'year': int(member.get('birth').split('-')[0]),\\n        'month': int(member.get('birth').split('-')[1]),\\n        'day': int(member.get('birth').split('-')[2])}, members1))\\n\\nmembers2 \\n# member2 에 리스트로 묶고 map함수와 람다함수 매개변수 member는 딕셔너리 name에는 member에서 'name'  없으면 '이름 없음' 호출, year키에서 birth(2002-01-01)인트로 정수형으로 바꾸고 split에서 spc'-' 을 제거 [0]가져오기\\n# 그렇게 데이까지 똑같이 하고 member value \",\n",
       "  \"member1 = def member_preprocessing(member):\\n    return {\\n        'name': member.get('name','이름없음'),\\n        'year': str(member.get('birth').split('-')[0]),\\n        'month': str(member.get('birth').split('-')[1]),\\n        'day': str(member.get('birth').split('-')[2])\\n    }\\nmember_preprocessing({'name':'홍길동','birth':'2002-01-01'})\",\n",
       "  \"members2 = [{'name':'홍길동', 'year':2000, 'month':1,'day':1},{'name':'신길동', 'year':1995, 'month':12, 'day':18},]\",\n",
       "  \"members1 = dict(map(lambda member:['name':member.get('name','이름없음'),\\n                                  'year':merber.get('birth'),members.append('-')],members2))\",\n",
       "  \"members1 = dict(map(lambda member:['name': member.get('name','이름없음'),\\n                                  'year': merber.get('birth'),members.append('-')],members2))\",\n",
       "  \"members1 = dict(map(lambda member:[{'name': member.get('name','이름없음'),\\n                                  'year': merber.get('birth'),members.append('-')},members2]))\",\n",
       "  \"members1 = dict(map(lambda member:[{'name': member.get('name','이름없음'),\\n                                  'year': merber.get('birth')+'-'},members2]))\",\n",
       "  \"members1 = list(\\n    map(\\n        lambda member: {\\n            'name': member.get('name','이름없음'),\\n            'year': member.get('birth') + '-'\\n        },\\n        members2\\n    )\\n)\",\n",
       "  \"members1 = list(\\n    map(\\n        lambda member: {\\n            'name': member.get('name','이름없음'),\\n            'year': str(member.get('birth')) + '-'\\n        },\\n        members2\\n    )\\n)\",\n",
       "  \"members1 = list(\\n    map(\\n        lambda member: {\\n            'name': member.get('name','이름없음'),\\n            'year': str(member.get('birth')) + '-'\\n        },\\n        members2\\n    )\\n)\\nmembers1\",\n",
       "  \"members1 = list(\\n    map(\\n        lambda member: {\\n            'name': member.get('name','이름없음'),\\n            'year': str(member.get('birth')[0]) + '-'\\n        },\\n        members2\\n    )\\n)\\nmembers1\",\n",
       "  \"members1 = list(\\n    map(\\n        lambda member: {\\n            'name': member.get('name','이름없음'),\\n            'year': str(member.get('birth') + '-'[0])\\n        },\\n        members2\\n    )\\n)\\nmembers1\",\n",
       "  \"members1 = dict(map(lambda member:[{'name': member.get('name','이름없음'),\\n                                  'year': merber.get('birth')+'-'},members2]))\",\n",
       "  \"members1 = list(\\n    map(\\n        lambda member: {\\n            'name': member.get('name','이름없음'),\\n            'year': str(member.get('birth').split('-') + '-'[0])\\n        },\\n        members2\\n    )\\n)\\nmembers1\",\n",
       "  \"members1 = list(\\n    map(\\n        lambda member: {\\n            'name': member.get('name','이름없음'),\\n            'year': str(member.get('birth').split('-')[0] + '-'[0])\\n        },\\n        members2\\n    )\\n)\\nmembers1\",\n",
       "  \"members1 = list(\\n    map(\\n        lambda member: {\\n            'name': member.get('name','이름없음'),\\n            'year': str(member.get('birth').split('-')[0] + '-')\\n        },\\n        members2\\n    )\\n)\\nmembers1\",\n",
       "  \"members1 = list(\\n    map(\\n        lambda member: {\\n            'name': member.get('name','이름없음'),\\n            'year': member.get('birth', '').split('-')[0] + '-'\\n        },\\n        members2\\n    )\\n)\",\n",
       "  \"members1 = list(\\n    map(\\n        lambda member: {\\n            'name': member.get('name','이름없음'),\\n            'year': member.get('birth', '').split('-')[0] + '-'\\n        },\\n        members2\\n    )\\n)\\nmembers1\",\n",
       "  \"members2 = list(map(lambda member:{\\n        'name': member.get('name','이름없음'),\\n        'year': int(member.get('birth').split('-')[0]),\\n        'month': int(member.get('birth').split('-')[1]),\\n        'day': int(member.get('birth').split('-')[2])}, members1))\\n\\nmembers2 \\n# member2 에 리스트로 묶고 map함수와 람다함수 매개변수 member는 딕셔너리 name에는 member에서 'name'  없으면 '이름 없음' 호출, year키에서 birth(2002-01-01)인트로 정수형으로 바꾸고 split에서 spc'-' 을 제거 [0]가져오기\\n# 그렇게 데이까지 똑같이 하고 member value \",\n",
       "  \"members2 = list(map(lambda member:{\\n        'name': member.get('name','이름없음'),\\n        'year': int(member.get('birth').split('-')[0]),\\n        'month': int(member.get('birth').split('-')[1]),\\n        'day': int(member.get('birth').split('-')[2])}, members1))\\n\\nmembers2 \\n# member2 에 리스트로 묶고 map함수와 람다함수 매개변수 member는 딕셔너리 name에는 member에서 'name'  없으면 '이름 없음' 호출, year키에서 birth(2002-01-01)인트로 정수형으로 바꾸고 split에서 spc'-' 을 제거 [0]가져오기\\n# 그렇게 데이까지 똑같이 하고 member value \",\n",
       "  \"members2 = list(map(lambda member:{\\n        'name': member.get('name','이름없음'),\\n        'year': int(member.get('birth').split('-')[0]),\\n        'month': int(member.get('birth').split('-')[1]),\\n        'day': int(member.get('birth').split('-')[2])}, members1))\\n\\nmembers2 \\n# member2 에 리스트로 묶고 map함수와 람다함수 매개변수 member는 딕셔너리 name에는 member에서 'name'  없으면 '이름 없음' 호출, year키에서 birth(2002-01-01)인트로 정수형으로 바꾸고 split에서 spc'-' 을 제거 [0]가져오기\\n# 그렇게 데이까지 똑같이 하고 member value \",\n",
       "  \"members2 = list(map(lambda member:{\\n        'name': member.get('name','이름없음'),\\n        'year': int(member.get('birth').split('-')[0]),\\n        'month': int(member.get('birth').split('-')[1]),\\n        'day': int(member.get('birth').split('-')[2])}, members1))\\n\\nmembers2 \\n# member2 에 리스트로 묶고 map함수와 람다함수 매개변수 member는 딕셔너리 name에는 member에서 'name'  없으면 '이름 없음' 호출, year키에서 birth(2002-01-01)인트로 정수형으로 바꾸고 split에서 spc'-' 을 제거 [0]가져오기\\n# 그렇게 데이까지 똑같이 하고 member value \",\n",
       "  \"members2 = list(map(lambda member:{\\n        'name': member.get('name','이름없음'),\\n        'year': int(member.get('birth').split('-')[0]),\\n        'month': int(member.get('birth').split('-')[1]),\\n        'day': int(member.get('birth').split('-')[2])}, members1))\\n\\nmembers2 \\n# member2 에 리스트로 묶고 map함수와 람다함수 매개변수 member는 딕셔너리 name에는 member에서 'name'  없으면 '이름 없음' 호출, year키에서 birth(2002-01-01)인트로 정수형으로 바꾸고 split에서 spc'-' 을 제거 [0]가져오기\\n# 그렇게 데이까지 똑같이 하고 member value \",\n",
       "  \"members2 = list(map(lambda member:{\\n        'name': member.get('name','이름없음'),\\n        'year': int(member.get('birth').split('-')[0]),\\n        'month': int(member.get('birth').split('-')[1]),\\n        'day': int(member.get('birth').split('-')[2])}, members1))\\n\\nmembers2 \\n# member2 에 리스트로 묶고 map함수와 람다함수 매개변수 member는 딕셔너리 name에는 member에서 'name'  없으면 '이름 없음' 호출, year키에서 birth(2002-01-01)인트로 정수형으로 바꾸고 split에서 spc'-' 을 제거 [0]가져오기\\n# 그렇게 데이까지 똑같이 하고 member value \",\n",
       "  \"members2 = list(map(lambda member:{\\n        'name': member.get('name','이름없음'),\\n        'year': int(member.get('birth').split('-')[0]),\\n        'month': int(member.get('birth').split('-')[1]),\\n        'day': int(member.get('birth').split('-')[2])}, members1))\\n\\nmembers2 \\n# member2 에 리스트로 묶고 map함수와 람다함수 매개변수 member는 딕셔너리 name에는 member에서 'name'  없으면 '이름 없음' 호출, year키에서 birth(2002-01-01)인트로 정수형으로 바꾸고 split에서 spc'-' 을 제거 [0]가져오기\\n# 그렇게 데이까지 똑같이 하고 member value \",\n",
       "  \"members2 = list(map(lambda member:{\\n        'name': member.get('name','이름없음'),\\n        'year': int(member.get('birth').split('-')[0]),\\n        'month': int(member.get('birth').split('-')[1]),\\n        'day': int(member.get('birth').split('-')[2])}, members1))\\n\\nmembers2 \\n# member2 에 리스트로 묶고 map함수와 람다함수 매개변수 member는 딕셔너리 name에는 member에서 'name'  없으면 '이름 없음' 호출, year키에서 birth(2002-01-01)인트로 정수형으로 바꾸고 split에서 spc'-' 을 제거 [0]가져오기\\n# 그렇게 데이까지 똑같이 하고 member value \",\n",
       "  \"members2 = list(map(lambda member:{\\n        'name': membe1r.get('name','이름없음'),\\n        'year': int(member1.get('birth').split('-')[0]),\\n        'month': int(member1.get('birth').split('-')[1]),\\n        'day': int(member1.get('birth').split('-')[2])}, members1))\\n\\nmembers2 \\n# member2 에 리스트로 묶고 map함수와 람다함수 매개변수 member는 딕셔너리 name에는 member에서 'name'  없으면 '이름 없음' 호출, year키에서 birth(2002-01-01)인트로 정수형으로 바꾸고 split에서 spc'-' 을 제거 [0]가져오기\\n# 그렇게 데이까지 똑같이 하고 member value \",\n",
       "  \"#예제2\\nmembers1 = [{'name':'홍길동', 'birth':'2000-01-01'},{'name':'신길동', 'birth':'1995-12-18'},]\\nmembers2 = [{'name':'홍길동', 'year':2000, 'month':1,'day':1},{'name':'신길동', 'year':1995, 'month':12, 'day':18},]\",\n",
       "  '# \\'2000-01-01\\' => {\\'year\\':2000, \\'month\\':1\\' \\'day\\':1}\\ndate_str = \\'2000-02-02\\'\\nkeys = [\\'year\\',\\'month\\',\\'day\\']\\n# map(iambda(kv: ))\\nresult = dict(map(lambda kv: (kv[0], int(kv[1])), zip(keys, date_str.split(\"-\"))))\\nprint(result)',\n",
       "  \"def split_date(date):\\n    split_date = date.split('-')\\n    return {\\n        'year' : int(split_date[0]),\\n        'month' : int(split_date[1]),\\n        'day' : int(split_date[2])\\n    }\\nsplit_date('2025-01-01'), split_date('1995-12-12')\",\n",
       "  \"members2 = list(map(lambda member:{\\n        'name': membe1r.get('name','이름없음'),\\n        'year': int(member1.get('birth').split('-')[0]),\\n        'month': int(member1.get('birth').split('-')[1]),\\n        'day': int(member1.get('birth').split('-')[2])}, members1))\\n\\nmembers2 \\n# member2 에 리스트로 묶고 map함수와 람다함수 매개변수 member는 딕셔너리 name에는 member에서 'name'  없으면 '이름 없음' 호출, year키에서 birth(2002-01-01)인트로 정수형으로 바꾸고 split에서 spc'-' 을 제거 [0]가져오기\\n# 그렇게 데이까지 똑같이 하고 member value \",\n",
       "  \"members2 = list(map(lambda member:{\\n        'name': member.get('name','이름없음'),\\n        'year': int(member.get('birth').split('-')[0]),\\n        'month': int(member.get('birth').split('-')[1]),\\n        'day': int(member.get('birth').split('-')[2])}, members1))\\n\\nmembers2 \\n# member2 에 리스트로 묶고 map함수와 람다함수 매개변수 member는 딕셔너리 name에는 member에서 'name'  없으면 '이름 없음' 호출, year키에서 birth(2002-01-01)인트로 정수형으로 바꾸고 split에서 spc'-' 을 제거 [0]가져오기\\n# 그렇게 데이까지 똑같이 하고 member value \",\n",
       "  'def join_date(data):\\n    return \"{year:02}\"-\"{month:02}\"-\"{day:02}\".format(**data)\\njoin_date({\\'year\\':2000,\\'month\\':9,\\'day\\'9})',\n",
       "  'def join_date(data):\\n    return \"{year:02}\"-\"{month:02}\"-\"{day:02}\".format(**data)\\njoin_date({\\'year\\':2000,\\'month\\':9,\\'day\\':9})',\n",
       "  'def join_date(data):\\n    return {\"birth\": \"{year:02}-{month:02}-{day:02}\".format(**data)\\njoin_date({\\'year\\':2000,\\'month\\':9,\\'day\\':9})',\n",
       "  'def join_date(data):\\n    return {\"birth\": \"{year:02}-{month:02}-{day:02}\".format(**data)}\\njoin_date({\\'year\\':2000,\\'month\\':9,\\'day\\':9})',\n",
       "  '# {\\'name\\':\\'hong\\' year\\':2000 \\'month\\':1 \\'day\\':1} => {\\'name\\':\\'hong\\', birth\\':\\'2025-01-01\\'}\\ndef join_date(data):\\n    return {\"name\": \\'hong\\',\"birth\": \"{year:02}-{month:02}-{day:02}\".format(**data)}\\njoin_date({\\'name\\':\\'hong\\', \\'year\\':2000,\\'month\\':9,\\'day\\':9})',\n",
       "  '# {\\'name\\':\\'hong\\' year\\':2000 \\'month\\':1 \\'day\\':1} => {\\'name\\':\\'hong\\', birth\\':\\'2025-01-01\\'}\\n# def join_date(data):\\n#     return {\"name\": \\'hong\\',\"birth\": \"{year:02}-{month:02}-{day:02}\".format(**data)}\\n# join_date({\\'name\\':\\'hong\\', \\'year\\':2000,\\'month\\':9,\\'day\\':9})\\n\\ndef members_preprocessing(member)',\n",
       "  '# {\\'name\\':\\'hong\\' year\\':2000 \\'month\\':1 \\'day\\':1} => {\\'name\\':\\'hong\\', birth\\':\\'2025-01-01\\'}\\n\\n\\ndef join_date(data):\\n    return {\"name\": \\'hong\\',\"birth\": \"{year:02}-{month:02}-{day:02}\".format(**data)}\\njoin_date({\\'name\\':\\'hong\\', \\'year\\':2000,\\'month\\':9,\\'day\\':9})',\n",
       "  'list(map(lambda member:,{\"name\": \\'hong\\',\"birth\": \"{year:02}-{month:02}-{day:02}\".format(**data)},  members2))',\n",
       "  'list(map(lambda member:{\"name\": \\'hong\\',\"birth\": \"{year:02}-{month:02}-{day:02}\".format(**data)},  members2))',\n",
       "  'list(map(lambda member:{\"name\": \\'hong\\',\"birth\": \"{year:02}-{month:02}-{day:02}\".format(**data)},  members2))',\n",
       "  'list(map(lambda member:{\"name\": member.get(\\'name\\'),\\n                        \"birth\": \"{year:02}-{month:02}-{day:02}\".format(**data)},  members2))',\n",
       "  'list(map(lambda member:{\"name\": member.get(\\'name\\'),\\n                        \"birth\": \"{year:02}-{month:02}-{day:02}\".format(**member)},  members2))',\n",
       "  'def filter_template(func,L=[]):\\n    result = []\\n    for item in L:\\n        if func(item):\\n            result.append(item)',\n",
       "  'def filter_template(func,L=[]):\\n    result = []\\n    for item in L:\\n        if func(item):\\n            result.append(item)\\n    return result',\n",
       "  'list_data = [1,2,3,4,5,6,7,8,9]\\ndef odd_chk(value):\\n    return value %2 !=0\\n#     if value%2:\\n#         return True\\n#     else:\\n#         return False\\nfilter_template(lambda value: value%2 !=0,list_data)',\n",
       "  '[value%2 if filter_template in list_data]',\n",
       "  '[value%2 for filter_template in list_data]',\n",
       "  '[for value in list_data if value%2 !=0]',\n",
       "  '[value for value in list_data if value%2 !=0]',\n",
       "  '# 예제: 다음 리스트에서 소수점 이하가 0인 수만 추출하시오.\\nlist(filter_template(lambda value: value%2 !=0,list_data))',\n",
       "  'list(filter_template(lambda value: value%2 !=0,list_data))',\n",
       "  '# 예제: 다음 리스트에서 소수점 이하가 0인 수만 추출하시오.\\nL=[1, 1.2, 1.5, 3.0, 10.5, 100, -2.0, -12.2]\\nlist(filter_template(lambda value: value%1 !=0,L))',\n",
       "  '# 예제: 다음 리스트에서 소수점 이하가 0인 수만 추출하시오.\\nL=[1, 1.2, 1.5, 3.0, 10.5, 100, -2.0, -12.2]\\nlist(filter_template(lambda value: value%1,L))',\n",
       "  '# 예제: 다음 리스트에서 소수점 이하가 0인 수만 추출하시오.\\nL=[1, 1.2, 1.5, 3.0, 10.5, 100, -2.0, -12.2]\\nlist(filter_template(lambda value: value.is_integer(),L))',\n",
       "  '# 예제: 다음 리스트에서 소수점 이하가 0인 수만 추출하시오.\\nL=[1, 1.2, 1.5, 3.0, 10.5, 100, -2.0, -12.2]\\nlist(filter_template(lambda value: value%1==0,L))',\n",
       "  '# 예제: 다음 리스트에서 소수점 이하가 0인 수만 추출하시오.\\nL=[1, 1.2, 1.5, 3.0, 10.5, 100, -2.0, -12.2]\\nlist(filter_template(lambda value: value%1==0,L))\\n[value for filter_template in L if value%1==0]',\n",
       "  '[value for value in list_data if value%2 !=0]',\n",
       "  '# 예제: 다음 리스트에서 소수점 이하가 0인 수만 추출하시오.\\nL=[1, 1.2, 1.5, 3.0, 10.5, 100, -2.0, -12.2]\\nlist(filter_template(lambda value: value%1==0,L))\\n[value for value in L if value % 1== 0]',\n",
       "  '# 예제: 다음 리스트에서 소수점 이하가 0인 수만 추출하시오.\\nL=[1, 1.2, 1.5, 3.0, 10.5, 100, -2.0, -12.2]\\n# list(filter_template(lambda value: value%1==0,L))\\n[value for value in L if value % 1== 0]',\n",
       "  'list(filter_template(lambda value: value%1==0,L))',\n",
       "  'p = [10,3,6,1]\\np.sort(reverse=True)\\np',\n",
       "  \"# 무조건 0번째 item을 기준으로 오름차순 정렬\\npairs = [(2,'two'),(1,'one'),(3,'three'),(4,'four')]\\npairs.sort()\\nparis\",\n",
       "  \"# 무조건 0번째 item을 기준으로 오름차순 정렬\\npairs = [(2,'two'),(1,'one'),(3,'three'),(4,'four')]\\npairs.sort()\\npairs\",\n",
       "  '# 1번째 기준으로 item기준으로 내림차순 정렬\\npairs.sort(key=lambda data:data[1])',\n",
       "  '# 1번째 기준으로 item기준으로 내림차순 정렬\\npairs.sort(key=lambda data:data[1])\\nprirs',\n",
       "  '# 1번째 기준으로 item기준으로 내림차순 정렬\\npairs.sort(key=lambda data:data[1])\\npairs',\n",
       "  '# 1번째 기준으로 item기준으로 내림차순 정렬\\npairs.sort(key=lambda data:data[1] reverse=True)\\npairs',\n",
       "  '# 1번째 기준으로 item기준으로 내림차순 정렬\\npairs.sort(key=lambda data:data[1],reverse=True)\\npairs',\n",
       "  '# 합이 큰 순서로 정렬\\nnumbers_2d =[[9,9],[1,100],[10,200]]\\nprint(number_2d)\\n# numbers_2d.sort(key=lambda )\\n    \\n    \\n    ',\n",
       "  '# 합이 큰 순서로 정렬\\nnumber_2d =[[9,9],[1,100],[10,200]]\\nprint(number_2d)\\n# numbers_2d.sort(key=lambda )\\n    \\n    \\n    ',\n",
       "  '# 합이 큰 순서로 정렬\\nnumber_2d =[[9,9],[1,100],[10,200]]\\nprint(number_2d)\\nnumbers_2d.sort(key=lambda items : sum(items),reverse= True)\\nprint(number_2d)\\n    \\n    \\n    ',\n",
       "  '# 합이 큰 순서로 정렬\\nnumber_2d =[[9,9],[1,100],[10,200]]\\nprint(number_2d)\\nnumber_2d.sort(key=lambda items : sum(items),reverse= True)\\nprint(number_2d)\\n    \\n    \\n    ',\n",
       "  \"# 합이 큰 순서로 정렬\\nnumber_2d =[[9,9],[1,100],[10,200]]\\nprint(number_2d)\\nnumber_2d.sort(key=lambda items : sum(items),reverse= True)\\nprint(number_2d)\\n\\nstudents = [{'name':'홍','score':99},\\n           {'name':'김','score':50},\\n           {'name':'박','score':77},\\n           {'score':100},]\\n    \\n    \",\n",
       "  \"students = [{'name':'홍','score':99},\\n           {'name':'김','score':50},\\n           {'name':'박','score':77},\\n           {'score':100},]\",\n",
       "  \"students = [{'name':'홍','score':99},\\n           {'name':'김','score':50},\\n           {'name':'박','score':77},\\n           {'score':100},]\\nstudents.sort()\",\n",
       "  \"students = [{'name':'홍','score':99},\\n           {'name':'김','score':50},\\n           {'name':'박','score':77},\\n           {'score':100},]\\nstudents.sort(key=lambda data:data[1],reverse=True)\",\n",
       "  \"name_select = lambda data: data.get('name')\\nname_select = ({'name','홍','score':99})\",\n",
       "  \"name_select = lambda data: data.get('name')\\nname_select = ({'name':'홍','score':99})\",\n",
       "  \"name_select = lambda data: data.get('name')\\nname_select = ({'name':'홍','score':99})\",\n",
       "  \"name_select = lambda data: data.get('score')\\nname_select = ({'name':'홍','score':99})\",\n",
       "  \"name_select = lambda data: data.get('name')\\nname_select = ({'name':'홍','score':99})\",\n",
       "  \"name_select = lambda data: data.get('name')\\nname_select ({'name':'홍','score':99})\",\n",
       "  \"#students를 name순으로 정렬(ㄱㄴㄷ순)\\nstudents.sort(key=lambda data : data.get('name'),'힣')\\nstudents\",\n",
       "  \"#students를 name순으로 정렬(ㄱㄴㄷ순)\\nstudents.sort(key=lambda data : data.get('name','힣')\\nstudents\",\n",
       "  \"#students를 name순으로 정렬(ㄱㄴㄷ순)\\nstudents.sort(key=lambda data : data.get('name','힣'))\\nstudents\",\n",
       "  \"#students를 name순으로 정렬(ㄱㄴㄷ순)\\nstudents.sort(key=lambda data : data.get('name','힣'))\\nstudents\",\n",
       "  \"#student를 score 큰 순 정렬\\nstudents.sort(key=lambda data : data.get('score'))\\nstudents\",\n",
       "  \"#student를 score 큰 순 정렬\\nstudents.sort(key=lambda data : data.get('score',0 reverse+True))\\nstudents\",\n",
       "  \"#student를 score 큰 순 정렬\\nstudents.sort(key=lambda data : data.get('score',0, reverse+True))\\nstudents\",\n",
       "  \"#student를 score 큰 순 정렬\\nstudents.sort(key=lambda data : data.get('score',0, )reverse+True)\\nstudents\",\n",
       "  \"#student를 score 큰 순 정렬\\nstudents.sort(key=lambda data : data.get('score',0, ),reverse+True)\\nstudents\",\n",
       "  \"#student를 score 큰 순 정렬\\nstudents.sort(key=lambda data : data.get('score',0, ),reverse=True)\\nstudents\",\n",
       "  \"# 예제 : books 정렬()\\nbooks = \\\\\\n[{'no':1, 'title':'더트릭컬', 'writer':'폴빠','price':'19,800'},\\n{'no':2, 'title':'흔한남매', 'writer':'백난도', 'price':'15,120'},\\n{'no':3, 'title':'단 한 번의 삶', 'writer':'김영하', 'price':'15,120'},\\n{'no':4, 'title':'가격잘못', 'writer':'홍길동', 'price':'ㅁ'},\\n{'no':5, 'title':'가격이숫자', 'writer':'백난도', 'price':30200},\\n{'no':6, 'title':'가격이없음', 'writer':'이길동’},] 정렬\\n4절. 람다식\\n47\",\n",
       "  \"# 예제 : books 정렬()\\nbooks = \\\\\\n[{'no':1, 'title':'더트릭컬', 'writer':'폴빠','price':'19,800'},\\n{'no':2, 'title':'흔한남매', 'writer':'백난도', 'price':'15,120'},\\n{'no':3, 'title':'단 한 번의 삶', 'writer':'김영하', 'price':'15,120'},\\n{'no':4, 'title':'가격잘못', 'writer':'홍길동', 'price':'ㅁ'},\\n{'no':5, 'title':'가격이숫자', 'writer':'백난도', 'price':30200},\\n{'no':6, 'title':'가격이없음', 'writer':'이길동’},] 정렬\",\n",
       "  \"# 예제 : books 정렬()\\nbooks = \\\\\\n[{'no':1, 'title':'더트릭컬', 'writer':'폴빠','price':'19,800'},\\n    {'no':2, 'title':'흔한남매', 'writer':'백난도', 'price':'15,120'},\\n    {'no':3, 'title':'단 한 번의 삶', 'writer':'김영하', 'price':'15,120'},\\n    {'no':4, 'title':'가격잘못', 'writer':'홍길동', 'price':'ㅁ'},\\n    {'no':5, 'title':'가격이숫자', 'writer':'백난도', 'price':30200},\\n    {'no':6, 'title':'가격이없음', 'writer':'이길동'},] \",\n",
       "  \"# 예제 : books 정렬()\\nbooks = \\\\\\n[{'no':1, 'title':'더트릭컬', 'writer':'폴빠','price':'19,800'},\\n    {'no':2, 'title':'흔한남매', 'writer':'백난도', 'price':'15,120'},\\n    {'no':3, 'title':'단 한 번의 삶', 'writer':'김영하', 'price':'15,120'},\\n    {'no':4, 'title':'가격잘못', 'writer':'홍길동', 'price':'ㅁ'},\\n    {'no':5, 'title':'가격이숫자', 'writer':'백난도', 'price':30200},\\n    {'no':6, 'title':'가격이없음', 'writer':'이길동'},] \",\n",
       "  'books',\n",
       "  \"# 예제 : books 정렬(no,title,price)\\nbooks = \\\\\\n[{'no':2, 'title':'더트릭컬', 'writer':'폴빠','price':'19,80'},\\n    {'no':1, 'title':'흔한남매', 'writer':'백난도', 'price':'15,120'},\\n    {'no':3, 'title':'단 한 번의 삶', 'writer':'김영하', 'price':'15,120'},\\n    {'no':4, 'title':'가격잘못', 'writer':'홍길동', 'price':'ㅁ'},\\n    {'no':5, 'title':'가격이숫자', 'writer':'백난도', 'price':30200},\\n    {'no':6, 'title':'가격이없음', 'writer':'이길동'},] \",\n",
       "  \"# no기준\\nbooks.sort(key=lambda data: data.get('no'))\",\n",
       "  \"# no기준\\nbooks.sort(key=lambda data: data.get('no'))\\nbooks\",\n",
       "  \"# title\\nbooks.sort(key=lambda data: data.get('title'))\\nbooks\",\n",
       "  \"# no기준\\nbooks.sort(key=lambda book: book['no'])\\nbooks\",\n",
       "  \"# title\\nbooks.sort(key=lambda book: book['title'])\\nbooks\",\n",
       "  \"# price\\nbooks.sort(key=lambda book: book.get('price',0))\\nif\\nbooks\",\n",
       "  \"# 30200, '12,000', '5000', 'ㅁ', None => 30200, 12000, 5000, 0, 0\\ndef parse_int(price):\\n    print(type(price))\",\n",
       "  \"# 30200, '12,000', '5000', 'ㅁ', None => 30200, 12000, 5000, 0, 0\\ndef parse_int(price):\\n    print(type(price))\\nparse_int(None)\",\n",
       "  \"# 30200, '12,000', '5000', 'ㅁ', None => 30200, 12000, 5000, 0, 0\\ndef parse_int(price):\\n    print(type(price))\\nparse_int('5000')\",\n",
       "  \"# 30200, '12,000', '5000', 'ㅁ', None => 30200, 12000, 5000, 0, 0\\ndef parse_int(price):\\n    if isinstance(price, str) and price.replace(',','').isdigit():\\nparse_int('5000')\",\n",
       "  \"# 30200, '12,000', '5000', 'ㅁ', None => 30200, 12000, 5000, 0, 0\\ndef parse_int(price):\\n    if isinstance(price, str) and price.replace(',','').isdigit():\\n        return int(price.replace(',',''))\\nparse_int('5000')\",\n",
       "  \"# 30200, '12,000', '5000', 'ㅁ', None => 30200, 12000, 5000, 0, 0\\ndef parse_int(price):\\n    if isinstance(price, str) and price.replace(',','').isdigit():\\n        return int(price.replace(',',''))\\n    elif isinstance(price,int):\\n        return price\\n    else:\\n        return 0\\nprint(parse_int('5000'), parse_int(30200),parse_int('ㅁ'),parse_int(None))\",\n",
       "  \"# 30200, '12,000', '5000', 'ㅁ', None => 30200, 12000, 5000, 0, 0\\ndef parse_int(price):\\n    if isinstance(price, str) and price.replace(',','').isdigit():\\n        return int(price.replace(',',''))\\n    elif isinstance(price,int):\\n        return price\\n    else:\\n        return 0\\n\\nparse_int = lambda price :int(price.replace(',','')) if isinstance(price, str) and price.replace(',','').isdigit() else \\\\\\nprice if isinstance(price, int) else 0\\n\\nprint(parse_int('5000'), parse_int(30200),parse_int('ㅁ'),parse_int(None))\",\n",
       "  \"parse_int = lambda book :int(book.get('price').replace(',','')) if isinstance(book, str) and book.get('price')replace(',','').isdigit() else \\\\\\nbook.get('price') if isinstance(book.get('price'), int) else 0\\n\\n\\nprint(parse_int('5000'), parse_int(30200),parse_int('ㅁ'),parse_int(None))\",\n",
       "  \"parse_int = lambda book :int(book.get('price').replace(',','')) if isinstance(book.get('price'), str) and book.get('price')replace(',','').isdigit() else \\\\\\nbook.get('price') if isinstance(book.get('price'), int) else 0\\n\\n\\nprint(parse_int('5000'), parse_int(30200),parse_int('ㅁ'),parse_int(None))\",\n",
       "  \"parse_int = lambda book :int(book.get('price').replace(',','')) if isinstance(book.get('price'), str) and book.get('price').replace(',','').isdigit() else \\\\\\nbook.get('price') if isinstance(book.get('price'), int) else 0\\n\\n\\nprint(parse_int('5000'), parse_int(30200),parse_int('ㅁ'),parse_int(None))\",\n",
       "  \"parse_int = lambda book: (\\n    int(book.get('price').replace(',', ''))\\n    if isinstance(book.get('price'), str) and book.get('price').replace(',', '').isdigit()\\n    else book.get('price') if isinstance(book.get('price'), int)\\n    else 0\\n)\\nprint(parse_int('5000'), parse_int(30200),parse_int('ㅁ'),parse_int(None))\",\n",
       "  \"parse_int = lambda book: (\\n    int(book.get('price').replace(',', ''))\\n    if isinstance(book.get('price'), str) and book.get('price').replace(',', '').isdigit()\\n    else book.get('price') if isinstance(book.get('price'), int)\\n    else 0\\n)\\nprint(\\n    parse_int({'price': '5000'}),\\n    parse_int({'price': 30200}),\\n    parse_int({'price': 'ㅁ'}),\\n    parse_int({'price': None})\\n)\",\n",
       "  \"# 30200, '12,000', '5000', 'ㅁ', None => 30200, 12000, 5000, 0, 0\\ndef parse_int(price):\\n    if str(price).replace(',','').isdigit():\\n        return int(price.replace(',',''))\\n    \\n    else:\\n        return 0\\n\\nparse_int = lambda price :int(price.replace(',','')) if isinstance(price, str) and price.replace(',','').isdigit() else \\\\\\nprice if isinstance(price, int) else 0\\n\\nprint(parse_int('5000'), parse_int(30200),parse_int('ㅁ'),parse_int(None))\",\n",
       "  \"# 30200, '12,000', '5000', 'ㅁ', None => 30200, 12000, 5000, 0, 0\\ndef parse_int(price):\\n    if isinstance(price, str) and price.replace(',','').isdigit():\\n        return int(price.replace(',',''))\\n    elif isinstance(price,int):\\n        return price\\n    else:\\n        return 0\\n\\nparse_int = lambda price :int(price.replace(',','')) if isinstance(price, str) and price.replace(',','').isdigit() else \\\\\\nprice if isinstance(price, int)\\n\\nprint(parse_int('5000'), parse_int(30200),parse_int('ㅁ'),parse_int(None))\",\n",
       "  \"# 30200, '12,000', '5000', 'ㅁ', None => 30200, 12000, 5000, 0, 0\\ndef parse_int(price):\\n    if isinstance(price, str) and price.replace(',','').isdigit():\\n        return int(price.replace(',',''))\\n    elif isinstance(price,int):\\n        return price\\n    else:\\n        return 0\\n    \\ndef parse_int(price):\\n    if str(price).replace(',','').isdigit():\\n        return int(price.replace(',',''))\\n    \\n    else:\\n        return 0\\n    \\nparse_int = lambda price :int(price.replace(',','')) if isinstance(price, str) and price.replace(',','').isdigit() else \\\\\\nprice if isinstance(price, int)\\n\\nprint(parse_int('5000'), parse_int(30200),parse_int('ㅁ'),parse_int(None))\",\n",
       "  \"# 30200, '12,000', '5000', 'ㅁ', None => 30200, 12000, 5000, 0, 0\\ndef parse_int(price):\\n    if isinstance(price, str) and price.replace(',','').isdigit():\\n        return int(price.replace(',',''))\\n    elif isinstance(price,int):\\n        return price\\n    else:\\n        return 0\\n    \\ndef parse_int(price):\\n    if str(price).replace(',','').isdigit():\\n        return int(price.replace(',',''))\\n    \\n    else:\\n        return 0\\n    \\nparse_int = lambda price :int(price.replace(',','')) if isinstance(price, str) and price.replace(',','').isdigit() else \\\\\\nprice if isinstance(price, int)else 0\\n\\nprint(parse_int('5000'), parse_int(30200),parse_int('ㅁ'),parse_int(None))\",\n",
       "  \"copyBooks = books.copy() # 복제\\ncopyBooks.sort(key=lambda book: (\\n    int(book.get('price').replace(',', ''))\\n    if isinstance(book.get('price'), str) and book.get('price').replace(',', '').isdigit()\\n    else book.get('price') if isinstance(book.get('price'), int)\\n    else 0,reversed=True\\n))\",\n",
       "  \"copyBooks = books.copy() # 복제\\ncopyBooks.sort(key=lambda book: (\\n    int(book.get('price').replace(',', ''))\\n    if isinstance(book.get('price'), str) and book.get('price').replace(',', '').isdigit()\\n    else book.get('price') if isinstance(book.get('price'), int)\\n    else 0, reversed=True\\n)\",\n",
       "  \"copyBooks = books.copy() # 복제\\ncopyBooks.sort(key=lambda book: (\\n    int(book.get('price').replace(',', ''))\\n    if isinstance(book.get('price'), str) and book.get('price').replace(',', '').isdigit()\\n    else book.get('price') if isinstance(book.get('price'), int)\\n    else 0, reversed=True\\n))\",\n",
       "  \"copyBooks = books.copy() # 복제\\ncopyBooks.sort(key=lambda book: (\\n    int(book.get('price').replace(',', ''))\\n    if isinstance(book.get('price'), str) and book.get('price').replace(',', '').isdigit()\\n    else book.get('price') if isinstance(book.get('price'), int)\\n    else 0, reverse =True\\n))\",\n",
       "  \"copyBooks = books.copy() # 복제\\ncopyBooks.sort(key=lambda book: \\n    int(book.get('price').replace(',', ''))\\n    if isinstance(book.get('price'), str) and book.get('price').replace(',', '').isdigit()\\n    else book.get('price') if isinstance(book.get('price'), int)\\n    else 0, reverse =True\\n)\",\n",
       "  \"copyBooks = books.copy() # 복제\\ncopyBooks.sort(key=lambda book: \\n    int(book.get('price').replace(',', ''))\\n    if isinstance(book.get('price'), str) and book.get('price').replace(',', '').isdigit()\\n    else book.get('price') if isinstance(book.get('price'), int)\\n    else 0, reverse =True\\n)\\ncopyBooks\",\n",
       "  'globals() #전역변수 리스트 '],\n",
       " '_oh': {19: (-1, 2),\n",
       "  23: (-1, 2),\n",
       "  24: (-1, 2),\n",
       "  25: (-1, 2),\n",
       "  33: [25],\n",
       "  34: [25, 15, 100, 4.0],\n",
       "  35: [10, 6, 16, 4.0],\n",
       "  37: [64, 20],\n",
       "  38: [64, 82],\n",
       "  40: [10, 6, 16, 4.0, 64],\n",
       "  42: [1, 2, 3],\n",
       "  43: [1, 2, 3],\n",
       "  44: [1, 2, 3],\n",
       "  45: [1, 2, 3],\n",
       "  46: [1, 2, 3],\n",
       "  47: [1, 2, 3],\n",
       "  48: [1, 2, 3],\n",
       "  49: [1, 2, 3],\n",
       "  50: [1, 2, 3],\n",
       "  51: [1, 2, 3],\n",
       "  52: [1, 2, 3],\n",
       "  53: [1, 2, 3],\n",
       "  54: [1, 2, 3],\n",
       "  55: [1, 2, 3],\n",
       "  56: [1, 2, 3],\n",
       "  57: [1, 2, 3],\n",
       "  58: [1, 2, 3],\n",
       "  59: [1, 2, 3],\n",
       "  61: [1, 2, 3, 4, 5, 6, 7],\n",
       "  62: [1, 2, 3, 4, 5, 6, 7],\n",
       "  63: [1, 2, 3, 4, 5, 6, 7],\n",
       "  65: [2, 4, 6, 8, 10, 12, 14],\n",
       "  66: [2, 4, 6, 8, 10, 12, 14],\n",
       "  67: [2, 4, 6, 8, 10, 12, 14],\n",
       "  68: [2, 4, 6, 8, 10, 12, 14],\n",
       "  70: [2, 4, 6, 8, 10, 12, 14],\n",
       "  71: [2, 4, 6, 8, 10, 12, 14],\n",
       "  72: <map at 0x1e8c06ca170>,\n",
       "  75: <map at 0x1e8c05875b0>,\n",
       "  76: [2, 4, 6, 8, 10, 12, 14],\n",
       "  81: 5000,\n",
       "  99: ({'year': 2025, 'month': 1, 'day': 1},\n",
       "   {'year': 1995, 'month': 12, 'day': 12}),\n",
       "  107: {'name': '홍길동', 'year': 2002, 'month': 1, 'day': 1},\n",
       "  113: [{'name': '홍길동', 'year': 2000, 'month': 1, 'day': 1},\n",
       "   {'name': '신길동', 'year': 1995, 'month': 12, 'day': 18}],\n",
       "  115: {'name': '홍길동', 'year': 2002, 'month': 1, 'day': 1},\n",
       "  119: {'name': '홍길동', 'year': 2002, 'month': 1, 'day': 1},\n",
       "  120: {'name': '홍길동', 'year': 2002, 'month': 1, 'day': 1},\n",
       "  121: {'name': '홍길동', 'year': 2002, 'month': 1, 'day': 1},\n",
       "  124: [{'name': '홍길동', 'year': 2000, 'month': 1, 'day': 1},\n",
       "   {'name': '신길동', 'year': 1995, 'month': 12, 'day': 18}],\n",
       "  133: [{'name': '홍길동', 'year': 'None-'}, {'name': '신길동', 'year': 'None-'}],\n",
       "  141: [{'name': '홍길동', 'year': '-'}, {'name': '신길동', 'year': '-'}],\n",
       "  153: ({'year': 2025, 'month': 1, 'day': 1},\n",
       "   {'year': 1995, 'month': 12, 'day': 12}),\n",
       "  155: [{'name': '홍길동', 'year': 2000, 'month': 1, 'day': 1},\n",
       "   {'name': '신길동', 'year': 1995, 'month': 12, 'day': 18}],\n",
       "  159: {'birth': '2000-09-09'},\n",
       "  160: {'name': 'hong', 'birth': '2000-09-09'},\n",
       "  162: {'name': 'hong', 'birth': '2000-09-09'},\n",
       "  167: [{'name': '홍길동', 'birth': '2000-01-01'},\n",
       "   {'name': '신길동', 'birth': '1995-12-18'}],\n",
       "  170: [1, 3, 5, 7, 9],\n",
       "  174: [1, 3, 5, 7, 9],\n",
       "  175: [1, 3, 5, 7, 9],\n",
       "  176: [1, 3, 5, 7, 9],\n",
       "  177: [1.2, 1.5, 10.5, -12.2],\n",
       "  178: [1.2, 1.5, 10.5, -12.2],\n",
       "  180: [1, 3.0, 100, -2.0],\n",
       "  182: [1, 3, 5, 7, 9],\n",
       "  183: [1, 3.0, 100, -2.0],\n",
       "  184: [1, 3.0, 100, -2.0],\n",
       "  185: [1, 3.0, 100, -2.0],\n",
       "  186: [10, 6, 3, 1],\n",
       "  188: [(2, 'two'), (3, 'three'), (1, 'one'), (4, 'four')],\n",
       "  191: [(2, 'two'), (3, 'three'), (1, 'one'), (4, 'four')],\n",
       "  193: [(2, 'two'), (3, 'three'), (1, 'one'), (4, 'four')],\n",
       "  207: '홍',\n",
       "  210: [{'score': 100},\n",
       "   {'name': '홍', 'score': 99},\n",
       "   {'name': '박', 'score': 77},\n",
       "   {'name': '김', 'score': 50}],\n",
       "  211: [{'score': 100},\n",
       "   {'name': '홍', 'score': 99},\n",
       "   {'name': '박', 'score': 77},\n",
       "   {'name': '김', 'score': 50}],\n",
       "  212: [{'score': 100},\n",
       "   {'name': '홍', 'score': 99},\n",
       "   {'name': '박', 'score': 77},\n",
       "   {'name': '김', 'score': 50}],\n",
       "  217: [{'score': 100},\n",
       "   {'name': '홍', 'score': 99},\n",
       "   {'name': '박', 'score': 77},\n",
       "   {'name': '김', 'score': 50}],\n",
       "  222: [{'no': 1, 'title': '더트릭컬', 'writer': '폴빠', 'price': '19,800'},\n",
       "   {'no': 2, 'title': '흔한남매', 'writer': '백난도', 'price': '15,120'},\n",
       "   {'no': 3, 'title': '단 한 번의 삶', 'writer': '김영하', 'price': '15,120'},\n",
       "   {'no': 4, 'title': '가격잘못', 'writer': '홍길동', 'price': 'ㅁ'},\n",
       "   {'no': 5, 'title': '가격이숫자', 'writer': '백난도', 'price': 30200},\n",
       "   {'no': 6, 'title': '가격이없음', 'writer': '이길동'}],\n",
       "  225: [{'no': 5, 'title': '가격이숫자', 'writer': '백난도', 'price': 30200},\n",
       "   {'no': 6, 'title': '가격이없음', 'writer': '이길동'},\n",
       "   {'no': 4, 'title': '가격잘못', 'writer': '홍길동', 'price': 'ㅁ'},\n",
       "   {'no': 3, 'title': '단 한 번의 삶', 'writer': '김영하', 'price': '15,120'},\n",
       "   {'no': 2, 'title': '더트릭컬', 'writer': '폴빠', 'price': '19,80'},\n",
       "   {'no': 1, 'title': '흔한남매', 'writer': '백난도', 'price': '15,120'}],\n",
       "  226: [{'no': 5, 'title': '가격이숫자', 'writer': '백난도', 'price': 30200},\n",
       "   {'no': 6, 'title': '가격이없음', 'writer': '이길동'},\n",
       "   {'no': 4, 'title': '가격잘못', 'writer': '홍길동', 'price': 'ㅁ'},\n",
       "   {'no': 3, 'title': '단 한 번의 삶', 'writer': '김영하', 'price': '15,120'},\n",
       "   {'no': 2, 'title': '더트릭컬', 'writer': '폴빠', 'price': '19,80'},\n",
       "   {'no': 1, 'title': '흔한남매', 'writer': '백난도', 'price': '15,120'}],\n",
       "  227: [{'no': 5, 'title': '가격이숫자', 'writer': '백난도', 'price': 30200},\n",
       "   {'no': 6, 'title': '가격이없음', 'writer': '이길동'},\n",
       "   {'no': 4, 'title': '가격잘못', 'writer': '홍길동', 'price': 'ㅁ'},\n",
       "   {'no': 3, 'title': '단 한 번의 삶', 'writer': '김영하', 'price': '15,120'},\n",
       "   {'no': 2, 'title': '더트릭컬', 'writer': '폴빠', 'price': '19,80'},\n",
       "   {'no': 1, 'title': '흔한남매', 'writer': '백난도', 'price': '15,120'}],\n",
       "  228: [{'no': 5, 'title': '가격이숫자', 'writer': '백난도', 'price': 30200},\n",
       "   {'no': 6, 'title': '가격이없음', 'writer': '이길동'},\n",
       "   {'no': 4, 'title': '가격잘못', 'writer': '홍길동', 'price': 'ㅁ'},\n",
       "   {'no': 3, 'title': '단 한 번의 삶', 'writer': '김영하', 'price': '15,120'},\n",
       "   {'no': 2, 'title': '더트릭컬', 'writer': '폴빠', 'price': '19,80'},\n",
       "   {'no': 1, 'title': '흔한남매', 'writer': '백난도', 'price': '15,120'}],\n",
       "  234: 5000,\n",
       "  251: [{'no': 5, 'title': '가격이숫자', 'writer': '백난도', 'price': 30200},\n",
       "   {'no': 3, 'title': '단 한 번의 삶', 'writer': '김영하', 'price': '15,120'},\n",
       "   {'no': 1, 'title': '흔한남매', 'writer': '백난도', 'price': '15,120'},\n",
       "   {'no': 2, 'title': '더트릭컬', 'writer': '폴빠', 'price': '19,80'},\n",
       "   {'no': 6, 'title': '가격이없음', 'writer': '이길동'},\n",
       "   {'no': 4, 'title': '가격잘못', 'writer': '홍길동', 'price': 'ㅁ'}]},\n",
       " '_dh': [WindowsPath('C:/aii/source/01_Python')],\n",
       " 'In': ['',\n",
       "  '# ex5. 점수를 입력받아 학점을 return\\nscoreGrade = int(input(\"점수를 입력하시오: \"))\\nscoreGrade = lambda score : \"A학점\" if 90<= score <=100 else \\\\ \\n                            \"B학점\" if 80<=score <90 else \\\\ \\n                            \"C학점\" if 70<=score <80 else \\\\\\n                            \"D학점\" if 60<=score <70 else \\\\\\n                            \"F학점\" if 0<=score <60 else \\\\\\n                            \"유효하지않음\"',\n",
       "  '# ex5. 점수를 입력받아 학점을 return\\nscoreGrade = int(input(\"점수를 입력하시오: \"))\\nscoreGrade = lambda score : \"A학점\" if 90<= score <=100 else \\\\\\n                            \"B학점\" if 80<=score <90 else \\\\ \\n                            \"C학점\" if 70<=score <80 else \\\\\\n                            \"D학점\" if 60<=score <70 else \\\\\\n                            \"F학점\" if 0<=score <60 else \\\\\\n                            \"유효하지않음\"',\n",
       "  '# ex5. 점수를 입력받아 학점을 return\\nscoreGrade = int(input(\"점수를 입력하시오: \"))\\nscoreGrade = lambda score : \"A학점\" if 90<= score <=100 else \\\\\\n                            \"B학점\" if 80<=score <90 else \\\\\\n                            \"C학점\" if 70<=score <80 else \\\\\\n                            \"D학점\" if 60<=score <70 else \\\\\\n                            \"F학점\" if 0<=score <60 else \\\\\\n                            \"유효하지않음\"',\n",
       "  '# ex5. 점수를 입력받아 학점을 return\\nscore = int(input(\"점수를 입력하시오: \"))\\nscoreGrade = lambda s : \"A학점\" if 90<= score <=100 else \\\\\\n                            \"B학점\" if 80<=score <90 else \\\\\\n                            \"C학점\" if 70<=score <80 else \\\\\\n                            \"D학점\" if 60<=score <70 else \\\\\\n                            \"F학점\" if 0<=score <60 else \\\\\\n                            \"유효하지않음\"',\n",
       "  '# ex5. 점수를 입력받아 학점을 return\\nscoreGrade = int(input(\"점수를 입력하시오: \"))\\nscoreGrade = lambda score : \"A학점\" if 90<= score <=100 else \\\\\\n                            \"B학점\" if 80<=score <90 else \\\\\\n                            \"C학점\" if 70<=score <80 else \\\\\\n                            \"D학점\" if 60<=score <70 else \\\\\\n                            \"F학점\" if 0<=score <60 else \\\\\\n                            \"유효하지않음\"\\nprint(scoreGrade)',\n",
       "  '# ex5. 점수를 입력받아 학점을 return\\nscoreGrade = int(input(\"점수를 입력하시오: \"))\\nscoreGrade = lambda score : \"A학점\" if 90<= score <=100 else \\\\\\n                            \"B학점\" if 80<=score <90 else \\\\\\n                            \"C학점\" if 70<=score <80 else \\\\\\n                            \"D학점\" if 60<=score <70 else \\\\\\n                            \"F학점\" if 0<=score <60 else \\\\\\n                            \"유효하지않음\"\\nprint(scoreGrade(score))',\n",
       "  '# ex5. 점수를 입력받아 학점을 return\\nscoreGrade = int(input(\"점수를 입력하시오: \"))\\nscoreGrade = lambda score : \"A학점\" if 90<= score <=100 else \\\\\\n                            \"B학점\" if 80<=score <90 else \\\\\\n                            \"C학점\" if 70<=score <80 else \\\\\\n                            \"D학점\" if 60<=score <70 else \\\\\\n                            \"F학점\" if 0<=score <60 else \\\\\\n                            \"유효하지않음\"\\nprint(scoreGrade(score))',\n",
       "  '# ex5. 점수를 입력받아 학점을 return\\nscoreGrade = int(input(\"점수를 입력하시오: \"))\\nscoreGrade = lambda score : \"A학점\" if 90<= score <=100 else \\\\\\n                            \"B학점\" if 80<=score <90 else \\\\\\n                            \"C학점\" if 70<=score <80 else \\\\\\n                            \"D학점\" if 60<=score <70 else \\\\\\n                            \"F학점\" if 0<=score <60 else \\\\\\n                            \"유효하지않음\"\\nprint(scoreGrade(score))',\n",
       "  '# ex5. 점수를 입력받아 학점을 return\\nscoreGrade = int(input(\"점수를 입력하시오: \"))\\nscoreGrade = lambda score : \"A학점\" if 90<= score <=100 else \\\\\\n                            \"B학점\" if 80<=score <90 else \\\\\\n                            \"C학점\" if 70<=score <80 else \\\\\\n                            \"D학점\" if 60<=score <70 else \\\\\\n                            \"F학점\" if 0<=score <60 else \\\\\\n                            \"유효하지않음\"\\nprint(scoreGrade(score))',\n",
       "  '# ex5. 점수를 입력받아 학점을 return\\nscoreGrade = int(input(\"점수를 입력하시오: \"))\\nscoreGrade = lambda s : \"A학점\" if 90<= score <=100 else \\\\\\n                            \"B학점\" if 80<=score <90 else \\\\\\n                            \"C학점\" if 70<=score <80 else \\\\\\n                            \"D학점\" if 60<=score <70 else \\\\\\n                            \"F학점\" if 0<=score <60 else \\\\\\n                            \"유효하지않음\"\\nprint(scoreGrade(score))',\n",
       "  '# ex5. 점수를 입력받아 학점을 return\\nscore = int(input(\"점수를 입력하시오: \"))\\nscoreGrade = lambda s : \"A학점\" if 90<= score <=100 else \\\\\\n                            \"B학점\" if 80<=score <90 else \\\\\\n                            \"C학점\" if 70<=score <80 else \\\\\\n                            \"D학점\" if 60<=score <70 else \\\\\\n                            \"F학점\" if 0<=score <60 else \\\\\\n                            \"유효하지않음\"\\nprint(scoreGrade(score))',\n",
       "  '# ex5. 점수를 입력받아 학점을 return\\nscore = int(input(\"점수를 입력하시오: \"))\\nscoreGrade = lambda s : \"A학점\" if 90<= score <=100 else \\\\\\n                            \"B학점\" if 80<=score <90 else \\\\\\n                            \"C학점\" if 70<=score <80 else \\\\\\n                            \"D학점\" if 60<=score <70 else \\\\\\n                            \"F학점\" if 0<=score <60 else \\\\\\n                            \"유효하지않음\"\\nprint(scoreGrade(score))',\n",
       "  '# ex5. 점수를 입력받아 학점을 return\\nscore = int(input(\"점수를 입력하시오: \"))\\nscoreGrade = lambda s : \"A학점\" if 90<= score <=100 else \\\\\\n                            \"B학점\" if 80<=score <90 else \\\\\\n                            \"C학점\" if 70<=score <80 else \\\\\\n                            \"D학점\" if 60<=score <70 else \\\\\\n                            \"F학점\" if 0<=score <60 else \\\\\\n                            \"유효하지않음\"\\nprint(scoreGrade(score))',\n",
       "  '# ex6. safe_index함수를 람다식으로\\n\\ndef safe_index(lst,item,start=0):\\n    return lst.index(item, start) if item in lst[start:] else -1\\n\\nex5 = lambda lst, ltem, start =0 :lst.index(item, start)/\\n                if item in lst[start:] else \\\\ -1\\n\\nlsr = [1,2,3]\\nsafe_index(lst,4), ex5(lst,3,1)',\n",
       "  '# ex6. safe_index함수를 람다식으로\\n\\ndef safe_index(lst,item,start=0):\\n    return lst.index(item, start) if item in lst[start:] else -1\\n\\nex5 = lambda lst, ltem, start =0 :lst.index(item, start)/\\n                if item in lst[start:] else \\\\-1\\n\\nlsr = [1,2,3]\\nsafe_index(lst,4), ex5(lst,3,1)',\n",
       "  '# ex6. safe_index함수를 람다식으로\\n\\ndef safe_index(lst,item,start=0):\\n    return lst.index(item, start) if item in lst[start:] else -1\\n\\nex5 = lambda lst, ltem, start =0 :lst.index(item, start)\\n                if item in lst[start:] else \\\\-1\\n\\nlsr = [1,2,3]\\nsafe_index(lst,4), ex5(lst,3,1)',\n",
       "  '# ex6. safe_index함수를 람다식으로\\n\\ndef safe_index(lst,item,start=0):\\n    return lst.index(item, start) if item in lst[start:] else -1\\n\\nex5 = lambda lst, ltem, start =0 :lst.index(item, start)\\n                if item in lst[start:] else \\\\-1\\n\\nlst = [1,2,3]\\nsafe_index(lst,4), ex5(lst,3,1)',\n",
       "  '# ex6. safe_index함수를 람다식으로\\n\\ndef safe_index(lst,item,start=0):\\n    return lst.index(item, start) if item in lst[start:] else -1\\n\\nex5 = lambda lst, item, start =0 :lst.index(item, start)\\n                if item in lst[start:] else \\\\-1\\n\\nlst = [1,2,3]\\nsafe_index(lst,4), ex5(lst,3,1)',\n",
       "  '# ex6. safe_index함수를 람다식으로\\n\\ndef safe_index(lst,item,start=0):\\n    return lst.index(item, start) if item in lst[start:] else -1\\n\\n# ex5 = lambda lst, item, start =0 :lst.index(item, start)\\n#                 if item in lst[start:] else \\\\-1\\nex5 = lambda lst, item, start=0: lst.index(item, start) \\\\\\n       if item in lst[start:] else -1\\n\\n\\nlst = [1,2,3]\\nsafe_index(lst,4), ex5(lst,3,1)',\n",
       "  '# ex6. safe_index함수를 람다식으로\\n\\ndef safe_index(lst,item,start=0):\\n    return lst.index(item, start) if item in lst[start:] else -1\\n\\nex5 = lambda lst, item, start =0 :lst.index(item, start) \\\\if item in lst[start:] else -1\\n# ex5 = lambda lst, item, start=0: lst.index(item, start) \\\\if item in lst[start:] else -1\\n\\n\\nlst = [1,2,3]\\nsafe_index(lst,4), ex5(lst,3,1)',\n",
       "  '# ex6. safe_index함수를 람다식으로\\n\\ndef safe_index(lst,item,start=0):\\n    return lst.index(item, start) if item in lst[start:] else -1\\n\\nex5 = lambda lst, item, start =0 : lst.index(item, start) \\\\if item in lst[start:] else \\\\-1\\n# ex5 = lambda lst, item, start=0: lst.index(item, start) \\\\if item in lst[start:] else -1\\n\\n\\nlst = [1,2,3]\\nsafe_index(lst,4), ex5(lst,3,1)',\n",
       "  '# ex6. safe_index함수를 람다식으로\\n\\ndef safe_index(lst,item,start=0):\\n    return lst.index(item, start) if item in lst[start:] else -1\\n\\n# ex5 = lambda lst, item, start =0 :lst.index(item, start)\\\\if item in lst[start:] else \\\\-1\\nex5 = lambda lst, item, start=0: lst.index(item, start) \\\\if item in lst[start:] else -1\\n\\n\\nlst = [1,2,3]\\nsafe_index(lst,4), ex5(lst,3,1)',\n",
       "  '# ex6. safe_index함수를 람다식으로\\n\\ndef safe_index(lst,item,start=0):\\n    return lst.index(item, start) if item in lst[start:] else -1\\n\\n# ex5 = lambda lst, item, start =0 :lst.index(item, start)\\n#     if item in lst[start:] else \\\\-1\\nex5 = lambda lst, item, start=0: lst.index(item, start) \\\\\\n       if item in lst[start:] else -1\\n\\n\\nlst = [1,2,3]\\nsafe_index(lst,4), ex5(lst,3,1)',\n",
       "  '# ex6. safe_index함수를 람다식으로\\n\\ndef safe_index(lst,item,start=0):\\n    return lst.index(item, start) if item in lst[start:] else -1\\n\\nex5 = lambda lst, item, start =0 :lst.index(item, start)\\\\\\n       if item in lst[start:] else -1\\n# ex5 = lambda lst, item, start=0: lst.index(item, start) \\\\\\n#        if item in lst[start:] else -1\\n\\n\\nlst = [1,2,3]\\nsafe_index(lst,4), ex5(lst,3,1)',\n",
       "  '# ex6. safe_index함수를 람다식으로\\n\\ndef safe_index(lst,item,start=0):\\n    return lst.index(item, start) if item in lst[start:] else -1\\n\\nex5 = lambda lst, item, start =0 :lst.index(item, start)\\\\\\n       if item in lst[start:] else -1\\n\\ni =3\\nlst = [i,2,3]\\nsafe_index(lst,4), ex5(lst,3,1)',\n",
       "  '# 람다식을 list에 들어갈 수 있음\\nadd, sub = 1, 2\\noperation = [add, sub]',\n",
       "  \"# 람다식을 list에 들어갈 수 있음\\nadd = lambda a, b : a + b\\nsub = lambda a, b : a - b\\nmul = lambda a, b : a * b\\ndiv = lambda a, b : a / b if  b else '두 번째 인자가 0이면 못 나눠요'\\noperation = [add, sub] # 사칙연산 함수\",\n",
       "  \"# 람다식을 list에 들어갈 수 있음\\nadd = lambda a, b : a + b\\nsub = lambda a, b : a - b\\nmul = lambda a, b : a * b\\ndiv = lambda a, b : a / b if  b else '두 번째 인자가 0이면 못 나눠요'\\noperation = [add, sub, mul, div] # 사칙연산 함수들\\noperation([1,2])\",\n",
       "  \"# 람다식을 list에 들어갈 수 있음\\nadd = lambda a, b : a + b\\nsub = lambda a, b : a - b\\nmul = lambda a, b : a * b\\ndiv = lambda a, b : a / b if  b else '두 번째 인자가 0이면 못 나눠요'\\noperations = [add, sub, mul, div] # 사칙연산 함수들\\ndef act_operation (a, b, operation= operations): # a,b의 연산결과 return\\n    result = []\\n    \\n    for op in operation:\\n        result.append(op(a,b))\\n        return result\\n            \\nprint(result)\\n    \",\n",
       "  \"# 람다식을 list에 들어갈 수 있음\\nadd = lambda a, b : a + b\\nsub = lambda a, b : a - b\\nmul = lambda a, b : a * b\\ndiv = lambda a, b : a / b if  b else '두 번째 인자가 0이면 못 나눠요'\\noperations = [add, sub, mul, div] # 사칙연산 함수들\\ndef act_operation (a, b, operation= operations): # a,b의 연산결과 return\\n    result = []\\n    \\n    for op in operation:\\n        result.append(op(a ,b))\\n        return result\\n            \\nprint(result(3,4))\\n    \",\n",
       "  \"# 람다식을 list에 들어갈 수 있음\\nadd = lambda a, b : a + b\\nsub = lambda a, b : a - b\\nmul = lambda a, b : a * b\\ndiv = lambda a, b : a / b if  b else '두 번째 인자가 0이면 못 나눠요'\\noperations = [add, sub, mul, div] # 사칙연산 함수들\\ndef act_operation (a, b, operation= operations): # a,b의 연산결과 return\\n    result = []\\n    \\n    for op in operation:\\n        result.append(op(a ,b))\\n        return result\\n            \\nresult(3,4)\\n    \",\n",
       "  \"# 람다식을 list에 들어갈 수 있음\\nadd = lambda a, b : a + b\\nsub = lambda a, b : a - b\\nmul = lambda a, b : a * b\\ndiv = lambda a, b : a / b if  b else '두 번째 인자가 0이면 못 나눠요'\\noperations = [add, sub, mul, div] # 사칙연산 함수들\\ndef act_operation (a, b, operation= operations): # a,b의 연산결과 return\\n    result = []\\n    \\n    for op in operation:\\n        result.append(op(a ,b))\\n        return result\\n            \\nop(3,4)\\n    \",\n",
       "  \"# 람다식을 list에 들어갈 수 있음\\nadd = lambda a, b : a + b\\nsub = lambda a, b : a - b\\nmul = lambda a, b : a * b\\ndiv = lambda a, b : a / b if  b else '두 번째 인자가 0이면 못 나눠요'\\noperations = [add, sub, mul, div] # 사칙연산 함수들\\ndef act_operations (a, b, operation= operations): # a,b의 연산결과 return\\n    result = []\\n    \\n    for op in operation:\\n        result.append(op(a ,b))\\n    return result\\n            \\nact_operation (20,5)\",\n",
       "  \"# 람다식을 list에 들어갈 수 있음\\nadd = lambda a, b : a + b\\nsub = lambda a, b : a - b\\nmul = lambda a, b : a * b\\ndiv = lambda a, b : a / b if  b else '두 번째 인자가 0이면 못 나눠요'\\noperations = [add, sub, mul, div] # 사칙연산 함수들\\ndef act_operations (a, b, operation= operations): # a,b의 연산결과 return\\n    result = []\\n    \\n    for op in operation:\\n        result.append(op(a ,b))\\n    return result\\n            \\nact_operations (20,5)\",\n",
       "  'act_operations(8,2)',\n",
       "  'act_operations(8,2,[lambda x, y: x**y, lambda x,y 10*+y])',\n",
       "  'act_operations(8,2,[lambda x, y: x**y, lambda x,y :10*+y])',\n",
       "  'act_operations(8,2,[lambda x, y: x**y, lambda x,y :10*x+y])',\n",
       "  'operations.append(lambda x, y : x ** y)',\n",
       "  'act_operations(8,2)',\n",
       "  'def map_template(func, L=[]):\\n    result= []\\n    for item in L:\\n        result.append(item)\\n    return result',\n",
       "  'map_template(lambda a:a,[1,2,3])',\n",
       "  'map_template(lambda a:a*2,[1,2,3])',\n",
       "  'map_template(lambda a:a*2,[1,2,3])',\n",
       "  'map_template(lambda a:a*2,[1,2,3])',\n",
       "  'map_template(lambda a:a*2,[1,2,3])',\n",
       "  'map_template(lambda a:a*2,[1,2,3])',\n",
       "  'map_template(lambda a:a*2,[1,2,3])',\n",
       "  'map_template(lambda a:a*2,[1,2,3])',\n",
       "  'map_template(lambda a:a*2,[1,2,3])',\n",
       "  'map_template(lambda a:a*2,[1,2,3])',\n",
       "  'map_template(lambda a:a*2,[1,2,3])',\n",
       "  'map_template(lambda a:a*2,[1,2,3])',\n",
       "  'map_template(lambda a:a*2,[1,2,3])',\n",
       "  'map_template(lambda a:a*2,[1,2,3])',\n",
       "  'map_template(lambda a:a*2,[1,2,3])',\n",
       "  'map_template(lambda a:a*2,[1,2,3])',\n",
       "  'map_template(lambda a:a*2,[1,2,3])',\n",
       "  'map_template(lambda a:a*2,[1,2,3])',\n",
       "  'list_data[1,2,3,4,5,6,7]\\nmap_template(lambda a:a*2,list_data)',\n",
       "  'list_data =[1,2,3,4,5,6,7]\\nmap_template(lambda a:a*2,list_data)',\n",
       "  'list_data =[1,2,3,4,5,6,7]\\nmap_template(lambda a:a*2,list_data)',\n",
       "  'list_data =[1,2,3,4,5,6,7]\\nmap_template(lambda a:a*2,list_data)',\n",
       "  'def map_template(func, L=[]):\\n    result= []\\n    for item in L:\\n        result.append(func(item))\\n    return result',\n",
       "  'list_data =[1,2,3,4,5,6,7]\\nmap_template(lambda a: a*2 ,list_data)',\n",
       "  'list_data =[1,2,3,4,5,6,7]\\nmap_template(lambda a: a*2 ,list_data)',\n",
       "  'list_data =[1,2,3,4,5,6,7]\\nmap_template(lambda a: a*2 ,list_data)',\n",
       "  'list_data =[1,2,3,4,5,6,7]\\nmap_template(lambda a: a*2 ,list_data)',\n",
       "  'def map_template(func, L=[]):\\n    result= []\\n    for item in L:\\n        result.append(func(item))\\n    return result',\n",
       "  'list_data =[1,2,3,4,5,6,7]\\nmap_template(lambda a: a*2 ,list_data)',\n",
       "  '# 리스트 컴프리헨션\\n[item * 2 for item in list_data]',\n",
       "  'map(lambda x: x * 2 ,list_data)',\n",
       "  'map(lambda x: x * 2 ,list_data)\\nprint(map)',\n",
       "  'map(lambda x: x * 2 ,list_data)\\nprint(x)',\n",
       "  'map(lambda x: x * 2 ,list_data)',\n",
       "  'list(map(lambda x: x * 2 ,list_data))',\n",
       "  'for data in map(lambda x:x*2,list_data):\\n    print(data, end=\" \")',\n",
       "  \"# 예제prices = ['5,000', '5000', '6,000', '1000','5,000', '5000', '6,000', '1000’]를 [5000,5000,6000,1000]식으로 바꾸시오\\nprices = ['5,000', '5000', '6,000', '1000','5,000', '5000', '6,000', '1000’]\\n# prices_int = [5000,5000,6000,1000]\\n          \",\n",
       "  \"# 예제prices = ['5,000', '5000', '6,000', '1000','5,000', '5000', '6,000', '1000’]를 [5000,5000,6000,1000]식으로 바꾸시오\\nprices = ['5,000', '5000', '6,000', '1000','5,000', '5000', '6,000','1000’]\\n# prices_int = [5000,5000,6000,1000]\\n          \",\n",
       "  \"# 예제prices = ['5,000', '5000', '6,000', '1000','5,000', '5000', '6,000', '1000’]를 [5000,5000,6000,1000]식으로 바꾸시오\\nprices = ['5,000', '5000', '6,000', '1000','5,000', '5000', '6,000','1000’]\\n# prices_int = [5000,5000,6000,1000]\\ndef toint(value):\\n    return int(value.replace(',',''))\\ntoint('5000')\",\n",
       "  \"# 예제prices = ['5,000', '5000', '6,000', '1000','5,000', '5000', '6,000', '1000’]를 [5000,5000,6000,1000]식으로 바꾸시오\\n# prices = ['5,000', '5000', '6,000', '1000','5,000', '5000', '6,000','1000’]\\n# prices_int = [5000,5000,6000,1000]\\ndef toint(value):\\n    return int(value.replace(',',''))\\ntoint('5000')\",\n",
       "  \"# 예제prices = ['5,000', '5000', '6,000', '1000','5,000', '5000', '6,000', '1000’]를 [5000,5000,6000,1000]식으로 바꾸시오\\n# prices = ['5,000', '5000', '6,000', '1000','5,000', '5000', '6,000','1000’]\\n# prices_int = [5000,5000,6000,1000]\\ndef toint(value):\\n    return int(value.replace(',',''))\\nmap(lambda value: int((value.replace(',','')),prices)\\n\\nfor price in prices_int:\\n    print(price,end=' ')\",\n",
       "  \"# 예제prices = ['5,000', '5000', '6,000', '1000','5,000', '5000', '6,000', '1000’]를 [5000,5000,6000,1000]식으로 바꾸시오\\n# prices = ['5,000', '5000', '6,000', '1000','5,000', '5000', '6,000','1000’]\\n# prices_int = [5000,5000,6000,1000]\\ndef toint(value):\\n    return int(value.replace(',',''))\\nmap(lambda value: int(value.replace(',','')),prices)\\n\\nfor price in prices_int:\\n    print(price,end=' ')\",\n",
       "  \"# 예제prices = ['5,000', '5000', '6,000', '1000','5,000', '5000', '6,000', '1000’]를 [5000,5000,6000,1000]식으로 바꾸시오\\nprices = ['5,000', '5000', '6,000', '1000','5,000', '5000', '6,000','1000']\\n# prices_int = [5000,5000,6000,1000]\\ndef toint(value):\\n    return int(value.replace(',',''))\\nmap(lambda value: int(value.replace(',','')),prices)\\n\\nfor price in prices_int:\\n    print(price,end=' ')\",\n",
       "  \"# 예제prices = ['5,000', '5000', '6,000', '1000','5,000', '5000', '6,000', '1000’]를 [5000,5000,6000,1000]식으로 바꾸시오\\nprices = ['5,000', '5000', '6,000', '1000','5,000', '5000', '6,000','1000']\\n\\ndef toint(value):\\n    return int(value.replace(',',''))\\nmap(lambda value: int(value.replace(',','')),prices)\\n\\nfor price in prices_int:\\n    print(price,end=' ')\",\n",
       "  \"# 예제prices = ['5,000', '5000', '6,000', '1000','5,000', '5000', '6,000', '1000’]를 [5000,5000,6000,1000]식으로 바꾸시오\\nprices = ['5,000', '5000', '6,000', '1000','5,000', '5000', '6,000','1000']\\n\\ndef toint(value):\\n    return int(value.replace(',',''))\\nprices_int =map(lambda value: int(value.replace(',','')),prices)\\n\\nfor price in prices_int:\\n    print(price,end=' ')\",\n",
       "  \"members1 = [{'name':'홍길동', 'birth':'2000-01-01'},{'name':'신길동', 'birth':'1995-12-18'},]\\nmembers2 = [{'name':'홍길동', 'year':2000, 'month':1,'day':1},{'name':'신길동', 'year':1995, 'month':12, 'day':18},]\",\n",
       "  \"#예제2\\nmembers1 = [{'name':'홍길동', 'birth':'2000-01-01'},{'name':'신길동', 'birth':'1995-12-18'},]\\nmembers2 = [{'name':'홍길동', 'year':2000, 'month':1,'day':1},{'name':'신길동', 'year':1995, 'month':12, 'day':18},]\",\n",
       "  'from IPython.display import display, HTML\\ndisplay(HTML(\"\"\"\\n<style>\\ndiv.container{width:90% !important;}\\ndiv.cell.code_cell.rendered{width:100%;}\\ndiv.input_prompt{padding:0px;}\\ndiv.CodeMirror {font-family:Consolas; font-size:12pt;}\\ndiv.text_cell_render.rendered_html{font-size:12pt;}\\ndiv.output {font-size:12pt; font-weight:bold;}\\ndiv.input {font-family:Consolas; font-size:12pt;}\\ndiv.prompt {min-width:70px;}\\ndiv#toc-wrapper{padding-top:120px;}\\ndiv.text_cell_render ul li{font-size:12pt;padding:5px;}\\ntable.dataframe{font-size:12px;}\\n</style>\\n\"\"\"))',\n",
       "  \"# '2000-01-01' => {'year':2000, 'month':1' 'day':1}\\nmap(lambda(key:'year','month','day'))\",\n",
       "  \"# '2000-01-01' => {'year':2000, 'month':1' 'day':1}\\ndate_str = '2000-01-01'\",\n",
       "  '# \\'2000-01-01\\' => {\\'year\\':2000, \\'month\\':1\\' \\'day\\':1}\\ndate_str = \\'2000-01-01\\'\\nkeys = [\\'year\\',\\'month\\',\\'day\\']\\n# map(iambda(kv: ))\\nresult = dict(map(lambda kv: (kv[0], int(kv[1])), zip(keys, date_str.split(\"-\"))))\\nprint(result)',\n",
       "  '# \\'2000-01-01\\' => {\\'year\\':2000, \\'month\\':1\\' \\'day\\':1}\\ndate_str = \\'2000-02-02\\'\\nkeys = [\\'year\\',\\'month\\',\\'day\\']\\n# map(iambda(kv: ))\\nresult = dict(map(lambda kv: (kv[0], int(kv[1])), zip(keys, date_str.split(\"-\"))))\\nprint(result)',\n",
       "  \"def split_data(data):\\n    split_data = date.split('-')\\n    return {\\n        'year' : int(split_date[0]),\\n        'month' : int(split_date[1]),\\n        'day' : int(split_date[2])\\n    }\",\n",
       "  \"def split_data(data):\\n    split_data = date.split('-')\\n    return {\\n        'year' : int(split_date[0]),\\n        'month' : int(split_date[1]),\\n        'day' : int(split_date[2])\\n    }\\nsplit_date('2025-01-01'), split_date('1995-12-12')\",\n",
       "  \"def split_date(data):\\n    split_data = date.split('-')\\n    return {\\n        'year' : int(split_date[0]),\\n        'month' : int(split_date[1]),\\n        'day' : int(split_date[2])\\n    }\\nsplit_date('2025-01-01'), split_date('1995-12-12')\",\n",
       "  \"def split_date(data):\\n    split_date = split_date('-')\\n    return {\\n        'year' : int(split_date[0]),\\n        'month' : int(split_date[1]),\\n        'day' : int(split_date[2])\\n    }\\nsplit_date('2025-01-01'), split_date('1995-12-12')\",\n",
       "  \"def split_date(date):\\n    split_date = split_date('-')\\n    return {\\n        'year' : int(split_date[0]),\\n        'month' : int(split_date[1]),\\n        'day' : int(split_date[2])\\n    }\\nsplit_date('2025-01-01'), split_date('1995-12-12')\",\n",
       "  \"def split_date(date):\\n    split_date = date.split('-')\\n    return {\\n        'year' : int(split_date[0]),\\n        'month' : int(split_date[1]),\\n        'day' : int(split_date[2])\\n    }\\nsplit_date('2025-01-01'), split_date('1995-12-12')\",\n",
       "  '# \\'2000-01-01\\' => {\\'year\\':2000, \\'month\\':1\\' \\'day\\':1}\\ndate_str = \\'2000-02-02\\'\\nkeys = [\\'year\\',\\'month\\',\\'day\\']\\n# map(iambda(kv: ))\\nresult = list(map(lambda kv: (kv[0], int(kv[1])), zip(keys, date_str.split(\"-\"))))\\nprint(result)',\n",
       "  '# \\'2000-01-01\\' => {\\'year\\':2000, \\'month\\':1\\' \\'day\\':1}\\ndate_str = \\'2000-02-02\\'\\nkeys = [\\'year\\',\\'month\\',\\'day\\']\\n# map(iambda(kv: ))\\nresult = dict(map(lambda kv: (kv[0], int(kv[1])), zip(keys, date_str.split(\"-\"))))\\nprint(result)',\n",
       "  '# \\'2000-01-01\\' => {\\'year\\':2000, \\'month\\':1\\' \\'day\\':1}\\ndate_str = \\'홍길동\\',\\'2000-02-02\\'\\nkeys = [\\'year\\',\\'month\\',\\'day\\']\\n# map(iambda(kv: ))\\nresult = dict(map(lambda kv: (kv[0], int(kv[1])), zip(keys, date_str.split(\"-\"))))\\nprint(result)',\n",
       "  '# \\'2000-01-01\\' => {\\'year\\':2000, \\'month\\':1\\' \\'day\\':1}\\ndate_str = 2000-02-02\\'\\nkeys = [\\'year\\',\\'month\\',\\'day\\']\\n# map(iambda(kv: ))\\nresult = dict(map(lambda kv: (kv[0], int(kv[1])), zip(keys, date_str.split(\"-\"))))\\nprint(result)',\n",
       "  '# \\'2000-01-01\\' => {\\'year\\':2000, \\'month\\':1\\' \\'day\\':1}\\ndate_str = \\'2000-02-02\\'\\nkeys = [\\'year\\',\\'month\\',\\'day\\']\\n# map(iambda(kv: ))\\nresult = dict(map(lambda kv: (kv[0], int(kv[1])), zip(keys, date_str.split(\"-\"))))\\nprint(result)',\n",
       "  \"def member_preprocessing(member):\\n    return {\\n        'name': member.get('name','이름없음'),\\n        'year': member.get('birth').split('-')\\n    }\",\n",
       "  \"#예제2\\nmembers = [{'name':'홍길동', 'birth':'2000-01-01'},{'name':'신길동', 'birth':'1995-12-18'},]\\nmembers2 = [{'name':'홍길동', 'year':2000, 'month':1,'day':1},{'name':'신길동', 'year':1995, 'month':12, 'day':18},]\",\n",
       "  \"def member_preprocessing(member):\\n    return {\\n        'name': member.get('name','이름없음'),\\n        'year': int(member.get('birth').split('-')[0]),\\n        'month': int(member.get('birth').split('-')[1]),\\n        'day': int(member.get('birth').split('-')[2])\\n    }\\nmember_preprocessing({'name':'홍길동','birth':'2002-01-01'})\",\n",
       "  \"members2 = list(map(lambda member:     '\\n        'name': member.get('name','이름없음'),\\n        'year': int(member.get('birth').split('-')[0]),\\n        'month': int(member.get('birth').split('-')[1]),\\n        'day': int(member.get('birth').split('-')[2])\\n    ))\",\n",
       "  \"members2 = list(map(lambda member:     \\n        'name': member.get('name','이름없음'),\\n        'year': int(member.get('birth').split('-')[0]),\\n        'month': int(member.get('birth').split('-')[1]),\\n        'day': int(member.get('birth').split('-')[2])\\n    ))\",\n",
       "  \"members2 = list(map(lambda member:{\\n        'name': member.get('name','이름없음'),\\n        'year': int(member.get('birth').split('-')[0]),\\n        'month': int(member.get('birth').split('-')[1]),\\n        'day': int(member.get('birth').split('-')[2])}\\n    ))\",\n",
       "  \"members2 = list(map(lambda member:{\\n        'name': member.get('name','이름없음'),\\n        'year': int(member.get('birth').split('-')[0]),\\n        'month': int(member.get('birth').split('-')[1]),\\n        'day': int(member.get('birth').split('-')[2])},\\n    ))\",\n",
       "  \"members2 = list(map(lambda member:{\\n        'name': member.get('name','이름없음'),\\n        'year': int(member.get('birth').split('-')[0]),\\n        'month': int(member.get('birth').split('-')[1]),\\n        'day': int(member.get('birth').split('-')[2])}, members))\",\n",
       "  \"members2 = list(map(lambda member:{\\n        'name': member.get('name','이름없음'),\\n        'year': int(member.get('birth').split('-')[0]),\\n        'month': int(member.get('birth').split('-')[1]),\\n        'day': int(member.get('birth').split('-')[2])}, members1))\\n\\nmembers2\",\n",
       "  \"def member_preprocessing(member):\\n    return {\\n        'name': member1.get('name','이름없음'),\\n        'year': int(member1.get('birth').split('-')[0]),\\n        'month': int(member1.get('birth').split('-')[1]),\\n        'day': int(member1.get('birth').split('-')[2])\\n    }\\nmember_preprocessing({'name':'홍길동','birth':'2002-01-01'})\",\n",
       "  \"def member_preprocessing(member):\\n    return {\\n        'name': member.get('name','이름없음'),\\n        'year': int(member.get('birth').split('-')[0]),\\n        'month': int(member.get('birth').split('-')[1]),\\n        'day': int(member.get('birth').split('-')[2])\\n    }\\nmember_preprocessing({'name':'홍길동','birth':'2002-01-01'})\",\n",
       "  \"members2 = list(map(lambda member:{\\n        'name': member.get('name','이름없음'),\\n        'year': int(member.get('birth').split('-')),\\n        'month': int(member.get('birth').split('-')),\\n        'day': int(member.get('birth').split('-'))}, members1))\\n\\nmembers2 \\n# member2 에 리스트로 묶고 map함수와 람다함수 매개변수 member는 딕셔너리 name에는 member에서 'name'  없으면 '이름 없음' 호출, year키에서 birth(2002-01-01)인트로 정수형으로 바꾸고 split에서 spc'-' 을 제거 [0]가져오기\\n# 그렇게 데이까지 똑같이 하고 member value 값을 가져온다\",\n",
       "  \"members2 = list(map(lambda member:{\\n        'name': member.get('name','이름없음'),\\n        'year': int(member.get('birth')),\\n        'month': int(member.get('birth')),\\n        'day': int(member.get('birth'))}, members1))\\n\\nmembers2 \\n# member2 에 리스트로 묶고 map함수와 람다함수 매개변수 member는 딕셔너리 name에는 member에서 'name'  없으면 '이름 없음' 호출, year키에서 birth(2002-01-01)인트로 정수형으로 바꾸고 split에서 spc'-' 을 제거 [0]가져오기\\n# 그렇게 데이까지 똑같이 하고 member value 값을 가져온다\",\n",
       "  \"members2 = list(map(lambda member:{\\n        'name': member.get('name','이름없음'),\\n        'year': int(member.get('birth')),\\n        'month': int(member.get('birth')),\\n        'day': int(member.get('birth'))}, members1))\\n\\nmembers2 \\n# member2 에 리스트로 묶고 map함수와 람다함수 매개변수 member는 딕셔너리 name에는 member에서 'name'  없으면 '이름 없음' 호출, year키에서 birth(2002-01-01)인트로 정수형으로 바꾸고 split에서 spc'-' 을 제거 [0]가져오기\\n# 그렇게 데이까지 똑같이 하고 member value 값을 가져온다\",\n",
       "  \"def member_preprocessing(member):\\n    return {\\n        'name': member.get('name','이름없음'),\\n        'year': int(member.get('birth').split('-')[0]),\\n        'month': int(member.get('birth').split('-')[1]),\\n        'day': int(member.get('birth').split('-')[2])\\n    }\\nmember_preprocessing({'name':'홍길동','birth':'2002-01-01'})\",\n",
       "  \"def member_preprocessing(member):\\n    return {\\n        'name': member.get('name','이름없음'),\\n        'year': int(member.get('birth').split('-')[0]),\\n        'month': int(member.get('birth').split('-')[1]),\\n        'day': int(member.get('birth').split('-')[2])\\n    }\\nmember_preprocessing({'name':'홍길동','birth':'2002-01-01'})\",\n",
       "  \"def member_preprocessing(member):\\n    return {\\n        'name': member.get('name','이름없음'),\\n        'year': int(member.get('birth').split('-')[0]),\\n        'month': int(member.get('birth').split('-')[1]),\\n        'day': int(member.get('birth').split('-')[2])\\n    }\\nmember_preprocessing({'name':'홍길동','birth':'2002-01-01'})\",\n",
       "  \"member1 = def member_preprocessing(member):\\n    return {\\n        'name': member.get('name','이름없음'),\\n        'year': str(member.get('birth').split('-')[0]),\\n        'month': str(member.get('birth').split('-')[1]),\\n        'day': str(member.get('birth').split('-')[2])\\n    }\\nmember_preprocessing({'name':'홍길동','birth':'2002-01-01'})\",\n",
       "  \"member1 = def member_preprocessing(member):\\n    return {\\n        'name': member.get('name','이름없음'),\\n        'year': str(member.get('birth').split('-')[0]),\\n        'month': str(member.get('birth').split('-')[1]),\\n        'day': str(member.get('birth').split('-')[2])\\n    }\\nmember_preprocessing({'name':'홍길동','birth':'2002-01-01'})\",\n",
       "  \"members2 = list(map(lambda member:{\\n        'name': member.get('name','이름없음'),\\n        'year': int(member.get('birth').split('-')[0]),\\n        'month': int(member.get('birth').split('-')[1]),\\n        'day': int(member.get('birth').split('-')[2])}, members1))\\n\\nmembers2 \\n# member2 에 리스트로 묶고 map함수와 람다함수 매개변수 member는 딕셔너리 name에는 member에서 'name'  없으면 '이름 없음' 호출, year키에서 birth(2002-01-01)인트로 정수형으로 바꾸고 split에서 spc'-' 을 제거 [0]가져오기\\n# 그렇게 데이까지 똑같이 하고 member value \",\n",
       "  \"member1 = def member_preprocessing(member):\\n    return {\\n        'name': member.get('name','이름없음'),\\n        'year': str(member.get('birth').split('-')[0]),\\n        'month': str(member.get('birth').split('-')[1]),\\n        'day': str(member.get('birth').split('-')[2])\\n    }\\nmember_preprocessing({'name':'홍길동','birth':'2002-01-01'})\",\n",
       "  \"members2 = [{'name':'홍길동', 'year':2000, 'month':1,'day':1},{'name':'신길동', 'year':1995, 'month':12, 'day':18},]\",\n",
       "  \"members1 = dict(map(lambda member:['name':member.get('name','이름없음'),\\n                                  'year':merber.get('birth'),members.append('-')],members2))\",\n",
       "  \"members1 = dict(map(lambda member:['name': member.get('name','이름없음'),\\n                                  'year': merber.get('birth'),members.append('-')],members2))\",\n",
       "  \"members1 = dict(map(lambda member:[{'name': member.get('name','이름없음'),\\n                                  'year': merber.get('birth'),members.append('-')},members2]))\",\n",
       "  \"members1 = dict(map(lambda member:[{'name': member.get('name','이름없음'),\\n                                  'year': merber.get('birth')+'-'},members2]))\",\n",
       "  \"members1 = list(\\n    map(\\n        lambda member: {\\n            'name': member.get('name','이름없음'),\\n            'year': member.get('birth') + '-'\\n        },\\n        members2\\n    )\\n)\",\n",
       "  \"members1 = list(\\n    map(\\n        lambda member: {\\n            'name': member.get('name','이름없음'),\\n            'year': str(member.get('birth')) + '-'\\n        },\\n        members2\\n    )\\n)\",\n",
       "  \"members1 = list(\\n    map(\\n        lambda member: {\\n            'name': member.get('name','이름없음'),\\n            'year': str(member.get('birth')) + '-'\\n        },\\n        members2\\n    )\\n)\\nmembers1\",\n",
       "  \"members1 = list(\\n    map(\\n        lambda member: {\\n            'name': member.get('name','이름없음'),\\n            'year': str(member.get('birth')[0]) + '-'\\n        },\\n        members2\\n    )\\n)\\nmembers1\",\n",
       "  \"members1 = list(\\n    map(\\n        lambda member: {\\n            'name': member.get('name','이름없음'),\\n            'year': str(member.get('birth') + '-'[0])\\n        },\\n        members2\\n    )\\n)\\nmembers1\",\n",
       "  \"members1 = dict(map(lambda member:[{'name': member.get('name','이름없음'),\\n                                  'year': merber.get('birth')+'-'},members2]))\",\n",
       "  \"members1 = list(\\n    map(\\n        lambda member: {\\n            'name': member.get('name','이름없음'),\\n            'year': str(member.get('birth').split('-') + '-'[0])\\n        },\\n        members2\\n    )\\n)\\nmembers1\",\n",
       "  \"members1 = list(\\n    map(\\n        lambda member: {\\n            'name': member.get('name','이름없음'),\\n            'year': str(member.get('birth').split('-')[0] + '-'[0])\\n        },\\n        members2\\n    )\\n)\\nmembers1\",\n",
       "  \"members1 = list(\\n    map(\\n        lambda member: {\\n            'name': member.get('name','이름없음'),\\n            'year': str(member.get('birth').split('-')[0] + '-')\\n        },\\n        members2\\n    )\\n)\\nmembers1\",\n",
       "  \"members1 = list(\\n    map(\\n        lambda member: {\\n            'name': member.get('name','이름없음'),\\n            'year': member.get('birth', '').split('-')[0] + '-'\\n        },\\n        members2\\n    )\\n)\",\n",
       "  \"members1 = list(\\n    map(\\n        lambda member: {\\n            'name': member.get('name','이름없음'),\\n            'year': member.get('birth', '').split('-')[0] + '-'\\n        },\\n        members2\\n    )\\n)\\nmembers1\",\n",
       "  \"members2 = list(map(lambda member:{\\n        'name': member.get('name','이름없음'),\\n        'year': int(member.get('birth').split('-')[0]),\\n        'month': int(member.get('birth').split('-')[1]),\\n        'day': int(member.get('birth').split('-')[2])}, members1))\\n\\nmembers2 \\n# member2 에 리스트로 묶고 map함수와 람다함수 매개변수 member는 딕셔너리 name에는 member에서 'name'  없으면 '이름 없음' 호출, year키에서 birth(2002-01-01)인트로 정수형으로 바꾸고 split에서 spc'-' 을 제거 [0]가져오기\\n# 그렇게 데이까지 똑같이 하고 member value \",\n",
       "  \"members2 = list(map(lambda member:{\\n        'name': member.get('name','이름없음'),\\n        'year': int(member.get('birth').split('-')[0]),\\n        'month': int(member.get('birth').split('-')[1]),\\n        'day': int(member.get('birth').split('-')[2])}, members1))\\n\\nmembers2 \\n# member2 에 리스트로 묶고 map함수와 람다함수 매개변수 member는 딕셔너리 name에는 member에서 'name'  없으면 '이름 없음' 호출, year키에서 birth(2002-01-01)인트로 정수형으로 바꾸고 split에서 spc'-' 을 제거 [0]가져오기\\n# 그렇게 데이까지 똑같이 하고 member value \",\n",
       "  \"members2 = list(map(lambda member:{\\n        'name': member.get('name','이름없음'),\\n        'year': int(member.get('birth').split('-')[0]),\\n        'month': int(member.get('birth').split('-')[1]),\\n        'day': int(member.get('birth').split('-')[2])}, members1))\\n\\nmembers2 \\n# member2 에 리스트로 묶고 map함수와 람다함수 매개변수 member는 딕셔너리 name에는 member에서 'name'  없으면 '이름 없음' 호출, year키에서 birth(2002-01-01)인트로 정수형으로 바꾸고 split에서 spc'-' 을 제거 [0]가져오기\\n# 그렇게 데이까지 똑같이 하고 member value \",\n",
       "  \"members2 = list(map(lambda member:{\\n        'name': member.get('name','이름없음'),\\n        'year': int(member.get('birth').split('-')[0]),\\n        'month': int(member.get('birth').split('-')[1]),\\n        'day': int(member.get('birth').split('-')[2])}, members1))\\n\\nmembers2 \\n# member2 에 리스트로 묶고 map함수와 람다함수 매개변수 member는 딕셔너리 name에는 member에서 'name'  없으면 '이름 없음' 호출, year키에서 birth(2002-01-01)인트로 정수형으로 바꾸고 split에서 spc'-' 을 제거 [0]가져오기\\n# 그렇게 데이까지 똑같이 하고 member value \",\n",
       "  \"members2 = list(map(lambda member:{\\n        'name': member.get('name','이름없음'),\\n        'year': int(member.get('birth').split('-')[0]),\\n        'month': int(member.get('birth').split('-')[1]),\\n        'day': int(member.get('birth').split('-')[2])}, members1))\\n\\nmembers2 \\n# member2 에 리스트로 묶고 map함수와 람다함수 매개변수 member는 딕셔너리 name에는 member에서 'name'  없으면 '이름 없음' 호출, year키에서 birth(2002-01-01)인트로 정수형으로 바꾸고 split에서 spc'-' 을 제거 [0]가져오기\\n# 그렇게 데이까지 똑같이 하고 member value \",\n",
       "  \"members2 = list(map(lambda member:{\\n        'name': member.get('name','이름없음'),\\n        'year': int(member.get('birth').split('-')[0]),\\n        'month': int(member.get('birth').split('-')[1]),\\n        'day': int(member.get('birth').split('-')[2])}, members1))\\n\\nmembers2 \\n# member2 에 리스트로 묶고 map함수와 람다함수 매개변수 member는 딕셔너리 name에는 member에서 'name'  없으면 '이름 없음' 호출, year키에서 birth(2002-01-01)인트로 정수형으로 바꾸고 split에서 spc'-' 을 제거 [0]가져오기\\n# 그렇게 데이까지 똑같이 하고 member value \",\n",
       "  \"members2 = list(map(lambda member:{\\n        'name': member.get('name','이름없음'),\\n        'year': int(member.get('birth').split('-')[0]),\\n        'month': int(member.get('birth').split('-')[1]),\\n        'day': int(member.get('birth').split('-')[2])}, members1))\\n\\nmembers2 \\n# member2 에 리스트로 묶고 map함수와 람다함수 매개변수 member는 딕셔너리 name에는 member에서 'name'  없으면 '이름 없음' 호출, year키에서 birth(2002-01-01)인트로 정수형으로 바꾸고 split에서 spc'-' 을 제거 [0]가져오기\\n# 그렇게 데이까지 똑같이 하고 member value \",\n",
       "  \"members2 = list(map(lambda member:{\\n        'name': member.get('name','이름없음'),\\n        'year': int(member.get('birth').split('-')[0]),\\n        'month': int(member.get('birth').split('-')[1]),\\n        'day': int(member.get('birth').split('-')[2])}, members1))\\n\\nmembers2 \\n# member2 에 리스트로 묶고 map함수와 람다함수 매개변수 member는 딕셔너리 name에는 member에서 'name'  없으면 '이름 없음' 호출, year키에서 birth(2002-01-01)인트로 정수형으로 바꾸고 split에서 spc'-' 을 제거 [0]가져오기\\n# 그렇게 데이까지 똑같이 하고 member value \",\n",
       "  \"members2 = list(map(lambda member:{\\n        'name': membe1r.get('name','이름없음'),\\n        'year': int(member1.get('birth').split('-')[0]),\\n        'month': int(member1.get('birth').split('-')[1]),\\n        'day': int(member1.get('birth').split('-')[2])}, members1))\\n\\nmembers2 \\n# member2 에 리스트로 묶고 map함수와 람다함수 매개변수 member는 딕셔너리 name에는 member에서 'name'  없으면 '이름 없음' 호출, year키에서 birth(2002-01-01)인트로 정수형으로 바꾸고 split에서 spc'-' 을 제거 [0]가져오기\\n# 그렇게 데이까지 똑같이 하고 member value \",\n",
       "  \"#예제2\\nmembers1 = [{'name':'홍길동', 'birth':'2000-01-01'},{'name':'신길동', 'birth':'1995-12-18'},]\\nmembers2 = [{'name':'홍길동', 'year':2000, 'month':1,'day':1},{'name':'신길동', 'year':1995, 'month':12, 'day':18},]\",\n",
       "  '# \\'2000-01-01\\' => {\\'year\\':2000, \\'month\\':1\\' \\'day\\':1}\\ndate_str = \\'2000-02-02\\'\\nkeys = [\\'year\\',\\'month\\',\\'day\\']\\n# map(iambda(kv: ))\\nresult = dict(map(lambda kv: (kv[0], int(kv[1])), zip(keys, date_str.split(\"-\"))))\\nprint(result)',\n",
       "  \"def split_date(date):\\n    split_date = date.split('-')\\n    return {\\n        'year' : int(split_date[0]),\\n        'month' : int(split_date[1]),\\n        'day' : int(split_date[2])\\n    }\\nsplit_date('2025-01-01'), split_date('1995-12-12')\",\n",
       "  \"members2 = list(map(lambda member:{\\n        'name': membe1r.get('name','이름없음'),\\n        'year': int(member1.get('birth').split('-')[0]),\\n        'month': int(member1.get('birth').split('-')[1]),\\n        'day': int(member1.get('birth').split('-')[2])}, members1))\\n\\nmembers2 \\n# member2 에 리스트로 묶고 map함수와 람다함수 매개변수 member는 딕셔너리 name에는 member에서 'name'  없으면 '이름 없음' 호출, year키에서 birth(2002-01-01)인트로 정수형으로 바꾸고 split에서 spc'-' 을 제거 [0]가져오기\\n# 그렇게 데이까지 똑같이 하고 member value \",\n",
       "  \"members2 = list(map(lambda member:{\\n        'name': member.get('name','이름없음'),\\n        'year': int(member.get('birth').split('-')[0]),\\n        'month': int(member.get('birth').split('-')[1]),\\n        'day': int(member.get('birth').split('-')[2])}, members1))\\n\\nmembers2 \\n# member2 에 리스트로 묶고 map함수와 람다함수 매개변수 member는 딕셔너리 name에는 member에서 'name'  없으면 '이름 없음' 호출, year키에서 birth(2002-01-01)인트로 정수형으로 바꾸고 split에서 spc'-' 을 제거 [0]가져오기\\n# 그렇게 데이까지 똑같이 하고 member value \",\n",
       "  'def join_date(data):\\n    return \"{year:02}\"-\"{month:02}\"-\"{day:02}\".format(**data)\\njoin_date({\\'year\\':2000,\\'month\\':9,\\'day\\'9})',\n",
       "  'def join_date(data):\\n    return \"{year:02}\"-\"{month:02}\"-\"{day:02}\".format(**data)\\njoin_date({\\'year\\':2000,\\'month\\':9,\\'day\\':9})',\n",
       "  'def join_date(data):\\n    return {\"birth\": \"{year:02}-{month:02}-{day:02}\".format(**data)\\njoin_date({\\'year\\':2000,\\'month\\':9,\\'day\\':9})',\n",
       "  'def join_date(data):\\n    return {\"birth\": \"{year:02}-{month:02}-{day:02}\".format(**data)}\\njoin_date({\\'year\\':2000,\\'month\\':9,\\'day\\':9})',\n",
       "  '# {\\'name\\':\\'hong\\' year\\':2000 \\'month\\':1 \\'day\\':1} => {\\'name\\':\\'hong\\', birth\\':\\'2025-01-01\\'}\\ndef join_date(data):\\n    return {\"name\": \\'hong\\',\"birth\": \"{year:02}-{month:02}-{day:02}\".format(**data)}\\njoin_date({\\'name\\':\\'hong\\', \\'year\\':2000,\\'month\\':9,\\'day\\':9})',\n",
       "  '# {\\'name\\':\\'hong\\' year\\':2000 \\'month\\':1 \\'day\\':1} => {\\'name\\':\\'hong\\', birth\\':\\'2025-01-01\\'}\\n# def join_date(data):\\n#     return {\"name\": \\'hong\\',\"birth\": \"{year:02}-{month:02}-{day:02}\".format(**data)}\\n# join_date({\\'name\\':\\'hong\\', \\'year\\':2000,\\'month\\':9,\\'day\\':9})\\n\\ndef members_preprocessing(member)',\n",
       "  '# {\\'name\\':\\'hong\\' year\\':2000 \\'month\\':1 \\'day\\':1} => {\\'name\\':\\'hong\\', birth\\':\\'2025-01-01\\'}\\n\\n\\ndef join_date(data):\\n    return {\"name\": \\'hong\\',\"birth\": \"{year:02}-{month:02}-{day:02}\".format(**data)}\\njoin_date({\\'name\\':\\'hong\\', \\'year\\':2000,\\'month\\':9,\\'day\\':9})',\n",
       "  'list(map(lambda member:,{\"name\": \\'hong\\',\"birth\": \"{year:02}-{month:02}-{day:02}\".format(**data)},  members2))',\n",
       "  'list(map(lambda member:{\"name\": \\'hong\\',\"birth\": \"{year:02}-{month:02}-{day:02}\".format(**data)},  members2))',\n",
       "  'list(map(lambda member:{\"name\": \\'hong\\',\"birth\": \"{year:02}-{month:02}-{day:02}\".format(**data)},  members2))',\n",
       "  'list(map(lambda member:{\"name\": member.get(\\'name\\'),\\n                        \"birth\": \"{year:02}-{month:02}-{day:02}\".format(**data)},  members2))',\n",
       "  'list(map(lambda member:{\"name\": member.get(\\'name\\'),\\n                        \"birth\": \"{year:02}-{month:02}-{day:02}\".format(**member)},  members2))',\n",
       "  'def filter_template(func,L=[]):\\n    result = []\\n    for item in L:\\n        if func(item):\\n            result.append(item)',\n",
       "  'def filter_template(func,L=[]):\\n    result = []\\n    for item in L:\\n        if func(item):\\n            result.append(item)\\n    return result',\n",
       "  'list_data = [1,2,3,4,5,6,7,8,9]\\ndef odd_chk(value):\\n    return value %2 !=0\\n#     if value%2:\\n#         return True\\n#     else:\\n#         return False\\nfilter_template(lambda value: value%2 !=0,list_data)',\n",
       "  '[value%2 if filter_template in list_data]',\n",
       "  '[value%2 for filter_template in list_data]',\n",
       "  '[for value in list_data if value%2 !=0]',\n",
       "  '[value for value in list_data if value%2 !=0]',\n",
       "  '# 예제: 다음 리스트에서 소수점 이하가 0인 수만 추출하시오.\\nlist(filter_template(lambda value: value%2 !=0,list_data))',\n",
       "  'list(filter_template(lambda value: value%2 !=0,list_data))',\n",
       "  '# 예제: 다음 리스트에서 소수점 이하가 0인 수만 추출하시오.\\nL=[1, 1.2, 1.5, 3.0, 10.5, 100, -2.0, -12.2]\\nlist(filter_template(lambda value: value%1 !=0,L))',\n",
       "  '# 예제: 다음 리스트에서 소수점 이하가 0인 수만 추출하시오.\\nL=[1, 1.2, 1.5, 3.0, 10.5, 100, -2.0, -12.2]\\nlist(filter_template(lambda value: value%1,L))',\n",
       "  '# 예제: 다음 리스트에서 소수점 이하가 0인 수만 추출하시오.\\nL=[1, 1.2, 1.5, 3.0, 10.5, 100, -2.0, -12.2]\\nlist(filter_template(lambda value: value.is_integer(),L))',\n",
       "  '# 예제: 다음 리스트에서 소수점 이하가 0인 수만 추출하시오.\\nL=[1, 1.2, 1.5, 3.0, 10.5, 100, -2.0, -12.2]\\nlist(filter_template(lambda value: value%1==0,L))',\n",
       "  '# 예제: 다음 리스트에서 소수점 이하가 0인 수만 추출하시오.\\nL=[1, 1.2, 1.5, 3.0, 10.5, 100, -2.0, -12.2]\\nlist(filter_template(lambda value: value%1==0,L))\\n[value for filter_template in L if value%1==0]',\n",
       "  '[value for value in list_data if value%2 !=0]',\n",
       "  '# 예제: 다음 리스트에서 소수점 이하가 0인 수만 추출하시오.\\nL=[1, 1.2, 1.5, 3.0, 10.5, 100, -2.0, -12.2]\\nlist(filter_template(lambda value: value%1==0,L))\\n[value for value in L if value % 1== 0]',\n",
       "  '# 예제: 다음 리스트에서 소수점 이하가 0인 수만 추출하시오.\\nL=[1, 1.2, 1.5, 3.0, 10.5, 100, -2.0, -12.2]\\n# list(filter_template(lambda value: value%1==0,L))\\n[value for value in L if value % 1== 0]',\n",
       "  'list(filter_template(lambda value: value%1==0,L))',\n",
       "  'p = [10,3,6,1]\\np.sort(reverse=True)\\np',\n",
       "  \"# 무조건 0번째 item을 기준으로 오름차순 정렬\\npairs = [(2,'two'),(1,'one'),(3,'three'),(4,'four')]\\npairs.sort()\\nparis\",\n",
       "  \"# 무조건 0번째 item을 기준으로 오름차순 정렬\\npairs = [(2,'two'),(1,'one'),(3,'three'),(4,'four')]\\npairs.sort()\\npairs\",\n",
       "  '# 1번째 기준으로 item기준으로 내림차순 정렬\\npairs.sort(key=lambda data:data[1])',\n",
       "  '# 1번째 기준으로 item기준으로 내림차순 정렬\\npairs.sort(key=lambda data:data[1])\\nprirs',\n",
       "  '# 1번째 기준으로 item기준으로 내림차순 정렬\\npairs.sort(key=lambda data:data[1])\\npairs',\n",
       "  '# 1번째 기준으로 item기준으로 내림차순 정렬\\npairs.sort(key=lambda data:data[1] reverse=True)\\npairs',\n",
       "  '# 1번째 기준으로 item기준으로 내림차순 정렬\\npairs.sort(key=lambda data:data[1],reverse=True)\\npairs',\n",
       "  '# 합이 큰 순서로 정렬\\nnumbers_2d =[[9,9],[1,100],[10,200]]\\nprint(number_2d)\\n# numbers_2d.sort(key=lambda )\\n    \\n    \\n    ',\n",
       "  '# 합이 큰 순서로 정렬\\nnumber_2d =[[9,9],[1,100],[10,200]]\\nprint(number_2d)\\n# numbers_2d.sort(key=lambda )\\n    \\n    \\n    ',\n",
       "  '# 합이 큰 순서로 정렬\\nnumber_2d =[[9,9],[1,100],[10,200]]\\nprint(number_2d)\\nnumbers_2d.sort(key=lambda items : sum(items),reverse= True)\\nprint(number_2d)\\n    \\n    \\n    ',\n",
       "  '# 합이 큰 순서로 정렬\\nnumber_2d =[[9,9],[1,100],[10,200]]\\nprint(number_2d)\\nnumber_2d.sort(key=lambda items : sum(items),reverse= True)\\nprint(number_2d)\\n    \\n    \\n    ',\n",
       "  \"# 합이 큰 순서로 정렬\\nnumber_2d =[[9,9],[1,100],[10,200]]\\nprint(number_2d)\\nnumber_2d.sort(key=lambda items : sum(items),reverse= True)\\nprint(number_2d)\\n\\nstudents = [{'name':'홍','score':99},\\n           {'name':'김','score':50},\\n           {'name':'박','score':77},\\n           {'score':100},]\\n    \\n    \",\n",
       "  \"students = [{'name':'홍','score':99},\\n           {'name':'김','score':50},\\n           {'name':'박','score':77},\\n           {'score':100},]\",\n",
       "  \"students = [{'name':'홍','score':99},\\n           {'name':'김','score':50},\\n           {'name':'박','score':77},\\n           {'score':100},]\\nstudents.sort()\",\n",
       "  \"students = [{'name':'홍','score':99},\\n           {'name':'김','score':50},\\n           {'name':'박','score':77},\\n           {'score':100},]\\nstudents.sort(key=lambda data:data[1],reverse=True)\",\n",
       "  \"name_select = lambda data: data.get('name')\\nname_select = ({'name','홍','score':99})\",\n",
       "  \"name_select = lambda data: data.get('name')\\nname_select = ({'name':'홍','score':99})\",\n",
       "  \"name_select = lambda data: data.get('name')\\nname_select = ({'name':'홍','score':99})\",\n",
       "  \"name_select = lambda data: data.get('score')\\nname_select = ({'name':'홍','score':99})\",\n",
       "  \"name_select = lambda data: data.get('name')\\nname_select = ({'name':'홍','score':99})\",\n",
       "  \"name_select = lambda data: data.get('name')\\nname_select ({'name':'홍','score':99})\",\n",
       "  \"#students를 name순으로 정렬(ㄱㄴㄷ순)\\nstudents.sort(key=lambda data : data.get('name'),'힣')\\nstudents\",\n",
       "  \"#students를 name순으로 정렬(ㄱㄴㄷ순)\\nstudents.sort(key=lambda data : data.get('name','힣')\\nstudents\",\n",
       "  \"#students를 name순으로 정렬(ㄱㄴㄷ순)\\nstudents.sort(key=lambda data : data.get('name','힣'))\\nstudents\",\n",
       "  \"#students를 name순으로 정렬(ㄱㄴㄷ순)\\nstudents.sort(key=lambda data : data.get('name','힣'))\\nstudents\",\n",
       "  \"#student를 score 큰 순 정렬\\nstudents.sort(key=lambda data : data.get('score'))\\nstudents\",\n",
       "  \"#student를 score 큰 순 정렬\\nstudents.sort(key=lambda data : data.get('score',0 reverse+True))\\nstudents\",\n",
       "  \"#student를 score 큰 순 정렬\\nstudents.sort(key=lambda data : data.get('score',0, reverse+True))\\nstudents\",\n",
       "  \"#student를 score 큰 순 정렬\\nstudents.sort(key=lambda data : data.get('score',0, )reverse+True)\\nstudents\",\n",
       "  \"#student를 score 큰 순 정렬\\nstudents.sort(key=lambda data : data.get('score',0, ),reverse+True)\\nstudents\",\n",
       "  \"#student를 score 큰 순 정렬\\nstudents.sort(key=lambda data : data.get('score',0, ),reverse=True)\\nstudents\",\n",
       "  \"# 예제 : books 정렬()\\nbooks = \\\\\\n[{'no':1, 'title':'더트릭컬', 'writer':'폴빠','price':'19,800'},\\n{'no':2, 'title':'흔한남매', 'writer':'백난도', 'price':'15,120'},\\n{'no':3, 'title':'단 한 번의 삶', 'writer':'김영하', 'price':'15,120'},\\n{'no':4, 'title':'가격잘못', 'writer':'홍길동', 'price':'ㅁ'},\\n{'no':5, 'title':'가격이숫자', 'writer':'백난도', 'price':30200},\\n{'no':6, 'title':'가격이없음', 'writer':'이길동’},] 정렬\\n4절. 람다식\\n47\",\n",
       "  \"# 예제 : books 정렬()\\nbooks = \\\\\\n[{'no':1, 'title':'더트릭컬', 'writer':'폴빠','price':'19,800'},\\n{'no':2, 'title':'흔한남매', 'writer':'백난도', 'price':'15,120'},\\n{'no':3, 'title':'단 한 번의 삶', 'writer':'김영하', 'price':'15,120'},\\n{'no':4, 'title':'가격잘못', 'writer':'홍길동', 'price':'ㅁ'},\\n{'no':5, 'title':'가격이숫자', 'writer':'백난도', 'price':30200},\\n{'no':6, 'title':'가격이없음', 'writer':'이길동’},] 정렬\",\n",
       "  \"# 예제 : books 정렬()\\nbooks = \\\\\\n[{'no':1, 'title':'더트릭컬', 'writer':'폴빠','price':'19,800'},\\n    {'no':2, 'title':'흔한남매', 'writer':'백난도', 'price':'15,120'},\\n    {'no':3, 'title':'단 한 번의 삶', 'writer':'김영하', 'price':'15,120'},\\n    {'no':4, 'title':'가격잘못', 'writer':'홍길동', 'price':'ㅁ'},\\n    {'no':5, 'title':'가격이숫자', 'writer':'백난도', 'price':30200},\\n    {'no':6, 'title':'가격이없음', 'writer':'이길동'},] \",\n",
       "  \"# 예제 : books 정렬()\\nbooks = \\\\\\n[{'no':1, 'title':'더트릭컬', 'writer':'폴빠','price':'19,800'},\\n    {'no':2, 'title':'흔한남매', 'writer':'백난도', 'price':'15,120'},\\n    {'no':3, 'title':'단 한 번의 삶', 'writer':'김영하', 'price':'15,120'},\\n    {'no':4, 'title':'가격잘못', 'writer':'홍길동', 'price':'ㅁ'},\\n    {'no':5, 'title':'가격이숫자', 'writer':'백난도', 'price':30200},\\n    {'no':6, 'title':'가격이없음', 'writer':'이길동'},] \",\n",
       "  'books',\n",
       "  \"# 예제 : books 정렬(no,title,price)\\nbooks = \\\\\\n[{'no':2, 'title':'더트릭컬', 'writer':'폴빠','price':'19,80'},\\n    {'no':1, 'title':'흔한남매', 'writer':'백난도', 'price':'15,120'},\\n    {'no':3, 'title':'단 한 번의 삶', 'writer':'김영하', 'price':'15,120'},\\n    {'no':4, 'title':'가격잘못', 'writer':'홍길동', 'price':'ㅁ'},\\n    {'no':5, 'title':'가격이숫자', 'writer':'백난도', 'price':30200},\\n    {'no':6, 'title':'가격이없음', 'writer':'이길동'},] \",\n",
       "  \"# no기준\\nbooks.sort(key=lambda data: data.get('no'))\",\n",
       "  \"# no기준\\nbooks.sort(key=lambda data: data.get('no'))\\nbooks\",\n",
       "  \"# title\\nbooks.sort(key=lambda data: data.get('title'))\\nbooks\",\n",
       "  \"# no기준\\nbooks.sort(key=lambda book: book['no'])\\nbooks\",\n",
       "  \"# title\\nbooks.sort(key=lambda book: book['title'])\\nbooks\",\n",
       "  \"# price\\nbooks.sort(key=lambda book: book.get('price',0))\\nif\\nbooks\",\n",
       "  \"# 30200, '12,000', '5000', 'ㅁ', None => 30200, 12000, 5000, 0, 0\\ndef parse_int(price):\\n    print(type(price))\",\n",
       "  \"# 30200, '12,000', '5000', 'ㅁ', None => 30200, 12000, 5000, 0, 0\\ndef parse_int(price):\\n    print(type(price))\\nparse_int(None)\",\n",
       "  \"# 30200, '12,000', '5000', 'ㅁ', None => 30200, 12000, 5000, 0, 0\\ndef parse_int(price):\\n    print(type(price))\\nparse_int('5000')\",\n",
       "  \"# 30200, '12,000', '5000', 'ㅁ', None => 30200, 12000, 5000, 0, 0\\ndef parse_int(price):\\n    if isinstance(price, str) and price.replace(',','').isdigit():\\nparse_int('5000')\",\n",
       "  \"# 30200, '12,000', '5000', 'ㅁ', None => 30200, 12000, 5000, 0, 0\\ndef parse_int(price):\\n    if isinstance(price, str) and price.replace(',','').isdigit():\\n        return int(price.replace(',',''))\\nparse_int('5000')\",\n",
       "  \"# 30200, '12,000', '5000', 'ㅁ', None => 30200, 12000, 5000, 0, 0\\ndef parse_int(price):\\n    if isinstance(price, str) and price.replace(',','').isdigit():\\n        return int(price.replace(',',''))\\n    elif isinstance(price,int):\\n        return price\\n    else:\\n        return 0\\nprint(parse_int('5000'), parse_int(30200),parse_int('ㅁ'),parse_int(None))\",\n",
       "  \"# 30200, '12,000', '5000', 'ㅁ', None => 30200, 12000, 5000, 0, 0\\ndef parse_int(price):\\n    if isinstance(price, str) and price.replace(',','').isdigit():\\n        return int(price.replace(',',''))\\n    elif isinstance(price,int):\\n        return price\\n    else:\\n        return 0\\n\\nparse_int = lambda price :int(price.replace(',','')) if isinstance(price, str) and price.replace(',','').isdigit() else \\\\\\nprice if isinstance(price, int) else 0\\n\\nprint(parse_int('5000'), parse_int(30200),parse_int('ㅁ'),parse_int(None))\",\n",
       "  \"parse_int = lambda book :int(book.get('price').replace(',','')) if isinstance(book, str) and book.get('price')replace(',','').isdigit() else \\\\\\nbook.get('price') if isinstance(book.get('price'), int) else 0\\n\\n\\nprint(parse_int('5000'), parse_int(30200),parse_int('ㅁ'),parse_int(None))\",\n",
       "  \"parse_int = lambda book :int(book.get('price').replace(',','')) if isinstance(book.get('price'), str) and book.get('price')replace(',','').isdigit() else \\\\\\nbook.get('price') if isinstance(book.get('price'), int) else 0\\n\\n\\nprint(parse_int('5000'), parse_int(30200),parse_int('ㅁ'),parse_int(None))\",\n",
       "  \"parse_int = lambda book :int(book.get('price').replace(',','')) if isinstance(book.get('price'), str) and book.get('price').replace(',','').isdigit() else \\\\\\nbook.get('price') if isinstance(book.get('price'), int) else 0\\n\\n\\nprint(parse_int('5000'), parse_int(30200),parse_int('ㅁ'),parse_int(None))\",\n",
       "  \"parse_int = lambda book: (\\n    int(book.get('price').replace(',', ''))\\n    if isinstance(book.get('price'), str) and book.get('price').replace(',', '').isdigit()\\n    else book.get('price') if isinstance(book.get('price'), int)\\n    else 0\\n)\\nprint(parse_int('5000'), parse_int(30200),parse_int('ㅁ'),parse_int(None))\",\n",
       "  \"parse_int = lambda book: (\\n    int(book.get('price').replace(',', ''))\\n    if isinstance(book.get('price'), str) and book.get('price').replace(',', '').isdigit()\\n    else book.get('price') if isinstance(book.get('price'), int)\\n    else 0\\n)\\nprint(\\n    parse_int({'price': '5000'}),\\n    parse_int({'price': 30200}),\\n    parse_int({'price': 'ㅁ'}),\\n    parse_int({'price': None})\\n)\",\n",
       "  \"# 30200, '12,000', '5000', 'ㅁ', None => 30200, 12000, 5000, 0, 0\\ndef parse_int(price):\\n    if str(price).replace(',','').isdigit():\\n        return int(price.replace(',',''))\\n    \\n    else:\\n        return 0\\n\\nparse_int = lambda price :int(price.replace(',','')) if isinstance(price, str) and price.replace(',','').isdigit() else \\\\\\nprice if isinstance(price, int) else 0\\n\\nprint(parse_int('5000'), parse_int(30200),parse_int('ㅁ'),parse_int(None))\",\n",
       "  \"# 30200, '12,000', '5000', 'ㅁ', None => 30200, 12000, 5000, 0, 0\\ndef parse_int(price):\\n    if isinstance(price, str) and price.replace(',','').isdigit():\\n        return int(price.replace(',',''))\\n    elif isinstance(price,int):\\n        return price\\n    else:\\n        return 0\\n\\nparse_int = lambda price :int(price.replace(',','')) if isinstance(price, str) and price.replace(',','').isdigit() else \\\\\\nprice if isinstance(price, int)\\n\\nprint(parse_int('5000'), parse_int(30200),parse_int('ㅁ'),parse_int(None))\",\n",
       "  \"# 30200, '12,000', '5000', 'ㅁ', None => 30200, 12000, 5000, 0, 0\\ndef parse_int(price):\\n    if isinstance(price, str) and price.replace(',','').isdigit():\\n        return int(price.replace(',',''))\\n    elif isinstance(price,int):\\n        return price\\n    else:\\n        return 0\\n    \\ndef parse_int(price):\\n    if str(price).replace(',','').isdigit():\\n        return int(price.replace(',',''))\\n    \\n    else:\\n        return 0\\n    \\nparse_int = lambda price :int(price.replace(',','')) if isinstance(price, str) and price.replace(',','').isdigit() else \\\\\\nprice if isinstance(price, int)\\n\\nprint(parse_int('5000'), parse_int(30200),parse_int('ㅁ'),parse_int(None))\",\n",
       "  \"# 30200, '12,000', '5000', 'ㅁ', None => 30200, 12000, 5000, 0, 0\\ndef parse_int(price):\\n    if isinstance(price, str) and price.replace(',','').isdigit():\\n        return int(price.replace(',',''))\\n    elif isinstance(price,int):\\n        return price\\n    else:\\n        return 0\\n    \\ndef parse_int(price):\\n    if str(price).replace(',','').isdigit():\\n        return int(price.replace(',',''))\\n    \\n    else:\\n        return 0\\n    \\nparse_int = lambda price :int(price.replace(',','')) if isinstance(price, str) and price.replace(',','').isdigit() else \\\\\\nprice if isinstance(price, int)else 0\\n\\nprint(parse_int('5000'), parse_int(30200),parse_int('ㅁ'),parse_int(None))\",\n",
       "  \"copyBooks = books.copy() # 복제\\ncopyBooks.sort(key=lambda book: (\\n    int(book.get('price').replace(',', ''))\\n    if isinstance(book.get('price'), str) and book.get('price').replace(',', '').isdigit()\\n    else book.get('price') if isinstance(book.get('price'), int)\\n    else 0,reversed=True\\n))\",\n",
       "  \"copyBooks = books.copy() # 복제\\ncopyBooks.sort(key=lambda book: (\\n    int(book.get('price').replace(',', ''))\\n    if isinstance(book.get('price'), str) and book.get('price').replace(',', '').isdigit()\\n    else book.get('price') if isinstance(book.get('price'), int)\\n    else 0, reversed=True\\n)\",\n",
       "  \"copyBooks = books.copy() # 복제\\ncopyBooks.sort(key=lambda book: (\\n    int(book.get('price').replace(',', ''))\\n    if isinstance(book.get('price'), str) and book.get('price').replace(',', '').isdigit()\\n    else book.get('price') if isinstance(book.get('price'), int)\\n    else 0, reversed=True\\n))\",\n",
       "  \"copyBooks = books.copy() # 복제\\ncopyBooks.sort(key=lambda book: (\\n    int(book.get('price').replace(',', ''))\\n    if isinstance(book.get('price'), str) and book.get('price').replace(',', '').isdigit()\\n    else book.get('price') if isinstance(book.get('price'), int)\\n    else 0, reverse =True\\n))\",\n",
       "  \"copyBooks = books.copy() # 복제\\ncopyBooks.sort(key=lambda book: \\n    int(book.get('price').replace(',', ''))\\n    if isinstance(book.get('price'), str) and book.get('price').replace(',', '').isdigit()\\n    else book.get('price') if isinstance(book.get('price'), int)\\n    else 0, reverse =True\\n)\",\n",
       "  \"copyBooks = books.copy() # 복제\\ncopyBooks.sort(key=lambda book: \\n    int(book.get('price').replace(',', ''))\\n    if isinstance(book.get('price'), str) and book.get('price').replace(',', '').isdigit()\\n    else book.get('price') if isinstance(book.get('price'), int)\\n    else 0, reverse =True\\n)\\ncopyBooks\",\n",
       "  'globals() #전역변수 리스트 '],\n",
       " 'Out': {19: (-1, 2),\n",
       "  23: (-1, 2),\n",
       "  24: (-1, 2),\n",
       "  25: (-1, 2),\n",
       "  33: [25],\n",
       "  34: [25, 15, 100, 4.0],\n",
       "  35: [10, 6, 16, 4.0],\n",
       "  37: [64, 20],\n",
       "  38: [64, 82],\n",
       "  40: [10, 6, 16, 4.0, 64],\n",
       "  42: [1, 2, 3],\n",
       "  43: [1, 2, 3],\n",
       "  44: [1, 2, 3],\n",
       "  45: [1, 2, 3],\n",
       "  46: [1, 2, 3],\n",
       "  47: [1, 2, 3],\n",
       "  48: [1, 2, 3],\n",
       "  49: [1, 2, 3],\n",
       "  50: [1, 2, 3],\n",
       "  51: [1, 2, 3],\n",
       "  52: [1, 2, 3],\n",
       "  53: [1, 2, 3],\n",
       "  54: [1, 2, 3],\n",
       "  55: [1, 2, 3],\n",
       "  56: [1, 2, 3],\n",
       "  57: [1, 2, 3],\n",
       "  58: [1, 2, 3],\n",
       "  59: [1, 2, 3],\n",
       "  61: [1, 2, 3, 4, 5, 6, 7],\n",
       "  62: [1, 2, 3, 4, 5, 6, 7],\n",
       "  63: [1, 2, 3, 4, 5, 6, 7],\n",
       "  65: [2, 4, 6, 8, 10, 12, 14],\n",
       "  66: [2, 4, 6, 8, 10, 12, 14],\n",
       "  67: [2, 4, 6, 8, 10, 12, 14],\n",
       "  68: [2, 4, 6, 8, 10, 12, 14],\n",
       "  70: [2, 4, 6, 8, 10, 12, 14],\n",
       "  71: [2, 4, 6, 8, 10, 12, 14],\n",
       "  72: <map at 0x1e8c06ca170>,\n",
       "  75: <map at 0x1e8c05875b0>,\n",
       "  76: [2, 4, 6, 8, 10, 12, 14],\n",
       "  81: 5000,\n",
       "  99: ({'year': 2025, 'month': 1, 'day': 1},\n",
       "   {'year': 1995, 'month': 12, 'day': 12}),\n",
       "  107: {'name': '홍길동', 'year': 2002, 'month': 1, 'day': 1},\n",
       "  113: [{'name': '홍길동', 'year': 2000, 'month': 1, 'day': 1},\n",
       "   {'name': '신길동', 'year': 1995, 'month': 12, 'day': 18}],\n",
       "  115: {'name': '홍길동', 'year': 2002, 'month': 1, 'day': 1},\n",
       "  119: {'name': '홍길동', 'year': 2002, 'month': 1, 'day': 1},\n",
       "  120: {'name': '홍길동', 'year': 2002, 'month': 1, 'day': 1},\n",
       "  121: {'name': '홍길동', 'year': 2002, 'month': 1, 'day': 1},\n",
       "  124: [{'name': '홍길동', 'year': 2000, 'month': 1, 'day': 1},\n",
       "   {'name': '신길동', 'year': 1995, 'month': 12, 'day': 18}],\n",
       "  133: [{'name': '홍길동', 'year': 'None-'}, {'name': '신길동', 'year': 'None-'}],\n",
       "  141: [{'name': '홍길동', 'year': '-'}, {'name': '신길동', 'year': '-'}],\n",
       "  153: ({'year': 2025, 'month': 1, 'day': 1},\n",
       "   {'year': 1995, 'month': 12, 'day': 12}),\n",
       "  155: [{'name': '홍길동', 'year': 2000, 'month': 1, 'day': 1},\n",
       "   {'name': '신길동', 'year': 1995, 'month': 12, 'day': 18}],\n",
       "  159: {'birth': '2000-09-09'},\n",
       "  160: {'name': 'hong', 'birth': '2000-09-09'},\n",
       "  162: {'name': 'hong', 'birth': '2000-09-09'},\n",
       "  167: [{'name': '홍길동', 'birth': '2000-01-01'},\n",
       "   {'name': '신길동', 'birth': '1995-12-18'}],\n",
       "  170: [1, 3, 5, 7, 9],\n",
       "  174: [1, 3, 5, 7, 9],\n",
       "  175: [1, 3, 5, 7, 9],\n",
       "  176: [1, 3, 5, 7, 9],\n",
       "  177: [1.2, 1.5, 10.5, -12.2],\n",
       "  178: [1.2, 1.5, 10.5, -12.2],\n",
       "  180: [1, 3.0, 100, -2.0],\n",
       "  182: [1, 3, 5, 7, 9],\n",
       "  183: [1, 3.0, 100, -2.0],\n",
       "  184: [1, 3.0, 100, -2.0],\n",
       "  185: [1, 3.0, 100, -2.0],\n",
       "  186: [10, 6, 3, 1],\n",
       "  188: [(2, 'two'), (3, 'three'), (1, 'one'), (4, 'four')],\n",
       "  191: [(2, 'two'), (3, 'three'), (1, 'one'), (4, 'four')],\n",
       "  193: [(2, 'two'), (3, 'three'), (1, 'one'), (4, 'four')],\n",
       "  207: '홍',\n",
       "  210: [{'score': 100},\n",
       "   {'name': '홍', 'score': 99},\n",
       "   {'name': '박', 'score': 77},\n",
       "   {'name': '김', 'score': 50}],\n",
       "  211: [{'score': 100},\n",
       "   {'name': '홍', 'score': 99},\n",
       "   {'name': '박', 'score': 77},\n",
       "   {'name': '김', 'score': 50}],\n",
       "  212: [{'score': 100},\n",
       "   {'name': '홍', 'score': 99},\n",
       "   {'name': '박', 'score': 77},\n",
       "   {'name': '김', 'score': 50}],\n",
       "  217: [{'score': 100},\n",
       "   {'name': '홍', 'score': 99},\n",
       "   {'name': '박', 'score': 77},\n",
       "   {'name': '김', 'score': 50}],\n",
       "  222: [{'no': 1, 'title': '더트릭컬', 'writer': '폴빠', 'price': '19,800'},\n",
       "   {'no': 2, 'title': '흔한남매', 'writer': '백난도', 'price': '15,120'},\n",
       "   {'no': 3, 'title': '단 한 번의 삶', 'writer': '김영하', 'price': '15,120'},\n",
       "   {'no': 4, 'title': '가격잘못', 'writer': '홍길동', 'price': 'ㅁ'},\n",
       "   {'no': 5, 'title': '가격이숫자', 'writer': '백난도', 'price': 30200},\n",
       "   {'no': 6, 'title': '가격이없음', 'writer': '이길동'}],\n",
       "  225: [{'no': 5, 'title': '가격이숫자', 'writer': '백난도', 'price': 30200},\n",
       "   {'no': 6, 'title': '가격이없음', 'writer': '이길동'},\n",
       "   {'no': 4, 'title': '가격잘못', 'writer': '홍길동', 'price': 'ㅁ'},\n",
       "   {'no': 3, 'title': '단 한 번의 삶', 'writer': '김영하', 'price': '15,120'},\n",
       "   {'no': 2, 'title': '더트릭컬', 'writer': '폴빠', 'price': '19,80'},\n",
       "   {'no': 1, 'title': '흔한남매', 'writer': '백난도', 'price': '15,120'}],\n",
       "  226: [{'no': 5, 'title': '가격이숫자', 'writer': '백난도', 'price': 30200},\n",
       "   {'no': 6, 'title': '가격이없음', 'writer': '이길동'},\n",
       "   {'no': 4, 'title': '가격잘못', 'writer': '홍길동', 'price': 'ㅁ'},\n",
       "   {'no': 3, 'title': '단 한 번의 삶', 'writer': '김영하', 'price': '15,120'},\n",
       "   {'no': 2, 'title': '더트릭컬', 'writer': '폴빠', 'price': '19,80'},\n",
       "   {'no': 1, 'title': '흔한남매', 'writer': '백난도', 'price': '15,120'}],\n",
       "  227: [{'no': 5, 'title': '가격이숫자', 'writer': '백난도', 'price': 30200},\n",
       "   {'no': 6, 'title': '가격이없음', 'writer': '이길동'},\n",
       "   {'no': 4, 'title': '가격잘못', 'writer': '홍길동', 'price': 'ㅁ'},\n",
       "   {'no': 3, 'title': '단 한 번의 삶', 'writer': '김영하', 'price': '15,120'},\n",
       "   {'no': 2, 'title': '더트릭컬', 'writer': '폴빠', 'price': '19,80'},\n",
       "   {'no': 1, 'title': '흔한남매', 'writer': '백난도', 'price': '15,120'}],\n",
       "  228: [{'no': 5, 'title': '가격이숫자', 'writer': '백난도', 'price': 30200},\n",
       "   {'no': 6, 'title': '가격이없음', 'writer': '이길동'},\n",
       "   {'no': 4, 'title': '가격잘못', 'writer': '홍길동', 'price': 'ㅁ'},\n",
       "   {'no': 3, 'title': '단 한 번의 삶', 'writer': '김영하', 'price': '15,120'},\n",
       "   {'no': 2, 'title': '더트릭컬', 'writer': '폴빠', 'price': '19,80'},\n",
       "   {'no': 1, 'title': '흔한남매', 'writer': '백난도', 'price': '15,120'}],\n",
       "  234: 5000,\n",
       "  251: [{'no': 5, 'title': '가격이숫자', 'writer': '백난도', 'price': 30200},\n",
       "   {'no': 3, 'title': '단 한 번의 삶', 'writer': '김영하', 'price': '15,120'},\n",
       "   {'no': 1, 'title': '흔한남매', 'writer': '백난도', 'price': '15,120'},\n",
       "   {'no': 2, 'title': '더트릭컬', 'writer': '폴빠', 'price': '19,80'},\n",
       "   {'no': 6, 'title': '가격이없음', 'writer': '이길동'},\n",
       "   {'no': 4, 'title': '가격잘못', 'writer': '홍길동', 'price': 'ㅁ'}]},\n",
       " 'get_ipython': <bound method InteractiveShell.get_ipython of <ipykernel.zmqshell.ZMQInteractiveShell object at 0x000001E8BE7F3730>>,\n",
       " 'exit': <IPython.core.autocall.ZMQExitAutocall at 0x1e8be7ffee0>,\n",
       " 'quit': <IPython.core.autocall.ZMQExitAutocall at 0x1e8be7ffee0>,\n",
       " 'open': <function io.open(file, mode='r', buffering=-1, encoding=None, errors=None, newline=None, closefd=True, opener=None)>,\n",
       " '_': [{'no': 5, 'title': '가격이숫자', 'writer': '백난도', 'price': 30200},\n",
       "  {'no': 3, 'title': '단 한 번의 삶', 'writer': '김영하', 'price': '15,120'},\n",
       "  {'no': 1, 'title': '흔한남매', 'writer': '백난도', 'price': '15,120'},\n",
       "  {'no': 2, 'title': '더트릭컬', 'writer': '폴빠', 'price': '19,80'},\n",
       "  {'no': 6, 'title': '가격이없음', 'writer': '이길동'},\n",
       "  {'no': 4, 'title': '가격잘못', 'writer': '홍길동', 'price': 'ㅁ'}],\n",
       " '__': 5000,\n",
       " '___': [{'no': 5, 'title': '가격이숫자', 'writer': '백난도', 'price': 30200},\n",
       "  {'no': 6, 'title': '가격이없음', 'writer': '이길동'},\n",
       "  {'no': 4, 'title': '가격잘못', 'writer': '홍길동', 'price': 'ㅁ'},\n",
       "  {'no': 3, 'title': '단 한 번의 삶', 'writer': '김영하', 'price': '15,120'},\n",
       "  {'no': 2, 'title': '더트릭컬', 'writer': '폴빠', 'price': '19,80'},\n",
       "  {'no': 1, 'title': '흔한남매', 'writer': '백난도', 'price': '15,120'}],\n",
       " '_i': \"copyBooks = books.copy() # 복제\\ncopyBooks.sort(key=lambda book: \\n    int(book.get('price').replace(',', ''))\\n    if isinstance(book.get('price'), str) and book.get('price').replace(',', '').isdigit()\\n    else book.get('price') if isinstance(book.get('price'), int)\\n    else 0, reverse =True\\n)\\ncopyBooks\",\n",
       " '_ii': \"copyBooks = books.copy() # 복제\\ncopyBooks.sort(key=lambda book: \\n    int(book.get('price').replace(',', ''))\\n    if isinstance(book.get('price'), str) and book.get('price').replace(',', '').isdigit()\\n    else book.get('price') if isinstance(book.get('price'), int)\\n    else 0, reverse =True\\n)\",\n",
       " '_iii': \"copyBooks = books.copy() # 복제\\ncopyBooks.sort(key=lambda book: (\\n    int(book.get('price').replace(',', ''))\\n    if isinstance(book.get('price'), str) and book.get('price').replace(',', '').isdigit()\\n    else book.get('price') if isinstance(book.get('price'), int)\\n    else 0, reverse =True\\n))\",\n",
       " '_i1': '# ex5. 점수를 입력받아 학점을 return\\nscoreGrade = int(input(\"점수를 입력하시오: \"))\\nscoreGrade = lambda score : \"A학점\" if 90<= score <=100 else \\\\ \\n                            \"B학점\" if 80<=score <90 else \\\\ \\n                            \"C학점\" if 70<=score <80 else \\\\\\n                            \"D학점\" if 60<=score <70 else \\\\\\n                            \"F학점\" if 0<=score <60 else \\\\\\n                            \"유효하지않음\"',\n",
       " '_i2': '# ex5. 점수를 입력받아 학점을 return\\nscoreGrade = int(input(\"점수를 입력하시오: \"))\\nscoreGrade = lambda score : \"A학점\" if 90<= score <=100 else \\\\\\n                            \"B학점\" if 80<=score <90 else \\\\ \\n                            \"C학점\" if 70<=score <80 else \\\\\\n                            \"D학점\" if 60<=score <70 else \\\\\\n                            \"F학점\" if 0<=score <60 else \\\\\\n                            \"유효하지않음\"',\n",
       " '_i3': '# ex5. 점수를 입력받아 학점을 return\\nscoreGrade = int(input(\"점수를 입력하시오: \"))\\nscoreGrade = lambda score : \"A학점\" if 90<= score <=100 else \\\\\\n                            \"B학점\" if 80<=score <90 else \\\\\\n                            \"C학점\" if 70<=score <80 else \\\\\\n                            \"D학점\" if 60<=score <70 else \\\\\\n                            \"F학점\" if 0<=score <60 else \\\\\\n                            \"유효하지않음\"',\n",
       " 'scoreGrade': <function __main__.<lambda>(s)>,\n",
       " '_i4': '# ex5. 점수를 입력받아 학점을 return\\nscore = int(input(\"점수를 입력하시오: \"))\\nscoreGrade = lambda s : \"A학점\" if 90<= score <=100 else \\\\\\n                            \"B학점\" if 80<=score <90 else \\\\\\n                            \"C학점\" if 70<=score <80 else \\\\\\n                            \"D학점\" if 60<=score <70 else \\\\\\n                            \"F학점\" if 0<=score <60 else \\\\\\n                            \"유효하지않음\"',\n",
       " 'score': 100,\n",
       " '_i5': '# ex5. 점수를 입력받아 학점을 return\\nscoreGrade = int(input(\"점수를 입력하시오: \"))\\nscoreGrade = lambda score : \"A학점\" if 90<= score <=100 else \\\\\\n                            \"B학점\" if 80<=score <90 else \\\\\\n                            \"C학점\" if 70<=score <80 else \\\\\\n                            \"D학점\" if 60<=score <70 else \\\\\\n                            \"F학점\" if 0<=score <60 else \\\\\\n                            \"유효하지않음\"\\nprint(scoreGrade)',\n",
       " '_i6': '# ex5. 점수를 입력받아 학점을 return\\nscoreGrade = int(input(\"점수를 입력하시오: \"))\\nscoreGrade = lambda score : \"A학점\" if 90<= score <=100 else \\\\\\n                            \"B학점\" if 80<=score <90 else \\\\\\n                            \"C학점\" if 70<=score <80 else \\\\\\n                            \"D학점\" if 60<=score <70 else \\\\\\n                            \"F학점\" if 0<=score <60 else \\\\\\n                            \"유효하지않음\"\\nprint(scoreGrade(score))',\n",
       " '_i7': '# ex5. 점수를 입력받아 학점을 return\\nscoreGrade = int(input(\"점수를 입력하시오: \"))\\nscoreGrade = lambda score : \"A학점\" if 90<= score <=100 else \\\\\\n                            \"B학점\" if 80<=score <90 else \\\\\\n                            \"C학점\" if 70<=score <80 else \\\\\\n                            \"D학점\" if 60<=score <70 else \\\\\\n                            \"F학점\" if 0<=score <60 else \\\\\\n                            \"유효하지않음\"\\nprint(scoreGrade(score))',\n",
       " '_i8': '# ex5. 점수를 입력받아 학점을 return\\nscoreGrade = int(input(\"점수를 입력하시오: \"))\\nscoreGrade = lambda score : \"A학점\" if 90<= score <=100 else \\\\\\n                            \"B학점\" if 80<=score <90 else \\\\\\n                            \"C학점\" if 70<=score <80 else \\\\\\n                            \"D학점\" if 60<=score <70 else \\\\\\n                            \"F학점\" if 0<=score <60 else \\\\\\n                            \"유효하지않음\"\\nprint(scoreGrade(score))',\n",
       " '_i9': '# ex5. 점수를 입력받아 학점을 return\\nscoreGrade = int(input(\"점수를 입력하시오: \"))\\nscoreGrade = lambda score : \"A학점\" if 90<= score <=100 else \\\\\\n                            \"B학점\" if 80<=score <90 else \\\\\\n                            \"C학점\" if 70<=score <80 else \\\\\\n                            \"D학점\" if 60<=score <70 else \\\\\\n                            \"F학점\" if 0<=score <60 else \\\\\\n                            \"유효하지않음\"\\nprint(scoreGrade(score))',\n",
       " '_i10': '# ex5. 점수를 입력받아 학점을 return\\nscoreGrade = int(input(\"점수를 입력하시오: \"))\\nscoreGrade = lambda s : \"A학점\" if 90<= score <=100 else \\\\\\n                            \"B학점\" if 80<=score <90 else \\\\\\n                            \"C학점\" if 70<=score <80 else \\\\\\n                            \"D학점\" if 60<=score <70 else \\\\\\n                            \"F학점\" if 0<=score <60 else \\\\\\n                            \"유효하지않음\"\\nprint(scoreGrade(score))',\n",
       " '_i11': '# ex5. 점수를 입력받아 학점을 return\\nscore = int(input(\"점수를 입력하시오: \"))\\nscoreGrade = lambda s : \"A학점\" if 90<= score <=100 else \\\\\\n                            \"B학점\" if 80<=score <90 else \\\\\\n                            \"C학점\" if 70<=score <80 else \\\\\\n                            \"D학점\" if 60<=score <70 else \\\\\\n                            \"F학점\" if 0<=score <60 else \\\\\\n                            \"유효하지않음\"\\nprint(scoreGrade(score))',\n",
       " '_i12': '# ex5. 점수를 입력받아 학점을 return\\nscore = int(input(\"점수를 입력하시오: \"))\\nscoreGrade = lambda s : \"A학점\" if 90<= score <=100 else \\\\\\n                            \"B학점\" if 80<=score <90 else \\\\\\n                            \"C학점\" if 70<=score <80 else \\\\\\n                            \"D학점\" if 60<=score <70 else \\\\\\n                            \"F학점\" if 0<=score <60 else \\\\\\n                            \"유효하지않음\"\\nprint(scoreGrade(score))',\n",
       " '_i13': '# ex5. 점수를 입력받아 학점을 return\\nscore = int(input(\"점수를 입력하시오: \"))\\nscoreGrade = lambda s : \"A학점\" if 90<= score <=100 else \\\\\\n                            \"B학점\" if 80<=score <90 else \\\\\\n                            \"C학점\" if 70<=score <80 else \\\\\\n                            \"D학점\" if 60<=score <70 else \\\\\\n                            \"F학점\" if 0<=score <60 else \\\\\\n                            \"유효하지않음\"\\nprint(scoreGrade(score))',\n",
       " '_i14': '# ex6. safe_index함수를 람다식으로\\n\\ndef safe_index(lst,item,start=0):\\n    return lst.index(item, start) if item in lst[start:] else -1\\n\\nex5 = lambda lst, ltem, start =0 :lst.index(item, start)/\\n                if item in lst[start:] else \\\\ -1\\n\\nlsr = [1,2,3]\\nsafe_index(lst,4), ex5(lst,3,1)',\n",
       " '_i15': '# ex6. safe_index함수를 람다식으로\\n\\ndef safe_index(lst,item,start=0):\\n    return lst.index(item, start) if item in lst[start:] else -1\\n\\nex5 = lambda lst, ltem, start =0 :lst.index(item, start)/\\n                if item in lst[start:] else \\\\-1\\n\\nlsr = [1,2,3]\\nsafe_index(lst,4), ex5(lst,3,1)',\n",
       " '_i16': '# ex6. safe_index함수를 람다식으로\\n\\ndef safe_index(lst,item,start=0):\\n    return lst.index(item, start) if item in lst[start:] else -1\\n\\nex5 = lambda lst, ltem, start =0 :lst.index(item, start)\\n                if item in lst[start:] else \\\\-1\\n\\nlsr = [1,2,3]\\nsafe_index(lst,4), ex5(lst,3,1)',\n",
       " '_i17': '# ex6. safe_index함수를 람다식으로\\n\\ndef safe_index(lst,item,start=0):\\n    return lst.index(item, start) if item in lst[start:] else -1\\n\\nex5 = lambda lst, ltem, start =0 :lst.index(item, start)\\n                if item in lst[start:] else \\\\-1\\n\\nlst = [1,2,3]\\nsafe_index(lst,4), ex5(lst,3,1)',\n",
       " '_i18': '# ex6. safe_index함수를 람다식으로\\n\\ndef safe_index(lst,item,start=0):\\n    return lst.index(item, start) if item in lst[start:] else -1\\n\\nex5 = lambda lst, item, start =0 :lst.index(item, start)\\n                if item in lst[start:] else \\\\-1\\n\\nlst = [1,2,3]\\nsafe_index(lst,4), ex5(lst,3,1)',\n",
       " '_i19': '# ex6. safe_index함수를 람다식으로\\n\\ndef safe_index(lst,item,start=0):\\n    return lst.index(item, start) if item in lst[start:] else -1\\n\\n# ex5 = lambda lst, item, start =0 :lst.index(item, start)\\n#                 if item in lst[start:] else \\\\-1\\nex5 = lambda lst, item, start=0: lst.index(item, start) \\\\\\n       if item in lst[start:] else -1\\n\\n\\nlst = [1,2,3]\\nsafe_index(lst,4), ex5(lst,3,1)',\n",
       " 'safe_index': <function __main__.safe_index(lst, item, start=0)>,\n",
       " 'ex5': <function __main__.<lambda>(lst, item, start=0)>,\n",
       " 'lst': [3, 2, 3],\n",
       " '_19': (-1, 2),\n",
       " '_i20': '# ex6. safe_index함수를 람다식으로\\n\\ndef safe_index(lst,item,start=0):\\n    return lst.index(item, start) if item in lst[start:] else -1\\n\\nex5 = lambda lst, item, start =0 :lst.index(item, start) \\\\if item in lst[start:] else -1\\n# ex5 = lambda lst, item, start=0: lst.index(item, start) \\\\if item in lst[start:] else -1\\n\\n\\nlst = [1,2,3]\\nsafe_index(lst,4), ex5(lst,3,1)',\n",
       " '_i21': '# ex6. safe_index함수를 람다식으로\\n\\ndef safe_index(lst,item,start=0):\\n    return lst.index(item, start) if item in lst[start:] else -1\\n\\nex5 = lambda lst, item, start =0 : lst.index(item, start) \\\\if item in lst[start:] else \\\\-1\\n# ex5 = lambda lst, item, start=0: lst.index(item, start) \\\\if item in lst[start:] else -1\\n\\n\\nlst = [1,2,3]\\nsafe_index(lst,4), ex5(lst,3,1)',\n",
       " '_i22': '# ex6. safe_index함수를 람다식으로\\n\\ndef safe_index(lst,item,start=0):\\n    return lst.index(item, start) if item in lst[start:] else -1\\n\\n# ex5 = lambda lst, item, start =0 :lst.index(item, start)\\\\if item in lst[start:] else \\\\-1\\nex5 = lambda lst, item, start=0: lst.index(item, start) \\\\if item in lst[start:] else -1\\n\\n\\nlst = [1,2,3]\\nsafe_index(lst,4), ex5(lst,3,1)',\n",
       " '_i23': '# ex6. safe_index함수를 람다식으로\\n\\ndef safe_index(lst,item,start=0):\\n    return lst.index(item, start) if item in lst[start:] else -1\\n\\n# ex5 = lambda lst, item, start =0 :lst.index(item, start)\\n#     if item in lst[start:] else \\\\-1\\nex5 = lambda lst, item, start=0: lst.index(item, start) \\\\\\n       if item in lst[start:] else -1\\n\\n\\nlst = [1,2,3]\\nsafe_index(lst,4), ex5(lst,3,1)',\n",
       " '_23': (-1, 2),\n",
       " '_i24': '# ex6. safe_index함수를 람다식으로\\n\\ndef safe_index(lst,item,start=0):\\n    return lst.index(item, start) if item in lst[start:] else -1\\n\\nex5 = lambda lst, item, start =0 :lst.index(item, start)\\\\\\n       if item in lst[start:] else -1\\n# ex5 = lambda lst, item, start=0: lst.index(item, start) \\\\\\n#        if item in lst[start:] else -1\\n\\n\\nlst = [1,2,3]\\nsafe_index(lst,4), ex5(lst,3,1)',\n",
       " '_24': (-1, 2),\n",
       " '_i25': '# ex6. safe_index함수를 람다식으로\\n\\ndef safe_index(lst,item,start=0):\\n    return lst.index(item, start) if item in lst[start:] else -1\\n\\nex5 = lambda lst, item, start =0 :lst.index(item, start)\\\\\\n       if item in lst[start:] else -1\\n\\ni =3\\nlst = [i,2,3]\\nsafe_index(lst,4), ex5(lst,3,1)',\n",
       " 'i': 3,\n",
       " '_25': (-1, 2),\n",
       " '_i26': '# 람다식을 list에 들어갈 수 있음\\nadd, sub = 1, 2\\noperation = [add, sub]',\n",
       " 'add': <function __main__.<lambda>(a, b)>,\n",
       " 'sub': <function __main__.<lambda>(a, b)>,\n",
       " 'operation': [<function __main__.<lambda>(a, b)>,\n",
       "  <function __main__.<lambda>(a, b)>,\n",
       "  <function __main__.<lambda>(a, b)>,\n",
       "  <function __main__.<lambda>(a, b)>],\n",
       " '_i27': \"# 람다식을 list에 들어갈 수 있음\\nadd = lambda a, b : a + b\\nsub = lambda a, b : a - b\\nmul = lambda a, b : a * b\\ndiv = lambda a, b : a / b if  b else '두 번째 인자가 0이면 못 나눠요'\\noperation = [add, sub] # 사칙연산 함수\",\n",
       " 'mul': <function __main__.<lambda>(a, b)>,\n",
       " 'div': <function __main__.<lambda>(a, b)>,\n",
       " '_i28': \"# 람다식을 list에 들어갈 수 있음\\nadd = lambda a, b : a + b\\nsub = lambda a, b : a - b\\nmul = lambda a, b : a * b\\ndiv = lambda a, b : a / b if  b else '두 번째 인자가 0이면 못 나눠요'\\noperation = [add, sub, mul, div] # 사칙연산 함수들\\noperation([1,2])\",\n",
       " '_i29': \"# 람다식을 list에 들어갈 수 있음\\nadd = lambda a, b : a + b\\nsub = lambda a, b : a - b\\nmul = lambda a, b : a * b\\ndiv = lambda a, b : a / b if  b else '두 번째 인자가 0이면 못 나눠요'\\noperations = [add, sub, mul, div] # 사칙연산 함수들\\ndef act_operation (a, b, operation= operations): # a,b의 연산결과 return\\n    result = []\\n    \\n    for op in operation:\\n        result.append(op(a,b))\\n        return result\\n            \\nprint(result)\\n    \",\n",
       " 'operations': [<function __main__.<lambda>(a, b)>,\n",
       "  <function __main__.<lambda>(a, b)>,\n",
       "  <function __main__.<lambda>(a, b)>,\n",
       "  <function __main__.<lambda>(a, b)>,\n",
       "  <function __main__.<lambda>(x, y)>],\n",
       " 'act_operation': <function __main__.act_operation(a, b, operation=[<function <lambda> at 0x000001E8C0EC3EB0>, <function <lambda> at 0x000001E8C0EC3880>, <function <lambda> at 0x000001E8C0EC3F40>, <function <lambda> at 0x000001E8C0EC3AC0>])>,\n",
       " '_i30': \"# 람다식을 list에 들어갈 수 있음\\nadd = lambda a, b : a + b\\nsub = lambda a, b : a - b\\nmul = lambda a, b : a * b\\ndiv = lambda a, b : a / b if  b else '두 번째 인자가 0이면 못 나눠요'\\noperations = [add, sub, mul, div] # 사칙연산 함수들\\ndef act_operation (a, b, operation= operations): # a,b의 연산결과 return\\n    result = []\\n    \\n    for op in operation:\\n        result.append(op(a ,b))\\n        return result\\n            \\nprint(result(3,4))\\n    \",\n",
       " '_i31': \"# 람다식을 list에 들어갈 수 있음\\nadd = lambda a, b : a + b\\nsub = lambda a, b : a - b\\nmul = lambda a, b : a * b\\ndiv = lambda a, b : a / b if  b else '두 번째 인자가 0이면 못 나눠요'\\noperations = [add, sub, mul, div] # 사칙연산 함수들\\ndef act_operation (a, b, operation= operations): # a,b의 연산결과 return\\n    result = []\\n    \\n    for op in operation:\\n        result.append(op(a ,b))\\n        return result\\n            \\nresult(3,4)\\n    \",\n",
       " '_i32': \"# 람다식을 list에 들어갈 수 있음\\nadd = lambda a, b : a + b\\nsub = lambda a, b : a - b\\nmul = lambda a, b : a * b\\ndiv = lambda a, b : a / b if  b else '두 번째 인자가 0이면 못 나눠요'\\noperations = [add, sub, mul, div] # 사칙연산 함수들\\ndef act_operation (a, b, operation= operations): # a,b의 연산결과 return\\n    result = []\\n    \\n    for op in operation:\\n        result.append(op(a ,b))\\n        return result\\n            \\nop(3,4)\\n    \",\n",
       " '_i33': \"# 람다식을 list에 들어갈 수 있음\\nadd = lambda a, b : a + b\\nsub = lambda a, b : a - b\\nmul = lambda a, b : a * b\\ndiv = lambda a, b : a / b if  b else '두 번째 인자가 0이면 못 나눠요'\\noperations = [add, sub, mul, div] # 사칙연산 함수들\\ndef act_operations (a, b, operation= operations): # a,b의 연산결과 return\\n    result = []\\n    \\n    for op in operation:\\n        result.append(op(a ,b))\\n    return result\\n            \\nact_operation (20,5)\",\n",
       " 'act_operations': <function __main__.act_operations(a, b, operation=[<function <lambda> at 0x000001E8C0EC1E10>, <function <lambda> at 0x000001E8C0FC0940>, <function <lambda> at 0x000001E8C0FC12D0>, <function <lambda> at 0x000001E8C0FC13F0>, <function <lambda> at 0x000001E8C0FC1000>])>,\n",
       " '_33': [25],\n",
       " '_i34': \"# 람다식을 list에 들어갈 수 있음\\nadd = lambda a, b : a + b\\nsub = lambda a, b : a - b\\nmul = lambda a, b : a * b\\ndiv = lambda a, b : a / b if  b else '두 번째 인자가 0이면 못 나눠요'\\noperations = [add, sub, mul, div] # 사칙연산 함수들\\ndef act_operations (a, b, operation= operations): # a,b의 연산결과 return\\n    result = []\\n    \\n    for op in operation:\\n        result.append(op(a ,b))\\n    return result\\n            \\nact_operations (20,5)\",\n",
       " '_34': [25, 15, 100, 4.0],\n",
       " '_i35': 'act_operations(8,2)',\n",
       " '_35': [10, 6, 16, 4.0],\n",
       " '_i36': 'act_operations(8,2,[lambda x, y: x**y, lambda x,y 10*+y])',\n",
       " '_i37': 'act_operations(8,2,[lambda x, y: x**y, lambda x,y :10*+y])',\n",
       " '_37': [64, 20],\n",
       " '_i38': 'act_operations(8,2,[lambda x, y: x**y, lambda x,y :10*x+y])',\n",
       " '_38': [64, 82],\n",
       " '_i39': 'operations.append(lambda x, y : x ** y)',\n",
       " '_i40': 'act_operations(8,2)',\n",
       " '_40': [10, 6, 16, 4.0, 64],\n",
       " '_i41': 'def map_template(func, L=[]):\\n    result= []\\n    for item in L:\\n        result.append(item)\\n    return result',\n",
       " 'map_template': <function __main__.map_template(func, L=[])>,\n",
       " '_i42': 'map_template(lambda a:a,[1,2,3])',\n",
       " '_42': [1, 2, 3],\n",
       " '_i43': 'map_template(lambda a:a*2,[1,2,3])',\n",
       " '_43': [1, 2, 3],\n",
       " '_i44': 'map_template(lambda a:a*2,[1,2,3])',\n",
       " '_44': [1, 2, 3],\n",
       " '_i45': 'map_template(lambda a:a*2,[1,2,3])',\n",
       " '_45': [1, 2, 3],\n",
       " '_i46': 'map_template(lambda a:a*2,[1,2,3])',\n",
       " '_46': [1, 2, 3],\n",
       " '_i47': 'map_template(lambda a:a*2,[1,2,3])',\n",
       " '_47': [1, 2, 3],\n",
       " '_i48': 'map_template(lambda a:a*2,[1,2,3])',\n",
       " '_48': [1, 2, 3],\n",
       " '_i49': 'map_template(lambda a:a*2,[1,2,3])',\n",
       " '_49': [1, 2, 3],\n",
       " '_i50': 'map_template(lambda a:a*2,[1,2,3])',\n",
       " '_50': [1, 2, 3],\n",
       " '_i51': 'map_template(lambda a:a*2,[1,2,3])',\n",
       " '_51': [1, 2, 3],\n",
       " '_i52': 'map_template(lambda a:a*2,[1,2,3])',\n",
       " '_52': [1, 2, 3],\n",
       " '_i53': 'map_template(lambda a:a*2,[1,2,3])',\n",
       " '_53': [1, 2, 3],\n",
       " '_i54': 'map_template(lambda a:a*2,[1,2,3])',\n",
       " '_54': [1, 2, 3],\n",
       " '_i55': 'map_template(lambda a:a*2,[1,2,3])',\n",
       " '_55': [1, 2, 3],\n",
       " '_i56': 'map_template(lambda a:a*2,[1,2,3])',\n",
       " '_56': [1, 2, 3],\n",
       " '_i57': 'map_template(lambda a:a*2,[1,2,3])',\n",
       " '_57': [1, 2, 3],\n",
       " '_i58': 'map_template(lambda a:a*2,[1,2,3])',\n",
       " '_58': [1, 2, 3],\n",
       " '_i59': 'map_template(lambda a:a*2,[1,2,3])',\n",
       " '_59': [1, 2, 3],\n",
       " '_i60': 'list_data[1,2,3,4,5,6,7]\\nmap_template(lambda a:a*2,list_data)',\n",
       " '_i61': 'list_data =[1,2,3,4,5,6,7]\\nmap_template(lambda a:a*2,list_data)',\n",
       " 'list_data': [1, 2, 3, 4, 5, 6, 7, 8, 9],\n",
       " '_61': [1, 2, 3, 4, 5, 6, 7],\n",
       " '_i62': 'list_data =[1,2,3,4,5,6,7]\\nmap_template(lambda a:a*2,list_data)',\n",
       " '_62': [1, 2, 3, 4, 5, 6, 7],\n",
       " '_i63': 'list_data =[1,2,3,4,5,6,7]\\nmap_template(lambda a:a*2,list_data)',\n",
       " '_63': [1, 2, 3, 4, 5, 6, 7],\n",
       " '_i64': 'def map_template(func, L=[]):\\n    result= []\\n    for item in L:\\n        result.append(func(item))\\n    return result',\n",
       " '_i65': 'list_data =[1,2,3,4,5,6,7]\\nmap_template(lambda a: a*2 ,list_data)',\n",
       " '_65': [2, 4, 6, 8, 10, 12, 14],\n",
       " '_i66': 'list_data =[1,2,3,4,5,6,7]\\nmap_template(lambda a: a*2 ,list_data)',\n",
       " '_66': [2, 4, 6, 8, 10, 12, 14],\n",
       " '_i67': 'list_data =[1,2,3,4,5,6,7]\\nmap_template(lambda a: a*2 ,list_data)',\n",
       " '_67': [2, 4, 6, 8, 10, 12, 14],\n",
       " '_i68': 'list_data =[1,2,3,4,5,6,7]\\nmap_template(lambda a: a*2 ,list_data)',\n",
       " '_68': [2, 4, 6, 8, 10, 12, 14],\n",
       " '_i69': 'def map_template(func, L=[]):\\n    result= []\\n    for item in L:\\n        result.append(func(item))\\n    return result',\n",
       " '_i70': 'list_data =[1,2,3,4,5,6,7]\\nmap_template(lambda a: a*2 ,list_data)',\n",
       " '_70': [2, 4, 6, 8, 10, 12, 14],\n",
       " '_i71': '# 리스트 컴프리헨션\\n[item * 2 for item in list_data]',\n",
       " '_71': [2, 4, 6, 8, 10, 12, 14],\n",
       " '_i72': 'map(lambda x: x * 2 ,list_data)',\n",
       " '_72': <map at 0x1e8c06ca170>,\n",
       " '_i73': 'map(lambda x: x * 2 ,list_data)\\nprint(map)',\n",
       " '_i74': 'map(lambda x: x * 2 ,list_data)\\nprint(x)',\n",
       " '_i75': 'map(lambda x: x * 2 ,list_data)',\n",
       " '_75': <map at 0x1e8c05875b0>,\n",
       " '_i76': 'list(map(lambda x: x * 2 ,list_data))',\n",
       " '_76': [2, 4, 6, 8, 10, 12, 14],\n",
       " '_i77': 'for data in map(lambda x:x*2,list_data):\\n    print(data, end=\" \")',\n",
       " 'data': 14,\n",
       " '_i78': \"# 예제prices = ['5,000', '5000', '6,000', '1000','5,000', '5000', '6,000', '1000’]를 [5000,5000,6000,1000]식으로 바꾸시오\\nprices = ['5,000', '5000', '6,000', '1000','5,000', '5000', '6,000', '1000’]\\n# prices_int = [5000,5000,6000,1000]\\n          \",\n",
       " '_i79': \"# 예제prices = ['5,000', '5000', '6,000', '1000','5,000', '5000', '6,000', '1000’]를 [5000,5000,6000,1000]식으로 바꾸시오\\nprices = ['5,000', '5000', '6,000', '1000','5,000', '5000', '6,000','1000’]\\n# prices_int = [5000,5000,6000,1000]\\n          \",\n",
       " '_i80': \"# 예제prices = ['5,000', '5000', '6,000', '1000','5,000', '5000', '6,000', '1000’]를 [5000,5000,6000,1000]식으로 바꾸시오\\nprices = ['5,000', '5000', '6,000', '1000','5,000', '5000', '6,000','1000’]\\n# prices_int = [5000,5000,6000,1000]\\ndef toint(value):\\n    return int(value.replace(',',''))\\ntoint('5000')\",\n",
       " '_i81': \"# 예제prices = ['5,000', '5000', '6,000', '1000','5,000', '5000', '6,000', '1000’]를 [5000,5000,6000,1000]식으로 바꾸시오\\n# prices = ['5,000', '5000', '6,000', '1000','5,000', '5000', '6,000','1000’]\\n# prices_int = [5000,5000,6000,1000]\\ndef toint(value):\\n    return int(value.replace(',',''))\\ntoint('5000')\",\n",
       " 'toint': <function __main__.toint(value)>,\n",
       " '_81': 5000,\n",
       " '_i82': \"# 예제prices = ['5,000', '5000', '6,000', '1000','5,000', '5000', '6,000', '1000’]를 [5000,5000,6000,1000]식으로 바꾸시오\\n# prices = ['5,000', '5000', '6,000', '1000','5,000', '5000', '6,000','1000’]\\n# prices_int = [5000,5000,6000,1000]\\ndef toint(value):\\n    return int(value.replace(',',''))\\nmap(lambda value: int((value.replace(',','')),prices)\\n\\nfor price in prices_int:\\n    print(price,end=' ')\",\n",
       " '_i83': \"# 예제prices = ['5,000', '5000', '6,000', '1000','5,000', '5000', '6,000', '1000’]를 [5000,5000,6000,1000]식으로 바꾸시오\\n# prices = ['5,000', '5000', '6,000', '1000','5,000', '5000', '6,000','1000’]\\n# prices_int = [5000,5000,6000,1000]\\ndef toint(value):\\n    return int(value.replace(',',''))\\nmap(lambda value: int(value.replace(',','')),prices)\\n\\nfor price in prices_int:\\n    print(price,end=' ')\",\n",
       " '_i84': \"# 예제prices = ['5,000', '5000', '6,000', '1000','5,000', '5000', '6,000', '1000’]를 [5000,5000,6000,1000]식으로 바꾸시오\\nprices = ['5,000', '5000', '6,000', '1000','5,000', '5000', '6,000','1000']\\n# prices_int = [5000,5000,6000,1000]\\ndef toint(value):\\n    return int(value.replace(',',''))\\nmap(lambda value: int(value.replace(',','')),prices)\\n\\nfor price in prices_int:\\n    print(price,end=' ')\",\n",
       " 'prices': ['5,000',\n",
       "  '5000',\n",
       "  '6,000',\n",
       "  '1000',\n",
       "  '5,000',\n",
       "  '5000',\n",
       "  '6,000',\n",
       "  '1000'],\n",
       " '_i85': \"# 예제prices = ['5,000', '5000', '6,000', '1000','5,000', '5000', '6,000', '1000’]를 [5000,5000,6000,1000]식으로 바꾸시오\\nprices = ['5,000', '5000', '6,000', '1000','5,000', '5000', '6,000','1000']\\n\\ndef toint(value):\\n    return int(value.replace(',',''))\\nmap(lambda value: int(value.replace(',','')),prices)\\n\\nfor price in prices_int:\\n    print(price,end=' ')\",\n",
       " '_i86': \"# 예제prices = ['5,000', '5000', '6,000', '1000','5,000', '5000', '6,000', '1000’]를 [5000,5000,6000,1000]식으로 바꾸시오\\nprices = ['5,000', '5000', '6,000', '1000','5,000', '5000', '6,000','1000']\\n\\ndef toint(value):\\n    return int(value.replace(',',''))\\nprices_int =map(lambda value: int(value.replace(',','')),prices)\\n\\nfor price in prices_int:\\n    print(price,end=' ')\",\n",
       " 'prices_int': <map at 0x1e8be7ff100>,\n",
       " 'price': 1000,\n",
       " '_i87': \"members1 = [{'name':'홍길동', 'birth':'2000-01-01'},{'name':'신길동', 'birth':'1995-12-18'},]\\nmembers2 = [{'name':'홍길동', 'year':2000, 'month':1,'day':1},{'name':'신길동', 'year':1995, 'month':12, 'day':18},]\",\n",
       " 'members1': [{'name': '홍길동', 'birth': '2000-01-01'},\n",
       "  {'name': '신길동', 'birth': '1995-12-18'}],\n",
       " 'members2': [{'name': '홍길동', 'year': 2000, 'month': 1, 'day': 1},\n",
       "  {'name': '신길동', 'year': 1995, 'month': 12, 'day': 18}],\n",
       " '_i88': \"#예제2\\nmembers1 = [{'name':'홍길동', 'birth':'2000-01-01'},{'name':'신길동', 'birth':'1995-12-18'},]\\nmembers2 = [{'name':'홍길동', 'year':2000, 'month':1,'day':1},{'name':'신길동', 'year':1995, 'month':12, 'day':18},]\",\n",
       " '_i89': 'from IPython.display import display, HTML\\ndisplay(HTML(\"\"\"\\n<style>\\ndiv.container{width:90% !important;}\\ndiv.cell.code_cell.rendered{width:100%;}\\ndiv.input_prompt{padding:0px;}\\ndiv.CodeMirror {font-family:Consolas; font-size:12pt;}\\ndiv.text_cell_render.rendered_html{font-size:12pt;}\\ndiv.output {font-size:12pt; font-weight:bold;}\\ndiv.input {font-family:Consolas; font-size:12pt;}\\ndiv.prompt {min-width:70px;}\\ndiv#toc-wrapper{padding-top:120px;}\\ndiv.text_cell_render ul li{font-size:12pt;padding:5px;}\\ntable.dataframe{font-size:12px;}\\n</style>\\n\"\"\"))',\n",
       " 'display': <function IPython.core.display_functions.display(*objs, include=None, exclude=None, metadata=None, transient=None, display_id=None, raw=False, clear=False, **kwargs)>,\n",
       " 'HTML': IPython.core.display.HTML,\n",
       " '_i90': \"# '2000-01-01' => {'year':2000, 'month':1' 'day':1}\\nmap(lambda(key:'year','month','day'))\",\n",
       " '_i91': \"# '2000-01-01' => {'year':2000, 'month':1' 'day':1}\\ndate_str = '2000-01-01'\",\n",
       " 'date_str': '2000-02-02',\n",
       " '_i92': '# \\'2000-01-01\\' => {\\'year\\':2000, \\'month\\':1\\' \\'day\\':1}\\ndate_str = \\'2000-01-01\\'\\nkeys = [\\'year\\',\\'month\\',\\'day\\']\\n# map(iambda(kv: ))\\nresult = dict(map(lambda kv: (kv[0], int(kv[1])), zip(keys, date_str.split(\"-\"))))\\nprint(result)',\n",
       " 'keys': ['year', 'month', 'day'],\n",
       " 'result': {'year': 2000, 'month': 2, 'day': 2},\n",
       " '_i93': '# \\'2000-01-01\\' => {\\'year\\':2000, \\'month\\':1\\' \\'day\\':1}\\ndate_str = \\'2000-02-02\\'\\nkeys = [\\'year\\',\\'month\\',\\'day\\']\\n# map(iambda(kv: ))\\nresult = dict(map(lambda kv: (kv[0], int(kv[1])), zip(keys, date_str.split(\"-\"))))\\nprint(result)',\n",
       " '_i94': \"def split_data(data):\\n    split_data = date.split('-')\\n    return {\\n        'year' : int(split_date[0]),\\n        'month' : int(split_date[1]),\\n        'day' : int(split_date[2])\\n    }\",\n",
       " 'split_data': <function __main__.split_data(data)>,\n",
       " '_i95': \"def split_data(data):\\n    split_data = date.split('-')\\n    return {\\n        'year' : int(split_date[0]),\\n        'month' : int(split_date[1]),\\n        'day' : int(split_date[2])\\n    }\\nsplit_date('2025-01-01'), split_date('1995-12-12')\",\n",
       " '_i96': \"def split_date(data):\\n    split_data = date.split('-')\\n    return {\\n        'year' : int(split_date[0]),\\n        'month' : int(split_date[1]),\\n        'day' : int(split_date[2])\\n    }\\nsplit_date('2025-01-01'), split_date('1995-12-12')\",\n",
       " 'split_date': <function __main__.split_date(date)>,\n",
       " '_i97': \"def split_date(data):\\n    split_date = split_date('-')\\n    return {\\n        'year' : int(split_date[0]),\\n        'month' : int(split_date[1]),\\n        'day' : int(split_date[2])\\n    }\\nsplit_date('2025-01-01'), split_date('1995-12-12')\",\n",
       " '_i98': \"def split_date(date):\\n    split_date = split_date('-')\\n    return {\\n        'year' : int(split_date[0]),\\n        'month' : int(split_date[1]),\\n        'day' : int(split_date[2])\\n    }\\nsplit_date('2025-01-01'), split_date('1995-12-12')\",\n",
       " '_i99': \"def split_date(date):\\n    split_date = date.split('-')\\n    return {\\n        'year' : int(split_date[0]),\\n        'month' : int(split_date[1]),\\n        'day' : int(split_date[2])\\n    }\\nsplit_date('2025-01-01'), split_date('1995-12-12')\",\n",
       " '_99': ({'year': 2025, 'month': 1, 'day': 1},\n",
       "  {'year': 1995, 'month': 12, 'day': 12}),\n",
       " '_i100': '# \\'2000-01-01\\' => {\\'year\\':2000, \\'month\\':1\\' \\'day\\':1}\\ndate_str = \\'2000-02-02\\'\\nkeys = [\\'year\\',\\'month\\',\\'day\\']\\n# map(iambda(kv: ))\\nresult = list(map(lambda kv: (kv[0], int(kv[1])), zip(keys, date_str.split(\"-\"))))\\nprint(result)',\n",
       " '_i101': '# \\'2000-01-01\\' => {\\'year\\':2000, \\'month\\':1\\' \\'day\\':1}\\ndate_str = \\'2000-02-02\\'\\nkeys = [\\'year\\',\\'month\\',\\'day\\']\\n# map(iambda(kv: ))\\nresult = dict(map(lambda kv: (kv[0], int(kv[1])), zip(keys, date_str.split(\"-\"))))\\nprint(result)',\n",
       " '_i102': '# \\'2000-01-01\\' => {\\'year\\':2000, \\'month\\':1\\' \\'day\\':1}\\ndate_str = \\'홍길동\\',\\'2000-02-02\\'\\nkeys = [\\'year\\',\\'month\\',\\'day\\']\\n# map(iambda(kv: ))\\nresult = dict(map(lambda kv: (kv[0], int(kv[1])), zip(keys, date_str.split(\"-\"))))\\nprint(result)',\n",
       " '_i103': '# \\'2000-01-01\\' => {\\'year\\':2000, \\'month\\':1\\' \\'day\\':1}\\ndate_str = 2000-02-02\\'\\nkeys = [\\'year\\',\\'month\\',\\'day\\']\\n# map(iambda(kv: ))\\nresult = dict(map(lambda kv: (kv[0], int(kv[1])), zip(keys, date_str.split(\"-\"))))\\nprint(result)',\n",
       " '_i104': '# \\'2000-01-01\\' => {\\'year\\':2000, \\'month\\':1\\' \\'day\\':1}\\ndate_str = \\'2000-02-02\\'\\nkeys = [\\'year\\',\\'month\\',\\'day\\']\\n# map(iambda(kv: ))\\nresult = dict(map(lambda kv: (kv[0], int(kv[1])), zip(keys, date_str.split(\"-\"))))\\nprint(result)',\n",
       " '_i105': \"def member_preprocessing(member):\\n    return {\\n        'name': member.get('name','이름없음'),\\n        'year': member.get('birth').split('-')\\n    }\",\n",
       " 'member_preprocessing': <function __main__.member_preprocessing(member)>,\n",
       " '_i106': \"#예제2\\nmembers = [{'name':'홍길동', 'birth':'2000-01-01'},{'name':'신길동', 'birth':'1995-12-18'},]\\nmembers2 = [{'name':'홍길동', 'year':2000, 'month':1,'day':1},{'name':'신길동', 'year':1995, 'month':12, 'day':18},]\",\n",
       " 'members': [{'name': '홍길동', 'birth': '2000-01-01'},\n",
       "  {'name': '신길동', 'birth': '1995-12-18'}],\n",
       " '_i107': \"def member_preprocessing(member):\\n    return {\\n        'name': member.get('name','이름없음'),\\n        'year': int(member.get('birth').split('-')[0]),\\n        'month': int(member.get('birth').split('-')[1]),\\n        'day': int(member.get('birth').split('-')[2])\\n    }\\nmember_preprocessing({'name':'홍길동','birth':'2002-01-01'})\",\n",
       " '_107': {'name': '홍길동', 'year': 2002, 'month': 1, 'day': 1},\n",
       " '_i108': \"members2 = list(map(lambda member:     '\\n        'name': member.get('name','이름없음'),\\n        'year': int(member.get('birth').split('-')[0]),\\n        'month': int(member.get('birth').split('-')[1]),\\n        'day': int(member.get('birth').split('-')[2])\\n    ))\",\n",
       " '_i109': \"members2 = list(map(lambda member:     \\n        'name': member.get('name','이름없음'),\\n        'year': int(member.get('birth').split('-')[0]),\\n        'month': int(member.get('birth').split('-')[1]),\\n        'day': int(member.get('birth').split('-')[2])\\n    ))\",\n",
       " '_i110': \"members2 = list(map(lambda member:{\\n        'name': member.get('name','이름없음'),\\n        'year': int(member.get('birth').split('-')[0]),\\n        'month': int(member.get('birth').split('-')[1]),\\n        'day': int(member.get('birth').split('-')[2])}\\n    ))\",\n",
       " '_i111': \"members2 = list(map(lambda member:{\\n        'name': member.get('name','이름없음'),\\n        'year': int(member.get('birth').split('-')[0]),\\n        'month': int(member.get('birth').split('-')[1]),\\n        'day': int(member.get('birth').split('-')[2])},\\n    ))\",\n",
       " '_i112': \"members2 = list(map(lambda member:{\\n        'name': member.get('name','이름없음'),\\n        'year': int(member.get('birth').split('-')[0]),\\n        'month': int(member.get('birth').split('-')[1]),\\n        'day': int(member.get('birth').split('-')[2])}, members))\",\n",
       " '_i113': \"members2 = list(map(lambda member:{\\n        'name': member.get('name','이름없음'),\\n        'year': int(member.get('birth').split('-')[0]),\\n        'month': int(member.get('birth').split('-')[1]),\\n        'day': int(member.get('birth').split('-')[2])}, members1))\\n\\nmembers2\",\n",
       " '_113': [{'name': '홍길동', 'year': 2000, 'month': 1, 'day': 1},\n",
       "  {'name': '신길동', 'year': 1995, 'month': 12, 'day': 18}],\n",
       " '_i114': \"def member_preprocessing(member):\\n    return {\\n        'name': member1.get('name','이름없음'),\\n        'year': int(member1.get('birth').split('-')[0]),\\n        'month': int(member1.get('birth').split('-')[1]),\\n        'day': int(member1.get('birth').split('-')[2])\\n    }\\nmember_preprocessing({'name':'홍길동','birth':'2002-01-01'})\",\n",
       " '_i115': \"def member_preprocessing(member):\\n    return {\\n        'name': member.get('name','이름없음'),\\n        'year': int(member.get('birth').split('-')[0]),\\n        'month': int(member.get('birth').split('-')[1]),\\n        'day': int(member.get('birth').split('-')[2])\\n    }\\nmember_preprocessing({'name':'홍길동','birth':'2002-01-01'})\",\n",
       " '_115': {'name': '홍길동', 'year': 2002, 'month': 1, 'day': 1},\n",
       " '_i116': \"members2 = list(map(lambda member:{\\n        'name': member.get('name','이름없음'),\\n        'year': int(member.get('birth').split('-')),\\n        'month': int(member.get('birth').split('-')),\\n        'day': int(member.get('birth').split('-'))}, members1))\\n\\nmembers2 \\n# member2 에 리스트로 묶고 map함수와 람다함수 매개변수 member는 딕셔너리 name에는 member에서 'name'  없으면 '이름 없음' 호출, year키에서 birth(2002-01-01)인트로 정수형으로 바꾸고 split에서 spc'-' 을 제거 [0]가져오기\\n# 그렇게 데이까지 똑같이 하고 member value 값을 가져온다\",\n",
       " '_i117': \"members2 = list(map(lambda member:{\\n        'name': member.get('name','이름없음'),\\n        'year': int(member.get('birth')),\\n        'month': int(member.get('birth')),\\n        'day': int(member.get('birth'))}, members1))\\n\\nmembers2 \\n# member2 에 리스트로 묶고 map함수와 람다함수 매개변수 member는 딕셔너리 name에는 member에서 'name'  없으면 '이름 없음' 호출, year키에서 birth(2002-01-01)인트로 정수형으로 바꾸고 split에서 spc'-' 을 제거 [0]가져오기\\n# 그렇게 데이까지 똑같이 하고 member value 값을 가져온다\",\n",
       " '_i118': \"members2 = list(map(lambda member:{\\n        'name': member.get('name','이름없음'),\\n        'year': int(member.get('birth')),\\n        'month': int(member.get('birth')),\\n        'day': int(member.get('birth'))}, members1))\\n\\nmembers2 \\n# member2 에 리스트로 묶고 map함수와 람다함수 매개변수 member는 딕셔너리 name에는 member에서 'name'  없으면 '이름 없음' 호출, year키에서 birth(2002-01-01)인트로 정수형으로 바꾸고 split에서 spc'-' 을 제거 [0]가져오기\\n# 그렇게 데이까지 똑같이 하고 member value 값을 가져온다\",\n",
       " '_i119': \"def member_preprocessing(member):\\n    return {\\n        'name': member.get('name','이름없음'),\\n        'year': int(member.get('birth').split('-')[0]),\\n        'month': int(member.get('birth').split('-')[1]),\\n        'day': int(member.get('birth').split('-')[2])\\n    }\\nmember_preprocessing({'name':'홍길동','birth':'2002-01-01'})\",\n",
       " '_119': {'name': '홍길동', 'year': 2002, 'month': 1, 'day': 1},\n",
       " '_i120': \"def member_preprocessing(member):\\n    return {\\n        'name': member.get('name','이름없음'),\\n        'year': int(member.get('birth').split('-')[0]),\\n        'month': int(member.get('birth').split('-')[1]),\\n        'day': int(member.get('birth').split('-')[2])\\n    }\\nmember_preprocessing({'name':'홍길동','birth':'2002-01-01'})\",\n",
       " '_120': {'name': '홍길동', 'year': 2002, 'month': 1, 'day': 1},\n",
       " '_i121': \"def member_preprocessing(member):\\n    return {\\n        'name': member.get('name','이름없음'),\\n        'year': int(member.get('birth').split('-')[0]),\\n        'month': int(member.get('birth').split('-')[1]),\\n        'day': int(member.get('birth').split('-')[2])\\n    }\\nmember_preprocessing({'name':'홍길동','birth':'2002-01-01'})\",\n",
       " '_121': {'name': '홍길동', 'year': 2002, 'month': 1, 'day': 1},\n",
       " '_i122': \"member1 = def member_preprocessing(member):\\n    return {\\n        'name': member.get('name','이름없음'),\\n        'year': str(member.get('birth').split('-')[0]),\\n        'month': str(member.get('birth').split('-')[1]),\\n        'day': str(member.get('birth').split('-')[2])\\n    }\\nmember_preprocessing({'name':'홍길동','birth':'2002-01-01'})\",\n",
       " '_i123': \"member1 = def member_preprocessing(member):\\n    return {\\n        'name': member.get('name','이름없음'),\\n        'year': str(member.get('birth').split('-')[0]),\\n        'month': str(member.get('birth').split('-')[1]),\\n        'day': str(member.get('birth').split('-')[2])\\n    }\\nmember_preprocessing({'name':'홍길동','birth':'2002-01-01'})\",\n",
       " '_i124': \"members2 = list(map(lambda member:{\\n        'name': member.get('name','이름없음'),\\n        'year': int(member.get('birth').split('-')[0]),\\n        'month': int(member.get('birth').split('-')[1]),\\n        'day': int(member.get('birth').split('-')[2])}, members1))\\n\\nmembers2 \\n# member2 에 리스트로 묶고 map함수와 람다함수 매개변수 member는 딕셔너리 name에는 member에서 'name'  없으면 '이름 없음' 호출, year키에서 birth(2002-01-01)인트로 정수형으로 바꾸고 split에서 spc'-' 을 제거 [0]가져오기\\n# 그렇게 데이까지 똑같이 하고 member value \",\n",
       " '_124': [{'name': '홍길동', 'year': 2000, 'month': 1, 'day': 1},\n",
       "  {'name': '신길동', 'year': 1995, 'month': 12, 'day': 18}],\n",
       " '_i125': \"member1 = def member_preprocessing(member):\\n    return {\\n        'name': member.get('name','이름없음'),\\n        'year': str(member.get('birth').split('-')[0]),\\n        'month': str(member.get('birth').split('-')[1]),\\n        'day': str(member.get('birth').split('-')[2])\\n    }\\nmember_preprocessing({'name':'홍길동','birth':'2002-01-01'})\",\n",
       " '_i126': \"members2 = [{'name':'홍길동', 'year':2000, 'month':1,'day':1},{'name':'신길동', 'year':1995, 'month':12, 'day':18},]\",\n",
       " '_i127': \"members1 = dict(map(lambda member:['name':member.get('name','이름없음'),\\n                                  'year':merber.get('birth'),members.append('-')],members2))\",\n",
       " '_i128': \"members1 = dict(map(lambda member:['name': member.get('name','이름없음'),\\n                                  'year': merber.get('birth'),members.append('-')],members2))\",\n",
       " '_i129': \"members1 = dict(map(lambda member:[{'name': member.get('name','이름없음'),\\n                                  'year': merber.get('birth'),members.append('-')},members2]))\",\n",
       " '_i130': \"members1 = dict(map(lambda member:[{'name': member.get('name','이름없음'),\\n                                  'year': merber.get('birth')+'-'},members2]))\",\n",
       " '_i131': \"members1 = list(\\n    map(\\n        lambda member: {\\n            'name': member.get('name','이름없음'),\\n            'year': member.get('birth') + '-'\\n        },\\n        members2\\n    )\\n)\",\n",
       " '_i132': \"members1 = list(\\n    map(\\n        lambda member: {\\n            'name': member.get('name','이름없음'),\\n            'year': str(member.get('birth')) + '-'\\n        },\\n        members2\\n    )\\n)\",\n",
       " '_i133': \"members1 = list(\\n    map(\\n        lambda member: {\\n            'name': member.get('name','이름없음'),\\n            'year': str(member.get('birth')) + '-'\\n        },\\n        members2\\n    )\\n)\\nmembers1\",\n",
       " '_133': [{'name': '홍길동', 'year': 'None-'}, {'name': '신길동', 'year': 'None-'}],\n",
       " '_i134': \"members1 = list(\\n    map(\\n        lambda member: {\\n            'name': member.get('name','이름없음'),\\n            'year': str(member.get('birth')[0]) + '-'\\n        },\\n        members2\\n    )\\n)\\nmembers1\",\n",
       " '_i135': \"members1 = list(\\n    map(\\n        lambda member: {\\n            'name': member.get('name','이름없음'),\\n            'year': str(member.get('birth') + '-'[0])\\n        },\\n        members2\\n    )\\n)\\nmembers1\",\n",
       " '_i136': \"members1 = dict(map(lambda member:[{'name': member.get('name','이름없음'),\\n                                  'year': merber.get('birth')+'-'},members2]))\",\n",
       " '_i137': \"members1 = list(\\n    map(\\n        lambda member: {\\n            'name': member.get('name','이름없음'),\\n            'year': str(member.get('birth').split('-') + '-'[0])\\n        },\\n        members2\\n    )\\n)\\nmembers1\",\n",
       " '_i138': \"members1 = list(\\n    map(\\n        lambda member: {\\n            'name': member.get('name','이름없음'),\\n            'year': str(member.get('birth').split('-')[0] + '-'[0])\\n        },\\n        members2\\n    )\\n)\\nmembers1\",\n",
       " '_i139': \"members1 = list(\\n    map(\\n        lambda member: {\\n            'name': member.get('name','이름없음'),\\n            'year': str(member.get('birth').split('-')[0] + '-')\\n        },\\n        members2\\n    )\\n)\\nmembers1\",\n",
       " '_i140': \"members1 = list(\\n    map(\\n        lambda member: {\\n            'name': member.get('name','이름없음'),\\n            'year': member.get('birth', '').split('-')[0] + '-'\\n        },\\n        members2\\n    )\\n)\",\n",
       " '_i141': \"members1 = list(\\n    map(\\n        lambda member: {\\n            'name': member.get('name','이름없음'),\\n            'year': member.get('birth', '').split('-')[0] + '-'\\n        },\\n        members2\\n    )\\n)\\nmembers1\",\n",
       " '_141': [{'name': '홍길동', 'year': '-'}, {'name': '신길동', 'year': '-'}],\n",
       " '_i142': \"members2 = list(map(lambda member:{\\n        'name': member.get('name','이름없음'),\\n        'year': int(member.get('birth').split('-')[0]),\\n        'month': int(member.get('birth').split('-')[1]),\\n        'day': int(member.get('birth').split('-')[2])}, members1))\\n\\nmembers2 \\n# member2 에 리스트로 묶고 map함수와 람다함수 매개변수 member는 딕셔너리 name에는 member에서 'name'  없으면 '이름 없음' 호출, year키에서 birth(2002-01-01)인트로 정수형으로 바꾸고 split에서 spc'-' 을 제거 [0]가져오기\\n# 그렇게 데이까지 똑같이 하고 member value \",\n",
       " '_i143': \"members2 = list(map(lambda member:{\\n        'name': member.get('name','이름없음'),\\n        'year': int(member.get('birth').split('-')[0]),\\n        'month': int(member.get('birth').split('-')[1]),\\n        'day': int(member.get('birth').split('-')[2])}, members1))\\n\\nmembers2 \\n# member2 에 리스트로 묶고 map함수와 람다함수 매개변수 member는 딕셔너리 name에는 member에서 'name'  없으면 '이름 없음' 호출, year키에서 birth(2002-01-01)인트로 정수형으로 바꾸고 split에서 spc'-' 을 제거 [0]가져오기\\n# 그렇게 데이까지 똑같이 하고 member value \",\n",
       " '_i144': \"members2 = list(map(lambda member:{\\n        'name': member.get('name','이름없음'),\\n        'year': int(member.get('birth').split('-')[0]),\\n        'month': int(member.get('birth').split('-')[1]),\\n        'day': int(member.get('birth').split('-')[2])}, members1))\\n\\nmembers2 \\n# member2 에 리스트로 묶고 map함수와 람다함수 매개변수 member는 딕셔너리 name에는 member에서 'name'  없으면 '이름 없음' 호출, year키에서 birth(2002-01-01)인트로 정수형으로 바꾸고 split에서 spc'-' 을 제거 [0]가져오기\\n# 그렇게 데이까지 똑같이 하고 member value \",\n",
       " '_i145': \"members2 = list(map(lambda member:{\\n        'name': member.get('name','이름없음'),\\n        'year': int(member.get('birth').split('-')[0]),\\n        'month': int(member.get('birth').split('-')[1]),\\n        'day': int(member.get('birth').split('-')[2])}, members1))\\n\\nmembers2 \\n# member2 에 리스트로 묶고 map함수와 람다함수 매개변수 member는 딕셔너리 name에는 member에서 'name'  없으면 '이름 없음' 호출, year키에서 birth(2002-01-01)인트로 정수형으로 바꾸고 split에서 spc'-' 을 제거 [0]가져오기\\n# 그렇게 데이까지 똑같이 하고 member value \",\n",
       " '_i146': \"members2 = list(map(lambda member:{\\n        'name': member.get('name','이름없음'),\\n        'year': int(member.get('birth').split('-')[0]),\\n        'month': int(member.get('birth').split('-')[1]),\\n        'day': int(member.get('birth').split('-')[2])}, members1))\\n\\nmembers2 \\n# member2 에 리스트로 묶고 map함수와 람다함수 매개변수 member는 딕셔너리 name에는 member에서 'name'  없으면 '이름 없음' 호출, year키에서 birth(2002-01-01)인트로 정수형으로 바꾸고 split에서 spc'-' 을 제거 [0]가져오기\\n# 그렇게 데이까지 똑같이 하고 member value \",\n",
       " '_i147': \"members2 = list(map(lambda member:{\\n        'name': member.get('name','이름없음'),\\n        'year': int(member.get('birth').split('-')[0]),\\n        'month': int(member.get('birth').split('-')[1]),\\n        'day': int(member.get('birth').split('-')[2])}, members1))\\n\\nmembers2 \\n# member2 에 리스트로 묶고 map함수와 람다함수 매개변수 member는 딕셔너리 name에는 member에서 'name'  없으면 '이름 없음' 호출, year키에서 birth(2002-01-01)인트로 정수형으로 바꾸고 split에서 spc'-' 을 제거 [0]가져오기\\n# 그렇게 데이까지 똑같이 하고 member value \",\n",
       " '_i148': \"members2 = list(map(lambda member:{\\n        'name': member.get('name','이름없음'),\\n        'year': int(member.get('birth').split('-')[0]),\\n        'month': int(member.get('birth').split('-')[1]),\\n        'day': int(member.get('birth').split('-')[2])}, members1))\\n\\nmembers2 \\n# member2 에 리스트로 묶고 map함수와 람다함수 매개변수 member는 딕셔너리 name에는 member에서 'name'  없으면 '이름 없음' 호출, year키에서 birth(2002-01-01)인트로 정수형으로 바꾸고 split에서 spc'-' 을 제거 [0]가져오기\\n# 그렇게 데이까지 똑같이 하고 member value \",\n",
       " '_i149': \"members2 = list(map(lambda member:{\\n        'name': member.get('name','이름없음'),\\n        'year': int(member.get('birth').split('-')[0]),\\n        'month': int(member.get('birth').split('-')[1]),\\n        'day': int(member.get('birth').split('-')[2])}, members1))\\n\\nmembers2 \\n# member2 에 리스트로 묶고 map함수와 람다함수 매개변수 member는 딕셔너리 name에는 member에서 'name'  없으면 '이름 없음' 호출, year키에서 birth(2002-01-01)인트로 정수형으로 바꾸고 split에서 spc'-' 을 제거 [0]가져오기\\n# 그렇게 데이까지 똑같이 하고 member value \",\n",
       " '_i150': \"members2 = list(map(lambda member:{\\n        'name': membe1r.get('name','이름없음'),\\n        'year': int(member1.get('birth').split('-')[0]),\\n        'month': int(member1.get('birth').split('-')[1]),\\n        'day': int(member1.get('birth').split('-')[2])}, members1))\\n\\nmembers2 \\n# member2 에 리스트로 묶고 map함수와 람다함수 매개변수 member는 딕셔너리 name에는 member에서 'name'  없으면 '이름 없음' 호출, year키에서 birth(2002-01-01)인트로 정수형으로 바꾸고 split에서 spc'-' 을 제거 [0]가져오기\\n# 그렇게 데이까지 똑같이 하고 member value \",\n",
       " '_i151': \"#예제2\\nmembers1 = [{'name':'홍길동', 'birth':'2000-01-01'},{'name':'신길동', 'birth':'1995-12-18'},]\\nmembers2 = [{'name':'홍길동', 'year':2000, 'month':1,'day':1},{'name':'신길동', 'year':1995, 'month':12, 'day':18},]\",\n",
       " '_i152': '# \\'2000-01-01\\' => {\\'year\\':2000, \\'month\\':1\\' \\'day\\':1}\\ndate_str = \\'2000-02-02\\'\\nkeys = [\\'year\\',\\'month\\',\\'day\\']\\n# map(iambda(kv: ))\\nresult = dict(map(lambda kv: (kv[0], int(kv[1])), zip(keys, date_str.split(\"-\"))))\\nprint(result)',\n",
       " '_i153': \"def split_date(date):\\n    split_date = date.split('-')\\n    return {\\n        'year' : int(split_date[0]),\\n        'month' : int(split_date[1]),\\n        'day' : int(split_date[2])\\n    }\\nsplit_date('2025-01-01'), split_date('1995-12-12')\",\n",
       " '_153': ({'year': 2025, 'month': 1, 'day': 1},\n",
       "  {'year': 1995, 'month': 12, 'day': 12}),\n",
       " '_i154': \"members2 = list(map(lambda member:{\\n        'name': membe1r.get('name','이름없음'),\\n        'year': int(member1.get('birth').split('-')[0]),\\n        'month': int(member1.get('birth').split('-')[1]),\\n        'day': int(member1.get('birth').split('-')[2])}, members1))\\n\\nmembers2 \\n# member2 에 리스트로 묶고 map함수와 람다함수 매개변수 member는 딕셔너리 name에는 member에서 'name'  없으면 '이름 없음' 호출, year키에서 birth(2002-01-01)인트로 정수형으로 바꾸고 split에서 spc'-' 을 제거 [0]가져오기\\n# 그렇게 데이까지 똑같이 하고 member value \",\n",
       " '_i155': \"members2 = list(map(lambda member:{\\n        'name': member.get('name','이름없음'),\\n        'year': int(member.get('birth').split('-')[0]),\\n        'month': int(member.get('birth').split('-')[1]),\\n        'day': int(member.get('birth').split('-')[2])}, members1))\\n\\nmembers2 \\n# member2 에 리스트로 묶고 map함수와 람다함수 매개변수 member는 딕셔너리 name에는 member에서 'name'  없으면 '이름 없음' 호출, year키에서 birth(2002-01-01)인트로 정수형으로 바꾸고 split에서 spc'-' 을 제거 [0]가져오기\\n# 그렇게 데이까지 똑같이 하고 member value \",\n",
       " '_155': [{'name': '홍길동', 'year': 2000, 'month': 1, 'day': 1},\n",
       "  {'name': '신길동', 'year': 1995, 'month': 12, 'day': 18}],\n",
       " '_i156': 'def join_date(data):\\n    return \"{year:02}\"-\"{month:02}\"-\"{day:02}\".format(**data)\\njoin_date({\\'year\\':2000,\\'month\\':9,\\'day\\'9})',\n",
       " '_i157': 'def join_date(data):\\n    return \"{year:02}\"-\"{month:02}\"-\"{day:02}\".format(**data)\\njoin_date({\\'year\\':2000,\\'month\\':9,\\'day\\':9})',\n",
       " 'join_date': <function __main__.join_date(data)>,\n",
       " '_i158': 'def join_date(data):\\n    return {\"birth\": \"{year:02}-{month:02}-{day:02}\".format(**data)\\njoin_date({\\'year\\':2000,\\'month\\':9,\\'day\\':9})',\n",
       " '_i159': 'def join_date(data):\\n    return {\"birth\": \"{year:02}-{month:02}-{day:02}\".format(**data)}\\njoin_date({\\'year\\':2000,\\'month\\':9,\\'day\\':9})',\n",
       " '_159': {'birth': '2000-09-09'},\n",
       " '_i160': '# {\\'name\\':\\'hong\\' year\\':2000 \\'month\\':1 \\'day\\':1} => {\\'name\\':\\'hong\\', birth\\':\\'2025-01-01\\'}\\ndef join_date(data):\\n    return {\"name\": \\'hong\\',\"birth\": \"{year:02}-{month:02}-{day:02}\".format(**data)}\\njoin_date({\\'name\\':\\'hong\\', \\'year\\':2000,\\'month\\':9,\\'day\\':9})',\n",
       " '_160': {'name': 'hong', 'birth': '2000-09-09'},\n",
       " '_i161': '# {\\'name\\':\\'hong\\' year\\':2000 \\'month\\':1 \\'day\\':1} => {\\'name\\':\\'hong\\', birth\\':\\'2025-01-01\\'}\\n# def join_date(data):\\n#     return {\"name\": \\'hong\\',\"birth\": \"{year:02}-{month:02}-{day:02}\".format(**data)}\\n# join_date({\\'name\\':\\'hong\\', \\'year\\':2000,\\'month\\':9,\\'day\\':9})\\n\\ndef members_preprocessing(member)',\n",
       " '_i162': '# {\\'name\\':\\'hong\\' year\\':2000 \\'month\\':1 \\'day\\':1} => {\\'name\\':\\'hong\\', birth\\':\\'2025-01-01\\'}\\n\\n\\ndef join_date(data):\\n    return {\"name\": \\'hong\\',\"birth\": \"{year:02}-{month:02}-{day:02}\".format(**data)}\\njoin_date({\\'name\\':\\'hong\\', \\'year\\':2000,\\'month\\':9,\\'day\\':9})',\n",
       " '_162': {'name': 'hong', 'birth': '2000-09-09'},\n",
       " '_i163': 'list(map(lambda member:,{\"name\": \\'hong\\',\"birth\": \"{year:02}-{month:02}-{day:02}\".format(**data)},  members2))',\n",
       " '_i164': 'list(map(lambda member:{\"name\": \\'hong\\',\"birth\": \"{year:02}-{month:02}-{day:02}\".format(**data)},  members2))',\n",
       " '_i165': 'list(map(lambda member:{\"name\": \\'hong\\',\"birth\": \"{year:02}-{month:02}-{day:02}\".format(**data)},  members2))',\n",
       " '_i166': 'list(map(lambda member:{\"name\": member.get(\\'name\\'),\\n                        \"birth\": \"{year:02}-{month:02}-{day:02}\".format(**data)},  members2))',\n",
       " '_i167': 'list(map(lambda member:{\"name\": member.get(\\'name\\'),\\n                        \"birth\": \"{year:02}-{month:02}-{day:02}\".format(**member)},  members2))',\n",
       " '_167': [{'name': '홍길동', 'birth': '2000-01-01'},\n",
       "  {'name': '신길동', 'birth': '1995-12-18'}],\n",
       " '_i168': 'def filter_template(func,L=[]):\\n    result = []\\n    for item in L:\\n        if func(item):\\n            result.append(item)',\n",
       " 'filter_template': <function __main__.filter_template(func, L=[])>,\n",
       " '_i169': 'def filter_template(func,L=[]):\\n    result = []\\n    for item in L:\\n        if func(item):\\n            result.append(item)\\n    return result',\n",
       " '_i170': 'list_data = [1,2,3,4,5,6,7,8,9]\\ndef odd_chk(value):\\n    return value %2 !=0\\n#     if value%2:\\n#         return True\\n#     else:\\n#         return False\\nfilter_template(lambda value: value%2 !=0,list_data)',\n",
       " 'odd_chk': <function __main__.odd_chk(value)>,\n",
       " '_170': [1, 3, 5, 7, 9],\n",
       " '_i171': '[value%2 if filter_template in list_data]',\n",
       " '_i172': '[value%2 for filter_template in list_data]',\n",
       " '_i173': '[for value in list_data if value%2 !=0]',\n",
       " '_i174': '[value for value in list_data if value%2 !=0]',\n",
       " '_174': [1, 3, 5, 7, 9],\n",
       " '_i175': '# 예제: 다음 리스트에서 소수점 이하가 0인 수만 추출하시오.\\nlist(filter_template(lambda value: value%2 !=0,list_data))',\n",
       " '_175': [1, 3, 5, 7, 9],\n",
       " '_i176': 'list(filter_template(lambda value: value%2 !=0,list_data))',\n",
       " '_176': [1, 3, 5, 7, 9],\n",
       " '_i177': '# 예제: 다음 리스트에서 소수점 이하가 0인 수만 추출하시오.\\nL=[1, 1.2, 1.5, 3.0, 10.5, 100, -2.0, -12.2]\\nlist(filter_template(lambda value: value%1 !=0,L))',\n",
       " 'L': [1, 1.2, 1.5, 3.0, 10.5, 100, -2.0, -12.2],\n",
       " '_177': [1.2, 1.5, 10.5, -12.2],\n",
       " '_i178': '# 예제: 다음 리스트에서 소수점 이하가 0인 수만 추출하시오.\\nL=[1, 1.2, 1.5, 3.0, 10.5, 100, -2.0, -12.2]\\nlist(filter_template(lambda value: value%1,L))',\n",
       " '_178': [1.2, 1.5, 10.5, -12.2],\n",
       " '_i179': '# 예제: 다음 리스트에서 소수점 이하가 0인 수만 추출하시오.\\nL=[1, 1.2, 1.5, 3.0, 10.5, 100, -2.0, -12.2]\\nlist(filter_template(lambda value: value.is_integer(),L))',\n",
       " '_i180': '# 예제: 다음 리스트에서 소수점 이하가 0인 수만 추출하시오.\\nL=[1, 1.2, 1.5, 3.0, 10.5, 100, -2.0, -12.2]\\nlist(filter_template(lambda value: value%1==0,L))',\n",
       " '_180': [1, 3.0, 100, -2.0],\n",
       " '_i181': '# 예제: 다음 리스트에서 소수점 이하가 0인 수만 추출하시오.\\nL=[1, 1.2, 1.5, 3.0, 10.5, 100, -2.0, -12.2]\\nlist(filter_template(lambda value: value%1==0,L))\\n[value for filter_template in L if value%1==0]',\n",
       " '_i182': '[value for value in list_data if value%2 !=0]',\n",
       " '_182': [1, 3, 5, 7, 9],\n",
       " '_i183': '# 예제: 다음 리스트에서 소수점 이하가 0인 수만 추출하시오.\\nL=[1, 1.2, 1.5, 3.0, 10.5, 100, -2.0, -12.2]\\nlist(filter_template(lambda value: value%1==0,L))\\n[value for value in L if value % 1== 0]',\n",
       " '_183': [1, 3.0, 100, -2.0],\n",
       " '_i184': '# 예제: 다음 리스트에서 소수점 이하가 0인 수만 추출하시오.\\nL=[1, 1.2, 1.5, 3.0, 10.5, 100, -2.0, -12.2]\\n# list(filter_template(lambda value: value%1==0,L))\\n[value for value in L if value % 1== 0]',\n",
       " '_184': [1, 3.0, 100, -2.0],\n",
       " '_i185': 'list(filter_template(lambda value: value%1==0,L))',\n",
       " '_185': [1, 3.0, 100, -2.0],\n",
       " '_i186': 'p = [10,3,6,1]\\np.sort(reverse=True)\\np',\n",
       " 'p': [10, 6, 3, 1],\n",
       " '_186': [10, 6, 3, 1],\n",
       " '_i187': \"# 무조건 0번째 item을 기준으로 오름차순 정렬\\npairs = [(2,'two'),(1,'one'),(3,'three'),(4,'four')]\\npairs.sort()\\nparis\",\n",
       " 'pairs': [(2, 'two'), (3, 'three'), (1, 'one'), (4, 'four')],\n",
       " '_i188': \"# 무조건 0번째 item을 기준으로 오름차순 정렬\\npairs = [(2,'two'),(1,'one'),(3,'three'),(4,'four')]\\npairs.sort()\\npairs\",\n",
       " '_188': [(2, 'two'), (3, 'three'), (1, 'one'), (4, 'four')],\n",
       " '_i189': '# 1번째 기준으로 item기준으로 내림차순 정렬\\npairs.sort(key=lambda data:data[1])',\n",
       " '_i190': '# 1번째 기준으로 item기준으로 내림차순 정렬\\npairs.sort(key=lambda data:data[1])\\nprirs',\n",
       " '_i191': '# 1번째 기준으로 item기준으로 내림차순 정렬\\npairs.sort(key=lambda data:data[1])\\npairs',\n",
       " '_191': [(2, 'two'), (3, 'three'), (1, 'one'), (4, 'four')],\n",
       " '_i192': '# 1번째 기준으로 item기준으로 내림차순 정렬\\npairs.sort(key=lambda data:data[1] reverse=True)\\npairs',\n",
       " '_i193': '# 1번째 기준으로 item기준으로 내림차순 정렬\\npairs.sort(key=lambda data:data[1],reverse=True)\\npairs',\n",
       " '_193': [(2, 'two'), (3, 'three'), (1, 'one'), (4, 'four')],\n",
       " '_i194': '# 합이 큰 순서로 정렬\\nnumbers_2d =[[9,9],[1,100],[10,200]]\\nprint(number_2d)\\n# numbers_2d.sort(key=lambda )\\n    \\n    \\n    ',\n",
       " 'numbers_2d': [[10, 200], [1, 100], [9, 9]],\n",
       " '_i195': '# 합이 큰 순서로 정렬\\nnumber_2d =[[9,9],[1,100],[10,200]]\\nprint(number_2d)\\n# numbers_2d.sort(key=lambda )\\n    \\n    \\n    ',\n",
       " 'number_2d': [[10, 200], [1, 100], [9, 9]],\n",
       " '_i196': '# 합이 큰 순서로 정렬\\nnumber_2d =[[9,9],[1,100],[10,200]]\\nprint(number_2d)\\nnumbers_2d.sort(key=lambda items : sum(items),reverse= True)\\nprint(number_2d)\\n    \\n    \\n    ',\n",
       " '_i197': '# 합이 큰 순서로 정렬\\nnumber_2d =[[9,9],[1,100],[10,200]]\\nprint(number_2d)\\nnumber_2d.sort(key=lambda items : sum(items),reverse= True)\\nprint(number_2d)\\n    \\n    \\n    ',\n",
       " '_i198': \"# 합이 큰 순서로 정렬\\nnumber_2d =[[9,9],[1,100],[10,200]]\\nprint(number_2d)\\nnumber_2d.sort(key=lambda items : sum(items),reverse= True)\\nprint(number_2d)\\n\\nstudents = [{'name':'홍','score':99},\\n           {'name':'김','score':50},\\n           {'name':'박','score':77},\\n           {'score':100},]\\n    \\n    \",\n",
       " 'students': [{'score': 100},\n",
       "  {'name': '홍', 'score': 99},\n",
       "  {'name': '박', 'score': 77},\n",
       "  {'name': '김', 'score': 50}],\n",
       " '_i199': \"\\nstudents = [{'name':'홍','score':99},\\n           {'name':'김','score':50},\\n           {'name':'박','score':77},\\n           {'score':100},]\",\n",
       " '_i200': \"students = [{'name':'홍','score':99},\\n           {'name':'김','score':50},\\n           {'name':'박','score':77},\\n           {'score':100},]\\nstudents.sort()\",\n",
       " '_i201': \"students = [{'name':'홍','score':99},\\n           {'name':'김','score':50},\\n           {'name':'박','score':77},\\n           {'score':100},]\\nstudents.sort(key=lambda data:data[1],reverse=True)\",\n",
       " '_i202': \"name_select = lambda data: data.get('name')\\nname_select = ({'name','홍','score':99})\",\n",
       " '_i203': \"name_select = lambda data: data.get('name')\\nname_select = ({'name':'홍','score':99})\",\n",
       " 'name_select': <function __main__.<lambda>(data)>,\n",
       " '_i204': \"name_select = lambda data: data.get('name')\\nname_select = ({'name':'홍','score':99})\",\n",
       " '_i205': \"name_select = lambda data: data.get('score')\\nname_select = ({'name':'홍','score':99})\",\n",
       " '_i206': \"name_select = lambda data: data.get('name')\\nname_select = ({'name':'홍','score':99})\",\n",
       " '_i207': \"name_select = lambda data: data.get('name')\\nname_select ({'name':'홍','score':99})\",\n",
       " '_207': '홍',\n",
       " '_i208': \"#students를 name순으로 정렬(ㄱㄴㄷ순)\\nstudents.sort(key=lambda data : data.get('name'),'힣')\\nstudents\",\n",
       " '_i209': \"#students를 name순으로 정렬(ㄱㄴㄷ순)\\nstudents.sort(key=lambda data : data.get('name','힣')\\nstudents\",\n",
       " '_i210': \"#students를 name순으로 정렬(ㄱㄴㄷ순)\\nstudents.sort(key=lambda data : data.get('name','힣'))\\nstudents\",\n",
       " '_210': [{'score': 100},\n",
       "  {'name': '홍', 'score': 99},\n",
       "  {'name': '박', 'score': 77},\n",
       "  {'name': '김', 'score': 50}],\n",
       " '_i211': \"#students를 name순으로 정렬(ㄱㄴㄷ순)\\nstudents.sort(key=lambda data : data.get('name','힣'))\\nstudents\",\n",
       " '_211': [{'score': 100},\n",
       "  {'name': '홍', 'score': 99},\n",
       "  {'name': '박', 'score': 77},\n",
       "  {'name': '김', 'score': 50}],\n",
       " '_i212': \"#student를 score 큰 순 정렬\\nstudents.sort(key=lambda data : data.get('score'))\\nstudents\",\n",
       " '_212': [{'score': 100},\n",
       "  {'name': '홍', 'score': 99},\n",
       "  {'name': '박', 'score': 77},\n",
       "  {'name': '김', 'score': 50}],\n",
       " '_i213': \"#student를 score 큰 순 정렬\\nstudents.sort(key=lambda data : data.get('score',0 reverse+True))\\nstudents\",\n",
       " '_i214': \"#student를 score 큰 순 정렬\\nstudents.sort(key=lambda data : data.get('score',0, reverse+True))\\nstudents\",\n",
       " '_i215': \"#student를 score 큰 순 정렬\\nstudents.sort(key=lambda data : data.get('score',0, )reverse+True)\\nstudents\",\n",
       " '_i216': \"#student를 score 큰 순 정렬\\nstudents.sort(key=lambda data : data.get('score',0, ),reverse+True)\\nstudents\",\n",
       " '_i217': \"#student를 score 큰 순 정렬\\nstudents.sort(key=lambda data : data.get('score',0, ),reverse=True)\\nstudents\",\n",
       " '_217': [{'score': 100},\n",
       "  {'name': '홍', 'score': 99},\n",
       "  {'name': '박', 'score': 77},\n",
       "  {'name': '김', 'score': 50}],\n",
       " '_i218': \"# 예제 : books 정렬()\\nbooks = \\\\\\n[{'no':1, 'title':'더트릭컬', 'writer':'폴빠','price':'19,800'},\\n{'no':2, 'title':'흔한남매', 'writer':'백난도', 'price':'15,120'},\\n{'no':3, 'title':'단 한 번의 삶', 'writer':'김영하', 'price':'15,120'},\\n{'no':4, 'title':'가격잘못', 'writer':'홍길동', 'price':'ㅁ'},\\n{'no':5, 'title':'가격이숫자', 'writer':'백난도', 'price':30200},\\n{'no':6, 'title':'가격이없음', 'writer':'이길동’},] 정렬\\n4절. 람다식\\n47\",\n",
       " '_i219': \"# 예제 : books 정렬()\\nbooks = \\\\\\n[{'no':1, 'title':'더트릭컬', 'writer':'폴빠','price':'19,800'},\\n{'no':2, 'title':'흔한남매', 'writer':'백난도', 'price':'15,120'},\\n{'no':3, 'title':'단 한 번의 삶', 'writer':'김영하', 'price':'15,120'},\\n{'no':4, 'title':'가격잘못', 'writer':'홍길동', 'price':'ㅁ'},\\n{'no':5, 'title':'가격이숫자', 'writer':'백난도', 'price':30200},\\n{'no':6, 'title':'가격이없음', 'writer':'이길동’},] 정렬\",\n",
       " '_i220': \"# 예제 : books 정렬()\\nbooks = \\\\\\n[{'no':1, 'title':'더트릭컬', 'writer':'폴빠','price':'19,800'},\\n    {'no':2, 'title':'흔한남매', 'writer':'백난도', 'price':'15,120'},\\n    {'no':3, 'title':'단 한 번의 삶', 'writer':'김영하', 'price':'15,120'},\\n    {'no':4, 'title':'가격잘못', 'writer':'홍길동', 'price':'ㅁ'},\\n    {'no':5, 'title':'가격이숫자', 'writer':'백난도', 'price':30200},\\n    {'no':6, 'title':'가격이없음', 'writer':'이길동'},] \",\n",
       " 'books': [{'no': 5, 'title': '가격이숫자', 'writer': '백난도', 'price': 30200},\n",
       "  {'no': 6, 'title': '가격이없음', 'writer': '이길동'},\n",
       "  {'no': 4, 'title': '가격잘못', 'writer': '홍길동', 'price': 'ㅁ'},\n",
       "  {'no': 3, 'title': '단 한 번의 삶', 'writer': '김영하', 'price': '15,120'},\n",
       "  {'no': 2, 'title': '더트릭컬', 'writer': '폴빠', 'price': '19,80'},\n",
       "  {'no': 1, 'title': '흔한남매', 'writer': '백난도', 'price': '15,120'}],\n",
       " '_i221': \"# 예제 : books 정렬()\\nbooks = \\\\\\n[{'no':1, 'title':'더트릭컬', 'writer':'폴빠','price':'19,800'},\\n    {'no':2, 'title':'흔한남매', 'writer':'백난도', 'price':'15,120'},\\n    {'no':3, 'title':'단 한 번의 삶', 'writer':'김영하', 'price':'15,120'},\\n    {'no':4, 'title':'가격잘못', 'writer':'홍길동', 'price':'ㅁ'},\\n    {'no':5, 'title':'가격이숫자', 'writer':'백난도', 'price':30200},\\n    {'no':6, 'title':'가격이없음', 'writer':'이길동'},] \",\n",
       " '_i222': 'books',\n",
       " '_222': [{'no': 1, 'title': '더트릭컬', 'writer': '폴빠', 'price': '19,800'},\n",
       "  {'no': 2, 'title': '흔한남매', 'writer': '백난도', 'price': '15,120'},\n",
       "  {'no': 3, 'title': '단 한 번의 삶', 'writer': '김영하', 'price': '15,120'},\n",
       "  {'no': 4, 'title': '가격잘못', 'writer': '홍길동', 'price': 'ㅁ'},\n",
       "  {'no': 5, 'title': '가격이숫자', 'writer': '백난도', 'price': 30200},\n",
       "  {'no': 6, 'title': '가격이없음', 'writer': '이길동'}],\n",
       " '_i223': \"# 예제 : books 정렬(no,title,price)\\nbooks = \\\\\\n[{'no':2, 'title':'더트릭컬', 'writer':'폴빠','price':'19,80'},\\n    {'no':1, 'title':'흔한남매', 'writer':'백난도', 'price':'15,120'},\\n    {'no':3, 'title':'단 한 번의 삶', 'writer':'김영하', 'price':'15,120'},\\n    {'no':4, 'title':'가격잘못', 'writer':'홍길동', 'price':'ㅁ'},\\n    {'no':5, 'title':'가격이숫자', 'writer':'백난도', 'price':30200},\\n    {'no':6, 'title':'가격이없음', 'writer':'이길동'},] \",\n",
       " '_i224': \"# no기준\\nbooks.sort(key=lambda data: data.get('no'))\",\n",
       " '_i225': \"# no기준\\nbooks.sort(key=lambda data: data.get('no'))\\nbooks\",\n",
       " '_225': [{'no': 5, 'title': '가격이숫자', 'writer': '백난도', 'price': 30200},\n",
       "  {'no': 6, 'title': '가격이없음', 'writer': '이길동'},\n",
       "  {'no': 4, 'title': '가격잘못', 'writer': '홍길동', 'price': 'ㅁ'},\n",
       "  {'no': 3, 'title': '단 한 번의 삶', 'writer': '김영하', 'price': '15,120'},\n",
       "  {'no': 2, 'title': '더트릭컬', 'writer': '폴빠', 'price': '19,80'},\n",
       "  {'no': 1, 'title': '흔한남매', 'writer': '백난도', 'price': '15,120'}],\n",
       " '_i226': \"# title\\nbooks.sort(key=lambda data: data.get('title'))\\nbooks\",\n",
       " '_226': [{'no': 5, 'title': '가격이숫자', 'writer': '백난도', 'price': 30200},\n",
       "  {'no': 6, 'title': '가격이없음', 'writer': '이길동'},\n",
       "  {'no': 4, 'title': '가격잘못', 'writer': '홍길동', 'price': 'ㅁ'},\n",
       "  {'no': 3, 'title': '단 한 번의 삶', 'writer': '김영하', 'price': '15,120'},\n",
       "  {'no': 2, 'title': '더트릭컬', 'writer': '폴빠', 'price': '19,80'},\n",
       "  {'no': 1, 'title': '흔한남매', 'writer': '백난도', 'price': '15,120'}],\n",
       " '_i227': \"# no기준\\nbooks.sort(key=lambda book: book['no'])\\nbooks\",\n",
       " '_227': [{'no': 5, 'title': '가격이숫자', 'writer': '백난도', 'price': 30200},\n",
       "  {'no': 6, 'title': '가격이없음', 'writer': '이길동'},\n",
       "  {'no': 4, 'title': '가격잘못', 'writer': '홍길동', 'price': 'ㅁ'},\n",
       "  {'no': 3, 'title': '단 한 번의 삶', 'writer': '김영하', 'price': '15,120'},\n",
       "  {'no': 2, 'title': '더트릭컬', 'writer': '폴빠', 'price': '19,80'},\n",
       "  {'no': 1, 'title': '흔한남매', 'writer': '백난도', 'price': '15,120'}],\n",
       " '_i228': \"# title\\nbooks.sort(key=lambda book: book['title'])\\nbooks\",\n",
       " '_228': [{'no': 5, 'title': '가격이숫자', 'writer': '백난도', 'price': 30200},\n",
       "  {'no': 6, 'title': '가격이없음', 'writer': '이길동'},\n",
       "  {'no': 4, 'title': '가격잘못', 'writer': '홍길동', 'price': 'ㅁ'},\n",
       "  {'no': 3, 'title': '단 한 번의 삶', 'writer': '김영하', 'price': '15,120'},\n",
       "  {'no': 2, 'title': '더트릭컬', 'writer': '폴빠', 'price': '19,80'},\n",
       "  {'no': 1, 'title': '흔한남매', 'writer': '백난도', 'price': '15,120'}],\n",
       " '_i229': \"# price\\nbooks.sort(key=lambda book: book.get('price',0))\\nif\\nbooks\",\n",
       " '_i230': \"# 30200, '12,000', '5000', 'ㅁ', None => 30200, 12000, 5000, 0, 0\\ndef parse_int(price):\\n    print(type(price))\",\n",
       " 'parse_int': <function __main__.<lambda>(price)>,\n",
       " '_i231': \"# 30200, '12,000', '5000', 'ㅁ', None => 30200, 12000, 5000, 0, 0\\ndef parse_int(price):\\n    print(type(price))\\nparse_int(None)\",\n",
       " '_i232': \"# 30200, '12,000', '5000', 'ㅁ', None => 30200, 12000, 5000, 0, 0\\ndef parse_int(price):\\n    print(type(price))\\nparse_int('5000')\",\n",
       " '_i233': \"# 30200, '12,000', '5000', 'ㅁ', None => 30200, 12000, 5000, 0, 0\\ndef parse_int(price):\\n    if isinstance(price, str) and price.replace(',','').isdigit():\\nparse_int('5000')\",\n",
       " '_i234': \"# 30200, '12,000', '5000', 'ㅁ', None => 30200, 12000, 5000, 0, 0\\ndef parse_int(price):\\n    if isinstance(price, str) and price.replace(',','').isdigit():\\n        return int(price.replace(',',''))\\nparse_int('5000')\",\n",
       " '_234': 5000,\n",
       " '_i235': \"# 30200, '12,000', '5000', 'ㅁ', None => 30200, 12000, 5000, 0, 0\\ndef parse_int(price):\\n    if isinstance(price, str) and price.replace(',','').isdigit():\\n        return int(price.replace(',',''))\\n    elif isinstance(price,int):\\n        return price\\n    else:\\n        return 0\\nprint(parse_int('5000'), parse_int(30200),parse_int('ㅁ'),parse_int(None))\",\n",
       " '_i236': \"# 30200, '12,000', '5000', 'ㅁ', None => 30200, 12000, 5000, 0, 0\\ndef parse_int(price):\\n    if isinstance(price, str) and price.replace(',','').isdigit():\\n        return int(price.replace(',',''))\\n    elif isinstance(price,int):\\n        return price\\n    else:\\n        return 0\\n\\nparse_int = lambda price :int(price.replace(',','')) if isinstance(price, str) and price.replace(',','').isdigit() else \\\\\\nprice if isinstance(price, int) else 0\\n\\nprint(parse_int('5000'), parse_int(30200),parse_int('ㅁ'),parse_int(None))\",\n",
       " '_i237': \"parse_int = lambda book :int(book.get('price').replace(',','')) if isinstance(book, str) and book.get('price')replace(',','').isdigit() else \\\\\\nbook.get('price') if isinstance(book.get('price'), int) else 0\\n\\n\\nprint(parse_int('5000'), parse_int(30200),parse_int('ㅁ'),parse_int(None))\",\n",
       " '_i238': \"parse_int = lambda book :int(book.get('price').replace(',','')) if isinstance(book.get('price'), str) and book.get('price')replace(',','').isdigit() else \\\\\\nbook.get('price') if isinstance(book.get('price'), int) else 0\\n\\n\\nprint(parse_int('5000'), parse_int(30200),parse_int('ㅁ'),parse_int(None))\",\n",
       " '_i239': \"parse_int = lambda book :int(book.get('price').replace(',','')) if isinstance(book.get('price'), str) and book.get('price').replace(',','').isdigit() else \\\\\\nbook.get('price') if isinstance(book.get('price'), int) else 0\\n\\n\\nprint(parse_int('5000'), parse_int(30200),parse_int('ㅁ'),parse_int(None))\",\n",
       " '_i240': \"parse_int = lambda book: (\\n    int(book.get('price').replace(',', ''))\\n    if isinstance(book.get('price'), str) and book.get('price').replace(',', '').isdigit()\\n    else book.get('price') if isinstance(book.get('price'), int)\\n    else 0\\n)\\nprint(parse_int('5000'), parse_int(30200),parse_int('ㅁ'),parse_int(None))\",\n",
       " '_i241': \"parse_int = lambda book: (\\n    int(book.get('price').replace(',', ''))\\n    if isinstance(book.get('price'), str) and book.get('price').replace(',', '').isdigit()\\n    else book.get('price') if isinstance(book.get('price'), int)\\n    else 0\\n)\\nprint(\\n    parse_int({'price': '5000'}),\\n    parse_int({'price': 30200}),\\n    parse_int({'price': 'ㅁ'}),\\n    parse_int({'price': None})\\n)\",\n",
       " '_i242': \"# 30200, '12,000', '5000', 'ㅁ', None => 30200, 12000, 5000, 0, 0\\ndef parse_int(price):\\n    if str(price).replace(',','').isdigit():\\n        return int(price.replace(',',''))\\n    \\n    else:\\n        return 0\\n\\nparse_int = lambda price :int(price.replace(',','')) if isinstance(price, str) and price.replace(',','').isdigit() else \\\\\\nprice if isinstance(price, int) else 0\\n\\nprint(parse_int('5000'), parse_int(30200),parse_int('ㅁ'),parse_int(None))\",\n",
       " '_i243': \"# 30200, '12,000', '5000', 'ㅁ', None => 30200, 12000, 5000, 0, 0\\ndef parse_int(price):\\n    if isinstance(price, str) and price.replace(',','').isdigit():\\n        return int(price.replace(',',''))\\n    elif isinstance(price,int):\\n        return price\\n    else:\\n        return 0\\n\\nparse_int = lambda price :int(price.replace(',','')) if isinstance(price, str) and price.replace(',','').isdigit() else \\\\\\nprice if isinstance(price, int)\\n\\nprint(parse_int('5000'), parse_int(30200),parse_int('ㅁ'),parse_int(None))\",\n",
       " '_i244': \"# 30200, '12,000', '5000', 'ㅁ', None => 30200, 12000, 5000, 0, 0\\ndef parse_int(price):\\n    if isinstance(price, str) and price.replace(',','').isdigit():\\n        return int(price.replace(',',''))\\n    elif isinstance(price,int):\\n        return price\\n    else:\\n        return 0\\n    \\ndef parse_int(price):\\n    if str(price).replace(',','').isdigit():\\n        return int(price.replace(',',''))\\n    \\n    else:\\n        return 0\\n    \\nparse_int = lambda price :int(price.replace(',','')) if isinstance(price, str) and price.replace(',','').isdigit() else \\\\\\nprice if isinstance(price, int)\\n\\nprint(parse_int('5000'), parse_int(30200),parse_int('ㅁ'),parse_int(None))\",\n",
       " '_i245': \"# 30200, '12,000', '5000', 'ㅁ', None => 30200, 12000, 5000, 0, 0\\ndef parse_int(price):\\n    if isinstance(price, str) and price.replace(',','').isdigit():\\n        return int(price.replace(',',''))\\n    elif isinstance(price,int):\\n        return price\\n    else:\\n        return 0\\n    \\ndef parse_int(price):\\n    if str(price).replace(',','').isdigit():\\n        return int(price.replace(',',''))\\n    \\n    else:\\n        return 0\\n    \\nparse_int = lambda price :int(price.replace(',','')) if isinstance(price, str) and price.replace(',','').isdigit() else \\\\\\nprice if isinstance(price, int)else 0\\n\\nprint(parse_int('5000'), parse_int(30200),parse_int('ㅁ'),parse_int(None))\",\n",
       " '_i246': \"copyBooks = books.copy() # 복제\\ncopyBooks.sort(key=lambda book: (\\n    int(book.get('price').replace(',', ''))\\n    if isinstance(book.get('price'), str) and book.get('price').replace(',', '').isdigit()\\n    else book.get('price') if isinstance(book.get('price'), int)\\n    else 0,reversed=True\\n))\",\n",
       " '_i247': \"copyBooks = books.copy() # 복제\\ncopyBooks.sort(key=lambda book: (\\n    int(book.get('price').replace(',', ''))\\n    if isinstance(book.get('price'), str) and book.get('price').replace(',', '').isdigit()\\n    else book.get('price') if isinstance(book.get('price'), int)\\n    else 0, reversed=True\\n)\",\n",
       " '_i248': \"copyBooks = books.copy() # 복제\\ncopyBooks.sort(key=lambda book: (\\n    int(book.get('price').replace(',', ''))\\n    if isinstance(book.get('price'), str) and book.get('price').replace(',', '').isdigit()\\n    else book.get('price') if isinstance(book.get('price'), int)\\n    else 0, reversed=True\\n))\",\n",
       " '_i249': \"copyBooks = books.copy() # 복제\\ncopyBooks.sort(key=lambda book: (\\n    int(book.get('price').replace(',', ''))\\n    if isinstance(book.get('price'), str) and book.get('price').replace(',', '').isdigit()\\n    else book.get('price') if isinstance(book.get('price'), int)\\n    else 0, reverse =True\\n))\",\n",
       " '_i250': \"copyBooks = books.copy() # 복제\\ncopyBooks.sort(key=lambda book: \\n    int(book.get('price').replace(',', ''))\\n    if isinstance(book.get('price'), str) and book.get('price').replace(',', '').isdigit()\\n    else book.get('price') if isinstance(book.get('price'), int)\\n    else 0, reverse =True\\n)\",\n",
       " 'copyBooks': [{'no': 5, 'title': '가격이숫자', 'writer': '백난도', 'price': 30200},\n",
       "  {'no': 3, 'title': '단 한 번의 삶', 'writer': '김영하', 'price': '15,120'},\n",
       "  {'no': 1, 'title': '흔한남매', 'writer': '백난도', 'price': '15,120'},\n",
       "  {'no': 2, 'title': '더트릭컬', 'writer': '폴빠', 'price': '19,80'},\n",
       "  {'no': 6, 'title': '가격이없음', 'writer': '이길동'},\n",
       "  {'no': 4, 'title': '가격잘못', 'writer': '홍길동', 'price': 'ㅁ'}],\n",
       " '_i251': \"copyBooks = books.copy() # 복제\\ncopyBooks.sort(key=lambda book: \\n    int(book.get('price').replace(',', ''))\\n    if isinstance(book.get('price'), str) and book.get('price').replace(',', '').isdigit()\\n    else book.get('price') if isinstance(book.get('price'), int)\\n    else 0, reverse =True\\n)\\ncopyBooks\",\n",
       " '_251': [{'no': 5, 'title': '가격이숫자', 'writer': '백난도', 'price': 30200},\n",
       "  {'no': 3, 'title': '단 한 번의 삶', 'writer': '김영하', 'price': '15,120'},\n",
       "  {'no': 1, 'title': '흔한남매', 'writer': '백난도', 'price': '15,120'},\n",
       "  {'no': 2, 'title': '더트릭컬', 'writer': '폴빠', 'price': '19,80'},\n",
       "  {'no': 6, 'title': '가격이없음', 'writer': '이길동'},\n",
       "  {'no': 4, 'title': '가격잘못', 'writer': '홍길동', 'price': 'ㅁ'}],\n",
       " '_i252': 'globals() #전역변수 리스트 '}"
      ]
     },
     "execution_count": 252,
     "metadata": {},
     "output_type": "execute_result"
    }
   ],
   "source": [
    "globals() #전역변수 리스트 "
   ]
  },
  {
   "cell_type": "code",
   "execution_count": 253,
   "id": "5ac73394",
   "metadata": {},
   "outputs": [
    {
     "data": {
      "text/plain": [
       "False"
      ]
     },
     "execution_count": 253,
     "metadata": {},
     "output_type": "execute_result"
    }
   ],
   "source": [
    "all([True, True, True, False]) #모든 요소가 다 True인지 여부"
   ]
  },
  {
   "cell_type": "markdown",
   "id": "6b8de99f",
   "metadata": {},
   "source": [
    "# 6절 연습문제"
   ]
  },
  {
   "cell_type": "markdown",
   "id": "5c527389",
   "metadata": {},
   "source": [
    "## 실습형"
   ]
  },
  {
   "cell_type": "code",
   "execution_count": 9,
   "id": "f5529dd9",
   "metadata": {},
   "outputs": [
    {
     "data": {
      "text/plain": [
       "(10, 3)"
      ]
     },
     "execution_count": 9,
     "metadata": {},
     "output_type": "execute_result"
    }
   ],
   "source": [
    "# ex1)\n",
    "data_list =[10,3,4,5]\n",
    "def get_max_min(data_list):\n",
    "    return max(data_list), min(data_list)\n",
    "get_max_min(data_list)"
   ]
  },
  {
   "cell_type": "code",
   "execution_count": 12,
   "id": "be53d197",
   "metadata": {},
   "outputs": [
    {
     "data": {
      "text/plain": [
       "(10, 3)"
      ]
     },
     "execution_count": 12,
     "metadata": {},
     "output_type": "execute_result"
    }
   ],
   "source": [
    "# ex2)\n",
    "get_max_min = lambda data_list :( max(data_list),min(data_list)) \n",
    "get_max_min(data_list)"
   ]
  },
  {
   "cell_type": "code",
   "execution_count": 1,
   "id": "f65e9763",
   "metadata": {},
   "outputs": [
    {
     "data": {
      "text/plain": [
       "{'넓이': 6.0, '둘레': 12.0}"
      ]
     },
     "execution_count": 1,
     "metadata": {},
     "output_type": "execute_result"
    }
   ],
   "source": [
    "# 실습형 3: 직각삼각형 w, h로 area, perimeter(넓이, 둘레)\n",
    "import math\n",
    "\n",
    "def get_trianle(w,h):\n",
    "    area = w *h *0.5\n",
    "    # math.sqrt() : 제곱근\n",
    "    perimeter = w  + h + math.sqrt(w*w + h*h)\n",
    "#     return area , perimeter\n",
    "    return {'넓이':area, '둘레':perimeter}\n",
    "get_trianle(3,4)"
   ]
  },
  {
   "cell_type": "code",
   "execution_count": null,
   "id": "e595468e",
   "metadata": {},
   "outputs": [],
   "source": []
  },
  {
   "cell_type": "code",
   "execution_count": null,
   "id": "a32af2a7",
   "metadata": {},
   "outputs": [],
   "source": []
  },
  {
   "cell_type": "code",
   "execution_count": null,
   "id": "aa373d5d",
   "metadata": {},
   "outputs": [],
   "source": []
  },
  {
   "cell_type": "markdown",
   "id": "2aa51b5a",
   "metadata": {},
   "source": [
    "## 서술형"
   ]
  },
  {
   "cell_type": "code",
   "execution_count": null,
   "id": "8691d00c",
   "metadata": {},
   "outputs": [],
   "source": []
  },
  {
   "cell_type": "code",
   "execution_count": null,
   "id": "125b7705",
   "metadata": {},
   "outputs": [],
   "source": []
  },
  {
   "cell_type": "code",
   "execution_count": null,
   "id": "372d65aa",
   "metadata": {},
   "outputs": [],
   "source": []
  },
  {
   "cell_type": "code",
   "execution_count": null,
   "id": "742805ab",
   "metadata": {},
   "outputs": [],
   "source": []
  },
  {
   "cell_type": "code",
   "execution_count": null,
   "id": "fd1565e5",
   "metadata": {},
   "outputs": [],
   "source": []
  }
 ],
 "metadata": {
  "kernelspec": {
   "display_name": "Python 3 (ipykernel)",
   "language": "python",
   "name": "python3"
  },
  "language_info": {
   "codemirror_mode": {
    "name": "ipython",
    "version": 3
   },
   "file_extension": ".py",
   "mimetype": "text/x-python",
   "name": "python",
   "nbconvert_exporter": "python",
   "pygments_lexer": "ipython3",
   "version": "3.10.9"
  },
  "toc": {
   "base_numbering": 1,
   "nav_menu": {},
   "number_sections": false,
   "sideBar": true,
   "skip_h1_title": false,
   "title_cell": "Table of Contents",
   "title_sidebar": "Contents",
   "toc_cell": false,
   "toc_position": {
    "height": "calc(100% - 180px)",
    "left": "10px",
    "top": "150px",
    "width": "195.764px"
   },
   "toc_section_display": true,
   "toc_window_display": true
  }
 },
 "nbformat": 4,
 "nbformat_minor": 5
}
