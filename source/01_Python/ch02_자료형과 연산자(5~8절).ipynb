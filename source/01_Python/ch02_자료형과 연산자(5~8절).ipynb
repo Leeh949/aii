{
 "cells": [
  {
   "cell_type": "code",
   "execution_count": 1,
   "id": "21b98151",
   "metadata": {},
   "outputs": [
    {
     "data": {
      "text/html": [
       "\n",
       "<style>\n",
       "div.container{width:90% !important;}\n",
       "div.cell.code_cell.rendered{width:100%;}\n",
       "div.input_prompt{padding:0px;}\n",
       "div.CodeMirror {font-family:Consolas; font-size:12pt;}\n",
       "div.text_cell_render.rendered_html{font-size:12pt;}\n",
       "div.output {font-size:12pt; font-weight:bold;}\n",
       "div.input {font-family:Consolas; font-size:12pt;}\n",
       "div.prompt {min-width:70px;}\n",
       "div#toc-wrapper{padding-top:120px;}\n",
       "div.text_cell_render ul li{font-size:12pt;padding:5px;}\n",
       "table.dataframe{font-size:12px;}\n",
       "</style>\n"
      ],
      "text/plain": [
       "<IPython.core.display.HTML object>"
      ]
     },
     "metadata": {},
     "output_type": "display_data"
    }
   ],
   "source": [
    "from IPython.display import display, HTML\n",
    "display(HTML(\"\"\"\n",
    "<style>\n",
    "div.container{width:90% !important;}\n",
    "div.cell.code_cell.rendered{width:100%;}\n",
    "div.input_prompt{padding:0px;}\n",
    "div.CodeMirror {font-family:Consolas; font-size:12pt;}\n",
    "div.text_cell_render.rendered_html{font-size:12pt;}\n",
    "div.output {font-size:12pt; font-weight:bold;}\n",
    "div.input {font-family:Consolas; font-size:12pt;}\n",
    "div.prompt {min-width:70px;}\n",
    "div#toc-wrapper{padding-top:120px;}\n",
    "div.text_cell_render ul li{font-size:12pt;padding:5px;}\n",
    "table.dataframe{font-size:12px;}\n",
    "</style>\n",
    "\"\"\"))\n"
   ]
  },
  {
   "cell_type": "markdown",
   "id": "8d5e5e23",
   "metadata": {},
   "source": [
    "<b><font size= \"6\" color=\"red\">ch02. 자료형과 연산자</font></b>\n",
    "# 5.절 연산자\n",
    "## 5.1 산술 연산자: +,-,*,/(결과 float), //(몫), %(나머지),**(제곱)"
   ]
  },
  {
   "cell_type": "code",
   "execution_count": 14,
   "id": "4fc13bac",
   "metadata": {},
   "outputs": [
    {
     "name": "stdout",
     "output_type": "stream",
     "text": [
      "10*5승 = 100000\n",
      "5/2(결과 실수) =  2.5\n"
     ]
    }
   ],
   "source": [
    "print(\"10*5승 =\", 10 ** 5)\n",
    "print(\"5/2(결과 실수) = \", 5/2)\n",
    "print(\"5//2(몫) =\", 5//2)\n",
    "print(\"5%2(나머지)=\"5%2)"
   ]
  },
  {
   "cell_type": "code",
   "execution_count": 12,
   "id": "751e34c0",
   "metadata": {},
   "outputs": [
    {
     "name": "stdout",
     "output_type": "stream",
     "text": [
      "4**2= 16.0\n"
     ]
    }
   ],
   "source": [
    "# 정수끼리 연산은 결과가 정수(단 / 제외)\n",
    "# 정수와 실수, 실수끼리 연산 결과는 실수\n",
    "print(\"4**2=\",4**2.0)"
   ]
  },
  {
   "cell_type": "code",
   "execution_count": 29,
   "id": "97a4afe6",
   "metadata": {},
   "outputs": [
    {
     "name": "stdout",
     "output_type": "stream",
     "text": [
      "정수를 입력하세요:40\n",
      "입력하신 수는40,2로 나눈 나머지는 0라서 짝수를 입력하셨습니다\n"
     ]
    }
   ],
   "source": [
    "num = int(input(\"정수를 입력하세요:\"))\n",
    "result = num % 2 #-1, 0, 1\n",
    "if result:\n",
    "    temp = \"홀수\"\n",
    "else:\n",
    "    temp = \"짝수\"\n",
    "print(f\"입력하신 수는{num},2로 나눈 나머지는 {result}라서 {temp}를 입력하셨습니다\")"
   ]
  },
  {
   "cell_type": "code",
   "execution_count": 44,
   "id": "1525e8fd",
   "metadata": {},
   "outputs": [
    {
     "name": "stdout",
     "output_type": "stream",
     "text": [
      "정수를 입력하세요:30\n",
      "입력하신 수는 30이고, 5의배수를 입력하셨습니다\n"
     ]
    }
   ],
   "source": [
    "# Quiz2. 정수를 입력받아 5의 배수인지 여부를 출력\n",
    "\n",
    "num1 = int(input(\"정수를 입력하세요:\"))\n",
    "\n",
    "if num1 % 5 == 0:\n",
    "    temp=\"5의배수\"\n",
    "else:\n",
    "    temp=\"5의 배수가 아님\"\n",
    "print(f\"입력하신 수는 {num1}이고, {temp}를 입력하셨습니다\")"
   ]
  },
  {
   "cell_type": "code",
   "execution_count": 35,
   "id": "95acf1b5",
   "metadata": {},
   "outputs": [],
   "source": [
    "# Quiz3. 국, 영, 수 점수를 입력받아 다음셀에서 다음과 같이 출력하도록 구현하시오"
   ]
  },
  {
   "cell_type": "code",
   "execution_count": 42,
   "id": "7441c1c6",
   "metadata": {},
   "outputs": [
    {
     "name": "stdout",
     "output_type": "stream",
     "text": [
      "국어 점수를 입력하시오:99\n",
      "영어 점수를 입력하시오:100\n",
      "수학 점수를 입력하시오:10\n",
      "국어 영어 수학의 총점은 209이고, 평균은 69.7입니다.\n"
     ]
    }
   ],
   "source": [
    "kor = int(input(\"국어 점수를 입력하시오:\"))\n",
    "eng = int(input(\"영어 점수를 입력하시오:\"))\n",
    "math = int(input(\"수학 점수를 입력하시오:\"))\n",
    "result = kor + eng + math\n",
    "avg = result / 3\n",
    "print(f\"국어 영어 수학의 총점은 {result:3d}이고, 평균은{avg:5.1f}입니다.\")"
   ]
  },
  {
   "cell_type": "markdown",
   "id": "e3035a90",
   "metadata": {},
   "source": [
    "## 5.2 할당연산자: =, +=, -=, /=, *=, //=, %= \n"
   ]
  },
  {
   "cell_type": "code",
   "execution_count": 65,
   "id": "90b719b7",
   "metadata": {},
   "outputs": [
    {
     "name": "stdout",
     "output_type": "stream",
     "text": [
      "a = 15\n"
     ]
    }
   ],
   "source": [
    "a= 10\n",
    "a += 5 # a = a+ 5와 동일\n",
    "print(f\"a = {a}\")"
   ]
  },
  {
   "cell_type": "code",
   "execution_count": 66,
   "id": "0740f976",
   "metadata": {},
   "outputs": [
    {
     "name": "stdout",
     "output_type": "stream",
     "text": [
      "a = 10\n",
      "a = 100\n",
      "5나눈 몫:20\n"
     ]
    }
   ],
   "source": [
    "a -= 5 #a = a-5 와 동일\n",
    "print(f\"a = {a}\")\n",
    "a *= 10\n",
    "print(f\"a = {a}\")\n",
    "\n",
    "a //= 5 # a = a// 5\n",
    "print(f\"5나눈 몫:{a}\")"
   ]
  },
  {
   "cell_type": "markdown",
   "id": "ce44c0e4",
   "metadata": {},
   "source": [
    "## 5.3 논리연산자 : &, and, |, or, not\n"
   ]
  },
  {
   "cell_type": "code",
   "execution_count": 68,
   "id": "52ee55f0",
   "metadata": {},
   "outputs": [
    {
     "name": "stdout",
     "output_type": "stream",
     "text": [
      "True\n",
      "0\n",
      "1100\n"
     ]
    }
   ],
   "source": [
    "# & : 논리연산자, 비트연산자\n",
    "print( (10>3) & (10>5)) #논리연산 True & True\n",
    "print(12 & 1) # 비트 연산   #1 1 0 0 (12)\n",
    "                           #0 0 0 1 (1)\n",
    "                        #&: 0 0 0 0 \n",
    "print(\"{:4b}\".format(12))"
   ]
  },
  {
   "cell_type": "code",
   "execution_count": 71,
   "id": "ad717411",
   "metadata": {},
   "outputs": [
    {
     "name": "stdout",
     "output_type": "stream",
     "text": [
      "True\n",
      "0\n"
     ]
    }
   ],
   "source": [
    "# and : 논리 연산자. False로 판별되는 첫번째 항의 결과 반환\n",
    "        # 모든 항이 True면, 마지막 항의 결과 반환\n",
    "print( (10>3) and (10>5))\n",
    "print(0 and 1)"
   ]
  },
  {
   "cell_type": "code",
   "execution_count": 77,
   "id": "bed4b80c",
   "metadata": {},
   "outputs": [
    {
     "name": "stdout",
     "output_type": "stream",
     "text": [
      "논리연산(연산자 안뒤에 논리형일 때):  True\n",
      "비트연산(연산자 앞이나 뒤에 숫자일 때) : 3\n"
     ]
    }
   ],
   "source": [
    "# | : 논리연산, 비트연산\n",
    "result = True | False\n",
    "print(\"논리연산(연산자 안뒤에 논리형일 때): \", result)\n",
    "result = False | 3 # 0000(0)\n",
    "                   # 0011(3)\n",
    "print(\"비트연산(연산자 앞이나 뒤에 숫자일 때) :\", result)"
   ]
  },
  {
   "cell_type": "code",
   "execution_count": 79,
   "id": "081270b4",
   "metadata": {},
   "outputs": [
    {
     "name": "stdout",
     "output_type": "stream",
     "text": [
      "hong\n"
     ]
    }
   ],
   "source": [
    "# or : 논리연산 (참이 하나라도 먼저 나오면 참이 출력된다.)\n",
    "# 모든 항이 거짓이면 마지막 항이 출력된다.\n",
    "print(False or 0 or 'hong' or None or [])"
   ]
  },
  {
   "cell_type": "code",
   "execution_count": 81,
   "id": "4faf0bc3",
   "metadata": {},
   "outputs": [
    {
     "data": {
      "text/plain": [
       "True"
      ]
     },
     "execution_count": 81,
     "metadata": {},
     "output_type": "execute_result"
    }
   ],
   "source": [
    "not 10 > 5"
   ]
  },
  {
   "cell_type": "markdown",
   "id": "bee20196",
   "metadata": {},
   "source": [
    "## 5.4 비교 연산자: >, >=, <, <=, ==, != (다르다)"
   ]
  },
  {
   "cell_type": "code",
   "execution_count": 86,
   "id": "70ef37bd",
   "metadata": {},
   "outputs": [
    {
     "name": "stdout",
     "output_type": "stream",
     "text": [
      "True\n",
      "True\n",
      "True\n"
     ]
    }
   ],
   "source": [
    "# 비교연산자는 이항, 삼항, 사항, ... 다항연산자\n",
    "x = 95\n",
    "print( (90<=x) & (x<=100))\n",
    "print(90 <= x <= 100)\n",
    "print(90 <= x <= 100 > 10)"
   ]
  },
  {
   "cell_type": "code",
   "execution_count": 89,
   "id": "632c9a7d",
   "metadata": {},
   "outputs": [
    {
     "name": "stdout",
     "output_type": "stream",
     "text": [
      "True\n",
      "False\n",
      "False\n"
     ]
    }
   ],
   "source": [
    "# 비교 연산자의 우선순위가 비트연산자(|, &) 의 우선순위보다 낮다\n",
    "print((10>5)& (10>7))# 괄호가 없으면 우선순위가 높은 5 & 10부터 계산함\n",
    "print(10>5 & 10> 7)\n",
    "print(10 > 0 > 7)\n",
    "# 0101(5) & 1010(10)"
   ]
  },
  {
   "cell_type": "code",
   "execution_count": 91,
   "id": "add6341b",
   "metadata": {},
   "outputs": [
    {
     "name": "stdout",
     "output_type": "stream",
     "text": [
      "True\n"
     ]
    }
   ],
   "source": [
    "address = \"목동\"\n",
    "age = 29\n",
    "print( (address==\"목동\") & (age<= 30))"
   ]
  },
  {
   "cell_type": "code",
   "execution_count": 92,
   "id": "f89ead77",
   "metadata": {},
   "outputs": [
    {
     "data": {
      "text/plain": [
       "True"
      ]
     },
     "execution_count": 92,
     "metadata": {},
     "output_type": "execute_result"
    }
   ],
   "source": [
    "\"김길동\" < \"홍길동\""
   ]
  },
  {
   "cell_type": "code",
   "execution_count": 93,
   "id": "ef6fd66a",
   "metadata": {},
   "outputs": [
    {
     "data": {
      "text/plain": [
       "True"
      ]
     },
     "execution_count": 93,
     "metadata": {},
     "output_type": "execute_result"
    }
   ],
   "source": [
    "# 문자는 ASCII코드 순으로 비교할 수 있다 : 특수문자 < 숫자문자 < 대문자 < 소문자(abc)\n",
    "\"scott\" < \"tiger\""
   ]
  },
  {
   "cell_type": "markdown",
   "id": "32149941",
   "metadata": {},
   "source": [
    "## 5.5 비트연산: &, |, ^(XOR), ~(반대)"
   ]
  },
  {
   "cell_type": "markdown",
   "id": "9199de11",
   "metadata": {},
   "source": []
  }
 ],
 "metadata": {
  "kernelspec": {
   "display_name": "Python 3 (ipykernel)",
   "language": "python",
   "name": "python3"
  },
  "language_info": {
   "codemirror_mode": {
    "name": "ipython",
    "version": 3
   },
   "file_extension": ".py",
   "mimetype": "text/x-python",
   "name": "python",
   "nbconvert_exporter": "python",
   "pygments_lexer": "ipython3",
   "version": "3.10.9"
  },
  "toc": {
   "base_numbering": 1,
   "nav_menu": {},
   "number_sections": false,
   "sideBar": true,
   "skip_h1_title": false,
   "title_cell": "Table of Contents",
   "title_sidebar": "Contents",
   "toc_cell": false,
   "toc_position": {
    "height": "calc(100% - 180px)",
    "left": "10px",
    "top": "150px",
    "width": "236.264px"
   },
   "toc_section_display": true,
   "toc_window_display": true
  }
 },
 "nbformat": 4,
 "nbformat_minor": 5
}
