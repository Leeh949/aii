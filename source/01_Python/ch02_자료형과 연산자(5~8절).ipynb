{
 "cells": [
  {
   "cell_type": "code",
   "execution_count": 3,
   "id": "21b98151",
   "metadata": {},
   "outputs": [
    {
     "data": {
      "text/html": [
       "\n",
       "<style>\n",
       "div.container{width:90% !important;}\n",
       "div.cell.code_cell.rendered{width:100%;}\n",
       "div.input_prompt{padding:0px;}\n",
       "div.CodeMirror {font-family:Consolas; font-size:12pt;}\n",
       "div.text_cell_render.rendered_html{font-size:12pt;}\n",
       "div.output {font-size:12pt; font-weight:bold;}\n",
       "div.input {font-family:Consolas; font-size:12pt;}\n",
       "div.prompt {min-width:70px;}\n",
       "div#toc-wrapper{padding-top:120px;}\n",
       "div.text_cell_render ul li{font-size:12pt;padding:5px;}\n",
       "table.dataframe{font-size:12px;}\n",
       "</style>\n"
      ],
      "text/plain": [
       "<IPython.core.display.HTML object>"
      ]
     },
     "metadata": {},
     "output_type": "display_data"
    }
   ],
   "source": [
    "from IPython.display import display, HTML\n",
    "display(HTML(\"\"\"\n",
    "<style>\n",
    "div.container{width:90% !important;}\n",
    "div.cell.code_cell.rendered{width:100%;}\n",
    "div.input_prompt{padding:0px;}\n",
    "div.CodeMirror {font-family:Consolas; font-size:12pt;}\n",
    "div.text_cell_render.rendered_html{font-size:12pt;}\n",
    "div.output {font-size:12pt; font-weight:bold;}\n",
    "div.input {font-family:Consolas; font-size:12pt;}\n",
    "div.prompt {min-width:70px;}\n",
    "div#toc-wrapper{padding-top:120px;}\n",
    "div.text_cell_render ul li{font-size:12pt;padding:5px;}\n",
    "table.dataframe{font-size:12px;}\n",
    "</style>\n",
    "\"\"\"))\n"
   ]
  },
  {
   "cell_type": "markdown",
   "id": "8d5e5e23",
   "metadata": {},
   "source": [
    "<b><font size= \"6\" color=\"red\">ch02. 자료형과 연산자</font></b>\n",
    "# 5.절 연산자\n",
    "## 5.1 산술 연산자: +,-,*,/(결과 float), //(몫), %(나머지),**(제곱)"
   ]
  },
  {
   "cell_type": "code",
   "execution_count": 14,
   "id": "4fc13bac",
   "metadata": {},
   "outputs": [
    {
     "name": "stdout",
     "output_type": "stream",
     "text": [
      "10*5승 = 100000\n",
      "5/2(결과 실수) =  2.5\n"
     ]
    }
   ],
   "source": [
    "print(\"10*5승 =\", 10 ** 5)\n",
    "print(\"5/2(결과 실수) = \", 5/2)\n",
    "print(\"5//2(몫) =\", 5//2)\n",
    "print(\"5%2(나머지)=\"5%2)"
   ]
  },
  {
   "cell_type": "code",
   "execution_count": 12,
   "id": "751e34c0",
   "metadata": {},
   "outputs": [
    {
     "name": "stdout",
     "output_type": "stream",
     "text": [
      "4**2= 16.0\n"
     ]
    }
   ],
   "source": [
    "# 정수끼리 연산은 결과가 정수(단 / 제외)\n",
    "# 정수와 실수, 실수끼리 연산 결과는 실수\n",
    "print(\"4**2=\",4**2.0)"
   ]
  },
  {
   "cell_type": "code",
   "execution_count": 29,
   "id": "97a4afe6",
   "metadata": {},
   "outputs": [
    {
     "name": "stdout",
     "output_type": "stream",
     "text": [
      "정수를 입력하세요:40\n",
      "입력하신 수는40,2로 나눈 나머지는 0라서 짝수를 입력하셨습니다\n"
     ]
    }
   ],
   "source": [
    "num = int(input(\"정수를 입력하세요:\"))\n",
    "result = num % 2 #-1, 0, 1\n",
    "if result:\n",
    "    temp = \"홀수\"\n",
    "else:\n",
    "    temp = \"짝수\"\n",
    "print(f\"입력하신 수는{num},2로 나눈 나머지는 {result}라서 {temp}를 입력하셨습니다\")"
   ]
  },
  {
   "cell_type": "code",
   "execution_count": 44,
   "id": "1525e8fd",
   "metadata": {},
   "outputs": [
    {
     "name": "stdout",
     "output_type": "stream",
     "text": [
      "정수를 입력하세요:30\n",
      "입력하신 수는 30이고, 5의배수를 입력하셨습니다\n"
     ]
    }
   ],
   "source": [
    "# Quiz2. 정수를 입력받아 5의 배수인지 여부를 출력\n",
    "\n",
    "num1 = int(input(\"정수를 입력하세요:\"))\n",
    "\n",
    "if num1 % 5 == 0:\n",
    "    temp=\"5의배수\"\n",
    "else:\n",
    "    temp=\"5의 배수가 아님\"\n",
    "print(f\"입력하신 수는 {num1}이고, {temp}를 입력하셨습니다\")"
   ]
  },
  {
   "cell_type": "code",
   "execution_count": 35,
   "id": "95acf1b5",
   "metadata": {},
   "outputs": [],
   "source": [
    "# Quiz3. 국, 영, 수 점수를 입력받아 다음셀에서 다음과 같이 출력하도록 구현하시오"
   ]
  },
  {
   "cell_type": "code",
   "execution_count": 42,
   "id": "7441c1c6",
   "metadata": {},
   "outputs": [
    {
     "name": "stdout",
     "output_type": "stream",
     "text": [
      "국어 점수를 입력하시오:99\n",
      "영어 점수를 입력하시오:100\n",
      "수학 점수를 입력하시오:10\n",
      "국어 영어 수학의 총점은 209이고, 평균은 69.7입니다.\n"
     ]
    }
   ],
   "source": [
    "kor = int(input(\"국어 점수를 입력하시오:\"))\n",
    "eng = int(input(\"영어 점수를 입력하시오:\"))\n",
    "math = int(input(\"수학 점수를 입력하시오:\"))\n",
    "result = kor + eng + math\n",
    "avg = result / 3\n",
    "print(f\"국어 영어 수학의 총점은 {result:3d}이고, 평균은{avg:5.1f}입니다.\")"
   ]
  },
  {
   "cell_type": "markdown",
   "id": "e3035a90",
   "metadata": {},
   "source": [
    "## 5.2 할당연산자: =, +=, -=, /=, *=, //=, %= \n"
   ]
  },
  {
   "cell_type": "code",
   "execution_count": 65,
   "id": "90b719b7",
   "metadata": {},
   "outputs": [
    {
     "name": "stdout",
     "output_type": "stream",
     "text": [
      "a = 15\n"
     ]
    }
   ],
   "source": [
    "a= 10\n",
    "a += 5 # a = a+ 5와 동일\n",
    "print(f\"a = {a}\")"
   ]
  },
  {
   "cell_type": "code",
   "execution_count": 66,
   "id": "0740f976",
   "metadata": {},
   "outputs": [
    {
     "name": "stdout",
     "output_type": "stream",
     "text": [
      "a = 10\n",
      "a = 100\n",
      "5나눈 몫:20\n"
     ]
    }
   ],
   "source": [
    "a -= 5 #a = a-5 와 동일\n",
    "print(f\"a = {a}\")\n",
    "a *= 10\n",
    "print(f\"a = {a}\")\n",
    "\n",
    "a //= 5 # a = a// 5\n",
    "print(f\"5나눈 몫:{a}\")"
   ]
  },
  {
   "cell_type": "markdown",
   "id": "ce44c0e4",
   "metadata": {},
   "source": [
    "## 5.3 논리연산자 : &, and, |, or, not\n"
   ]
  },
  {
   "cell_type": "code",
   "execution_count": 68,
   "id": "52ee55f0",
   "metadata": {},
   "outputs": [
    {
     "name": "stdout",
     "output_type": "stream",
     "text": [
      "True\n",
      "0\n",
      "1100\n"
     ]
    }
   ],
   "source": [
    "# & : 논리연산자, 비트연산자\n",
    "print( (10>3) & (10>5)) #논리연산 True & True\n",
    "print(12 & 1) # 비트 연산   #1 1 0 0 (12)\n",
    "                           #0 0 0 1 (1)\n",
    "                        #&: 0 0 0 0 \n",
    "print(\"{:4b}\".format(12))"
   ]
  },
  {
   "cell_type": "code",
   "execution_count": 71,
   "id": "ad717411",
   "metadata": {},
   "outputs": [
    {
     "name": "stdout",
     "output_type": "stream",
     "text": [
      "True\n",
      "0\n"
     ]
    }
   ],
   "source": [
    "# and : 논리 연산자. False로 판별되는 첫번째 항의 결과 반환\n",
    "        # 모든 항이 True면, 마지막 항의 결과 반환\n",
    "print( (10>3) and (10>5))\n",
    "print(0 and 1)"
   ]
  },
  {
   "cell_type": "code",
   "execution_count": 77,
   "id": "bed4b80c",
   "metadata": {},
   "outputs": [
    {
     "name": "stdout",
     "output_type": "stream",
     "text": [
      "논리연산(연산자 안뒤에 논리형일 때):  True\n",
      "비트연산(연산자 앞이나 뒤에 숫자일 때) : 3\n"
     ]
    }
   ],
   "source": [
    "# | : 논리연산, 비트연산\n",
    "result = True | False\n",
    "print(\"논리연산(연산자 안뒤에 논리형일 때): \", result)\n",
    "result = False | 3 # 0000(0)\n",
    "                   # 0011(3)\n",
    "print(\"비트연산(연산자 앞이나 뒤에 숫자일 때) :\", result)"
   ]
  },
  {
   "cell_type": "code",
   "execution_count": 79,
   "id": "081270b4",
   "metadata": {},
   "outputs": [
    {
     "name": "stdout",
     "output_type": "stream",
     "text": [
      "hong\n"
     ]
    }
   ],
   "source": [
    "# or : 논리연산 (참이 하나라도 먼저 나오면 참이 출력된다.)\n",
    "# 모든 항이 거짓이면 마지막 항이 출력된다.\n",
    "print(False or 0 or 'hong' or None or [])"
   ]
  },
  {
   "cell_type": "code",
   "execution_count": 81,
   "id": "4faf0bc3",
   "metadata": {},
   "outputs": [
    {
     "data": {
      "text/plain": [
       "True"
      ]
     },
     "execution_count": 81,
     "metadata": {},
     "output_type": "execute_result"
    }
   ],
   "source": [
    "not 10 > 5"
   ]
  },
  {
   "cell_type": "markdown",
   "id": "bee20196",
   "metadata": {},
   "source": [
    "## 5.4 비교 연산자: >, >=, <, <=, ==, != (다르다)"
   ]
  },
  {
   "cell_type": "code",
   "execution_count": 86,
   "id": "70ef37bd",
   "metadata": {},
   "outputs": [
    {
     "name": "stdout",
     "output_type": "stream",
     "text": [
      "True\n",
      "True\n",
      "True\n"
     ]
    }
   ],
   "source": [
    "# 비교연산자는 이항, 삼항, 사항, ... 다항연산자\n",
    "x = 95\n",
    "print( (90<=x) & (x<=100))\n",
    "print(90 <= x <= 100)\n",
    "print(90 <= x <= 100 > 10)"
   ]
  },
  {
   "cell_type": "code",
   "execution_count": 89,
   "id": "632c9a7d",
   "metadata": {},
   "outputs": [
    {
     "name": "stdout",
     "output_type": "stream",
     "text": [
      "True\n",
      "False\n",
      "False\n"
     ]
    }
   ],
   "source": [
    "# 비교 연산자의 우선순위가 비트연산자(|, &) 의 우선순위보다 낮다\n",
    "print((10>5)& (10>7))# 괄호가 없으면 우선순위가 높은 5 & 10부터 계산함\n",
    "print(10>5 & 10> 7)\n",
    "print(10 > 0 > 7)\n",
    "# 0101(5) & 1010(10)"
   ]
  },
  {
   "cell_type": "code",
   "execution_count": 91,
   "id": "add6341b",
   "metadata": {},
   "outputs": [
    {
     "name": "stdout",
     "output_type": "stream",
     "text": [
      "True\n"
     ]
    }
   ],
   "source": [
    "address = \"목동\"\n",
    "age = 29\n",
    "print( (address==\"목동\") & (age<= 30))"
   ]
  },
  {
   "cell_type": "code",
   "execution_count": 92,
   "id": "f89ead77",
   "metadata": {},
   "outputs": [
    {
     "data": {
      "text/plain": [
       "True"
      ]
     },
     "execution_count": 92,
     "metadata": {},
     "output_type": "execute_result"
    }
   ],
   "source": [
    "\"김길동\" < \"홍길동\""
   ]
  },
  {
   "cell_type": "code",
   "execution_count": 93,
   "id": "ef6fd66a",
   "metadata": {},
   "outputs": [
    {
     "data": {
      "text/plain": [
       "True"
      ]
     },
     "execution_count": 93,
     "metadata": {},
     "output_type": "execute_result"
    }
   ],
   "source": [
    "# 문자는 ASCII코드 순으로 비교할 수 있다 : 특수문자 < 숫자문자 < 대문자 < 소문자(abc)\n",
    "\"scott\" < \"tiger\""
   ]
  },
  {
   "cell_type": "markdown",
   "id": "32149941",
   "metadata": {},
   "source": [
    "## 5.5 비트연산: &, |, ^(XOR), ~(반대)\n",
    "\n",
    "```\n",
    "x   y   x&y   x|y    x^y   ~x\n",
    "------------------------------\n",
    "0   0    0     0      0     1\n",
    "0   1    0     1      1     1\n",
    "1   0    0     1      1     0\n",
    "1   1    1     1      0     0\n",
    "\n",
    "\n",
    "```"
   ]
  },
  {
   "cell_type": "code",
   "execution_count": 10,
   "id": "72e0456d",
   "metadata": {},
   "outputs": [
    {
     "name": "stdout",
     "output_type": "stream",
     "text": [
      "a = 15:1111\n",
      "b =  2:0010\n",
      "a&b =  2:0010\n",
      "a|b = 15:1111\n",
      "a^b = 13:1101\n"
     ]
    }
   ],
   "source": [
    "a = 15 #(1111) 8+4+2+1\n",
    "b = 2 #(0010)\n",
    "\n",
    "print(\"a = {0:2}:{0:04b}\".format(a))\n",
    "print(\"b = {0:2}:{0:04b}\".format(b))\n",
    "print(\"a&b = {0:2}:{0:04b}\".format(a&b))\n",
    "print(\"a|b = {0:2}:{0:04b}\".format(a|b))\n",
    "print(\"a^b = {0:2}:{0:04b}\".format(a^b))\n"
   ]
  },
  {
   "cell_type": "markdown",
   "id": "43213203",
   "metadata": {},
   "source": [
    "# 6절 문자열 다루기\n",
    "- 문자열변수[from:to:step] : 일부 문자 추출\n",
    "- len(문자열 변수): 문자수\n",
    "\n",
    "- upper(): 대문자로 바꿔서 출력\n",
    "- lower(): 소문자로 바꿔서 출력\n",
    "- title(): 각 어절의 앞글자만 대문자로 바꿔서 출력\n",
    "- capitalize(): 첫문자만 대문자로\n",
    "- count(\"찾을 문자\"): \"찾을 문자\"가 몇 개 들어있는지 갯수 반환\n",
    "- find(\"찾을 문자\"): \"찾을 문자\"가 왼쪽부터 몇번째에 있는지 index를 반환 (없으면 -1)\n",
    "- rfind(\"찾을 문자\"): \"찾을문자가 오른쪽부터 몇번째에 있는지 index를 반환 (없으면 -1)\n",
    "- cf. index(\"찾을 문자\"): 찾을문자가 왼쪽부터 몇번째에 있는 index를 반환(없으면 에러)\n",
    "- startswith(\"특정 문자\"): \"특정문자\"로 시작하는지 여부 반환\n",
    "- endswith(\"특정 문자\"): :\"특정문자:로 끝나는 지 여부 반환\n",
    "\n",
    "- strip(): 문자열에 좌우공백제거(trim)\n",
    "- lstrip(): 왼쪽공백제거\n",
    "- rstrip(): 오른쪽 공백 제거\n",
    "- split()**: 문자열을 공백이나 다른 문자 기준으로 나누어 리스트로 반환**\n",
    "- isdigit(): 문자열이 숫자문자열인지 여부반환\n",
    "- islower(): 문자열이 소문자인지 여부 반환\n",
    "- is upper(): 문자열이 대문자인지 여부 반환\n",
    "- replace(oldStr, newStr) : oldStr을 newStr로 변경"
   ]
  },
  {
   "cell_type": "code",
   "execution_count": 25,
   "id": "c9ea05e1",
   "metadata": {},
   "outputs": [
    {
     "data": {
      "text/plain": [
       "('python is easy. python is smart. python', 39)"
      ]
     },
     "execution_count": 25,
     "metadata": {},
     "output_type": "execute_result"
    }
   ],
   "source": [
    "temp = \"python is easy. python is smart. python\"\n",
    "temp, len(temp)"
   ]
  },
  {
   "cell_type": "code",
   "execution_count": 52,
   "id": "aa362292",
   "metadata": {},
   "outputs": [
    {
     "name": "stdout",
     "output_type": "stream",
     "text": [
      "대문자로:  PYTHON IS EASY. PYTHON IS SMART. PYTHON\n",
      "소문자로:  python is easy. python is smart. python\n",
      "title:  Python Is Easy. Python Is Smart. Python\n",
      "capitalize:  Python is easy. python is smart. python\n",
      "python이 몇 번 나오는 지 3\n",
      "대소문자 구분없이 python이 몇번:  3\n",
      "대소문자 구분없이 python이 몇번:  3\n",
      "대소문자 구분없이 python이 몇번:  3\n",
      "C가 몇 번 나오는 지 0\n",
      "python이 나오는 첫 index 위치:  0\n",
      "python이 나오는 마지막 index 위치:  33\n",
      "C라는 문자가 나오는 index위치:  -1\n",
      "python 이 나오는 첫 index위치:  0\n",
      "대소문자 구분없이 python으로 시작하는 여부:  True\n",
      "python으로 끝나는지 여부:  True\n",
      "n으로 끝나는 지 여부:  True\n",
      "python을 R로 변경: R is easy. R is smart. R\n",
      "python is easy. python is smart. python\n"
     ]
    }
   ],
   "source": [
    "temp = \"python is easy. python is smart. python\"\n",
    "    # 012345789012345678901234567890123\n",
    "print(\"대문자로: \", temp.upper())\n",
    "print(\"소문자로: \",temp.lower())\n",
    "print(\"title: \", temp.title())\n",
    "print(\"capitalize: \",temp.capitalize())\n",
    "\n",
    "print(\"python이 몇 번 나오는 지\",temp.count(\"python\"))\n",
    "print(\"대소문자 구분없이 python이 몇번: \",temp.lower().count(\"python\"))\n",
    "print(\"대소문자 구분없이 python이 몇번: \",temp.upper().count(\"PYTHON\"))\n",
    "print(\"대소문자 구분없이 python이 몇번: \",temp.title().count(\"Python\"))\n",
    "print(\"C가 몇 번 나오는 지\",temp.count(\"C\"))\n",
    "print(\"python이 나오는 첫 index 위치: \", temp.find(\"python\"))\n",
    "print(\"python이 나오는 마지막 index 위치: \", temp.rfind(\"python\"))\n",
    "print(\"C라는 문자가 나오는 index위치: \",temp.find(\"C\")) #찾을 문자가 없을 경우 -1\n",
    "print(\"python 이 나오는 첫 index위치: \",temp.index(\"python\"))\n",
    "# print(\"java가 나오는 첫 index위치: \",temp.index(\"java\")) 없는 문자\n",
    "print(\"대소문자 구분없이 python으로 시작하는 여부: \", temp.lower().startswith(\"python\"))\n",
    "print(\"python으로 끝나는지 여부: \", temp.endswith(\"python\"))\n",
    "print(\"n으로 끝나는 지 여부: \",temp.endswith(\"n\"))\n",
    "print(\"python을 R로 변경:\", temp.replace(\"python\",\"R\"))\n",
    "print(temp)"
   ]
  },
  {
   "cell_type": "code",
   "execution_count": 63,
   "id": "e851f579",
   "metadata": {},
   "outputs": [
    {
     "name": "stdout",
     "output_type": "stream",
     "text": [
      "좌우 공백 제거: [python is eay]\n",
      "왼쪽 공백 제거: [python is eay        ]\n",
      "오른쪽 공백 제거: [     python is eay]\n",
      "isdigit(숫자문자)인지 여부:  False\n",
      "replace후 isdigit:  True\n",
      "대소문자 구분 False\n",
      "대소문자 구분 True\n"
     ]
    }
   ],
   "source": [
    "temp = \"     python is eay        \"\n",
    "notdigit = \"1,000\"\n",
    "print(\"좌우 공백 제거: [{}]\".format(temp.strip())) # 좌우 공백 확인은 format함수로 확인\n",
    "print(\"왼쪽 공백 제거: [{}]\".format(temp.lstrip()) )\n",
    "print(\"오른쪽 공백 제거: [{}]\".format(temp.rstrip()))\n",
    "print(\"isdigit(숫자문자)인지 여부: \", notdigit.isdigit())\n",
    "print(\"replace후 isdigit: \", notdigit.replace(\",\",\"\").isdigit())\n",
    "print(\"대소문자 구분\",temp.isupper())\n",
    "print(\"대소문자 구분\",temp.islower())"
   ]
  },
  {
   "cell_type": "code",
   "execution_count": 101,
   "id": "e9706c65",
   "metadata": {},
   "outputs": [
    {
     "name": "stdout",
     "output_type": "stream",
     "text": [
      "space단위로 names분리(list로 반환):  ['홍길동', '김길동', '박길동', '주길동', '고길동']\n",
      "홍길동 김길동\n"
     ]
    }
   ],
   "source": [
    "names = \"홍길동 김길동      박길동 주길동 고길동\"\n",
    "name_list = names.split()\n",
    "print(\"space단위로 names분리(list로 반환): \",names.split())\n",
    "print(name_list[0], name_list[1])\n",
    "#split(): names라는 변수에 저장된 단어를 space단위로 분리해준다 ."
   ]
  },
  {
   "cell_type": "code",
   "execution_count": 74,
   "id": "d2b5f127",
   "metadata": {},
   "outputs": [
    {
     "name": "stdout",
     "output_type": "stream",
     "text": [
      "['2025', '09', '17']\n",
      "년도: 2025\n",
      "월: 09\n",
      "일: 17\n"
     ]
    }
   ],
   "source": [
    "date_str = \"2025-09-17\"\n",
    "\n",
    "date_list = date_str.split(\"-\")\n",
    "print(date_list)\n",
    "print(\"년도:\",date_list[0])\n",
    "print(\"월:\",date_list[1])\n",
    "print(\"일:\",date_list[2])"
   ]
  },
  {
   "cell_type": "code",
   "execution_count": 75,
   "id": "a11a38f9",
   "metadata": {},
   "outputs": [
    {
     "data": {
      "text/plain": [
       "('A', 'B', 'C')"
      ]
     },
     "execution_count": 75,
     "metadata": {},
     "output_type": "execute_result"
    }
   ],
   "source": [
    "#str_ = \"ABC\"\n",
    "str_ = [\"A\",\"B\",\"C\"]\n",
    "str_[0], str_[1], str_[2]"
   ]
  },
  {
   "cell_type": "code",
   "execution_count": 95,
   "id": "655a8333",
   "metadata": {},
   "outputs": [
    {
     "name": "stdout",
     "output_type": "stream",
     "text": [
      "분리된 temp:  ['Python', '웹(HMTL/CSS/JavaScript)', 'Oracle/MySQL(DBMS)', 'DL/ML', 'LLM(RAG) ']\n",
      "join temp: Python/웹(HMTL/CSS/JavaScript)/Oracle/MySQL(DBMS)/DL/ML/LLM(RAG) \n",
      "웹(HMTL/CSS/JavaScript)\n"
     ]
    }
   ],
   "source": [
    "# ' - '을 \" /\"로 바꾸기\n",
    "temp = \"Python - 웹(HMTL/CSS/JavaScript) - Oracle/MySQL(DBMS) - DL/ML - LLM(RAG) \"\n",
    "temp.replace(\" - \", \" / \")\n",
    "#split()와 join() 이용하여 replace역할\n",
    "splited_temp = temp.split(\" - \")\n",
    "print(\"분리된 temp: \",splited_temp)\n",
    "joined_temp = \"/\".join(splited_temp)\n",
    "print(\"join temp:\", joined_temp)# \"/\"로 매개변수 list를 \n",
    "\n",
    "print(splited_temp[1])"
   ]
  },
  {
   "cell_type": "markdown",
   "id": "9054b94c",
   "metadata": {},
   "source": [
    "# 문자열을 다룰 수 있는 함수들 목록\n",
    "dir(str)"
   ]
  },
  {
   "cell_type": "markdown",
   "id": "49ad8ae4",
   "metadata": {},
   "source": [
    "# 7절. 시간, 날짜 다루기"
   ]
  },
  {
   "cell_type": "code",
   "execution_count": 84,
   "id": "103de6cc",
   "metadata": {},
   "outputs": [
    {
     "data": {
      "text/plain": [
       "'C:\\\\Users\\\\Admin\\\\anaconda3\\\\lib\\\\datetime.py'"
      ]
     },
     "execution_count": 84,
     "metadata": {},
     "output_type": "execute_result"
    }
   ],
   "source": [
    "import datetime\n",
    "datetime.__file__"
   ]
  },
  {
   "cell_type": "code",
   "execution_count": 85,
   "id": "70f8f809",
   "metadata": {},
   "outputs": [],
   "source": [
    "# datetime모듈(datetime.py) 안에 datetime, date, time만 load\n",
    "from datetime import datetime, date, time"
   ]
  },
  {
   "cell_type": "markdown",
   "id": "692f448e",
   "metadata": {},
   "source": [
    "## 7.1 시간과 날짜"
   ]
  },
  {
   "cell_type": "code",
   "execution_count": 86,
   "id": "7baa7db1",
   "metadata": {},
   "outputs": [
    {
     "data": {
      "text/plain": [
       "datetime.datetime(2025, 9, 11, 9, 30)"
      ]
     },
     "execution_count": 86,
     "metadata": {},
     "output_type": "execute_result"
    }
   ],
   "source": [
    "# 특정 시점을 갖는 datetime 객체 생성ㅇ\n",
    "thatday = datetime(2025, 9, 11, 9, 30)\n",
    "thatday"
   ]
  },
  {
   "cell_type": "code",
   "execution_count": 89,
   "id": "4570321a",
   "metadata": {},
   "outputs": [
    {
     "name": "stdout",
     "output_type": "stream",
     "text": [
      "25년09월11일(Thursday) 09:30:00\n",
      "25년09월11일(Thursday) 09:30:00\n",
      "Thu Sep 11 09:30:00 2025\n"
     ]
    }
   ],
   "source": [
    "# 날짜를 문자열로 전환\n",
    "print(\"{:%y년%m월%d일(%A) %H:%M:%S}\".format(thatday))\n",
    "print(thatday.strftime(\"%y년%m월%d일(%A) %H:%M:%S\"))\n",
    "print(thatday.ctime())# ctime() : 사람이 읽기 쉬는 형태로 convert"
   ]
  },
  {
   "cell_type": "code",
   "execution_count": 92,
   "id": "11d2bea9",
   "metadata": {},
   "outputs": [
    {
     "name": "stdout",
     "output_type": "stream",
     "text": [
      "2025-09-17 00:00:00\n",
      "Wed Sep 17 00:00:00 2025\n",
      "2025년09월17일 AM 12:00:00\n"
     ]
    }
   ],
   "source": [
    "# 지금을 저장하는 datetime 객체생성\n",
    "now = datetime(2025,9,17,)\n",
    "print(now)\n",
    "print(now.ctime())\n",
    "print(now.strftime(\"%Y년%m월%d일 %p %I:%M:%S\"))"
   ]
  },
  {
   "cell_type": "code",
   "execution_count": null,
   "id": "bcf902d4",
   "metadata": {},
   "outputs": [],
   "source": [
    "diff = now-thatday\n",
    "print(diff)\n",
    "print(diff.days)"
   ]
  },
  {
   "cell_type": "markdown",
   "id": "f94d86ed",
   "metadata": {},
   "source": [
    "## 7.2날짜"
   ]
  },
  {
   "cell_type": "code",
   "execution_count": 97,
   "id": "a1065bba",
   "metadata": {},
   "outputs": [
    {
     "data": {
      "text/plain": [
       "datetime.date(2025, 9, 11)"
      ]
     },
     "execution_count": 97,
     "metadata": {},
     "output_type": "execute_result"
    }
   ],
   "source": [
    "# 특정한 날짜를 갖는 date객체 생성\n",
    "someday = date(2025,9,11) #데이트는 항상 년, 월, 일 만 저장가능\n",
    "someday"
   ]
  },
  {
   "cell_type": "code",
   "execution_count": 99,
   "id": "d0f0494f",
   "metadata": {},
   "outputs": [
    {
     "name": "stdout",
     "output_type": "stream",
     "text": [
      "2025-09-11\n",
      "2025년 09월 11일 00:00\n"
     ]
    }
   ],
   "source": [
    "print(someday)\n",
    "print(someday.strftime(\"%Y년 %m월 %d일 %H:%M\"))"
   ]
  },
  {
   "cell_type": "code",
   "execution_count": 103,
   "id": "2ec9d973",
   "metadata": {},
   "outputs": [
    {
     "name": "stdout",
     "output_type": "stream",
     "text": [
      "True\n"
     ]
    }
   ],
   "source": [
    "# 오늘을 갖는 date객체생성t\n",
    "today1 = date.today() \n",
    "today2 = datetime.now().date()\n",
    "print(today1 == today2)"
   ]
  },
  {
   "cell_type": "code",
   "execution_count": 105,
   "id": "c49123cf",
   "metadata": {},
   "outputs": [
    {
     "name": "stdout",
     "output_type": "stream",
     "text": [
      "2025년09월17일 00:00\n",
      "2025년09월17일 00:00\n"
     ]
    }
   ],
   "source": [
    "print(today1.strftime(\"%Y년%m월%d일 %H:%M\"))\n",
    "print(today2.strftime(\"%Y년%m월%d일 %H:%M\"))"
   ]
  },
  {
   "cell_type": "code",
   "execution_count": 110,
   "id": "325c6fac",
   "metadata": {},
   "outputs": [
    {
     "name": "stdout",
     "output_type": "stream",
     "text": [
      "-6 days, 0:00:00\n",
      "-6\n"
     ]
    }
   ],
   "source": [
    "diff = someday - today1\n",
    "print(diff)\n",
    "print(diff.days)"
   ]
  },
  {
   "cell_type": "markdown",
   "id": "dd4de9c0",
   "metadata": {},
   "source": [
    "## 7.3 시간"
   ]
  },
  {
   "cell_type": "code",
   "execution_count": 114,
   "id": "196ae57a",
   "metadata": {},
   "outputs": [
    {
     "data": {
      "text/plain": [
       "datetime.time(14, 39)"
      ]
     },
     "execution_count": 114,
     "metadata": {},
     "output_type": "execute_result"
    }
   ],
   "source": [
    "# 특정한 시가을 저장하는 time객체 생성\n",
    "t = time(14,39,0) #시간만 저장할 수 있다\n",
    "t"
   ]
  },
  {
   "cell_type": "code",
   "execution_count": 117,
   "id": "65cf258e",
   "metadata": {},
   "outputs": [
    {
     "name": "stdout",
     "output_type": "stream",
     "text": [
      "PM 02:39\n"
     ]
    }
   ],
   "source": [
    "#print(t.strftime(\"%Y년%m월%d일 %p %I:%M\"))\n",
    "print(t.strftime(\"%p %I:%M\"))"
   ]
  },
  {
   "cell_type": "code",
   "execution_count": 118,
   "id": "296d6701",
   "metadata": {},
   "outputs": [
    {
     "name": "stdout",
     "output_type": "stream",
     "text": [
      "14:43:43.278204\n"
     ]
    }
   ],
   "source": [
    "# 현재 시간\n",
    "nowtime = datetime.now().time()\n",
    "print(nowtime)"
   ]
  },
  {
   "cell_type": "markdown",
   "id": "7e8a6d99",
   "metadata": {},
   "source": [
    "# 8절. 연습문제 "
   ]
  },
  {
   "cell_type": "code",
   "execution_count": 124,
   "id": "85ea7843",
   "metadata": {},
   "outputs": [
    {
     "name": "stdout",
     "output_type": "stream",
     "text": [
      "홍길동님의 나이는 23입니다\n"
     ]
    }
   ],
   "source": [
    "# Quiz1. 출력형식: 홍길동님의 나이는 23살입니다.\n",
    "name = \"홍길동\"\n",
    "age = 23\n",
    "print(f\"{name}님의 나이는 {age}입니다\")"
   ]
  },
  {
   "cell_type": "code",
   "execution_count": 123,
   "id": "588419d7",
   "metadata": {},
   "outputs": [
    {
     "name": "stdout",
     "output_type": "stream",
     "text": [
      "첫 번째 숫자: 20\n",
      "두 번째 숫자: 20\n",
      "num1 + num2= : 40\n",
      "num1 - num2= : 0\n",
      "num1 * num2= : 400\n",
      "num1 / num2= : 1.0\n",
      "num1 // num2=  1\n",
      "num1 % num2=  0\n"
     ]
    }
   ],
   "source": [
    "# Quiz2. 정수입력받아 산술연산결과 출력\n",
    "num1 = int(input(\"첫 번째 숫자: \"))\n",
    "num2 = int(input(\"두 번째 숫자: \"))\n",
    "\n",
    "print(\"num1 + num2= :\",(num1+ num2))\n",
    "print(\"num1 - num2= :\",(num1 - num2))\n",
    "print(\"num1 * num2= :\",(num1 * num2))\n",
    "print(\"num1 / num2= :\",(num1 / num2))\n",
    "print(\"num1 // num2= \",(num1//num2))\n",
    "print(\"num1 % num2= \",(num1%num2))"
   ]
  },
  {
   "cell_type": "code",
   "execution_count": 100,
   "id": "199bb22c",
   "metadata": {},
   "outputs": [
    {
     "name": "stdout",
     "output_type": "stream",
     "text": [
      "World Hello\n"
     ]
    }
   ],
   "source": [
    "# Quiz3. \n",
    "message = \"Hello World\"\n",
    "message.split(\" \")\n",
    "splited_temp = message.split(\" \")\n",
    "print(splited_temp[1],splited_temp[0])\n"
   ]
  },
  {
   "cell_type": "code",
   "execution_count": 106,
   "id": "7341d540",
   "metadata": {},
   "outputs": [
    {
     "data": {
      "text/plain": [
       "'bcdefa'"
      ]
     },
     "execution_count": 106,
     "metadata": {},
     "output_type": "execute_result"
    }
   ],
   "source": [
    "# Quiz4.\n",
    "x = \"abcdef\"\n",
    "\n",
    "x [1:] + x[:1]\n",
    "#해설: x변수에 첫 번째 글자부터 마지막글자까지 출력하고 + 를하여 0부터 1 앞 까지의 단어를 출력한다 "
   ]
  },
  {
   "cell_type": "code",
   "execution_count": 116,
   "id": "dcb00cb3",
   "metadata": {},
   "outputs": [
    {
     "data": {
      "text/plain": [
       "'fedcba'"
      ]
     },
     "execution_count": 116,
     "metadata": {},
     "output_type": "execute_result"
    }
   ],
   "source": [
    "# Quiz5.\n",
    "x = \"abcdef\"\n",
    "x [-1::-1]\n",
    "#해설: 처음부터 끝까지 출력하지만 역순으로 출력한다\n",
    "#[from에서:to까지:증감]\n",
    "#abcdef\n",
    "#123456\n",
    "#-6-5-4-3-2-1"
   ]
  },
  {
   "cell_type": "code",
   "execution_count": 151,
   "id": "f5d5841a",
   "metadata": {},
   "outputs": [
    {
     "name": "stdout",
     "output_type": "stream",
     "text": [
      "섭씨 온도를 입력하세요: 3\n",
      "화씨: 37.40\n"
     ]
    }
   ],
   "source": [
    "# 1. 섭씨 입력\n",
    "celsius = float(input(\"섭씨 온도를 입력하세요: \"))\n",
    "\n",
    "# 2. 화씨 변환\n",
    "fahrenheit = (celsius * 1.8) + 32\n",
    "\n",
    "# 3. 화씨 출력 처리\n",
    "if fahrenheit % 1 == 0:  # 소수점이 없으면\n",
    "    print(f\"화씨: {int(fahrenheit)}\")\n",
    "else:                    # 소수점이 있으면 둘째 자리까지\n",
    "    print(f\"화씨: {fahrenheit:.2f}\")\n"
   ]
  },
  {
   "cell_type": "code",
   "execution_count": 149,
   "id": "0db379a4",
   "metadata": {},
   "outputs": [],
   "source": [
    "# Quiz7.\n",
    "# 다음 중 변수 선언으로 잘못된 것을 모두 고르시오\n",
    "# 1)for, 2)10th, 3)Student.name 4)_1234\n",
    "# 답: 1, 2, 3\n",
    "# 해설: 1)for은 반복문과 겹침 2)10th숫자시작은 안됨 3)Student.name 특수문자_빼고 안됨  "
   ]
  },
  {
   "cell_type": "code",
   "execution_count": null,
   "id": "6085fded",
   "metadata": {},
   "outputs": [],
   "source": [
    "##### Quiz8.\n",
    "text = \"seoul A001 - programming with python\"\n",
    "print(text[:4]+text[-1]+text.split()[0]) # 맨 앞자리에서 문자4자리 출력 맨 마지막 문자 출력 공백기준 맨 앞자리 단어 출력\n",
    "print(text[:4],text[-1],text.split()[0]) # 위와 똑같지만 각자 따로 출력\n",
    "\n",
    "#해설: (텍스트에서 0번째에서 4째까지 출력 +(같이출력) 마지막단어(python) split에 공백아면 맨 앞자리 단어가출력 (seoul))\n"
   ]
  },
  {
   "cell_type": "code",
   "execution_count": 51,
   "id": "da094b2b",
   "metadata": {},
   "outputs": [],
   "source": [
    "#Quiz9.\n",
    "#파이썬 연산식과 그결과가 출력이 잘못된 것\n",
    "#정답: 2번\n",
    "\n",
    "#해설: 8//2는 몫 연산자이므로 답은 4\n",
    "#해설: 8/2는 소수점이 생긴다\n",
    "#해설: 8**2는 제곱연산식이다 8 * 8와 같다"
   ]
  },
  {
   "cell_type": "code",
   "execution_count": 68,
   "id": "cf81904b",
   "metadata": {},
   "outputs": [],
   "source": [
    "#Quiz10.\n",
    "# 정답: 둘의 타입이 달라서 실행되지 않는다\n",
    "\n",
    "# x= 5 int type\n",
    "# y= \"John\"은 String"
   ]
  },
  {
   "cell_type": "code",
   "execution_count": 103,
   "id": "aa784d78",
   "metadata": {},
   "outputs": [
    {
     "name": "stdout",
     "output_type": "stream",
     "text": [
      "나라\n"
     ]
    }
   ],
   "source": [
    "#Quiz11\n",
    "str_=\"우리 나라 대한 민국\"\n",
    "str_list = str_.split()\n",
    "print(str_list[1])\n",
    "# split(): space기준 분리해서 str_list에 저장하고 list[1]을 출력한다"
   ]
  },
  {
   "cell_type": "code",
   "execution_count": null,
   "id": "4625cb33",
   "metadata": {},
   "outputs": [],
   "source": []
  },
  {
   "cell_type": "code",
   "execution_count": null,
   "id": "bc374f7c",
   "metadata": {},
   "outputs": [],
   "source": []
  }
 ],
 "metadata": {
  "kernelspec": {
   "display_name": "Python 3 (ipykernel)",
   "language": "python",
   "name": "python3"
  },
  "language_info": {
   "codemirror_mode": {
    "name": "ipython",
    "version": 3
   },
   "file_extension": ".py",
   "mimetype": "text/x-python",
   "name": "python",
   "nbconvert_exporter": "python",
   "pygments_lexer": "ipython3",
   "version": "3.10.9"
  },
  "toc": {
   "base_numbering": 1,
   "nav_menu": {},
   "number_sections": false,
   "sideBar": true,
   "skip_h1_title": false,
   "title_cell": "Table of Contents",
   "title_sidebar": "Contents",
   "toc_cell": false,
   "toc_position": {
    "height": "calc(100% - 180px)",
    "left": "10px",
    "top": "150px",
    "width": "236.25px"
   },
   "toc_section_display": true,
   "toc_window_display": true
  }
 },
 "nbformat": 4,
 "nbformat_minor": 5
}
