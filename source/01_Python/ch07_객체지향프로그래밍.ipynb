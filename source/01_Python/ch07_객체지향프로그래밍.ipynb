{
 "cells": [
  {
   "cell_type": "code",
   "execution_count": 2,
   "id": "41cce309",
   "metadata": {},
   "outputs": [
    {
     "data": {
      "text/html": [
       "\n",
       "<style>\n",
       "div.container{width:90% !important;}\n",
       "div.cell.code_cell.rendered{width:100%;}\n",
       "div.input_prompt{padding:0px;}\n",
       "div.CodeMirror {font-family:Consolas; font-size:12pt;}\n",
       "div.text_cell_render.rendered_html{font-size:12pt;}\n",
       "div.output {font-size:12pt; font-weight:bold;}\n",
       "div.input {font-family:Consolas; font-size:12pt;}\n",
       "div.prompt {min-width:70px;}\n",
       "div#toc-wrapper{padding-top:120px;}\n",
       "div.text_cell_render ul li{font-size:12pt;padding:5px;}\n",
       "table.dataframe{font-size:12px;}\n",
       "</style>\n"
      ],
      "text/plain": [
       "<IPython.core.display.HTML object>"
      ]
     },
     "metadata": {},
     "output_type": "display_data"
    }
   ],
   "source": [
    "from IPython.display import display, HTML\n",
    "display(HTML(\"\"\"\n",
    "<style>\n",
    "div.container{width:90% !important;}\n",
    "div.cell.code_cell.rendered{width:100%;}\n",
    "div.input_prompt{padding:0px;}\n",
    "div.CodeMirror {font-family:Consolas; font-size:12pt;}\n",
    "div.text_cell_render.rendered_html{font-size:12pt;}\n",
    "div.output {font-size:12pt; font-weight:bold;}\n",
    "div.input {font-family:Consolas; font-size:12pt;}\n",
    "div.prompt {min-width:70px;}\n",
    "div#toc-wrapper{padding-top:120px;}\n",
    "div.text_cell_render ul li{font-size:12pt;padding:5px;}\n",
    "table.dataframe{font-size:12px;}\n",
    "</style>\n",
    "\"\"\"))\n"
   ]
  },
  {
   "cell_type": "markdown",
   "id": "e93c8cc6",
   "metadata": {},
   "source": [
    "<b><font size ='6' color = 'purple'>ch07객체지향 프로그래밍</font></b>\n"
   ]
  },
  {
   "cell_type": "code",
   "execution_count": 10,
   "id": "add087b0",
   "metadata": {},
   "outputs": [
    {
     "name": "stdout",
     "output_type": "stream",
     "text": [
      "홍길동 남자\n",
      "{'name': '홍낄뚱', 'gender': '남자', 'academy': 'MBC'}\n",
      "{'name': '김길숙', 'gender': '여자', 'academy': 'MBC'}\n"
     ]
    }
   ],
   "source": [
    "person1 = {'name':'홍길동', 'gender':'남자', 'academy':'MBC'}\n",
    "person2 = {'name':'김길숙', 'gender':'여자', 'academy':'MBC'}\n",
    "print(person1['name'],person1['gender'])\n",
    "person1['name'] = \"홍낄뚱\"    #b=수정\n",
    "print(person1)\n",
    "print(person2)\n",
    "# person1.myfunction()"
   ]
  },
  {
   "cell_type": "code",
   "execution_count": 14,
   "id": "d6d0c268",
   "metadata": {},
   "outputs": [
    {
     "name": "stdout",
     "output_type": "stream",
     "text": [
      "MBC의 김길숙님은 여자입니다\n",
      "MBC의 홍길동님은 남자 입니다\n",
      "MBC의 홍홍홍님은 여자입니다\n"
     ]
    }
   ],
   "source": [
    "class Person:\n",
    "    academy = 'MBC' # 클래스 변수\n",
    "    def __init__(self, name, gender): #self 반드시 넣어야한다\n",
    "        self.name = name\n",
    "        self.gender = gender\n",
    "    def print_info(self):\n",
    "        print(f\"{self.academy}의 {self.name}님은 {self.gender}입니다\")\n",
    "p1 = Person(\"김길숙\",\"여자\") # 객체변수(인스턴스) 생성\n",
    "p1.print_info()\n",
    "p2 = Person(\"홍길동\",\"남자 \")\n",
    "p2.print_info()\n",
    "p1.name = \"홍홍홍\"\n",
    "p1.print_info()"
   ]
  },
  {
   "cell_type": "code",
   "execution_count": 16,
   "id": "20f4d0fb",
   "metadata": {},
   "outputs": [
    {
     "name": "stdout",
     "output_type": "stream",
     "text": [
      "sbs의 홍길동님은 남자 입니다\n"
     ]
    }
   ],
   "source": [
    "p2.academy = \"sbs\"\n",
    "p2.print_info()"
   ]
  },
  {
   "cell_type": "markdown",
   "id": "d2492d25",
   "metadata": {},
   "source": [
    "# 1절 객체와 클래스\n",
    "```\n",
    "class 클래스명(상속받을 클래스 명):\n",
    "    \"독스트링\"\n",
    "    변수나 함수들을 선언 \n",
    "```\n"
   ]
  },
  {
   "cell_type": "code",
   "execution_count": 17,
   "id": "644abdf8",
   "metadata": {},
   "outputs": [],
   "source": [
    "class Person:\n",
    "    \"Person클래스는 어쩌구 저쩌구 여러줄 설명하는 독스트링\"\n",
    "    pass\n",
    "#     def __init__(self):\n",
    "#         pass\n",
    "    \n",
    "p1 = Person()"
   ]
  },
  {
   "cell_type": "code",
   "execution_count": 19,
   "id": "c7276649",
   "metadata": {},
   "outputs": [
    {
     "name": "stdout",
     "output_type": "stream",
     "text": [
      "<__main__.Person object at 0x000002B516657A60>\n",
      "<__main__.Person object at 0x000002B516657A60>\n"
     ]
    }
   ],
   "source": [
    "print(p1)\n",
    "print(p1.__str__())"
   ]
  },
  {
   "cell_type": "code",
   "execution_count": 21,
   "id": "a741c1ed",
   "metadata": {},
   "outputs": [
    {
     "data": {
      "text/plain": [
       "True"
      ]
     },
     "execution_count": 21,
     "metadata": {},
     "output_type": "execute_result"
    }
   ],
   "source": [
    "isinstance(p1,Person)"
   ]
  },
  {
   "cell_type": "code",
   "execution_count": 20,
   "id": "e179cc33",
   "metadata": {},
   "outputs": [
    {
     "data": {
      "text/plain": [
       "'Person클래스는 어쩌구 저쩌구 여러줄 설명하는 독스트링'"
      ]
     },
     "execution_count": 20,
     "metadata": {},
     "output_type": "execute_result"
    }
   ],
   "source": [
    "p1.__doc__"
   ]
  },
  {
   "cell_type": "markdown",
   "id": "04a01ddb",
   "metadata": {},
   "source": [
    "# 2절 생성자(`__init__()`)와 소멸자(`__del__()`)\n",
    "- 생성자: __init__(self, [매개변수1,매개변수2..]) 객체가 생성될 때 자동 실행\n",
    "        객체 생성시 필요한 코드(인스턴트, 변수 생성과 초기화)를 포함한다.\n",
    "- 소멸자: __del__(self) - 객체가 소멸될 때 자동 실행\n",
    "        객체 소멸시 필요한 코드를 포함\n",
    "        인스턴스(객체)의 래퍼런스 카운트가 0이될 때 실행"
   ]
  },
  {
   "cell_type": "code",
   "execution_count": 28,
   "id": "716169c6",
   "metadata": {},
   "outputs": [],
   "source": [
    "class Person:\n",
    "    def __init__(self, name, gender):\n",
    "        self.name = name # 인스턴스 변수를 초기화\n",
    "        self.gender = gender\n",
    "        print(\"person형 객체를 생성\")\n",
    "        \n",
    "    def __del__(self):\n",
    "        print(\"Person형 객체 소멸\")\n",
    "    def print_info(self):\n",
    "        print(f\"{self.name}님은{self.gender}입니다\")\n",
    "    def __str__(self):      # 오버라이딩 (함수의 재정의)\n",
    "        return f\"{self.name}님은{self.gender}입니다\"**"
   ]
  },
  {
   "cell_type": "code",
   "execution_count": 31,
   "id": "41a6773c",
   "metadata": {},
   "outputs": [
    {
     "name": "stdout",
     "output_type": "stream",
     "text": [
      "person형 객체를 생성\n",
      "Person형 객체 소멸\n"
     ]
    }
   ],
   "source": [
    "p1 = Person(\"신사임당\",\"여자\")"
   ]
  },
  {
   "cell_type": "code",
   "execution_count": 32,
   "id": "d03671aa",
   "metadata": {},
   "outputs": [
    {
     "name": "stdout",
     "output_type": "stream",
     "text": [
      "신사임당님은여자입니다\n"
     ]
    }
   ],
   "source": [
    "# p1.name\n",
    "# p1.print_info()\n",
    "# print(p1)\n",
    "print(p1.__str__())"
   ]
  },
  {
   "cell_type": "code",
   "execution_count": 33,
   "id": "7ef048b7",
   "metadata": {},
   "outputs": [
    {
     "data": {
      "text/plain": [
       "(__main__.Person, True)"
      ]
     },
     "execution_count": 33,
     "metadata": {},
     "output_type": "execute_result"
    }
   ],
   "source": [
    "type(p1), isinstance(p1, Person)"
   ]
  },
  {
   "cell_type": "code",
   "execution_count": 34,
   "id": "af0e20c2",
   "metadata": {},
   "outputs": [
    {
     "name": "stdout",
     "output_type": "stream",
     "text": [
      "Person형 객체 소멸\n"
     ]
    }
   ],
   "source": [
    "del p1"
   ]
  },
  {
   "cell_type": "code",
   "execution_count": 37,
   "id": "af1ff385",
   "metadata": {},
   "outputs": [
    {
     "name": "stdout",
     "output_type": "stream",
     "text": [
      "person형 객체를 생성\n",
      "Person형 객체 소멸\n"
     ]
    }
   ],
   "source": [
    "p2 = Person(\"홍길동\",\"남자\")"
   ]
  },
  {
   "cell_type": "markdown",
   "id": "298b9d95",
   "metadata": {},
   "source": [
    "- **오버라이딩** (함수의 재정의)\n",
    "- 파이썬은 **오버로딩** (함수의 중복정의)불가\n",
    "- 생성자함수 **오버로딩**불가"
   ]
  },
  {
   "cell_type": "code",
   "execution_count": 62,
   "id": "16a933e8",
   "metadata": {},
   "outputs": [],
   "source": [
    "class Person:\n",
    "    # 생성자함수의 오버로딩 불가. 대신 기본값을 갖는 매개변수 이용\n",
    "    def __init__(self, name=\"홍길동\", gender=\"남자\"):\n",
    "        self.name = name # 인스턴스 변수를 초기화\n",
    "        self.gender = gender\n",
    "        print(\"person형 객체를 생성\")\n",
    "        \n",
    "#     def __del__(self):\n",
    "#         print(\"Person형 객체 소멸\")\n",
    "    def print_info(self):\n",
    "        print(f\"{self.name}님은{self.gender}입니다\")\n",
    "    def __str__(self):      # 오버라이딩 (함수의 재정의)\n",
    "        return f\"{self.name}님은{self.gender}입니다\""
   ]
  },
  {
   "cell_type": "code",
   "execution_count": 66,
   "id": "90b32115",
   "metadata": {},
   "outputs": [
    {
     "name": "stdout",
     "output_type": "stream",
     "text": [
      "person형 객체를 생성\n",
      "person형 객체를 생성\n",
      "person형 객체를 생성\n",
      "person형 객체를 생성\n",
      "p1= 김길수님은여자입니다\n",
      "p2= 강감찬님은남자입니다\n",
      "p3= 홍길동님은남자입니다\n",
      "p4 홍이쁨님은여자입니다\n"
     ]
    }
   ],
   "source": [
    "p1 = Person(\"김길수\",\"여자\")\n",
    "p2 = Person(\"강감찬\")\n",
    "p3 = Person()\n",
    "p4 = Person(gender=\"여자\",name=\"홍이쁨\")\n",
    "print(\"p1=\",p1)\n",
    "print(\"p2=\",p2)\n",
    "print(\"p3=\",p3)\n",
    "print(\"p4\",p4)"
   ]
  },
  {
   "cell_type": "markdown",
   "id": "999a75a4",
   "metadata": {},
   "source": [
    "# 3절 변수와 메소드(함수)\n",
    "- 인스턴스 변수 vs 클래스 변수 vs static변수(정적변수)\n",
    "- 인스턴스메소드(self) vs 클래스메소드(cls) vs static메소드()"
   ]
  },
  {
   "cell_type": "code",
   "execution_count": 84,
   "id": "25e050ea",
   "metadata": {},
   "outputs": [
    {
     "name": "stdout",
     "output_type": "stream",
     "text": [
      "MBC\n",
      "p1객체변수(인스턴스)= MBC의 홍길동님은 남자입니다\n",
      "p2객체변수(인스턴스)= MBC의 홍길동님은 남자입니다\n",
      "p1객체변수(인스턴스)= 다른데의 홍길동님은 남자입니다\n",
      "p2객체변수(인스턴스)= 다른데의 홍길동님은 남자입니다\n"
     ]
    }
   ],
   "source": [
    "# 클래스 변수는 클래스 내부에 선언되며, 생성된 모든 인스턴스(객체)에 동일한 값을 가진다\n",
    "# 인스턴스(객체). 클래스변수로 수정하면 해당 인스턴스(객체)만 반영\n",
    "# 클래스명.클래스변수로 수정하면 모든 인스턴스에 반영\n",
    "class Person:\n",
    "    academy = 'MBC' # 클래스 변수\n",
    "    def __init__(self, name=\"홍길동\", gender=\"남자\"): #self 반드시 넣어야한다\n",
    "        self.name = name\n",
    "        self.gender = gender\n",
    "    def __str__(self):\n",
    "        return f\"{self.academy}의 {self.name}님은 {self.gender}입니다\"\n",
    "print(Person.academy)\n",
    "p1 = Person()\n",
    "p2 = Person()\n",
    "print('p1객체변수(인스턴스)=',p1)\n",
    "print('p2객체변수(인스턴스)=',p2)\n",
    "p1.academy =\"SBS\"    # 인스턴스(객체). 클래스변수로 수정하면 해당 인스턴스(객체)만 반영\n",
    "Person.academy = \"다른데\"\n",
    "print('p1객체변수(인스턴스)=',p1)\n",
    "print('p2객체변수(인스턴스)=',p2)"
   ]
  },
  {
   "cell_type": "markdown",
   "id": "66a228dc",
   "metadata": {},
   "source": [
    "※ 인스턴스 메소드 vs 클래스 메소드 vs static메소드\n",
    "- 인스턴스메소드: 첫번쨰 인자에 self를 꼭 명시. 객체를 통해서만 호출할 수 있는 메소드\n",
    "- 클래스메소드: 메소드 위에 @classmethod를 명시. 첫번째 인자에 clz(cls)를 명시\n",
    "- static메소드: 메소드위에 @staticmethod를 명시 디폴트 인자 없음"
   ]
  },
  {
   "cell_type": "code",
   "execution_count": 100,
   "id": "cbfcfa9e",
   "metadata": {},
   "outputs": [],
   "source": [
    "class Person:\n",
    "    academy = \"MBC\" #클래스변수\n",
    "    def __init__(self,name=\"홍길동\", gender=\"남자\"):\n",
    "        self.name= name\n",
    "        self.gender= gender\n",
    "    def print_info(self): # 인스턴스메소드 : 객체변수.print_info()로 호출\n",
    "        print(f\"일반(인스턴스)메소드 - {self.academy}의{self.name}님은{self.gender}입니다\")\n",
    "    def change_info(self, name=\"익명\", gender=\"여자\"):\n",
    "        self.name =name\n",
    "        self.gender = gender\n",
    "        print(f\"일반(인스턴스)메소드를 통해 {self.name}로 이름변경{self.gender}로 성별변경\")\n",
    "    @classmethod\n",
    "    def do_(clz): #clz = Person의미 클래스 변수를 이용한 로직\n",
    "        clz.academy = 'classAcademy'\n",
    "        print(f\"클래스 메소드에서 {clz.academy}로 클래스 변수 변경\")\n",
    "    @classmethod\n",
    "    def done_(clz,academy): #clz = Person의미 클래스 변수를 이용한 로직\n",
    "        clz.academy = academy\n",
    "        print(f\"클래스 메소드에서 {clz.academy}로 클래스 변수 변경\")\n",
    "    @staticmethod\n",
    "    def that_(): #클래스 변수보다는 로직이 우선일 경우\n",
    "        Person.academy = \"staticAcademy\"\n",
    "        print(f\"static 메소드에서 {Person.academy}로 클래스 변수 변경\")\n",
    "        "
   ]
  },
  {
   "cell_type": "code",
   "execution_count": 101,
   "id": "66342948",
   "metadata": {},
   "outputs": [
    {
     "name": "stdout",
     "output_type": "stream",
     "text": [
      "일반(인스턴스)메소드 - MBC의홍길동님은남자입니다\n"
     ]
    }
   ],
   "source": [
    "p1 = Person()\n",
    "p1.print_info()"
   ]
  },
  {
   "cell_type": "code",
   "execution_count": 103,
   "id": "249e8261",
   "metadata": {},
   "outputs": [
    {
     "name": "stdout",
     "output_type": "stream",
     "text": [
      "static 메소드에서 staticAcademy로 클래스 변수 변경\n"
     ]
    }
   ],
   "source": [
    "Person.that_()"
   ]
  },
  {
   "cell_type": "code",
   "execution_count": 105,
   "id": "9baa83a0",
   "metadata": {},
   "outputs": [
    {
     "name": "stdout",
     "output_type": "stream",
     "text": [
      "일반(인스턴스)메소드 - staticAcademy의홍길동님은남자입니다\n"
     ]
    }
   ],
   "source": [
    "p1.print_info()"
   ]
  },
  {
   "cell_type": "code",
   "execution_count": 106,
   "id": "c4c953ed",
   "metadata": {},
   "outputs": [
    {
     "name": "stdout",
     "output_type": "stream",
     "text": [
      "일반(인스턴스)메소드를 통해 익명로 이름변경여자로 성별변경\n",
      "일반(인스턴스)메소드 - staticAcademy의익명님은여자입니다\n"
     ]
    }
   ],
   "source": [
    "p1.change_info()\n",
    "p1.print_info()"
   ]
  },
  {
   "cell_type": "code",
   "execution_count": 107,
   "id": "f71c2f92",
   "metadata": {},
   "outputs": [
    {
     "name": "stdout",
     "output_type": "stream",
     "text": [
      "일반(인스턴스)메소드 - staticAcademy의홍길동님은남자입니다\n"
     ]
    }
   ],
   "source": [
    "p2= Person()\n",
    "p2.print_info()"
   ]
  },
  {
   "cell_type": "code",
   "execution_count": 109,
   "id": "fa00f730",
   "metadata": {},
   "outputs": [
    {
     "name": "stdout",
     "output_type": "stream",
     "text": [
      "클래스 메소드에서 classAcademy로 클래스 변수 변경\n",
      "일반(인스턴스)메소드 - classAcademy의익명님은여자입니다\n",
      "일반(인스턴스)메소드 - classAcademy의홍길동님은남자입니다\n"
     ]
    }
   ],
   "source": [
    "Person.do_()\n",
    "p1.print_info()\n",
    "p2.print_info()"
   ]
  },
  {
   "cell_type": "code",
   "execution_count": 110,
   "id": "59d916db",
   "metadata": {},
   "outputs": [
    {
     "name": "stdout",
     "output_type": "stream",
     "text": [
      "클래스 메소드에서 SBS로 클래스 변수 변경\n",
      "일반(인스턴스)메소드 - SBS의익명님은여자입니다\n",
      "일반(인스턴스)메소드 - SBS의홍길동님은남자입니다\n"
     ]
    }
   ],
   "source": [
    "Person.done_(\"SBS\")\n",
    "p1.print_info()\n",
    "p2.print_info()"
   ]
  },
  {
   "cell_type": "markdown",
   "id": "0ff7f0dd",
   "metadata": {},
   "source": [
    "# 4절 상속과 재정의\n",
    "- 클래스 재사용\n",
    "- 상속을 이용하면 부모클래스의 모든 속성을 자식클래스로 물려줄 수 있음\n",
    "class 자식클래스명(부모클래스명):\n",
    "    ~~~~"
   ]
  },
  {
   "cell_type": "code",
   "execution_count": 11,
   "id": "015b4891",
   "metadata": {},
   "outputs": [],
   "source": [
    "class Person:\n",
    "    def __init__(self, name, gender):\n",
    "        self.name = name # 인스턴스 변수를 초기화\n",
    "        self.gender = gender\n",
    "        print(\"Person객체 생성합니다(부모클래스)\")\n",
    "                \n",
    "    def print_info(self):\n",
    "        print(self)\n",
    "        \n",
    "    def __str__(self):      # 오버라이딩 (함수의 재정의)\n",
    "        return f\"{self.name}님은{self.gender}입니다\""
   ]
  },
  {
   "cell_type": "code",
   "execution_count": 17,
   "id": "a0b17eb5",
   "metadata": {},
   "outputs": [],
   "source": [
    "class Student(Person):\n",
    "    def __init__(self,name,gender,major):\n",
    "        self.name = name\n",
    "        self.gender = gender\n",
    "        self.major = major\n",
    "    # 재정의(override): 부모클래스에서 정의한 함수를 자식클래스에서 다시 정의 \n",
    "    def __str__(self):\n",
    "        return f\"{self.name}님의{self.gender}의 전공은{self.major}입니다\""
   ]
  },
  {
   "cell_type": "code",
   "execution_count": 18,
   "id": "446cbaaf",
   "metadata": {},
   "outputs": [
    {
     "name": "stdout",
     "output_type": "stream",
     "text": [
      "Person객체 생성합니다(부모클래스)\n",
      "홍길동님은남자입니다\n",
      "True\n"
     ]
    }
   ],
   "source": [
    "p1 = Person(\"홍길동\",\"남자\")\n",
    "print(p1)\n",
    "print(isinstance(p1,Person))"
   ]
  },
  {
   "cell_type": "code",
   "execution_count": 22,
   "id": "c8a05fc7",
   "metadata": {},
   "outputs": [],
   "source": [
    "s1 = Student(\"홍길숙\",\"여자\",\"AI\")"
   ]
  },
  {
   "cell_type": "code",
   "execution_count": 23,
   "id": "7233e299",
   "metadata": {},
   "outputs": [
    {
     "name": "stdout",
     "output_type": "stream",
     "text": [
      "홍길숙님의여자의 전공은AI입니다\n"
     ]
    }
   ],
   "source": [
    "s1.print_info()"
   ]
  },
  {
   "cell_type": "code",
   "execution_count": 24,
   "id": "12a2aba6",
   "metadata": {},
   "outputs": [
    {
     "name": "stdout",
     "output_type": "stream",
     "text": [
      "True\n",
      "True\n"
     ]
    }
   ],
   "source": [
    "print(isinstance(s1, Student))\n",
    "print(isinstance(s1,Person))"
   ]
  },
  {
   "cell_type": "markdown",
   "id": "0050df80",
   "metadata": {},
   "source": [
    "### super()이용\n",
    "- super(): \"부모클래스의\"를 의미"
   ]
  },
  {
   "cell_type": "code",
   "execution_count": 25,
   "id": "860d740a",
   "metadata": {},
   "outputs": [],
   "source": [
    "class Person:\n",
    "    def __init__(self, name, gender):\n",
    "        self.name = name # 인스턴스 변수를 초기화\n",
    "        self.gender = gender\n",
    "        print(\"Person객체 생성합니다(부모클래스)\")\n",
    "                \n",
    "    def print_info(self):\n",
    "        print(self)\n",
    "        \n",
    "    def __str__(self):      # 오버라이딩 (함수의 재정의)\n",
    "        return f\"{self.name}님은{self.gender}입니다\"\n",
    "class Student(Person):\n",
    "    def __init__(self,name,gender,major):\n",
    "        super().__init__(name,gender)\n",
    "        self.major = major\n",
    "    # 재정의(override): 부모클래스에서 정의한 함수를 자식클래스에서 다시 정의 \n",
    "    def __str__(self):\n",
    "        return super().__str__() + f\"전공은{self.major}입니다\" "
   ]
  },
  {
   "cell_type": "code",
   "execution_count": 27,
   "id": "16b4bf4f",
   "metadata": {},
   "outputs": [
    {
     "name": "stdout",
     "output_type": "stream",
     "text": [
      "Person객체 생성합니다(부모클래스)\n",
      "아무개님은여자입니다전공은AI입니다\n",
      "아무개님은여자입니다전공은AI입니다\n"
     ]
    }
   ],
   "source": [
    "s2 = Student(\"아무개\",\"여자\",\"AI\")\n",
    "print(s2)\n",
    "s2.print_info()"
   ]
  },
  {
   "cell_type": "markdown",
   "id": "eac8f6c8",
   "metadata": {},
   "source": [
    "### static 변수(정적변수)\n",
    "- static 변수: 앞에 under score2개 (__) 붙임. 클래스명. _클래스명__static변수명으로 참조\n",
    "- static변수는 클래스 내부에서만 접근하도록 하려는 용도"
   ]
  },
  {
   "cell_type": "code",
   "execution_count": 30,
   "id": "34a11f50",
   "metadata": {},
   "outputs": [],
   "source": [
    "class Student(Person):\n",
    "    'name, gender에 major변수를 갖는 Student 타입. Student객체를 몇 번 생성했는지 공유'\n",
    "    __count = 0 # static변수 \n",
    "    def __init__(self,name,gender,major):\n",
    "        super().__init__(name, gender)\n",
    "        self.major= major\n",
    "        Student._Student__count +=1  # 객체가 생성될 때마다 __count 1증가\n",
    "    def __del__(self):\n",
    "        Student._Student__count -=1 # 객체가 소멸될 때마다 __count 1감소\n",
    "    def __str__(self):\n",
    "        return super().__str__() + f\", 전공은 {self.major} -객체 {Student._Student__count}생성\"\n",
    "    @classmethod\n",
    "    def get_count(cls): #클래스변수나 static변수를 이용하는 로직\n",
    "        return cls.__count"
   ]
  },
  {
   "cell_type": "code",
   "execution_count": 34,
   "id": "3a7430ff",
   "metadata": {},
   "outputs": [
    {
     "name": "stdout",
     "output_type": "stream",
     "text": [
      "Person객체 생성합니다(부모클래스)\n",
      "아무개님은여자입니다전공은AI입니다\n",
      "객체 갯수 1\n",
      "객체 갯수 1\n"
     ]
    }
   ],
   "source": [
    "s1 = Student(\"홍길동\",\"남자\",\"컴공\")\n",
    "print(s1)\n",
    "print(\"객체 갯수\",Student.get_count())\n",
    "print(\"객체 갯수\",s1.get_count())"
   ]
  },
  {
   "cell_type": "code",
   "execution_count": 35,
   "id": "1897a023",
   "metadata": {},
   "outputs": [
    {
     "name": "stdout",
     "output_type": "stream",
     "text": [
      "Person객체 생성합니다(부모클래스)\n",
      "홍길동님은남자입니다, 전공은 컴공 -객체 2생성\n",
      "객체 갯수 2\n"
     ]
    }
   ],
   "source": [
    "s2 = Student(\"홍길동\",\"남자\",\"컴공\")\n",
    "print(s2)\n",
    "print(\"객체 갯수\",Student.get_count())\n"
   ]
  },
  {
   "cell_type": "code",
   "execution_count": 36,
   "id": "67586664",
   "metadata": {},
   "outputs": [],
   "source": [
    "del s1"
   ]
  },
  {
   "cell_type": "code",
   "execution_count": 38,
   "id": "c64ce6d5",
   "metadata": {},
   "outputs": [
    {
     "name": "stdout",
     "output_type": "stream",
     "text": [
      "객체 갯수:  1\n"
     ]
    }
   ],
   "source": [
    "print(\"객체 갯수: \",Student.get_count())"
   ]
  },
  {
   "cell_type": "code",
   "execution_count": 39,
   "id": "c1a49cbe",
   "metadata": {},
   "outputs": [],
   "source": [
    "del s2"
   ]
  },
  {
   "cell_type": "code",
   "execution_count": 40,
   "id": "cb87d931",
   "metadata": {},
   "outputs": [
    {
     "name": "stdout",
     "output_type": "stream",
     "text": [
      "객체 갯수:  0\n"
     ]
    }
   ],
   "source": [
    "print(\"객체 갯수: \",Student.get_count())"
   ]
  },
  {
   "cell_type": "markdown",
   "id": "6f8c2d14",
   "metadata": {},
   "source": [
    "# 5절 연습문제\n",
    "## 실습형"
   ]
  },
  {
   "cell_type": "code",
   "execution_count": 25,
   "id": "6d3ee69b",
   "metadata": {},
   "outputs": [],
   "source": [
    "class Shape:\n",
    "    def __init__(self, x=0, y=0):\n",
    "        self.x = x\n",
    "        self.y = y\n",
    "\n",
    "    def move(self, x1, y1):  # x축, y축 이동량\n",
    "        self.x += x1\n",
    "        self.y += y1\n",
    "\n",
    "    def cal_area(self):  # 호출시 강제로 예외발생\n",
    "        raise Exception(\"예외메세지\")\n",
    "\n",
    "    def __str__(self):\n",
    "        return f\"좌표 x축{self.x} y축{self.y}입니다\"\n",
    "\n",
    "    @staticmethod\n",
    "    def staticmethod_():\n",
    "        print('도형클래스의 staticmethod 호출')\n"
   ]
  },
  {
   "cell_type": "code",
   "execution_count": 29,
   "id": "da4b46cd",
   "metadata": {},
   "outputs": [
    {
     "name": "stdout",
     "output_type": "stream",
     "text": [
      "좌표 x축2 y축3입니다\n"
     ]
    },
    {
     "ename": "Exception",
     "evalue": "예외메세지",
     "output_type": "error",
     "traceback": [
      "\u001b[1;31m---------------------------------------------------------------------------\u001b[0m",
      "\u001b[1;31mException\u001b[0m                                 Traceback (most recent call last)",
      "Cell \u001b[1;32mIn[29], line 3\u001b[0m\n\u001b[0;32m      1\u001b[0m s1 \u001b[38;5;241m=\u001b[39m Shape(\u001b[38;5;241m2\u001b[39m,\u001b[38;5;241m3\u001b[39m)\n\u001b[0;32m      2\u001b[0m \u001b[38;5;28mprint\u001b[39m(s1)\n\u001b[1;32m----> 3\u001b[0m \u001b[43ms1\u001b[49m\u001b[38;5;241;43m.\u001b[39;49m\u001b[43mcal_area\u001b[49m\u001b[43m(\u001b[49m\u001b[43m)\u001b[49m\n\u001b[0;32m      4\u001b[0m s1\u001b[38;5;241m.\u001b[39mmove(\u001b[38;5;241m7\u001b[39m,\u001b[38;5;241m2\u001b[39m)\n\u001b[0;32m      5\u001b[0m \u001b[38;5;28mprint\u001b[39m(s1)\n",
      "Cell \u001b[1;32mIn[25], line 11\u001b[0m, in \u001b[0;36mShape.cal_area\u001b[1;34m(self)\u001b[0m\n\u001b[0;32m     10\u001b[0m \u001b[38;5;28;01mdef\u001b[39;00m \u001b[38;5;21mcal_area\u001b[39m(\u001b[38;5;28mself\u001b[39m):  \u001b[38;5;66;03m# 호출시 강제로 예외발생\u001b[39;00m\n\u001b[1;32m---> 11\u001b[0m     \u001b[38;5;28;01mraise\u001b[39;00m \u001b[38;5;167;01mException\u001b[39;00m(\u001b[38;5;124m\"\u001b[39m\u001b[38;5;124m예외메세지\u001b[39m\u001b[38;5;124m\"\u001b[39m)\n",
      "\u001b[1;31mException\u001b[0m: 예외메세지"
     ]
    }
   ],
   "source": [
    "s1 = Shape(2,3)\n",
    "print(s1)\n",
    "s1.cal_area()\n",
    "s1.move(7,2)\n",
    "print(s1)"
   ]
  },
  {
   "cell_type": "code",
   "execution_count": 35,
   "id": "5c54c6db",
   "metadata": {},
   "outputs": [],
   "source": [
    "class Triangle(Shape):\n",
    "    __count = 0\n",
    "    def __init__(self,width,height,x=0,y=0):\n",
    "        super().__init__(x,y)\n",
    "        self.width = width\n",
    "        self.height = height\n",
    "        Triangle._Triangle__count +=1\n",
    "    def __del__(self):\n",
    "        Triangle._Triangle__count -=1\n",
    "        \n",
    "    def calc_area(self):\n",
    "        return (self.width * self.height) / 2\n",
    "    def __str__(self):\n",
    "        return super().__str__()+ f\"삼각형의 좌표 x좌표{self.x} y좌표{self.y} 밑변{self.width} 높이{self.height} 면적{self.calc_area}입니다.\"\n",
    "    @staticmethod\n",
    "    def staticmethod_():\n",
    "        print('도형클래스의 staticmethod 호출')\n",
    "    @classmethod\n",
    "    def get_count(cls):\n",
    "        return cls.__count\n",
    "        "
   ]
  },
  {
   "cell_type": "code",
   "execution_count": 37,
   "id": "defa0873",
   "metadata": {},
   "outputs": [
    {
     "name": "stdout",
     "output_type": "stream",
     "text": [
      "좌표 x축2 y축1입니다삼각형의 좌표 x좌표2 y좌표1 밑변5 높이3 면적<bound method Triangle.calc_area of <__main__.Triangle object at 0x0000015A25D8E0E0>>입니다.\n",
      "객체갯수:  0\n"
     ]
    }
   ],
   "source": [
    "t1 = Triangle(5,3,2,1)\n",
    "print(t1)\n",
    "print(\"객체갯수: \",Triangle.get_count())"
   ]
  },
  {
   "cell_type": "markdown",
   "id": "bc8b0a3a",
   "metadata": {},
   "source": [
    "# 서술형"
   ]
  },
  {
   "cell_type": "code",
   "execution_count": null,
   "id": "430a0f90",
   "metadata": {},
   "outputs": [],
   "source": [
    "#1) "
   ]
  },
  {
   "cell_type": "code",
   "execution_count": null,
   "id": "267d745c",
   "metadata": {},
   "outputs": [],
   "source": [
    "#2)"
   ]
  },
  {
   "cell_type": "code",
   "execution_count": null,
   "id": "e2491bfb",
   "metadata": {},
   "outputs": [],
   "source": [
    "#3)"
   ]
  },
  {
   "cell_type": "code",
   "execution_count": null,
   "id": "aeb76709",
   "metadata": {},
   "outputs": [],
   "source": [
    "#4)"
   ]
  },
  {
   "cell_type": "code",
   "execution_count": null,
   "id": "69cb581c",
   "metadata": {},
   "outputs": [],
   "source": [
    "#5)"
   ]
  },
  {
   "cell_type": "code",
   "execution_count": null,
   "id": "b10583f2",
   "metadata": {},
   "outputs": [],
   "source": [
    "#6)"
   ]
  },
  {
   "cell_type": "code",
   "execution_count": null,
   "id": "1f0695ab",
   "metadata": {},
   "outputs": [],
   "source": [
    "#7)"
   ]
  },
  {
   "cell_type": "code",
   "execution_count": null,
   "id": "a28a1143",
   "metadata": {},
   "outputs": [],
   "source": [
    "#8)"
   ]
  },
  {
   "cell_type": "code",
   "execution_count": null,
   "id": "a9bcdc9f",
   "metadata": {},
   "outputs": [],
   "source": []
  },
  {
   "cell_type": "code",
   "execution_count": null,
   "id": "c8b61004",
   "metadata": {},
   "outputs": [],
   "source": []
  },
  {
   "cell_type": "code",
   "execution_count": null,
   "id": "1008cd96",
   "metadata": {},
   "outputs": [],
   "source": []
  },
  {
   "cell_type": "code",
   "execution_count": null,
   "id": "a67e9bc3",
   "metadata": {},
   "outputs": [],
   "source": []
  },
  {
   "cell_type": "code",
   "execution_count": null,
   "id": "d132841a",
   "metadata": {},
   "outputs": [],
   "source": []
  }
 ],
 "metadata": {
  "kernelspec": {
   "display_name": "Python 3 (ipykernel)",
   "language": "python",
   "name": "python3"
  },
  "language_info": {
   "codemirror_mode": {
    "name": "ipython",
    "version": 3
   },
   "file_extension": ".py",
   "mimetype": "text/x-python",
   "name": "python",
   "nbconvert_exporter": "python",
   "pygments_lexer": "ipython3",
   "version": "3.10.9"
  },
  "toc": {
   "base_numbering": 1,
   "nav_menu": {},
   "number_sections": false,
   "sideBar": true,
   "skip_h1_title": false,
   "title_cell": "Table of Contents",
   "title_sidebar": "Contents",
   "toc_cell": false,
   "toc_position": {
    "height": "calc(100% - 180px)",
    "left": "10px",
    "top": "150px",
    "width": "197.552px"
   },
   "toc_section_display": true,
   "toc_window_display": true
  }
 },
 "nbformat": 4,
 "nbformat_minor": 5
}
