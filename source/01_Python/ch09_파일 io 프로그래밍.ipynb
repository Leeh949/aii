{
 "cells": [
  {
   "cell_type": "code",
   "execution_count": 17,
   "id": "0ed2f0a0",
   "metadata": {},
   "outputs": [
    {
     "data": {
      "text/html": [
       "\n",
       "<style>\n",
       "div.container{width:90% !important;}\n",
       "div.cell.code_cell.rendered{width:100%;}\n",
       "div.input_prompt{padding:0px;}\n",
       "div.CodeMirror {font-family:Consolas; font-size:12pt;}\n",
       "div.text_cell_render.rendered_html{font-size:12pt;}\n",
       "div.output {font-size:12pt; font-weight:bold;}\n",
       "div.input {font-family:Consolas; font-size:12pt;}\n",
       "div.prompt {min-width:70px;}\n",
       "div#toc-wrapper{padding-top:120px;}\n",
       "div.text_cell_render ul li{font-size:12pt;padding:5px;}\n",
       "table.dataframe{font-size:12px;}\n",
       "</style>\n"
      ],
      "text/plain": [
       "<IPython.core.display.HTML object>"
      ]
     },
     "metadata": {},
     "output_type": "display_data"
    }
   ],
   "source": [
    "from IPython.display import display, HTML\n",
    "display(HTML(\"\"\"\n",
    "<style>\n",
    "div.container{width:90% !important;}\n",
    "div.cell.code_cell.rendered{width:100%;}\n",
    "div.input_prompt{padding:0px;}\n",
    "div.CodeMirror {font-family:Consolas; font-size:12pt;}\n",
    "div.text_cell_render.rendered_html{font-size:12pt;}\n",
    "div.output {font-size:12pt; font-weight:bold;}\n",
    "div.input {font-family:Consolas; font-size:12pt;}\n",
    "div.prompt {min-width:70px;}\n",
    "div#toc-wrapper{padding-top:120px;}\n",
    "div.text_cell_render ul li{font-size:12pt;padding:5px;}\n",
    "table.dataframe{font-size:12px;}\n",
    "</style>\n",
    "\"\"\"))\n"
   ]
  },
  {
   "cell_type": "markdown",
   "id": "e8dd4b6a",
   "metadata": {},
   "source": [
    "<b><font size = \"6\" color = \"red\"> ch09. 파일 i/o 프로그래밍 </font></b>\n",
    "- 파일: txt, pickle(머신러닝모델저장, 배열저장), csv, json, h5(딥러닝모델 저장)\n",
    "## 1절 txt파일에 데이터저장하고 불러오기"
   ]
  },
  {
   "cell_type": "code",
   "execution_count": 2,
   "id": "02620318",
   "metadata": {},
   "outputs": [],
   "source": [
    "# 1. *.csv                 - 다수의 데이터\n",
    "# name, age\n",
    "# '홍길동',30\n",
    "# '김길동',20\n",
    "# 2. *.json (open API 결과)  - 다수의 데이터\n",
    "# [{'name':'홍길동','age':30},\n",
    "# {'name':'김길동','age,'20}]\n",
    "# 3.*.xml\n",
    "# <person> (open API 결과)\n",
    "#     <name>홍길동</name>\n",
    "#     <age>30</age>\n",
    "# </person>\n",
    "# <person>\n",
    "#     <name>김길동</name>\n",
    "#     <age>20</age>\n",
    "# </person>\n",
    "# 4. *.xlsx: 엑셀파일\n",
    "    \n",
    "# 5. *.txt: 히스토리 (text저장)\n",
    "# 6. *.h5, *.hdf5 (객체=, dictlist)"
   ]
  },
  {
   "cell_type": "code",
   "execution_count": 3,
   "id": "74a1b254",
   "metadata": {},
   "outputs": [
    {
     "name": "stdout",
     "output_type": "stream",
     "text": [
      "쓰기 가능한지: True\n"
     ]
    },
    {
     "data": {
      "text/plain": [
       "17"
      ]
     },
     "execution_count": 3,
     "metadata": {},
     "output_type": "execute_result"
    }
   ],
   "source": [
    "# mode = 'r' 또는 'rt': 텍스트 읽기모드로 열기. 파일이 없을 경우 예외 발생\n",
    "# mode = 'w' 또는 'wt': 텍스트 쓰기모드로 열기. 폴더가 없을 경우 예외 발생\n",
    "                    # 파일이 없으면 생성, 파일이 있으면 덮어씀\n",
    "# mode = 'a' 또는 'at': 텍스트 쓰기모드로 열기. 폴더가 없을 경우 예외 발생\n",
    "                    #파일이 없으면 생성, 파일이 있으면 뒤에 append\n",
    "f = open('data/ch09.txt','w') # encoding= 'cp949'(win)\n",
    "print('쓰기 가능한지:', f.writable())\n",
    "f.write('Hello\\nWorld\\n안녕파이썬')\n"
   ]
  },
  {
   "cell_type": "code",
   "execution_count": 4,
   "id": "c683a105",
   "metadata": {},
   "outputs": [
    {
     "name": "stdout",
     "output_type": "stream",
     "text": [
      "쓰기 가능한지:  True\n"
     ]
    }
   ],
   "source": [
    "# with구문을 사용면 매번 close()하는 코드가 불필요\n",
    "with open('data/ch09.txt','w') as f:\n",
    "    print(\"쓰기 가능한지: \",f.writable())\n",
    "    f.write('Python is easy.\\nPython is smart.\\n')"
   ]
  },
  {
   "cell_type": "code",
   "execution_count": 5,
   "id": "06df9ebc",
   "metadata": {},
   "outputs": [
    {
     "name": "stdout",
     "output_type": "stream",
     "text": [
      "프린트 함수로 파일 쓰기가 가능합니다- 파일출력\n",
      "프린트 함수로 파일 쓰기가 가능합니다- 콘솔 출력\n"
     ]
    }
   ],
   "source": [
    "with open('data/ch09.txt','a') as file: # cp949\n",
    "    print(\"프린트 함수로 파일 쓰기가 가능합니다- 파일출력\")\n",
    "    print(\"프린트 함수로 파일 쓰기가 가능합니다- 콘솔 출력\")"
   ]
  },
  {
   "cell_type": "markdown",
   "id": "43666f62",
   "metadata": {},
   "source": [
    "- 한글 읽기/쓰기\n",
    "    * cp949(한글완성형확장형): open함수의 기본 인코딩(win)\n",
    "    * utf-8(한글 조합형): 주피터 노트북에서 열기"
   ]
  },
  {
   "cell_type": "code",
   "execution_count": 6,
   "id": "7f33af49",
   "metadata": {},
   "outputs": [],
   "source": [
    "with open('data/ch09.txt','w', encoding=\"utf-8\") as f:\n",
    "    # 방법1\n",
    "    f.write(\"홍길동,30,서울\\n\")\n",
    "    f.write(\"김길동,20,수원\\n\")\n",
    "    # 방법2\n",
    "    textlist= ['홍길동,30,서울\\n','김길동,20,부산\\n']\n",
    "    for line in textlist:\n",
    "        f.write(line)\n",
    "    # 방법3\n",
    "    f.writelines(textlist) #리스트를 한꺼번에 write"
   ]
  },
  {
   "cell_type": "code",
   "execution_count": 7,
   "id": "2e6555e0",
   "metadata": {},
   "outputs": [
    {
     "data": {
      "text/plain": [
       "'홍길동,30,서울\\n김길동,20,수원\\n홍길동,30,서울\\n김길동,20,부산\\n홍길동,30,서울\\n김길동,20,부산\\n'"
      ]
     },
     "execution_count": 7,
     "metadata": {},
     "output_type": "execute_result"
    }
   ],
   "source": [
    "# 파일에 한꺼번에 읽어오기\n",
    "with open('data/ch09.txt','rt',encoding='utf-8') as f:\n",
    "    filecontent = f.read()\n",
    "filecontent\n"
   ]
  },
  {
   "cell_type": "code",
   "execution_count": 8,
   "id": "23bbea33",
   "metadata": {},
   "outputs": [
    {
     "name": "stdout",
     "output_type": "stream",
     "text": [
      "홍길동,30,서울\n",
      "김길동,20,수원\n",
      "홍길동,30,서울\n",
      "김길동,20,부산\n",
      "홍길동,30,서울\n",
      "김길동,20,부산\n"
     ]
    }
   ],
   "source": [
    "# 파일을 한줄 읽고 출력하고, 한줄읽고 출력, ...\n",
    "with open('data/ch09.txt' ,'r',encoding=\"UTF-8\") as txtfile:\n",
    "    line = txtfile.readline()\n",
    "    while line != '':\n",
    "        print(line,end=\"\") #line에 \\n이 포함되어 있어 출력시 개행은 제거\n",
    "        line = txtfile.readline()"
   ]
  },
  {
   "cell_type": "code",
   "execution_count": 9,
   "id": "9b54b33b",
   "metadata": {},
   "outputs": [
    {
     "name": "stdout",
     "output_type": "stream",
     "text": [
      "['홍길동,30,서울\\n', '김길동,20,수원\\n', '홍길동,30,서울\\n', '김길동,20,부산\\n', '홍길동,30,서울\\n', '김길동,20,부산\\n']\n"
     ]
    }
   ],
   "source": [
    "# 파일을 한꺼번에 여러줄을 읽어, 한줄씩 list에 담아 return\n",
    "with open('data/ch09.txt' ,'r',encoding=\"UTF-8\") as txtfile:\n",
    "    lines = txtfile.readlines()\n",
    "print(lines)"
   ]
  },
  {
   "cell_type": "code",
   "execution_count": 10,
   "id": "81b6bbf6",
   "metadata": {},
   "outputs": [
    {
     "name": "stdout",
     "output_type": "stream",
     "text": [
      "홍길동,30,서울\n",
      "김길동,20,수원\n",
      "홍길동,30,서울\n",
      "김길동,20,부산\n",
      "홍길동,30,서울\n",
      "김길동,20,부산\n"
     ]
    }
   ],
   "source": [
    "for line in lines:\n",
    "    print(line,end='')"
   ]
  },
  {
   "cell_type": "markdown",
   "id": "b163c6a2",
   "metadata": {},
   "source": [
    "# 2절 피클을 이용한 객체 저장 및 불러오기\n",
    "- 머신러닝 모델을 저장하거나 배열저장, 객체저장\n",
    "## 2.1 형식이 있는 텍스트 데이터 불러오기"
   ]
  },
  {
   "cell_type": "code",
   "execution_count": 11,
   "id": "8c72e15b",
   "metadata": {},
   "outputs": [
    {
     "name": "stdout",
     "output_type": "stream",
     "text": [
      "{'name': '홍길동', 'age': 20, 'email': 'kildong@hong.com', 'address': '서울시 관악구'}\n",
      "{'name': '홍길숙', 'age': 25, 'email': 'kilsuk1@hong.com', 'address': '서울시 영등포구'}\n",
      "{'name': '신길동', 'age': 30, 'email': 'shinkil@hong.com', 'address': '서울시 동작구'}\n"
     ]
    }
   ],
   "source": [
    "with open('data/ch09_member.txt', 'r', encoding='utf-8') as f:\n",
    "    lines = f.readlines()\n",
    "# print(lines)\n",
    "for line in lines:\n",
    "#     print(line)\n",
    "    data = line.split(', ')\n",
    "#     print(data)\n",
    "    name  = data[0]\n",
    "    age = int(data[1])\n",
    "    email = data[2]\n",
    "    address = data[3].strip()\n",
    "    print({'name':name,\n",
    "          'age':age,\n",
    "          'email':email,\n",
    "          'address':address})\n",
    "    "
   ]
  },
  {
   "cell_type": "code",
   "execution_count": 1,
   "id": "f5acf8ec",
   "metadata": {},
   "outputs": [],
   "source": [
    "class Member:\n",
    "    def __init__(self, name,age,email,address):\n",
    "        self.name = name\n",
    "        self.age = age\n",
    "        self.email= email\n",
    "        self.address = address\n",
    "    def __str__(self):\n",
    "        return f\"{self.name},{self.age},{self.email},{self.address}\"\n",
    "    def __eq__(self,other):\n",
    "        return self.__str__() == other.__str__()\n",
    "    def as_dict(self):\n",
    "        '객체를 딕셔너리로 바꿔 return (json파일 저장시 필요)'\n",
    "        return self.__dict__"
   ]
  },
  {
   "cell_type": "code",
   "execution_count": 3,
   "id": "d929121b",
   "metadata": {},
   "outputs": [
    {
     "name": "stdout",
     "output_type": "stream",
     "text": [
      "신길동,30,shinkil.hong.com,서울시 동작구\n",
      "신길동,30,shinkil.hong.com,서울시 동작구\n",
      "True\n",
      "True\n",
      "{'name': '신길동', 'age': 30, 'email': 'shinkil.hong.com', 'address': '서울시 동작구'}\n",
      "{'name': '신길동', 'age': 30, 'email': 'shinkil.hong.com', 'address': '서울시 동작구'}\n"
     ]
    }
   ],
   "source": [
    "member1 = Member(\"신길동\",30,'shinkil.hong.com','서울시 동작구')\n",
    "member2 = Member(\"신길동\",30,'shinkil.hong.com','서울시 동작구')\n",
    "print(member1.__str__())\n",
    "print(member2)\n",
    "print(member2==member1)\n",
    "print(member2.__eq__(member1))\n",
    "print(member1.__dict__)\n",
    "print(member1.as_dict())"
   ]
  },
  {
   "cell_type": "markdown",
   "id": "637122ec",
   "metadata": {},
   "source": [
    "## 2.2 피클링\n",
    "- 객체리스트 -> 피클파일로 쓰기\n",
    "- 피클파일 -> 객체리스트로 읽기"
   ]
  },
  {
   "cell_type": "code",
   "execution_count": 14,
   "id": "d1bac1d4",
   "metadata": {},
   "outputs": [
    {
     "name": "stdout",
     "output_type": "stream",
     "text": [
      "['홍길동', ' 20', ' kildong@hong.com', ' 서울시 관악구\\n']\n",
      "['홍길숙', ' 25', ' kilsuk1@hong.com', ' 서울시 영등포구\\n']\n",
      "['신길동', ' 30', ' shinkil@hong.com', ' 서울시 동작구']\n"
     ]
    }
   ],
   "source": [
    "# ch09_member.txt파일 -> 객체list, 딕셔너리list로 읽어오기\n",
    "member_list = [] #Member객체 list\n",
    "dict_list = [] #딕셔너리 list\n",
    "with open('data/ch09_member.txt','r',encoding='utf-8') as f:\n",
    "    lines = f.readlines()\n",
    "for line in lines:\n",
    "    data = line.split(',')\n",
    "    print(data)\n",
    "    member = Member(name,age,email,address)\n",
    "    member_list.append(member)\n",
    "    dict_list.append(member.__dict__)\n",
    "    "
   ]
  },
  {
   "cell_type": "code",
   "execution_count": 15,
   "id": "3e4c1f75",
   "metadata": {},
   "outputs": [
    {
     "name": "stdout",
     "output_type": "stream",
     "text": [
      "신길동,30,shinkil@hong.com,서울시 동작구\n",
      "신길동,30,shinkil@hong.com,서울시 동작구\n",
      "신길동,30,shinkil@hong.com,서울시 동작구\n"
     ]
    }
   ],
   "source": [
    "for member in member_list: # 객체 list\n",
    "    print(member)"
   ]
  },
  {
   "cell_type": "code",
   "execution_count": 16,
   "id": "ee6ae39d",
   "metadata": {},
   "outputs": [],
   "source": [
    "# 피클링(확장자: pkl, pickle, data)을 이용한 객체를 파일에 저장하기\n",
    "import pickle\n",
    "with open('data/ch09_member.pkl', 'wb') as f:\n",
    "    pickle.dump(member_list, f)"
   ]
  },
  {
   "cell_type": "code",
   "execution_count": 17,
   "id": "5c898ea7",
   "metadata": {},
   "outputs": [],
   "source": [
    "# 피클링을 이용한 파일을 객체 리스트로 읽기\n",
    "with open('data/ch09_member.pkl', 'rb') as f:\n",
    "    load_member_list = pickle.load(f)"
   ]
  },
  {
   "cell_type": "code",
   "execution_count": 18,
   "id": "9ed2e574",
   "metadata": {},
   "outputs": [
    {
     "data": {
      "text/plain": [
       "(2847887575616, 2847887967872)"
      ]
     },
     "execution_count": 18,
     "metadata": {},
     "output_type": "execute_result"
    }
   ],
   "source": [
    "id (member_list), id (load_member_list)"
   ]
  },
  {
   "cell_type": "code",
   "execution_count": 19,
   "id": "54e7cf22",
   "metadata": {},
   "outputs": [
    {
     "name": "stdout",
     "output_type": "stream",
     "text": [
      "0 번째 비교: True\n",
      "1 번째 비교: True\n",
      "2 번째 비교: True\n"
     ]
    }
   ],
   "source": [
    "for idx in range(len(member_list)):\n",
    "    print(idx, '번째 비교:',(member_list[idx]== load_member_list[idx]))"
   ]
  },
  {
   "cell_type": "code",
   "execution_count": 20,
   "id": "210750f4",
   "metadata": {},
   "outputs": [
    {
     "name": "stdout",
     "output_type": "stream",
     "text": [
      "0 번째 비교: True\n",
      "1 번째 비교: True\n",
      "2 번째 비교: True\n"
     ]
    }
   ],
   "source": [
    "for idx ,(member, load_member) in enumerate(zip(member_list, load_member_list)):\n",
    "    print(idx,'번째 비교:',member==load_member)"
   ]
  },
  {
   "cell_type": "code",
   "execution_count": 21,
   "id": "32d3b77a",
   "metadata": {},
   "outputs": [
    {
     "data": {
      "text/plain": [
       "[True, True, True]"
      ]
     },
     "execution_count": 21,
     "metadata": {},
     "output_type": "execute_result"
    }
   ],
   "source": [
    "result = [] # 비교결과(True/False)를 append\n",
    "for member, load_member in zip(member_list, load_member_list):\n",
    "    result.append(member==load_member)\n",
    "result"
   ]
  },
  {
   "cell_type": "code",
   "execution_count": 22,
   "id": "34cea0a9",
   "metadata": {},
   "outputs": [
    {
     "data": {
      "text/plain": [
       "True"
      ]
     },
     "execution_count": 22,
     "metadata": {},
     "output_type": "execute_result"
    }
   ],
   "source": [
    "all(result) # 모든요소들이 True인지 여부"
   ]
  },
  {
   "cell_type": "code",
   "execution_count": 23,
   "id": "6836dd0c",
   "metadata": {},
   "outputs": [
    {
     "data": {
      "text/plain": [
       "False"
      ]
     },
     "execution_count": 23,
     "metadata": {},
     "output_type": "execute_result"
    }
   ],
   "source": [
    "all([True,True,True,True,True,False])"
   ]
  },
  {
   "cell_type": "markdown",
   "id": "63654a53",
   "metadata": {},
   "source": [
    "# 3절 .*csv파일 읽고 쓰기\n",
    "- CSV파일의 자료를 리스트 데이터로 읽고 쓰기 (3.1 과 3.2)\n",
    "- CSV파일의 자료를 딕셔너리 데이터로 읽고 쓰기 (3.3 과 3.4)\n",
    "## 3.1 reader"
   ]
  },
  {
   "cell_type": "code",
   "execution_count": 24,
   "id": "89f19147",
   "metadata": {},
   "outputs": [
    {
     "data": {
      "text/plain": [
       "[['홍길동', '20', 'kildong@hong.com', '서울시 관악구'],\n",
       " ['김길동', '40', 'kimdong@hong.com', '서울시 영등포구'],\n",
       " ['신길동', '30', 'sindong@hong.com', '서울시 동작구']]"
      ]
     },
     "execution_count": 24,
     "metadata": {},
     "output_type": "execute_result"
    }
   ],
   "source": [
    "import csv\n",
    "with open('data/ch09_member1.csv','r',encoding='utf-8') as f:\n",
    "    reader = csv.reader(f)\n",
    "    result = list(reader)\n",
    "result"
   ]
  },
  {
   "cell_type": "code",
   "execution_count": 25,
   "id": "1a590a06",
   "metadata": {},
   "outputs": [
    {
     "name": "stdout",
     "output_type": "stream",
     "text": [
      "['홍길동', '20', 'kildong@hong.com', '서울시 관악구', '']\n",
      "['김길동', '40', 'kimdong@hong.com', '서울시 영등포구', '팀장']\n",
      "['신길동', '30', 'sindong@hong.com', '서울시 동작구', '']\n"
     ]
    }
   ],
   "source": [
    "with open('data/ch09_member1-cp.csv','r') as f:\n",
    "    reader = csv.reader(f)\n",
    "    for rw in reader:\n",
    "        print(rw)"
   ]
  },
  {
   "cell_type": "code",
   "execution_count": 26,
   "id": "4d6d86bf",
   "metadata": {},
   "outputs": [
    {
     "name": "stdout",
     "output_type": "stream",
     "text": [
      "['홍길동', 20.0, 'kildong@hong.com', '서울시 관악구']\n",
      "['김길동', 40.0, 'kimdong@hong.com', '서울시 영등포구']\n",
      "['신길동', 30.0, 'sindong@hong.com', '서울시 동작구']\n"
     ]
    }
   ],
   "source": [
    "# \"\"(쌍 따옴표) 가 없는 데이터는 numeric으로 \n",
    "with open('data/ch09_member1.csv','r', encoding= 'utf-8') as f:\n",
    "    reader = csv.reader(f, quoting = csv.QUOTE_NONNUMERIC)\n",
    "    for rw in reader:\n",
    "        print(rw)"
   ]
  },
  {
   "cell_type": "markdown",
   "id": "aa922628",
   "metadata": {},
   "source": [
    "## 3.2 writer\n",
    "- list -> csv로 저장"
   ]
  },
  {
   "cell_type": "code",
   "execution_count": 10,
   "id": "1d7c7e3d",
   "metadata": {},
   "outputs": [],
   "source": [
    "user_list = [['신길동', 30.0, 'sindong@hong.com', '서울시 동작구'],['홍길동', 20.0, 'kildong@hong.com', '서울시 관악구'],['김길동', 40.0, 'kimdong@hong.com', '서울시 영등포구']]"
   ]
  },
  {
   "cell_type": "code",
   "execution_count": 12,
   "id": "43ebb03e",
   "metadata": {},
   "outputs": [
    {
     "ename": "NameError",
     "evalue": "name 'csv' is not defined",
     "output_type": "error",
     "traceback": [
      "\u001b[1;31m---------------------------------------------------------------------------\u001b[0m",
      "\u001b[1;31mNameError\u001b[0m                                 Traceback (most recent call last)",
      "Cell \u001b[1;32mIn[12], line 5\u001b[0m\n\u001b[0;32m      2\u001b[0m \u001b[38;5;28;01mtry\u001b[39;00m:\n\u001b[0;32m      4\u001b[0m     \u001b[38;5;28;01mwith\u001b[39;00m \u001b[38;5;28mopen\u001b[39m(\u001b[38;5;124m'\u001b[39m\u001b[38;5;124mdata/ch09_member2-write.csv\u001b[39m\u001b[38;5;124m'\u001b[39m,\u001b[38;5;124m'\u001b[39m\u001b[38;5;124mw\u001b[39m\u001b[38;5;124m'\u001b[39m, newline\u001b[38;5;241m=\u001b[39m\u001b[38;5;124m'\u001b[39m\u001b[38;5;124m'\u001b[39m) \u001b[38;5;28;01mas\u001b[39;00m f:\n\u001b[1;32m----> 5\u001b[0m         writer \u001b[38;5;241m=\u001b[39m \u001b[43mcsv\u001b[49m\u001b[38;5;241m.\u001b[39mwriter(f)\n\u001b[0;32m      6\u001b[0m \u001b[38;5;66;03m#         for user in user_list:\u001b[39;00m\n\u001b[0;32m      7\u001b[0m \u001b[38;5;66;03m#             writer.writerow(user)\u001b[39;00m\n\u001b[0;32m      8\u001b[0m         writer\u001b[38;5;241m.\u001b[39mwriterows(user_list)\n",
      "\u001b[1;31mNameError\u001b[0m: name 'csv' is not defined"
     ]
    }
   ],
   "source": [
    "# newline='' 옵션을 빼면 개행이 2번 이뤄짐(python3.10)\n",
    "try:\n",
    "    \n",
    "    with open('data/ch09_member2-write.csv','w', newline='') as f:\n",
    "        writer = csv.writer(f)\n",
    "#         for user in user_list:\n",
    "#             writer.writerow(user)\n",
    "        writer.writerows(user_list)\n",
    "except FileNotFoundError as e:\n",
    "    print(e)"
   ]
  },
  {
   "cell_type": "markdown",
   "id": "b7d9d6b0",
   "metadata": {},
   "source": [
    "## 3.3 DictReader\n",
    "- CSV파일을 딕셔너리 데이터로 읽기"
   ]
  },
  {
   "cell_type": "code",
   "execution_count": 29,
   "id": "6b76ef14",
   "metadata": {},
   "outputs": [
    {
     "data": {
      "text/plain": [
       "[{'name': '홍길동',\n",
       "  'age': '20',\n",
       "  'email': 'h@h.com',\n",
       "  'address': '서울시 관악구',\n",
       "  'job': None},\n",
       " {'name': '신길동',\n",
       "  'age': '40',\n",
       "  'email': 's@h.com',\n",
       "  'address': '서울시 영등포구',\n",
       "  'job': '팀장'},\n",
       " {'name': '김길동',\n",
       "  'age': '30',\n",
       "  'email': 'k@h.com',\n",
       "  'address': '서울시 동작구',\n",
       "  'job': None}]"
      ]
     },
     "execution_count": 29,
     "metadata": {},
     "output_type": "execute_result"
    }
   ],
   "source": [
    "import csv\n",
    "# header가 있는 csv파일을 딕셔너리로 읽기(ch09_member3.csv)\n",
    "with open('data/ch09_member3.csv','r',encoding='utf-8') as f:\n",
    "    dict_reader = csv.DictReader(f)\n",
    "    result = list(dict_reader)\n",
    "result"
   ]
  },
  {
   "cell_type": "code",
   "execution_count": 30,
   "id": "831c5974",
   "metadata": {},
   "outputs": [
    {
     "name": "stdout",
     "output_type": "stream",
     "text": [
      "{'name': '홍길동', 'age': '20', 'email': 'h@h.com', 'address': '서울시 관악구', 'job': '없음'}\n",
      "{'name': '신길동', 'age': '40', 'email': 's@h.com', 'address': '서울시 영등포구', 'job': '팀장'}\n",
      "{'name': '김길동', 'age': '30', 'email': 'k@h.com', 'address': '서울시 동작구', 'job': '없음'}\n"
     ]
    }
   ],
   "source": [
    "import csv\n",
    "# header가 있는 csv파일을 딕셔너리로 읽기(ch09_member3.csv)\n",
    "with open('data/ch09_member3.csv','r',encoding='utf-8') as f:\n",
    "    dict_reader = csv.DictReader(f, restval=\"없음\")\n",
    "    for row in dict_reader:\n",
    "        print(row)"
   ]
  },
  {
   "cell_type": "code",
   "execution_count": 31,
   "id": "eec4405f",
   "metadata": {},
   "outputs": [
    {
     "data": {
      "text/html": [
       "<div>\n",
       "<style scoped>\n",
       "    .dataframe tbody tr th:only-of-type {\n",
       "        vertical-align: middle;\n",
       "    }\n",
       "\n",
       "    .dataframe tbody tr th {\n",
       "        vertical-align: top;\n",
       "    }\n",
       "\n",
       "    .dataframe thead th {\n",
       "        text-align: right;\n",
       "    }\n",
       "</style>\n",
       "<table border=\"1\" class=\"dataframe\">\n",
       "  <thead>\n",
       "    <tr style=\"text-align: right;\">\n",
       "      <th></th>\n",
       "      <th>name</th>\n",
       "      <th>age</th>\n",
       "      <th>email</th>\n",
       "      <th>address</th>\n",
       "      <th>job</th>\n",
       "    </tr>\n",
       "  </thead>\n",
       "  <tbody>\n",
       "    <tr>\n",
       "      <th>0</th>\n",
       "      <td>홍길동</td>\n",
       "      <td>20</td>\n",
       "      <td>h@h.com</td>\n",
       "      <td>서울시 관악구</td>\n",
       "      <td>NaN</td>\n",
       "    </tr>\n",
       "    <tr>\n",
       "      <th>1</th>\n",
       "      <td>신길동</td>\n",
       "      <td>40</td>\n",
       "      <td>s@h.com</td>\n",
       "      <td>서울시 영등포구</td>\n",
       "      <td>팀장</td>\n",
       "    </tr>\n",
       "    <tr>\n",
       "      <th>2</th>\n",
       "      <td>김길동</td>\n",
       "      <td>30</td>\n",
       "      <td>k@h.com</td>\n",
       "      <td>서울시 동작구</td>\n",
       "      <td>NaN</td>\n",
       "    </tr>\n",
       "  </tbody>\n",
       "</table>\n",
       "</div>"
      ],
      "text/plain": [
       "  name  age    email   address  job\n",
       "0  홍길동   20  h@h.com   서울시 관악구  NaN\n",
       "1  신길동   40  s@h.com  서울시 영등포구   팀장\n",
       "2  김길동   30  k@h.com   서울시 동작구  NaN"
      ]
     },
     "execution_count": 31,
     "metadata": {},
     "output_type": "execute_result"
    }
   ],
   "source": [
    "# csv파일을 데이터프레임 데이터로 읽기\n",
    "import pandas as pd\n",
    "members = pd.read_csv('data/ch09_member3.csv', encoding='utf-8') # 기본 인코딩 방식이 encoding= 'utf-8'\n",
    "members\n"
   ]
  },
  {
   "cell_type": "code",
   "execution_count": 32,
   "id": "cd79eeed",
   "metadata": {},
   "outputs": [
    {
     "name": "stdout",
     "output_type": "stream",
     "text": [
      "{'Name': '홍길동', 'Age': '20', 'Email': 'kildong@hong.com', 'Address': '서울시 관악구', 'Job': ''}\n",
      "{'Name': '김길동', 'Age': '40', 'Email': 'kimdong@hong.com', 'Address': '서울시 영등포구', 'Job': '팀장'}\n",
      "{'Name': '신길동', 'Age': '30', 'Email': 'sindong@hong.com', 'Address': '서울시 동작구', 'Job': ''}\n"
     ]
    }
   ],
   "source": [
    "# header가 없는 CSV파일을 딕셔너리 데이터로 읽기(ch09_memver1-cp.csv)\n",
    "with open('data/ch09_member1-cp.csv','r') as f:\n",
    "    dict_reader = csv.DictReader(f, fieldnames=[\"Name\",\"Age\",\"Email\",\"Address\",\"Job\"])\n",
    "    for row in dict_reader:\n",
    "        print(row)"
   ]
  },
  {
   "cell_type": "code",
   "execution_count": 33,
   "id": "ad21b83c",
   "metadata": {},
   "outputs": [
    {
     "name": "stdout",
     "output_type": "stream",
     "text": [
      "{'Name': '홍길동', 'Age': '20', 'Email': 'kildong@hong.com', 'Address': '서울시 관악구', 'Job': ['']}\n",
      "{'Name': '김길동', 'Age': '40', 'Email': 'kimdong@hong.com', 'Address': '서울시 영등포구', 'Job': ['팀장']}\n",
      "{'Name': '신길동', 'Age': '30', 'Email': 'sindong@hong.com', 'Address': '서울시 동작구', 'Job': ['']}\n"
     ]
    }
   ],
   "source": [
    "# header가 없는 CSV파일을 딕셔너리 데이터로 읽기(ch09_memver1-cp.csv)\n",
    "with open('data/ch09_member1-cp.csv','r') as f:\n",
    "    dict_reader = csv.DictReader(f, fieldnames=[\"Name\",\"Age\",\"Email\",\"Address\"],restkey='Job')\n",
    "    for row in dict_reader:\n",
    "        print(row)"
   ]
  },
  {
   "cell_type": "markdown",
   "id": "032da2e2",
   "metadata": {},
   "source": [
    "## 3.4 DictWriter\n",
    "- 딕셔너리 데이터(딕셔너리 list)를 csv파일로 쓰기"
   ]
  },
  {
   "cell_type": "code",
   "execution_count": 34,
   "id": "d7b0ee54",
   "metadata": {},
   "outputs": [
    {
     "data": {
      "text/plain": [
       "[{'Name': '신길동', 'Age': '30', 'Email': 'sg@hong.com', 'Address': '서울'},\n",
       " {'Name': '홍길동', 'Age': '20', 'Email': 'ho@hong.com', 'Address': '수원'},\n",
       " {'Name': '마길동', 'Age': '25', 'Email': 'ma@hong.com', 'Address': '안양'}]"
      ]
     },
     "execution_count": 34,
     "metadata": {},
     "output_type": "execute_result"
    }
   ],
   "source": [
    "user1 = {'Name': '신길동', 'Age': '30', 'Email': 'sg@hong.com', 'Address': '서울'}\n",
    "user2 = {'Name': '홍길동', 'Age': '20', 'Email': 'ho@hong.com', 'Address': '수원'}\n",
    "user3 = {'Name': '마길동', 'Age': '25', 'Email': 'ma@hong.com', 'Address': '안양'}\n",
    "user_list = [user1, user2,user3]\n",
    "user_list"
   ]
  },
  {
   "cell_type": "code",
   "execution_count": 35,
   "id": "bdcbcb56",
   "metadata": {},
   "outputs": [
    {
     "data": {
      "text/plain": [
       "['Name', 'Age', 'Email', 'Address']"
      ]
     },
     "execution_count": 35,
     "metadata": {},
     "output_type": "execute_result"
    }
   ],
   "source": [
    "fieldnames = list(user1.keys())\n",
    "fieldnames"
   ]
  },
  {
   "cell_type": "code",
   "execution_count": 36,
   "id": "10ec06eb",
   "metadata": {},
   "outputs": [],
   "source": [
    "with open('data/ch09_member4.csv','w',encoding='utf-8', newline='' )as f:\n",
    "    dict_writer = csv.DictWriter(f, fieldnames= fieldnames)\n",
    "    dict_writer.writerows(user_list)\n",
    "    "
   ]
  },
  {
   "cell_type": "markdown",
   "id": "3e3b9d38",
   "metadata": {},
   "source": [
    "# 4절 JSON파일에 저장하고 불러오기(dump, load)\n",
    "[{'title':'국가정보원 화재', 'url':'http://~', 'content':'무시기무기시~'},\n",
    "{'title':'국가정보원 화재', 'url':'http://~', 'content':'무시기무기시~'},\n",
    "{'title':'국가정보원 화재', 'url':'http://~', 'content':'무시기무기시~'},]\n",
    "\n",
    "## 4.1 JSON dump(파일에 저장)\n",
    "### 1. 딕셔너리 list를 json파일로 저장\n"
   ]
  },
  {
   "cell_type": "code",
   "execution_count": 37,
   "id": "cde73812",
   "metadata": {},
   "outputs": [
    {
     "data": {
      "text/plain": [
       "[{'Name': '홍길동', 'Age': '30', 'Email': 'hg@hong.com', 'Address': '서울'},\n",
       " {'Name': '박길동', 'Age': '20', 'Email': 'pg@hong.com', 'Address': '부산'},\n",
       " {'Name': '신길동', 'Age': '25', 'Email': 'sg@hong.com', 'Address': '대전'}]"
      ]
     },
     "execution_count": 37,
     "metadata": {},
     "output_type": "execute_result"
    }
   ],
   "source": [
    "data = [{'Name': '홍길동', 'Age': '30', 'Email': 'hg@hong.com', 'Address': '서울'},\n",
    "       {'Name': '박길동', 'Age': '20', 'Email': 'pg@hong.com', 'Address': '부산'},\n",
    "       {'Name': '신길동', 'Age': '25', 'Email': 'sg@hong.com', 'Address': '대전'},]\n",
    "data"
   ]
  },
  {
   "cell_type": "code",
   "execution_count": 38,
   "id": "524ac6df",
   "metadata": {},
   "outputs": [],
   "source": [
    "# ensure_ascii 옵션의 역할: ASCII 코드를 넘어선 문자를 어떻게 처리할지\n",
    "# 기본값(True): ASCII코드 범위를 넘어선 글자는 유니코드로 저장\n",
    "# False: 비 ASCII 문자는 원래 형태로 그대로 저장\n",
    "import json\n",
    "with open('data/ch09_member1.json','w') as jf:\n",
    "    json.dump(data, # 딕셔너리 리스트\n",
    "             jf, #파일 스트림\n",
    "             ensure_ascii= False, #비 ASCII 코드 문자 처리\n",
    "             indent='  ')  # 들여쓰기 여부"
   ]
  },
  {
   "cell_type": "markdown",
   "id": "354a7625",
   "metadata": {},
   "source": [
    "### 2. 객체 list를 json파일로 저장"
   ]
  },
  {
   "cell_type": "code",
   "execution_count": 39,
   "id": "e83324d6",
   "metadata": {},
   "outputs": [],
   "source": [
    "class Member:\n",
    "    def __init__(self, name,age,email,address):\n",
    "        self.name = name\n",
    "        self.age = age\n",
    "        self.email= email\n",
    "        self.address = address\n",
    "    def __str__(self):\n",
    "        return f\"{self.name},{self.age},{self.email},{self.address}\"\n",
    "#     def __eq__(self,other):\n",
    "#         return self.name == other.name and self.age == other.age and self.email  == other.email and self.address == other.address\n",
    "    def __eq__(self,other):\n",
    "        return self.__str__() == other.__str__()\n",
    "    def as_dict(self):\n",
    "        '객체를 딕셔너리로 바꿔 return (json파일 저장시 필요)'\n",
    "        return self.__dict__"
   ]
  },
  {
   "cell_type": "code",
   "execution_count": 40,
   "id": "e5b8e683",
   "metadata": {},
   "outputs": [
    {
     "data": {
      "text/plain": [
       "['홍길동,30,h@h.com,서울', '마길동,25,m@g.com,하남', '박길동,35,p@p.com,대전']"
      ]
     },
     "execution_count": 40,
     "metadata": {},
     "output_type": "execute_result"
    }
   ],
   "source": [
    "member_list= [Member('홍길동',30,'h@h.com','서울'),\n",
    "             Member('마길동',25,'m@g.com','하남'),\n",
    "             Member('박길동',35,'p@p.com','대전')]\n",
    "[member.__str__() for member in member_list]"
   ]
  },
  {
   "cell_type": "code",
   "execution_count": 41,
   "id": "dbe5a754",
   "metadata": {},
   "outputs": [],
   "source": [
    "with open('data/ch09_member2.json','w') as jf:\n",
    "    json.dump(member_list, #저장할 리스트(객체 리스트)\n",
    "              jf,\n",
    "              ensure_ascii=False,\n",
    "              indent='  ',\n",
    "             default = Member.as_dict) # 객체를 딕셔너리형태로 return 하는 함수"
   ]
  },
  {
   "cell_type": "markdown",
   "id": "37b37897",
   "metadata": {},
   "source": [
    "## 4.2 Json load (파일 읽기)\n",
    "### (1) json파일을 딕셔너리 리스트로 읽기\n",
    "### (2) json파일을 객체 리스트로 읽기(딕셔너리를 객체로 return 하는 함수가 필요)"
   ]
  },
  {
   "cell_type": "code",
   "execution_count": 42,
   "id": "861d51e7",
   "metadata": {},
   "outputs": [
    {
     "data": {
      "text/plain": [
       "[{'Name': '홍길동', 'Age': '30', 'Email': 'hg@hong.com', 'Address': '서울'},\n",
       " {'Name': '박길동', 'Age': '20', 'Email': 'pg@hong.com', 'Address': '부산'},\n",
       " {'Name': '신길동', 'Age': '25', 'Email': 'sg@hong.com', 'Address': '대전'}]"
      ]
     },
     "execution_count": 42,
     "metadata": {},
     "output_type": "execute_result"
    }
   ],
   "source": [
    "# (1) json파일을 딕셔너리 리스트로 읽기\n",
    "with open('data/ch09_member1.json','r') as jf:\n",
    "    load_data= json.load(jf)\n",
    "load_data"
   ]
  },
  {
   "cell_type": "code",
   "execution_count": 43,
   "id": "175bdcc1",
   "metadata": {},
   "outputs": [
    {
     "data": {
      "text/plain": [
       "(list, dict)"
      ]
     },
     "execution_count": 43,
     "metadata": {},
     "output_type": "execute_result"
    }
   ],
   "source": [
    "type(load_data), type(load_data[0])"
   ]
  },
  {
   "cell_type": "code",
   "execution_count": 44,
   "id": "ea688ed1",
   "metadata": {},
   "outputs": [],
   "source": [
    "# (2) json파일을 객체 리스트로 읽기(딕셔너리를 객체로 return 하는 함수가 필요)\n",
    "# {'name': '홍', 'age': 3, 'email': 'h@h', 'address': '설'\n",
    "def as_member(dic):\n",
    "# (dic['name'],dic['age'],dic[email],dic['address']): \n",
    "    return Member(dic.get('name'),dic.get(\"age\"),dic.get(\"email\"),dic.get('address'))"
   ]
  },
  {
   "cell_type": "code",
   "execution_count": 47,
   "id": "4872efbf",
   "metadata": {},
   "outputs": [
    {
     "name": "stdout",
     "output_type": "stream",
     "text": [
      "홍길동,30,h@h.com,서울\n",
      "마길동,25,m@g.com,하남\n",
      "박길동,35,p@p.com,대전\n"
     ]
    }
   ],
   "source": [
    "with  open('data/ch09_member2.json','r') as jf:\n",
    "    load_member_list = json.load(jf, object_hook= as_member) #딕셔너리를 객체로 return함수\n",
    "for load_member in load_member_list:\n",
    "    print(load_member)"
   ]
  },
  {
   "cell_type": "code",
   "execution_count": null,
   "id": "394acc86",
   "metadata": {},
   "outputs": [],
   "source": [
    "# member_list => ch09_member2.json => load_member_list\n",
    "# member_list와 load_member_list가 같은 내용인지 검사\n",
    "class Member:\n",
    "    def __init__(self,name,age,address):\n",
    "        self."
   ]
  },
  {
   "cell_type": "code",
   "execution_count": 46,
   "id": "6fad946c",
   "metadata": {},
   "outputs": [
    {
     "name": "stdout",
     "output_type": "stream",
     "text": [
      "두 객체 리스트의 모든 데이터가 일치하는지 여부:  False\n"
     ]
    }
   ],
   "source": [
    "result = []\n",
    "for member, load_member in zip(member_list, load_member_list):\n",
    "    result.append(member==load_member)\n",
    "print('두 객체 리스트의 모든 데이터가 일치하는지 여부: ',all(result))\n"
   ]
  },
  {
   "cell_type": "code",
   "execution_count": 49,
   "id": "f7b91e16",
   "metadata": {},
   "outputs": [
    {
     "data": {
      "text/plain": [
       "numpy.ndarray"
      ]
     },
     "execution_count": 49,
     "metadata": {},
     "output_type": "execute_result"
    }
   ],
   "source": [
    "# False인 곳의 index가 궁금?\n",
    "import numpy as np\n",
    "result = np.array([True,True,False,True])\n",
    "type(result)"
   ]
  },
  {
   "cell_type": "code",
   "execution_count": 50,
   "id": "dbaf8849",
   "metadata": {},
   "outputs": [
    {
     "data": {
      "text/plain": [
       "{True}"
      ]
     },
     "execution_count": 50,
     "metadata": {},
     "output_type": "execute_result"
    }
   ],
   "source": [
    "result = set()\n",
    "for member, load_member in zip(member_list, load_member_list):\n",
    "    result.add(member == load_member)\n",
    "result"
   ]
  },
  {
   "cell_type": "markdown",
   "id": "cb1914d5",
   "metadata": {},
   "source": [
    "# 5절 hdf5파일 쓰기/읽기\n",
    "- *.hdf5나 *.h5 파일을 볼 수 있는 hdfviwer를 설치\n",
    "- 딕셔너리 리스트, 데이터 프레임, 딥러닝 모델"
   ]
  },
  {
   "cell_type": "code",
   "execution_count": 3,
   "id": "00aac8e4",
   "metadata": {},
   "outputs": [
    {
     "data": {
      "text/html": [
       "<div>\n",
       "<style scoped>\n",
       "    .dataframe tbody tr th:only-of-type {\n",
       "        vertical-align: middle;\n",
       "    }\n",
       "\n",
       "    .dataframe tbody tr th {\n",
       "        vertical-align: top;\n",
       "    }\n",
       "\n",
       "    .dataframe thead th {\n",
       "        text-align: right;\n",
       "    }\n",
       "</style>\n",
       "<table border=\"1\" class=\"dataframe\">\n",
       "  <thead>\n",
       "    <tr style=\"text-align: right;\">\n",
       "      <th></th>\n",
       "      <th>sepal_length</th>\n",
       "      <th>sepal_width</th>\n",
       "      <th>petal_length</th>\n",
       "      <th>petal_width</th>\n",
       "      <th>species</th>\n",
       "    </tr>\n",
       "  </thead>\n",
       "  <tbody>\n",
       "    <tr>\n",
       "      <th>0</th>\n",
       "      <td>5.1</td>\n",
       "      <td>3.5</td>\n",
       "      <td>1.4</td>\n",
       "      <td>0.2</td>\n",
       "      <td>setosa</td>\n",
       "    </tr>\n",
       "    <tr>\n",
       "      <th>1</th>\n",
       "      <td>4.9</td>\n",
       "      <td>3.0</td>\n",
       "      <td>1.4</td>\n",
       "      <td>0.2</td>\n",
       "      <td>setosa</td>\n",
       "    </tr>\n",
       "    <tr>\n",
       "      <th>2</th>\n",
       "      <td>4.7</td>\n",
       "      <td>3.2</td>\n",
       "      <td>1.3</td>\n",
       "      <td>0.2</td>\n",
       "      <td>setosa</td>\n",
       "    </tr>\n",
       "    <tr>\n",
       "      <th>3</th>\n",
       "      <td>4.6</td>\n",
       "      <td>3.1</td>\n",
       "      <td>1.5</td>\n",
       "      <td>0.2</td>\n",
       "      <td>setosa</td>\n",
       "    </tr>\n",
       "    <tr>\n",
       "      <th>4</th>\n",
       "      <td>5.0</td>\n",
       "      <td>3.6</td>\n",
       "      <td>1.4</td>\n",
       "      <td>0.2</td>\n",
       "      <td>setosa</td>\n",
       "    </tr>\n",
       "    <tr>\n",
       "      <th>...</th>\n",
       "      <td>...</td>\n",
       "      <td>...</td>\n",
       "      <td>...</td>\n",
       "      <td>...</td>\n",
       "      <td>...</td>\n",
       "    </tr>\n",
       "    <tr>\n",
       "      <th>145</th>\n",
       "      <td>6.7</td>\n",
       "      <td>3.0</td>\n",
       "      <td>5.2</td>\n",
       "      <td>2.3</td>\n",
       "      <td>virginica</td>\n",
       "    </tr>\n",
       "    <tr>\n",
       "      <th>146</th>\n",
       "      <td>6.3</td>\n",
       "      <td>2.5</td>\n",
       "      <td>5.0</td>\n",
       "      <td>1.9</td>\n",
       "      <td>virginica</td>\n",
       "    </tr>\n",
       "    <tr>\n",
       "      <th>147</th>\n",
       "      <td>6.5</td>\n",
       "      <td>3.0</td>\n",
       "      <td>5.2</td>\n",
       "      <td>2.0</td>\n",
       "      <td>virginica</td>\n",
       "    </tr>\n",
       "    <tr>\n",
       "      <th>148</th>\n",
       "      <td>6.2</td>\n",
       "      <td>3.4</td>\n",
       "      <td>5.4</td>\n",
       "      <td>2.3</td>\n",
       "      <td>virginica</td>\n",
       "    </tr>\n",
       "    <tr>\n",
       "      <th>149</th>\n",
       "      <td>5.9</td>\n",
       "      <td>3.0</td>\n",
       "      <td>5.1</td>\n",
       "      <td>1.8</td>\n",
       "      <td>virginica</td>\n",
       "    </tr>\n",
       "  </tbody>\n",
       "</table>\n",
       "<p>150 rows × 5 columns</p>\n",
       "</div>"
      ],
      "text/plain": [
       "     sepal_length  sepal_width  petal_length  petal_width    species\n",
       "0             5.1          3.5           1.4          0.2     setosa\n",
       "1             4.9          3.0           1.4          0.2     setosa\n",
       "2             4.7          3.2           1.3          0.2     setosa\n",
       "3             4.6          3.1           1.5          0.2     setosa\n",
       "4             5.0          3.6           1.4          0.2     setosa\n",
       "..            ...          ...           ...          ...        ...\n",
       "145           6.7          3.0           5.2          2.3  virginica\n",
       "146           6.3          2.5           5.0          1.9  virginica\n",
       "147           6.5          3.0           5.2          2.0  virginica\n",
       "148           6.2          3.4           5.4          2.3  virginica\n",
       "149           5.9          3.0           5.1          1.8  virginica\n",
       "\n",
       "[150 rows x 5 columns]"
      ]
     },
     "execution_count": 3,
     "metadata": {},
     "output_type": "execute_result"
    }
   ],
   "source": [
    "# seahorn은 파이썬에 데이터 시각화를 도와주는 라이브러리로 자주 쓰이는 데이터 셋\n",
    "import seaborn as sns\n",
    "iris_df = sns.load_dataset(\"iris\")\n",
    "iris_df # 꽃의 종, 꽃받침길이, 꽃받침너비, 꽃잎길이, 꽃잎너비"
   ]
  },
  {
   "cell_type": "code",
   "execution_count": 4,
   "id": "e4b684bb",
   "metadata": {},
   "outputs": [],
   "source": [
    "# 데이터 프레임을 hdf파일로 쓰기\n",
    "iris_df.to_hdf('data/ch09_irisdf.hdf5', key='iris')"
   ]
  },
  {
   "cell_type": "code",
   "execution_count": 8,
   "id": "53bfa98c",
   "metadata": {},
   "outputs": [
    {
     "data": {
      "text/html": [
       "<div>\n",
       "<style scoped>\n",
       "    .dataframe tbody tr th:only-of-type {\n",
       "        vertical-align: middle;\n",
       "    }\n",
       "\n",
       "    .dataframe tbody tr th {\n",
       "        vertical-align: top;\n",
       "    }\n",
       "\n",
       "    .dataframe thead th {\n",
       "        text-align: right;\n",
       "    }\n",
       "</style>\n",
       "<table border=\"1\" class=\"dataframe\">\n",
       "  <thead>\n",
       "    <tr style=\"text-align: right;\">\n",
       "      <th></th>\n",
       "      <th>sepal_length</th>\n",
       "      <th>sepal_width</th>\n",
       "      <th>petal_length</th>\n",
       "      <th>petal_width</th>\n",
       "      <th>species</th>\n",
       "    </tr>\n",
       "  </thead>\n",
       "  <tbody>\n",
       "    <tr>\n",
       "      <th>0</th>\n",
       "      <td>5.1</td>\n",
       "      <td>3.5</td>\n",
       "      <td>1.4</td>\n",
       "      <td>0.2</td>\n",
       "      <td>setosa</td>\n",
       "    </tr>\n",
       "    <tr>\n",
       "      <th>1</th>\n",
       "      <td>4.9</td>\n",
       "      <td>3.0</td>\n",
       "      <td>1.4</td>\n",
       "      <td>0.2</td>\n",
       "      <td>setosa</td>\n",
       "    </tr>\n",
       "    <tr>\n",
       "      <th>2</th>\n",
       "      <td>4.7</td>\n",
       "      <td>3.2</td>\n",
       "      <td>1.3</td>\n",
       "      <td>0.2</td>\n",
       "      <td>setosa</td>\n",
       "    </tr>\n",
       "    <tr>\n",
       "      <th>3</th>\n",
       "      <td>4.6</td>\n",
       "      <td>3.1</td>\n",
       "      <td>1.5</td>\n",
       "      <td>0.2</td>\n",
       "      <td>setosa</td>\n",
       "    </tr>\n",
       "    <tr>\n",
       "      <th>4</th>\n",
       "      <td>5.0</td>\n",
       "      <td>3.6</td>\n",
       "      <td>1.4</td>\n",
       "      <td>0.2</td>\n",
       "      <td>setosa</td>\n",
       "    </tr>\n",
       "    <tr>\n",
       "      <th>...</th>\n",
       "      <td>...</td>\n",
       "      <td>...</td>\n",
       "      <td>...</td>\n",
       "      <td>...</td>\n",
       "      <td>...</td>\n",
       "    </tr>\n",
       "    <tr>\n",
       "      <th>145</th>\n",
       "      <td>6.7</td>\n",
       "      <td>3.0</td>\n",
       "      <td>5.2</td>\n",
       "      <td>2.3</td>\n",
       "      <td>virginica</td>\n",
       "    </tr>\n",
       "    <tr>\n",
       "      <th>146</th>\n",
       "      <td>6.3</td>\n",
       "      <td>2.5</td>\n",
       "      <td>5.0</td>\n",
       "      <td>1.9</td>\n",
       "      <td>virginica</td>\n",
       "    </tr>\n",
       "    <tr>\n",
       "      <th>147</th>\n",
       "      <td>6.5</td>\n",
       "      <td>3.0</td>\n",
       "      <td>5.2</td>\n",
       "      <td>2.0</td>\n",
       "      <td>virginica</td>\n",
       "    </tr>\n",
       "    <tr>\n",
       "      <th>148</th>\n",
       "      <td>6.2</td>\n",
       "      <td>3.4</td>\n",
       "      <td>5.4</td>\n",
       "      <td>2.3</td>\n",
       "      <td>virginica</td>\n",
       "    </tr>\n",
       "    <tr>\n",
       "      <th>149</th>\n",
       "      <td>5.9</td>\n",
       "      <td>3.0</td>\n",
       "      <td>5.1</td>\n",
       "      <td>1.8</td>\n",
       "      <td>virginica</td>\n",
       "    </tr>\n",
       "  </tbody>\n",
       "</table>\n",
       "<p>150 rows × 5 columns</p>\n",
       "</div>"
      ],
      "text/plain": [
       "     sepal_length  sepal_width  petal_length  petal_width    species\n",
       "0             5.1          3.5           1.4          0.2     setosa\n",
       "1             4.9          3.0           1.4          0.2     setosa\n",
       "2             4.7          3.2           1.3          0.2     setosa\n",
       "3             4.6          3.1           1.5          0.2     setosa\n",
       "4             5.0          3.6           1.4          0.2     setosa\n",
       "..            ...          ...           ...          ...        ...\n",
       "145           6.7          3.0           5.2          2.3  virginica\n",
       "146           6.3          2.5           5.0          1.9  virginica\n",
       "147           6.5          3.0           5.2          2.0  virginica\n",
       "148           6.2          3.4           5.4          2.3  virginica\n",
       "149           5.9          3.0           5.1          1.8  virginica\n",
       "\n",
       "[150 rows x 5 columns]"
      ]
     },
     "execution_count": 8,
     "metadata": {},
     "output_type": "execute_result"
    }
   ],
   "source": [
    "# hdf파일을 데이터프레임으로 읽어오기\n",
    "import pandas as pd\n",
    "load_iris_df = pd.read_hdf('data/ch09_irisdf.hdf5', key='iris')\n",
    "load_iris_df"
   ]
  },
  {
   "cell_type": "code",
   "execution_count": 9,
   "id": "57ccc0cb",
   "metadata": {},
   "outputs": [
    {
     "data": {
      "text/plain": [
       "True"
      ]
     },
     "execution_count": 9,
     "metadata": {},
     "output_type": "execute_result"
    }
   ],
   "source": [
    "# 두 데이터프레임이 같은지 여부\n",
    "iris_df.equals(load_iris_df)"
   ]
  },
  {
   "cell_type": "markdown",
   "id": "395afb72",
   "metadata": {},
   "source": [
    "# 6절 연습문제: 고객관리\n",
    "- 프로그램 시작시\n",
    "     * data/ch09_customers.txt(프로그램 종료시 백업용 데이터) 파일이 있으면 파일을 custom_list에 기입\n",
    "     * data/ch09_customers.txt 파일이 없으면 빈 파일 생성(w모드 열어 close)\n",
    "     * data/ch09_customers.txt \n",
    "     ```\n",
    "     홍길동, 010-9999-9999, k@hong.com, 30, 5, vvip\n",
    "     유길동, 010-5432-2222, y@hong.com, 20, 2, 가칠해\n",
    "     ```\n",
    "## Customer 클래스 작성\n",
    "    * Customer(\"홍길동\", \"010-9999-9999\", \"h@h\", 30, 2, '기타') 객체 생성\n",
    "    *            name         phone        email age grade etc\n",
    "    * 함수: __init__ , __str__, as_dic(객체를 딕셔너리로 return), to_txt_style(객체를 text파일)\n",
    "    \n",
    "* 파일불러오기 - 1번을 누르면 파일 읽기 2번 누르면 전체 입력했던 거 출력 "
   ]
  },
  {
   "cell_type": "code",
   "execution_count": 3,
   "id": "c5545036",
   "metadata": {},
   "outputs": [],
   "source": [
    "with open('data/ch09_customers.txt', 'r', encoding='utf-8') as f:\n",
    "    lines = f.readlines()\n",
    "class Customer:\n",
    "    def __init__(self, name, phone, email, age, grade, etc):\n",
    "        self.name = name\n",
    "        self.phone = phone\n",
    "        self.email = email\n",
    "        self.age = age\n",
    "        self.grade = grade\n",
    "        self.etc = etc\n",
    "\n",
    "    def __str__(self):\n",
    "        return f\"이름: {self.name} / 전화: {self.phone} / 이메일: {self.email} / 나이: {self.age} / 학년: {self.grade} / 기타: {self.etc}\"\n",
    "\n",
    "    def to_list_style(self):\n",
    "        return f\"{self.name},{self.phone},{self.email},{self.age},{self.grade},{self.etc}\"\n"
   ]
  },
  {
   "cell_type": "code",
   "execution_count": 4,
   "id": "a38203f8",
   "metadata": {},
   "outputs": [],
   "source": [
    "def load_customer():\n",
    "    customers_list = []\n",
    "    try:\n",
    "        with open('data/ch09_customers.txt','r',encoding='utf-8') as f:\n",
    "            lines = f.readlines()\n",
    "            for line in lines:\n",
    "                line = line.rstrip(\"   \\t\")\n",
    "                if not line:\n",
    "                    continue\n",
    "                name, phone, email, age, grade, etc = line.split(',')\n",
    "                c = Customer(name, phone, email, int(age), int(grade), etc)\n",
    "                customers_list.append(c)\n",
    "    except FileNotFoundError:\n",
    "        with open('data/ch09_customers.txt','w',encoding='utf-8') as f:\n",
    "            pass\n",
    "        print(\"새로운 파일 생성\")\n",
    "    return customers_list"
   ]
  },
  {
   "cell_type": "code",
   "execution_count": 42,
   "id": "b6eba1eb",
   "metadata": {},
   "outputs": [],
   "source": [
    "# 세이브 함수\n",
    "def save_customer(customers):\n",
    "    with open('data/ch09_customers.txt','w',encoding= 'utf-8') as f:\n",
    "        for c in customers:\n",
    "            f.write(c.to_list_style())"
   ]
  },
  {
   "cell_type": "code",
   "execution_count": 6,
   "id": "aec45579",
   "metadata": {},
   "outputs": [],
   "source": [
    "# del 함수\n",
    "def del_customer(customer_list):\n",
    "    name = input(\"삭제할 이름을 입력해주세요: \")\n",
    "    for customer in customer_list:\n",
    "        if customer.name == name:\n",
    "            customer_list.remove(customer)\n",
    "            "
   ]
  },
  {
   "cell_type": "code",
   "execution_count": 7,
   "id": "1ad3b37c",
   "metadata": {},
   "outputs": [],
   "source": [
    "# serch함수\n",
    "def ser_customer(customer_list):\n",
    "    name = input(\"찾을 고객 이름을 입력해주세요:\")\n",
    "   \n",
    "    for customer in customer_list:\n",
    "        if customer.name == name:\n",
    "            print(customer)"
   ]
  },
  {
   "cell_type": "code",
   "execution_count": 46,
   "id": "74121589",
   "metadata": {},
   "outputs": [],
   "source": [
    "def save_customer(customer_list):\n",
    "    import csv\n",
    "    if customer_list:\n",
    "        customer_dict_list = []\n",
    "        for customer in customer_list:\n",
    "            customer_dict_list.append(customer.__dict__)\n",
    "        fieldnames = list(customer_dict_list[0].keys())\n",
    "        filename = input('저장할 csv파일명은(확장자제외)?')\n",
    "        with open('data/{}.csv'.format(filename), 'w', encoding='UTF-8', newline='\\n') as f:\n",
    "            dict_writer = csv.DictWriter(f, fieldnames=fieldnames)\n",
    "            dict_writer.writeheader() # 해더 쓰기\n",
    "            dict_writer.writerows(customer_dict_list) # 데이터 쓰기\n",
    "            print(f'data/{filename}.csv 내보내기 완료')\n",
    "    else:\n",
    "        print('입력된 회원 데이터가 없어서 csv 내보내기를 취소합니다')"
   ]
  },
  {
   "cell_type": "markdown",
   "id": "dda35de6",
   "metadata": {},
   "source": [
    "# 메인 루프"
   ]
  },
  {
   "cell_type": "code",
   "execution_count": 8,
   "id": "961736db",
   "metadata": {},
   "outputs": [],
   "source": [
    "def add_customer(customers_list):\n",
    "    print(\"====고객 정보 입력====\")\n",
    "    name = input(\"이름: \")\n",
    "    phone = input(\"번호: \")\n",
    "    email = input(\"이메일: \")\n",
    "    age = int(input(\"나이: \"))\n",
    "    grade = int(input(\"학년: \"))\n",
    "    etc = input(\"기타: \")\n",
    "\n",
    "    c = Customer(name, phone, email, age, grade, etc)\n",
    "    customers_list.append(c)\n",
    "    print(\"고객추가완료\")\n"
   ]
  },
  {
   "cell_type": "code",
   "execution_count": null,
   "id": "115bd648",
   "metadata": {},
   "outputs": [
    {
     "name": "stdout",
     "output_type": "stream",
     "text": [
      "1:입력 | 2:전체출력 | 3:삭제 | 4:이름찾기 | 5:내보내기(CSV) | 9:종료 메뉴 선택: 5\n",
      "저장할 csv파일명은(확장자제외)?ch09_customer\n",
      "data/ch09_customer.csv 내보내기 완료\n"
     ]
    }
   ],
   "source": [
    "## def main():\n",
    "def main():\n",
    "    customers_list = load_customer()\n",
    "    \n",
    "    while True:\n",
    "        fn = input(\"1:입력 | 2:전체출력 | 3:삭제 | 4:이름찾기 | 5:내보내기(CSV) | 9:종료 메뉴 선택: \")\n",
    "\n",
    "        if fn == '1':\n",
    "            add_customer(customers_list)\n",
    "            \n",
    "        \n",
    "        elif fn == '2':\n",
    "            if not customers_list:\n",
    "                print(\"고객 데이터가 없습니다.\")\n",
    "            else:\n",
    "                print(\"=== 전체 고객 리스트 ===\")\n",
    "                for customer in customers_list:\n",
    "                    print(customer)\n",
    "        \n",
    "        elif fn == '3':\n",
    "            del6_customer(customers_list)\n",
    "            print(\"삭제되었습니다\")\n",
    "        \n",
    "        elif fn == '4':\n",
    "            ser_customer(customers_list)\n",
    "            \n",
    "            \n",
    "        elif fn == '5':\n",
    "            save_customer(customers_list)\n",
    "            \n",
    "            \n",
    "        elif fn == '9':\n",
    "             # 종료 시 저장\n",
    "            break\n",
    "        else:\n",
    "            print(\"잘못된 입력입니다.\")\n",
    "\n",
    "    print(\"BYE\")\n",
    "\n",
    "\n",
    "main()\n"
   ]
  },
  {
   "cell_type": "code",
   "execution_count": null,
   "id": "c01a5d84",
   "metadata": {},
   "outputs": [],
   "source": []
  },
  {
   "cell_type": "code",
   "execution_count": null,
   "id": "33c3dcaa",
   "metadata": {},
   "outputs": [],
   "source": []
  },
  {
   "cell_type": "code",
   "execution_count": null,
   "id": "c7018d50",
   "metadata": {},
   "outputs": [],
   "source": []
  }
 ],
 "metadata": {
  "kernelspec": {
   "display_name": "Python 3 (ipykernel)",
   "language": "python",
   "name": "python3"
  },
  "language_info": {
   "codemirror_mode": {
    "name": "ipython",
    "version": 3
   },
   "file_extension": ".py",
   "mimetype": "text/x-python",
   "name": "python",
   "nbconvert_exporter": "python",
   "pygments_lexer": "ipython3",
   "version": "3.10.9"
  },
  "toc": {
   "base_numbering": 1,
   "nav_menu": {},
   "number_sections": false,
   "sideBar": true,
   "skip_h1_title": false,
   "title_cell": "Table of Contents",
   "title_sidebar": "Contents",
   "toc_cell": false,
   "toc_position": {
    "height": "calc(100% - 180px)",
    "left": "10px",
    "top": "150px",
    "width": "285.764px"
   },
   "toc_section_display": true,
   "toc_window_display": true
  }
 },
 "nbformat": 4,
 "nbformat_minor": 5
}
