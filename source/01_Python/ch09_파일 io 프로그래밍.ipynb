{
 "cells": [
  {
   "cell_type": "code",
   "execution_count": 1,
   "id": "0ed2f0a0",
   "metadata": {},
   "outputs": [
    {
     "data": {
      "text/html": [
       "\n",
       "<style>\n",
       "div.container{width:90% !important;}\n",
       "div.cell.code_cell.rendered{width:100%;}\n",
       "div.input_prompt{padding:0px;}\n",
       "div.CodeMirror {font-family:Consolas; font-size:12pt;}\n",
       "div.text_cell_render.rendered_html{font-size:12pt;}\n",
       "div.output {font-size:12pt; font-weight:bold;}\n",
       "div.input {font-family:Consolas; font-size:12pt;}\n",
       "div.prompt {min-width:70px;}\n",
       "div#toc-wrapper{padding-top:120px;}\n",
       "div.text_cell_render ul li{font-size:12pt;padding:5px;}\n",
       "table.dataframe{font-size:12px;}\n",
       "</style>\n"
      ],
      "text/plain": [
       "<IPython.core.display.HTML object>"
      ]
     },
     "metadata": {},
     "output_type": "display_data"
    }
   ],
   "source": [
    "from IPython.display import display, HTML\n",
    "display(HTML(\"\"\"\n",
    "<style>\n",
    "div.container{width:90% !important;}\n",
    "div.cell.code_cell.rendered{width:100%;}\n",
    "div.input_prompt{padding:0px;}\n",
    "div.CodeMirror {font-family:Consolas; font-size:12pt;}\n",
    "div.text_cell_render.rendered_html{font-size:12pt;}\n",
    "div.output {font-size:12pt; font-weight:bold;}\n",
    "div.input {font-family:Consolas; font-size:12pt;}\n",
    "div.prompt {min-width:70px;}\n",
    "div#toc-wrapper{padding-top:120px;}\n",
    "div.text_cell_render ul li{font-size:12pt;padding:5px;}\n",
    "table.dataframe{font-size:12px;}\n",
    "</style>\n",
    "\"\"\")\n"
   ]
  },
  {
   "cell_type": "markdown",
   "id": "e8dd4b6a",
   "metadata": {},
   "source": [
    "<b><font size = \"6\" color = \"red\"> ch09. 파일 i/o 프로그래밍 </font></b>\n",
    "- 파일: txt, pickle(머신러닝모델저장, 배열저장), csv, json, h5(딥러닝모델 저장)\n",
    "## 1절 txt파일에 데이터저장하고 불러오기"
   ]
  },
  {
   "cell_type": "code",
   "execution_count": 3,
   "id": "02620318",
   "metadata": {},
   "outputs": [],
   "source": [
    "# 1. *.csv\n",
    "# name, age\n",
    "# '홍길동',30\n",
    "# '김길동',20\n",
    "# 2. *.json (open API 결과)\n",
    "# [{'name':'홍길동','age':30},\n",
    "# {'name':'김길동','age,'20}]\n",
    "# 3.*.xml\n",
    "# <person> (open API 결과)\n",
    "#     <name>홍길동</name>\n",
    "#     <age>30</age>\n",
    "# </person>\n",
    "# <person>\n",
    "#     <name>김길동</name>\n",
    "#     <age>20</age>\n",
    "# </person>\n",
    "# 4. *.xlsx: 엑셀파일\n",
    "    \n",
    "# 5. *.txt: 히스토리 "
   ]
  },
  {
   "cell_type": "code",
   "execution_count": 20,
   "id": "74a1b254",
   "metadata": {},
   "outputs": [
    {
     "name": "stdout",
     "output_type": "stream",
     "text": [
      "쓰기 가능한지: True\n"
     ]
    },
    {
     "data": {
      "text/plain": [
       "17"
      ]
     },
     "execution_count": 20,
     "metadata": {},
     "output_type": "execute_result"
    }
   ],
   "source": [
    "# mode = 'r' 또는 'rt': 텍스트 읽기모드로 열기. 파일이 없을 경우 예외 발생\n",
    "# mode = 'w' 또는 'wt': 텍스트 쓰기모드로 열기. 폴더가 없을 경우 예외 발생\n",
    "                    # 파일이 없으면 생성, 파일이 있으면 덮어씀\n",
    "# mode = 'a' 또는 'at': 텍스트 쓰기모드로 열기. 폴더가 없을 경우 예외 발생\n",
    "                    #파일이 없으면 생성, 파일이 있으면 뒤에 append\n",
    "f = open('data/ch09.txt','w') # encoding= 'cp949'(win)\n",
    "print('쓰기 가능한지:', f.writable())\n",
    "f.write('Hello\\nWorld\\n안녕파이썬')\n"
   ]
  },
  {
   "cell_type": "code",
   "execution_count": 21,
   "id": "c683a105",
   "metadata": {},
   "outputs": [
    {
     "name": "stdout",
     "output_type": "stream",
     "text": [
      "쓰기 가능한지:  True\n"
     ]
    }
   ],
   "source": [
    "# with구문을 사용면 매번 close()하는 코드가 불필요\n",
    "with open('data/ch09.txt','w') as f:\n",
    "    print(\"쓰기 가능한지: \",f.writable())\n",
    "    f.write('Python is easy.\\nPython is smart.\\n')"
   ]
  },
  {
   "cell_type": "code",
   "execution_count": 24,
   "id": "06df9ebc",
   "metadata": {},
   "outputs": [
    {
     "name": "stdout",
     "output_type": "stream",
     "text": [
      "프린트 함수로 파일 쓰기가 가능합니다- 파일출력\n",
      "프린트 함수로 파일 쓰기가 가능합니다- 콘솔 출력\n"
     ]
    }
   ],
   "source": [
    "with open('data/ch09.txt','a') as file: # cp949\n",
    "    print(\"프린트 함수로 파일 쓰기가 가능합니다- 파일출력\")\n",
    "    print(\"프린트 함수로 파일 쓰기가 가능합니다- 콘솔 출력\")"
   ]
  },
  {
   "cell_type": "markdown",
   "id": "43666f62",
   "metadata": {},
   "source": [
    "- 한글 읽기/쓰기\n",
    "    * cp949(한글완성형확장형): open함수의 기본 인코딩(win)\n",
    "    * utf-8(한글 조합형): 주피터 노트북에서 열기"
   ]
  }
 ],
 "metadata": {
  "kernelspec": {
   "display_name": "Python 3 (ipykernel)",
   "language": "python",
   "name": "python3"
  },
  "language_info": {
   "codemirror_mode": {
    "name": "ipython",
    "version": 3
   },
   "file_extension": ".py",
   "mimetype": "text/x-python",
   "name": "python",
   "nbconvert_exporter": "python",
   "pygments_lexer": "ipython3",
   "version": "3.10.9"
  },
  "toc": {
   "base_numbering": 1,
   "nav_menu": {},
   "number_sections": false,
   "sideBar": true,
   "skip_h1_title": false,
   "title_cell": "Table of Contents",
   "title_sidebar": "Contents",
   "toc_cell": false,
   "toc_position": {
    "height": "calc(100% - 180px)",
    "left": "10px",
    "top": "150px",
    "width": "165px"
   },
   "toc_section_display": true,
   "toc_window_display": true
  }
 },
 "nbformat": 4,
 "nbformat_minor": 5
}
